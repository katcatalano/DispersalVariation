{
 "cells": [
  {
   "cell_type": "markdown",
   "metadata": {},
   "source": [
    "## Prepare files for fit in Mike Bode's matlab kernel fitting script"
   ]
  },
  {
   "cell_type": "code",
   "execution_count": 7,
   "metadata": {},
   "outputs": [],
   "source": [
    "Packages <- c(\"dplyr\", \"ggplot2\", \"fields\",\"stringr\", \"reshape2\", \"dplyr\", \"tidyr\", \"lubridate\", \"RColorBrewer\")\n",
    "\n",
    "invisible(suppressPackageStartupMessages(lapply(Packages, library, character.only = TRUE)))\n",
    "\n",
    "setwd('/local/home/katrinac/parentage/kernel_fitting/')\n",
    "\n",
    "load(\"~/parentage/r_data/total_sampling_across_years.RData\")\n",
    "load(\"~/parentage/r_data/sampled_area_each_year.RData\")\n",
    "#https://github.com/pinskylab/Clownfish_persistence/blob/master/Data/Script_outputs/cumulative_prop_hab_sampled_by_site.RData)\n",
    "load(\"~/parentage/r_data/cumulative_prop_hab_sampled_by_site.RData\")\n",
    "#download.file(url = \"https://github.com/pinskylab/genomics/blob/master/data/fish-obs.RData?raw=true\", destfile = \"~/parentage/r_data/fish-obs.RData\")\n",
    "fish_obs <- readRDS(\"~/parentage/r_data/fish-obs.RData\") \n",
    "load(\"~/parentage/r_data/site_dist_info.RData\")\n",
    "#download.file(url = \"https://github.com/pinskylab/Clownfish_persistence/blob/master/Data/Data_from_database/anem_db.RData?raw=true\", destfile = \"~/parentage/r_data/anem_db.RData\")\n",
    "load(\"~/parentage/r_data/anem_db.RData\")\n",
    "#download.file(url = \"https://github.com/pinskylab/Clownfish_persistence/blob/master/Data/Data_from_database/dives_db.RData?raw=true\", destfile = \"~/parentage/r_data/dives_db.RData\")\n",
    "load(\"~/parentage/r_data/dives_db.RData\")\n",
    "#download.file(url = \"https://github.com/pinskylab/Clownfish_persistence/blob/master/Data/Data_from_database/fish_db.RData?raw=true\", destfile = \"~/parentage/r_data/dives_db.RData\")\n",
    "load(\"~/parentage/r_data/fish_db.RData\")\n",
    "load(\"~/parentage/r_data/gps_db.RData\")\n",
    "\n",
    "\"%!in%\" <- function(x,table) match(x,table, nomatch = 0) == 0"
   ]
  },
  {
   "cell_type": "code",
   "execution_count": 26,
   "metadata": {},
   "outputs": [],
   "source": [
    "#read in parentage matches\n",
    "par12 <- read.csv(file=\"~/parentage/kernel_fitting/1340_loci/results/parentage12.csv\", header=TRUE)\n",
    "par12$offs_site <- gsub(\". \", \".\", par12$offs_site, fixed=TRUE)\n",
    "par12$par_site <- gsub(\". \", \".\", par12$par_site, fixed=TRUE)\n",
    "\n",
    "par13 <- read.csv(file=\"~/parentage/kernel_fitting/1340_loci/results/parentage13.csv\", header=TRUE)\n",
    "par13$offs_site <- gsub(\". \", \".\", par13$offs_site, fixed=TRUE)\n",
    "par13$par_site <- gsub(\". \", \".\", par13$par_site, fixed=TRUE)\n",
    "\n",
    "par14 <- read.csv(file=\"~/parentage/kernel_fitting/1340_loci/results/parentage14.csv\", header=TRUE)\n",
    "par14$offs_site <- gsub(\". \", \".\", par14$offs_site, fixed=TRUE)\n",
    "par14$par_site <- gsub(\". \", \".\", par14$par_site, fixed=TRUE)\n",
    "\n",
    "par15 <- read.csv(file=\"~/parentage/kernel_fitting/1340_loci/results/parentage15.csv\", header=TRUE)\n",
    "par15$offs_site <- gsub(\". \", \".\", par15$offs_site, fixed=TRUE)\n",
    "par15$par_site <- gsub(\". \", \".\", par15$par_site, fixed=TRUE)\n",
    "\n",
    "par16 <- read.csv(file=\"~/parentage/kernel_fitting/1340_loci/results/parentage16.csv\", header=TRUE)\n",
    "par16$offs_site <- gsub(\". \", \".\", par16$offs_site, fixed=TRUE)\n",
    "par16$par_site <- gsub(\". \", \".\", par16$par_site, fixed=TRUE)\n",
    "\n",
    "par17 <- read.csv(file=\"~/parentage/kernel_fitting/1340_loci/results/parentage17.csv\", header=TRUE)\n",
    "par17$offs_site <- gsub(\". \", \".\", par17$offs_site, fixed=TRUE)\n",
    "par17$par_site <- gsub(\". \", \".\", par17$par_site, fixed=TRUE)\n",
    "\n",
    "par18 <- read.csv(file=\"~/parentage/kernel_fitting/1340_loci/results/parentage18.csv\", header=TRUE)\n",
    "par18$offs_site <- gsub(\". \", \".\", par18$offs_site, fixed=TRUE)\n",
    "par18$par_site <- gsub(\". \", \".\", par18$par_site, fixed=TRUE)\n",
    "\n",
    "#read in demography estimates\n",
    "prop_samp <- cumulative_prop_hab_sampled_by_site %>%\n",
    "    mutate(total_possible_sample_anems = ifelse(site==\"Caridad Proper\", 4, total_possible_sample_anems) ) %>%\n",
    "    mutate(total_prop_hab_sampled_anems_tidied= ifelse(site==\"Caridad Proper\" & total_anems_sampled==4, 1, total_prop_hab_sampled_anems_tidied) ) %>%\n",
    "    mutate(total_possible_sample_anems = ifelse(site==\"Sitio Lonas\", total_anems_sampled, total_possible_sample_anems) ) %>%\n",
    "    mutate(total_prop_hab_sampled_anems_tidied= ifelse(site==\"Sitio Lonas\", 1, total_prop_hab_sampled_anems_tidied) )\n",
    "\n",
    "prop_samp$site <- gsub(\". \", \".\", prop_samp$site, fixed=TRUE)\n",
    "\n",
    "\n",
    "##read in the sites that we sampled each year\n",
    "N_gen_par <- read.table(file=\"~/parentage/colony2/20190523_1340loci/input/all_parents_corrected.txt\", header = TRUE, stringsAsFactors = F) %>%#not sure that I need the parents here\n",
    "    mutate(fish_indiv=as.character(fish_indiv))\n",
    "N_gen_offs <- read.table(file=\"~/parentage/colony2/20190523_1340loci/input/all_offspring_corrected.txt\", header=T, stringsAsFactors = F) %>%\n",
    "    mutate(fish_indiv=as.character(fish_indiv))\n",
    "\n",
    "#read in site geography\n",
    "#dist <- read.csv(\"~/parentage/kernel_fitting/site_centroids.csv.csv\", header=TRUE)\n",
    "area <- as.matrix(read.csv(\"~/parentage/kernel_fitting/1340_loci/input/site_area_header_nonsurveyed.csv\", header=TRUE))\n",
    "centroids <- read.csv(\"~/parentage/kernel_fitting/1340_loci/input/site_centroids.csv\", header=TRUE)\n",
    "sampled_sites <- prop_samp %>% select(site) %>% distinct(site)\n",
    "sampled_sites$site <- gsub(\". \", \".\", sampled_sites$site, fixed=TRUE)\n",
    "site_widths <- read.table(\"/local/home/katrinac/parentage/text_file/site_widths.txt\", header=T, sep=\",\")\n",
    "##read in site names\n",
    "#sites12 <- read.table(file=\"~/migest/annual/2012/20181017_mag_cab_corr/input_sites_2012.txt\", header= TRUE)\n",
    "#sites12$site <- gsub(\"_\", \" \", sites12$site, fixed=TRUE)\n",
    "#sites12$site <- gsub(\". \", \".\", sites12$site, fixed=TRUE)\n",
    "#\n",
    "#\n",
    "#sites13 <- read.table(file=\"~/migest/annual/2013/20181017_mag_cab_corr/input_sites_2013.txt\", header=TRUE)\n",
    "#sites13$site <- gsub(\"_\", \" \", sites13$site, fixed=TRUE)\n",
    "#sites13$site <- gsub(\". \", \".\", sites13$site, fixed=TRUE)\n",
    "#\n",
    "#\n",
    "#sites14 <- read.table(file=\"~/migest/annual/2014/20181017_mag_cab_corr/input_sites_2014.txt\", header=TRUE)\n",
    "#sites14$site <- gsub(\"_\", \" \", sites14$site, fixed=TRUE)\n",
    "#sites14$site <- gsub(\". \", \".\", sites14$site, fixed=TRUE)\n",
    "#\n",
    "#sites15 <- read.table(file=\"~/migest/annual/2015/20181017_mag_cab_corr/input_sites_2015.txt\", header=TRUE)\n",
    "#sites15$site <- gsub(\"_\", \" \", sites15$site, fixed=TRUE)\n",
    "#sites15$site <- gsub(\". \", \".\", sites15$site, fixed=TRUE)\n",
    "#\n",
    "#\n",
    "#\n"
   ]
  },
  {
   "cell_type": "code",
   "execution_count": 9,
   "metadata": {},
   "outputs": [
    {
     "data": {
      "text/plain": [
       "   Min. 1st Qu.  Median    Mean 3rd Qu.    Max.    NA's \n",
       " 0.0000  0.2543  0.4312  0.4881  0.7500  1.0000       8 "
      ]
     },
     "metadata": {},
     "output_type": "display_data"
    },
    {
     "data": {
      "text/html": [
       "0.488096213994247"
      ],
      "text/latex": [
       "0.488096213994247"
      ],
      "text/markdown": [
       "0.488096213994247"
      ],
      "text/plain": [
       "[1] 0.4880962"
      ]
     },
     "metadata": {},
     "output_type": "display_data"
    },
    {
     "data": {
      "text/html": [
       "0.313950184192853"
      ],
      "text/latex": [
       "0.313950184192853"
      ],
      "text/markdown": [
       "0.313950184192853"
      ],
      "text/plain": [
       "[1] 0.3139502"
      ]
     },
     "metadata": {},
     "output_type": "display_data"
    }
   ],
   "source": [
    "#code to get summary stats of across site proportion of habitat sampled\n",
    "summary(prop_samp$total_prop_hab_sampled_anems_tidied)\n",
    "#prop_samp %>% filter(total_prop_hab_sampled_anems_tidied < 0.25)\n",
    "mean(prop_samp$total_prop_hab_sampled_anems_tidied, na.rm = T)\n",
    "sd(prop_samp$total_prop_hab_sampled_anems_tidied, na.rm = T)"
   ]
  },
  {
   "cell_type": "code",
   "execution_count": 3,
   "metadata": {},
   "outputs": [
    {
     "data": {
      "text/plain": [
       "   Min. 1st Qu.  Median    Mean 3rd Qu.    Max.    NA's \n",
       " 0.0000  0.2527  0.4259  0.4869  0.7500  1.0000       8 "
      ]
     },
     "metadata": {},
     "output_type": "display_data"
    },
    {
     "data": {
      "text/html": [
       "0.486859744614508"
      ],
      "text/latex": [
       "0.486859744614508"
      ],
      "text/markdown": [
       "0.486859744614508"
      ],
      "text/plain": [
       "[1] 0.4868597"
      ]
     },
     "metadata": {},
     "output_type": "display_data"
    },
    {
     "data": {
      "text/html": [
       "0.315364247801843"
      ],
      "text/latex": [
       "0.315364247801843"
      ],
      "text/markdown": [
       "0.315364247801843"
      ],
      "text/plain": [
       "[1] 0.3153642"
      ]
     },
     "metadata": {},
     "output_type": "display_data"
    }
   ],
   "source": [
    "#code to get summary stats of across site proportion of habitat sampled\n",
    "summary(prop_samp$total_prop_hab_sampled_anems_tidied)\n",
    "#prop_samp %>% filter(total_prop_hab_sampled_anems_tidied < 0.25)\n",
    "mean(prop_samp$total_prop_hab_sampled_anems_tidied, na.rm = T)\n",
    "sd(prop_samp$total_prop_hab_sampled_anems_tidied, na.rm = T)"
   ]
  },
  {
   "cell_type": "code",
   "execution_count": 10,
   "metadata": {},
   "outputs": [
    {
     "data": {
      "text/html": [
       "791"
      ],
      "text/latex": [
       "791"
      ],
      "text/markdown": [
       "791"
      ],
      "text/plain": [
       "[1] 791"
      ]
     },
     "metadata": {},
     "output_type": "display_data"
    }
   ],
   "source": [
    "#gather the summary of total offspring sampled\n",
    "#from Allison, just putting all the meta data together (Constants_database_common_functions.R)\n",
    "##### Match up other relevant info (site, date, fish_indiv, etc.) to fish in the clownfish table\n",
    "# Pull out year and month into a separate column in dives_db\n",
    "dives_db_processed <- dives_db %>%\n",
    "  mutate(year = as.integer(substring(date,1,4))) %>%\n",
    "  mutate(month = as.integer(substring(date,6,7))) %>%\n",
    "  mutate(dive_date = date(date))\n",
    "\n",
    "# Pull all APCL caught or otherwise in the clownfish table\n",
    "allfish_fish <- fish_db %>%\n",
    "  select(fish_table_id, anem_table_id, fish_spp, sample_id, anem_table_id, recap, tag_id, color, sex, size, fish_obs_time, fish_notes) %>%\n",
    "  filter(fish_spp == 'APCL') %>%\n",
    "  mutate(size = as.numeric(size))  # make the size numeric (rather than chr) so can do means and such\n",
    "\n",
    "# and their corresponding anemones\n",
    "allfish_anems <- anem_db %>%\n",
    "  select(anem_table_id, dive_table_id, anem_obs, anem_id, old_anem_id, anem_notes) %>%\n",
    "  filter(anem_table_id %in% allfish_fish$anem_table_id)\n",
    "\n",
    "# and the corresponding dive info\n",
    "allfish_dives <- dives_db_processed %>%\n",
    "  select(dive_table_id, dive_type, date, year, month, site, gps, dive_notes) %>%\n",
    "  filter(dive_table_id %in% allfish_anems$dive_table_id) \n",
    "\n",
    "# join together\n",
    "allfish_caught <- left_join(allfish_fish, allfish_anems, by=\"anem_table_id\")\n",
    "allfish_caught <- left_join(allfish_caught, allfish_dives, by=\"dive_table_id\")\n",
    "\n",
    "# add in the gen_ids and fish_indiv (now in a separate gen_id table) - gen_id only comes in the time the fish was sequenced, not at all captures\n",
    "allfish_caught <- left_join(allfish_caught, (fish_obs %>% select(fish_table_id, gen_id, fish_indiv)), by = \"fish_table_id\") %>%\n",
    "    select(fish_indiv, sample_id, site) %>%\n",
    "    mutate()\n",
    "\n",
    "N_gen_offs_annual  <- left_join(N_gen_offs, allfish_caught, by=c(\"fish_indiv\", \"sample_id\")) %>% \n",
    "    group_by(year, site) %>%\n",
    "    summarise(n_offs_gen=n()) %>%\n",
    "    ungroup()\n",
    "\n",
    "N_gen_offs_annual$site <- gsub(\". \", \".\", N_gen_offs_annual$site, fixed=TRUE)\n",
    "\n",
    "##for all years\n",
    "N_gen_offs_all <- N_gen_offs_annual %>% \n",
    "    group_by(site) %>% \n",
    "    summarise(sampled_fish=sum(n_offs_gen, na.rm=T))\n",
    "\n",
    "sum(N_gen_offs_all$sampled_fish)#should be 791\n"
   ]
  },
  {
   "cell_type": "code",
   "execution_count": 11,
   "metadata": {},
   "outputs": [
    {
     "data": {
      "text/html": [
       "35"
      ],
      "text/latex": [
       "35"
      ],
      "text/markdown": [
       "35"
      ],
      "text/plain": [
       "[1] 35"
      ]
     },
     "metadata": {},
     "output_type": "display_data"
    }
   ],
   "source": [
    "#index sites to get pop numbers\n",
    "all_sites <- centroids %>%\n",
    "    select(site) %>%\n",
    "    arrange(site)\n",
    "nrow(all_sites) #should be 35x1\n",
    "all_sites$index <- seq(from=1, to=35, by=1)\n"
   ]
  },
  {
   "cell_type": "code",
   "execution_count": 12,
   "metadata": {},
   "outputs": [
    {
     "name": "stderr",
     "output_type": "stream",
     "text": [
      "Joining, by = \"site\"\n",
      "Warning message:\n",
      "“Column `site` joining character vector and factor, coercing into character vector”"
     ]
    }
   ],
   "source": [
    "all_sampled_sites <- inner_join(sampled_sites, all_sites) \n",
    "all_sampled_sites_index <- t(all_sampled_sites %>% select(index))\n",
    "\n",
    "#for all years\n",
    "#write.table(all_sampled_sites_index, file=\"~/parentage/kernel_fitting/1340_loci/site_index_all.csv\", row.names=FALSE, quote=FALSE, col.names=FALSE, sep=\",\")\n",
    "\n"
   ]
  },
  {
   "cell_type": "code",
   "execution_count": 19,
   "metadata": {},
   "outputs": [
    {
     "name": "stderr",
     "output_type": "stream",
     "text": [
      "Warning message:\n",
      "“Column `site` joining factor and character vector, coercing into character vector”"
     ]
    }
   ],
   "source": [
    "##FOR ANNUAL\n",
    "#generate the correct proportion sampled table\n",
    "\n",
    "#correct any NaN or infinities with true values based on whether or not we went to the site\n",
    "\n",
    "for(i in 1:nrow(prop_samp)){\n",
    "    \n",
    "    \n",
    "    if(is.nan(prop_samp$total_prop_hab_sampled_anems_tidied[i])){prop_samp$total_prop_hab_sampled_anems_tidied[i] <- 0} \n",
    "    if(is.infinite(prop_samp$total_prop_hab_sampled_anems_tidied[i])){prop_samp$total_prop_hab_sampled_anems_tidied[i] <- 1}\n",
    "    \n",
    "    \n",
    "}\n",
    "\n",
    "\n",
    "prop_samp12 <- prop_samp %>%\n",
    "    filter(end_year==\"2012\" & total_prop_hab_sampled_anems_tidied >0) %>%\n",
    "    select(site, total_prop_hab_sampled_anems_tidied)\n",
    "\n",
    "\n",
    "##generate list of site indices\n",
    "sites12 <- prop_samp12 %>%\n",
    "    select(site)\n",
    "sites12_2 <- semi_join(all_sites, sites12, by=\"site\") %>%\n",
    "    select(index)\n",
    "sites12t <- t(sites12_2)\n",
    "##write the site index file\n",
    "write.table(sites12t, file=\"~/parentage/kernel_fitting/1340_loci/site_index12.csv\", row.names=FALSE, quote=FALSE, col.names=FALSE, sep=\",\")\n",
    "\n",
    "##write the corrected proportion sampled file\n",
    "prop_samp12 <- prop_samp12 %>%\n",
    "    select(total_prop_hab_sampled_anems_tidied)\n",
    "#write.table(prop_samp12, file=\"~/parentage/kernel_fitting/1340_loci/prop_samp12.csv\", row.names=FALSE, quote=FALSE, col.names=FALSE, sep=\",\")\n"
   ]
  },
  {
   "cell_type": "code",
   "execution_count": null,
   "metadata": {},
   "outputs": [],
   "source": []
  },
  {
   "cell_type": "code",
   "execution_count": 20,
   "metadata": {},
   "outputs": [],
   "source": [
    "##FOR ALL YEARS\n",
    "#generate the correct proportion sampled table\n",
    "prop_samp_all <- prop_samp %>%\n",
    "    filter(time_frame==\"2012-2018\") %>%\n",
    "    arrange(site) %>%\n",
    "    select(total_prop_hab_sampled_anems_tidied)\n",
    "#write.table(prop_samp_all, file=\"~/parentage/kernel_fitting/1340_loci/prop_samp_all.csv\", row.names=FALSE, quote=FALSE, col.names=FALSE, sep=\",\")\n",
    "\n",
    "    "
   ]
  },
  {
   "cell_type": "code",
   "execution_count": 24,
   "metadata": {},
   "outputs": [
    {
     "data": {
      "text/html": [
       "<table>\n",
       "<thead><tr><th scope=col>year</th><th scope=col>offs_site</th><th scope=col>parent_site</th></tr></thead>\n",
       "<tbody>\n",
       "\t<tr><td>2016         </td><td>S.Magbangon  </td><td>Palanas      </td></tr>\n",
       "\t<tr><td>2016         </td><td>N.Magbangon  </td><td>Hicgop South </td></tr>\n",
       "\t<tr><td>2016         </td><td>N.Magbangon  </td><td>Tamakin Dacot</td></tr>\n",
       "\t<tr><td>2016         </td><td>N.Magbangon  </td><td>Hicgop South </td></tr>\n",
       "</tbody>\n",
       "</table>\n"
      ],
      "text/latex": [
       "\\begin{tabular}{r|lll}\n",
       " year & offs\\_site & parent\\_site\\\\\n",
       "\\hline\n",
       "\t 2016          & S.Magbangon   & Palanas      \\\\\n",
       "\t 2016          & N.Magbangon   & Hicgop South \\\\\n",
       "\t 2016          & N.Magbangon   & Tamakin Dacot\\\\\n",
       "\t 2016          & N.Magbangon   & Hicgop South \\\\\n",
       "\\end{tabular}\n"
      ],
      "text/markdown": [
       "\n",
       "| year | offs_site | parent_site |\n",
       "|---|---|---|\n",
       "| 2016          | S.Magbangon   | Palanas       |\n",
       "| 2016          | N.Magbangon   | Hicgop South  |\n",
       "| 2016          | N.Magbangon   | Tamakin Dacot |\n",
       "| 2016          | N.Magbangon   | Hicgop South  |\n",
       "\n"
      ],
      "text/plain": [
       "  year offs_site   parent_site  \n",
       "1 2016 S.Magbangon Palanas      \n",
       "2 2016 N.Magbangon Hicgop South \n",
       "3 2016 N.Magbangon Tamakin Dacot\n",
       "4 2016 N.Magbangon Hicgop South "
      ]
     },
     "metadata": {},
     "output_type": "display_data"
    }
   ],
   "source": [
    "par16"
   ]
  },
  {
   "cell_type": "markdown",
   "metadata": {},
   "source": [
    "## Parentage matrix annually\n"
   ]
  },
  {
   "cell_type": "code",
   "execution_count": 103,
   "metadata": {},
   "outputs": [],
   "source": [
    "#make tallies for the parentage matches by offspring site \n",
    "total_par12 <- par12 %>%\n",
    "    group_by(year, offs_site, par_site) %>%\n",
    "    summarise(n_matches=n()) %>%\n",
    "    ungroup() %>%\n",
    "    select(-year)"
   ]
  },
  {
   "cell_type": "code",
   "execution_count": 104,
   "metadata": {},
   "outputs": [],
   "source": [
    "#add in sites that were sampled, but there wasn't a match made 08/22/2012 wtf was I trying to do here...\n",
    "sites12_beta <- sites12 %>%\n",
    "    #select(-pop) %>%\n",
    "    rename(par_site=\"site\")\n",
    "\n",
    "sites12_beta$offs_site <- sites12_beta$par_site\n",
    "\n",
    "allsites_parentage12 <- full_join(sites12_beta, total_par12, by=c(\"par_site\", \"offs_site\")) %>%\n",
    "    group_by(offs_site, par_site) %>%\n",
    "    filter(row_number()==1) %>%\n",
    "    arrange(offs_site, par_site) #be very careful to keep everything in alphabetical order, consitent with the \"pop\" indexing used in MigEst."
   ]
  },
  {
   "cell_type": "code",
   "execution_count": 105,
   "metadata": {},
   "outputs": [
    {
     "data": {
      "text/html": [
       "3"
      ],
      "text/latex": [
       "3"
      ],
      "text/markdown": [
       "3"
      ],
      "text/plain": [
       "[1] 3"
      ]
     },
     "metadata": {},
     "output_type": "display_data"
    }
   ],
   "source": [
    "#check for the correct number of matches\n",
    "sum(allsites_parentage12$n_matches, na.rm=TRUE)"
   ]
  },
  {
   "cell_type": "code",
   "execution_count": 94,
   "metadata": {},
   "outputs": [],
   "source": [
    "##find sites that aren't represented in both parent and offspring groups. This could happen if we didn't sample a parent site in the year we found the offspring\n",
    "#test2 <- allsites_parentage12 %>%\n",
    "#    ungroup() %>%\n",
    "#    select(offs_site) \n",
    "#add2par <- allsites_parentage12 %>%\n",
    "#    filter(offs_site %!in% test1$par_site)    \n",
    "#\n",
    "#nrow(add2par) #proceed with below is nrow =<1"
   ]
  },
  {
   "cell_type": "code",
   "execution_count": 95,
   "metadata": {},
   "outputs": [],
   "source": [
    "#\n",
    "#test1 <- allsites_parentage12 %>%\n",
    "#    ungroup() %>%\n",
    "#    select(par_site) \n",
    "#\n",
    "#add2offs <- allsites_parentage12 %>%\n",
    "#    filter(par_site %!in% test2$offs_site)\n",
    "#nrow(add2offs) #proceed with below is nobs >=1"
   ]
  },
  {
   "cell_type": "code",
   "execution_count": 96,
   "metadata": {},
   "outputs": [],
   "source": [
    "#############parent sites to add to offspring\n",
    "#        add2offs$offs_site <- add2offs$par_site\n",
    "#        add2offs$n_matches <- 0\n",
    "#\n",
    "############add these missing pairwise comparisons\n",
    "#        allsites_parentage12 <- bind_rows(allsites_parentage12, add2offs)\n",
    "#"
   ]
  },
  {
   "cell_type": "code",
   "execution_count": 97,
   "metadata": {},
   "outputs": [],
   "source": [
    "################offspring sites to add to parent\n",
    "#        add2par$par_site <- add2par$offs_site\n",
    "#        add2par$n_matches <- 0\n",
    "#\n",
    "##add these missing pairwise comparisons\n",
    "#        allsites_parentage12 <- bind_rows(allsites_parentage12, add2par)\n",
    "#\n",
    "#"
   ]
  },
  {
   "cell_type": "code",
   "execution_count": 106,
   "metadata": {
    "scrolled": true
   },
   "outputs": [
    {
     "data": {
      "text/html": [
       "3"
      ],
      "text/latex": [
       "3"
      ],
      "text/markdown": [
       "3"
      ],
      "text/plain": [
       "[1] 3"
      ]
     },
     "metadata": {},
     "output_type": "display_data"
    }
   ],
   "source": [
    "#check for the correct number of matches\n",
    "sum(allsites_parentage12$n_matches, na.rm=TRUE)"
   ]
  },
  {
   "cell_type": "code",
   "execution_count": 107,
   "metadata": {},
   "outputs": [
    {
     "name": "stderr",
     "output_type": "stream",
     "text": [
      "Warning message:\n",
      "“Setting row names on a tibble is deprecated.”"
     ]
    },
    {
     "data": {
      "text/html": [
       "3"
      ],
      "text/latex": [
       "3"
      ],
      "text/markdown": [
       "3"
      ],
      "text/plain": [
       "[1] 3"
      ]
     },
     "metadata": {},
     "output_type": "display_data"
    },
    {
     "data": {
      "text/html": [
       "<ol class=list-inline>\n",
       "\t<li>10</li>\n",
       "\t<li>10</li>\n",
       "</ol>\n"
      ],
      "text/latex": [
       "\\begin{enumerate*}\n",
       "\\item 10\n",
       "\\item 10\n",
       "\\end{enumerate*}\n"
      ],
      "text/markdown": [
       "1. 10\n",
       "2. 10\n",
       "\n",
       "\n"
      ],
      "text/plain": [
       "[1] 10 10"
      ]
     },
     "metadata": {},
     "output_type": "display_data"
    }
   ],
   "source": [
    "#create the matrix with rows (parent pop) and columns (offs pop)\n",
    "parmat12 <- allsites_parentage12 %>% \n",
    "    filter(!is.na(offs_site) & !is.na(par_site)) %>%\n",
    "    group_by(offs_site, par_site) %>%\n",
    "    filter(row_number()==1) %>%\n",
    "    spread(offs_site, n_matches)\n",
    "\n",
    "##change NAs to 0\n",
    "parmat12[is.na(parmat12)] <- 0\n",
    "rownames(parmat12) <- parmat12$par_site\n",
    "parmat12$par_site <- NULL\n",
    "\n",
    "#check for correct number, no NAs\n",
    "sum(parmat12)\n",
    "\n",
    "#check dimensions, should be symmetrical and number of populations sampled (9, 12, 12, 12)\n",
    "dim(parmat12)"
   ]
  },
  {
   "cell_type": "markdown",
   "metadata": {},
   "source": [
    "\n",
    "## add in unassigned juveniles row"
   ]
  },
  {
   "cell_type": "code",
   "execution_count": 108,
   "metadata": {},
   "outputs": [],
   "source": [
    "#select the sites visited each year and filter for year of sampling\n",
    "N_gen_offs_annual$year <- as.numeric(N_gen_offs_annual$year)\n",
    "\n",
    "N_gen_offs2 <- N_gen_offs_annual %>%\n",
    "    filter(year==2012) %>%\n",
    "    group_by(site, year) %>% #add group by year if doing annual\n",
    "    summarise(sampled_fish=sum(n_offs_gen)) \n",
    "\n"
   ]
  },
  {
   "cell_type": "code",
   "execution_count": 109,
   "metadata": {},
   "outputs": [
    {
     "data": {
      "text/html": [
       "<ol class=list-inline>\n",
       "\t<li>11</li>\n",
       "\t<li>10</li>\n",
       "</ol>\n"
      ],
      "text/latex": [
       "\\begin{enumerate*}\n",
       "\\item 11\n",
       "\\item 10\n",
       "\\end{enumerate*}\n"
      ],
      "text/markdown": [
       "1. 11\n",
       "2. 10\n",
       "\n",
       "\n"
      ],
      "text/plain": [
       "[1] 11 10"
      ]
     },
     "metadata": {},
     "output_type": "display_data"
    },
    {
     "data": {
      "text/html": [
       "3"
      ],
      "text/latex": [
       "3"
      ],
      "text/markdown": [
       "3"
      ],
      "text/plain": [
       "[1] 3"
      ]
     },
     "metadata": {},
     "output_type": "display_data"
    },
    {
     "data": {
      "text/html": [
       "60"
      ],
      "text/latex": [
       "60"
      ],
      "text/markdown": [
       "60"
      ],
      "text/plain": [
       "[1] 60"
      ]
     },
     "metadata": {},
     "output_type": "display_data"
    }
   ],
   "source": [
    "#make dataframe with column for unassigned juveniles in each column (offspring site)\n",
    "offs_matched_site <- allsites_parentage12 %>%\n",
    "    group_by(offs_site) %>%\n",
    "    summarise(n_offs=sum(n_matches, na.rm=T))\n",
    "\n",
    "unassigned_beta <- semi_join(offs_matched_site, sites12, by=c(offs_site=\"site\")) %>%\n",
    "    ungroup() %>%\n",
    "    select(offs_site, n_offs)\n",
    "\n",
    "#unassigned_beta[is.na(unassigned_beta)] <- 0\n",
    "\n",
    "\n",
    "net_unassigned <- left_join(unassigned_beta, N_gen_offs2, by=c(offs_site=\"site\")) %>%\n",
    "    mutate(n_unassigned=sampled_fish-n_offs)\n",
    "#transpose to create a row, bind to the matrix\n",
    "\n",
    "row2add <- net_unassigned %>%\n",
    "    arrange(offs_site) %>%\n",
    "    select(n_unassigned, offs_site) %>%\n",
    "    group_by(offs_site) %>%\n",
    "    filter(row_number()==1) %>%\n",
    "    ungroup() %>%\n",
    "    select(n_unassigned)\n",
    "row2addT <- as.data.frame(t(row2add))\n",
    "colnames(row2addT) <- colnames(parmat12)\n",
    "\n",
    "parmat12 <- ungroup(parmat12)\n",
    "parmat_12_full <- bind_rows(parmat12, row2addT)\n",
    "parmat_12_full[is.na(parmat_12_full)] <- 0\n",
    "\n",
    "\n",
    "dim(parmat_12_full) #should have an extra row\n",
    "\n",
    "#checking totals\n",
    "sum(parmat12)\n",
    "sum(row2addT, na.rm = T)"
   ]
  },
  {
   "cell_type": "code",
   "execution_count": 111,
   "metadata": {},
   "outputs": [],
   "source": [
    "#write the matrix\n",
    "#write.table(parmat_12_full, file=\"~/parentage/kernel_fitting/1340_loci/input/parentage_matrix12_corrected.csv\", row.names=FALSE, quote=FALSE, col.names=FALSE, sep=\",\")"
   ]
  },
  {
   "cell_type": "markdown",
   "metadata": {},
   "source": [
    "## for all years average"
   ]
  },
  {
   "cell_type": "code",
   "execution_count": 112,
   "metadata": {},
   "outputs": [],
   "source": [
    "#make an all years parentage matrix to get average kernel\n",
    "all_years_par <- rbind(par12, par13, par14, par15, par16, par17, par18)\n",
    "#make tallies for the parentage matches by offspring site \n",
    "total_all_years_par <- all_years_par %>%\n",
    "    group_by(offs_site, par_site) %>%\n",
    "    summarise(n_matches=n()) %>%\n",
    "    ungroup() "
   ]
  },
  {
   "cell_type": "code",
   "execution_count": 113,
   "metadata": {
    "scrolled": false
   },
   "outputs": [
    {
     "data": {
      "text/html": [
       "71"
      ],
      "text/latex": [
       "71"
      ],
      "text/markdown": [
       "71"
      ],
      "text/plain": [
       "[1] 71"
      ]
     },
     "metadata": {},
     "output_type": "display_data"
    }
   ],
   "source": [
    "sum(total_all_years_par$n_matches)"
   ]
  },
  {
   "cell_type": "code",
   "execution_count": 15,
   "metadata": {},
   "outputs": [
    {
     "data": {
      "text/html": [
       "3"
      ],
      "text/latex": [
       "3"
      ],
      "text/markdown": [
       "3"
      ],
      "text/plain": [
       "[1] 3"
      ]
     },
     "metadata": {},
     "output_type": "display_data"
    }
   ],
   "source": [
    "#test2 <- total_all_years_all %>%\n",
    "#    ungroup() %>%\n",
    "#    select(offs_site) \n",
    "#\n",
    "#add2par <- total_all_years_all %>%\n",
    "#    filter(offs_site %!in% test1$par_site)    \n",
    "#\n",
    "#nrow(add2par) #proceed with below if nrow =<1"
   ]
  },
  {
   "cell_type": "code",
   "execution_count": 14,
   "metadata": {},
   "outputs": [
    {
     "data": {
      "text/html": [
       "1"
      ],
      "text/latex": [
       "1"
      ],
      "text/markdown": [
       "1"
      ],
      "text/plain": [
       "[1] 1"
      ]
     },
     "metadata": {},
     "output_type": "display_data"
    }
   ],
   "source": [
    "##find sites that aren't represented in both parent and offspring groups\n",
    "#\n",
    "#test1 <- total_all_years_all %>%\n",
    "#    ungroup() %>%\n",
    "#    select(par_site) \n",
    "#\n",
    "#add2offs <- total_all_years_all %>%\n",
    "#    filter(par_site %!in% test2$offs_site)\n",
    "#nrow(add2offs) #proceed with below if nrow >=1"
   ]
  },
  {
   "cell_type": "code",
   "execution_count": 16,
   "metadata": {},
   "outputs": [],
   "source": [
    "#############parent sites to add to offspring\n",
    "#        add2offs$offs_site <- add2offs$par_site\n",
    "#        add2offs$n_matches <- 0\n",
    "#\n",
    "############add these missing pairwise comparisons\n",
    "#        total_all_years_all <- bind_rows(total_all_years_all, add2offs)\n",
    "#"
   ]
  },
  {
   "cell_type": "code",
   "execution_count": 17,
   "metadata": {},
   "outputs": [],
   "source": [
    "################offspring sites to add to parent\n",
    "#        add2par$par_site <- add2par$offs_site\n",
    "#        add2par$n_matches <- 0\n",
    "#\n",
    "##add these missing pairwise comparisons\n",
    "#        total_all_years_par <- bind_rows(total_all_years_all, add2par)\n",
    "#\n",
    "#"
   ]
  },
  {
   "cell_type": "code",
   "execution_count": 114,
   "metadata": {},
   "outputs": [
    {
     "data": {
      "text/html": [
       "71"
      ],
      "text/latex": [
       "71"
      ],
      "text/markdown": [
       "71"
      ],
      "text/plain": [
       "[1] 71"
      ]
     },
     "metadata": {},
     "output_type": "display_data"
    }
   ],
   "source": [
    "sum(total_all_years_par$n_matches, na.rm=T)"
   ]
  },
  {
   "cell_type": "code",
   "execution_count": 115,
   "metadata": {},
   "outputs": [],
   "source": [
    "#for all years averages\n",
    "#add in sites that were sampled, but there wasn't a match made 08/22/2018 wtf was I trying to do here...\n",
    "sites_all_beta <- sampled_sites %>%\n",
    "    rename(par_site = \"site\") \n",
    "#undo here if there's a mistake 06/04/2019\n",
    "sites_all_beta$offs_site <- sites_all_beta$par_site\n",
    "\n",
    "\n",
    "allsites_parentage_all <- full_join(sites_all_beta, total_all_years_par, by=c(par_site=\"par_site\", \"offs_site\")) %>%\n",
    "    group_by(offs_site, par_site) %>%\n",
    "    filter(row_number()==1) %>%\n",
    "    arrange(offs_site, par_site) %>%#be very careful to keep everything in alphabetical order, consitent with the \"pop\" indexing used in MigEst.\n",
    "    ungroup()\n",
    "#allsites_parentage_all <- allsites_parentage_all %>%\n",
    "#    group_by(offs_site, par_site) %>%\n",
    "#    summarise(n_matches=n()) %>%\n",
    "#    ungroup() "
   ]
  },
  {
   "cell_type": "code",
   "execution_count": 116,
   "metadata": {},
   "outputs": [
    {
     "data": {
      "text/html": [
       "71"
      ],
      "text/latex": [
       "71"
      ],
      "text/markdown": [
       "71"
      ],
      "text/plain": [
       "[1] 71"
      ]
     },
     "metadata": {},
     "output_type": "display_data"
    }
   ],
   "source": [
    "#check for the correct number of matches\n",
    "sum(allsites_parentage_all$n_matches, na.rm=TRUE) #should be 62"
   ]
  },
  {
   "cell_type": "code",
   "execution_count": 117,
   "metadata": {},
   "outputs": [
    {
     "name": "stderr",
     "output_type": "stream",
     "text": [
      "Warning message:\n",
      "“Setting row names on a tibble is deprecated.”"
     ]
    },
    {
     "data": {
      "text/html": [
       "71"
      ],
      "text/latex": [
       "71"
      ],
      "text/markdown": [
       "71"
      ],
      "text/plain": [
       "[1] 71"
      ]
     },
     "metadata": {},
     "output_type": "display_data"
    },
    {
     "data": {
      "text/html": [
       "<ol class=list-inline>\n",
       "\t<li>19</li>\n",
       "\t<li>19</li>\n",
       "</ol>\n"
      ],
      "text/latex": [
       "\\begin{enumerate*}\n",
       "\\item 19\n",
       "\\item 19\n",
       "\\end{enumerate*}\n"
      ],
      "text/markdown": [
       "1. 19\n",
       "2. 19\n",
       "\n",
       "\n"
      ],
      "text/plain": [
       "[1] 19 19"
      ]
     },
     "metadata": {},
     "output_type": "display_data"
    }
   ],
   "source": [
    "#for all years average\n",
    "#create the matrix with rows (parent pop) and columns (offs pop)\n",
    "parmat_all <- allsites_parentage_all %>% \n",
    "    filter(!is.na(offs_site) & !is.na(par_site)) %>%\n",
    "    group_by(offs_site, par_site) %>%\n",
    "    filter(row_number()==1) %>%\n",
    "    ungroup() %>%\n",
    "    spread(offs_site, n_matches)\n",
    "\n",
    "###change NAs to 0\n",
    "parmat_all[is.na(parmat_all)] <- 0\n",
    "rownames(parmat_all) <- sites_all_beta$par_site\n",
    "parmat_all$par_site <- NULL\n",
    "\n",
    "#check for correct number, no NAs\n",
    "sum(parmat_all)\n",
    "\n",
    "#check dimensions, should be symmetrical and number of populations sampled (9, 17, 15, 15)\n",
    "dim(parmat_all)"
   ]
  },
  {
   "cell_type": "code",
   "execution_count": 118,
   "metadata": {},
   "outputs": [
    {
     "data": {
      "text/html": [
       "<ol class=list-inline>\n",
       "\t<li>20</li>\n",
       "\t<li>19</li>\n",
       "</ol>\n"
      ],
      "text/latex": [
       "\\begin{enumerate*}\n",
       "\\item 20\n",
       "\\item 19\n",
       "\\end{enumerate*}\n"
      ],
      "text/markdown": [
       "1. 20\n",
       "2. 19\n",
       "\n",
       "\n"
      ],
      "text/plain": [
       "[1] 20 19"
      ]
     },
     "metadata": {},
     "output_type": "display_data"
    }
   ],
   "source": [
    "#make dataframe with column for unassigned juveniles in each column (offspring site)\n",
    "unassigned_beta <- left_join(sampled_sites, total_all_years_par, by=c(site=\"offs_site\")) %>%\n",
    "    select(site, n_matches) %>%\n",
    "    group_by(site) %>%\n",
    "    summarise(n_matches=sum(n_matches))\n",
    "unassigned_beta[is.na(unassigned_beta)] <- 0\n",
    "                             \n",
    "\n",
    "net_unassigned <- left_join(unassigned_beta, N_gen_offs_all, by=\"site\") %>%\n",
    "    mutate(n_unassigned=sampled_fish-n_matches)\n",
    "#transpose to create a row, bind to the matrix\n",
    "\n",
    "row2add <- net_unassigned %>%\n",
    "    arrange(site) %>%\n",
    "    select(n_unassigned, site) %>%\n",
    "    group_by(site) %>%\n",
    "    filter(row_number()==1) %>%\n",
    "    ungroup() %>%\n",
    "    select(n_unassigned)\n",
    "row2addT <- as.data.frame(t(row2add))\n",
    "colnames(row2addT) <- colnames(parmat_all)\n",
    "\n",
    "parmat_all <- ungroup(parmat_all)\n",
    "parmat_all_full <- bind_rows(parmat_all, row2addT)\n",
    "parmat_all_full[is.na(parmat_all_full)] <- 0\n",
    "\n",
    "\n",
    "dim(parmat_all_full) #should have an extra row"
   ]
  },
  {
   "cell_type": "code",
   "execution_count": 119,
   "metadata": {},
   "outputs": [
    {
     "data": {
      "text/html": [
       "791"
      ],
      "text/latex": [
       "791"
      ],
      "text/markdown": [
       "791"
      ],
      "text/plain": [
       "[1] 791"
      ]
     },
     "metadata": {},
     "output_type": "display_data"
    }
   ],
   "source": [
    "sum(parmat_all_full) #should be total number of fish in offspring file (for 1340 loci, 791)"
   ]
  },
  {
   "cell_type": "code",
   "execution_count": 121,
   "metadata": {},
   "outputs": [],
   "source": [
    "#write the matrix\n",
    "write.table(parmat_all_full, file=\"~/parentage/kernel_fitting/1340_loci/input/parentage_matrix_allyears.csv\", row.names=FALSE, quote=FALSE, col.names=FALSE, sep=\",\")\n"
   ]
  },
  {
   "cell_type": "code",
   "execution_count": 119,
   "metadata": {},
   "outputs": [],
   "source": [
    "#create distance matrix from site centroids\n",
    "library(geosphere)\n",
    "### List of source locations\n",
    "sites_source <- centroids\n",
    "\n",
    "### List of destination locations\n",
    "sites_dest <- centroids\n",
    "\n",
    "###\n",
    "#dist_mat_km <- rdist.earth(sites_source[,c('lon','lat')], sites_dest[,c('lon','lat')], miles=FALSE, R=6371) #this formula is apparentally less accurate than the Vincenty formula. It gives different distances on the order of about 0.1 decimal places, but that's enough to change the kernel fit estimates SLIGHTLY. I am going to use Vincenty because that's probbly the most accurate and I already did everything that way anyhow. https://stackoverflow.com/questions/38248046/is-the-haversine-formula-or-the-vincentys-formula-better-for-calculating-distan\n",
    "dist_mat_m <- distm(sites_source[,c('lon','lat')], sites_source[,c('lon','lat')], fun=distVincentyEllipsoid)\n",
    "dist_mat_old_km <- dist_mat_m*10^-3"
   ]
  },
  {
   "cell_type": "code",
   "execution_count": 121,
   "metadata": {},
   "outputs": [],
   "source": [
    "#write.table(dist_mat_km, file=\"~/parentage/kernel_fitting/1340_loci/input/distance_matrix_unsurveyed.csv\", row.names=FALSE, quote=FALSE, col.names=FALSE, sep=\",\")\n"
   ]
  },
  {
   "cell_type": "code",
   "execution_count": 164,
   "metadata": {},
   "outputs": [],
   "source": [
    "#site area DOESN'T NEED TO CHANGE FOR EACH YEAR\n",
    "area_10per <- area %>%\n",
    "    arrange(site) %>%\n",
    "    filter(site %!in% c(\"near_north_full1\", \"near_north_full2\", \"near_north_full3\", \"near_south_full1\", \"near_south_full2\", \"near_south_full3\")) %>%\n",
    "    mutate(kmsq=msq*10^-6) %>%\n",
    "    select(kmsq)\n",
    "#DOESN'T NEED TO CHANGE FOR EACH YEAR\n",
    "#write.table(area_10per, file=\"~/parentage/kernel_fitting/894_loci/area_unsurveyed.csv\", row.names=FALSE, quote=FALSE, col.names=FALSE, sep=\",\")\n",
    "\n",
    "#centroids DOESN'T NEED TO CHANGE FOR EACH YEAR\n",
    "centroids <- centroids %>%\n",
    "    arrange(site) %>%\n",
    "    select(lon, lat)\n",
    "#write the corrected centroids file\n",
    "#write.table(centroids, file=\"~/parentage/kernel_fitting/894_loci/centroids_unsurveyed.csv\", row.names=FALSE, quote=FALSE, col.names=FALSE, sep=\",\")\n",
    "\n"
   ]
  },
  {
   "cell_type": "markdown",
   "metadata": {},
   "source": [
    "\n"
   ]
  }
 ],
 "metadata": {
  "kernelspec": {
   "display_name": "R",
   "language": "R",
   "name": "ir"
  },
  "language_info": {
   "codemirror_mode": "r",
   "file_extension": ".r",
   "mimetype": "text/x-r-source",
   "name": "R",
   "pygments_lexer": "r",
   "version": "3.6.1"
  }
 },
 "nbformat": 4,
 "nbformat_minor": 2
}
