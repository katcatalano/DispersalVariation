{
 "cells": [
  {
   "cell_type": "markdown",
   "metadata": {},
   "source": [
    "__Read in the VCF used for the genopop files from Michelle that were used for the parentage paper. \n",
    "Looking through the pinskylab/genomics repo, the genpop I used for parentage came from Michelle /local/home/katrinac/parentage/colony2/20190422_894loci/input/seq33-03_norecap.gen\n",
    "She made this in https://raw.githubusercontent.com/pinskylab/genomics/master/Protocols/05_remove-regenos.md\n",
    "She made it from a genepop file seq33_03_baits_only_SNPs.gen\n",
    "Looks like this was converted to genepop format from FIL_6.recode.vcf.zip (https://github.com/pinskylab/genomics/blob/master/data/FIL_6.recode.vcf.zip) in the script https://raw.githubusercontent.com/pinskylab/genomics/master/Protocols/04_filtering_scheme-6-with-70-35.md\n",
    "Do some quick QC to verify that this was the right source file once complete__"
   ]
  },
  {
   "cell_type": "markdown",
   "metadata": {},
   "source": [
    "__First, get in the right working directory__"
   ]
  },
  {
   "cell_type": "code",
   "execution_count": 9,
   "metadata": {},
   "outputs": [
    {
     "name": "stdout",
     "output_type": "stream",
     "text": [
      "/local/home/katrinac/ClownfishGWAS\n"
     ]
    }
   ],
   "source": [
    "%cd ~/ClownfishGWAS/"
   ]
  },
  {
   "cell_type": "markdown",
   "metadata": {},
   "source": [
    "__Copy the file from genomics directory, unzip the VCF, and then move into our data directory. Then look inside to make sure it looks right__"
   ]
  },
  {
   "cell_type": "code",
   "execution_count": 38,
   "metadata": {},
   "outputs": [],
   "source": [
    "!cp -r ~/genomics/data/FIL_6.recode.vcf.zip ~/ClownfishGWAS/data/ #use -r because we are copying a directory, so needs recursive flag\n"
   ]
  },
  {
   "cell_type": "code",
   "execution_count": 40,
   "metadata": {},
   "outputs": [
    {
     "name": "stdout",
     "output_type": "stream",
     "text": [
      "Archive:  data/FIL_6.recode.vcf.zip/FIL_6.recode.vcf.zip\n",
      "  inflating: FIL_6.recode.vcf        \n",
      "replace __MACOSX/._FIL_6.recode.vcf? [y]es, [n]o, [A]ll, [N]one, [r]ename: ^C\n"
     ]
    }
   ],
   "source": [
    "!unzip data/FIL_6.recode.vcf.zip/FIL_6.recode.vcf.zip #I guess it was stored in a folder called the same thing as a file, no point fixing this it's unzipped "
   ]
  },
  {
   "cell_type": "code",
   "execution_count": 42,
   "metadata": {},
   "outputs": [],
   "source": [
    "!mv FIL_6.recode.vcf data/\n"
   ]
  },
  {
   "cell_type": "code",
   "execution_count": 43,
   "metadata": {},
   "outputs": [
    {
     "name": "stdout",
     "output_type": "stream",
     "text": [
      "##source=freeBayes v1.0.2-58-g054b257\r\n",
      "##reference=reference.fasta\r\n",
      "##contig=<ID=dDocent_Contig_269957,length=211>\r\n",
      "##phasing=none\r\n",
      "##filter=\"AB > 0.2 & AB < 0.8 | AB < 0.01 | AB > 0.99 genotypes filtered with: QR > 0 | QA > 0\"\r\n",
      "##filter=\"QUAL / DP > 0.2\"\r\n",
      "##INFO=<ID=NS,Number=1,Type=Integer,Description=\"Number of samples with data\">\r\n",
      "##INFO=<ID=DP,Number=1,Type=Integer,Description=\"Total read depth at the locus\">\r\n",
      "##INFO=<ID=DPB,Number=1,Type=Float,Description=\"Total read depth per bp at the locus; bases in reads overlapping / bases in haplotype\">\r\n",
      "##INFO=<ID=AC,Number=A,Type=Integer,Description=\"Total number of alternate alleles in called genotypes\">\r\n"
     ]
    }
   ],
   "source": [
    "!head data/FIL_6.recode.vcf"
   ]
  },
  {
   "cell_type": "markdown",
   "metadata": {},
   "source": [
    "__Filter the VCF to only include insidividuals from the parentage analysis quality checked by Michelle, and to only include individuals on HECR or STME__"
   ]
  },
  {
   "cell_type": "code",
   "execution_count": 48,
   "metadata": {},
   "outputs": [
    {
     "name": "stdout",
     "output_type": "stream",
     "text": [
      "\n",
      "VCFtools - 0.1.15\n",
      "(C) Adam Auton and Anthony Marcketta 2009\n",
      "\n",
      "Parameters as interpreted:\n",
      "\t--vcf data/FIL_6.recode.vcf\n",
      "\t--keep script_output/ForMolEcoGroupAnemSppLigIDs.txt\n",
      "\t--recode-INFO-all\n",
      "\t--out script_output/ForMolEcoGroup\n",
      "\t--recode\n",
      "\n",
      "Keeping individuals in 'keep' list\n",
      "After filtering, kept 1521 out of 2908 Individuals\n",
      "Outputting VCF file...\n",
      "After filtering, kept 1005 out of a possible 1005 Sites\n",
      "Run Time = 6.00 seconds\n"
     ]
    }
   ],
   "source": [
    "!vcftools --vcf data/FIL_6.recode.vcf --keep script_output/ForMolEcoGroupAnemSppLigIDs.txt --recode --recode-INFO-all --out script_output/ForMolEcoGroup #get sample names to make sure it's coded with ligation ID"
   ]
  },
  {
   "cell_type": "markdown",
   "metadata": {},
   "source": [
    "__Need to add the VCF file tag to the VCF, because someone in past filtering that file tag was lost from the FIL_6.recode.vcf__"
   ]
  },
  {
   "cell_type": "code",
   "execution_count": null,
   "metadata": {},
   "outputs": [],
   "source": [
    "!sed -i '1 i\\##fileformat=VCFv4.1'  script_output/ForMolEcoGroup.recode.vcf"
   ]
  },
  {
   "cell_type": "markdown",
   "metadata": {},
   "source": [
    "__Convert to plink for GWAS__"
   ]
  },
  {
   "cell_type": "code",
   "execution_count": 100,
   "metadata": {},
   "outputs": [],
   "source": [
    "#!vcftools --vcf script_output/ForMolEcoGroup.recode.vcf --out script_output/ForMolEcoGroup.recode --plink #commented this out so it didn't take up the page"
   ]
  },
  {
   "cell_type": "markdown",
   "metadata": {},
   "source": [
    "__Dangit we need to make our own map https://www.biostars.org/p/109690/__"
   ]
  },
  {
   "cell_type": "code",
   "execution_count": 61,
   "metadata": {},
   "outputs": [],
   "source": [
    "#!bcftools view -H script_output/FIL_6.recodeTest.vcf | cut -f 1 | uniq | awk '{print $0\"\\t\"$0}' > script_output/ForMolEcoGroup.chrom-map.txt"
   ]
  },
  {
   "cell_type": "markdown",
   "metadata": {},
   "source": [
    "__Okay so now we have to fix a problem- the vcf doesn't have contigs names in the header and bcftools wants that, so we have to add it, following instructions here: https://www.biostars.org/p/109690/. First, generate an index file from the fasta file, which we'll use to make a header file. info on fasta.fai https://www.biostars.org/p/98885/__"
   ]
  },
  {
   "cell_type": "code",
   "execution_count": 34,
   "metadata": {},
   "outputs": [],
   "source": [
    "!samtools faidx ~/genomics/data/Pinsky_contigs1050.fasta \n"
   ]
  },
  {
   "cell_type": "code",
   "execution_count": 35,
   "metadata": {
    "scrolled": true
   },
   "outputs": [
    {
     "name": "stdout",
     "output_type": "stream",
     "text": [
      "dDocent_Contig_11\t211\t19\t211\t212\r\n",
      "dDocent_Contig_80\t211\t250\t211\t212\r\n",
      "dDocent_Contig_85\t211\t481\t211\t212\r\n",
      "dDocent_Contig_107\t211\t713\t211\t212\r\n",
      "dDocent_Contig_165\t211\t945\t211\t212\r\n",
      "dDocent_Contig_276\t211\t1177\t211\t212\r\n",
      "dDocent_Contig_315\t211\t1409\t211\t212\r\n",
      "dDocent_Contig_333\t211\t1641\t211\t212\r\n",
      "dDocent_Contig_394\t211\t1873\t211\t212\r\n",
      "dDocent_Contig_398\t211\t2105\t211\t212\r\n"
     ]
    }
   ],
   "source": [
    "!head /local/home/katrinac/genomics/data/Pinsky_contigs1050.fasta.fai "
   ]
  },
  {
   "cell_type": "markdown",
   "metadata": {},
   "source": [
    "__Now we need to use this fasta index file to create a header file to insert into the vcf. The printf () command tells it to print what's in the parentheses. Then, we're using the first column as contig names and the second contig length. Semicolon just lets us do 2 commands in a line.__"
   ]
  },
  {
   "cell_type": "code",
   "execution_count": 42,
   "metadata": {},
   "outputs": [],
   "source": [
    "!awk '{printf(\"##contig=<ID=%s,length=%d>\\n\",$1,$2);}' /local/home/katrinac/genomics/data/Pinsky_contigs1050.fasta.fai > /local/home/katrinac/ClownfishGWAS/script_output/ToEditHeader.txt "
   ]
  },
  {
   "cell_type": "code",
   "execution_count": 43,
   "metadata": {},
   "outputs": [
    {
     "name": "stdout",
     "output_type": "stream",
     "text": [
      "##contig=<ID=dDocent_Contig_11,length=211>\r\n",
      "##contig=<ID=dDocent_Contig_80,length=211>\r\n",
      "##contig=<ID=dDocent_Contig_85,length=211>\r\n",
      "##contig=<ID=dDocent_Contig_107,length=211>\r\n",
      "##contig=<ID=dDocent_Contig_165,length=211>\r\n",
      "##contig=<ID=dDocent_Contig_276,length=211>\r\n",
      "##contig=<ID=dDocent_Contig_315,length=211>\r\n",
      "##contig=<ID=dDocent_Contig_333,length=211>\r\n",
      "##contig=<ID=dDocent_Contig_394,length=211>\r\n",
      "##contig=<ID=dDocent_Contig_398,length=211>\r\n"
     ]
    }
   ],
   "source": [
    "!head /local/home/katrinac/ClownfishGWAS/script_output/ToEditHeader.txt"
   ]
  },
  {
   "cell_type": "code",
   "execution_count": 62,
   "metadata": {},
   "outputs": [],
   "source": [
    "#!awk '/^#CHROM/ { printf(\"##contig=<ID=dDocent_Contig_11,length=211>\\n##contig=<ID=dDocent_Contig_80,length=211>\\n\");} {print;}' script_output/ForMolEcoGroup.recode.vcf > script_output/contigsInHeader.vcf\n",
    "#awk '/^#CHROM/ { printf(\"##contig=<ID=1,length=195471971>\\n##contig=<ID=2,length=182113224>\\n\");} {print;}' in.vcf > out.vcf"
   ]
  },
  {
   "cell_type": "markdown",
   "metadata": {},
   "source": [
    "__Then we take this text doc of files and paste all of it into the VCF file at line 5__"
   ]
  },
  {
   "cell_type": "code",
   "execution_count": 63,
   "metadata": {},
   "outputs": [
    {
     "name": "stdout",
     "output_type": "stream",
     "text": [
      "##fileformat=VCFv4.1\r\n",
      "##source=freeBayes v1.0.2-58-g054b257\r\n",
      "##reference=reference.fasta\r\n",
      "##contig=<ID=dDocent_Contig_11,length=211>\r\n",
      "##contig=<ID=dDocent_Contig_80,length=211>\r\n",
      "##contig=<ID=dDocent_Contig_85,length=211>\r\n",
      "##contig=<ID=dDocent_Contig_107,length=211>\r\n",
      "##contig=<ID=dDocent_Contig_165,length=211>\r\n",
      "##contig=<ID=dDocent_Contig_276,length=211>\r\n",
      "##contig=<ID=dDocent_Contig_315,length=211>\r\n"
     ]
    }
   ],
   "source": [
    "!head script_output/ForMolEcoGroup.recode.vcf"
   ]
  },
  {
   "cell_type": "markdown",
   "metadata": {},
   "source": [
    "__Lastly, we annotate the VCF with bcftools to get the contigs in the header!__"
   ]
  },
  {
   "cell_type": "code",
   "execution_count": 66,
   "metadata": {},
   "outputs": [],
   "source": [
    "!bcftools annotate --set-id +'%CHROM\\_%POS' script_output/ForMolEcoGroup.recode.vcf > script_output/SnpsWithContigIDsForMolEcoGroup.vcf"
   ]
  },
  {
   "cell_type": "markdown",
   "metadata": {},
   "source": [
    "__Now we use bcftools to make our own map file__"
   ]
  },
  {
   "cell_type": "code",
   "execution_count": 67,
   "metadata": {},
   "outputs": [],
   "source": [
    "!bcftools view -H script_output/SnpsWithContigIDsForMolEcoGroup.vcf | cut -f 1 | uniq | awk '{print $0\"\\t\"$0}' > script_output/ForMolEcoGroup.chrom-map.txt"
   ]
  },
  {
   "cell_type": "markdown",
   "metadata": {},
   "source": [
    "__Now, we make a ped file with that map https://www.biostars.org/p/109690/__"
   ]
  },
  {
   "cell_type": "code",
   "execution_count": 90,
   "metadata": {},
   "outputs": [
    {
     "name": "stdout",
     "output_type": "stream",
     "text": [
      "\n",
      "VCFtools - 0.1.15\n",
      "(C) Adam Auton and Anthony Marcketta 2009\n",
      "\n",
      "Parameters as interpreted:\n",
      "\t--vcf script_output/SnpsWithContigIDsForMolEcoGroup.vcf\n",
      "\t--chrom-map script_output/ForMolEcoGroup.chrom-map.txt\n",
      "\t--out script_output/ForMolEcoGroup\n",
      "\t--plink\n",
      "\n",
      "After filtering, kept 1521 out of 1521 Individuals\n",
      "Writing PLINK PED and MAP files ... \n",
      "\tRead 485 chromosome mapping file entries.\n",
      "\tPLINK: Only outputting biallelic loci.\n",
      "Done.\n",
      "After filtering, kept 1005 out of a possible 1005 Sites\n",
      "Run Time = 1.00 seconds\n"
     ]
    }
   ],
   "source": [
    "\n",
    "!vcftools --vcf script_output/SnpsWithContigIDsForMolEcoGroup.vcf  --plink --chrom-map script_output/ForMolEcoGroup.chrom-map.txt --out script_output/ForMolEcoGroup"
   ]
  },
  {
   "cell_type": "markdown",
   "metadata": {},
   "source": [
    "__I then went into R and use the table of fish IDs and corresponding host anem spp to fill in column 6 of the ped, which should house the phenotype__"
   ]
  },
  {
   "cell_type": "markdown",
   "metadata": {},
   "source": [
    "__Filter minor allele frequency and missingness. Then I used a maximum pihat cutoff of 0.25 for the relatedness filtering, based on the logic here https://www.biostars.org/p/75335/\n",
    "I quickly checked this against the Colony relatedness results, and the samples excluded by plink are related according to colony, I think this is fine for our purposes.__"
   ]
  },
  {
   "cell_type": "code",
   "execution_count": 96,
   "metadata": {},
   "outputs": [
    {
     "name": "stdout",
     "output_type": "stream",
     "text": [
      "PLINK v1.90b6.21 64-bit (19 Oct 2020)          www.cog-genomics.org/plink/1.9/\r\n",
      "(C) 2005-2020 Shaun Purcell, Christopher Chang   GNU General Public License v3\r\n",
      "Logging to script_output/ForMolEcoGroup.maf0.2gen0.1NoRelatedness.log.\r\n",
      "Options in effect:\r\n",
      "  --allow-no-sex\r\n",
      "  --file script_output/ForMolEcoGroup.recode\r\n",
      "  --geno 0.1\r\n",
      "  --maf 0.02\r\n",
      "  --make-bed\r\n",
      "  --out script_output/ForMolEcoGroup.maf0.2gen0.1NoRelatedness\r\n",
      "  --rel-cutoff 0.25\r\n",
      "\r\n",
      "515706 MB RAM detected; reserving 257853 MB for main workspace.\r\n",
      "Scanning .ped file... 0%\b\b1%\b\b1%\b\b1%\b\b1%\b\b1%\b\b1%\b\b1%\b\b1%\b\b1%\b\b1%\b\b1%\b\b1%\b\b1%\b\b1%\b\b1%\b\b2%\b\b2%\b\b2%\b\b2%\b\b2%\b\b2%\b\b2%\b\b2%\b\b2%\b\b2%\b\b2%\b\b2%\b\b2%\b\b2%\b\b2%\b\b3%\b\b3%\b\b3%\b\b3%\b\b3%\b\b3%\b\b3%\b\b3%\b\b3%\b\b3%\b\b3%\b\b3%\b\b3%\b\b3%\b\b3%\b\b4%\b\b4%\b\b4%\b\b4%\b\b4%\b\b4%\b\b4%\b\b4%\b\b4%\b\b4%\b\b4%\b\b4%\b\b4%\b\b4%\b\b4%\b\b4%\b\b5%\b\b5%\b\b5%\b\b5%\b\b5%\b\b5%\b\b5%\b\b5%\b\b5%\b\b5%\b\b5%\b\b5%\b\b5%\b\b5%\b\b5%\b\b6%\b\b6%\b\b6%\b\b6%\b\b6%\b\b6%\b\b6%\b\b6%\b\b6%\b\b6%\b\b6%\b\b6%\b\b6%\b\b6%\b\b6%\b\b7%\b\b7%\b\b7%\b\b7%\b\b7%\b\b7%\b\b7%\b\b7%\b\b7%\b\b7%\b\b7%\b\b7%\b\b7%\b\b7%\b\b7%\b\b8%\b\b8%\b\b8%\b\b8%\b\b8%\b\b8%\b\b8%\b\b8%\b\b8%\b\b8%\b\b8%\b\b8%\b\b8%\b\b8%\b\b8%\b\b9%\b\b9%\b\b9%\b\b9%\b\b9%\b\b9%\b\b9%\b\b9%\b\b9%\b\b9%\b\b9%\b\b9%\b\b9%\b\b9%\b\b9%\b\b9%\b\b10%\b\b\b10%\b\b\b10%\b\b\b10%\b\b\b10%\b\b\b10%\b\b\b10%\b\b\b10%\b\b\b10%\b\b\b10%\b\b\b10%\b\b\b10%\b\b\b10%\b\b\b10%\b\b\b10%\b\b\b11%\b\b\b11%\b\b\b11%\b\b\b11%\b\b\b11%\b\b\b11%\b\b\b11%\b\b\b11%\b\b\b11%\b\b\b11%\b\b\b11%\b\b\b11%\b\b\b11%\b\b\b11%\b\b\b11%\b\b\b12%\b\b\b12%\b\b\b12%\b\b\b12%\b\b\b12%\b\b\b12%\b\b\b12%\b\b\b12%\b\b\b12%\b\b\b12%\b\b\b12%\b\b\b12%\b\b\b12%\b\b\b12%\b\b\b12%\b\b\b13%\b\b\b13%\b\b\b13%\b\b\b13%\b\b\b13%\b\b\b13%\b\b\b13%\b\b\b13%\b\b\b13%\b\b\b13%\b\b\b13%\b\b\b13%\b\b\b13%\b\b\b13%\b\b\b13%\b\b\b14%\b\b\b14%\b\b\b14%\b\b\b14%\b\b\b14%\b\b\b14%\b\b\b14%\b\b\b14%\b\b\b14%\b\b\b14%\b\b\b14%\b\b\b14%\b\b\b14%\b\b\b14%\b\b\b14%\b\b\b14%\b\b\b15%\b\b\b15%\b\b\b15%\b\b\b15%\b\b\b15%\b\b\b15%\b\b\b15%\b\b\b15%\b\b\b15%\b\b\b15%\b\b\b15%\b\b\b15%\b\b\b15%\b\b\b15%\b\b\b15%\b\b\b16%\b\b\b16%\b\b\b16%\b\b\b16%\b\b\b16%\b\b\b16%\b\b\b16%\b\b\b16%\b\b\b16%\b\b\b16%\b\b\b16%\b\b\b16%\b\b\b16%\b\b\b16%\b\b\b16%\b\b\b17%\b\b\b17%\b\b\b17%\b\b\b17%\b\b\b17%\b\b\b17%\b\b\b17%\b\b\b17%\b\b\b17%\b\b\b17%\b\b\b17%\b\b\b17%\b\b\b17%\b\b\b17%\b\b\b17%\b\b\b18%\b\b\b18%\b\b\b18%\b\b\b18%\b\b\b18%\b\b\b18%\b\b\b18%\b\b\b18%\b\b\b18%\b\b\b18%\b\b\b18%\b\b\b18%\b\b\b18%\b\b\b18%\b\b\b18%\b\b\b19%\b\b\b19%\b\b\b19%\b\b\b19%\b\b\b19%\b\b\b19%\b\b\b19%\b\b\b19%\b\b\b19%\b\b\b19%\b\b\b19%\b\b\b19%\b\b\b19%\b\b\b19%\b\b\b19%\b\b\b19%\b\b\b20%\b\b\b20%\b\b\b20%\b\b\b20%\b\b\b20%\b\b\b20%\b\b\b20%\b\b\b20%\b\b\b20%\b\b\b20%\b\b\b20%\b\b\b20%\b\b\b20%\b\b\b20%\b\b\b20%\b\b\b21%\b\b\b21%\b\b\b21%\b\b\b21%\b\b\b21%\b\b\b21%\b\b\b21%\b\b\b21%\b\b\b21%\b\b\b21%\b\b\b21%\b\b\b21%\b\b\b21%\b\b\b21%\b\b\b21%\b\b\b22%\b\b\b22%\b\b\b22%\b\b\b22%\b\b\b22%\b\b\b22%\b\b\b22%\b\b\b22%\b\b\b22%\b\b\b22%\b\b\b22%\b\b\b22%\b\b\b22%\b\b\b22%\b\b\b22%\b\b\b23%\b\b\b23%\b\b\b23%\b\b\b23%\b\b\b23%\b\b\b23%\b\b\b23%\b\b\b23%\b\b\b23%\b\b\b23%\b\b\b23%\b\b\b23%\b\b\b23%\b\b\b23%\b\b\b23%\b\b\b23%\b\b\b24%\b\b\b24%\b\b\b24%\b\b\b24%\b\b\b24%\b\b\b24%\b\b\b24%\b\b\b24%\b\b\b24%\b\b\b24%\b\b\b24%\b\b\b24%\b\b\b24%\b\b\b24%\b\b\b24%\b\b\b25%\b\b\b25%\b\b\b25%\b\b\b25%\b\b\b25%\b\b\b25%\b\b\b25%\b\b\b25%\b\b\b25%\b\b\b25%\b\b\b25%\b\b\b25%\b\b\b25%\b\b\b25%\b\b\b25%\b\b\b26%\b\b\b26%\b\b\b26%\b\b\b26%\b\b\b26%\b\b\b26%\b\b\b26%\b\b\b26%\b\b\b26%\b\b\b26%\b\b\b26%\b\b\b26%\b\b\b26%\b\b\b26%\b\b\b26%\b\b\b27%\b\b\b27%\b\b\b27%\b\b\b27%\b\b\b27%\b\b\b27%\b\b\b27%\b\b\b27%\b\b\b27%\b\b\b27%\b\b\b27%\b\b\b27%\b\b\b27%\b\b\b27%\b\b\b27%\b\b\b28%\b\b\b28%\b\b\b28%\b\b\b28%\b\b\b28%\b\b\b28%\b\b\b28%\b\b\b28%\b\b\b28%\b\b\b28%\b\b\b28%\b\b\b28%\b\b\b28%\b\b\b28%\b\b\b28%\b\b\b28%\b\b\b29%\b\b\b29%\b\b\b29%\b\b\b29%\b\b\b29%\b\b\b29%\b\b\b29%\b\b\b29%\b\b\b29%\b\b\b29%\b\b\b29%\b\b\b29%\b\b\b29%\b\b\b29%\b\b\b29%\b\b\b30%\b\b\b30%\b\b\b30%\b\b\b30%\b\b\b30%\b\b\b30%\b\b\b30%\b\b\b30%\b\b\b30%\b\b\b30%\b\b\b30%\b\b\b30%\b\b\b30%\b\b\b30%\b\b\b30%\b\b\b31%\b\b\b31%\b\b\b31%\b\b\b31%\b\b\b31%\b\b\b31%\b\b\b31%\b\b\b31%\b\b\b31%\b\b\b31%\b\b\b31%\b\b\b31%\b\b\b31%\b\b\b31%\b\b\b31%\b\b\b32%\b\b\b32%\b\b\b32%\b\b\b32%\b\b\b32%\b\b\b32%\b\b\b32%\b\b\b32%\b\b\b32%\b\b\b32%\b\b\b32%\b\b\b32%\b\b\b32%\b\b\b32%\b\b\b32%\b\b\b33%\b\b\b33%\b\b\b33%\b\b\b33%\b\b\b33%\b\b\b33%\b\b\b33%\b\b\b33%\b\b\b33%\b\b\b33%\b\b\b33%\b\b\b33%\b\b\b33%\b\b\b33%\b\b\b33%\b\b\b33%\b\b\b34%\b\b\b34%\b\b\b34%\b\b\b34%\b\b\b34%\b\b\b34%\b\b\b34%\b\b\b34%\b\b\b34%\b\b\b34%\b\b\b34%\b\b\b34%\b\b\b34%\b\b\b34%\b\b\b34%\b\b\b35%\b\b\b35%\b\b\b35%\b\b\b35%\b\b\b35%\b\b\b35%\b\b\b35%\b\b\b35%\b\b\b35%\b\b\b35%\b\b\b35%\b\b\b35%\b\b\b35%\b\b\b35%\b\b\b35%\b\b\b36%\b\b\b36%\b\b\b36%\b\b\b36%\b\b\b36%\b\b\b36%\b\b\b36%\b\b\b36%\b\b\b36%\b\b\b36%\b\b\b36%\b\b\b36%\b\b\b36%\b\b\b36%\b\b\b36%\b\b\b37%\b\b\b37%\b\b\b37%\b\b\b37%\b\b\b37%\b\b\b37%\b\b\b37%\b\b\b37%\b\b\b37%\b\b\b37%\b\b\b37%\b\b\b37%\b\b\b37%\b\b\b37%\b\b\b37%\b\b\b38%\b\b\b38%\b\b\b38%\b\b\b38%\b\b\b38%\b\b\b38%\b\b\b38%\b\b\b38%\b\b\b38%\b\b\b38%\b\b\b38%\b\b\b38%\b\b\b38%\b\b\b38%\b\b\b38%\b\b\b38%\b\b\b39%\b\b\b39%\b\b\b39%\b\b\b39%\b\b\b39%\b\b\b39%\b\b\b39%\b\b\b39%\b\b\b39%\b\b\b39%\b\b\b39%\b\b\b39%\b\b\b39%\b\b\b39%\b\b\b39%\b\b\b40%\b\b\b40%\b\b\b40%\b\b\b40%\b\b\b40%\b\b\b40%\b\b\b40%\b\b\b40%\b\b\b40%\b\b\b40%\b\b\b40%\b\b\b40%\b\b\b40%\b\b\b40%\b\b\b40%\b\b\b41%\b\b\b41%\b\b\b41%\b\b\b41%\b\b\b41%\b\b\b41%\b\b\b41%\b\b\b41%\b\b\b41%\b\b\b41%\b\b\b41%\b\b\b41%\b\b\b41%\b\b\b41%\b\b\b41%\b\b\b42%\b\b\b42%\b\b\b42%\b\b\b42%\b\b\b42%\b\b\b42%\b\b\b42%\b\b\b42%\b\b\b42%\b\b\b42%\b\b\b42%\b\b\b42%\b\b\b42%\b\b\b42%\b\b\b42%\b\b\b42%\b\b\b43%\b\b\b43%\b\b\b43%\b\b\b43%\b\b\b43%\b\b\b43%\b\b\b43%\b\b\b43%\b\b\b43%\b\b\b43%\b\b\b43%\b\b\b43%\b\b\b43%\b\b\b43%\b\b\b43%\b\b\b44%\b\b\b44%\b\b\b44%\b\b\b44%\b\b\b44%\b\b\b44%\b\b\b44%\b\b\b44%\b\b\b44%\b\b\b44%\b\b\b44%\b\b\b44%\b\b\b44%\b\b\b44%\b\b\b44%\b\b\b45%\b\b\b45%\b\b\b45%\b\b\b45%\b\b\b45%\b\b\b45%\b\b\b45%\b\b\b45%\b\b\b45%\b\b\b45%\b\b\b45%\b\b\b45%\b\b\b45%\b\b\b45%\b\b\b45%\b\b\b46%\b\b\b46%\b\b\b46%\b\b\b46%\b\b\b46%\b\b\b46%\b\b\b46%\b\b\b46%\b\b\b46%\b\b\b46%\b\b\b46%\b\b\b46%\b\b\b46%\b\b\b46%\b\b\b46%\b\b\b47%\b\b\b47%\b\b\b47%\b\b\b47%\b\b\b47%\b\b\b47%\b\b\b47%\b\b\b47%\b\b\b47%\b\b\b47%\b\b\b47%\b\b\b47%\b\b\b47%\b\b\b47%\b\b\b47%\b\b\b47%\b\b\b48%\b\b\b48%\b\b\b48%\b\b\b48%\b\b\b48%\b\b\b48%\b\b\b48%\b\b\b48%\b\b\b48%\b\b\b48%\b\b\b48%\b\b\b48%\b\b\b48%\b\b\b48%\b\b\b48%\b\b\b49%\b\b\b49%\b\b\b49%\b\b\b49%\b\b\b49%\b\b\b49%\b\b\b49%\b\b\b49%\b\b\b49%\b\b\b49%\b\b\b49%\b\b\b49%\b\b\b49%\b\b\b49%\b\b\b49%\b\b\b50%\b\b\b50%\b\b\b50%\b\b\b50%\b\b\b50%\b\b\b50%\b\b\b50%\b\b\b50%\b\b\b50%\b\b\b50%\b\b\b50%\b\b\b50%\b\b\b50%\b\b\b50%\b\b\b50%\b\b\b51%\b\b\b51%\b\b\b51%\b\b\b51%\b\b\b51%\b\b\b51%\b\b\b51%\b\b\b51%\b\b\b51%\b\b\b51%\b\b\b51%\b\b\b51%\b\b\b51%\b\b\b51%\b\b\b51%\b\b\b52%\b\b\b52%\b\b\b52%\b\b\b52%\b\b\b52%\b\b\b52%\b\b\b52%\b\b\b52%\b\b\b52%\b\b\b52%\b\b\b52%\b\b\b52%\b\b\b52%\b\b\b52%\b\b\b52%\b\b\b52%\b\b\b53%\b\b\b53%\b\b\b53%\b\b\b53%\b\b\b53%\b\b\b53%\b\b\b53%\b\b\b53%\b\b\b53%\b\b\b53%\b\b\b53%\b\b\b53%\b\b\b53%\b\b\b53%\b\b\b53%\b\b\b54%\b\b\b54%\b\b\b54%\b\b\b54%\b\b\b54%\b\b\b54%\b\b\b54%\b\b\b54%\b\b\b54%\b\b\b54%\b\b\b54%\b\b\b54%\b\b\b54%\b\b\b54%\b\b\b54%\b\b\b55%\b\b\b55%\b\b\b55%\b\b\b55%\b\b\b55%\b\b\b55%\b\b\b55%\b\b\b55%\b\b\b55%\b\b\b55%\b\b\b55%\b\b\b55%\b\b\b55%\b\b\b55%\b\b\b55%\b\b\b56%\b\b\b56%\b\b\b56%\b\b\b56%\b\b\b56%\b\b\b56%\b\b\b56%\b\b\b56%\b\b\b56%\b\b\b56%\b\b\b56%\b\b\b56%\b\b\b56%\b\b\b56%\b\b\b56%\b\b\b57%\b\b\b57%\b\b\b57%\b\b\b57%\b\b\b57%\b\b\b57%\b\b\b57%\b\b\b57%\b\b\b57%\b\b\b57%\b\b\b57%\b\b\b57%\b\b\b57%\b\b\b57%\b\b\b57%\b\b\b57%\b\b\b58%\b\b\b58%\b\b\b58%\b\b\b58%\b\b\b58%\b\b\b58%\b\b\b58%\b\b\b58%\b\b\b58%\b\b\b58%\b\b\b58%\b\b\b58%\b\b\b58%\b\b\b58%\b\b\b58%\b\b\b59%\b\b\b59%\b\b\b59%\b\b\b59%\b\b\b59%\b\b\b59%\b\b\b59%\b\b\b59%\b\b\b59%\b\b\b59%\b\b\b59%\b\b\b59%\b\b\b59%\b\b\b59%\b\b\b59%\b\b\b60%\b\b\b60%\b\b\b60%\b\b\b60%\b\b\b60%\b\b\b60%\b\b\b60%\b\b\b60%\b\b\b60%\b\b\b60%\b\b\b60%\b\b\b60%\b\b\b60%\b\b\b60%\b\b\b60%\b\b\b61%\b\b\b61%\b\b\b61%\b\b\b61%\b\b\b61%\b\b\b61%\b\b\b61%\b\b\b61%\b\b\b61%\b\b\b61%\b\b\b61%\b\b\b61%\b\b\b61%\b\b\b61%\b\b\b61%\b\b\b61%\b\b\b62%\b\b\b62%\b\b\b62%\b\b\b62%\b\b\b62%\b\b\b62%\b\b\b62%\b\b\b62%\b\b\b62%\b\b\b62%\b\b\b62%\b\b\b62%\b\b\b62%\b\b\b62%\b\b\b62%\b\b\b63%\b\b\b63%\b\b\b63%\b\b\b63%\b\b\b63%\b\b\b63%\b\b\b63%\b\b\b63%\b\b\b63%\b\b\b63%\b\b\b63%\b\b\b63%\b\b\b63%\b\b\b63%\b\b\b63%\b\b\b64%\b\b\b64%\b\b\b64%\b\b\b64%\b\b\b64%\b\b\b64%\b\b\b64%\b\b\b64%\b\b\b64%\b\b\b64%\b\b\b64%\b\b\b64%\b\b\b64%\b\b\b64%\b\b\b64%\b\b\b65%\b\b\b65%\b\b\b65%\b\b\b65%\b\b\b65%\b\b\b65%\b\b\b65%\b\b\b65%\b\b\b65%\b\b\b65%\b\b\b65%\b\b\b65%\b\b\b65%\b\b\b65%\b\b\b65%\b\b\b66%\b\b\b66%\b\b\b66%\b\b\b66%\b\b\b66%\b\b\b66%\b\b\b66%\b\b\b66%\b\b\b66%\b\b\b66%\b\b\b66%\b\b\b66%\b\b\b66%\b\b\b66%\b\b\b66%\b\b\b66%\b\b\b67%\b\b\b67%\b\b\b67%\b\b\b67%\b\b\b67%\b\b\b67%\b\b\b67%\b\b\b67%\b\b\b67%\b\b\b67%\b\b\b67%\b\b\b67%\b\b\b67%\b\b\b67%\b\b\b67%\b\b\b68%\b\b\b68%\b\b\b68%\b\b\b68%\b\b\b68%\b\b\b68%\b\b\b68%\b\b\b68%\b\b\b68%\b\b\b68%\b\b\b68%\b\b\b68%\b\b\b68%\b\b\b68%\b\b\b68%\b\b\b69%\b\b\b69%\b\b\b69%\b\b\b69%\b\b\b69%\b\b\b69%\b\b\b69%\b\b\b69%\b\b\b69%\b\b\b69%\b\b\b69%\b\b\b69%\b\b\b69%\b\b\b69%\b\b\b69%\b\b\b70%\b\b\b70%\b\b\b70%\b\b\b70%\b\b\b70%\b\b\b70%\b\b\b70%\b\b\b70%\b\b\b70%\b\b\b70%\b\b\b70%\b\b\b70%\b\b\b70%\b\b\b70%\b\b\b70%\b\b\b71%\b\b\b71%\b\b\b71%\b\b\b71%\b\b\b71%\b\b\b71%\b\b\b71%\b\b\b71%\b\b\b71%\b\b\b71%\b\b\b71%\b\b\b71%\b\b\b71%\b\b\b71%\b\b\b71%\b\b\b71%\b\b\b72%\b\b\b72%\b\b\b72%\b\b\b72%\b\b\b72%\b\b\b72%\b\b\b72%\b\b\b72%\b\b\b72%\b\b\b72%\b\b\b72%\b\b\b72%\b\b\b72%\b\b\b72%\b\b\b72%\b\b\b73%\b\b\b73%\b\b\b73%\b\b\b73%\b\b\b73%\b\b\b73%\b\b\b73%\b\b\b73%\b\b\b73%\b\b\b73%\b\b\b73%\b\b\b73%\b\b\b73%\b\b\b73%\b\b\b73%\b\b\b74%\b\b\b74%\b\b\b74%\b\b\b74%\b\b\b74%\b\b\b74%\b\b\b74%\b\b\b74%\b\b\b74%\b\b\b74%\b\b\b74%\b\b\b74%\b\b\b74%\b\b\b74%\b\b\b74%\b\b\b75%\b\b\b75%\b\b\b75%\b\b\b75%\b\b\b75%\b\b\b75%\b\b\b75%\b\b\b75%\b\b\b75%\b\b\b75%\b\b\b75%\b\b\b75%\b\b\b75%\b\b\b75%\b\b\b75%\b\b\b76%\b\b\b76%\b\b\b76%\b\b\b76%\b\b\b76%\b\b\b76%\b\b\b76%\b\b\b76%\b\b\b76%\b\b\b76%\b\b\b76%\b\b\b76%\b\b\b76%\b\b\b76%\b\b\b76%\b\b\b76%\b\b\b77%\b\b\b77%\b\b\b77%\b\b\b77%\b\b\b77%\b\b\b77%\b\b\b77%\b\b\b77%\b\b\b77%\b\b\b77%\b\b\b77%\b\b\b77%\b\b\b77%\b\b\b77%\b\b\b77%\b\b\b78%\b\b\b78%\b\b\b78%\b\b\b78%\b\b\b78%\b\b\b78%\b\b\b78%\b\b\b78%\b\b\b78%\b\b\b78%\b\b\b78%\b\b\b78%\b\b\b78%\b\b\b78%\b\b\b78%\b\b\b79%\b\b\b79%\b\b\b79%\b\b\b79%\b\b\b79%\b\b\b79%\b\b\b79%\b\b\b79%\b\b\b79%\b\b\b79%\b\b\b79%\b\b\b79%\b\b\b79%\b\b\b79%\b\b\b79%\b\b\b80%\b\b\b80%\b\b\b80%\b\b\b80%\b\b\b80%\b\b\b80%\b\b\b80%\b\b\b80%\b\b\b80%\b\b\b80%\b\b\b80%\b\b\b80%\b\b\b80%\b\b\b80%\b\b\b80%\b\b\b80%\b\b\b81%\b\b\b81%\b\b\b81%\b\b\b81%\b\b\b81%\b\b\b81%\b\b\b81%\b\b\b81%\b\b\b81%\b\b\b81%\b\b\b81%\b\b\b81%\b\b\b81%\b\b\b81%\b\b\b81%\b\b\b82%\b\b\b82%\b\b\b82%\b\b\b82%\b\b\b82%\b\b\b82%\b\b\b82%\b\b\b82%\b\b\b82%\b\b\b82%\b\b\b82%\b\b\b82%\b\b\b82%\b\b\b82%\b\b\b82%\b\b\b83%\b\b\b83%\b\b\b83%\b\b\b83%\b\b\b83%\b\b\b83%\b\b\b83%\b\b\b83%\b\b\b83%\b\b\b83%\b\b\b83%\b\b\b83%\b\b\b83%\b\b\b83%\b\b\b83%\b\b\b84%\b\b\b84%\b\b\b84%\b\b\b84%\b\b\b84%\b\b\b84%\b\b\b84%\b\b\b84%\b\b\b84%\b\b\b84%\b\b\b84%\b\b\b84%\b\b\b84%\b\b\b84%\b\b\b84%\b\b\b85%\b\b\b85%\b\b\b85%\b\b\b85%\b\b\b85%\b\b\b85%\b\b\b85%\b\b\b85%\b\b\b85%\b\b\b85%\b\b\b85%\b\b\b85%\b\b\b85%\b\b\b85%\b\b\b85%\b\b\b85%\b\b\b86%\b\b\b86%\b\b\b86%\b\b\b86%\b\b\b86%\b\b\b86%\b\b\b86%\b\b\b86%\b\b\b86%\b\b\b86%\b\b\b86%\b\b\b86%\b\b\b86%\b\b\b86%\b\b\b86%\b\b\b87%\b\b\b87%\b\b\b87%\b\b\b87%\b\b\b87%\b\b\b87%\b\b\b87%\b\b\b87%\b\b\b87%\b\b\b87%\b\b\b87%\b\b\b87%\b\b\b87%\b\b\b87%\b\b\b87%\b\b\b88%\b\b\b88%\b\b\b88%\b\b\b88%\b\b\b88%\b\b\b88%\b\b\b88%\b\b\b88%\b\b\b88%\b\b\b88%\b\b\b88%\b\b\b88%\b\b\b88%\b\b\b88%\b\b\b88%\b\b\b89%\b\b\b89%\b\b\b89%\b\b\b89%\b\b\b89%\b\b\b89%\b\b\b89%\b\b\b89%\b\b\b89%\b\b\b89%\b\b\b89%\b\b\b89%\b\b\b89%\b\b\b89%\b\b\b89%\b\b\b90%\b\b\b90%\b\b\b90%\b\b\b90%\b\b\b90%\b\b\b90%\b\b\b90%\b\b\b90%\b\b\b90%\b\b\b90%\b\b\b90%\b\b\b90%\b\b\b90%\b\b\b90%\b\b\b90%\b\b\b90%\b\b\b91%\b\b\b91%\b\b\b91%\b\b\b91%\b\b\b91%\b\b\b91%\b\b\b91%\b\b\b91%\b\b\b91%\b\b\b91%\b\b\b91%\b\b\b91%\b\b\b91%\b\b\b91%\b\b\b91%\b\b\b92%\b\b\b92%\b\b\b92%\b\b\b92%\b\b\b92%\b\b\b92%\b\b\b92%\b\b\b92%\b\b\b92%\b\b\b92%\b\b\b92%\b\b\b92%\b\b\b92%\b\b\b92%\b\b\b92%\b\b\b93%\b\b\b93%\b\b\b93%\b\b\b93%\b\b\b93%\b\b\b93%\b\b\b93%\b\b\b93%\b\b\b93%\b\b\b93%\b\b\b93%\b\b\b93%\b\b\b93%\b\b\b93%\b\b\b93%\b\b\b94%\b\b\b94%\b\b\b94%\b\b\b94%\b\b\b94%\b\b\b94%\b\b\b94%\b\b\b94%\b\b\b94%\b\b\b94%\b\b\b94%\b\b\b94%\b\b\b94%\b\b\b94%\b\b\b94%\b\b\b95%\b\b\b95%\b\b\b95%\b\b\b95%\b\b\b95%\b\b\b95%\b\b\b95%\b\b\b95%\b\b\b95%\b\b\b95%\b\b\b95%\b\b\b95%\b\b\b95%\b\b\b95%\b\b\b95%\b\b\b95%\b\b\b96%\b\b\b96%\b\b\b96%\b\b\b96%\b\b\b96%\b\b\b96%\b\b\b96%\b\b\b96%\b\b\b96%\b\b\b96%\b\b\b96%\b\b\b96%\b\b\b96%\b\b\b96%\b\b\b96%\b\b\b97%\b\b\b97%\b\b\b97%\b\b\b97%\b\b\b97%\b\b\b97%\b\b\b97%\b\b\b97%\b\b\b97%\b\b\b97%\b\b\b97%\b\b\b97%\b\b\b97%\b\b\b97%\b\b\b97%\b\b\b98%\b\b\b98%\b\b\b98%\b\b\b98%\b\b\b98%\b\b\b98%\b\b\b98%\b\b\b98%\b\b\b98%\b\b\b98%\b\b\b98%\b\b\b98%\b\b\b98%\b\b\b98%\b\b\b98%\b\b\b99%\b\b\b99%\b\b\b99%\b\b\b99%\b\b\b99%\b\b\b99%\b\b\b99%\b\b\b99%\b\b\b99%\b\b\b99%\b\b\b99%\b\b\b99%\b\b\b99%\b\b\b99%\b\b\b99%\b\b\b100%\r",
      ".ped scan complete (for binary autoconversion).\r\n",
      "Performing single-pass .bed write (1003 variants, 1521 people).\r\n"
     ]
    },
    {
     "name": "stdout",
     "output_type": "stream",
     "text": [
      "--file: script_output/ForMolEcoGroup.maf0.2gen0.1NoRelatedness-temporary.bed +49505152535455565758596061626364656667686970717273747576777879808182838485868788899091929394%\n",
      "script_output/ForMolEcoGroup.maf0.2gen0.1NoRelatedness-temporary.bim +\n",
      "script_output/ForMolEcoGroup.maf0.2gen0.1NoRelatedness-temporary.fam written.\n",
      "1003 variants loaded from .bim file.\n",
      "1521 people (0 males, 0 females, 1521 ambiguous) loaded from .fam.\n",
      "Ambiguous sex IDs written to\n",
      "script_output/ForMolEcoGroup.maf0.2gen0.1NoRelatedness.nosex .\n",
      "1521 phenotype values loaded from .fam.\n",
      "Using up to 71 threads (change this with --threads).\n",
      "Before main variant filters, 1521 founders and 0 nonfounders present.\n",
      "Calculating allele frequencies... 10111213141516171819202122232425262728293031323334353637383940414243444546474849505152535455565758596061626364656667686970717273747576777879808182838485868788899091929394959697989 done.\n",
      "Total genotyping rate is 0.930888.\n",
      "110 variants removed due to missing genotype data (--geno).\n",
      "0 variants removed due to minor allele threshold(s)\n",
      "(--maf/--max-maf/--mac/--max-mac).\n",
      "893 variants and 1521 people pass filters and QC (before --rel-cutoff).\n",
      "Among remaining phenotypes, 57 are cases and 1464 are controls.\n",
      "Relationship matrix calculation complete.\n",
      "250 people excluded by --rel-cutoff.\n",
      "Remaining sample IDs written to\n",
      "script_output/ForMolEcoGroup.maf0.2gen0.1NoRelatedness.rel.id .\n",
      "--make-bed to script_output/ForMolEcoGroup.maf0.2gen0.1NoRelatedness.bed +\n",
      "script_output/ForMolEcoGroup.maf0.2gen0.1NoRelatedness.bim +\n",
      "script_output/ForMolEcoGroup.maf0.2gen0.1NoRelatedness.fam ... 101112131415161718192021222324252627282930313233343536373839404142434445464748495051525354555657585960616263646566676869707172737475767778798081828384858687888990919293949596979899done.\n"
     ]
    }
   ],
   "source": [
    " !plink --file script_output/ForMolEcoGroup.recode --allow-no-sex --make-bed --maf 0.02 --geno 0.1 --rel-cutoff 0.25 --out script_output/ForMolEcoGroup.maf0.2gen0.1NoRelatedness"
   ]
  },
  {
   "cell_type": "markdown",
   "metadata": {},
   "source": [
    "__tested that association command works, and it does__"
   ]
  },
  {
   "cell_type": "code",
   "execution_count": null,
   "metadata": {},
   "outputs": [],
   "source": []
  }
 ],
 "metadata": {
  "kernelspec": {
   "display_name": "Python 3",
   "language": "python",
   "name": "python3"
  },
  "language_info": {
   "codemirror_mode": {
    "name": "ipython",
    "version": 3
   },
   "file_extension": ".py",
   "mimetype": "text/x-python",
   "name": "python",
   "nbconvert_exporter": "python",
   "pygments_lexer": "ipython3",
   "version": "3.7.3"
  }
 },
 "nbformat": 4,
 "nbformat_minor": 4
}
