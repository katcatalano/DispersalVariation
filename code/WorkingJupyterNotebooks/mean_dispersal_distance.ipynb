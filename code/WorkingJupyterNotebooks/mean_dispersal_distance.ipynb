{
 "cells": [
  {
   "cell_type": "code",
   "execution_count": 1,
   "metadata": {},
   "outputs": [],
   "source": [
    "Packages <- c(\"dplyr\",\"ggthemes\",\"pracma\",\"cubature\",\"data.table\", \"gridExtra\",\"viridis\", \"ggsignif\", \"broom\", \"ggpubr\", \"caret\",\"cowplot\",\"ggplot2\",\"fields\",\"bbmle\", \"dplyr\", \"tidyr\", \"lubridate\", \"RColorBrewer\")\n",
    "\n",
    "invisible(suppressPackageStartupMessages(lapply(Packages, library, character.only = TRUE)))\n",
    "\n",
    "setwd('/local/home/katrinac/parentage/kernel_fitting/')\n",
    "load(\"~/parentage/r_data/site_dist_info.RData\")\n",
    "\n",
    "#final scripts to use\n",
    "source(\"~/parentage/kernel_fitting/1340_loci/functions/ll_kt_both_bbmle.R\")\n",
    "source(\"~/parentage/kernel_fitting/1340_loci/functions/ll_kt_both_grid_search.R\")\n",
    "source(\"~/parentage/kernel_fitting/1340_loci/functions/ll_kt_both_optim.R\")\n",
    "source(\"~/parentage/kernel_fitting/1340_loci/functions/GenGausKernInt_sum0.5.R\")\n",
    "source(\"~/parentage/kernel_fitting/1340_loci/functions/GenGausKernInt_sum1.R\")\n",
    "\n",
    "\"%!in%\" <- function(x,table) match(x,table, nomatch = 0) == 0"
   ]
  },
  {
   "cell_type": "code",
   "execution_count": 35,
   "metadata": {},
   "outputs": [],
   "source": [
    "#read in data\n",
    "kernels <- read.csv(file=\"~/parentage/kernel_fitting/1340_loci/final_results/tables/kernel_fitting_summary.csv\", stringsAsFactors = F, header=T)\n",
    "\n",
    "mdd12 <- read.csv(file=\"~/parentage/kernel_fitting/1340_loci/final_results/mean_disp_dist/MeanDispDist95CI_2012.csv\", header=T) %>%\n",
    "    mutate(Year=\"2012\")\n",
    "mdd13 <- read.csv(file=\"~/parentage/kernel_fitting/1340_loci/final_results/mean_disp_dist/MeanDispDist95CI_2013.csv\", header=T) %>%\n",
    "    mutate(Year=\"2013\")\n",
    "mdd14 <- read.csv(file=\"~/parentage/kernel_fitting/1340_loci/final_results/mean_disp_dist/MeanDispDist95CI_2014.csv\", header=T) %>%\n",
    "    mutate(Year=\"2014\")\n",
    "mdd15 <- read.csv(file=\"~/parentage/kernel_fitting/1340_loci/final_results/mean_disp_dist/MeanDispDist95CI_2015.csv\", header=T) %>%\n",
    "    mutate(Year=\"2015\")\n",
    "mdd16 <- read.csv(file=\"~/parentage/kernel_fitting/1340_loci/final_results/mean_disp_dist/MeanDispDist95CI_2016.csv\", header=T) %>%\n",
    "    mutate(Year=\"2016\")\n",
    "mdd17 <- read.csv(file=\"~/parentage/kernel_fitting/1340_loci/final_results/mean_disp_dist/MeanDispDist95CI_2017.csv\", header=T) %>%\n",
    "    mutate(Year=\"2017\")\n",
    "mdd18 <- read.csv(file=\"~/parentage/kernel_fitting/1340_loci/final_results/mean_disp_dist/MeanDispDist95CI_2018.csv\", header=T) %>%\n",
    "    mutate(Year=\"2018\")\n",
    "mddall <- read.csv(file=\"~/parentage/kernel_fitting/1340_loci/final_results/mean_disp_dist/MeanDispDist95CI_all.csv\", header=T) %>%\n",
    "    mutate(Year=\"2012-18\")\n",
    "\n",
    "profile12_95 <- read.csv(file=\"~/parentage/kernel_fitting/1340_loci/final_results/likelihood_profiles_grid_search/profile95CI_2012.csv\", header=T) %>%\n",
    "        filter(k_eval <=10 & k_eval >=-10 & theta_eval <=5)\n",
    "profile13_95 <- read.csv(file=\"~/parentage/kernel_fitting/1340_loci/final_results/likelihood_profiles_grid_search/profile95CI_2013.csv\", header=T) %>%\n",
    "        filter(k_eval <=10 & k_eval >=-10 & theta_eval <=5)\n",
    "profile14_95 <- read.csv(file=\"~/parentage/kernel_fitting/1340_loci/final_results/likelihood_profiles_grid_search/profile95CI_2014.csv\", header=T) \n",
    "profile15_95 <- read.csv(file=\"~/parentage/kernel_fitting/1340_loci/final_results/likelihood_profiles_grid_search/profile95CI_2015.csv\", header=T) %>%\n",
    "        filter(k_eval <=10 & k_eval >=-10 & theta_eval <=5)\n",
    "profile16_95 <- read.csv(file=\"~/parentage/kernel_fitting/1340_loci/final_results/likelihood_profiles_grid_search/profile95CI_2016.csv\", header=T) \n",
    "profile17_95 <- read.csv(file=\"~/parentage/kernel_fitting/1340_loci/final_results/likelihood_profiles_grid_search/profile95CI_2017.csv\", header=T)\n",
    "profile18_95 <- read.csv(file=\"~/parentage/kernel_fitting/1340_loci/final_results/likelihood_profiles_grid_search/profile95CI_2018.csv\", header=T) \n",
    "profileall_95 <- read.csv(file=\"~/parentage/kernel_fitting/1340_loci/final_results/likelihood_profiles_grid_search/profile95CI_AllYears.csv\", header=T) \n"
   ]
  },
  {
   "cell_type": "code",
   "execution_count": 43,
   "metadata": {},
   "outputs": [
    {
     "data": {
      "text/html": [
       "5.64666664086386"
      ],
      "text/latex": [
       "5.64666664086386"
      ],
      "text/markdown": [
       "5.64666664086386"
      ],
      "text/plain": [
       "[1] 5.646667"
      ]
     },
     "metadata": {},
     "output_type": "display_data"
    }
   ],
   "source": [
    "min(mdd14_df$mdd)"
   ]
  },
  {
   "cell_type": "code",
   "execution_count": 66,
   "metadata": {},
   "outputs": [
    {
     "data": {
      "text/html": [
       "0.467436296638534"
      ],
      "text/latex": [
       "0.467436296638534"
      ],
      "text/markdown": [
       "0.467436296638534"
      ],
      "text/plain": [
       "[1] 0.4674363"
      ]
     },
     "metadata": {},
     "output_type": "display_data"
    },
    {
     "data": {
      "text/html": [
       "0.49411257745026"
      ],
      "text/latex": [
       "0.49411257745026"
      ],
      "text/markdown": [
       "0.49411257745026"
      ],
      "text/plain": [
       "[1] 0.4941126"
      ]
     },
     "metadata": {},
     "output_type": "display_data"
    }
   ],
   "source": [
    "cubintegrate(integrate_kernel_sum0.5, k=-.89, theta=.56, 0, 30, method = \"pcubature\")$integral\n",
    "cubintegrate(integrate_kernel_sum0.5, k=-2.6, theta=1.58, 0, 30, method = \"pcubature\")$integral\n"
   ]
  },
  {
   "cell_type": "code",
   "execution_count": 39,
   "metadata": {},
   "outputs": [],
   "source": [
    "#search and replace for years\n",
    "mdd17_df <- bind_cols(profile17_95, mdd17)\n"
   ]
  },
  {
   "cell_type": "code",
   "execution_count": 17,
   "metadata": {},
   "outputs": [
    {
     "data": {
      "text/html": [
       "0.474578534703244"
      ],
      "text/latex": [
       "0.474578534703244"
      ],
      "text/markdown": [
       "0.474578534703244"
      ],
      "text/plain": [
       "[1] 0.4745785"
      ]
     },
     "metadata": {},
     "output_type": "display_data"
    },
    {
     "data": {
      "text/html": [
       "0.331939143460412"
      ],
      "text/latex": [
       "0.331939143460412"
      ],
      "text/markdown": [
       "0.331939143460412"
      ],
      "text/plain": [
       "[1] 0.3319391"
      ]
     },
     "metadata": {},
     "output_type": "display_data"
    },
    {
     "data": {
      "text/html": [
       "0.432593318308846"
      ],
      "text/latex": [
       "0.432593318308846"
      ],
      "text/markdown": [
       "0.432593318308846"
      ],
      "text/plain": [
       "[1] 0.4325933"
      ]
     },
     "metadata": {},
     "output_type": "display_data"
    },
    {
     "data": {
      "text/html": [
       "0.465281859094954"
      ],
      "text/latex": [
       "0.465281859094954"
      ],
      "text/markdown": [
       "0.465281859094954"
      ],
      "text/plain": [
       "[1] 0.4652819"
      ]
     },
     "metadata": {},
     "output_type": "display_data"
    },
    {
     "data": {
      "text/html": [
       "0.499947661466113"
      ],
      "text/latex": [
       "0.499947661466113"
      ],
      "text/markdown": [
       "0.499947661466113"
      ],
      "text/plain": [
       "[1] 0.4999477"
      ]
     },
     "metadata": {},
     "output_type": "display_data"
    },
    {
     "data": {
      "text/html": [
       "0.392525456143736"
      ],
      "text/latex": [
       "0.392525456143736"
      ],
      "text/markdown": [
       "0.392525456143736"
      ],
      "text/plain": [
       "[1] 0.3925255"
      ]
     },
     "metadata": {},
     "output_type": "display_data"
    },
    {
     "data": {
      "text/html": [
       "0.496872826864855"
      ],
      "text/latex": [
       "0.496872826864855"
      ],
      "text/markdown": [
       "0.496872826864855"
      ],
      "text/plain": [
       "[1] 0.4968728"
      ]
     },
     "metadata": {},
     "output_type": "display_data"
    },
    {
     "data": {
      "text/html": [
       "0.49485481844277"
      ],
      "text/latex": [
       "0.49485481844277"
      ],
      "text/markdown": [
       "0.49485481844277"
      ],
      "text/plain": [
       "[1] 0.4948548"
      ]
     },
     "metadata": {},
     "output_type": "display_data"
    }
   ],
   "source": [
    "cubintegrate(integrate_kernel_sum0.5, k=kernels$best_k[1], theta=kernels$best_theta[1], 0, 30, method = \"pcubature\")$integral\n",
    "cubintegrate(integrate_kernel_sum0.5, k=kernels$best_k[2], theta=kernels$best_theta[2], 0, 30, method = \"pcubature\")$integral\n",
    "cubintegrate(integrate_kernel_sum0.5, k=kernels$best_k[3], theta=kernels$best_theta[3], 0, 30, method = \"pcubature\")$integral\n",
    "cubintegrate(integrate_kernel_sum0.5, k=kernels$best_k[4], theta=kernels$best_theta[4], 0, 30, method = \"pcubature\")$integral\n",
    "cubintegrate(integrate_kernel_sum0.5, k=kernels$best_k[5], theta=kernels$best_theta[5], 0, 30, method = \"pcubature\")$integral\n",
    "cubintegrate(integrate_kernel_sum0.5, k=kernels$best_k[6], theta=kernels$best_theta[6], 0, 30, method = \"pcubature\")$integral\n",
    "cubintegrate(integrate_kernel_sum0.5, k=kernels$best_k[7], theta=kernels$best_theta[7], 0, 30, method = \"pcubature\")$integral\n",
    "cubintegrate(integrate_kernel_sum0.5, k=kernels$best_k[8], theta=kernels$best_theta[8], 0, 30, method = \"pcubature\")$integral\n"
   ]
  },
  {
   "cell_type": "code",
   "execution_count": 18,
   "metadata": {},
   "outputs": [],
   "source": [
    "min12 <- min(mdd12_df$log_like)\n",
    "mdd12_weighted <- mdd12_df %>%\n",
    "        mutate(deviation=min12/log_like) %>%\n",
    "        sample_n(size=1000, weight=deviation, replacement=T) %>%\n",
    "        mutate(Year=\"2012\")\n",
    "\n",
    "min13 <- min(mdd13_df$log_like)\n",
    "mdd13_weighted <- mdd13_df %>%\n",
    "        mutate(deviation=min13/log_like) %>%\n",
    "        sample_n(size=1000, weight=deviation, replacement=T) %>%\n",
    "        mutate(Year=\"2013\")\n",
    "\n",
    "min14 <- min(mdd14_df$log_like)\n",
    "mdd14_weighted <- mdd14_df %>%\n",
    "        mutate(deviation=min14/log_like) %>%\n",
    "        sample_n(size=1000, weight=deviation, replacement=T) %>%\n",
    "        mutate(Year=\"2014\")\n",
    "min15 <- min(mdd15_df$log_like)\n",
    "mdd15_weighted <- mdd15_df %>%\n",
    "        mutate(deviation=min15/log_like) %>%\n",
    "        sample_n(size=1000, weight=deviation, replacement=T) %>%\n",
    "        mutate(Year=\"2015\")\n",
    "min16 <- min(mdd16_df$log_like)\n",
    "mdd16_weighted <- mdd16_df %>%\n",
    "        mutate(deviation=min16/log_like) %>%\n",
    "        sample_n(size=1000, weight=deviation, replacement=T) %>%\n",
    "        mutate(Year=\"2016\")\n",
    "min17 <- min(mdd17_df$log_like)\n",
    "mdd17_weighted <- mdd17_df %>%\n",
    "        mutate(deviation=min17/log_like) %>%\n",
    "        sample_n(size=1000, weight=deviation, replacement=T) %>%\n",
    "        mutate(Year=\"2017\")\n",
    "min18 <- min(mdd18_df$log_like)\n",
    "mdd18_weighted <- mdd18_df %>%\n",
    "        mutate(deviation=min18/log_like) %>%\n",
    "        sample_n(size=1000, weight=deviation, replacement=T) %>%\n",
    "        mutate(Year=\"2018\")\n",
    "\n",
    "minall <- min(mddall_df$log_like)\n",
    "mddall_weighted <- mddall_df %>%\n",
    "        mutate(deviation=minall/log_like) %>%\n",
    "        sample_n(size=1000, weight=deviation, replacement=T) %>%\n",
    "        mutate(Year=\"2012-18\")"
   ]
  },
  {
   "cell_type": "code",
   "execution_count": 19,
   "metadata": {},
   "outputs": [],
   "source": [
    "all_mdd <- bind_rows(mdd12_weighted, mdd13_weighted, mdd14_weighted, mdd15_weighted, mdd16_weighted, mdd17_weighted, mdd18_weighted, mddall_weighted) %>%\n",
    "    mutate(Year=as.factor(Year)) %>%\n",
    "    arrange(Year)%>%\n",
    "    mutate(Year=factor(Year, levels=c(\"2012-18\", \"2018\", \"2017\", \"2016\", \"2015\", \"2014\", \"2013\", \"2012\"))) %>%\n",
    "    arrange(Year)\n",
    "#levels(all_mdd$Year) <- c(\"2012-18\", \"2018\", \"2017\", \"2016\", \"2015\", \"2014\", \"2013\", \"2012\")\n"
   ]
  },
  {
   "cell_type": "code",
   "execution_count": 21,
   "metadata": {},
   "outputs": [
    {
     "name": "stderr",
     "output_type": "stream",
     "text": [
      "Warning message:\n",
      "“Removed 1374 rows containing non-finite values (stat_ydensity).”Warning message:\n",
      "“Removed 1374 rows containing non-finite values (stat_ydensity).”"
     ]
    },
    {
     "data": {
      "image/png": "[encoded data removed]",
      "text/plain": [
       "plot without title"
      ]
     },
     "metadata": {},
     "output_type": "display_data"
    }
   ],
   "source": [
    "cbbPalette <- c(\"#000000\", \"#E69F00\", \"#56B4E9\", \"#009E73\", \"#F0E442\", \"#0072B2\", \"#D55E00\", \"#CC79A7\")\n",
    "cbbPalette_rev <- rev(cbbPalette)\n",
    "\n",
    "mdd_violin <- ggplot(data=all_mdd, aes(x=Year, y=mdd, color=Year, fill=Year), alpha=0.5) +\n",
    "    geom_violin() +\n",
    "    geom_point(data=kernels, aes(x=Year, y=MeanDispDist), fill=\"snow\",color=\"darkgray\", shape=21) +\n",
    "    coord_flip() +\n",
    "    #scale_x_continuous(limits = c(0, 100), expand=c(0,0)) +\n",
    "    scale_y_continuous(limits = c(0, 83), expand = c(0,0))+\n",
    "    theme(panel.grid.major = element_blank(),\n",
    "    plot.margin=unit(c(0.2,0.2,0.2,0.2),\"cm\"),\n",
    "    panel.grid.minor = element_blank(), \n",
    "    panel.background = element_blank(), #,\n",
    "    axis.line = element_line(colour = \"black\")) +\n",
    "    xlab(\"Year\") + \n",
    "    ylab(\"Mean dispersal distance (km)\") +\n",
    "    theme(axis.text.x = element_text(size=8, color=\"black\", family=\"Helvetica\"),#15 for publication, 20 for presentation #element_text(size=15, color=\"black\", family=\"Helvetica\"),\n",
    "    axis.text.y =  element_text(size=8, color=\"black\", family=\"Helvetica\"),\n",
    "    axis.title.y =  element_text(size=10, color=\"black\", family=\"Helvetica\"), \n",
    "    axis.title.x =  element_text(size=10, color=\"black\", family=\"Helvetica\"),    \n",
    "    legend.position = \"none\") + \n",
    "    scale_colour_manual(values=cbbPalette_rev)+\n",
    "    scale_fill_manual(values=cbbPalette_rev)\n",
    "    #scale_y_continuous(breaks = 1:2000, labels = c(1:50,\"break\",1000:2000))\n",
    "mdd_violin\n",
    "#ggplot2::ggsave(filename=\"All95CIMeanDispDistanceViolin_pub.pdf\",  plot=mdd_violin, width=83, height=70, units=\"mm\", path=\"~/parentage/kernel_fitting/1340_loci/final_results/mean_disp_dist/\")\n"
   ]
  },
  {
   "cell_type": "code",
   "execution_count": 29,
   "metadata": {},
   "outputs": [],
   "source": [
    "min18 <- min(profile18_95$log_like)\n",
    "\n"
   ]
  },
  {
   "cell_type": "code",
   "execution_count": 30,
   "metadata": {},
   "outputs": [],
   "source": [
    "#what does the distribution of kurtosis show?\n",
    "kurt12 <- profile12_95 %>%\n",
    "    mutate(kurtosis = ((gamma(5/theta_eval)*gamma(1/theta_eval))/gamma(3/theta_eval)^2)-3) %>%\n",
    "    mutate(deviation=min12/log_like) %>%\n",
    "    sample_n(size=1000, weight=deviation, replacement=T) %>%\n",
    "    mutate(Year=\"2012\")\n",
    "\n",
    "kurt13 <- profile13_95 %>%\n",
    "    mutate(kurtosis = ((gamma(5/theta_eval)*gamma(1/theta_eval))/gamma(3/theta_eval)^2)-3)%>%\n",
    "    mutate(deviation=min13/log_like) %>%\n",
    "    sample_n(size=1000, weight=deviation, replacement=T) %>%\n",
    "    mutate(Year=\"2013\")\n",
    "\n",
    "kurt14 <- profile14_95 %>%\n",
    "    mutate(kurtosis = ((gamma(5/theta_eval)*gamma(1/theta_eval))/gamma(3/theta_eval)^2)-3) %>%\n",
    "    mutate(deviation=min14/log_like) %>%\n",
    "    sample_n(size=1000, weight=deviation, replacement=T) %>%\n",
    "    mutate(Year=\"2014\")\n",
    "\n",
    "kurt15 <- profile15_95 %>%\n",
    "    mutate(kurtosis = ((gamma(5/theta_eval)*gamma(1/theta_eval))/gamma(3/theta_eval)^2)-3)%>%\n",
    "    mutate(deviation=min15/log_like) %>%\n",
    "    sample_n(size=1000, weight=deviation, replacement=T) %>%\n",
    "    mutate(Year=\"2015\")\n",
    "\n",
    "kurt16 <- profile16_95 %>%\n",
    "    mutate(kurtosis = ((gamma(5/theta_eval)*gamma(1/theta_eval))/gamma(3/theta_eval)^2)-3) %>%\n",
    "    mutate(deviation=min16/log_like) %>%\n",
    "    sample_n(size=1000, weight=deviation, replacement=T) %>%\n",
    "    mutate(Year=\"2016\")\n",
    "\n",
    "kurt17 <- profile17_95 %>%\n",
    "    mutate(kurtosis = ((gamma(5/theta_eval)*gamma(1/theta_eval))/gamma(3/theta_eval)^2)-3)%>%\n",
    "    mutate(deviation=min17/log_like) %>%\n",
    "    sample_n(size=1000, weight=deviation, replacement=T) %>%\n",
    "    mutate(Year=\"2017\")\n",
    "\n",
    "kurt18 <- profile18_95 %>%\n",
    "    mutate(kurtosis = ((gamma(5/theta_eval)*gamma(1/theta_eval))/gamma(3/theta_eval)^2)-3)%>%\n",
    "    mutate(deviation=min18/log_like) %>%\n",
    "    sample_n(size=1000, weight=deviation, replacement=T) %>%\n",
    "    mutate(Year=\"2018\")\n",
    "\n",
    "kurt_all <- profileall_95 %>%\n",
    "    mutate(kurtosis = ((gamma(5/theta_eval)*gamma(1/theta_eval))/gamma(3/theta_eval)^2)-3)%>%\n",
    "    mutate(deviation=minall/log_like) %>%\n",
    "    sample_n(size=1000, weight=deviation, replacement=T) %>%\n",
    "    mutate(Year=\"2012-18\")\n",
    "\n",
    "\n"
   ]
  },
  {
   "cell_type": "code",
   "execution_count": 31,
   "metadata": {},
   "outputs": [],
   "source": [
    "all_kurt <- bind_rows(kurt12, kurt13, kurt14, kurt15, kurt16, kurt17, kurt18, kurt_all) %>%\n",
    "    #mutate(Year=as.character(Year)) %>%\n",
    "    mutate(kurtosis_qual=ifelse(kurtosis > 0, \"Leptokurtic\", \"Playkurtic\")) %>%\n",
    "    mutate(log_kurt=log(kurtosis+2))\n"
   ]
  },
  {
   "cell_type": "code",
   "execution_count": 32,
   "metadata": {},
   "outputs": [
    {
     "data": {
      "text/html": [
       "<table>\n",
       "<thead><tr><th scope=col>Year</th><th scope=col>best_theta</th><th scope=col>kurt</th><th scope=col>log_kurt</th></tr></thead>\n",
       "<tbody>\n",
       "\t<tr><td>2012        </td><td>1.03        </td><td>   2.7576387</td><td>1.55975148  </td></tr>\n",
       "\t<tr><td>2013        </td><td>0.22        </td><td>1008.9403696</td><td>6.91863624  </td></tr>\n",
       "\t<tr><td>2014        </td><td>0.38        </td><td>  59.8625346</td><td>4.12491474  </td></tr>\n",
       "\t<tr><td>2015        </td><td>0.67        </td><td>   9.1264042</td><td>2.40932104  </td></tr>\n",
       "\t<tr><td>2016        </td><td>5.00        </td><td>  -0.9299017</td><td>0.06775054  </td></tr>\n",
       "\t<tr><td>2017        </td><td>0.26        </td><td> 363.3327201</td><td>5.90080850  </td></tr>\n",
       "\t<tr><td>2018        </td><td>1.37        </td><td>   1.1060033</td><td>1.13333680  </td></tr>\n",
       "\t<tr><td>2012-18     </td><td>1.49        </td><td>   0.7852233</td><td>1.02432805  </td></tr>\n",
       "</tbody>\n",
       "</table>\n"
      ],
      "text/latex": [
       "\\begin{tabular}{r|llll}\n",
       " Year & best\\_theta & kurt & log\\_kurt\\\\\n",
       "\\hline\n",
       "\t 2012         & 1.03         &    2.7576387 & 1.55975148  \\\\\n",
       "\t 2013         & 0.22         & 1008.9403696 & 6.91863624  \\\\\n",
       "\t 2014         & 0.38         &   59.8625346 & 4.12491474  \\\\\n",
       "\t 2015         & 0.67         &    9.1264042 & 2.40932104  \\\\\n",
       "\t 2016         & 5.00         &   -0.9299017 & 0.06775054  \\\\\n",
       "\t 2017         & 0.26         &  363.3327201 & 5.90080850  \\\\\n",
       "\t 2018         & 1.37         &    1.1060033 & 1.13333680  \\\\\n",
       "\t 2012-18      & 1.49         &    0.7852233 & 1.02432805  \\\\\n",
       "\\end{tabular}\n"
      ],
      "text/markdown": [
       "\n",
       "| Year | best_theta | kurt | log_kurt |\n",
       "|---|---|---|---|\n",
       "| 2012         | 1.03         |    2.7576387 | 1.55975148   |\n",
       "| 2013         | 0.22         | 1008.9403696 | 6.91863624   |\n",
       "| 2014         | 0.38         |   59.8625346 | 4.12491474   |\n",
       "| 2015         | 0.67         |    9.1264042 | 2.40932104   |\n",
       "| 2016         | 5.00         |   -0.9299017 | 0.06775054   |\n",
       "| 2017         | 0.26         |  363.3327201 | 5.90080850   |\n",
       "| 2018         | 1.37         |    1.1060033 | 1.13333680   |\n",
       "| 2012-18      | 1.49         |    0.7852233 | 1.02432805   |\n",
       "\n"
      ],
      "text/plain": [
       "  Year    best_theta kurt         log_kurt  \n",
       "1 2012    1.03          2.7576387 1.55975148\n",
       "2 2013    0.22       1008.9403696 6.91863624\n",
       "3 2014    0.38         59.8625346 4.12491474\n",
       "4 2015    0.67          9.1264042 2.40932104\n",
       "5 2016    5.00         -0.9299017 0.06775054\n",
       "6 2017    0.26        363.3327201 5.90080850\n",
       "7 2018    1.37          1.1060033 1.13333680\n",
       "8 2012-18 1.49          0.7852233 1.02432805"
      ]
     },
     "metadata": {},
     "output_type": "display_data"
    },
    {
     "data": {
      "text/plain": [
       "    Min.  1st Qu.   Median     Mean  3rd Qu.     Max. \n",
       " 0.06775  0.72398  1.80636  3.06053  4.71016 14.85349 "
      ]
     },
     "metadata": {},
     "output_type": "display_data"
    }
   ],
   "source": [
    "mle_kurt <- kernels %>%\n",
    "    select(Year, best_theta) %>%\n",
    "    mutate(kurt=((gamma(5/best_theta)*gamma(1/best_theta))/gamma(3/best_theta)^2)-3) %>%\n",
    "    mutate(log_kurt=log(kurt+2))\n",
    "#summary(all_kurt$kurtosis)\n",
    "mle_kurt\n",
    "summary(all_kurt$log_kurt)"
   ]
  },
  {
   "cell_type": "code",
   "execution_count": 71,
   "metadata": {},
   "outputs": [
    {
     "data": {
      "text/html": [
       "0.591412088803044"
      ],
      "text/latex": [
       "0.591412088803044"
      ],
      "text/markdown": [
       "0.591412088803044"
      ],
      "text/plain": [
       "[1] 0.5914121"
      ]
     },
     "metadata": {},
     "output_type": "display_data"
    }
   ],
   "source": [
    "theta_eval=1.58\n",
    "((gamma(5/theta_eval)*gamma(1/theta_eval))/gamma(3/theta_eval)^2)-3"
   ]
  },
  {
   "cell_type": "code",
   "execution_count": 50,
   "metadata": {},
   "outputs": [
    {
     "data": {
      "image/png": "[encoded data removed]",
      "text/plain": [
       "plot without title"
      ]
     },
     "metadata": {},
     "output_type": "display_data"
    }
   ],
   "source": [
    "cbbPalette <- rev(c(\"#000000\", \"#E69F00\", \"#56B4E9\", \"#009E73\", \"#F0E442\", \"#0072B2\", \"#D55E00\", \"#CC79A7\"))\n",
    "all_kurt$Year <- factor(all_kurt$Year, levels=rev(c(\"2012\", \"2013\", \"2014\", \"2015\", \"2016\", \"2017\", \"2018\", \"2012-18\")))\n",
    "\n",
    "kurt_violin <- ggplot(data=all_kurt, aes(x=Year, y=log_kurt, color=Year, fill=Year), alpha=0.5) +\n",
    "    geom_hline(yintercept = 2, linetype=\"dashed\") + \n",
    "    geom_violin() +\n",
    "    geom_point(data=mle_kurt, aes(x=Year, y=log_kurt), fill=\"snow\",color=\"darkgray\", shape=21) +\n",
    "    coord_flip() +\n",
    "    scale_y_continuous(limits = c(-1, 16), expand = c(0,0))+\n",
    "    theme(panel.grid.major = element_blank(),\n",
    "    plot.margin=unit(c(0.2,0.2,0.2,0.2),\"cm\"),\n",
    "    panel.grid.minor = element_blank(), \n",
    "    panel.background = element_blank(), #,\n",
    "    axis.line = element_line(colour = \"black\")) +\n",
    "    xlab(\"Year\") + \n",
    "    ylab(\"log(Excess kurtosis+2)\") + \n",
    "    theme(axis.text.x = element_text(size=8, color=\"black\", family=\"Helvetica\"),#15 for publication, 20 for presentation #element_text(size=15, color=\"black\", family=\"Helvetica\"),\n",
    "    axis.text.y =  element_text(size=8, color=\"black\", family=\"Helvetica\"),\n",
    "    axis.title.y =  element_text(size=10, color=\"black\", family=\"Helvetica\"), \n",
    "    axis.title.x =  element_text(size=10, color=\"black\", family=\"Helvetica\"), \n",
    "    legend.position = \"none\") + \n",
    "    scale_colour_manual(values=cbbPalette)+\n",
    "    scale_fill_manual(values=cbbPalette)\n",
    "\n",
    "\n",
    "kurt_violin"
   ]
  },
  {
   "cell_type": "code",
   "execution_count": 53,
   "metadata": {},
   "outputs": [],
   "source": [
    "ggplot2::ggsave(filename=\"KurtosisViolin_pub.pdf\",  plot=kurt_violin, width=83, height=70, units=\"mm\", path=\"~/parentage/kernel_fitting/1340_loci/final_results/mean_disp_dist/\")\n",
    "\n"
   ]
  },
  {
   "cell_type": "code",
   "execution_count": 60,
   "metadata": {},
   "outputs": [
    {
     "ename": "ERROR",
     "evalue": "Error in eval(expr, envir, enclos): object 'y' not found\n",
     "output_type": "error",
     "traceback": [
      "Error in eval(expr, envir, enclos): object 'y' not found\nTraceback:\n"
     ]
    }
   ],
   "source": [
    "log(x+2)=y\n",
    "exp(y)=x+2\n",
    "exp(y)-2=x"
   ]
  },
  {
   "cell_type": "code",
   "execution_count": 56,
   "metadata": {},
   "outputs": [
    {
     "data": {
      "text/html": [
       "2823513.04880637"
      ],
      "text/latex": [
       "2823513.04880637"
      ],
      "text/markdown": [
       "2823513.04880637"
      ],
      "text/plain": [
       "[1] 2823513"
      ]
     },
     "metadata": {},
     "output_type": "display_data"
    }
   ],
   "source": [
    "max(all_kurt$kurtosis)"
   ]
  },
  {
   "cell_type": "code",
   "execution_count": 58,
   "metadata": {},
   "outputs": [
    {
     "data": {
      "text/html": [
       "1e+15"
      ],
      "text/latex": [
       "1e+15"
      ],
      "text/markdown": [
       "1e+15"
      ],
      "text/plain": [
       "[1] 1e+15"
      ]
     },
     "metadata": {},
     "output_type": "display_data"
    }
   ],
   "source": [
    "10^15 == 10\n"
   ]
  },
  {
   "cell_type": "code",
   "execution_count": 59,
   "metadata": {},
   "outputs": [
    {
     "data": {
      "text/html": [
       "34.5387763949107"
      ],
      "text/latex": [
       "34.5387763949107"
      ],
      "text/markdown": [
       "34.5387763949107"
      ],
      "text/plain": [
       "[1] 34.53878"
      ]
     },
     "metadata": {},
     "output_type": "display_data"
    }
   ],
   "source": [
    "log(1e+15)"
   ]
  },
  {
   "cell_type": "code",
   "execution_count": 64,
   "metadata": {},
   "outputs": [
    {
     "data": {
      "text/html": [
       "3269015.37247211"
      ],
      "text/latex": [
       "3269015.37247211"
      ],
      "text/markdown": [
       "3269015.37247211"
      ],
      "text/plain": [
       "[1] 3269015"
      ]
     },
     "metadata": {},
     "output_type": "display_data"
    }
   ],
   "source": [
    "exp(15)-2"
   ]
  },
  {
   "cell_type": "code",
   "execution_count": 62,
   "metadata": {},
   "outputs": [
    {
     "data": {
      "text/html": [
       "4.98360662170834"
      ],
      "text/latex": [
       "4.98360662170834"
      ],
      "text/markdown": [
       "4.98360662170834"
      ],
      "text/plain": [
       "[1] 4.983607"
      ]
     },
     "metadata": {},
     "output_type": "display_data"
    }
   ],
   "source": [
    "log(146)"
   ]
  },
  {
   "cell_type": "code",
   "execution_count": null,
   "metadata": {},
   "outputs": [],
   "source": []
  }
 ],
 "metadata": {
  "kernelspec": {
   "display_name": "R",
   "language": "R",
   "name": "ir"
  },
  "language_info": {
   "codemirror_mode": "r",
   "file_extension": ".r",
   "mimetype": "text/x-r-source",
   "name": "R",
   "pygments_lexer": "r",
   "version": "3.6.1"
  }
 },
 "nbformat": 4,
 "nbformat_minor": 2
}
