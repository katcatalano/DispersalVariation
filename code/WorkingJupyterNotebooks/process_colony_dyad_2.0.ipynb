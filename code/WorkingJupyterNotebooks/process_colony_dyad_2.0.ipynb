{
 "cells": [
  {
   "cell_type": "code",
   "execution_count": 169,
   "metadata": {},
   "outputs": [],
   "source": [
    "Packages <- c(\"dplyr\", \"ggplot2\",\"stringr\",\"fields\", \"tidyr\",  \"lubridate\", \"RColorBrewer\", \"igraph\", \"lubridate\")\n",
    "\n",
    "invisible(suppressPackageStartupMessages(lapply(Packages, library, character.only = TRUE)))\n",
    "\n",
    "setwd('/local/home/katrinac/parentage/')\n",
    "\n",
    "#download.file(url = \"https://raw.githubusercontent.com/pinskylab/genomics/master/data/known_issues.csv\", destfile = \"~/parentage/r_data/known_issues.csv\")\n",
    "issues <- read.csv(\"~/parentage/r_data/known_issues.csv\", header=T, stringsAsFactors = F)\n",
    "#download.file(url = \"https://github.com/pinskylab/Clownfish_persistence/blob/master/Data/Data_from_database/fish_db.RData?raw=true\", destfile = \"~/parentage/r_data/dives_db.RData\")\n",
    "load(\"~/parentage/r_data/fish_db.RData\")\n",
    "#download.file(url = \"https://github.com/pinskylab/Clownfish_persistence/blob/master/Data/Data_from_database/anem_db.RData?raw=true\", destfile = \"~/parentage/r_data/anem_db.RData\")\n",
    "load(\"~/parentage/r_data/anem_db.RData\")\n",
    "#download.file(url = \"https://github.com/pinskylab/Clownfish_persistence/blob/master/Data/Data_from_database/dives_db.RData?raw=true\", destfile = \"~/parentage/r_data/dives_db.RData\")\n",
    "load(\"~/parentage/r_data/dives_db.RData\")\n",
    "#download.file(url = \"https://github.com/pinskylab/Clownfish_persistence/blob/master/Data/Data_from_database/fish_db.RData?raw=true\", destfile = \"~/parentage/r_data/dives_db.RData\")\n",
    "load(\"~/parentage/r_data/fish_db.RData\")\n",
    "load(\"~/parentage/r_data/gps_db.RData\")\n",
    "#download.file(url = \"https://github.com/pinskylab/Clownfish_persistence/blob/master/Data/anems_tagged.RData\", destfile = \"~/parentage/r_data/anems_tagged.RData\")\n",
    "load(\"~/parentage/r_data/anems_tagged.RData\")\n",
    "#download.file(url = \"https://github.com/pinskylab/genomics/blob/master/data/fish-obs.RData?raw=true\", destfile = \"~/parentage/r_data/fish-obs.RData\")\n",
    "fish_obs <- readRDS(\"~/parentage/r_data/fish-obs.RData\") \n",
    "#download.file(url = \"https://raw.githubusercontent.com/pinskylab/db_backups/master/ligation_1-7-20.csv\", destfile = \"~/parentage/r_data/ligation_db.csv\")\n",
    "lig_db <- read.csv(\"~/parentage/r_data/ligation_db.csv\", header=T, stringsAsFactors = F)\n",
    "#download.file(url = \"https://raw.githubusercontent.com/pinskylab/db_backups/master/digest_1-7-20.csv\", destfile = \"~/parentage/r_data/digest_db.csv\")\n",
    "dig_db <- read.csv(\"~/parentage/r_data/digest_db.csv\", header=T, stringsAsFactors = F)\n",
    "#download.file(url = \"https://raw.githubusercontent.com/pinskylab/db_backups/master/extraction_1-7-20.csv\", destfile = \"~/parentage/r_data/extraction_db.csv\")\n",
    "ext_db <- read.csv(\"~/parentage/r_data/extraction_db.csv\", header=T, stringsAsFactors = F)\n",
    "offs_input <- read.table(file=\"~/parentage/colony2/20190523_1340loci/input/all_offspring_corrected.txt\", sep= \" \", header=TRUE) %>%\n",
    "    mutate(fish_indiv=as.character(fish_indiv))##read distance matrices in \n",
    "#dist12 <- read.csv(\"/local/home/katrinac/parentage/kernel_fitting/1340_loci/input/distance_matrix12.csv\", header=F)\n",
    "#dist13 <- read.csv(\"/local/home/katrinac/parentage/kernel_fitting/1340_loci/input/distance_matrix13.csv\", header=F)\n",
    "#dist14 <- read.csv(\"/local/home/katrinac/parentage/kernel_fitting/1340_loci/input/distance_matrix14.csv\", header=F)\n",
    "#dist15 <- read.csv(\"/local/home/katrinac/parentage/kernel_fitting/1340_loci/input/distance_matrix15.csv\", header=F)\n",
    "#dist16 <- read.csv(\"/local/home/katrinac/parentage/kernel_fitting/1340_loci/input/distance_matrix16.csv\", header=F)\n",
    "#dist17 <- read.csv(\"/local/home/katrinac/parentage/kernel_fitting/1340_loci/input/distance_matrix17.csv\", header=F)\n",
    "#dist18 <- read.csv(\"/local/home/katrinac/parentage/kernel_fitting/1340_loci/input/distance_matrix18.csv\", header=F)\n",
    "dist_all <- read.csv(\"/local/home/katrinac/parentage/kernel_fitting/1340_loci/input/distance_matrix_sampled.csv\", header = F)\n",
    "\n",
    "\"%!in%\" <- function(x,table) match(x,table, nomatch = 0) == 0\n"
   ]
  },
  {
   "cell_type": "code",
   "execution_count": 137,
   "metadata": {},
   "outputs": [
    {
     "name": "stdout",
     "output_type": "stream",
     "text": [
      "'data.frame':\t791 obs. of  8 variables:\n",
      " $ fish_indiv : chr  \"762\" \"2318\" \"409\" \"2317\" ...\n",
      " $ year       : int  2012 2012 2012 2012 2012 2012 2012 2012 2012 2012 ...\n",
      " $ size       : num  5.1 4.1 4.5 5.1 4.1 5.4 5.5 4.8 5.3 5.3 ...\n",
      " $ color      : Factor w/ 9 levels \"B\",\"BW\",\"O\",\"W\",..: 7 7 7 4 NA NA 7 4 NA 4 ...\n",
      " $ sex        : Factor w/ 1 level \"J\": 1 1 1 1 NA NA 1 1 NA 1 ...\n",
      " $ gen_id     : int  762 2318 409 2317 2072 92 267 148 199 121 ...\n",
      " $ ligation_id: Factor w/ 790 levels \"L0256\",\"L0258\",..: 342 343 315 356 295 296 297 298 299 300 ...\n",
      " $ sample_id  : Factor w/ 790 levels \"APCL12_023\",\"APCL12_031\",..: 57 60 61 33 13 14 15 18 19 20 ...\n"
     ]
    }
   ],
   "source": [
    "str(offs_input)"
   ]
  },
  {
   "cell_type": "markdown",
   "metadata": {},
   "source": [
    "__import the .maternity & .paternity files__"
   ]
  },
  {
   "cell_type": "code",
   "execution_count": 8,
   "metadata": {
    "scrolled": true
   },
   "outputs": [],
   "source": [
    "##SEARCH AND REPLACE FOR YEAR for MATCHES\n",
    "#par1 <- read.table(file= \"/local/home/katrinac/parentage/colony2/20190523_1340loci/results/1340loci_2012.Maternity\", header= TRUE, stringsAsFactors = F)\t\n",
    "#par2 <- read.table(file= \"/local/home/katrinac/parentage/colony2/20190523_1340loci/results/1340loci_2012.Paternity\", header= TRUE, stringsAsFactors = F)\t\n",
    "#\n",
    "#\n",
    "#par1 <- par1 %>% \n",
    "#    rename(offs_lig=\"OffspringID\", par_lig = \"InferredMum1\", prob=\"ProbMum1\")\n",
    "#    \n",
    "#par2 <- par2 %>% \n",
    "#    rename(offs_lig=\"OffspringID\", par_lig = \"InferredDad1\", prob= \"ProbDad1\")\n",
    "#\n",
    "##bind together into 1 df\n",
    "#par12 <- bind_rows(par1, par2) %>%\n",
    "#    mutate(year=\"2012\")\n",
    "#"
   ]
  },
  {
   "cell_type": "code",
   "execution_count": 35,
   "metadata": {},
   "outputs": [],
   "source": [
    "par18 <- read.csv(file= \"/local/home/katrinac/parentage/colony2/20200605_1340loci/results/1340loci_2018.BestConfig.txt\", header= TRUE, stringsAsFactors = F) %>%\n",
    "    filter(grepl(\"L\",FatherID) | grepl(\"L\",MotherID)) %>% #get parentage results\n",
    "    mutate(year=\"2018\") %>%\n",
    "    select(-CloneIndex, -ClusterIndex)"
   ]
  },
  {
   "cell_type": "code",
   "execution_count": null,
   "metadata": {},
   "outputs": [],
   "source": []
  },
  {
   "cell_type": "code",
   "execution_count": 97,
   "metadata": {},
   "outputs": [
    {
     "data": {
      "text/html": [
       "85"
      ],
      "text/latex": [
       "85"
      ],
      "text/markdown": [
       "85"
      ],
      "text/plain": [
       "[1] 85"
      ]
     },
     "metadata": {},
     "output_type": "display_data"
    }
   ],
   "source": [
    "##bind all year parentage together\n",
    "allpar <- bind_rows(par12, par13, par14, par15, par16, par17, par18) %>% \n",
    "    filter(MotherID !=\"L1091\" | FatherID != \"L1091\") %>% #remove APCL13_128, the parent that moved (see later in script for explaination comment)\n",
    "    gather(key=par_type, value=par_lig, 2:3) %>%\n",
    "    filter(grepl(\"L\",par_lig)) %>%\n",
    "    rename(offs_lig=\"OffspringID\") %>%\n",
    "    select(-par_type)\n",
    "\n",
    "nrow(allpar) #should be \n",
    "##replace NAs with zeros\n",
    "##allpar$ProbMum1[is.na(allpar$ProbMum1)] <- 0\n",
    "##allpar$ProbDad1[is.na(allpar$ProbDad1)] <- 0"
   ]
  },
  {
   "cell_type": "code",
   "execution_count": 10,
   "metadata": {},
   "outputs": [
    {
     "data": {
      "text/html": [
       "86"
      ],
      "text/latex": [
       "86"
      ],
      "text/markdown": [
       "86"
      ],
      "text/plain": [
       "[1] 86"
      ]
     },
     "metadata": {},
     "output_type": "display_data"
    },
    {
     "data": {
      "text/html": [
       "62"
      ],
      "text/latex": [
       "62"
      ],
      "text/markdown": [
       "62"
      ],
      "text/plain": [
       "[1] 62"
      ]
     },
     "metadata": {},
     "output_type": "display_data"
    }
   ],
   "source": [
    "#allpar_clean <- allpar %>%\n",
    "#    group_by(offs_lig, par_lig) %>%\n",
    "#    mutate(prob = sum(prob, na.rm = T)) %>% #add the probabilities when a parent was matched twice\n",
    "#    ungroup()%>%\n",
    "#    filter(prob >= 0.95) #remove low prob matches\n",
    "#nrow(allpar_clean)\n",
    "#nrow(distinct(allpar_clean, offs_lig))"
   ]
  },
  {
   "cell_type": "code",
   "execution_count": 65,
   "metadata": {},
   "outputs": [],
   "source": [
    "#write.csv(allpar, file=\"~/parentage/colony2/20200605_1340loci/results/allpar_clean.csv\", row.names=FALSE, quote=FALSE)\n",
    "\n",
    "\n"
   ]
  },
  {
   "cell_type": "code",
   "execution_count": 98,
   "metadata": {},
   "outputs": [],
   "source": [
    "allpar_clean <- read.csv(file=\"~/parentage/colony2/20200605_1340loci/results/allpar_clean.csv\", header=T, stringsAsFactors = F)"
   ]
  },
  {
   "cell_type": "code",
   "execution_count": 99,
   "metadata": {},
   "outputs": [
    {
     "data": {
      "text/html": [
       "<table>\n",
       "<thead><tr><th scope=col>offs_lig</th><th scope=col>year</th><th scope=col>par_lig</th></tr></thead>\n",
       "<tbody>\n",
       "</tbody>\n",
       "</table>\n"
      ],
      "text/latex": [
       "\\begin{tabular}{r|lll}\n",
       " offs\\_lig & year & par\\_lig\\\\\n",
       "\\hline\n",
       "\\end{tabular}\n"
      ],
      "text/markdown": [
       "\n",
       "| offs_lig | year | par_lig |\n",
       "|---|---|---|\n",
       "\n"
      ],
      "text/plain": [
       "     offs_lig year par_lig"
      ]
     },
     "metadata": {},
     "output_type": "display_data"
    },
    {
     "data": {
      "text/html": [
       "85"
      ],
      "text/latex": [
       "85"
      ],
      "text/markdown": [
       "85"
      ],
      "text/plain": [
       "[1] 85"
      ]
     },
     "metadata": {},
     "output_type": "display_data"
    }
   ],
   "source": [
    "allpar_clean %>% filter(offs_lig == \"L5292\" | par_lig == \"L5292 \")\n",
    "nrow(allpar_clean)"
   ]
  },
  {
   "cell_type": "code",
   "execution_count": 100,
   "metadata": {},
   "outputs": [
    {
     "data": {
      "text/html": [
       "71"
      ],
      "text/latex": [
       "71"
      ],
      "text/markdown": [
       "71"
      ],
      "text/plain": [
       "[1] 71"
      ]
     },
     "metadata": {},
     "output_type": "display_data"
    },
    {
     "data": {
      "text/html": [
       "57"
      ],
      "text/latex": [
       "57"
      ],
      "text/markdown": [
       "57"
      ],
      "text/plain": [
       "[1] 57"
      ]
     },
     "metadata": {},
     "output_type": "display_data"
    },
    {
     "data": {
      "text/html": [
       "28"
      ],
      "text/latex": [
       "28"
      ],
      "text/markdown": [
       "28"
      ],
      "text/plain": [
       "[1] 28"
      ]
     },
     "metadata": {},
     "output_type": "display_data"
    }
   ],
   "source": [
    "#summary numbers\n",
    "n_total_matches <- allpar_clean %>%\n",
    "    group_by(offs_lig) %>%\n",
    "    mutate(n_parents=ifelse(n()==2, 2, 1 )) %>%\n",
    "    distinct(offs_lig, .keep_all = T)\n",
    "\n",
    "\n",
    "#so 62 parentage matches, of which 48 are trios\n",
    "#how many in each year?\n",
    "sum_offs <- allpar_clean %>%\n",
    "    group_by(year) %>%\n",
    "    distinct(offs_lig, .keep_all = T) %>%\n",
    "    summarise(n_offs_matched=n())\n",
    "\n",
    "sum(sum_offs$n_offs_matched)#check, should be 71\n",
    "sum(n_total_matches$n_parents[n_total_matches$n_parents ==1])#should be 57\n",
    "sum(n_total_matches$n_parents[n_total_matches$n_parents ==2])#should be 28\n",
    "#REMEMBER I REMOVED ONE PARENT FROM THE RESULTS BECAUSE THE SITE ATTACHED TO THAT PARENT ISN'T WHERE THE LARVAE LIKELY ORIGINATED FROM\n",
    "# 05/2019 results ->87 total matches, and of those 24 are repeats (trio matches). So, 86-48=38 maches to one parent. Then 24 matches to two parents, for a total of 62 rows of distinct offspring lig ids.\n"
   ]
  },
  {
   "cell_type": "code",
   "execution_count": 151,
   "metadata": {},
   "outputs": [],
   "source": [
    "#from Allison, just putting all the meta data together (Constants_database_common_functions.R)\n",
    "##### Match up other relevant info (site, date, fish_indiv, etc.) to fish in the clownfish table\n",
    "# Pull out year and month into a separate column in dives_db\n",
    "dives_db_processed <- dives_db %>%\n",
    "  mutate(year = as.integer(substring(date,1,4))) %>%\n",
    "  mutate(month = as.integer(substring(date,6,7))) %>%\n",
    "  mutate(dive_date = date(date))\n",
    "\n",
    "# Pull all APCL caught or otherwise in the clownfish table\n",
    "allfish_fish <- fish_db %>%\n",
    "  select(fish_table_id, anem_table_id, fish_spp, sample_id, anem_table_id, recap, tag_id, color, sex, size, fish_obs_time, fish_notes) %>%\n",
    "  filter(fish_spp == 'APCL') %>%\n",
    "  mutate(size = as.numeric(size))  # make the size numeric (rather than chr) so can do means and such\n",
    "\n",
    "# and their corresponding anemones\n",
    "allfish_anems <- anem_db %>%\n",
    "  select(anem_table_id, dive_table_id, anem_obs, anem_id, old_anem_id, anem_notes, anem_obs_time) %>%\n",
    "  filter(anem_table_id %in% allfish_fish$anem_table_id)\n",
    "\n",
    "# and the corresponding dive info\n",
    "allfish_dives <- dives_db_processed %>%\n",
    "  select(dive_table_id, dive_type, date, year, month, site, gps, dive_notes) %>%\n",
    "  filter(dive_table_id %in% allfish_anems$dive_table_id) \n",
    "\n",
    "# join together\n",
    "allfish_caught <- left_join(allfish_fish, allfish_anems, by=\"anem_table_id\")\n",
    "allfish_caught <- left_join(allfish_caught, allfish_dives, by=\"dive_table_id\")\n",
    "\n",
    "# add in the gen_ids and fish_indiv (now in a separate gen_id table) - gen_id only comes in the time the fish was sequenced, not at all captures\n",
    "allfish_caught <- left_join(allfish_caught, (fish_obs %>% select(fish_table_id, gen_id, fish_indiv)), by = \"fish_table_id\")\n",
    "\n",
    "#get sample ids for ligation ids\n",
    "ext_db <- ext_db %>%\n",
    "    select(extraction_id, sample_id)\n",
    "dig_db <- dig_db %>%\n",
    "    select(extraction_id, digest_id)\n",
    "lig_db <- lig_db %>%\n",
    "    select(ligation_id, digest_id)\n",
    "ext_dig <- left_join(ext_db, dig_db, by=\"extraction_id\")\n",
    "dig_lig <- left_join(ext_dig, lig_db, by=\"digest_id\")\n",
    "lig_samp <- dig_lig %>%\n",
    "    select(ligation_id, sample_id) %>%\n",
    "    filter(sample_id %in% allfish_caught$sample_id) #remove everything but sampled APCL\n",
    "\n",
    "fish_meta <- left_join(allfish_caught, lig_samp,  by=\"sample_id\") %>%\n",
    "    select(fish_indiv, size, color, sex, gen_id, ligation_id, sample_id, site, date, anem_obs_time, gps) %>%\n",
    "    filter(!is.na(fish_indiv)) %>%\n",
    "    distinct(ligation_id, .keep_all = T) %>%\n",
    "    mutate(ligation_year=year(date))\n"
   ]
  },
  {
   "cell_type": "code",
   "execution_count": 179,
   "metadata": {
    "scrolled": false
   },
   "outputs": [
    {
     "data": {
      "text/html": [
       "<ol class=list-inline>\n",
       "\t<li>85</li>\n",
       "\t<li>41</li>\n",
       "</ol>\n"
      ],
      "text/latex": [
       "\\begin{enumerate*}\n",
       "\\item 85\n",
       "\\item 41\n",
       "\\end{enumerate*}\n"
      ],
      "text/markdown": [
       "1. 85\n",
       "2. 41\n",
       "\n",
       "\n"
      ],
      "text/plain": [
       "[1] 85 41"
      ]
     },
     "metadata": {},
     "output_type": "display_data"
    }
   ],
   "source": [
    "#get specific metadata for offspring\n",
    "allpar_samp1 <- fish_meta %>%\n",
    "    filter(ligation_id %in% allpar_clean$offs_lig) \n",
    "colnames(allpar_samp1) <- paste(\"offs\", colnames(allpar_samp1), sep = \"_\")\n",
    "\n",
    "#get specific metadata for parents\n",
    "allpar_samp2 <- fish_meta %>%\n",
    "    filter(ligation_id %in% allpar_clean$par_lig) \n",
    "colnames(allpar_samp2) <- paste(\"par\", colnames(allpar_samp2), sep = \"_\")\n",
    "\n",
    "#join back into parentage match format\n",
    "meta_with_offs <- left_join(allpar_samp1, allpar_clean, by=c(offs_ligation_id=\"offs_lig\"))\n",
    "    \n",
    "\n",
    "par_res <- left_join(allpar_samp2,meta_with_offs,  by=c(par_ligation_id=\"par_lig\")) %>%\n",
    "    filter(!is.na(par_ligation_id))\n",
    "\n",
    "#the long haul of adding lat lons\n",
    "results_meta <- par_res %>%\n",
    "    mutate(offs_time_date =as.character(str_c(offs_date, offs_anem_obs_time, sep = \" \"))) %>%\n",
    "    mutate(offs_time_date = ymd_hms(offs_time_date))%>%\n",
    "    mutate(offs_time_date = force_tz(offs_time_date, tzone = \"Asia/Manila\")) %>%\n",
    "    mutate(offs_time_date = with_tz(offs_time_date, tzone = \"UTC\")) %>%\n",
    "    mutate(offs_year = year(offs_time_date)) %>%\n",
    "    mutate(offs_month = month(offs_time_date)) %>%\n",
    "    mutate(offs_day = day(offs_time_date)) %>%\n",
    "    mutate(offs_hour = hour(offs_time_date)) %>%\n",
    "    mutate(offs_minute = minute(offs_time_date)) %>%\n",
    "    mutate(par_time_date =as.character(str_c(par_date, par_anem_obs_time, sep = \" \"))) %>%\n",
    "    mutate(par_time_date = ymd_hms(par_time_date))%>%\n",
    "    mutate(par_time_date = force_tz(par_time_date, tzone = \"Asia/Manila\")) %>%\n",
    "    mutate(par_time_date = with_tz(par_time_date, tzone = \"UTC\")) %>%\n",
    "    mutate(par_year = year(par_time_date)) %>%\n",
    "    mutate(par_month = month(par_time_date)) %>%\n",
    "    mutate(par_day = day(par_time_date)) %>%\n",
    "    mutate(par_hour = hour(par_time_date)) %>%\n",
    "    mutate(par_minute = minute(par_time_date))\n",
    "\n",
    "gps <- gps_db %>%\n",
    "    mutate(lat=as.numeric(lat)) %>%\n",
    "    mutate(lon=as.numeric(lon)) %>%\n",
    "    mutate(time_date = ymd_hms(time)) %>%\n",
    "    mutate(year = year(time_date)) %>%\n",
    "    mutate(month = month(time_date)) %>%\n",
    "    mutate(day = day(time_date)) %>%\n",
    "    mutate(hour = hour(time_date)) %>%\n",
    "    mutate(minute = minute(time_date)) %>%\n",
    "    select(-time_date, -elev, -time) %>%\n",
    "    group_by(unit, year, month, day, hour, minute) %>%\n",
    "    mutate(lat =mean(lat)) %>% #create within minute averages\n",
    "    mutate(lon=mean(lon)) %>%\n",
    "    distinct(.keep_all = T)\n",
    "\n",
    "add_offs_loc <- left_join(results_meta, gps, by=c(offs_gps=\"unit\",offs_year=\"year\", offs_month=\"month\", offs_day=\"day\", offs_hour=\"hour\", offs_minute=\"minute\")) %>%\n",
    "    rename(offs_lat=\"lat\", offs_lon=\"lon\") \n",
    "\n",
    "results_dist <- left_join(add_offs_loc, gps, by=c(par_gps=\"unit\",par_year=\"year\", par_month=\"month\", par_day=\"day\", par_hour=\"hour\", par_minute=\"minute\")) %>%\n",
    "    rename(par_lat=\"lat\", par_lon=\"lon\") \n",
    "dim(results_dist) #should be 85"
   ]
  },
  {
   "cell_type": "code",
   "execution_count": 180,
   "metadata": {},
   "outputs": [
    {
     "data": {
      "text/html": [
       "85"
      ],
      "text/latex": [
       "85"
      ],
      "text/markdown": [
       "85"
      ],
      "text/plain": [
       "[1] 85"
      ]
     },
     "metadata": {},
     "output_type": "display_data"
    }
   ],
   "source": [
    "nrow(results_dist)"
   ]
  },
  {
   "cell_type": "code",
   "execution_count": 181,
   "metadata": {},
   "outputs": [],
   "source": [
    "\n",
    "#calculate the distance from mom then from dad, use the average between the two to get net dispersal distance\n",
    "alldists <- rdist.earth(as.matrix(results_dist[,c('offs_lon', 'offs_lat')]), as.matrix(results_dist[,c('par_lon', 'par_lat')]), miles=FALSE, R=6371)\n",
    "results_dist$dist_par_km <- diag(alldists)\n",
    "\n",
    "\n"
   ]
  },
  {
   "cell_type": "code",
   "execution_count": 156,
   "metadata": {},
   "outputs": [
    {
     "data": {
      "text/html": [
       "71"
      ],
      "text/latex": [
       "71"
      ],
      "text/markdown": [
       "71"
      ],
      "text/plain": [
       "[1] 71"
      ]
     },
     "metadata": {},
     "output_type": "display_data"
    }
   ],
   "source": [
    "nrow(results_dist %>% distinct(offs_fish_indiv))"
   ]
  },
  {
   "cell_type": "code",
   "execution_count": 166,
   "metadata": {},
   "outputs": [
    {
     "data": {
      "text/html": [
       "<table>\n",
       "<thead><tr><th scope=col>offs_fish_indiv</th><th scope=col>offs_site</th><th scope=col>par_fish_indiv</th><th scope=col>par_site</th><th scope=col>par_size</th><th scope=col>par_color</th><th scope=col>par_sex</th><th scope=col>par_gen_id</th><th scope=col>par_ligation_id</th><th scope=col>par_sample_id</th><th scope=col>...</th><th scope=col>par_time_date</th><th scope=col>par_year</th><th scope=col>par_month</th><th scope=col>par_day</th><th scope=col>par_hour</th><th scope=col>par_minute</th><th scope=col>offs_lat</th><th scope=col>offs_lon</th><th scope=col>par_lat</th><th scope=col>par_lon</th></tr></thead>\n",
       "<tbody>\n",
       "\t<tr><td>1874               </td><td>Palanas            </td><td>1243               </td><td>Palanas            </td><td>10.1               </td><td>O                  </td><td>M                  </td><td>1243               </td><td>L5202              </td><td>APCL16_040         </td><td>...                </td><td>2016-05-13 03:06:00</td><td>2016               </td><td>5                  </td><td>13                 </td><td>3                  </td><td> 6                 </td><td>10.87279           </td><td>124.7118           </td><td>10.87417           </td><td>124.7108           </td></tr>\n",
       "\t<tr><td>1874               </td><td>Palanas            </td><td>2405               </td><td>Palanas            </td><td>10.2               </td><td>O                  </td><td>M                  </td><td>2405               </td><td>L5169              </td><td>APCL16_038         </td><td>...                </td><td>2016-05-13 03:07:00</td><td>2016               </td><td>5                  </td><td>13                 </td><td>3                  </td><td> 7                 </td><td>10.87279           </td><td>124.7118           </td><td>10.87418           </td><td>124.7107           </td></tr>\n",
       "\t<tr><td>1882               </td><td>San Agustin        </td><td>2683               </td><td>Palanas            </td><td>11.0               </td><td>YP                 </td><td>F                  </td><td>2683               </td><td>L3629              </td><td>APCL16_067         </td><td>...                </td><td>2016-05-13 07:24:00</td><td>2016               </td><td>5                  </td><td>13                 </td><td>7                  </td><td>24                 </td><td>10.76851           </td><td>124.7841           </td><td>10.87382           </td><td>124.7108           </td></tr>\n",
       "\t<tr><td>1882               </td><td>San Agustin        </td><td>2616               </td><td>Palanas            </td><td> 7.2               </td><td>O                  </td><td>M                  </td><td>2616               </td><td>L2917              </td><td>APCL15_400235      </td><td>...                </td><td>2015-05-30 07:55:00</td><td>2015               </td><td>5                  </td><td>30                 </td><td>7                  </td><td>55                 </td><td>10.76851           </td><td>124.7841           </td><td>10.87352           </td><td>124.7118           </td></tr>\n",
       "\t<tr><td>224                </td><td>Poroc San Flower   </td><td>196                </td><td>S. Magbangon       </td><td> 9.1               </td><td>O                  </td><td>M                  </td><td> 196               </td><td>L2567              </td><td>APCL12_145         </td><td>...                </td><td>2012-05-10 03:15:00</td><td>2012               </td><td>5                  </td><td>10                 </td><td>3                  </td><td>15                 </td><td>10.76404           </td><td>124.7852           </td><td>10.85723           </td><td>124.7249           </td></tr>\n",
       "\t<tr><td>224                </td><td>Poroc San Flower   </td><td>2050               </td><td>S. Magbangon       </td><td> 9.3               </td><td>Y                  </td><td>F                  </td><td>2050               </td><td>L2224              </td><td>APCL12_144         </td><td>...                </td><td>2012-05-10 03:15:00</td><td>2012               </td><td>5                  </td><td>10                 </td><td>3                  </td><td>15                 </td><td>10.76404           </td><td>124.7852           </td><td>10.85723           </td><td>124.7249           </td></tr>\n",
       "\t<tr><td>2297               </td><td>Cabatoan           </td><td>448                </td><td>Palanas            </td><td>10.1               </td><td>O                  </td><td>M                  </td><td> 448               </td><td>L0733              </td><td>APCL14_176         </td><td>...                </td><td>2014-06-17 02:52:00</td><td>2014               </td><td>6                  </td><td>17                 </td><td>2                  </td><td>52                 </td><td>10.85532           </td><td>124.7263           </td><td>10.87395           </td><td>124.7105           </td></tr>\n",
       "\t<tr><td>2297               </td><td>Cabatoan           </td><td>2056               </td><td>Palanas            </td><td> 9.8               </td><td>Y                  </td><td>F                  </td><td>2056               </td><td>L1763              </td><td>APCL12_095         </td><td>...                </td><td>2012-05-09 04:33:00</td><td>2012               </td><td>5                  </td><td> 9                 </td><td>4                  </td><td>33                 </td><td>10.85532           </td><td>124.7263           </td><td>10.87354           </td><td>124.7119           </td></tr>\n",
       "\t<tr><td>2704               </td><td>Palanas            </td><td>498                </td><td>Palanas            </td><td> 9.6               </td><td>O                  </td><td>M                  </td><td> 498               </td><td>L0957              </td><td>APCL14_165         </td><td>...                </td><td>2014-06-17 02:11:00</td><td>2014               </td><td>6                  </td><td>17                 </td><td>2                  </td><td>11                 </td><td>10.87374           </td><td>124.7112           </td><td>10.87378           </td><td>124.7109           </td></tr>\n",
       "\t<tr><td>2704               </td><td>Palanas            </td><td>1679               </td><td>Palanas            </td><td>11.8               </td><td>YP                 </td><td>F                  </td><td>1679               </td><td>L3425              </td><td>APCL17_065         </td><td>...                </td><td>2017-05-15 05:23:24</td><td>2017               </td><td>5                  </td><td>15                 </td><td>5                  </td><td>23                 </td><td>10.87374           </td><td>124.7112           </td><td>10.87398           </td><td>124.7108           </td></tr>\n",
       "\t<tr><td>534                </td><td>Palanas            </td><td>150                </td><td>Palanas            </td><td> 9.7               </td><td>O                  </td><td>M                  </td><td> 150               </td><td>L2366              </td><td>APCL12_097         </td><td>...                </td><td>2012-05-09 05:01:00</td><td>2012               </td><td>5                  </td><td> 9                 </td><td>5                  </td><td> 1                 </td><td>10.87320           </td><td>124.7125           </td><td>10.87332           </td><td>124.7122           </td></tr>\n",
       "\t<tr><td>534                </td><td>Palanas            </td><td>600                </td><td>Palanas            </td><td>10.5               </td><td>YP                 </td><td>F                  </td><td> 600               </td><td>L1311              </td><td>APCL13_484         </td><td>...                </td><td>2013-05-31 05:22:00</td><td>2013               </td><td>5                  </td><td>31                 </td><td>5                  </td><td>22                 </td><td>10.87320           </td><td>124.7125           </td><td>10.87311           </td><td>124.7120           </td></tr>\n",
       "\t<tr><td>542                </td><td>Sitio Baybayon     </td><td>626                </td><td>Sitio Baybayon     </td><td> 9.0               </td><td>O                  </td><td>M                  </td><td> 626               </td><td>L0592              </td><td>APCL14_291         </td><td>...                </td><td>2014-06-22 05:36:00</td><td>2014               </td><td>6                  </td><td>22                 </td><td>5                  </td><td>36                 </td><td>10.63348           </td><td>124.7770           </td><td>10.63461           </td><td>124.7763           </td></tr>\n",
       "\t<tr><td>542                </td><td>Sitio Baybayon     </td><td>2078               </td><td>Sitio Baybayon     </td><td> 9.1               </td><td>Y                  </td><td>F                  </td><td>2078               </td><td>L0591              </td><td>APCL14_290         </td><td>...                </td><td>2014-06-22 05:36:00</td><td>2014               </td><td>6                  </td><td>22                 </td><td>5                  </td><td>36                 </td><td>10.63348           </td><td>124.7770           </td><td>10.63461           </td><td>124.7763           </td></tr>\n",
       "\t<tr><td>549                </td><td>Wangag             </td><td>394                </td><td>Palanas            </td><td> 9.2               </td><td>O                  </td><td>M                  </td><td> 394               </td><td>L2442              </td><td>APCL13_496         </td><td>...                </td><td>2013-05-31 03:55:00</td><td>2013               </td><td>5                  </td><td>31                 </td><td>3                  </td><td>55                 </td><td>10.87155           </td><td>124.7139           </td><td>10.87282           </td><td>124.7119           </td></tr>\n",
       "\t<tr><td>549                </td><td>Wangag             </td><td>643                </td><td>Palanas            </td><td>10.7               </td><td>YP                 </td><td>F                  </td><td> 643               </td><td>L0477              </td><td>APCL13_497         </td><td>...                </td><td>2013-05-31 03:55:00</td><td>2013               </td><td>5                  </td><td>31                 </td><td>3                  </td><td>55                 </td><td>10.87155           </td><td>124.7139           </td><td>10.87282           </td><td>124.7119           </td></tr>\n",
       "\t<tr><td>645                </td><td>Visca              </td><td>25                 </td><td>Visca              </td><td>10.4               </td><td>YP                 </td><td>F                  </td><td>  25               </td><td>L2238              </td><td>APCL13_510         </td><td>...                </td><td>2013-06-01 09:18:00</td><td>2013               </td><td>6                  </td><td> 1                 </td><td>9                  </td><td>18                 </td><td>10.74343           </td><td>124.7869           </td><td>10.74427           </td><td>124.7865           </td></tr>\n",
       "\t<tr><td>645                </td><td>Visca              </td><td>365                </td><td>Visca              </td><td> 9.1               </td><td>O                  </td><td>M                  </td><td> 365               </td><td>L2239              </td><td>APCL13_511         </td><td>...                </td><td>2013-06-01 09:18:00</td><td>2013               </td><td>6                  </td><td> 1                 </td><td>9                  </td><td>18                 </td><td>10.74343           </td><td>124.7869           </td><td>10.74427           </td><td>124.7865           </td></tr>\n",
       "\t<tr><td>74                 </td><td>N. Magbangon       </td><td>1356               </td><td>Tamakin Dacot      </td><td>10.5               </td><td>O                  </td><td>M                  </td><td>1356               </td><td>L2638              </td><td>APCL15_355666      </td><td>...                </td><td>2015-06-09 02:08:00</td><td>2015               </td><td>6                  </td><td> 9                 </td><td>2                  </td><td> 8                 </td><td>10.86102           </td><td>124.7218           </td><td>10.65373           </td><td>124.7839           </td></tr>\n",
       "\t<tr><td>74                 </td><td>N. Magbangon       </td><td>2213               </td><td>Tamakin Dacot      </td><td>11.6               </td><td>YR                 </td><td>F                  </td><td>2213               </td><td>L2885              </td><td>APCL15_368417      </td><td>...                </td><td>2015-06-09 02:08:00</td><td>2015               </td><td>6                  </td><td> 9                 </td><td>2                  </td><td> 8                 </td><td>10.86102           </td><td>124.7218           </td><td>10.65373           </td><td>124.7839           </td></tr>\n",
       "\t<tr><td>770                </td><td>Palanas            </td><td>124                </td><td>Wangag             </td><td> 7.5               </td><td>NA                 </td><td>NA                 </td><td> 124               </td><td>L1770              </td><td>APCL12_110         </td><td>...                </td><td>2012-05-09 07:05:00</td><td>2012               </td><td>5                  </td><td> 9                 </td><td>7                  </td><td> 5                 </td><td>10.87312           </td><td>124.7121           </td><td>10.87166           </td><td>124.7140           </td></tr>\n",
       "\t<tr><td>770                </td><td>Palanas            </td><td>132                </td><td>Wangag             </td><td> 8.0               </td><td>NA                 </td><td>NA                 </td><td> 132               </td><td>L1769              </td><td>APCL12_109         </td><td>...                </td><td>2012-05-09 07:09:00</td><td>2012               </td><td>5                  </td><td> 9                 </td><td>7                  </td><td> 9                 </td><td>10.87312           </td><td>124.7121           </td><td>10.87165           </td><td>124.7141           </td></tr>\n",
       "\t<tr><td>780                </td><td>Palanas            </td><td>2103               </td><td>Visca              </td><td>10.3               </td><td>Y                  </td><td>F                  </td><td>2103               </td><td>L2296              </td><td>APCL12_243         </td><td>...                </td><td>2012-05-13 07:39:00</td><td>2012               </td><td>5                  </td><td>13                 </td><td>7                  </td><td>39                 </td><td>10.87385           </td><td>124.7110           </td><td>10.74386           </td><td>124.7864           </td></tr>\n",
       "\t<tr><td>780                </td><td>Palanas            </td><td>2300               </td><td>Visca              </td><td>11.0               </td><td>YP                 </td><td>F                  </td><td>2300               </td><td>L0721              </td><td>APCL14_005         </td><td>...                </td><td>2014-06-07 07:26:00</td><td>2014               </td><td>6                  </td><td> 7                 </td><td>7                  </td><td>26                 </td><td>10.87385           </td><td>124.7110           </td><td>10.74358           </td><td>124.7866           </td></tr>\n",
       "\t<tr><td>965                </td><td>Wangag             </td><td>448                </td><td>Palanas            </td><td>10.1               </td><td>O                  </td><td>M                  </td><td> 448               </td><td>L0733              </td><td>APCL14_176         </td><td>...                </td><td>2014-06-17 02:52:00</td><td>2014               </td><td>6                  </td><td>17                 </td><td>2                  </td><td>52                 </td><td>10.87183           </td><td>124.7138           </td><td>10.87395           </td><td>124.7105           </td></tr>\n",
       "\t<tr><td>965                </td><td>Wangag             </td><td>2056               </td><td>Palanas            </td><td> 9.8               </td><td>Y                  </td><td>F                  </td><td>2056               </td><td>L1763              </td><td>APCL12_095         </td><td>...                </td><td>2012-05-09 04:33:00</td><td>2012               </td><td>5                  </td><td> 9                 </td><td>4                  </td><td>33                 </td><td>10.87183           </td><td>124.7138           </td><td>10.87354           </td><td>124.7119           </td></tr>\n",
       "\t<tr><td>982                </td><td>Wangag             </td><td>1218               </td><td>S. Magbangon       </td><td> 7.8               </td><td>O                  </td><td>M                  </td><td>1218               </td><td>L5173              </td><td>APCL16_447         </td><td>...                </td><td>2016-06-02 02:56:00</td><td>2016               </td><td>6                  </td><td> 2                 </td><td>2                  </td><td>56                 </td><td>10.87147           </td><td>124.7142           </td><td>10.85677           </td><td>124.7252           </td></tr>\n",
       "\t<tr><td>982                </td><td>Wangag             </td><td>1275               </td><td>S. Magbangon       </td><td> 9.2               </td><td>YP                 </td><td>F                  </td><td>1275               </td><td>L5174              </td><td>APCL16_448         </td><td>...                </td><td>2016-06-02 02:56:00</td><td>2016               </td><td>6                  </td><td> 2                 </td><td>2                  </td><td>56                 </td><td>10.87147           </td><td>124.7142           </td><td>10.85677           </td><td>124.7252           </td></tr>\n",
       "</tbody>\n",
       "</table>\n"
      ],
      "text/latex": [
       "\\begin{tabular}{r|lllllllllllllllllllllllllllllllllllllllll}\n",
       " offs\\_fish\\_indiv & offs\\_site & par\\_fish\\_indiv & par\\_site & par\\_size & par\\_color & par\\_sex & par\\_gen\\_id & par\\_ligation\\_id & par\\_sample\\_id & ... & par\\_time\\_date & par\\_year & par\\_month & par\\_day & par\\_hour & par\\_minute & offs\\_lat & offs\\_lon & par\\_lat & par\\_lon\\\\\n",
       "\\hline\n",
       "\t 1874                & Palanas             & 1243                & Palanas             & 10.1                & O                   & M                   & 1243                & L5202               & APCL16\\_040        & ...                 & 2016-05-13 03:06:00 & 2016                & 5                   & 13                  & 3                   &  6                  & 10.87279            & 124.7118            & 10.87417            & 124.7108           \\\\\n",
       "\t 1874                & Palanas             & 2405                & Palanas             & 10.2                & O                   & M                   & 2405                & L5169               & APCL16\\_038        & ...                 & 2016-05-13 03:07:00 & 2016                & 5                   & 13                  & 3                   &  7                  & 10.87279            & 124.7118            & 10.87418            & 124.7107           \\\\\n",
       "\t 1882                & San Agustin         & 2683                & Palanas             & 11.0                & YP                  & F                   & 2683                & L3629               & APCL16\\_067        & ...                 & 2016-05-13 07:24:00 & 2016                & 5                   & 13                  & 7                   & 24                  & 10.76851            & 124.7841            & 10.87382            & 124.7108           \\\\\n",
       "\t 1882                & San Agustin         & 2616                & Palanas             &  7.2                & O                   & M                   & 2616                & L2917               & APCL15\\_400235     & ...                 & 2015-05-30 07:55:00 & 2015                & 5                   & 30                  & 7                   & 55                  & 10.76851            & 124.7841            & 10.87352            & 124.7118           \\\\\n",
       "\t 224                 & Poroc San Flower    & 196                 & S. Magbangon        &  9.1                & O                   & M                   &  196                & L2567               & APCL12\\_145        & ...                 & 2012-05-10 03:15:00 & 2012                & 5                   & 10                  & 3                   & 15                  & 10.76404            & 124.7852            & 10.85723            & 124.7249           \\\\\n",
       "\t 224                 & Poroc San Flower    & 2050                & S. Magbangon        &  9.3                & Y                   & F                   & 2050                & L2224               & APCL12\\_144        & ...                 & 2012-05-10 03:15:00 & 2012                & 5                   & 10                  & 3                   & 15                  & 10.76404            & 124.7852            & 10.85723            & 124.7249           \\\\\n",
       "\t 2297                & Cabatoan            & 448                 & Palanas             & 10.1                & O                   & M                   &  448                & L0733               & APCL14\\_176        & ...                 & 2014-06-17 02:52:00 & 2014                & 6                   & 17                  & 2                   & 52                  & 10.85532            & 124.7263            & 10.87395            & 124.7105           \\\\\n",
       "\t 2297                & Cabatoan            & 2056                & Palanas             &  9.8                & Y                   & F                   & 2056                & L1763               & APCL12\\_095        & ...                 & 2012-05-09 04:33:00 & 2012                & 5                   &  9                  & 4                   & 33                  & 10.85532            & 124.7263            & 10.87354            & 124.7119           \\\\\n",
       "\t 2704                & Palanas             & 498                 & Palanas             &  9.6                & O                   & M                   &  498                & L0957               & APCL14\\_165        & ...                 & 2014-06-17 02:11:00 & 2014                & 6                   & 17                  & 2                   & 11                  & 10.87374            & 124.7112            & 10.87378            & 124.7109           \\\\\n",
       "\t 2704                & Palanas             & 1679                & Palanas             & 11.8                & YP                  & F                   & 1679                & L3425               & APCL17\\_065        & ...                 & 2017-05-15 05:23:24 & 2017                & 5                   & 15                  & 5                   & 23                  & 10.87374            & 124.7112            & 10.87398            & 124.7108           \\\\\n",
       "\t 534                 & Palanas             & 150                 & Palanas             &  9.7                & O                   & M                   &  150                & L2366               & APCL12\\_097        & ...                 & 2012-05-09 05:01:00 & 2012                & 5                   &  9                  & 5                   &  1                  & 10.87320            & 124.7125            & 10.87332            & 124.7122           \\\\\n",
       "\t 534                 & Palanas             & 600                 & Palanas             & 10.5                & YP                  & F                   &  600                & L1311               & APCL13\\_484        & ...                 & 2013-05-31 05:22:00 & 2013                & 5                   & 31                  & 5                   & 22                  & 10.87320            & 124.7125            & 10.87311            & 124.7120           \\\\\n",
       "\t 542                 & Sitio Baybayon      & 626                 & Sitio Baybayon      &  9.0                & O                   & M                   &  626                & L0592               & APCL14\\_291        & ...                 & 2014-06-22 05:36:00 & 2014                & 6                   & 22                  & 5                   & 36                  & 10.63348            & 124.7770            & 10.63461            & 124.7763           \\\\\n",
       "\t 542                 & Sitio Baybayon      & 2078                & Sitio Baybayon      &  9.1                & Y                   & F                   & 2078                & L0591               & APCL14\\_290        & ...                 & 2014-06-22 05:36:00 & 2014                & 6                   & 22                  & 5                   & 36                  & 10.63348            & 124.7770            & 10.63461            & 124.7763           \\\\\n",
       "\t 549                 & Wangag              & 394                 & Palanas             &  9.2                & O                   & M                   &  394                & L2442               & APCL13\\_496        & ...                 & 2013-05-31 03:55:00 & 2013                & 5                   & 31                  & 3                   & 55                  & 10.87155            & 124.7139            & 10.87282            & 124.7119           \\\\\n",
       "\t 549                 & Wangag              & 643                 & Palanas             & 10.7                & YP                  & F                   &  643                & L0477               & APCL13\\_497        & ...                 & 2013-05-31 03:55:00 & 2013                & 5                   & 31                  & 3                   & 55                  & 10.87155            & 124.7139            & 10.87282            & 124.7119           \\\\\n",
       "\t 645                 & Visca               & 25                  & Visca               & 10.4                & YP                  & F                   &   25                & L2238               & APCL13\\_510        & ...                 & 2013-06-01 09:18:00 & 2013                & 6                   &  1                  & 9                   & 18                  & 10.74343            & 124.7869            & 10.74427            & 124.7865           \\\\\n",
       "\t 645                 & Visca               & 365                 & Visca               &  9.1                & O                   & M                   &  365                & L2239               & APCL13\\_511        & ...                 & 2013-06-01 09:18:00 & 2013                & 6                   &  1                  & 9                   & 18                  & 10.74343            & 124.7869            & 10.74427            & 124.7865           \\\\\n",
       "\t 74                  & N. Magbangon        & 1356                & Tamakin Dacot       & 10.5                & O                   & M                   & 1356                & L2638               & APCL15\\_355666     & ...                 & 2015-06-09 02:08:00 & 2015                & 6                   &  9                  & 2                   &  8                  & 10.86102            & 124.7218            & 10.65373            & 124.7839           \\\\\n",
       "\t 74                  & N. Magbangon        & 2213                & Tamakin Dacot       & 11.6                & YR                  & F                   & 2213                & L2885               & APCL15\\_368417     & ...                 & 2015-06-09 02:08:00 & 2015                & 6                   &  9                  & 2                   &  8                  & 10.86102            & 124.7218            & 10.65373            & 124.7839           \\\\\n",
       "\t 770                 & Palanas             & 124                 & Wangag              &  7.5                & NA                  & NA                  &  124                & L1770               & APCL12\\_110        & ...                 & 2012-05-09 07:05:00 & 2012                & 5                   &  9                  & 7                   &  5                  & 10.87312            & 124.7121            & 10.87166            & 124.7140           \\\\\n",
       "\t 770                 & Palanas             & 132                 & Wangag              &  8.0                & NA                  & NA                  &  132                & L1769               & APCL12\\_109        & ...                 & 2012-05-09 07:09:00 & 2012                & 5                   &  9                  & 7                   &  9                  & 10.87312            & 124.7121            & 10.87165            & 124.7141           \\\\\n",
       "\t 780                 & Palanas             & 2103                & Visca               & 10.3                & Y                   & F                   & 2103                & L2296               & APCL12\\_243        & ...                 & 2012-05-13 07:39:00 & 2012                & 5                   & 13                  & 7                   & 39                  & 10.87385            & 124.7110            & 10.74386            & 124.7864           \\\\\n",
       "\t 780                 & Palanas             & 2300                & Visca               & 11.0                & YP                  & F                   & 2300                & L0721               & APCL14\\_005        & ...                 & 2014-06-07 07:26:00 & 2014                & 6                   &  7                  & 7                   & 26                  & 10.87385            & 124.7110            & 10.74358            & 124.7866           \\\\\n",
       "\t 965                 & Wangag              & 448                 & Palanas             & 10.1                & O                   & M                   &  448                & L0733               & APCL14\\_176        & ...                 & 2014-06-17 02:52:00 & 2014                & 6                   & 17                  & 2                   & 52                  & 10.87183            & 124.7138            & 10.87395            & 124.7105           \\\\\n",
       "\t 965                 & Wangag              & 2056                & Palanas             &  9.8                & Y                   & F                   & 2056                & L1763               & APCL12\\_095        & ...                 & 2012-05-09 04:33:00 & 2012                & 5                   &  9                  & 4                   & 33                  & 10.87183            & 124.7138            & 10.87354            & 124.7119           \\\\\n",
       "\t 982                 & Wangag              & 1218                & S. Magbangon        &  7.8                & O                   & M                   & 1218                & L5173               & APCL16\\_447        & ...                 & 2016-06-02 02:56:00 & 2016                & 6                   &  2                  & 2                   & 56                  & 10.87147            & 124.7142            & 10.85677            & 124.7252           \\\\\n",
       "\t 982                 & Wangag              & 1275                & S. Magbangon        &  9.2                & YP                  & F                   & 1275                & L5174               & APCL16\\_448        & ...                 & 2016-06-02 02:56:00 & 2016                & 6                   &  2                  & 2                   & 56                  & 10.87147            & 124.7142            & 10.85677            & 124.7252           \\\\\n",
       "\\end{tabular}\n"
      ],
      "text/markdown": [
       "\n",
       "| offs_fish_indiv | offs_site | par_fish_indiv | par_site | par_size | par_color | par_sex | par_gen_id | par_ligation_id | par_sample_id | ... | par_time_date | par_year | par_month | par_day | par_hour | par_minute | offs_lat | offs_lon | par_lat | par_lon |\n",
       "|---|---|---|---|---|---|---|---|---|---|---|---|---|---|---|---|---|---|---|---|---|\n",
       "| 1874                | Palanas             | 1243                | Palanas             | 10.1                | O                   | M                   | 1243                | L5202               | APCL16_040          | ...                 | 2016-05-13 03:06:00 | 2016                | 5                   | 13                  | 3                   |  6                  | 10.87279            | 124.7118            | 10.87417            | 124.7108            |\n",
       "| 1874                | Palanas             | 2405                | Palanas             | 10.2                | O                   | M                   | 2405                | L5169               | APCL16_038          | ...                 | 2016-05-13 03:07:00 | 2016                | 5                   | 13                  | 3                   |  7                  | 10.87279            | 124.7118            | 10.87418            | 124.7107            |\n",
       "| 1882                | San Agustin         | 2683                | Palanas             | 11.0                | YP                  | F                   | 2683                | L3629               | APCL16_067          | ...                 | 2016-05-13 07:24:00 | 2016                | 5                   | 13                  | 7                   | 24                  | 10.76851            | 124.7841            | 10.87382            | 124.7108            |\n",
       "| 1882                | San Agustin         | 2616                | Palanas             |  7.2                | O                   | M                   | 2616                | L2917               | APCL15_400235       | ...                 | 2015-05-30 07:55:00 | 2015                | 5                   | 30                  | 7                   | 55                  | 10.76851            | 124.7841            | 10.87352            | 124.7118            |\n",
       "| 224                 | Poroc San Flower    | 196                 | S. Magbangon        |  9.1                | O                   | M                   |  196                | L2567               | APCL12_145          | ...                 | 2012-05-10 03:15:00 | 2012                | 5                   | 10                  | 3                   | 15                  | 10.76404            | 124.7852            | 10.85723            | 124.7249            |\n",
       "| 224                 | Poroc San Flower    | 2050                | S. Magbangon        |  9.3                | Y                   | F                   | 2050                | L2224               | APCL12_144          | ...                 | 2012-05-10 03:15:00 | 2012                | 5                   | 10                  | 3                   | 15                  | 10.76404            | 124.7852            | 10.85723            | 124.7249            |\n",
       "| 2297                | Cabatoan            | 448                 | Palanas             | 10.1                | O                   | M                   |  448                | L0733               | APCL14_176          | ...                 | 2014-06-17 02:52:00 | 2014                | 6                   | 17                  | 2                   | 52                  | 10.85532            | 124.7263            | 10.87395            | 124.7105            |\n",
       "| 2297                | Cabatoan            | 2056                | Palanas             |  9.8                | Y                   | F                   | 2056                | L1763               | APCL12_095          | ...                 | 2012-05-09 04:33:00 | 2012                | 5                   |  9                  | 4                   | 33                  | 10.85532            | 124.7263            | 10.87354            | 124.7119            |\n",
       "| 2704                | Palanas             | 498                 | Palanas             |  9.6                | O                   | M                   |  498                | L0957               | APCL14_165          | ...                 | 2014-06-17 02:11:00 | 2014                | 6                   | 17                  | 2                   | 11                  | 10.87374            | 124.7112            | 10.87378            | 124.7109            |\n",
       "| 2704                | Palanas             | 1679                | Palanas             | 11.8                | YP                  | F                   | 1679                | L3425               | APCL17_065          | ...                 | 2017-05-15 05:23:24 | 2017                | 5                   | 15                  | 5                   | 23                  | 10.87374            | 124.7112            | 10.87398            | 124.7108            |\n",
       "| 534                 | Palanas             | 150                 | Palanas             |  9.7                | O                   | M                   |  150                | L2366               | APCL12_097          | ...                 | 2012-05-09 05:01:00 | 2012                | 5                   |  9                  | 5                   |  1                  | 10.87320            | 124.7125            | 10.87332            | 124.7122            |\n",
       "| 534                 | Palanas             | 600                 | Palanas             | 10.5                | YP                  | F                   |  600                | L1311               | APCL13_484          | ...                 | 2013-05-31 05:22:00 | 2013                | 5                   | 31                  | 5                   | 22                  | 10.87320            | 124.7125            | 10.87311            | 124.7120            |\n",
       "| 542                 | Sitio Baybayon      | 626                 | Sitio Baybayon      |  9.0                | O                   | M                   |  626                | L0592               | APCL14_291          | ...                 | 2014-06-22 05:36:00 | 2014                | 6                   | 22                  | 5                   | 36                  | 10.63348            | 124.7770            | 10.63461            | 124.7763            |\n",
       "| 542                 | Sitio Baybayon      | 2078                | Sitio Baybayon      |  9.1                | Y                   | F                   | 2078                | L0591               | APCL14_290          | ...                 | 2014-06-22 05:36:00 | 2014                | 6                   | 22                  | 5                   | 36                  | 10.63348            | 124.7770            | 10.63461            | 124.7763            |\n",
       "| 549                 | Wangag              | 394                 | Palanas             |  9.2                | O                   | M                   |  394                | L2442               | APCL13_496          | ...                 | 2013-05-31 03:55:00 | 2013                | 5                   | 31                  | 3                   | 55                  | 10.87155            | 124.7139            | 10.87282            | 124.7119            |\n",
       "| 549                 | Wangag              | 643                 | Palanas             | 10.7                | YP                  | F                   |  643                | L0477               | APCL13_497          | ...                 | 2013-05-31 03:55:00 | 2013                | 5                   | 31                  | 3                   | 55                  | 10.87155            | 124.7139            | 10.87282            | 124.7119            |\n",
       "| 645                 | Visca               | 25                  | Visca               | 10.4                | YP                  | F                   |   25                | L2238               | APCL13_510          | ...                 | 2013-06-01 09:18:00 | 2013                | 6                   |  1                  | 9                   | 18                  | 10.74343            | 124.7869            | 10.74427            | 124.7865            |\n",
       "| 645                 | Visca               | 365                 | Visca               |  9.1                | O                   | M                   |  365                | L2239               | APCL13_511          | ...                 | 2013-06-01 09:18:00 | 2013                | 6                   |  1                  | 9                   | 18                  | 10.74343            | 124.7869            | 10.74427            | 124.7865            |\n",
       "| 74                  | N. Magbangon        | 1356                | Tamakin Dacot       | 10.5                | O                   | M                   | 1356                | L2638               | APCL15_355666       | ...                 | 2015-06-09 02:08:00 | 2015                | 6                   |  9                  | 2                   |  8                  | 10.86102            | 124.7218            | 10.65373            | 124.7839            |\n",
       "| 74                  | N. Magbangon        | 2213                | Tamakin Dacot       | 11.6                | YR                  | F                   | 2213                | L2885               | APCL15_368417       | ...                 | 2015-06-09 02:08:00 | 2015                | 6                   |  9                  | 2                   |  8                  | 10.86102            | 124.7218            | 10.65373            | 124.7839            |\n",
       "| 770                 | Palanas             | 124                 | Wangag              |  7.5                | NA                  | NA                  |  124                | L1770               | APCL12_110          | ...                 | 2012-05-09 07:05:00 | 2012                | 5                   |  9                  | 7                   |  5                  | 10.87312            | 124.7121            | 10.87166            | 124.7140            |\n",
       "| 770                 | Palanas             | 132                 | Wangag              |  8.0                | NA                  | NA                  |  132                | L1769               | APCL12_109          | ...                 | 2012-05-09 07:09:00 | 2012                | 5                   |  9                  | 7                   |  9                  | 10.87312            | 124.7121            | 10.87165            | 124.7141            |\n",
       "| 780                 | Palanas             | 2103                | Visca               | 10.3                | Y                   | F                   | 2103                | L2296               | APCL12_243          | ...                 | 2012-05-13 07:39:00 | 2012                | 5                   | 13                  | 7                   | 39                  | 10.87385            | 124.7110            | 10.74386            | 124.7864            |\n",
       "| 780                 | Palanas             | 2300                | Visca               | 11.0                | YP                  | F                   | 2300                | L0721               | APCL14_005          | ...                 | 2014-06-07 07:26:00 | 2014                | 6                   |  7                  | 7                   | 26                  | 10.87385            | 124.7110            | 10.74358            | 124.7866            |\n",
       "| 965                 | Wangag              | 448                 | Palanas             | 10.1                | O                   | M                   |  448                | L0733               | APCL14_176          | ...                 | 2014-06-17 02:52:00 | 2014                | 6                   | 17                  | 2                   | 52                  | 10.87183            | 124.7138            | 10.87395            | 124.7105            |\n",
       "| 965                 | Wangag              | 2056                | Palanas             |  9.8                | Y                   | F                   | 2056                | L1763               | APCL12_095          | ...                 | 2012-05-09 04:33:00 | 2012                | 5                   |  9                  | 4                   | 33                  | 10.87183            | 124.7138            | 10.87354            | 124.7119            |\n",
       "| 982                 | Wangag              | 1218                | S. Magbangon        |  7.8                | O                   | M                   | 1218                | L5173               | APCL16_447          | ...                 | 2016-06-02 02:56:00 | 2016                | 6                   |  2                  | 2                   | 56                  | 10.87147            | 124.7142            | 10.85677            | 124.7252            |\n",
       "| 982                 | Wangag              | 1275                | S. Magbangon        |  9.2                | YP                  | F                   | 1275                | L5174               | APCL16_448          | ...                 | 2016-06-02 02:56:00 | 2016                | 6                   |  2                  | 2                   | 56                  | 10.87147            | 124.7142            | 10.85677            | 124.7252            |\n",
       "\n"
      ],
      "text/plain": [
       "   offs_fish_indiv offs_site        par_fish_indiv par_site       par_size\n",
       "1  1874            Palanas          1243           Palanas        10.1    \n",
       "2  1874            Palanas          2405           Palanas        10.2    \n",
       "3  1882            San Agustin      2683           Palanas        11.0    \n",
       "4  1882            San Agustin      2616           Palanas         7.2    \n",
       "5  224             Poroc San Flower 196            S. Magbangon    9.1    \n",
       "6  224             Poroc San Flower 2050           S. Magbangon    9.3    \n",
       "7  2297            Cabatoan         448            Palanas        10.1    \n",
       "8  2297            Cabatoan         2056           Palanas         9.8    \n",
       "9  2704            Palanas          498            Palanas         9.6    \n",
       "10 2704            Palanas          1679           Palanas        11.8    \n",
       "11 534             Palanas          150            Palanas         9.7    \n",
       "12 534             Palanas          600            Palanas        10.5    \n",
       "13 542             Sitio Baybayon   626            Sitio Baybayon  9.0    \n",
       "14 542             Sitio Baybayon   2078           Sitio Baybayon  9.1    \n",
       "15 549             Wangag           394            Palanas         9.2    \n",
       "16 549             Wangag           643            Palanas        10.7    \n",
       "17 645             Visca            25             Visca          10.4    \n",
       "18 645             Visca            365            Visca           9.1    \n",
       "19 74              N. Magbangon     1356           Tamakin Dacot  10.5    \n",
       "20 74              N. Magbangon     2213           Tamakin Dacot  11.6    \n",
       "21 770             Palanas          124            Wangag          7.5    \n",
       "22 770             Palanas          132            Wangag          8.0    \n",
       "23 780             Palanas          2103           Visca          10.3    \n",
       "24 780             Palanas          2300           Visca          11.0    \n",
       "25 965             Wangag           448            Palanas        10.1    \n",
       "26 965             Wangag           2056           Palanas         9.8    \n",
       "27 982             Wangag           1218           S. Magbangon    7.8    \n",
       "28 982             Wangag           1275           S. Magbangon    9.2    \n",
       "   par_color par_sex par_gen_id par_ligation_id par_sample_id ...\n",
       "1  O         M       1243       L5202           APCL16_040    ...\n",
       "2  O         M       2405       L5169           APCL16_038    ...\n",
       "3  YP        F       2683       L3629           APCL16_067    ...\n",
       "4  O         M       2616       L2917           APCL15_400235 ...\n",
       "5  O         M        196       L2567           APCL12_145    ...\n",
       "6  Y         F       2050       L2224           APCL12_144    ...\n",
       "7  O         M        448       L0733           APCL14_176    ...\n",
       "8  Y         F       2056       L1763           APCL12_095    ...\n",
       "9  O         M        498       L0957           APCL14_165    ...\n",
       "10 YP        F       1679       L3425           APCL17_065    ...\n",
       "11 O         M        150       L2366           APCL12_097    ...\n",
       "12 YP        F        600       L1311           APCL13_484    ...\n",
       "13 O         M        626       L0592           APCL14_291    ...\n",
       "14 Y         F       2078       L0591           APCL14_290    ...\n",
       "15 O         M        394       L2442           APCL13_496    ...\n",
       "16 YP        F        643       L0477           APCL13_497    ...\n",
       "17 YP        F         25       L2238           APCL13_510    ...\n",
       "18 O         M        365       L2239           APCL13_511    ...\n",
       "19 O         M       1356       L2638           APCL15_355666 ...\n",
       "20 YR        F       2213       L2885           APCL15_368417 ...\n",
       "21 NA        NA       124       L1770           APCL12_110    ...\n",
       "22 NA        NA       132       L1769           APCL12_109    ...\n",
       "23 Y         F       2103       L2296           APCL12_243    ...\n",
       "24 YP        F       2300       L0721           APCL14_005    ...\n",
       "25 O         M        448       L0733           APCL14_176    ...\n",
       "26 Y         F       2056       L1763           APCL12_095    ...\n",
       "27 O         M       1218       L5173           APCL16_447    ...\n",
       "28 YP        F       1275       L5174           APCL16_448    ...\n",
       "   par_time_date       par_year par_month par_day par_hour par_minute offs_lat\n",
       "1  2016-05-13 03:06:00 2016     5         13      3         6         10.87279\n",
       "2  2016-05-13 03:07:00 2016     5         13      3         7         10.87279\n",
       "3  2016-05-13 07:24:00 2016     5         13      7        24         10.76851\n",
       "4  2015-05-30 07:55:00 2015     5         30      7        55         10.76851\n",
       "5  2012-05-10 03:15:00 2012     5         10      3        15         10.76404\n",
       "6  2012-05-10 03:15:00 2012     5         10      3        15         10.76404\n",
       "7  2014-06-17 02:52:00 2014     6         17      2        52         10.85532\n",
       "8  2012-05-09 04:33:00 2012     5          9      4        33         10.85532\n",
       "9  2014-06-17 02:11:00 2014     6         17      2        11         10.87374\n",
       "10 2017-05-15 05:23:24 2017     5         15      5        23         10.87374\n",
       "11 2012-05-09 05:01:00 2012     5          9      5         1         10.87320\n",
       "12 2013-05-31 05:22:00 2013     5         31      5        22         10.87320\n",
       "13 2014-06-22 05:36:00 2014     6         22      5        36         10.63348\n",
       "14 2014-06-22 05:36:00 2014     6         22      5        36         10.63348\n",
       "15 2013-05-31 03:55:00 2013     5         31      3        55         10.87155\n",
       "16 2013-05-31 03:55:00 2013     5         31      3        55         10.87155\n",
       "17 2013-06-01 09:18:00 2013     6          1      9        18         10.74343\n",
       "18 2013-06-01 09:18:00 2013     6          1      9        18         10.74343\n",
       "19 2015-06-09 02:08:00 2015     6          9      2         8         10.86102\n",
       "20 2015-06-09 02:08:00 2015     6          9      2         8         10.86102\n",
       "21 2012-05-09 07:05:00 2012     5          9      7         5         10.87312\n",
       "22 2012-05-09 07:09:00 2012     5          9      7         9         10.87312\n",
       "23 2012-05-13 07:39:00 2012     5         13      7        39         10.87385\n",
       "24 2014-06-07 07:26:00 2014     6          7      7        26         10.87385\n",
       "25 2014-06-17 02:52:00 2014     6         17      2        52         10.87183\n",
       "26 2012-05-09 04:33:00 2012     5          9      4        33         10.87183\n",
       "27 2016-06-02 02:56:00 2016     6          2      2        56         10.87147\n",
       "28 2016-06-02 02:56:00 2016     6          2      2        56         10.87147\n",
       "   offs_lon par_lat  par_lon \n",
       "1  124.7118 10.87417 124.7108\n",
       "2  124.7118 10.87418 124.7107\n",
       "3  124.7841 10.87382 124.7108\n",
       "4  124.7841 10.87352 124.7118\n",
       "5  124.7852 10.85723 124.7249\n",
       "6  124.7852 10.85723 124.7249\n",
       "7  124.7263 10.87395 124.7105\n",
       "8  124.7263 10.87354 124.7119\n",
       "9  124.7112 10.87378 124.7109\n",
       "10 124.7112 10.87398 124.7108\n",
       "11 124.7125 10.87332 124.7122\n",
       "12 124.7125 10.87311 124.7120\n",
       "13 124.7770 10.63461 124.7763\n",
       "14 124.7770 10.63461 124.7763\n",
       "15 124.7139 10.87282 124.7119\n",
       "16 124.7139 10.87282 124.7119\n",
       "17 124.7869 10.74427 124.7865\n",
       "18 124.7869 10.74427 124.7865\n",
       "19 124.7218 10.65373 124.7839\n",
       "20 124.7218 10.65373 124.7839\n",
       "21 124.7121 10.87166 124.7140\n",
       "22 124.7121 10.87165 124.7141\n",
       "23 124.7110 10.74386 124.7864\n",
       "24 124.7110 10.74358 124.7866\n",
       "25 124.7138 10.87395 124.7105\n",
       "26 124.7138 10.87354 124.7119\n",
       "27 124.7142 10.85677 124.7252\n",
       "28 124.7142 10.85677 124.7252"
      ]
     },
     "metadata": {},
     "output_type": "display_data"
    }
   ],
   "source": [
    "#visually inspect that parents in trios aren't too far apart. They aren't. When the gps location is different, they are at least in the same site, and once in adjacent sites\n",
    "results_dist %>%\n",
    "    group_by(offs_fish_indiv) %>%\n",
    "    filter(n()>1) %>%\n",
    "    arrange(offs_fish_indiv) %>%\n",
    "    select(offs_fish_indiv, offs_site, par_fish_indiv, par_site, everything())"
   ]
  },
  {
   "cell_type": "code",
   "execution_count": 157,
   "metadata": {},
   "outputs": [
    {
     "data": {
      "image/png": "[encoded data removed]",
      "text/plain": [
       "Plot with title “Histogram of results_dist$offs_size”"
      ]
     },
     "metadata": {},
     "output_type": "display_data"
    }
   ],
   "source": [
    "hist(results_dist$offs_size) #there will be offspring that are too big because the ligation id that was used in parentage isn't from the same year that the fish was used in the parentage analysis\n"
   ]
  },
  {
   "cell_type": "code",
   "execution_count": 182,
   "metadata": {},
   "outputs": [
    {
     "data": {
      "image/png": "[encoded data removed]",
      "text/plain": [
       "Plot with title “Histogram of results_dist$dist_par_km”"
      ]
     },
     "metadata": {},
     "output_type": "display_data"
    }
   ],
   "source": [
    "#png('~/parentage/colony2/20200605_1340loci/results/dispersal_dist_hist.png')\n",
    "hist(results_dist$dist_par_km) #cool.\n",
    "#dev.off()"
   ]
  },
  {
   "cell_type": "code",
   "execution_count": 160,
   "metadata": {},
   "outputs": [],
   "source": [
    "#write.table(results_dist, file=\"~/parentage/kernel_fitting/1340_loci/parentage_results_allyears.csv\", row.names=FALSE, quote=FALSE, col.names=T, sep=\",\")\n",
    "#write.table(results_dist, file=\"~/parentage/colony2/20200605_1340loci/results/parentage_results_allyears.csv\", row.names=FALSE, quote=FALSE, col.names=T, sep=\",\")"
   ]
  },
  {
   "cell_type": "code",
   "execution_count": 164,
   "metadata": {},
   "outputs": [
    {
     "data": {
      "text/html": [
       "<ol class=list-inline>\n",
       "\t<li>3</li>\n",
       "\t<li>3</li>\n",
       "</ol>\n"
      ],
      "text/latex": [
       "\\begin{enumerate*}\n",
       "\\item 3\n",
       "\\item 3\n",
       "\\end{enumerate*}\n"
      ],
      "text/markdown": [
       "1. 3\n",
       "2. 3\n",
       "\n",
       "\n"
      ],
      "text/plain": [
       "[1] 3 3"
      ]
     },
     "metadata": {},
     "output_type": "display_data"
    },
    {
     "data": {
      "text/html": [
       "<ol class=list-inline>\n",
       "\t<li>21</li>\n",
       "\t<li>3</li>\n",
       "</ol>\n"
      ],
      "text/latex": [
       "\\begin{enumerate*}\n",
       "\\item 21\n",
       "\\item 3\n",
       "\\end{enumerate*}\n"
      ],
      "text/markdown": [
       "1. 21\n",
       "2. 3\n",
       "\n",
       "\n"
      ],
      "text/plain": [
       "[1] 21  3"
      ]
     },
     "metadata": {},
     "output_type": "display_data"
    },
    {
     "data": {
      "text/html": [
       "<ol class=list-inline>\n",
       "\t<li>13</li>\n",
       "\t<li>3</li>\n",
       "</ol>\n"
      ],
      "text/latex": [
       "\\begin{enumerate*}\n",
       "\\item 13\n",
       "\\item 3\n",
       "\\end{enumerate*}\n"
      ],
      "text/markdown": [
       "1. 13\n",
       "2. 3\n",
       "\n",
       "\n"
      ],
      "text/plain": [
       "[1] 13  3"
      ]
     },
     "metadata": {},
     "output_type": "display_data"
    },
    {
     "data": {
      "text/html": [
       "<ol class=list-inline>\n",
       "\t<li>11</li>\n",
       "\t<li>3</li>\n",
       "</ol>\n"
      ],
      "text/latex": [
       "\\begin{enumerate*}\n",
       "\\item 11\n",
       "\\item 3\n",
       "\\end{enumerate*}\n"
      ],
      "text/markdown": [
       "1. 11\n",
       "2. 3\n",
       "\n",
       "\n"
      ],
      "text/plain": [
       "[1] 11  3"
      ]
     },
     "metadata": {},
     "output_type": "display_data"
    },
    {
     "data": {
      "text/html": [
       "<ol class=list-inline>\n",
       "\t<li>6</li>\n",
       "\t<li>3</li>\n",
       "</ol>\n"
      ],
      "text/latex": [
       "\\begin{enumerate*}\n",
       "\\item 6\n",
       "\\item 3\n",
       "\\end{enumerate*}\n"
      ],
      "text/markdown": [
       "1. 6\n",
       "2. 3\n",
       "\n",
       "\n"
      ],
      "text/plain": [
       "[1] 6 3"
      ]
     },
     "metadata": {},
     "output_type": "display_data"
    },
    {
     "data": {
      "text/html": [
       "<ol class=list-inline>\n",
       "\t<li>13</li>\n",
       "\t<li>3</li>\n",
       "</ol>\n"
      ],
      "text/latex": [
       "\\begin{enumerate*}\n",
       "\\item 13\n",
       "\\item 3\n",
       "\\end{enumerate*}\n"
      ],
      "text/markdown": [
       "1. 13\n",
       "2. 3\n",
       "\n",
       "\n"
      ],
      "text/plain": [
       "[1] 13  3"
      ]
     },
     "metadata": {},
     "output_type": "display_data"
    },
    {
     "data": {
      "text/html": [
       "<ol class=list-inline>\n",
       "\t<li>4</li>\n",
       "\t<li>3</li>\n",
       "</ol>\n"
      ],
      "text/latex": [
       "\\begin{enumerate*}\n",
       "\\item 4\n",
       "\\item 3\n",
       "\\end{enumerate*}\n"
      ],
      "text/markdown": [
       "1. 4\n",
       "2. 3\n",
       "\n",
       "\n"
      ],
      "text/plain": [
       "[1] 4 3"
      ]
     },
     "metadata": {},
     "output_type": "display_data"
    },
    {
     "data": {
      "text/html": [
       "71"
      ],
      "text/latex": [
       "71"
      ],
      "text/markdown": [
       "71"
      ],
      "text/plain": [
       "[1] 71"
      ]
     },
     "metadata": {},
     "output_type": "display_data"
    },
    {
     "data": {
      "text/html": [
       "85"
      ],
      "text/latex": [
       "85"
      ],
      "text/markdown": [
       "85"
      ],
      "text/plain": [
       "[1] 85"
      ]
     },
     "metadata": {},
     "output_type": "display_data"
    }
   ],
   "source": [
    "#this cell for bode kernel estimate input\n",
    "par12 <- results_dist %>%\n",
    "    filter(year==\"2012\") %>%\n",
    "    distinct(offs_sample_id, .keep_all = T) %>%\n",
    "    select(year, offs_site, par_site) #sort by parent year for the table for malin\n",
    "dim(par12)\n",
    "\n",
    "par13 <- results_dist %>%\n",
    "    filter(year==\"2013\") %>%\n",
    "    distinct(offs_sample_id, .keep_all = T) %>%\n",
    "    select(year, offs_site, par_site) #sort by parent year for the table for malin\n",
    "dim(par13)\n",
    "\n",
    "par14 <- results_dist %>%\n",
    "    filter(year==\"2014\") %>%\n",
    "    distinct(offs_sample_id, .keep_all = T) %>%\n",
    "    select(year, offs_site, par_site) #sort by parent year for the table for malin\n",
    "dim(par14)\n",
    "\n",
    "par15 <- results_dist %>%\n",
    "    filter(year==\"2015\") %>%\n",
    "    distinct(offs_sample_id, .keep_all = T) %>%\n",
    "    select(year, offs_site, par_site) #sort by parent year for the table for malin\n",
    "dim(par15)\n",
    "\n",
    "par16 <- results_dist %>%\n",
    "    filter(year==\"2016\") %>%\n",
    "    distinct(offs_sample_id, .keep_all = T) %>%\n",
    "    select(year, offs_site, par_site) #sort by parent year for the table for malin\n",
    "dim(par16)\n",
    "\n",
    "par17 <- results_dist %>%\n",
    "    filter(year==\"2017\") %>%\n",
    "    distinct(offs_sample_id, .keep_all = T) %>%\n",
    "    select(year, offs_site, par_site) #sort by parent year for the table for malin\n",
    "dim(par17)\n",
    "\n",
    "par18 <- results_dist %>%\n",
    "    filter(year==\"2018\") %>%\n",
    "    distinct(offs_sample_id, .keep_all = T) %>%\n",
    "    select(year, offs_site, par_site) #sort by parent year for the table for malin\n",
    "dim(par18)\n",
    "\n",
    "par_all <- results_dist %>%\n",
    "    select(year, offs_site, par_site)\n",
    "nrow(par12)+nrow(par13)+nrow(par14)+nrow(par15)+nrow(par16)+nrow(par17)+nrow(par18)\n",
    "nrow(par_all)"
   ]
  },
  {
   "cell_type": "code",
   "execution_count": 192,
   "metadata": {},
   "outputs": [
    {
     "data": {
      "text/html": [
       "<table>\n",
       "<thead><tr><th scope=col>year</th><th scope=col>offs_site</th><th scope=col>par_site</th></tr></thead>\n",
       "<tbody>\n",
       "\t<tr><td>2016         </td><td>N. Magbangon </td><td>Hicgop South </td></tr>\n",
       "\t<tr><td>2016         </td><td>N. Magbangon </td><td>Tamakin Dacot</td></tr>\n",
       "\t<tr><td>2016         </td><td>N. Magbangon </td><td>Hicgop South </td></tr>\n",
       "\t<tr><td>2016         </td><td>S. Magbangon </td><td>Wangag       </td></tr>\n",
       "\t<tr><td>2016         </td><td>Gabas        </td><td>Wangag       </td></tr>\n",
       "\t<tr><td>2016         </td><td>San Agustin  </td><td>Wangag       </td></tr>\n",
       "</tbody>\n",
       "</table>\n"
      ],
      "text/latex": [
       "\\begin{tabular}{r|lll}\n",
       " year & offs\\_site & par\\_site\\\\\n",
       "\\hline\n",
       "\t 2016          & N. Magbangon  & Hicgop South \\\\\n",
       "\t 2016          & N. Magbangon  & Tamakin Dacot\\\\\n",
       "\t 2016          & N. Magbangon  & Hicgop South \\\\\n",
       "\t 2016          & S. Magbangon  & Wangag       \\\\\n",
       "\t 2016          & Gabas         & Wangag       \\\\\n",
       "\t 2016          & San Agustin   & Wangag       \\\\\n",
       "\\end{tabular}\n"
      ],
      "text/markdown": [
       "\n",
       "| year | offs_site | par_site |\n",
       "|---|---|---|\n",
       "| 2016          | N. Magbangon  | Hicgop South  |\n",
       "| 2016          | N. Magbangon  | Tamakin Dacot |\n",
       "| 2016          | N. Magbangon  | Hicgop South  |\n",
       "| 2016          | S. Magbangon  | Wangag        |\n",
       "| 2016          | Gabas         | Wangag        |\n",
       "| 2016          | San Agustin   | Wangag        |\n",
       "\n"
      ],
      "text/plain": [
       "  year offs_site    par_site     \n",
       "1 2016 N. Magbangon Hicgop South \n",
       "2 2016 N. Magbangon Tamakin Dacot\n",
       "3 2016 N. Magbangon Hicgop South \n",
       "4 2016 S. Magbangon Wangag       \n",
       "5 2016 Gabas        Wangag       \n",
       "6 2016 San Agustin  Wangag       "
      ]
     },
     "metadata": {},
     "output_type": "display_data"
    }
   ],
   "source": [
    "par16"
   ]
  },
  {
   "cell_type": "code",
   "execution_count": 194,
   "metadata": {},
   "outputs": [],
   "source": [
    "##write for bode dispersal kernel estimate with all matches\n",
    "#write.csv(par12, file=\"~/parentage/kernel_fitting/1340_loci/results/parentage12.csv\", quote=TRUE, row.names= FALSE)\n",
    "#write.csv(par13, file=\"~/parentage/kernel_fitting/1340_loci/results/parentage13.csv\", quote=TRUE, row.names= FALSE)\n",
    "#write.csv(par14, file=\"~/parentage/kernel_fitting/1340_loci/results/parentage14.csv\", quote=TRUE, row.names= FALSE)\n",
    "#write.csv(par15, file=\"~/parentage/kernel_fitting/1340_loci/results/parentage15.csv\", quote=TRUE, row.names= FALSE)\n",
    "#write.csv(par16, file=\"~/parentage/kernel_fitting/1340_loci/results/parentage16.csv\", quote=TRUE, row.names= FALSE)\n",
    "#write.csv(par17, file=\"~/parentage/kernel_fitting/1340_loci/results/parentage17.csv\", quote=TRUE, row.names= FALSE)\n",
    "#write.csv(par18, file=\"~/parentage/kernel_fitting/1340_loci/results/parentage18.csv\", quote=TRUE, row.names= FALSE)\n",
    "#write.csv(par_all, file=\"~/parentage/kernel_fitting/1340_loci/results/parentage_all.csv\", quote=TRUE, row.names= FALSE)\n",
    "#"
   ]
  },
  {
   "cell_type": "code",
   "execution_count": 174,
   "metadata": {},
   "outputs": [],
   "source": [
    "fish_meta <- fish_meta %>%\n",
    "    mutate(time_date =as.character(str_c(date, anem_obs_time, sep = \" \"))) %>%\n",
    "    mutate(time_date = ymd_hms(time_date))%>%\n",
    "    mutate(time_date = force_tz(time_date, tzone = \"Asia/Manila\")) %>%\n",
    "    mutate(time_date = with_tz(time_date, tzone = \"UTC\")) %>%\n",
    "    mutate(year = year(time_date)) %>%\n",
    "    mutate(month = month(time_date)) %>%\n",
    "    mutate(day = day(time_date)) %>%\n",
    "    mutate(hour = hour(time_date)) %>%\n",
    "    mutate(minute = minute(time_date)) \n",
    "\n",
    "gps <- gps_db %>%\n",
    "    mutate(lat=as.numeric(lat)) %>%\n",
    "    mutate(lon=as.numeric(lon)) %>%\n",
    "    mutate(time_date = ymd_hms(time)) %>%\n",
    "    mutate(year = year(time_date)) %>%\n",
    "    mutate(month = month(time_date)) %>%\n",
    "    mutate(day = day(time_date)) %>%\n",
    "    mutate(hour = hour(time_date)) %>%\n",
    "    mutate(minute = minute(time_date)) %>%\n",
    "    select(-time_date, -elev, -time) %>%\n",
    "    group_by(unit, year, month, day, hour, minute) %>%\n",
    "    mutate(lat =mean(lat)) %>% #create within minute averages\n",
    "    mutate(lon=mean(lon)) %>%\n",
    "    distinct(.keep_all = T)\n",
    "\n",
    "add_loc <- left_join(fish_meta, gps, by=c(gps=\"unit\", \"year\", \"month\", \"day\", \"hour\", \"minute\")) "
   ]
  },
  {
   "cell_type": "code",
   "execution_count": 184,
   "metadata": {},
   "outputs": [],
   "source": [
    "#use distance matrix to plot dispersal in each year\n",
    "distall_df <- data.frame(dist=as.vector(as.matrix(dist_all)))\n",
    "\n",
    "#get a df of all distances between sampled fish as possible dispersal distances\n",
    "#both axes have to be proportions for stupid ggplot\n",
    "#all_sampled_fish <- fish_obs  %>%\n",
    "#    distinct(fish_indiv, `.keep_all` = T)\n",
    "all_sampled_fish_loc <- add_loc %>%\n",
    "    filter(!is.na(lat) & !is.na(lon))\n",
    "all_sampled_dists <- rdist.earth(as.matrix(all_sampled_fish_loc[,c('lon', 'lat')]), as.matrix(all_sampled_fish_loc[,c('lon', 'lat')]), miles=FALSE, R=6371)\n",
    "\n",
    "all_sampled_dists_df <- data.frame(dist=as.vector(as.matrix(all_sampled_dists))) %>%\n",
    "    mutate(dist=round(dist, digits=0)) %>%\n",
    "    group_by(dist) %>%\n",
    "    mutate(freq=n()) %>%\n",
    "    mutate(prop=freq/sum(freq))\n",
    "           \n",
    "obs_disp_dist_prop <- results_dist %>%\n",
    "    #filter(year==2018) %>%\n",
    "    distinct(offs_fish_indiv, .keep_all = T) %>% \n",
    "    mutate(dist_par_km = ifelse(dist_par_km >27, floor(dist_par_km), dist_par_km)) %>%\n",
    "    mutate(dist_par_km = ifelse(dist_par_km <1, ceiling(dist_par_km), dist_par_km)) %>%\n",
    "    group_by(dist_par_km) %>%\n",
    "    mutate(n_freq=n()) %>%\n",
    "    ungroup() %>%\n",
    "    mutate(prop=n_freq/sum(n_freq))\n"
   ]
  },
  {
   "cell_type": "code",
   "execution_count": 186,
   "metadata": {
    "scrolled": false
   },
   "outputs": [
    {
     "data": {
      "text/html": [
       "<strong>png:</strong> 2"
      ],
      "text/latex": [
       "\\textbf{png:} 2"
      ],
      "text/markdown": [
       "**png:** 2"
      ],
      "text/plain": [
       "png \n",
       "  2 "
      ]
     },
     "metadata": {},
     "output_type": "display_data"
    }
   ],
   "source": [
    "options(scipen=999)\n",
    "# use these variables to set the limits on all plots\n",
    "#y1max = max(obs_disp_dist_prop$dist_par_km)\n",
    "\n",
    "#quartzFonts(avenir = c(\"Avenir Book\", \"Avenir Black\", \"Avenir Book Oblique\", \n",
    "#        \"Avenir Black Oblique\"))\n",
    "par(family = \"Helvetica\")\n",
    "pdf(\"~/parentage/colony2/20200605_1340loci/results/disp_dist_pub.pdf\")\n",
    "\n",
    "\n",
    "par(mar=(c(5, 5, 5, 5))) \n",
    "with(all_sampled_dists_df, hist(dist, ylim = c(0, max(freq)+2000000), main=NA, axes=F, xlab=NA, ylab=NA, breaks=seq(0, 30, 1), col=scales::alpha('gray',.5), border=F))\n",
    "legend(\"topright\", legend=c(\"Observed dispersal\", \"Sampled distances\"),\n",
    "       fill=c(scales::alpha('orange',.5), scales::alpha('gray',.5)), cex=0.8, box.lty=0)\n",
    "axis(4)\n",
    "mtext(side = 4, line = 3, \"Frequency\")\n",
    "#lines(density(per_cur), col=\"blue\",lwd=2)\n",
    "\n",
    "#add obs with a secondary y-axis\n",
    "\n",
    "par(new = TRUE)\n",
    "with(obs_disp_dist_prop, hist(dist_par_km, ylim = c(0, 50), main=NA, breaks=seq(0, 30, 1), xlab=\"Distance (km)\",col=scales::alpha('orange',.5), border=F))\n",
    "\n",
    "dev.off()\n",
    "\n",
    "\n"
   ]
  },
  {
   "cell_type": "code",
   "execution_count": 189,
   "metadata": {},
   "outputs": [
    {
     "data": {
      "text/html": [
       "<table>\n",
       "<thead><tr><th scope=col>year</th><th scope=col>n_offs_matched</th><th scope=col>mean_disp_dist</th></tr></thead>\n",
       "<tbody>\n",
       "\t<tr><td>2012     </td><td> 3       </td><td> 8.945754</td></tr>\n",
       "\t<tr><td>2013     </td><td>21       </td><td> 6.756019</td></tr>\n",
       "\t<tr><td>2014     </td><td>13       </td><td> 8.304422</td></tr>\n",
       "\t<tr><td>2015     </td><td>11       </td><td> 6.860867</td></tr>\n",
       "\t<tr><td>2016     </td><td> 6       </td><td>12.125406</td></tr>\n",
       "\t<tr><td>2017     </td><td>13       </td><td> 9.494940</td></tr>\n",
       "\t<tr><td>2018     </td><td> 4       </td><td> 6.676322</td></tr>\n",
       "</tbody>\n",
       "</table>\n"
      ],
      "text/latex": [
       "\\begin{tabular}{r|lll}\n",
       " year & n\\_offs\\_matched & mean\\_disp\\_dist\\\\\n",
       "\\hline\n",
       "\t 2012      &  3        &  8.945754\\\\\n",
       "\t 2013      & 21        &  6.756019\\\\\n",
       "\t 2014      & 13        &  8.304422\\\\\n",
       "\t 2015      & 11        &  6.860867\\\\\n",
       "\t 2016      &  6        & 12.125406\\\\\n",
       "\t 2017      & 13        &  9.494940\\\\\n",
       "\t 2018      &  4        &  6.676322\\\\\n",
       "\\end{tabular}\n"
      ],
      "text/markdown": [
       "\n",
       "| year | n_offs_matched | mean_disp_dist |\n",
       "|---|---|---|\n",
       "| 2012      |  3        |  8.945754 |\n",
       "| 2013      | 21        |  6.756019 |\n",
       "| 2014      | 13        |  8.304422 |\n",
       "| 2015      | 11        |  6.860867 |\n",
       "| 2016      |  6        | 12.125406 |\n",
       "| 2017      | 13        |  9.494940 |\n",
       "| 2018      |  4        |  6.676322 |\n",
       "\n"
      ],
      "text/plain": [
       "  year n_offs_matched mean_disp_dist\n",
       "1 2012  3              8.945754     \n",
       "2 2013 21              6.756019     \n",
       "3 2014 13              8.304422     \n",
       "4 2015 11              6.860867     \n",
       "5 2016  6             12.125406     \n",
       "6 2017 13              9.494940     \n",
       "7 2018  4              6.676322     "
      ]
     },
     "metadata": {},
     "output_type": "display_data"
    }
   ],
   "source": [
    "#find means \n",
    "results_dist$year <- as.numeric(results_dist$year)\n",
    "means <- results_dist %>%\n",
    "    ungroup() %>%\n",
    "    group_by(year) %>%\n",
    "    distinct(offs_fish_indiv, .keep_all = T) %>%\n",
    "    summarise(mean_disp_dist=mean(dist_par_km))\n",
    " \n",
    "\n",
    "dispersal_raw_results <- left_join(sum_offs, means, by=\"year\")\n",
    "dispersal_raw_results\n",
    "write.table(dispersal_raw_results, file=\"~/parentage/colony2/20200605_1340loci/results/dispersal_raw_results.txt\", row.names=FALSE, quote=FALSE, col.names=T, sep=\" \")"
   ]
  },
  {
   "cell_type": "code",
   "execution_count": 191,
   "metadata": {},
   "outputs": [
    {
     "data": {
      "text/html": [
       "<strong>png:</strong> 2"
      ],
      "text/latex": [
       "\\textbf{png:} 2"
      ],
      "text/markdown": [
       "**png:** 2"
      ],
      "text/plain": [
       "png \n",
       "  2 "
      ]
     },
     "metadata": {},
     "output_type": "display_data"
    }
   ],
   "source": [
    "png('~/parentage/colony2/20200605_1340loci/results/dispersal_dist_hist.png')\n",
    "plot(dispersal_raw_results$mean_disp_dist, dispersal_raw_results$n_offs_matched)\n",
    "dev.off()"
   ]
  },
  {
   "cell_type": "code",
   "execution_count": 200,
   "metadata": {},
   "outputs": [],
   "source": [
    "#read in results post-processing\n",
    "results_dist <- read.csv(file=\"~/parentage/colony2/20200605_1340loci/results/parentage_results_allyears.csv\", header=T)"
   ]
  },
  {
   "cell_type": "code",
   "execution_count": 202,
   "metadata": {},
   "outputs": [
    {
     "data": {
      "text/html": [
       "71"
      ],
      "text/latex": [
       "71"
      ],
      "text/markdown": [
       "71"
      ],
      "text/plain": [
       "[1] 71"
      ]
     },
     "metadata": {},
     "output_type": "display_data"
    }
   ],
   "source": [
    "nrow(results_dist %>% distinct(offs_fish_indiv, .keep_all = T))"
   ]
  },
  {
   "cell_type": "code",
   "execution_count": null,
   "metadata": {},
   "outputs": [],
   "source": []
  },
  {
   "cell_type": "code",
   "execution_count": 29,
   "metadata": {},
   "outputs": [],
   "source": [
    "##what about adding in results from sibling matches?\n",
    "##SEARCH AND REPLACE FOR YEAR 4 MATCHES\n",
    "#full_sib <- read.table(file= \"/local/home/katrinac/parentage/colony2/20190523_1340loci/results/1340loci_2018.FullSibDyad\", sep=\",\", header= TRUE, stringsAsFactors = F)\t\n",
    "#half_sib <- read.table(file= \"/local/home/katrinac/parentage/colony2/20190523_1340loci/results/1340loci_2018.HalfSibDyad\", sep=\",\", header= TRUE, stringsAsFactors = F)\t\n",
    "#\n",
    "#\n",
    "#full_sib <- full_sib %>% \n",
    "#    rename(sib1_lig=\"OffspringID1\", sib2_lig = \"OffspringID2\", prob=\"Probability\") %>%\n",
    "#    mutate(type=\"full\")\n",
    "#\n",
    "#half_sib <- half_sib %>% \n",
    "#    rename(sib1_lig=\"OffspringID1\", sib2_lig = \"OffspringID2\", prob=\"Probability\") %>%\n",
    "#    mutate(type=\"half\")\n",
    "#\n",
    "###bind together into 1 df\n",
    "#sib18 <- bind_rows(full_sib, half_sib) %>%\n",
    "#    mutate(year=\"2018\")\n",
    "##\n",
    "##\n"
   ]
  },
  {
   "cell_type": "code",
   "execution_count": 76,
   "metadata": {},
   "outputs": [],
   "source": [
    "###bind all years of parentage together\n",
    "#allsibs <- bind_rows(sib12, sib13, sib14, sib15, sib16, sib17, sib18)\n",
    "#\n",
    "##nrow(allsibs) \n",
    "#\n",
    "#allsibs_clean <- allsibs %>%\n",
    "#    group_by(sib1_lig, sib2_lig) %>%\n",
    "#    mutate(prob = sum(prob, na.rm = T)) %>% #add the probabilities when a parent was matched twice\n",
    "#    ungroup()%>%\n",
    "#    filter(prob >= 0.95) #remove low prob matches\n",
    "#\n",
    "#nrow(allsibs_clean)\n",
    "\n"
   ]
  },
  {
   "cell_type": "code",
   "execution_count": 80,
   "metadata": {},
   "outputs": [],
   "source": [
    "#write.csv(allsibs_clean, file=\"~/parentage/colony2/20190523_1340loci/allsibs_clean.csv\", row.names=FALSE, quote=FALSE)\n",
    "\n"
   ]
  },
  {
   "cell_type": "markdown",
   "metadata": {},
   "source": [
    "## migest prep? "
   ]
  },
  {
   "cell_type": "code",
   "execution_count": 122,
   "metadata": {},
   "outputs": [
    {
     "data": {
      "text/html": [
       "24"
      ],
      "text/latex": [
       "24"
      ],
      "text/markdown": [
       "24"
      ],
      "text/plain": [
       "[1] 24"
      ]
     },
     "metadata": {},
     "output_type": "display_data"
    }
   ],
   "source": [
    "trios <- results_dist %>%\n",
    "    group_by(offs_lig, .keep_all = T) %>% \n",
    "    filter(n()==2) %>%\n",
    "    filter(row_number()==1)  \n",
    "\n",
    "n_trios<- trios %>%\n",
    "    ungroup() %>%\n",
    "    select(year, offs_site, par_site) %>%\n",
    "    group_by(year, offs_site, par_site) %>%\n",
    "    summarise(n_trios=n())\n",
    "sum(n_trios$n_trios) #should be 24\n",
    "\n",
    "write.csv(n_trios, file=\"~/parentage/colony2/20190523_1340loci/results/1340_colony_migest_trios_allyears.csv\", quote=TRUE, row.names= FALSE)\n",
    "\n",
    "\n",
    "  \n",
    "\n"
   ]
  },
  {
   "cell_type": "code",
   "execution_count": 121,
   "metadata": {},
   "outputs": [],
   "source": [
    "#read in who was in mum/dad file. Totally arbitrary way to sort sex but it will do \n",
    "mum <- read.table(file= \"/local/home/katrinac/parentage/colony2/20190523_1340loci/results/1340loci_in_mum_output.txt\", header= TRUE, stringsAsFactors = F) %>%\n",
    "    rename(offs_lig=\"OffspringID\", par_lig = \"InferredMum1\", prob= \"ProbMum1\") %>%\n",
    "    filter(par_lig !=\"L1091\") %>%#remove APCL13_128, the parent that moved (see later in script for explaination comment)filter(par_lig !=\"L1091\")#remove APCL13_128, the parent that moved (see later in script for explaination comment)\n",
    "    group_by(offs_lig, par_lig) %>%\n",
    "    mutate(prob = sum(prob, na.rm = T)) %>% #add the probabilities when a parent was matched twice\n",
    "    ungroup()%>%\n",
    "    filter(prob >= 0.95)\n",
    "\n",
    "dad <- read.table(file= \"/local/home/katrinac/parentage/colony2/20190523_1340loci/results/1340loci_in_dad_output.txt\", header= TRUE, stringsAsFactors = F) %>%\n",
    "    rename(offs_lig=\"OffspringID\", par_lig = \"InferredDad1\", prob= \"ProbDad1\") %>%\n",
    "    filter(par_lig !=\"L1091\") %>%#remove APCL13_128, the parent that moved (see later in script for explaination comment)filter(par_lig !=\"L1091\")#remove APCL13_128, the parent that moved (see later in script for explaination comment)\n",
    "    group_by(offs_lig, par_lig) %>%\n",
    "    mutate(prob = sum(prob, na.rm = T)) %>% #add the probabilities when a parent was matched twice\n",
    "    ungroup()%>%\n",
    "    filter(prob >= 0.95)"
   ]
  },
  {
   "cell_type": "code",
   "execution_count": 132,
   "metadata": {},
   "outputs": [],
   "source": [
    "\n",
    "#make separate mum and dad input files\n",
    "n_mums_notrios <- results_dist %>%\n",
    "    ungroup() %>%\n",
    "    filter(offs_lig %!in% trios$offs_lig & offs_lig %in% mum$offs_lig)%>%\n",
    "    select(year, offs_site, par_site) %>%\n",
    "    group_by(year, offs_site, par_site) %>%\n",
    "    summarise(n_mum=n())\n",
    "\n",
    "\n",
    "n_dads_notrios <- results_dist %>%\n",
    "    ungroup() %>%\n",
    "    filter(offs_lig %!in% trios$offs_lig & offs_lig %in% dad$offs_lig)%>%\n",
    "    select(year, offs_site, par_site) %>%\n",
    "    group_by(year, offs_site, par_site) %>%\n",
    "    summarise(n_dad=n())\n",
    "\n",
    "write.csv(n_mums_notrios, file=\"~/parentage/colony2/20190523_1340loci/results/1340_colony_migest_mums_allyears.csv\", quote=TRUE, row.names= FALSE)\n",
    "write.csv(n_dads_notrios, file=\"~/parentage/colony2/20190523_1340loci/results/1340_colony_migest_dads_allyears.csv\", quote=TRUE, row.names= FALSE)\n",
    "\n",
    "\n",
    "\n"
   ]
  },
  {
   "cell_type": "code",
   "execution_count": 130,
   "metadata": {},
   "outputs": [
    {
     "data": {
      "text/html": [
       "62"
      ],
      "text/latex": [
       "62"
      ],
      "text/markdown": [
       "62"
      ],
      "text/plain": [
       "[1] 62"
      ]
     },
     "metadata": {},
     "output_type": "display_data"
    }
   ],
   "source": [
    "sum(n_mums_notrios$n_mum) + sum(n_dads_notrios$n_dad) +sum(n_trios$n_trios)\n",
    "#should be 62"
   ]
  },
  {
   "cell_type": "code",
   "execution_count": 34,
   "metadata": {},
   "outputs": [],
   "source": [
    "###should delete? \n",
    "col <- \"sites\"\n",
    "sites <-as.data.frame(c(\"Gabas\", \"Caridad Cemetery\", \"Caridad Proper\", \"Poroc Rose\", \"Poroc San Flower\", \"Visca\", \"Sitio Baybayon\", \"Palanas\", \"Wangag\",\"Magbangon\", \"Cabataon\", \"Haina\", \"Tamakin Dacot\", \"Sitio Tugas\", \"Sitio Lonas\", \"Elementery School\", \"San Agustin\", \"Hicgop South\"))\n",
    "colnames(sites) <- col\n",
    "sites <- arrange(sites, sites)\n",
    "#write male/female specific parentage matrix \n",
    "#write.csv(par_mat_MF, file=\"~/parentage/colony2/20180712_2188loci/results/20180713colony_migest_table_allyears.csv\", quote=TRUE, row.names= FALSE)\n",
    "\n"
   ]
  },
  {
   "cell_type": "code",
   "execution_count": 30,
   "metadata": {},
   "outputs": [],
   "source": [
    "###ASIDE CELL, USED TO MAKE A TABLE OF PARENT-OFFSPRING YEARS FOR MALIN 10/17/2018\n",
    "#count the number of each pairwise site combination and year\n",
    "#\n",
    "#dim(par12)\n",
    "#dim(par13)\n",
    "#dim(par14)\n",
    "#dim(par15)\n",
    "#\n",
    "#\n",
    "#parent_counts12 <- par12 %>%\n",
    "#    group_by(year, parent_year) %>%\n",
    "#    summarise(n_parentage_matches=n()) %>%\n",
    "#    rename(offspring_year= year)\n",
    "#\n",
    "#parent_counts13 <- par13 %>%\n",
    "#    group_by(year, parent_year) %>%\n",
    "#    summarise(n_parentage_matches=n()) %>%\n",
    "#    rename(offspring_year= year)\n",
    "#\n",
    "#parent_counts14 <- par14 %>%\n",
    "#    group_by(year, parent_year) %>%\n",
    "#    summarise(n_parentage_matches=n()) %>%\n",
    "#    rename(offspring_year= year)\n",
    "#\n",
    "#parent_counts15 <- par15 %>%\n",
    "#    group_by(year, parent_year) %>%\n",
    "#    summarise(n_parentage_matches=n()) %>%\n",
    "#    rename(offspring_year= year)\n",
    "#\n",
    "#\n",
    "#\n",
    "#all_parent_counts <- bind_rows(parent_counts12, parent_counts13, parent_counts14, parent_counts15)\n",
    "#\n",
    "#write.csv(all_parent_counts, file=\"~/parentage/20181017_allparentage_matches_year.csv\", quote=FALSE, row.names= FALSE)\n"
   ]
  },
  {
   "cell_type": "markdown",
   "metadata": {},
   "source": [
    "## Directionality"
   ]
  },
  {
   "cell_type": "code",
   "execution_count": 205,
   "metadata": {},
   "outputs": [
    {
     "name": "stdout",
     "output_type": "stream",
     "text": [
      "'data.frame':\t85 obs. of  42 variables:\n",
      " $ par_fish_indiv    : int  25 124 132 133 133 146 150 196 962 235 ...\n",
      " $ par_size          : num  10.4 7.5 8 9 9 10.4 9.7 9.1 9.8 9.1 ...\n",
      " $ par_color         : Factor w/ 4 levels \"O\",\"Y\",\"YP\",\"YR\": 3 NA NA 1 1 NA 1 1 1 1 ...\n",
      " $ par_sex           : Factor w/ 3 levels \"F\",\"J\",\"M\": 1 NA NA 3 3 NA 3 3 3 3 ...\n",
      " $ par_gen_id        : int  25 124 132 133 133 146 150 196 962 235 ...\n",
      " $ par_ligation_id   : Factor w/ 73 levels \"L0328\",\"L0384\",..: 33 30 29 31 31 37 38 43 39 25 ...\n",
      " $ par_sample_id     : Factor w/ 73 levels \"APCL12_030\",\"APCL12_088\",..: 25 8 7 9 9 1 5 12 10 2 ...\n",
      " $ par_site          : Factor w/ 12 levels \"Cabatoan\",\"Haina\",..: 11 12 12 12 12 11 5 7 1 5 ...\n",
      " $ par_date          : Factor w/ 39 levels \"2012-05-06\",\"2012-05-09\",..: 12 2 2 2 2 1 2 3 3 2 ...\n",
      " $ par_anem_obs_time : Factor w/ 63 levels \"09:23:00\",\"09:25:00\",..: 63 51 53 49 49 58 38 21 8 32 ...\n",
      " $ par_gps           : int  1 1 1 1 1 1 1 1 1 1 ...\n",
      " $ par_ligation_year : int  2013 2012 2012 2012 2012 2012 2012 2012 2012 2012 ...\n",
      " $ offs_fish_indiv   : int  645 770 770 601 646 312 534 224 581 104 ...\n",
      " $ offs_size         : num  4.1 4.2 4.2 2.3 3.3 3.8 3.9 5.7 4.4 4 ...\n",
      " $ offs_color        : Factor w/ 7 levels \"BW\",\"O\",\"W\",\"WR\",..: 7 7 7 7 3 7 3 3 3 7 ...\n",
      " $ offs_sex          : Factor w/ 3 levels \"F\",\"J\",\"M\": 2 2 2 2 2 2 2 2 2 2 ...\n",
      " $ offs_gen_id       : int  645 770 770 601 646 312 534 224 581 104 ...\n",
      " $ offs_ligation_id  : Factor w/ 71 levels \"L0259\",\"L0262\",..: 33 11 11 12 8 3 28 68 31 2 ...\n",
      " $ offs_sample_id    : Factor w/ 71 levels \"APCL12_205\",\"APCL12_212\",..: 17 15 15 16 13 7 20 1 30 6 ...\n",
      " $ offs_site         : Factor w/ 12 levels \"Cabatoan\",\"Elementary School\",..: 11 6 6 6 12 6 6 7 8 6 ...\n",
      " $ offs_date         : Factor w/ 44 levels \"2012-05-11\",\"2013-05-25\",..: 8 7 7 7 6 3 9 1 14 3 ...\n",
      " $ offs_anem_obs_time: Factor w/ 66 levels \"08:47:15\",\"09:12:00\",..: 66 38 38 38 1 53 42 23 2 31 ...\n",
      " $ offs_gps          : int  1 1 1 1 1 1 1 1 1 1 ...\n",
      " $ offs_ligation_year: int  2013 2013 2013 2013 2013 2013 2013 2012 2014 2013 ...\n",
      " $ year              : int  2013 2013 2013 2013 2013 2013 2013 2012 2014 2013 ...\n",
      " $ offs_time_date    : Factor w/ 68 levels \"2012-05-11 04:07:00\",..: 15 14 14 14 12 6 18 1 28 5 ...\n",
      " $ offs_year         : int  2013 2013 2013 2013 2013 2013 2013 2012 2014 2013 ...\n",
      " $ offs_month        : int  6 5 5 5 5 5 6 5 6 5 ...\n",
      " $ offs_day          : int  1 31 31 31 30 27 4 11 18 27 ...\n",
      " $ offs_hour         : int  8 5 5 5 0 6 5 4 1 4 ...\n",
      " $ offs_minute       : int  58 34 34 34 47 45 49 7 12 31 ...\n",
      " $ par_time_date     : Factor w/ 66 levels \"2012-05-06 07:31:00\",..: 22 7 8 6 6 1 4 10 9 2 ...\n",
      " $ par_year          : int  2013 2012 2012 2012 2012 2012 2012 2012 2012 2012 ...\n",
      " $ par_month         : int  6 5 5 5 5 5 5 5 5 5 ...\n",
      " $ par_day           : int  1 9 9 9 9 6 9 10 10 9 ...\n",
      " $ par_hour          : int  9 7 7 7 7 7 5 3 2 4 ...\n",
      " $ par_minute        : int  18 5 9 0 0 31 1 15 11 3 ...\n",
      " $ offs_lat          : num  10.7 10.9 10.9 10.9 10.9 ...\n",
      " $ offs_lon          : num  125 125 125 125 125 ...\n",
      " $ par_lat           : num  10.7 10.9 10.9 10.9 10.9 ...\n",
      " $ par_lon           : num  125 125 125 125 125 ...\n",
      " $ dist_par_km       : num  0.105 0.267 0.271 0.262 0.401 ...\n"
     ]
    }
   ],
   "source": [
    "str(results_dist)"
   ]
  },
  {
   "cell_type": "code",
   "execution_count": 208,
   "metadata": {},
   "outputs": [],
   "source": [
    "### Assesing directionality\n",
    "#read in sites NS\n",
    "sites_ns <- read.table(file=\"~/parentage/text_file/sites_NS.txt\", header=T, sep=\",\")\n",
    "\n",
    "#gather the distance from parent information to visulize the dispersal distances KEEP sites\n",
    "par_mat_dist <- results_dist %>%\n",
    "    ungroup() %>%\n",
    "    select(offs_fish_indiv, offs_sample_id, year, par_fish_indiv, par_sample_id, dist_par_km, offs_site, par_site) %>%\n",
    "    distinct(offs_fish_indiv, .keep_all = T)\n",
    "\n"
   ]
  },
  {
   "cell_type": "code",
   "execution_count": 59,
   "metadata": {},
   "outputs": [],
   "source": [
    "#TEST SEASONALITY\n",
    "\n",
    "#sites_ns <- read.table(file=\"~/parentage/text_file/sites_NS.txt\", header=T, sep=\",\")\n",
    "#\n",
    "##gather the distance from parent information to visulize the dispersal distances KEEP sites\n",
    "#par_mat_dist <- results_dist %>%\n",
    "#    ungroup() %>%\n",
    "#    filter(offs_fish_indiv %in% small$fish_indiv) %>%\n",
    "#    select(offs_lig,offs_samp, year, par_lig, par_samp, dist_par_km, offs_site, par_site) %>%\n",
    "#    distinct(offs_lig, .keep_all = T)\n",
    "#\n",
    "#"
   ]
  },
  {
   "cell_type": "code",
   "execution_count": 209,
   "metadata": {},
   "outputs": [
    {
     "name": "stderr",
     "output_type": "stream",
     "text": [
      "Warning message:\n",
      "“Column `offs_site`/`site` joining factors with different levels, coercing to character vector”Warning message:\n",
      "“Column `par_site`/`site` joining factors with different levels, coercing to character vector”Warning message:\n",
      "“Column `par_site`/`site` joining factors with different levels, coercing to character vector”"
     ]
    }
   ],
   "source": [
    "#join to parentage tables\n",
    "offs_index <- left_join(par_mat_dist, sites_ns, by=c(offs_site =\"site\")) %>%\n",
    "    rename(offs_index=\"index\")\n",
    "par_directionality <- left_join(offs_index, sites_ns, by=c(par_site=\"site\")) %>%\n",
    "    rename(par_index=\"index\") %>%\n",
    "    filter(offs_index!=par_index) %>% #get rid of self-recruitment back to the site, our gps points are fuzzy so best to leave those out\n",
    "    mutate(direction=ifelse(par_index > offs_index, \"south\", \"north\")) #each offspring and parent site has an index number 1-19, North to South. Add in a column for dirrectionality\n",
    "#add in the self-recruitment values\n",
    "sr <- left_join(offs_index, sites_ns, by=c(par_site=\"site\")) %>%\n",
    "    rename(par_index=\"index\") %>%\n",
    "    filter(offs_index==par_index) %>% \n",
    "    mutate(direction=\"self\")\n",
    "\n",
    "disp_direction <- bind_rows(par_directionality, sr)\n"
   ]
  },
  {
   "cell_type": "code",
   "execution_count": null,
   "metadata": {},
   "outputs": [],
   "source": []
  },
  {
   "cell_type": "code",
   "execution_count": 210,
   "metadata": {},
   "outputs": [],
   "source": [
    "# loop through par_index and assign a North or South value for each parentage match\n",
    "#par_index"
   ]
  },
  {
   "cell_type": "code",
   "execution_count": 212,
   "metadata": {},
   "outputs": [],
   "source": [
    "write.csv(disp_direction, file=\"~/parentage/colony2/20200605_1340loci/results/20200624colony_dispersaldirection.csv\", quote=TRUE, row.names= FALSE)\n",
    "\n"
   ]
  },
  {
   "cell_type": "markdown",
   "metadata": {},
   "source": [
    "## Preliminary plots"
   ]
  },
  {
   "cell_type": "code",
   "execution_count": 33,
   "metadata": {},
   "outputs": [],
   "source": [
    "#gather the distance from parent information to visulize the dispersal distances rather than sites\n",
    "par1_mat_dist <- no_suspect %>%\n",
    "    ungroup() %>%\n",
    "    select(offs_ligation_id, year, par1_ligation_id, dist_par1_km) %>%\n",
    "    rename(par_ligation_id=\"par1_ligation_id\", par_dist=\"dist_par1_km\")\n",
    "par2_mat_dist <- no_suspect %>%\n",
    "    ungroup() %>%\n",
    "    select(offs_ligation_id, year, par2_ligation_id, dist_par2_km) %>%\n",
    "    rename(par_ligation_id=\"par2_ligation_id\", par_dist=\"dist_par2_km\")"
   ]
  },
  {
   "cell_type": "code",
   "execution_count": 34,
   "metadata": {},
   "outputs": [],
   "source": [
    "par_mat_dist <- bind_rows(par1_mat_dist, par2_mat_dist)\n",
    "par_mat_dist_fin <- par_mat_dist %>% \n",
    "    filter(par_ligation_id !=\"NA\")%>%\n",
    "    filter(par_dist != \"NA\") %>%\n",
    "    group_by(offs_ligation_id) %>%\n",
    "    filter(row_number()==1)"
   ]
  },
  {
   "cell_type": "code",
   "execution_count": 35,
   "metadata": {},
   "outputs": [
    {
     "data": {
      "text/html": [
       "<ol class=list-inline>\n",
       "\t<li>89</li>\n",
       "\t<li>4</li>\n",
       "</ol>\n"
      ],
      "text/latex": [
       "\\begin{enumerate*}\n",
       "\\item 89\n",
       "\\item 4\n",
       "\\end{enumerate*}\n"
      ],
      "text/markdown": [
       "1. 89\n",
       "2. 4\n",
       "\n",
       "\n"
      ],
      "text/plain": [
       "[1] 89  4"
      ]
     },
     "metadata": {},
     "output_type": "display_data"
    }
   ],
   "source": [
    "dim(par_mat_dist_fin)"
   ]
  },
  {
   "cell_type": "code",
   "execution_count": 30,
   "metadata": {},
   "outputs": [],
   "source": [
    "#write out to plot distances \n",
    "write.csv(par_mat_dist_fin, file=\"~/parentage/colony2/20180712_2188loci/results/20180911colony_pardist_allyears.csv\", quote=TRUE, row.names= FALSE)\n",
    "\n"
   ]
  },
  {
   "cell_type": "markdown",
   "metadata": {},
   "source": [
    "## what does this look like for annual distance?"
   ]
  },
  {
   "cell_type": "code",
   "execution_count": 44,
   "metadata": {},
   "outputs": [
    {
     "data": {
      "text/html": [
       "<table>\n",
       "<thead><tr><th scope=col>year</th><th scope=col>mean</th></tr></thead>\n",
       "<tbody>\n",
       "\t<tr><td>2012    </td><td>6.772821</td></tr>\n",
       "\t<tr><td>2013    </td><td>8.120695</td></tr>\n",
       "\t<tr><td>2014    </td><td>3.302044</td></tr>\n",
       "\t<tr><td>2015    </td><td>3.467952</td></tr>\n",
       "</tbody>\n",
       "</table>\n"
      ],
      "text/latex": [
       "\\begin{tabular}{r|ll}\n",
       " year & mean\\\\\n",
       "\\hline\n",
       "\t 2012     & 6.772821\\\\\n",
       "\t 2013     & 8.120695\\\\\n",
       "\t 2014     & 3.302044\\\\\n",
       "\t 2015     & 3.467952\\\\\n",
       "\\end{tabular}\n"
      ],
      "text/markdown": [
       "\n",
       "year | mean | \n",
       "|---|---|---|---|\n",
       "| 2012     | 6.772821 | \n",
       "| 2013     | 8.120695 | \n",
       "| 2014     | 3.302044 | \n",
       "| 2015     | 3.467952 | \n",
       "\n",
       "\n"
      ],
      "text/plain": [
       "  year mean    \n",
       "1 2012 6.772821\n",
       "2 2013 8.120695\n",
       "3 2014 3.302044\n",
       "4 2015 3.467952"
      ]
     },
     "metadata": {},
     "output_type": "display_data"
    }
   ],
   "source": [
    "means"
   ]
  },
  {
   "cell_type": "code",
   "execution_count": 47,
   "metadata": {},
   "outputs": [],
   "source": [
    "dist_cdf <- ggplot(par_mat_fin_dist, aes(x=par_dist)) + stat_ecdf(aes(colour=year), geom=\"step\") +\n",
    "    geom_hline(yintercept=.5, linetype=\"dashed\")"
   ]
  },
  {
   "cell_type": "code",
   "execution_count": 48,
   "metadata": {},
   "outputs": [
    {
     "data": {},
     "metadata": {},
     "output_type": "display_data"
    },
    {
     "data": {
      "image/png": "[encoded data removed]",
      "text/plain": [
       "plot without title"
      ]
     },
     "metadata": {},
     "output_type": "display_data"
    }
   ],
   "source": [
    "dist_cdf"
   ]
  },
  {
   "cell_type": "code",
   "execution_count": 34,
   "metadata": {},
   "outputs": [
    {
     "data": {
      "text/html": [
       "<table>\n",
       "<thead><tr><th scope=col>par_samp</th><th scope=col>par_fish_indiv</th><th scope=col>offs_samp</th><th scope=col>offs_fish_indiv</th><th scope=col>offs_lig</th><th scope=col>par_lig</th><th scope=col>prob</th><th scope=col>year</th><th scope=col>par_size</th><th scope=col>par_color</th><th scope=col>⋯</th><th scope=col>offs_size</th><th scope=col>offs_color</th><th scope=col>offs_sex</th><th scope=col>offs_lat</th><th scope=col>offs_lon</th><th scope=col>offs_site</th><th scope=col>par_lat</th><th scope=col>par_lon</th><th scope=col>par_site</th><th scope=col>dist_par_km</th></tr></thead>\n",
       "<tbody>\n",
       "\t<tr><td>APCL13_510</td><td>25        </td><td>APCL13_507</td><td>645       </td><td>L2396     </td><td>L2238     </td><td>1         </td><td>2013      </td><td>10.4      </td><td>YP        </td><td>⋯         </td><td>4.1       </td><td>YR        </td><td>J         </td><td>10.74343  </td><td>124.7869  </td><td>Visca     </td><td>10.74427  </td><td>124.7865  </td><td>Visca     </td><td> 0.1049982</td></tr>\n",
       "\t<tr><td>APCL12_110</td><td>124       </td><td>APCL13_489</td><td>770       </td><td>L0660     </td><td>L1770     </td><td>1         </td><td>2013      </td><td> 7.5      </td><td>NA        </td><td>⋯         </td><td>4.2       </td><td>YR        </td><td>J         </td><td>10.87312  </td><td>124.7121  </td><td>Palanas   </td><td>10.87166  </td><td>124.7140  </td><td>Wangag    </td><td> 0.2673390</td></tr>\n",
       "\t<tr><td>APCL12_109</td><td>132       </td><td>APCL13_489</td><td>770       </td><td>L0660     </td><td>L1769     </td><td>1         </td><td>2013      </td><td> 8.0      </td><td>NA        </td><td>⋯         </td><td>4.2       </td><td>YR        </td><td>J         </td><td>10.87312  </td><td>124.7121  </td><td>Palanas   </td><td>10.87165  </td><td>124.7141  </td><td>Wangag    </td><td> 0.2708801</td></tr>\n",
       "\t<tr><td>APCL12_117</td><td>133       </td><td>APCL13_490</td><td>601       </td><td>L0661     </td><td>L2217     </td><td>1         </td><td>2013      </td><td> 9.0      </td><td>O         </td><td>⋯         </td><td>2.3       </td><td>YR        </td><td>J         </td><td>10.87312  </td><td>124.7121  </td><td>Palanas   </td><td>10.87168  </td><td>124.7140  </td><td>Wangag    </td><td> 0.2618357</td></tr>\n",
       "\t<tr><td>APCL12_117</td><td>133       </td><td>APCL13_388</td><td>646       </td><td>L0398     </td><td>L2217     </td><td>1         </td><td>2013      </td><td> 9.0      </td><td>O         </td><td>⋯         </td><td>3.3       </td><td>W         </td><td>J         </td><td>10.86902  </td><td>124.7165  </td><td>Wangag    </td><td>10.87168  </td><td>124.7140  </td><td>Wangag    </td><td> 0.4013014</td></tr>\n",
       "\t<tr><td>APCL12_030</td><td>146       </td><td>APCL13_245</td><td>312       </td><td>L0278     </td><td>L2345     </td><td>1         </td><td>2013      </td><td>10.4      </td><td>NA        </td><td>⋯         </td><td>3.8       </td><td>YR        </td><td>J         </td><td>10.87427  </td><td>124.7107  </td><td>Palanas   </td><td>10.74399  </td><td>124.7863  </td><td>Visca     </td><td>16.6768523</td></tr>\n",
       "</tbody>\n",
       "</table>\n"
      ],
      "text/latex": [
       "\\begin{tabular}{r|lllllllllllllllllllll}\n",
       " par\\_samp & par\\_fish\\_indiv & offs\\_samp & offs\\_fish\\_indiv & offs\\_lig & par\\_lig & prob & year & par\\_size & par\\_color & ⋯ & offs\\_size & offs\\_color & offs\\_sex & offs\\_lat & offs\\_lon & offs\\_site & par\\_lat & par\\_lon & par\\_site & dist\\_par\\_km\\\\\n",
       "\\hline\n",
       "\t APCL13\\_510 & 25           & APCL13\\_507 & 645          & L2396        & L2238        & 1            & 2013         & 10.4         & YP           & ⋯            & 4.1          & YR           & J            & 10.74343     & 124.7869     & Visca        & 10.74427     & 124.7865     & Visca        &  0.1049982  \\\\\n",
       "\t APCL12\\_110 & 124          & APCL13\\_489 & 770          & L0660        & L1770        & 1            & 2013         &  7.5         & NA           & ⋯            & 4.2          & YR           & J            & 10.87312     & 124.7121     & Palanas      & 10.87166     & 124.7140     & Wangag       &  0.2673390  \\\\\n",
       "\t APCL12\\_109 & 132          & APCL13\\_489 & 770          & L0660        & L1769        & 1            & 2013         &  8.0         & NA           & ⋯            & 4.2          & YR           & J            & 10.87312     & 124.7121     & Palanas      & 10.87165     & 124.7141     & Wangag       &  0.2708801  \\\\\n",
       "\t APCL12\\_117 & 133          & APCL13\\_490 & 601          & L0661        & L2217        & 1            & 2013         &  9.0         & O            & ⋯            & 2.3          & YR           & J            & 10.87312     & 124.7121     & Palanas      & 10.87168     & 124.7140     & Wangag       &  0.2618357  \\\\\n",
       "\t APCL12\\_117 & 133          & APCL13\\_388 & 646          & L0398        & L2217        & 1            & 2013         &  9.0         & O            & ⋯            & 3.3          & W            & J            & 10.86902     & 124.7165     & Wangag       & 10.87168     & 124.7140     & Wangag       &  0.4013014  \\\\\n",
       "\t APCL12\\_030 & 146          & APCL13\\_245 & 312          & L0278        & L2345        & 1            & 2013         & 10.4         & NA           & ⋯            & 3.8          & YR           & J            & 10.87427     & 124.7107     & Palanas      & 10.74399     & 124.7863     & Visca        & 16.6768523  \\\\\n",
       "\\end{tabular}\n"
      ],
      "text/markdown": [
       "\n",
       "par_samp | par_fish_indiv | offs_samp | offs_fish_indiv | offs_lig | par_lig | prob | year | par_size | par_color | ⋯ | offs_size | offs_color | offs_sex | offs_lat | offs_lon | offs_site | par_lat | par_lon | par_site | dist_par_km | \n",
       "|---|---|---|---|---|---|\n",
       "| APCL13_510 | 25         | APCL13_507 | 645        | L2396      | L2238      | 1          | 2013       | 10.4       | YP         | ⋯          | 4.1        | YR         | J          | 10.74343   | 124.7869   | Visca      | 10.74427   | 124.7865   | Visca      |  0.1049982 | \n",
       "| APCL12_110 | 124        | APCL13_489 | 770        | L0660      | L1770      | 1          | 2013       |  7.5       | NA         | ⋯          | 4.2        | YR         | J          | 10.87312   | 124.7121   | Palanas    | 10.87166   | 124.7140   | Wangag     |  0.2673390 | \n",
       "| APCL12_109 | 132        | APCL13_489 | 770        | L0660      | L1769      | 1          | 2013       |  8.0       | NA         | ⋯          | 4.2        | YR         | J          | 10.87312   | 124.7121   | Palanas    | 10.87165   | 124.7141   | Wangag     |  0.2708801 | \n",
       "| APCL12_117 | 133        | APCL13_490 | 601        | L0661      | L2217      | 1          | 2013       |  9.0       | O          | ⋯          | 2.3        | YR         | J          | 10.87312   | 124.7121   | Palanas    | 10.87168   | 124.7140   | Wangag     |  0.2618357 | \n",
       "| APCL12_117 | 133        | APCL13_388 | 646        | L0398      | L2217      | 1          | 2013       |  9.0       | O          | ⋯          | 3.3        | W          | J          | 10.86902   | 124.7165   | Wangag     | 10.87168   | 124.7140   | Wangag     |  0.4013014 | \n",
       "| APCL12_030 | 146        | APCL13_245 | 312        | L0278      | L2345      | 1          | 2013       | 10.4       | NA         | ⋯          | 3.8        | YR         | J          | 10.87427   | 124.7107   | Palanas    | 10.74399   | 124.7863   | Visca      | 16.6768523 | \n",
       "\n",
       "\n"
      ],
      "text/plain": [
       "  par_samp   par_fish_indiv offs_samp  offs_fish_indiv offs_lig par_lig prob\n",
       "1 APCL13_510 25             APCL13_507 645             L2396    L2238   1   \n",
       "2 APCL12_110 124            APCL13_489 770             L0660    L1770   1   \n",
       "3 APCL12_109 132            APCL13_489 770             L0660    L1769   1   \n",
       "4 APCL12_117 133            APCL13_490 601             L0661    L2217   1   \n",
       "5 APCL12_117 133            APCL13_388 646             L0398    L2217   1   \n",
       "6 APCL12_030 146            APCL13_245 312             L0278    L2345   1   \n",
       "  year par_size par_color ⋯ offs_size offs_color offs_sex offs_lat offs_lon\n",
       "1 2013 10.4     YP        ⋯ 4.1       YR         J        10.74343 124.7869\n",
       "2 2013  7.5     NA        ⋯ 4.2       YR         J        10.87312 124.7121\n",
       "3 2013  8.0     NA        ⋯ 4.2       YR         J        10.87312 124.7121\n",
       "4 2013  9.0     O         ⋯ 2.3       YR         J        10.87312 124.7121\n",
       "5 2013  9.0     O         ⋯ 3.3       W          J        10.86902 124.7165\n",
       "6 2013 10.4     NA        ⋯ 3.8       YR         J        10.87427 124.7107\n",
       "  offs_site par_lat  par_lon  par_site dist_par_km\n",
       "1 Visca     10.74427 124.7865 Visca     0.1049982 \n",
       "2 Palanas   10.87166 124.7140 Wangag    0.2673390 \n",
       "3 Palanas   10.87165 124.7141 Wangag    0.2708801 \n",
       "4 Palanas   10.87168 124.7140 Wangag    0.2618357 \n",
       "5 Wangag    10.87168 124.7140 Wangag    0.4013014 \n",
       "6 Palanas   10.74399 124.7863 Visca    16.6768523 "
      ]
     },
     "metadata": {},
     "output_type": "display_data"
    }
   ],
   "source": [
    "head(results_dist)"
   ]
  },
  {
   "cell_type": "code",
   "execution_count": null,
   "metadata": {},
   "outputs": [],
   "source": []
  },
  {
   "cell_type": "code",
   "execution_count": null,
   "metadata": {},
   "outputs": [],
   "source": []
  },
  {
   "cell_type": "code",
   "execution_count": null,
   "metadata": {},
   "outputs": [],
   "source": []
  },
  {
   "cell_type": "code",
   "execution_count": null,
   "metadata": {},
   "outputs": [],
   "source": []
  },
  {
   "cell_type": "code",
   "execution_count": null,
   "metadata": {},
   "outputs": [],
   "source": []
  },
  {
   "cell_type": "code",
   "execution_count": null,
   "metadata": {},
   "outputs": [],
   "source": []
  },
  {
   "cell_type": "code",
   "execution_count": null,
   "metadata": {},
   "outputs": [],
   "source": []
  },
  {
   "cell_type": "markdown",
   "metadata": {},
   "source": [
    "### BEGIN REGENOTYPE TROUBLESHOOTING"
   ]
  },
  {
   "cell_type": "code",
   "execution_count": 47,
   "metadata": {
    "scrolled": false
   },
   "outputs": [
    {
     "data": {
      "text/html": [
       "<ol class=list-inline>\n",
       "\t<li>103</li>\n",
       "\t<li>6</li>\n",
       "</ol>\n"
      ],
      "text/latex": [
       "\\begin{enumerate*}\n",
       "\\item 103\n",
       "\\item 6\n",
       "\\end{enumerate*}\n"
      ],
      "text/markdown": [
       "1. 103\n",
       "2. 6\n",
       "\n",
       "\n"
      ],
      "text/plain": [
       "[1] 103   6"
      ]
     },
     "metadata": {},
     "output_type": "display_data"
    }
   ],
   "source": [
    "#(results %>% filter(offs_gen==par1_gen))\n",
    "#(results %>% filter(offs_gen==par2_gen))\n",
    "\n",
    "#bring the par1 and par2 columns together for a single par column\n",
    "no_repeats1 <-results %>% \n",
    "    select(offs_lig, offs_samp, offs_gen, par1_lig, par1_samp, par1_gen) %>%\n",
    "    rename(par_lig =\"par1_lig\", par_samp=\"par1_samp\", par_gen = \"par1_gen\")\n",
    "\n",
    "\n",
    "no_repeats2 <-results %>% \n",
    "    select(offs_lig, offs_samp, offs_gen, par2_lig, par2_samp, par2_gen) %>%\n",
    "    rename(par_lig =\"par2_lig\", par_samp=\"par2_samp\", par_gen = \"par2_gen\")\n",
    "\n",
    "test <- bind_rows(no_repeats1, no_repeats2) %>%\n",
    "    filter(par_lig!= \"NA\") %>%\n",
    "    group_by(offs_lig, offs_samp, offs_gen, par_lig, par_samp, par_gen) %>%\n",
    "    distinct(offs_gen, par_gen, .keep_all=T) %>%  #filter to only distinct offspring matches, should be 82 rows with a par1 and a par2 column set up\n",
    "    ungroup()\n",
    "dim(test)"
   ]
  },
  {
   "cell_type": "code",
   "execution_count": 73,
   "metadata": {},
   "outputs": [],
   "source": [
    "par_itself <- test %>% \n",
    "    filter(offs_gen == par_gen) #REMOVE REGENOS THAT SLIPPED THROUGH IN FILE PREP, 9 instances of a parent-offspring match that is a regenotype\n",
    "\n",
    "repeated_offs <- test %>% \n",
    "    group_by(offs_gen, par_gen) %>% \n",
    "    filter(n()>1) %>% \n",
    "    arrange(offs_gen) %>% \n",
    "    ungroup() %>%\n",
    "    filter(offs_gen != par_gen) #REMOVE REGENOS IN THE OFFSPRING THAT SHOWED UP AS MULTIPLE OFFSPRING\n",
    "#save data and upload to github\n",
    "saveRDS(par_itself, file = \"~/parentage/regenotypes_misidentified_as_parentage.rds\")\n",
    "saveRDS(repeated_offs, file = \"~/parentage/regenotypes_misidentified_as_multiple offspring.rds\")\n",
    "\n",
    "all_repeats <- bind_rows(par_itself, repeated_offs)\n",
    "dim(all_repeats)"
   ]
  },
  {
   "cell_type": "code",
   "execution_count": 76,
   "metadata": {},
   "outputs": [
    {
     "data": {
      "text/html": [
       "<ol class=list-inline>\n",
       "\t<li>4314</li>\n",
       "\t<li>6</li>\n",
       "</ol>\n"
      ],
      "text/latex": [
       "\\begin{enumerate*}\n",
       "\\item 4314\n",
       "\\item 6\n",
       "\\end{enumerate*}\n"
      ],
      "text/markdown": [
       "1. 4314\n",
       "2. 6\n",
       "\n",
       "\n"
      ],
      "text/plain": [
       "[1] 4314    6"
      ]
     },
     "metadata": {},
     "output_type": "display_data"
    },
    {
     "data": {
      "text/html": [
       "<ol class=list-inline>\n",
       "\t<li>2585</li>\n",
       "\t<li>6</li>\n",
       "</ol>\n"
      ],
      "text/latex": [
       "\\begin{enumerate*}\n",
       "\\item 2585\n",
       "\\item 6\n",
       "\\end{enumerate*}\n"
      ],
      "text/markdown": [
       "1. 2585\n",
       "2. 6\n",
       "\n",
       "\n"
      ],
      "text/plain": [
       "[1] 2585    6"
      ]
     },
     "metadata": {},
     "output_type": "display_data"
    },
    {
     "data": {
      "text/html": [
       "<ol class=list-inline>\n",
       "\t<li>97</li>\n",
       "\t<li>6</li>\n",
       "</ol>\n"
      ],
      "text/latex": [
       "\\begin{enumerate*}\n",
       "\\item 97\n",
       "\\item 6\n",
       "\\end{enumerate*}\n"
      ],
      "text/markdown": [
       "1. 97\n",
       "2. 6\n",
       "\n",
       "\n"
      ],
      "text/plain": [
       "[1] 97  6"
      ]
     },
     "metadata": {},
     "output_type": "display_data"
    },
    {
     "data": {
      "text/html": [
       "<ol class=list-inline>\n",
       "\t<li>25</li>\n",
       "\t<li>6</li>\n",
       "</ol>\n"
      ],
      "text/latex": [
       "\\begin{enumerate*}\n",
       "\\item 25\n",
       "\\item 6\n",
       "\\end{enumerate*}\n"
      ],
      "text/markdown": [
       "1. 25\n",
       "2. 6\n",
       "\n",
       "\n"
      ],
      "text/plain": [
       "[1] 25  6"
      ]
     },
     "metadata": {},
     "output_type": "display_data"
    }
   ],
   "source": [
    "#are the regenotypes that snuck in fish that were regenotyped more than two times? This is my theory about how this happened, I filtered out regenotypes that were two ligations but those that were more slipped in. \n",
    "#get the all the gen_ids associated with all fish\n",
    "fish_samped <- get_fish() %>% \n",
    "    filter(sample_id != \"NA\")\n",
    "#fish_allids <- get_samp(fish$sample_id)\n",
    "dim(fish_samped) #why do some fish have sample_id but no gen_id?\n",
    "fish_gened <- get_fish() %>% \n",
    "    filter(sample_id != \"NA\" & gen_id != \"NA\")\n",
    "dim(fish_gened)# it's because they just didn't get sequenced, because this data frame with only fish with sample_ids and gen_ids matches the number of fish Michelle said sequenced properly\n",
    "\n",
    "fish_gened_mult <- get_fish() %>% \n",
    "    filter(sample_id != \"NA\" & gen_id != \"NA\") %>%\n",
    "    group_by(gen_id) %>%\n",
    "    filter(n()>2)\n",
    "dim(fish_gened_mult)\n",
    "\n",
    "\n",
    "#look for fish that have more than two ligation_ids and see if they are the ones that made it into the parentage analysis\n",
    "multiple_regenos <- all_repeats %>%\n",
    "    filter(offs_gen %in% fish_gened_mult$gen_id | par_gen)\n",
    "\n",
    "dim(multiple_regenos)# YUP. That's it. My whole repeat data frame is regenotyped more than twice."
   ]
  },
  {
   "cell_type": "markdown",
   "metadata": {},
   "source": [
    "### END REGENOTYPE TROUBLESHOOTING"
   ]
  },
  {
   "cell_type": "code",
   "execution_count": null,
   "metadata": {
    "scrolled": false
   },
   "outputs": [],
   "source": []
  },
  {
   "cell_type": "code",
   "execution_count": null,
   "metadata": {},
   "outputs": [],
   "source": []
  },
  {
   "cell_type": "code",
   "execution_count": null,
   "metadata": {},
   "outputs": [],
   "source": []
  }
 ],
 "metadata": {
  "kernelspec": {
   "display_name": "R",
   "language": "R",
   "name": "ir"
  },
  "language_info": {
   "codemirror_mode": "r",
   "file_extension": ".r",
   "mimetype": "text/x-r-source",
   "name": "R",
   "pygments_lexer": "r",
   "version": "3.6.1"
  }
 },
 "nbformat": 4,
 "nbformat_minor": 2
}
