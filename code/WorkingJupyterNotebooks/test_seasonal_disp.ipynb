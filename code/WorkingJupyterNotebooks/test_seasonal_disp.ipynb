{
 "cells": [
  {
   "cell_type": "code",
   "execution_count": 262,
   "metadata": {},
   "outputs": [],
   "source": [
    "Packages <- c(\"dplyr\",\"nleqslv\",\"cubature\", \"pracma\",\"data.table\", \"gridExtra\",\"viridis\", \"ggsignif\", \"lmtest\", \"broom\", \"ggpubr\", \"caret\",\"cowplot\",\"ggplot2\",\"fields\",\"bbmle\", \"dplyr\", \"tidyr\", \"lubridate\", \"RColorBrewer\")\n",
    "\n",
    "invisible(suppressPackageStartupMessages(lapply(Packages, library, character.only = TRUE)))\n",
    "\n",
    "setwd('/local/home/katrinac/parentage/kernel_fitting/')\n",
    "load(\"~/parentage/r_data/site_dist_info.RData\")\n",
    "#final scripts to use\n",
    "source(\"~/parentage/kernel_fitting/1340_loci/functions/ll_kt_both_bbmle.R\")\n",
    "source(\"~/parentage/kernel_fitting/1340_loci/functions/ll_kt_both_grid_search.R\")\n",
    "source(\"~/parentage/kernel_fitting/1340_loci/functions/GenGausKernInt_sum0.5.R\") #integrate_kernel_sum1\n",
    "source(\"~/parentage/kernel_fitting/1340_loci/functions/GenGausKernInt_sum1.R\") #integrate_kernel_sum0.5\n",
    "source(\"~/parentage/kernel_fitting/1340_loci/functions/GenGausKernPDF.R\")\n",
    "source(\"~/parentage/kernel_fitting/1340_loci/functions/cdf_solve.R\") \n",
    "source(\"~/parentage/kernel_fitting/1340_loci/functions/cdf_solve90.R\") \n",
    "\n",
    "#download.file(url = \"https://github.com/pinskylab/Clownfish_persistence/blob/master/Data/Data_from_database/fish_db.RData?raw=true\", destfile = \"~/parentage/r_data/dives_db.RData\")\n",
    "load(\"~/parentage/r_data/fish_db.RData\")\n",
    "#download.file(url = \"https://github.com/pinskylab/Clownfish_persistence/blob/master/Data/Data_from_database/anem_db.RData?raw=true\", destfile = \"~/parentage/r_data/anem_db.RData\")\n",
    "load(\"~/parentage/r_data/anem_db.RData\")\n",
    "#download.file(url = \"https://github.com/pinskylab/Clownfish_persistence/blob/master/Data/Data_from_database/dives_db.RData?raw=true\", destfile = \"~/parentage/r_data/dives_db.RData\")\n",
    "load(\"~/parentage/r_data/dives_db.RData\")\n",
    "#download.file(url = \"https://github.com/pinskylab/Clownfish_persistence/blob/master/Data/Data_from_database/fish_db.RData?raw=true\", destfile = \"~/parentage/r_data/dives_db.RData\")\n",
    "load(\"~/parentage/r_data/fish_db.RData\")\n",
    "load(\"~/parentage/r_data/gps_db.RData\")\n",
    "#download.file(url = \"https://github.com/pinskylab/Clownfish_persistence/blob/master/Data/anems_tagged.RData\", destfile = \"~/parentage/r_data/anems_tagged.RData\")\n",
    "load(\"~/parentage/r_data/anems_tagged.RData\")\n",
    "#download.file(url = \"https://github.com/pinskylab/genomics/blob/master/data/fish-obs.RData?raw=true\", destfile = \"~/parentage/r_data/fish-obs.RData\")\n",
    "fish_obs <- readRDS(\"~/parentage/r_data/fish-obs.RData\") \n",
    "fish_meta <- readRDS(\"~/parentage/r_data/fish_meta.rds\")\n",
    "\n",
    "\"%!in%\" <- function(x,table) match(x,table, nomatch = 0) == 0\n",
    "\n",
    "#propsamp load\n",
    "load(\"~/parentage/r_data/cumulative_prop_hab_sampled_by_site.RData\")\n",
    "\n",
    "prop_samp <- cumulative_prop_hab_sampled_by_site %>%\n",
    "    mutate(total_possible_sample_anems = ifelse(site==\"Caridad Proper\", 4, total_possible_sample_anems) ) %>%\n",
    "    mutate(total_prop_hab_sampled_anems_tidied= ifelse(site==\"Caridad Proper\" & total_anems_sampled==4, 1, total_prop_hab_sampled_anems_tidied) ) %>%\n",
    "    mutate(total_possible_sample_anems = ifelse(site==\"Sitio Lonas\", total_anems_sampled, total_possible_sample_anems) ) %>%\n",
    "    mutate(total_prop_hab_sampled_anems_tidied= ifelse(site==\"Sitio Lonas\", 1, total_prop_hab_sampled_anems_tidied) )\n",
    "\n",
    "\n",
    "\n",
    "prop_samp$site <- gsub(\". \", \".\", prop_samp$site, fixed=TRUE)"
   ]
  },
  {
   "cell_type": "code",
   "execution_count": 14,
   "metadata": {},
   "outputs": [],
   "source": [
    "##from Allison, just putting all the meta data together (Constants_database_common_functions.R)\n",
    "###### Match up other relevant info (site, date, fish_indiv, etc.) to fish in the clownfish table\n",
    "## Pull out year and month into a separate column in dives_db\n",
    "#dives_db_processed <- dives_db %>%\n",
    "#  mutate(year = as.integer(substring(date,1,4))) %>%\n",
    "#  mutate(month = as.integer(substring(date,6,7))) %>%\n",
    "#  mutate(dive_date = date(date))\n",
    "#\n",
    "## Pull all APCL caught or otherwise in the clownfish table\n",
    "#allfish_fish <- fish_db %>%\n",
    "#  select(fish_table_id, anem_table_id, fish_spp, sample_id, anem_table_id, recap, tag_id, color, sex, size, fish_obs_time) %>%\n",
    "#  filter(fish_spp == 'APCL') %>%\n",
    "#  mutate(size = as.numeric(size))  # make the size numeric (rather than chr) so can do means and such\n",
    "#\n",
    "## and their corresponding anemones\n",
    "#allfish_anems <- anem_db %>%\n",
    "#  select(anem_table_id, dive_table_id, anem_obs, anem_id, old_anem_id, anem_obs_time) %>%\n",
    "#  filter(anem_table_id %in% allfish_fish$anem_table_id)\n",
    "#\n",
    "## and the corresponding dive info\n",
    "#allfish_dives <- dives_db_processed %>%\n",
    "#  select(dive_table_id, dive_type, date, year, month, site, gps) %>%\n",
    "#  filter(dive_table_id %in% allfish_anems$dive_table_id) \n",
    "#\n",
    "## join together\n",
    "#allfish_caught <- left_join(allfish_fish, allfish_anems, by=\"anem_table_id\")\n",
    "#allfish_caught <- left_join(allfish_caught, allfish_dives, by=\"dive_table_id\")\n",
    "#\n",
    "## add in the gen_ids and fish_indiv (now in a separate gen_id table) - gen_id only comes in the time the fish was sequenced, not at all captures\n",
    "#allfish_caught <- left_join(allfish_caught, (fish_obs %>% select(fish_table_id, gen_id, fish_indiv)), by = \"fish_table_id\")\n",
    "#"
   ]
  },
  {
   "cell_type": "code",
   "execution_count": 45,
   "metadata": {},
   "outputs": [
    {
     "name": "stderr",
     "output_type": "stream",
     "text": [
      "Joining, by = \"fish_indiv\"\n"
     ]
    }
   ],
   "source": [
    "#read in fish sample data\n",
    "#parentage results\n",
    "par_res <- read.csv(file=\"~/parentage/colony2/20200605_1340loci/results/parentage_results_allyears.csv\", header= T) %>%\n",
    "    distinct(offs_fish_indiv, .keep_all = T) %>% #just need the sites for parent and offspring, will join to fish metadata with fish_indiv\n",
    "    select(offs_fish_indiv, par_fish_indiv, offs_site, par_site, year) %>% \n",
    "    mutate(offs_fish_indiv=as.character(offs_fish_indiv)) %>%\n",
    "    rename(year_match=\"year\") #change this year to be the year of the parentage match\n",
    "\n",
    "#genotyped potential offspring\n",
    "N_gen_offs <- read.table(file=\"~/parentage/colony2/20190523_1340loci/input/all_offspring_corrected.txt\", header=T, stringsAsFactors = F) %>%\n",
    "    mutate(input=\"offspring\") %>%\n",
    "    mutate(fish_indiv=as.character(fish_indiv)) #%>%\n",
    "    #select(fish_indiv, input, year)\n",
    "N_gen_offs2 <- left_join(N_gen_offs, fish_meta %>% select(fish_indiv, site) %>% filter(!is.na(fish_indiv)) %>% distinct(fish_indiv, .keep_all = T))\n",
    "\n",
    "SampledRecruitsPar <- left_join(N_gen_offs2, par_res, by=c(fish_indiv=\"offs_fish_indiv\")) %>%\n",
    "    mutate(matched_offs= ifelse(!is.na(year_match), \"Y\", \"N\"))\n",
    "\n",
    "\n",
    "SampledRecruitsPar$site <- gsub(\". \", \".\", SampledRecruitsPar$site, fixed=TRUE)\n",
    "SampledRecruitsPar$offs_site <- gsub(\". \", \".\", SampledRecruitsPar$offs_site, fixed=TRUE)\n",
    "SampledRecruitsPar$par_site <- gsub(\". \", \".\", SampledRecruitsPar$par_site, fixed=TRUE)"
   ]
  },
  {
   "cell_type": "code",
   "execution_count": 46,
   "metadata": {},
   "outputs": [
    {
     "data": {
      "text/html": [
       "791"
      ],
      "text/latex": [
       "791"
      ],
      "text/markdown": [
       "791"
      ],
      "text/plain": [
       "[1] 791"
      ]
     },
     "metadata": {},
     "output_type": "display_data"
    },
    {
     "data": {
      "text/html": [
       "71"
      ],
      "text/latex": [
       "71"
      ],
      "text/markdown": [
       "71"
      ],
      "text/plain": [
       "[1] 71"
      ]
     },
     "metadata": {},
     "output_type": "display_data"
    },
    {
     "data": {
      "text/html": [
       "<table>\n",
       "<thead><tr><th scope=col>fish_indiv</th><th scope=col>year</th><th scope=col>size</th><th scope=col>color</th><th scope=col>sex</th><th scope=col>gen_id</th><th scope=col>ligation_id</th><th scope=col>sample_id</th><th scope=col>input</th><th scope=col>site</th><th scope=col>par_fish_indiv</th><th scope=col>offs_site</th><th scope=col>par_site</th><th scope=col>year_match</th><th scope=col>matched_offs</th></tr></thead>\n",
       "<tbody>\n",
       "\t<tr><td>762        </td><td>2012       </td><td>5.1        </td><td>Y          </td><td>J          </td><td> 762       </td><td>L2436      </td><td>APCL12_256 </td><td>offspring  </td><td>Wangag     </td><td>236        </td><td>Wangag     </td><td>Palanas    </td><td>2012       </td><td>Y          </td></tr>\n",
       "\t<tr><td>2318       </td><td>2012       </td><td>4.1        </td><td>Y          </td><td>J          </td><td>2318       </td><td>L2437      </td><td>APCL12_275 </td><td>offspring  </td><td>Wangag     </td><td> NA        </td><td>NA         </td><td>NA         </td><td>  NA       </td><td>N          </td></tr>\n",
       "\t<tr><td>409        </td><td>2012       </td><td>4.5        </td><td>Y          </td><td>J          </td><td> 409       </td><td>L2319      </td><td>APCL12_276 </td><td>offspring  </td><td>Wangag     </td><td> NA        </td><td>NA         </td><td>NA         </td><td>  NA       </td><td>N          </td></tr>\n",
       "\t<tr><td>2317       </td><td>2012       </td><td>5.1        </td><td>W          </td><td>J          </td><td>2317       </td><td>L2481      </td><td>APCL12_168 </td><td>offspring  </td><td>S.Magbangon</td><td> NA        </td><td>NA         </td><td>NA         </td><td>  NA       </td><td>N          </td></tr>\n",
       "\t<tr><td>2072       </td><td>2012       </td><td>4.1        </td><td>NA         </td><td>NA         </td><td>2072       </td><td>L2210      </td><td>APCL12_090 </td><td>offspring  </td><td>Palanas    </td><td> NA        </td><td>NA         </td><td>NA         </td><td>  NA       </td><td>N          </td></tr>\n",
       "\t<tr><td>92         </td><td>2012       </td><td>5.4        </td><td>NA         </td><td>NA         </td><td>  92       </td><td>L2212      </td><td>APCL12_094 </td><td>offspring  </td><td>Palanas    </td><td> NA        </td><td>NA         </td><td>NA         </td><td>  NA       </td><td>N          </td></tr>\n",
       "</tbody>\n",
       "</table>\n"
      ],
      "text/latex": [
       "\\begin{tabular}{r|lllllllllllllll}\n",
       " fish\\_indiv & year & size & color & sex & gen\\_id & ligation\\_id & sample\\_id & input & site & par\\_fish\\_indiv & offs\\_site & par\\_site & year\\_match & matched\\_offs\\\\\n",
       "\\hline\n",
       "\t 762          & 2012         & 5.1          & Y            & J            &  762         & L2436        & APCL12\\_256 & offspring    & Wangag       & 236          & Wangag       & Palanas      & 2012         & Y           \\\\\n",
       "\t 2318         & 2012         & 4.1          & Y            & J            & 2318         & L2437        & APCL12\\_275 & offspring    & Wangag       &  NA          & NA           & NA           &   NA         & N           \\\\\n",
       "\t 409          & 2012         & 4.5          & Y            & J            &  409         & L2319        & APCL12\\_276 & offspring    & Wangag       &  NA          & NA           & NA           &   NA         & N           \\\\\n",
       "\t 2317         & 2012         & 5.1          & W            & J            & 2317         & L2481        & APCL12\\_168 & offspring    & S.Magbangon  &  NA          & NA           & NA           &   NA         & N           \\\\\n",
       "\t 2072         & 2012         & 4.1          & NA           & NA           & 2072         & L2210        & APCL12\\_090 & offspring    & Palanas      &  NA          & NA           & NA           &   NA         & N           \\\\\n",
       "\t 92           & 2012         & 5.4          & NA           & NA           &   92         & L2212        & APCL12\\_094 & offspring    & Palanas      &  NA          & NA           & NA           &   NA         & N           \\\\\n",
       "\\end{tabular}\n"
      ],
      "text/markdown": [
       "\n",
       "| fish_indiv | year | size | color | sex | gen_id | ligation_id | sample_id | input | site | par_fish_indiv | offs_site | par_site | year_match | matched_offs |\n",
       "|---|---|---|---|---|---|---|---|---|---|---|---|---|---|---|\n",
       "| 762         | 2012        | 5.1         | Y           | J           |  762        | L2436       | APCL12_256  | offspring   | Wangag      | 236         | Wangag      | Palanas     | 2012        | Y           |\n",
       "| 2318        | 2012        | 4.1         | Y           | J           | 2318        | L2437       | APCL12_275  | offspring   | Wangag      |  NA         | NA          | NA          |   NA        | N           |\n",
       "| 409         | 2012        | 4.5         | Y           | J           |  409        | L2319       | APCL12_276  | offspring   | Wangag      |  NA         | NA          | NA          |   NA        | N           |\n",
       "| 2317        | 2012        | 5.1         | W           | J           | 2317        | L2481       | APCL12_168  | offspring   | S.Magbangon |  NA         | NA          | NA          |   NA        | N           |\n",
       "| 2072        | 2012        | 4.1         | NA          | NA          | 2072        | L2210       | APCL12_090  | offspring   | Palanas     |  NA         | NA          | NA          |   NA        | N           |\n",
       "| 92          | 2012        | 5.4         | NA          | NA          |   92        | L2212       | APCL12_094  | offspring   | Palanas     |  NA         | NA          | NA          |   NA        | N           |\n",
       "\n"
      ],
      "text/plain": [
       "  fish_indiv year size color sex gen_id ligation_id sample_id  input    \n",
       "1 762        2012 5.1  Y     J    762   L2436       APCL12_256 offspring\n",
       "2 2318       2012 4.1  Y     J   2318   L2437       APCL12_275 offspring\n",
       "3 409        2012 4.5  Y     J    409   L2319       APCL12_276 offspring\n",
       "4 2317       2012 5.1  W     J   2317   L2481       APCL12_168 offspring\n",
       "5 2072       2012 4.1  NA    NA  2072   L2210       APCL12_090 offspring\n",
       "6 92         2012 5.4  NA    NA    92   L2212       APCL12_094 offspring\n",
       "  site        par_fish_indiv offs_site par_site year_match matched_offs\n",
       "1 Wangag      236            Wangag    Palanas  2012       Y           \n",
       "2 Wangag       NA            NA        NA         NA       N           \n",
       "3 Wangag       NA            NA        NA         NA       N           \n",
       "4 S.Magbangon  NA            NA        NA         NA       N           \n",
       "5 Palanas      NA            NA        NA         NA       N           \n",
       "6 Palanas      NA            NA        NA         NA       N           "
      ]
     },
     "metadata": {},
     "output_type": "display_data"
    }
   ],
   "source": [
    "nrow(SampledRecruitsPar) #should be 791\n",
    "nrow(par_res) #should be 71\n",
    "head(SampledRecruitsPar)\n"
   ]
  },
  {
   "cell_type": "code",
   "execution_count": 40,
   "metadata": {},
   "outputs": [
    {
     "data": {
      "image/png": "[encoded data removed]",
      "text/plain": [
       "Plot with title “Histogram of SampledRecruitsPar$size”"
      ]
     },
     "metadata": {},
     "output_type": "display_data"
    }
   ],
   "source": [
    "hist(SampledRecruitsPar$size) #nothing should be greater than 6 cm. GOOD!! "
   ]
  },
  {
   "cell_type": "code",
   "execution_count": 208,
   "metadata": {},
   "outputs": [],
   "source": [
    "SWM_recruits <- SampledRecruitsPar %>%\n",
    "    filter(size >=4.5 & size < 6) %>%\n",
    "    mutate(season=\"SWM\")\n",
    "NEM_recruits <- SampledRecruitsPar %>%\n",
    "    filter(size <= 3.5) %>%\n",
    "    mutate(season=\"NEM\")\n"
   ]
  },
  {
   "cell_type": "code",
   "execution_count": 209,
   "metadata": {},
   "outputs": [
    {
     "data": {
      "text/html": [
       "428"
      ],
      "text/latex": [
       "428"
      ],
      "text/markdown": [
       "428"
      ],
      "text/plain": [
       "[1] 428"
      ]
     },
     "metadata": {},
     "output_type": "display_data"
    },
    {
     "data": {
      "text/html": [
       "132"
      ],
      "text/latex": [
       "132"
      ],
      "text/markdown": [
       "132"
      ],
      "text/plain": [
       "[1] 132"
      ]
     },
     "metadata": {},
     "output_type": "display_data"
    },
    {
     "data": {
      "text/html": [
       "35"
      ],
      "text/latex": [
       "35"
      ],
      "text/markdown": [
       "35"
      ],
      "text/plain": [
       "[1] 35"
      ]
     },
     "metadata": {},
     "output_type": "display_data"
    },
    {
     "data": {
      "text/html": [
       "11"
      ],
      "text/latex": [
       "11"
      ],
      "text/markdown": [
       "11"
      ],
      "text/plain": [
       "[1] 11"
      ]
     },
     "metadata": {},
     "output_type": "display_data"
    }
   ],
   "source": [
    "#how many fish in each category?\n",
    "nrow(SWM_recruits)\n",
    "nrow(NEM_recruits)\n",
    "\n",
    "nrow(SWM_recruits %>% filter(matched_offs==\"Y\"))\n",
    "nrow(NEM_recruits %>% filter(matched_offs==\"Y\"))"
   ]
  },
  {
   "cell_type": "code",
   "execution_count": 210,
   "metadata": {},
   "outputs": [],
   "source": [
    "all_seasons <- bind_rows(SWM_recruits, NEM_recruits)\n",
    "\n",
    "write.csv(all_seasons, file=\"~/parentage/kernel_fitting/1340_loci/final_results/tables/RecruitsByMonsoon.csv\", row.names=F, quote=FALSE)\n",
    "\n"
   ]
  },
  {
   "cell_type": "code",
   "execution_count": 260,
   "metadata": {},
   "outputs": [
    {
     "data": {
      "text/html": [
       "<ol class=list-inline>\n",
       "\t<li>11</li>\n",
       "\t<li>3</li>\n",
       "</ol>\n"
      ],
      "text/latex": [
       "\\begin{enumerate*}\n",
       "\\item 11\n",
       "\\item 3\n",
       "\\end{enumerate*}\n"
      ],
      "text/markdown": [
       "1. 11\n",
       "2. 3\n",
       "\n",
       "\n"
      ],
      "text/plain": [
       "[1] 11  3"
      ]
     },
     "metadata": {},
     "output_type": "display_data"
    },
    {
     "data": {
      "text/html": [
       "<ol class=list-inline>\n",
       "\t<li>54</li>\n",
       "\t<li>3</li>\n",
       "</ol>\n"
      ],
      "text/latex": [
       "\\begin{enumerate*}\n",
       "\\item 54\n",
       "\\item 3\n",
       "\\end{enumerate*}\n"
      ],
      "text/markdown": [
       "1. 54\n",
       "2. 3\n",
       "\n",
       "\n"
      ],
      "text/plain": [
       "[1] 54  3"
      ]
     },
     "metadata": {},
     "output_type": "display_data"
    }
   ],
   "source": [
    "NEM_input <- NEM_recruits %>%\n",
    "    filter(matched_offs==\"Y\")%>%\n",
    "    select(year, offs_site, par_site)\n",
    "SWM_input <- SWM_recruits %>% \n",
    "    filter(matched_offs==\"Y\") %>%\n",
    "    select(year, offs_site, par_site)#%\n",
    "\n",
    "dim(NEM_input)\n",
    "dim(SWM_input_samp)\n",
    "\n",
    "write.csv(NEM_input, file=\"~/parentage/kernel_fitting/1340_loci/input/20200624_parentage_NEM.csv\", quote=TRUE, row.names= FALSE)\n",
    "write.csv(SWM_input, file=\"~/parentage/kernel_fitting/1340_loci/input/20200624_parentage_SWM.csv\", quote=TRUE, row.names= FALSE)\n",
    "NEM_input <- NEM_input %>%\n",
    "    mutate(season=\"NEM\")\n",
    "SWM_input <- SWM_input %>%\n",
    "    mutate(season=\"SWM\")\n",
    "AllRecruits <- bind_rows(NEM_input, SWM_input) %>%\n",
    "    select(-year)\n",
    "AllRecruits$offs_site <- gsub(\". \", \".\", AllRecruits$offs_site, fixed=TRUE)\n",
    "AllRecruits$par_site <- gsub(\". \", \".\", AllRecruits$par_site, fixed=TRUE)\n",
    "\n",
    "write.csv(AllRecruits, file=\"~/parentage/kernel_fitting/1340_loci/input/20200624_AllSeasonParentage.csv\", quote=TRUE, row.names= FALSE)\n",
    "\n",
    "\n"
   ]
  },
  {
   "cell_type": "code",
   "execution_count": null,
   "metadata": {},
   "outputs": [],
   "source": []
  },
  {
   "cell_type": "code",
   "execution_count": 212,
   "metadata": {},
   "outputs": [
    {
     "data": {
      "text/html": [
       "560"
      ],
      "text/latex": [
       "560"
      ],
      "text/markdown": [
       "560"
      ],
      "text/plain": [
       "[1] 560"
      ]
     },
     "metadata": {},
     "output_type": "display_data"
    }
   ],
   "source": [
    "N_gen_offs_all <- all_seasons %>% \n",
    "    filter(input==\"offspring\") %>%\n",
    "    group_by(season, site) %>%\n",
    "    summarise(n_offs_gen=n())\n",
    "sum(N_gen_offs_all$n_offs_gen) #missing 5 fish, because they are marked J based on tail color but we don't have their size\n",
    "#nrow(N_gen_offs %>% filter(fish_indiv %!in% all_seasons$fish_indiv))"
   ]
  },
  {
   "cell_type": "code",
   "execution_count": 213,
   "metadata": {},
   "outputs": [
    {
     "data": {
      "text/html": [
       "35"
      ],
      "text/latex": [
       "35"
      ],
      "text/markdown": [
       "35"
      ],
      "text/plain": [
       "[1] 35"
      ]
     },
     "metadata": {},
     "output_type": "display_data"
    },
    {
     "name": "stderr",
     "output_type": "stream",
     "text": [
      "Warning message:\n",
      "“Setting row names on a tibble is deprecated.”Warning message:\n",
      "“Setting row names on a tibble is deprecated.”"
     ]
    },
    {
     "data": {
      "text/html": [
       "560"
      ],
      "text/latex": [
       "560"
      ],
      "text/markdown": [
       "560"
      ],
      "text/plain": [
       "[1] 560"
      ]
     },
     "metadata": {},
     "output_type": "display_data"
    }
   ],
   "source": [
    "#file prep\n",
    "centroids <- read.csv(\"~/parentage/kernel_fitting/1340_loci/input/site_centroids.csv\", header=TRUE)\n",
    "sampled_sites <- prop_samp %>% select(site) %>% distinct(site)\n",
    "sampled_sites$site <- gsub(\". \", \".\", sampled_sites$site, fixed=TRUE)\n",
    "site_widths <- read.table(\"/local/home/katrinac/parentage/text_file/site_widths.txt\", header=T, sep=\",\")\n",
    "\n",
    "#index sites to get pop numbers\n",
    "all_sites <- centroids %>%\n",
    "    select(site) %>%\n",
    "    arrange(site)\n",
    "nrow(all_sites) #should be 35x1\n",
    "\n",
    "all_sites$index <- seq(from=1, to=35, by=1)\n",
    "\n",
    "\n",
    "total_parSWM <- SWM_recruits %>%\n",
    "    filter(matched_offs==\"Y\") %>%\n",
    "    group_by(offs_site, par_site) %>%\n",
    "    summarise(n_matches=n()) %>%\n",
    "    ungroup() \n",
    "\n",
    "total_parNEM <- NEM_recruits %>%\n",
    "    filter(matched_offs==\"Y\") %>%\n",
    "    group_by(offs_site, par_site) %>%\n",
    "    summarise(n_matches=n()) %>%\n",
    "    ungroup() \n",
    "\n",
    "for(i in 1:nrow(prop_samp)){\n",
    "    \n",
    "    \n",
    "    if(is.nan(prop_samp$total_prop_hab_sampled_anems_tidied[i])){prop_samp$total_prop_hab_sampled_anems_tidied[i] <- 0.01} \n",
    "    if(is.infinite(prop_samp$total_prop_hab_sampled_anems_tidied[i])){prop_samp$total_prop_hab_sampled_anems_tidied[i] <- 1}\n",
    "    \n",
    "    \n",
    "}\n",
    "\n",
    "prop_sampSeas <- prop_samp %>%\n",
    "    filter(time_frame==\"2012-2018\" & total_prop_hab_sampled_anems_tidied >=0) %>%\n",
    "    select(site, total_prop_hab_sampled_anems_tidied)\n",
    "\n",
    "sitesSWM <- prop_sampSeas %>%\n",
    "    select(site)\n",
    "sitesSWM_2 <- suppressWarnings(semi_join(all_sites, sitesSWM, by=\"site\")) %>%\n",
    "    select(index)\n",
    "sitesSWMt <- t(sitesSWM_2)\n",
    "\n",
    "\n",
    "sitesSWM_beta <- sitesSWM %>%\n",
    "    #select(-pop) %>%\n",
    "    rename(par_site=\"site\")\n",
    "\n",
    "sitesSWM_beta$offs_site <- sitesSWM_beta$par_site\n",
    "\n",
    "allsites_parentageSWM <- full_join(sitesSWM_beta, total_parSWM, by=c(\"par_site\", \"offs_site\")) %>%\n",
    "    group_by(offs_site, par_site) %>%\n",
    "    filter(row_number()==1) %>%\n",
    "    arrange(offs_site, par_site)\n",
    "\n",
    "##generate list of site indices\n",
    "sitesNEM <- prop_sampSeas %>%\n",
    "    select(site)\n",
    "sitesNEM_2 <- suppressWarnings(semi_join(all_sites, sitesNEM, by=\"site\")) %>%\n",
    "    select(index)\n",
    "sitesNEMt <- t(sitesNEM_2)\n",
    "\n",
    "sitesNEM_beta <- sitesNEM %>%\n",
    "    #select(-pop) %>%\n",
    "    rename(par_site=\"site\")\n",
    "\n",
    "sitesNEM_beta$offs_site <- sitesNEM_beta$par_site\n",
    "\n",
    "allsites_parentageNEM <- full_join(sitesNEM_beta, total_parNEM, by=c(\"par_site\", \"offs_site\")) %>%\n",
    "    group_by(offs_site, par_site) %>%\n",
    "    filter(row_number()==1) %>%\n",
    "    arrange(offs_site, par_site)\n",
    "\n",
    "#turn into a matrix of the correct format\n",
    "parmatSWM <- allsites_parentageSWM %>% \n",
    "    filter(!is.na(offs_site) & !is.na(par_site)) %>%\n",
    "    group_by(offs_site, par_site) %>%\n",
    "    filter(row_number()==1) %>%\n",
    "    spread(offs_site, n_matches)\n",
    "\n",
    "###change NAs to 0\n",
    "parmatSWM[is.na(parmatSWM)] <- 0\n",
    "rownames(parmatSWM) <- suppressWarnings(parmatSWM$par_site)\n",
    "parmatSWM$par_site <- NULL\n",
    "\n",
    "#parmatSWM <- (parmatSWM[1:nrow(sitesSWM_beta), 1:nrow(sitesSWM_beta)])\n",
    "#\n",
    "#\n",
    "parmatNEM <- allsites_parentageNEM %>% \n",
    "    filter(!is.na(offs_site) & !is.na(par_site)) %>%\n",
    "    group_by(offs_site, par_site) %>%\n",
    "    filter(row_number()==1) %>%\n",
    "    spread(offs_site, n_matches)\n",
    "\n",
    "##change NAs to 0\n",
    "parmatNEM[is.na(parmatNEM)] <- 0\n",
    "rownames(parmatNEM) <- suppressWarnings(parmatNEM$par_site)\n",
    "parmatNEM$par_site <- NULL\n",
    "\n",
    "N_gen_offs_all <- all_seasons %>% \n",
    "    filter(input==\"offspring\") %>%\n",
    "    group_by(season, site) %>%\n",
    "    summarise(n_offs_gen=n())\n",
    "sum(N_gen_offs_all$n_offs_gen) #missing 5 fish, because they are marked J based on tail color but we don't have their size\n",
    "#nrow(N_gen_offs %>% filter(fish_indiv %!in% all_seasons$fish_indiv))\n",
    "\n",
    "N_gen_offs2 <- N_gen_offs_all %>%\n",
    "    group_by(site, season) %>% #add group by year if doing annual\n",
    "    summarise(sampled_fish=sum(n_offs_gen)) \n",
    "\n",
    "\n",
    "#make dataframe with column for unassigned juveniles in each column (offspring site)\n",
    "offs_matched_site <- allsites_parentageSWM %>%\n",
    "    group_by(offs_site) %>%\n",
    "    summarise(n_offs=sum(n_matches, na.rm=T))\n",
    "\n",
    "unassigned_beta <- semi_join(offs_matched_site, sitesSWM, by=c(offs_site=\"site\")) %>%\n",
    "    ungroup() %>%\n",
    "    select(offs_site, n_offs)\n",
    "\n",
    "#unassigned_beta[is.na(unassigned_beta)] <- 0\n",
    "\n",
    "\n",
    "net_unassigned <- left_join(unassigned_beta, (N_gen_offs2 %>% filter(season==\"SWM\")), by=c(offs_site=\"site\")) %>%\n",
    "    mutate(n_unassigned=sampled_fish-n_offs)\n",
    "\n",
    "net_unassigned$sampled_fish[is.na(net_unassigned$sampled_fish)] <- 0\n",
    "net_unassigned$n_unassigned[is.na(net_unassigned$n_unassigned)] <- 0\n",
    "\n",
    "#transpose to create a row, bind to the matrix\n",
    "\n",
    "row2add <- net_unassigned %>%\n",
    "    arrange(offs_site) %>%\n",
    "    select(n_unassigned, offs_site) %>%\n",
    "    group_by(offs_site) %>%\n",
    "    filter(row_number()==1) %>%\n",
    "    ungroup() %>%\n",
    "    select(n_unassigned)\n",
    "row2addT <- as.data.frame(t(row2add))\n",
    "colnames(row2addT) <- colnames(parmatSWM)\n",
    "\n",
    "parmatSWM <- ungroup(parmatSWM)\n",
    "parmat_SWM_full <- bind_rows(parmatSWM, row2addT)\n",
    "parmat_SWM_full[is.na(parmat_SWM_full)] <- 0\n",
    "parmat_SWM_full[parmat_SWM_full <0 ] <- 0\n",
    "\n",
    "#make dataframe with column for unassigned juveniles in each column (offspring site)\n",
    "offs_matched_site <- allsites_parentageNEM %>%\n",
    "    group_by(offs_site) %>%\n",
    "    summarise(n_offs=sum(n_matches, na.rm=T))\n",
    "\n",
    "unassigned_beta <- semi_join(offs_matched_site, sitesNEM, by=c(offs_site=\"site\")) %>%\n",
    "    ungroup() %>%\n",
    "    select(offs_site, n_offs)\n",
    "\n",
    "#unassigned_beta[is.na(unassigned_beta)] <- 0\n",
    "net_unassigned <- left_join(unassigned_beta, (N_gen_offs2 %>% filter(season==\"NEM\")), by=c(offs_site=\"site\")) %>%\n",
    "    mutate(n_unassigned=sampled_fish-n_offs)\n",
    "\n",
    "net_unassigned$sampled_fish[is.na(net_unassigned$sampled_fish)] <- 0\n",
    "net_unassigned$n_unassigned[is.na(net_unassigned$n_unassigned)] <- 0\n",
    "\n",
    "#transpose to create a row, bind to the matrix\n",
    "\n",
    "row2add <- net_unassigned %>%\n",
    "    arrange(offs_site) %>%\n",
    "    select(n_unassigned, offs_site) %>%\n",
    "    group_by(offs_site) %>%\n",
    "    filter(row_number()==1) %>%\n",
    "    ungroup() %>%\n",
    "    select(n_unassigned)\n",
    "row2addT <- as.data.frame(t(row2add))\n",
    "colnames(row2addT) <- colnames(parmatNEM)\n",
    "\n",
    "parmatNEM <- ungroup(parmatNEM)\n",
    "parmat_NEM_full <- bind_rows(parmatNEM, row2addT)\n",
    "parmat_NEM_full[is.na(parmat_NEM_full)] <- 0\n",
    "parmat_NEM_full[parmat_NEM_full < 0] <- 0\n",
    "\n",
    "write.csv(parmat_SWM_full, \"~/parentage/kernel_fitting/1340_loci/input/20200624_parentage_matrix_SWM.csv\",  row.names=FALSE, quote=FALSE)\n",
    "write.csv(parmat_NEM_full, \"~/parentage/kernel_fitting/1340_loci/input/20200624_parentage_matrix_NEM.csv\",  row.names=FALSE, quote=FALSE)\n",
    "\n"
   ]
  },
  {
   "cell_type": "code",
   "execution_count": 214,
   "metadata": {},
   "outputs": [
    {
     "data": {
      "text/html": [
       "TRUE"
      ],
      "text/latex": [
       "TRUE"
      ],
      "text/markdown": [
       "TRUE"
      ],
      "text/plain": [
       "[1] TRUE"
      ]
     },
     "metadata": {},
     "output_type": "display_data"
    },
    {
     "data": {
      "text/html": [
       "TRUE"
      ],
      "text/latex": [
       "TRUE"
      ],
      "text/markdown": [
       "TRUE"
      ],
      "text/plain": [
       "[1] TRUE"
      ]
     },
     "metadata": {},
     "output_type": "display_data"
    },
    {
     "data": {
      "text/html": [
       "TRUE"
      ],
      "text/latex": [
       "TRUE"
      ],
      "text/markdown": [
       "TRUE"
      ],
      "text/plain": [
       "[1] TRUE"
      ]
     },
     "metadata": {},
     "output_type": "display_data"
    },
    {
     "data": {
      "text/html": [
       "TRUE"
      ],
      "text/latex": [
       "TRUE"
      ],
      "text/markdown": [
       "TRUE"
      ],
      "text/plain": [
       "[1] TRUE"
      ]
     },
     "metadata": {},
     "output_type": "display_data"
    }
   ],
   "source": [
    "#double check, should all be true\n",
    "nrow(SWM_recruits) == sum(parmat_SWM_full)\n",
    "nrow(NEM_recruits) == sum(parmat_NEM_full)\n",
    "\n",
    "nrow(SWM_recruits %>% filter(matched_offs==\"Y\"))== sum(parmat_SWM_full[1:19,])\n",
    "nrow(NEM_recruits %>% filter(matched_offs==\"Y\"))== sum(parmat_NEM_full[1:19,])\n",
    "\n",
    "\n"
   ]
  },
  {
   "cell_type": "code",
   "execution_count": 217,
   "metadata": {
    "scrolled": true
   },
   "outputs": [
    {
     "data": {
      "text/html": [
       "35"
      ],
      "text/latex": [
       "35"
      ],
      "text/markdown": [
       "35"
      ],
      "text/plain": [
       "[1] 35"
      ]
     },
     "metadata": {},
     "output_type": "display_data"
    },
    {
     "data": {
      "text/plain": [
       "\n",
       "Call:\n",
       "mle2(minuslogl = LL_kt_bbmle, start = list(k = -3, theta = 1), \n",
       "    method = \"L-BFGS-B\", data = x, lower = c(-10, 0.15), upper = c(10, \n",
       "        8), control = list(maxit = 500))\n",
       "\n",
       "Coefficients:\n",
       "        k     theta \n",
       "-2.602780  1.588406 \n",
       "\n",
       "Log-likelihood: -221.56 "
      ]
     },
     "metadata": {},
     "output_type": "display_data"
    },
    {
     "data": {
      "text/html": [
       "8.56980761363812"
      ],
      "text/latex": [
       "8.56980761363812"
      ],
      "text/markdown": [
       "8.56980761363812"
      ],
      "text/plain": [
       "[1] 8.569808"
      ]
     },
     "metadata": {},
     "output_type": "display_data"
    },
    {
     "data": {
      "text/html": [
       "18.29"
      ],
      "text/latex": [
       "18.29"
      ],
      "text/markdown": [
       "18.29"
      ],
      "text/plain": [
       "[1] 18.29"
      ]
     },
     "metadata": {},
     "output_type": "display_data"
    }
   ],
   "source": [
    "#specify upper and lower bounds for parameters\n",
    "Assignments <- as.matrix(read.csv(\"~/parentage/kernel_fitting/1340_loci/input/20200624_parentage_matrix_SWM.csv\"))\n",
    "Adult_sample_proportions <- as.matrix(read.csv(\"~/parentage/kernel_fitting/1340_loci/input/prop_samp_all.csv\", header=FALSE))\n",
    "Sampled_reefs <- as.matrix(read.csv(\"~/parentage/kernel_fitting/1340_loci/input/site_index_all.csv\", header=FALSE))\n",
    "Distances <- as.matrix(read.csv(\"~/parentage/kernel_fitting/894_loci/distance_matrix_unsurveyed.csv\", header=FALSE))\n",
    "Reef_sizes <- as.matrix(read.csv(\"~/parentage/kernel_fitting/894_loci/area_unsurveyed.csv\", header=FALSE))\n",
    "Centroids <- as.matrix(read.csv(\"~/parentage/kernel_fitting/894_loci/centroids_unsurveyed.csv\", header=T))\n",
    "#check\n",
    "\n",
    "sum(Assignments[1:19,])\n",
    "x <- list(Distances=Distances, Assignments=Assignments, Sampled_reefs=Sampled_reefs, Reef_sizes=Reef_sizes, Adult_sample_proportions=Adult_sample_proportions) #put inputs into a list because that's the bbmle format\n",
    "\n",
    "fit_bothSWM <- suppressWarnings(mle2(LL_kt_bbmle, start=list(k=-3, theta=1), lower=c(-10, 0.15), upper=c(10, 8), method=\"L-BFGS-B\", data=x, control=list(maxit=500)))\n",
    "fit_bothSWM\n",
    "\n",
    "\n",
    "\n",
    "MDD_SWM <- cubintegrate(integrate_kernel_sum1, lower = 0, upper = Inf, k=coef(fit_bothSWM)[1], theta=coef(fit_bothSWM)[2], method = \"pcubature\")$integral\n",
    "MDD_SWM\n",
    "\n",
    "k_eval <- coef(fit_bothSWM)[1]\n",
    "theta_eval <- coef(fit_bothSWM)[2]\n",
    "dist90_SWM <- round(nleqslv(x = 7, fn = cdf_solve90)$x, 2)\n",
    "dist90_SWM\n",
    "\n",
    "\n",
    "## use a grid search to find k that minimizes the log likelihood\n",
    "#k_eval <- c(seq(from=-10, to=10, by=0.01))\n",
    "#theta_eval <- c(seq(from=0.1, to=5, by=.01))\n",
    "#nll_matrix <- matrix(data=NA, nrow=length(k_eval), ncol=length(theta_eval), \n",
    "#                     dimnames=list(k_eval, theta_eval))\n",
    "#\n",
    "##Begin grid search: i <- 1; j <- 1\n",
    "#for(i in 1:length(k_eval)){\n",
    "#  k <- k_eval[i]\n",
    "#  for(j in 1:length(theta_eval)){\n",
    "#    theta <- theta_eval[j]\n",
    "#    nll_matrix[i,j] <- LL_kt_grid(k=k, theta=theta, Distances=Distances, Assignments=Assignments, Sampled_reefs=Sampled_reefs, Reef_sizes=Reef_sizes, Adult_sample_proportions=Adult_sample_proportions)\n",
    "#  }\n",
    "#}\n",
    "#\n",
    "#\n",
    "#\n",
    "#\n",
    "#max(nll_matrix, na.rm = T)\n",
    "#min(nll_matrix, na.rm = T)\n",
    "#\n",
    "#sum(is.na(nll_matrix)==T)\n",
    "#best_params_index <- which(nll_matrix == min(nll_matrix, na.rm = T), arr.ind=TRUE)\n",
    "#best_params <- c(k_eval[best_params_index[1]], theta_eval[best_params_index[2]])\n",
    "#best_params\n",
    "#\n",
    "#write.csv(nll_matrix, file=\"~/parentage/kernel_fitting/1340_loci/final_results/likelihood_profiles_grid_search/profile_SWM.csv\", row.names=T, quote=FALSE)\n",
    "\n"
   ]
  },
  {
   "cell_type": "code",
   "execution_count": 216,
   "metadata": {
    "scrolled": false
   },
   "outputs": [
    {
     "data": {
      "text/html": [
       "11"
      ],
      "text/latex": [
       "11"
      ],
      "text/markdown": [
       "11"
      ],
      "text/plain": [
       "[1] 11"
      ]
     },
     "metadata": {},
     "output_type": "display_data"
    },
    {
     "data": {
      "text/plain": [
       "\n",
       "Call:\n",
       "mle2(minuslogl = LL_kt_bbmle, start = list(k = -3, theta = 1), \n",
       "    method = \"L-BFGS-B\", data = x, lower = c(-10, 0.15), upper = c(10, \n",
       "        8), control = list(maxit = 500))\n",
       "\n",
       "Coefficients:\n",
       "         k      theta \n",
       "-0.8910406  0.5609519 \n",
       "\n",
       "Log-likelihood: -62.26 "
      ]
     },
     "metadata": {},
     "output_type": "display_data"
    },
    {
     "data": {
      "text/html": [
       "9.40023222853906"
      ],
      "text/latex": [
       "9.40023222853906"
      ],
      "text/markdown": [
       "9.40023222853906"
      ],
      "text/plain": [
       "[1] 9.400232"
      ]
     },
     "metadata": {},
     "output_type": "display_data"
    },
    {
     "data": {
      "text/html": [
       "23.48"
      ],
      "text/latex": [
       "23.48"
      ],
      "text/markdown": [
       "23.48"
      ],
      "text/plain": [
       "[1] 23.48"
      ]
     },
     "metadata": {},
     "output_type": "display_data"
    }
   ],
   "source": [
    "#specify upper and lower Sounds for parameters\n",
    "Assignments <- as.matrix(read.csv(\"~/parentage/kernel_fitting/1340_loci/input/20200624_parentage_matrix_NEM.csv\", header=TRUE))\n",
    "Adult_sample_proportions <- as.matrix(read.csv(\"~/parentage/kernel_fitting/1340_loci/input/prop_samp_all.csv\", header=FALSE))\n",
    "Sampled_reefs <- as.matrix(read.csv(\"~/parentage/kernel_fitting/1340_loci/input/site_index_all.csv\", header=FALSE))\n",
    "Distances <- as.matrix(read.csv(\"~/parentage/kernel_fitting/894_loci/distance_matrix_unsurveyed.csv\", header=FALSE))\n",
    "Reef_sizes <- as.matrix(read.csv(\"~/parentage/kernel_fitting/894_loci/area_unsurveyed.csv\", header=FALSE))\n",
    "Centroids <- as.matrix(read.csv(\"~/parentage/kernel_fitting/894_loci/centroids_unsurveyed.csv\", header=T))\n",
    "#check\n",
    "sum(Assignments[1:19,])\n",
    "\n",
    "x <- list(Distances=Distances, Assignments=Assignments, Sampled_reefs=Sampled_reefs, Reef_sizes=Reef_sizes, Adult_sample_proportions=Adult_sample_proportions) #put inputs into a list because that's the bbmle format\n",
    "\n",
    "fit_bothNEM <- suppressWarnings(mle2(LL_kt_bbmle, start=list(k=-3, theta=1), lower=c(-10, 0.15), upper=c(10, 8), method=\"L-BFGS-B\", data=x, control=list(maxit=500)))\n",
    "fit_bothNEM\n",
    "\n",
    "\n",
    "\n",
    "MDD_NEM <- cubintegrate(integrate_kernel_sum1, lower = 0, upper = Inf, k=coef(fit_bothNEM)[1], theta=coef(fit_bothNEM)[2], method = \"pcubature\")$integral\n",
    "MDD_NEM\n",
    "\n",
    "k_eval <- coef(fit_bothNEM)[1]\n",
    "theta_eval <- coef(fit_bothNEM)[2]\n",
    "dist90_NEM <- round(nleqslv(x = 7, fn = cdf_solve90)$x, 2)\n",
    "dist90_NEM\n",
    "\n"
   ]
  },
  {
   "cell_type": "code",
   "execution_count": null,
   "metadata": {},
   "outputs": [],
   "source": [
    "#02/20/2020 -- these two lines below are for getting a more realistic plot in null_dispersal.ipynb seasonal section\n",
    "#I think it was artifically too high just by chance getting really different kernels \n",
    "MDD <- c(MDD_NEM, MDD_SWM)\n",
    "cvMDD=sd(MDD)/mean(MDD, na.rm=T)\n",
    "cvMDD"
   ]
  },
  {
   "cell_type": "code",
   "execution_count": 69,
   "metadata": {},
   "outputs": [],
   "source": []
  },
  {
   "cell_type": "code",
   "execution_count": 71,
   "metadata": {},
   "outputs": [
    {
     "data": {
      "text/html": [
       "1.23339660458998"
      ],
      "text/latex": [
       "1.23339660458998"
      ],
      "text/markdown": [
       "1.23339660458998"
      ],
      "text/plain": [
       "[1] 1.233397"
      ]
     },
     "metadata": {},
     "output_type": "display_data"
    }
   ],
   "source": []
  },
  {
   "cell_type": "code",
   "execution_count": 219,
   "metadata": {},
   "outputs": [
    {
     "name": "stdout",
     "output_type": "stream",
     "text": [
      "  |======================================================================| 100%\n"
     ]
    },
    {
     "data": {
      "text/html": [
       "415.358414866397"
      ],
      "text/latex": [
       "415.358414866397"
      ],
      "text/markdown": [
       "415.358414866397"
      ],
      "text/plain": [
       "[1] 415.3584"
      ]
     },
     "metadata": {},
     "output_type": "display_data"
    },
    {
     "data": {
      "text/html": [
       "62.2594580314678"
      ],
      "text/latex": [
       "62.2594580314678"
      ],
      "text/markdown": [
       "62.2594580314678"
      ],
      "text/plain": [
       "[1] 62.25946"
      ]
     },
     "metadata": {},
     "output_type": "display_data"
    },
    {
     "data": {
      "text/html": [
       "0"
      ],
      "text/latex": [
       "0"
      ],
      "text/markdown": [
       "0"
      ],
      "text/plain": [
       "[1] 0"
      ]
     },
     "metadata": {},
     "output_type": "display_data"
    },
    {
     "data": {
      "text/html": [
       "<ol class=list-inline>\n",
       "\t<li>-0.890000000000001</li>\n",
       "\t<li>0.56</li>\n",
       "</ol>\n"
      ],
      "text/latex": [
       "\\begin{enumerate*}\n",
       "\\item -0.890000000000001\n",
       "\\item 0.56\n",
       "\\end{enumerate*}\n"
      ],
      "text/markdown": [
       "1. -0.890000000000001\n",
       "2. 0.56\n",
       "\n",
       "\n"
      ],
      "text/plain": [
       "[1] -0.89  0.56"
      ]
     },
     "metadata": {},
     "output_type": "display_data"
    }
   ],
   "source": [
    "Assignments <- as.matrix(read.csv(\"~/parentage/kernel_fitting/1340_loci/input/20200624_parentage_matrix_NEM.csv\", header=TRUE))\n",
    "Adult_sample_proportions <- as.matrix(read.csv(\"~/parentage/kernel_fitting/1340_loci/input/prop_samp_all.csv\", header=FALSE))\n",
    "Sampled_reefs <- as.matrix(read.csv(\"~/parentage/kernel_fitting/1340_loci/input/site_index_all.csv\", header=FALSE))\n",
    "Distances <- as.matrix(read.csv(\"~/parentage/kernel_fitting/894_loci/distance_matrix_unsurveyed.csv\", header=FALSE))\n",
    "Reef_sizes <- as.matrix(read.csv(\"~/parentage/kernel_fitting/894_loci/area_unsurveyed.csv\", header=FALSE))\n",
    "Centroids <- as.matrix(read.csv(\"~/parentage/kernel_fitting/894_loci/centroids_unsurveyed.csv\", header=T))\n",
    "\n",
    "# use a grid search to find k that minimizes the log likelihood\n",
    "k_eval <- c(seq(from=-10, to=10, by=0.01))\n",
    "theta_eval <- c(seq(from=0.15, to=5, by=0.01))\n",
    "nll_matrix <- matrix(data=NA, nrow=length(k_eval), ncol=length(theta_eval), \n",
    "                     dimnames=list(k_eval, theta_eval))\n",
    "\n",
    "x <- length(k_eval)\n",
    "pb <- txtProgressBar(min = 0, max =x, style = 3)\n",
    "\n",
    "#Begin grid search: i <- 1; j <- 1\n",
    "for(i in 1:length(k_eval)){\n",
    "  k <- k_eval[i]\n",
    "  for(j in 1:length(theta_eval)){\n",
    "    theta <- theta_eval[j]\n",
    "    nll_matrix[i,j] <- LL_kt_grid(k=k, theta=theta, Distances=Distances, Assignments=Assignments, Sampled_reefs=Sampled_reefs, Reef_sizes=Reef_sizes, Adult_sample_proportions=Adult_sample_proportions)\n",
    "  }\n",
    "\n",
    "    setTxtProgressBar(pb, i)\n",
    "    \n",
    "}\n",
    "close(pb)\n",
    "\n",
    "\n",
    "\n",
    "\n",
    "max(nll_matrix, na.rm = T)\n",
    "min(nll_matrix, na.rm = T)\n",
    "\n",
    "sum(is.na(nll_matrix)==T)\n",
    "best_params_index <- which(nll_matrix == min(nll_matrix, na.rm = T), arr.ind=TRUE)\n",
    "best_params <- c(k_eval[best_params_index[1]], theta_eval[best_params_index[2]])\n",
    "best_params\n",
    "\n",
    "write.csv(nll_matrix, file=\"~/parentage/kernel_fitting/1340_loci/final_results/likelihood_profiles_grid_search/profile_NEM.csv\", row.names=T, quote=FALSE)\n",
    "\n"
   ]
  },
  {
   "cell_type": "code",
   "execution_count": 220,
   "metadata": {},
   "outputs": [
    {
     "name": "stdout",
     "output_type": "stream",
     "text": [
      "  |======================================================================| 100%\n"
     ]
    },
    {
     "data": {
      "text/html": [
       "1286.32134011096"
      ],
      "text/latex": [
       "1286.32134011096"
      ],
      "text/markdown": [
       "1286.32134011096"
      ],
      "text/plain": [
       "[1] 1286.321"
      ]
     },
     "metadata": {},
     "output_type": "display_data"
    },
    {
     "data": {
      "text/html": [
       "221.556063260724"
      ],
      "text/latex": [
       "221.556063260724"
      ],
      "text/markdown": [
       "221.556063260724"
      ],
      "text/plain": [
       "[1] 221.5561"
      ]
     },
     "metadata": {},
     "output_type": "display_data"
    },
    {
     "data": {
      "text/html": [
       "0"
      ],
      "text/latex": [
       "0"
      ],
      "text/markdown": [
       "0"
      ],
      "text/plain": [
       "[1] 0"
      ]
     },
     "metadata": {},
     "output_type": "display_data"
    },
    {
     "data": {
      "text/html": [
       "<ol class=list-inline>\n",
       "\t<li>-2.6</li>\n",
       "\t<li>1.58</li>\n",
       "</ol>\n"
      ],
      "text/latex": [
       "\\begin{enumerate*}\n",
       "\\item -2.6\n",
       "\\item 1.58\n",
       "\\end{enumerate*}\n"
      ],
      "text/markdown": [
       "1. -2.6\n",
       "2. 1.58\n",
       "\n",
       "\n"
      ],
      "text/plain": [
       "[1] -2.60  1.58"
      ]
     },
     "metadata": {},
     "output_type": "display_data"
    }
   ],
   "source": [
    "Assignments <- as.matrix(read.csv(\"~/parentage/kernel_fitting/1340_loci/input/20200624_parentage_matrix_SWM.csv\"))\n",
    "Adult_sample_proportions <- as.matrix(read.csv(\"~/parentage/kernel_fitting/1340_loci/input/prop_samp_all.csv\", header=FALSE))\n",
    "Sampled_reefs <- as.matrix(read.csv(\"~/parentage/kernel_fitting/1340_loci/input/site_index_all.csv\", header=FALSE))\n",
    "Distances <- as.matrix(read.csv(\"~/parentage/kernel_fitting/894_loci/distance_matrix_unsurveyed.csv\", header=FALSE))\n",
    "Reef_sizes <- as.matrix(read.csv(\"~/parentage/kernel_fitting/894_loci/area_unsurveyed.csv\", header=FALSE))\n",
    "Centroids <- as.matrix(read.csv(\"~/parentage/kernel_fitting/894_loci/centroids_unsurveyed.csv\", header=T))\n",
    "\n",
    "# use a grid search to find k that minimizes the log likelihood\n",
    "k_eval <- c(seq(from=-10, to=10, by=0.01))\n",
    "theta_eval <- c(seq(from=0.15, to=5, by=.01))\n",
    "nll_matrix <- matrix(data=NA, nrow=length(k_eval), ncol=length(theta_eval), \n",
    "                     dimnames=list(k_eval, theta_eval))\n",
    "\n",
    "x <- length(k_eval)\n",
    "pb <- txtProgressBar(min = 0, max =x, style = 3)\n",
    "\n",
    "#Begin grid search: i <- 1; j <- 1\n",
    "for(i in 1:length(k_eval)){\n",
    "  k <- k_eval[i]\n",
    "  for(j in 1:length(theta_eval)){\n",
    "    theta <- theta_eval[j]\n",
    "    nll_matrix[i,j] <- LL_kt_grid(k=k, theta=theta, Distances=Distances, Assignments=Assignments, Sampled_reefs=Sampled_reefs, Reef_sizes=Reef_sizes, Adult_sample_proportions=Adult_sample_proportions)\n",
    "  }\n",
    "    \n",
    "    setTxtProgressBar(pb, i)\n",
    "    \n",
    "}\n",
    "\n",
    "close(pb)\n",
    "\n",
    "\n",
    "\n",
    "max(nll_matrix, na.rm = T)\n",
    "min(nll_matrix, na.rm = T)\n",
    "\n",
    "sum(is.na(nll_matrix)==T)\n",
    "best_params_index <- which(nll_matrix == min(nll_matrix, na.rm = T), arr.ind=TRUE)\n",
    "best_params <- c(k_eval[best_params_index[1]], theta_eval[best_params_index[2]])\n",
    "best_params\n",
    "\n",
    "write.csv(nll_matrix, file=\"~/parentage/kernel_fitting/1340_loci/final_results/likelihood_profiles_grid_search/profile_SWM.csv\", row.names=T, quote=FALSE)\n",
    "\n"
   ]
  },
  {
   "cell_type": "code",
   "execution_count": 263,
   "metadata": {},
   "outputs": [],
   "source": [
    "#read in data and explore what kernels and MDD look like along the ridgeline\n",
    "profile_NEM <- read.csv(file=\"~/parentage/kernel_fitting/1340_loci/final_results/likelihood_profiles_grid_search/profile_NEM.csv\", header=T) %>%\n",
    "  rename(k_eval= \"X\") \n",
    "#profile is the exported csv of the matrix of LL values I computed with a grid search of 2012 combinations of k from -10-10 by 0.001 and theta from 0.1-5 by 0.001\n",
    "#the lowest positive LL value corresponds to the MLE\n",
    "profile_SWM <- read.csv(file=\"~/parentage/kernel_fitting/1340_loci/final_results/likelihood_profiles_grid_search/profile_SWM.csv\", header=T) %>%\n",
    "  rename(k_eval= \"X\") "
   ]
  },
  {
   "cell_type": "code",
   "execution_count": 273,
   "metadata": {},
   "outputs": [
    {
     "data": {
      "text/html": [
       "-2.47"
      ],
      "text/latex": [
       "-2.47"
      ],
      "text/markdown": [
       "-2.47"
      ],
      "text/plain": [
       "[1] -2.47"
      ]
     },
     "metadata": {},
     "output_type": "display_data"
    },
    {
     "data": {
      "text/html": [
       "-2.63"
      ],
      "text/latex": [
       "-2.63"
      ],
      "text/markdown": [
       "-2.63"
      ],
      "text/plain": [
       "[1] -2.63"
      ]
     },
     "metadata": {},
     "output_type": "display_data"
    },
    {
     "data": {
      "text/html": [
       "1.59"
      ],
      "text/latex": [
       "1.59"
      ],
      "text/markdown": [
       "1.59"
      ],
      "text/plain": [
       "[1] 1.59"
      ]
     },
     "metadata": {},
     "output_type": "display_data"
    },
    {
     "data": {
      "text/html": [
       "1.34"
      ],
      "text/latex": [
       "1.34"
      ],
      "text/markdown": [
       "1.34"
      ],
      "text/plain": [
       "[1] 1.34"
      ]
     },
     "metadata": {},
     "output_type": "display_data"
    },
    {
     "data": {
      "text/html": [
       "-2.6"
      ],
      "text/latex": [
       "-2.6"
      ],
      "text/markdown": [
       "-2.6"
      ],
      "text/plain": [
       "[1] -2.6"
      ]
     },
     "metadata": {},
     "output_type": "display_data"
    },
    {
     "data": {
      "text/html": [
       "1.58"
      ],
      "text/latex": [
       "1.58"
      ],
      "text/markdown": [
       "1.58"
      ],
      "text/plain": [
       "[1] 1.58"
      ]
     },
     "metadata": {},
     "output_type": "display_data"
    }
   ],
   "source": [
    "#search and replace for seasons\n",
    "\n",
    "profile_SWM_df <- profile_SWM %>%\n",
    "    gather(2:487, key=\"theta_eval\", value=\"log_like\")\n",
    "\n",
    "#get rid of the X that read.csv inserted\n",
    "profile_SWM_df$theta_eval <- gsub(\"X\",\"\", profile_SWM_df$theta_eval, fixed=T)\n",
    "profile_SWM_df$theta_eval <- as.numeric(profile_SWM_df$theta_eval)\n",
    "#find best fit\n",
    "best_fit_SWM <- profile_SWM_df %>%\n",
    "    filter(log_like==min(log_like))\n",
    "\n",
    "#find 95% CI, using instructions from Ben Bolker's Ecological Models in R and https://public.wsu.edu/~jesse.brunner/classes/bio572/Lab6_Likelihood.html\n",
    "best_ll_SWM <- as.numeric(best_fit_SWM$log_like)\n",
    "best_k_SWM <- as.numeric(best_fit_SWM$k_eval)\n",
    "best_theta_SWM <- as.numeric(best_fit_SWM$theta_eval)\n",
    "cutoff_SWM <- best_ll_SWM + qchisq(0.95, 2)/2 #use the 95% quantile of the chi-sq distribution with two df because it's bivariate\n",
    "#cutoff=_B6.534\n",
    "\n",
    "\n",
    "profile_SWM_df95 <- profile_SWM_df %>% \n",
    "        filter(log_like < cutoff_SWM)\n",
    "\n",
    "#pull out the values above the cutoff\n",
    "\n",
    "\n",
    "lower_profile_SWM <- profile_SWM_df95 %>%\n",
    "    filter(k_eval <= best_k_SWM & theta_eval <= best_theta_SWM)\n",
    "\n",
    "\n",
    "upper_profile_SWM <- profile_SWM_df95 %>%\n",
    "    filter(k_eval >= best_k_SWM & theta_eval >= best_theta_SWM)\n",
    "\n",
    "upper_SWM <- upper_profile_SWM %>%\n",
    "    filter(log_like== max(log_like))\n",
    "lower_SWM <- lower_profile_SWM %>%\n",
    "    filter(log_like== max(log_like))\n",
    "\n",
    "upper_k_SWM <- as.numeric(upper_SWM %>%\n",
    "                          select(k_eval))\n",
    "upper_theta_SWM <- as.numeric(upper_SWM %>%\n",
    "                          select(theta_eval))\n",
    "lower_k_SWM <- as.numeric(lower_SWM %>%\n",
    "                          select(k_eval))\n",
    "lower_theta_SWM <- as.numeric(lower_SWM %>%\n",
    "                          select(theta_eval))\n",
    "upper_k_SWM\n",
    "lower_k_SWM\n",
    "\n",
    "upper_theta_SWM\n",
    "lower_theta_SWM\n",
    "\n",
    "best_k_SWM\n",
    "best_theta_SWM\n",
    "\n",
    "\n",
    "#write.csv(profile_SWM_df95, file=\"~/parentage/kernel_fitting/1340_loci/final_results/likelihood_profiles_grid_search/profile95CI_SWM.csv\", row.names=T, quote=FALSE)\n"
   ]
  },
  {
   "cell_type": "code",
   "execution_count": 242,
   "metadata": {},
   "outputs": [
    {
     "name": "stdout",
     "output_type": "stream",
     "text": [
      "  |======================================================================| 100%\n"
     ]
    }
   ],
   "source": [
    "#median distributions\n",
    "#get the cumulative pdf values for each distance, find the distance where the cumulative is 0.25 (median of the 0.5 AUC kernel)\n",
    "#select 1000 parameter sets to calculate the median\n",
    "\n",
    "min_SWM <- min(profile_SWM_df95$log_like)\n",
    "\n",
    "med_SWM_weighted <- profile_SWM_df95 %>%\n",
    "        mutate(deviation=min_SWM/log_like) %>%\n",
    "        sample_n(size=1000, weight=deviation, replacement=T) #%>%\n",
    "        #mutate(Year=20_SWM)\n",
    "\n",
    "med_SWM_weighted$MedianDispDist <- NA\n",
    "\n",
    "pb <- txtProgressBar(min = 0, max =1000, style = 3)\n",
    "\n",
    "for(j in 1:nrow(med_SWM_weighted)){\n",
    "    \n",
    "theta_eval <- med_SWM_weighted$theta_eval[j]\n",
    "k_eval <- med_SWM_weighted$k_eval[j]\n",
    "\n",
    "med_SWM_weighted$MedianDispDist[j] <- round(nleqslv(x = 7, fn = cdf_solve)$x, 2) # answer is stored in $x\n",
    "med_SWM_weighted$Dist90Retained[j] <- round(nleqslv(x = 7, fn = cdf_solve90)$x, 2)\n",
    "    setTxtProgressBar(pb, j)\n",
    "\n",
    "}\n",
    "close(pb)\n",
    "#write.csv(med_SWM_weighted, file=\"~/parentage/kernel_fitting/1340_loci/final_results/mean_disp_dist/MedPdf_SWM.csv\", row.names=T, quote=FALSE)\n"
   ]
  },
  {
   "cell_type": "code",
   "execution_count": 239,
   "metadata": {},
   "outputs": [
    {
     "data": {
      "text/plain": [
       "Time difference of 26.19188 secs"
      ]
     },
     "metadata": {},
     "output_type": "display_data"
    }
   ],
   "source": [
    "#get a distribution of MDD from the combinations of theta and k that are below the cutoff for LL\n",
    "mdd_NEM <- cubintegrate(integrate_kernel_sum1, lower = 0, upper = Inf, k=best_k_NEM, theta=best_theta_NEM, , method = \"pcubature\")$integral\n",
    "\n",
    "\n",
    "profile_NEM_df95 <- profile_NEM_df %>% \n",
    "        filter(log_like < cutoff_NEM) \n",
    "col= \"mdd\"\n",
    "mdd_NEM_df <- as.data.frame(matrix(nrow=nrow(profile_NEM_df95), ncol=1))\n",
    "colnames(mdd_NEM_df) <- col\n",
    "\n",
    "\n",
    "start <- Sys.time()\n",
    "for(i in 1:nrow(profile_NEM_df95)){\n",
    "    \n",
    "    k_eval <- as.numeric(profile_NEM_df95$k_eval)[i]\n",
    "    theta_eval <- as.numeric(profile_NEM_df95$theta_eval)[i]\n",
    "    mdd_eval <-  as.data.frame(as.matrix(cubintegrate(integrate_kernel_sum1, lower = 0, upper = Inf, k=k_eval, theta=theta_eval, relTol = 1e-05,  method = \"pcubature\")$integral))\n",
    "    mdd_NEM_df[i,] <-  mdd_eval\n",
    "    \n",
    "    }\n",
    "end <- Sys.time()\n",
    "end-start\n",
    "#write.csv(mdd_NEM_df, file=\"~/parentage/kernel_fitting/1340_loci/final_results/mean_disp_dist/MeanDispDist95CI_NEM.csv\", quote=FALSE, row.names=F )\n",
    "\n"
   ]
  },
  {
   "cell_type": "code",
   "execution_count": 266,
   "metadata": {},
   "outputs": [
    {
     "data": {
      "text/html": [
       "<table>\n",
       "<thead><tr><th scope=col>X</th><th scope=col>k_eval</th><th scope=col>theta_eval</th><th scope=col>log_like</th><th scope=col>deviation</th><th scope=col>MedianDispDist</th><th scope=col>Dist90Retained</th></tr></thead>\n",
       "<tbody>\n",
       "\t<tr><td>1        </td><td>-1.20    </td><td>0.51     </td><td>64.53509 </td><td>0.9647380</td><td>8.75     </td><td>46.23    </td></tr>\n",
       "\t<tr><td>2        </td><td>-2.58    </td><td>1.15     </td><td>64.76358 </td><td>0.9613344</td><td>8.06     </td><td>24.87    </td></tr>\n",
       "\t<tr><td>3        </td><td>-2.01    </td><td>0.71     </td><td>65.20731 </td><td>0.9547926</td><td>8.46     </td><td>34.75    </td></tr>\n",
       "\t<tr><td>4        </td><td>-3.04    </td><td>2.64     </td><td>65.16334 </td><td>0.9554369</td><td>9.62     </td><td>21.52    </td></tr>\n",
       "\t<tr><td>5        </td><td>-2.15    </td><td>0.94     </td><td>63.09654 </td><td>0.9867334</td><td>6.37     </td><td>21.91    </td></tr>\n",
       "\t<tr><td>6        </td><td>-2.49    </td><td>1.62     </td><td>65.19140 </td><td>0.9550256</td><td>6.10     </td><td>16.09    </td></tr>\n",
       "</tbody>\n",
       "</table>\n"
      ],
      "text/latex": [
       "\\begin{tabular}{r|lllllll}\n",
       " X & k\\_eval & theta\\_eval & log\\_like & deviation & MedianDispDist & Dist90Retained\\\\\n",
       "\\hline\n",
       "\t 1         & -1.20     & 0.51      & 64.53509  & 0.9647380 & 8.75      & 46.23    \\\\\n",
       "\t 2         & -2.58     & 1.15      & 64.76358  & 0.9613344 & 8.06      & 24.87    \\\\\n",
       "\t 3         & -2.01     & 0.71      & 65.20731  & 0.9547926 & 8.46      & 34.75    \\\\\n",
       "\t 4         & -3.04     & 2.64      & 65.16334  & 0.9554369 & 9.62      & 21.52    \\\\\n",
       "\t 5         & -2.15     & 0.94      & 63.09654  & 0.9867334 & 6.37      & 21.91    \\\\\n",
       "\t 6         & -2.49     & 1.62      & 65.19140  & 0.9550256 & 6.10      & 16.09    \\\\\n",
       "\\end{tabular}\n"
      ],
      "text/markdown": [
       "\n",
       "| X | k_eval | theta_eval | log_like | deviation | MedianDispDist | Dist90Retained |\n",
       "|---|---|---|---|---|---|---|\n",
       "| 1         | -1.20     | 0.51      | 64.53509  | 0.9647380 | 8.75      | 46.23     |\n",
       "| 2         | -2.58     | 1.15      | 64.76358  | 0.9613344 | 8.06      | 24.87     |\n",
       "| 3         | -2.01     | 0.71      | 65.20731  | 0.9547926 | 8.46      | 34.75     |\n",
       "| 4         | -3.04     | 2.64      | 65.16334  | 0.9554369 | 9.62      | 21.52     |\n",
       "| 5         | -2.15     | 0.94      | 63.09654  | 0.9867334 | 6.37      | 21.91     |\n",
       "| 6         | -2.49     | 1.62      | 65.19140  | 0.9550256 | 6.10      | 16.09     |\n",
       "\n"
      ],
      "text/plain": [
       "  X k_eval theta_eval log_like deviation MedianDispDist Dist90Retained\n",
       "1 1 -1.20  0.51       64.53509 0.9647380 8.75           46.23         \n",
       "2 2 -2.58  1.15       64.76358 0.9613344 8.06           24.87         \n",
       "3 3 -2.01  0.71       65.20731 0.9547926 8.46           34.75         \n",
       "4 4 -3.04  2.64       65.16334 0.9554369 9.62           21.52         \n",
       "5 5 -2.15  0.94       63.09654 0.9867334 6.37           21.91         \n",
       "6 6 -2.49  1.62       65.19140 0.9550256 6.10           16.09         "
      ]
     },
     "metadata": {},
     "output_type": "display_data"
    },
    {
     "data": {
      "text/html": [
       "<table>\n",
       "<thead><tr><th scope=col>X</th><th scope=col>k_eval</th><th scope=col>theta_eval</th><th scope=col>log_like</th><th scope=col>deviation</th><th scope=col>MedianDispDist</th><th scope=col>Dist90Retained</th></tr></thead>\n",
       "<tbody>\n",
       "\t<tr><td>1        </td><td>-2.65    </td><td>1.84     </td><td>222.3778 </td><td>0.9963048</td><td>6.88     </td><td>17.29    </td></tr>\n",
       "\t<tr><td>2        </td><td>-2.64    </td><td>1.62     </td><td>221.6200 </td><td>0.9997115</td><td>7.09     </td><td>18.70    </td></tr>\n",
       "\t<tr><td>3        </td><td>-2.59    </td><td>1.63     </td><td>221.7229 </td><td>0.9992476</td><td>6.73     </td><td>17.70    </td></tr>\n",
       "\t<tr><td>4        </td><td>-2.86    </td><td>2.66     </td><td>224.2882 </td><td>0.9878184</td><td>8.03     </td><td>17.93    </td></tr>\n",
       "\t<tr><td>5        </td><td>-2.54    </td><td>1.72     </td><td>224.3903 </td><td>0.9873694</td><td>6.28     </td><td>16.19    </td></tr>\n",
       "\t<tr><td>6        </td><td>-2.91    </td><td>2.40     </td><td>222.9953 </td><td>0.9935458</td><td>8.52     </td><td>19.59    </td></tr>\n",
       "</tbody>\n",
       "</table>\n"
      ],
      "text/latex": [
       "\\begin{tabular}{r|lllllll}\n",
       " X & k\\_eval & theta\\_eval & log\\_like & deviation & MedianDispDist & Dist90Retained\\\\\n",
       "\\hline\n",
       "\t 1         & -2.65     & 1.84      & 222.3778  & 0.9963048 & 6.88      & 17.29    \\\\\n",
       "\t 2         & -2.64     & 1.62      & 221.6200  & 0.9997115 & 7.09      & 18.70    \\\\\n",
       "\t 3         & -2.59     & 1.63      & 221.7229  & 0.9992476 & 6.73      & 17.70    \\\\\n",
       "\t 4         & -2.86     & 2.66      & 224.2882  & 0.9878184 & 8.03      & 17.93    \\\\\n",
       "\t 5         & -2.54     & 1.72      & 224.3903  & 0.9873694 & 6.28      & 16.19    \\\\\n",
       "\t 6         & -2.91     & 2.40      & 222.9953  & 0.9935458 & 8.52      & 19.59    \\\\\n",
       "\\end{tabular}\n"
      ],
      "text/markdown": [
       "\n",
       "| X | k_eval | theta_eval | log_like | deviation | MedianDispDist | Dist90Retained |\n",
       "|---|---|---|---|---|---|---|\n",
       "| 1         | -2.65     | 1.84      | 222.3778  | 0.9963048 | 6.88      | 17.29     |\n",
       "| 2         | -2.64     | 1.62      | 221.6200  | 0.9997115 | 7.09      | 18.70     |\n",
       "| 3         | -2.59     | 1.63      | 221.7229  | 0.9992476 | 6.73      | 17.70     |\n",
       "| 4         | -2.86     | 2.66      | 224.2882  | 0.9878184 | 8.03      | 17.93     |\n",
       "| 5         | -2.54     | 1.72      | 224.3903  | 0.9873694 | 6.28      | 16.19     |\n",
       "| 6         | -2.91     | 2.40      | 222.9953  | 0.9935458 | 8.52      | 19.59     |\n",
       "\n"
      ],
      "text/plain": [
       "  X k_eval theta_eval log_like deviation MedianDispDist Dist90Retained\n",
       "1 1 -2.65  1.84       222.3778 0.9963048 6.88           17.29         \n",
       "2 2 -2.64  1.62       221.6200 0.9997115 7.09           18.70         \n",
       "3 3 -2.59  1.63       221.7229 0.9992476 6.73           17.70         \n",
       "4 4 -2.86  2.66       224.2882 0.9878184 8.03           17.93         \n",
       "5 5 -2.54  1.72       224.3903 0.9873694 6.28           16.19         \n",
       "6 6 -2.91  2.40       222.9953 0.9935458 8.52           19.59         "
      ]
     },
     "metadata": {},
     "output_type": "display_data"
    }
   ],
   "source": [
    "head(MedNEM)\n",
    "head(MedSWM)"
   ]
  },
  {
   "cell_type": "code",
   "execution_count": 245,
   "metadata": {
    "scrolled": true
   },
   "outputs": [],
   "source": [
    "MedNEM <- read.csv(file=\"~/parentage/kernel_fitting/1340_loci/final_results/mean_disp_dist/MedPdf_NEM.csv\", header=T) %>% \n",
    "        filter(log_like < cutoff_NEM) \n",
    "MedSWM <- read.csv(file=\"~/parentage/kernel_fitting/1340_loci/final_results/mean_disp_dist/MedPdf_SWM.csv\", header=T)%>% \n",
    "        filter(log_like < cutoff_SWM) \n",
    "\n",
    "#make a summary table\n",
    "col <- c(\"Season\",\"RecruitSizeAtSampling\", \"best_k\", \"best_theta\",\"k_CI95_lower\",\"k_CI95_upper\", \"theta_CI95_lower\", \"theta_CI95_upper\", \"MeanDispersalDistance\",\"MeanDispDist_CI95_lower\", \"MeanDispDist_CI95_upper\", \"MedianDispersalDistance\", \"MedianDispDist_CI95_lower\", \"MedianDispDist_CI95_upper\")\n",
    "seasonality_summary <- as.data.frame(matrix(nrow=2, ncol=length(col)))\n",
    "colnames(seasonality_summary) <- col\n",
    "\n",
    "theta_eval=best_theta_SWM\n",
    "k_eval=best_k_SWM\n",
    "MLE_median_SWM <- round(nleqslv(x = 7, fn = cdf_solve)$x, 2) # answer is stored in $x\n",
    "MLE_90_SWM <- round(nleqslv(x = 7, fn = cdf_solve90)$x, 2)\n",
    "\n",
    "theta_eval=best_theta_NEM\n",
    "k_eval=best_k_NEM\n",
    "MLE_median_NEM <- round(nleqslv(x = 7, fn = cdf_solve)$x, 2) # answer is stored in $x\n",
    "MLE_90_NEM <- round(nleqslv(x = 7, fn = cdf_solve90)$x, 2)\n",
    "\n",
    "\n",
    "seasonality_summary$MedianDispersalDistance <- c(MLE_median_SWM, MLE_median_NEM)\n",
    "seasonality_summary$Dist90Retained <- c(MLE_90_SWM, MLE_90_NEM)\n",
    "\n",
    "\n",
    "MDD_SWM <- cubintegrate(integrate_kernel_sum1, lower = 0, upper = Inf, k=best_k_SWM, theta=best_theta_SWM, relTol = 1e-05,  method = \"pcubature\")$integral\n",
    "MDD_NEM <- cubintegrate(integrate_kernel_sum1, lower = 0, upper = Inf, k=best_k_NEM, theta=best_theta_NEM, relTol = 1e-05,  method = \"pcubature\")$integral\n",
    "\n",
    "seasonality_summary$Season <- c(\"SWM\", \"NEM\")\n",
    "seasonality_summary$RecruitSizeAtSampling <- c(\"> 4.5 cm\", \"< 3.5 cm\")\n",
    "seasonality_summary$best_k <- c(best_k_SWM, best_k_NEM)\n",
    "seasonality_summary$best_theta <- c(best_theta_SWM, best_theta_NEM)\n",
    "seasonality_summary$k_CI95_lower <- c(lower_k_SWM, lower_k_NEM)\n",
    "seasonality_summary$k_CI95_upper <- c(upper_k_SWM, upper_k_NEM)\n",
    "seasonality_summary$theta_CI95_lower <- c(lower_theta_SWM, lower_theta_NEM)\n",
    "seasonality_summary$theta_CI95_upper <- c(upper_theta_SWM, upper_theta_NEM)\n",
    "seasonality_summary$MeanDispersalDistance <- c(MDD_SWM, MDD_NEM)\n",
    "seasonality_summary$MeanDispDist_CI95_lower <- c(min(mdd_SWM_df$mdd), min(mdd_NEM_df$mdd))\n",
    "seasonality_summary$MeanDispDist_CI95_upper <- c(max(mdd_SWM_df$mdd), max(mdd_NEM_df$mdd))\n",
    "seasonality_summary$MedianDispDist_CI95_lower <- c(min(med_SWM_weighted$MedianDispDist), min(med_NEM_weighted$MedianDispDist))\n",
    "seasonality_summary$MedianDispDist_CI95_upper <- c(max(med_SWM_weighted$MedianDispDist), max(med_NEM_weighted$MedianDispDist))\n",
    "\n",
    "\n",
    "\n",
    "write.csv(seasonality_summary, file=\"~/parentage/kernel_fitting/1340_loci/final_results/tables/RecruitSizeAsSeasonlity_summary.csv\", quote=F, row.names=F)\n",
    "\n"
   ]
  },
  {
   "cell_type": "code",
   "execution_count": 252,
   "metadata": {
    "scrolled": true
   },
   "outputs": [
    {
     "data": {
      "text/html": [
       "<table>\n",
       "<thead><tr><th scope=col>Season</th><th scope=col>RecruitSizeAtSampling</th><th scope=col>best_k</th><th scope=col>best_theta</th><th scope=col>k_CI95_lower</th><th scope=col>k_CI95_upper</th><th scope=col>theta_CI95_lower</th><th scope=col>theta_CI95_upper</th><th scope=col>MeanDispersalDistance</th><th scope=col>MeanDispDist_CI95_lower</th><th scope=col>MeanDispDist_CI95_upper</th><th scope=col>MedianDispersalDistance</th><th scope=col>MedianDispDist_CI95_lower</th><th scope=col>MedianDispDist_CI95_upper</th><th scope=col>Dist90Retained</th></tr></thead>\n",
       "<tbody>\n",
       "\t<tr><td>SWM                                               </td><td>&gt; 4.5 cm                                       </td><td>-2.60                                             </td><td>1.58                                              </td><td>-2.63                                             </td><td>-2.47                                             </td><td>1.34                                              </td><td>1.59                                              </td><td>8.574871                                          </td><td>7.132250                                          </td><td><span style=white-space:pre-wrap>  10.39623</span></td><td>6.87                                              </td><td>4.93                                              </td><td><span style=white-space:pre-wrap>  9.28</span>    </td><td>18.32                                             </td></tr>\n",
       "\t<tr><td>NEM        </td><td>&lt; 3.5 cm</td><td>-0.89      </td><td>0.56       </td><td>-1.46      </td><td>-0.74      </td><td>0.54       </td><td>0.61       </td><td>9.446898   </td><td>6.014163   </td><td>4272.46841 </td><td>4.82       </td><td>3.24       </td><td>323.37     </td><td>23.60      </td></tr>\n",
       "</tbody>\n",
       "</table>\n"
      ],
      "text/latex": [
       "\\begin{tabular}{r|lllllllllllllll}\n",
       " Season & RecruitSizeAtSampling & best\\_k & best\\_theta & k\\_CI95\\_lower & k\\_CI95\\_upper & theta\\_CI95\\_lower & theta\\_CI95\\_upper & MeanDispersalDistance & MeanDispDist\\_CI95\\_lower & MeanDispDist\\_CI95\\_upper & MedianDispersalDistance & MedianDispDist\\_CI95\\_lower & MedianDispDist\\_CI95\\_upper & Dist90Retained\\\\\n",
       "\\hline\n",
       "\t SWM        & > 4.5 cm   & -2.60      & 1.58       & -2.63      & -2.47      & 1.34       & 1.59       & 8.574871   & 7.132250   &   10.39623 & 6.87       & 4.93       &   9.28     & 18.32     \\\\\n",
       "\t NEM        & < 3.5 cm   & -0.89      & 0.56       & -1.46      & -0.74      & 0.54       & 0.61       & 9.446898   & 6.014163   & 4272.46841 & 4.82       & 3.24       & 323.37     & 23.60     \\\\\n",
       "\\end{tabular}\n"
      ],
      "text/markdown": [
       "\n",
       "| Season | RecruitSizeAtSampling | best_k | best_theta | k_CI95_lower | k_CI95_upper | theta_CI95_lower | theta_CI95_upper | MeanDispersalDistance | MeanDispDist_CI95_lower | MeanDispDist_CI95_upper | MedianDispersalDistance | MedianDispDist_CI95_lower | MedianDispDist_CI95_upper | Dist90Retained |\n",
       "|---|---|---|---|---|---|---|---|---|---|---|---|---|---|---|\n",
       "| SWM        | > 4.5 cm   | -2.60      | 1.58       | -2.63      | -2.47      | 1.34       | 1.59       | 8.574871   | 7.132250   |   10.39623 | 6.87       | 4.93       |   9.28     | 18.32      |\n",
       "| NEM        | < 3.5 cm   | -0.89      | 0.56       | -1.46      | -0.74      | 0.54       | 0.61       | 9.446898   | 6.014163   | 4272.46841 | 4.82       | 3.24       | 323.37     | 23.60      |\n",
       "\n"
      ],
      "text/plain": [
       "  Season RecruitSizeAtSampling best_k best_theta k_CI95_lower k_CI95_upper\n",
       "1 SWM    > 4.5 cm              -2.60  1.58       -2.63        -2.47       \n",
       "2 NEM    < 3.5 cm              -0.89  0.56       -1.46        -0.74       \n",
       "  theta_CI95_lower theta_CI95_upper MeanDispersalDistance\n",
       "1 1.34             1.59             8.574871             \n",
       "2 0.54             0.61             9.446898             \n",
       "  MeanDispDist_CI95_lower MeanDispDist_CI95_upper MedianDispersalDistance\n",
       "1 7.132250                  10.39623              6.87                   \n",
       "2 6.014163                4272.46841              4.82                   \n",
       "  MedianDispDist_CI95_lower MedianDispDist_CI95_upper Dist90Retained\n",
       "1 4.93                        9.28                    18.32         \n",
       "2 3.24                      323.37                    23.60         "
      ]
     },
     "metadata": {},
     "output_type": "display_data"
    }
   ],
   "source": [
    "seasonality_summary"
   ]
  },
  {
   "cell_type": "code",
   "execution_count": 30,
   "metadata": {},
   "outputs": [],
   "source": [
    "surface_NEM <- ggplot(profile_NEM_df, aes(x = k_eval, y = theta_eval)) + \n",
    "    geom_tile(aes(fill = as.numeric(log_like), colour=as.numeric(log_like))) + \n",
    "    geom_point(aes(x = best_k_NEM, y = best_theta_NEM), colour=\"white\") +\n",
    "    scale_x_continuous(breaks = seq(-10, 10, by = 1), expand = c(0,0)) + \n",
    "    scale_y_continuous(breaks = seq(0.1, 3, by = 1), expand = c(0,0)) +\n",
    "    scale_fill_viridis(option=\"magma\", name=\"Log-like\") + \n",
    "    scale_color_viridis(option=\"magma\", name=\"Log-like\") + \n",
    "    theme_bw() + \n",
    "    stat_contour(aes(z = log_like), breaks = cutoff_NEM, colour=\"white\") \n",
    "#surface_NEM\n",
    "#ggplot2::ggsave(filename=\"surface_withCI_NEM.png\",  plot=surface_NEM, path=\"~/parentage/kernel_fitting/1340_loci/final_results\")\n",
    "\n",
    "#zoom12 <- profile12_df %>% filter(k_eval > -2 & k_eval <2) %>% filter(theta_eval >.5 & theta_eval <1.5)\n",
    "\n",
    "#zoom12 <- ggplot(zoom12, aes(x = k_eval, y = theta_eval)) + \n",
    "#    geom_tile(aes(fill = as.numeric(log_like), colour=as.numeric(log_like))) + \n",
    "#    geom_point(aes(x = best_k, y = best_theta), colour=\"white\") +\n",
    "#    scale_x_continuous(breaks = seq(-.1, 1, by = 1)) + \n",
    "#    scale_y_continuous(breaks = seq(0.1, 2, by = 1)) +\n",
    "#    scale_fill_viridis(option=\"magma\", name=\"Log-like\") + \n",
    "#    scale_color_viridis(option=\"magma\", name=\"Log-like\") + \n",
    "#    theme_bw() + \n",
    "#    stat_contour(aes(z = log_like), breaks = cutoff) \n",
    "#zoom12\n",
    "#ggplot2::ggsave(filename=\"surface_withCI_2012_zoom.pdf\",  plot=zoom12, path=\"~/parentage/kernel_fitting/1240_loci/results\", dpi=\"retina\")\n",
    "#\n",
    "#"
   ]
  },
  {
   "cell_type": "markdown",
   "metadata": {},
   "source": [
    "# read in summary after for plotting \n",
    "\n"
   ]
  },
  {
   "cell_type": "code",
   "execution_count": 47,
   "metadata": {},
   "outputs": [],
   "source": [
    "seasonality_summary <- read.csv(file=\"~/parentage/kernel_fitting/1340_loci/final_results/tables/RecruitSizeAsSeasonlity_summary.csv\", header=T)"
   ]
  },
  {
   "cell_type": "code",
   "execution_count": 276,
   "metadata": {},
   "outputs": [
    {
     "data": {
      "text/html": [
       "15498"
      ],
      "text/latex": [
       "15498"
      ],
      "text/markdown": [
       "15498"
      ],
      "text/plain": [
       "[1] 15498"
      ]
     },
     "metadata": {},
     "output_type": "display_data"
    }
   ],
   "source": [
    "nrow(profile_NEM_df95)"
   ]
  },
  {
   "cell_type": "code",
   "execution_count": 274,
   "metadata": {},
   "outputs": [],
   "source": [
    "profile_NEM_df95_plot <- profile_NEM_df95\n",
    "profile_SWM_df95_plot <- profile_SWM_df95\n",
    "\n",
    "\n",
    "profile_NEM_df95_plot$type <- \"Northeast Monsoon Recruits\"\n",
    "profile_SWM_df95_plot$type <- \"Southwest Monsoon Recruits\"\n",
    "\n",
    "profiles_df <- bind_rows( profile_NEM_df95_plot, profile_SWM_df95_plot,)"
   ]
  },
  {
   "cell_type": "code",
   "execution_count": 250,
   "metadata": {},
   "outputs": [
    {
     "data": {
      "text/html": [
       "0.49411257745026"
      ],
      "text/latex": [
       "0.49411257745026"
      ],
      "text/markdown": [
       "0.49411257745026"
      ],
      "text/plain": [
       "[1] 0.4941126"
      ]
     },
     "metadata": {},
     "output_type": "display_data"
    },
    {
     "data": {
      "text/html": [
       "0.467436296638534"
      ],
      "text/latex": [
       "0.467436296638534"
      ],
      "text/markdown": [
       "0.467436296638534"
      ],
      "text/plain": [
       "[1] 0.4674363"
      ]
     },
     "metadata": {},
     "output_type": "display_data"
    }
   ],
   "source": [
    "cubintegrate(integrate_kernel_sum0.5, k=seasonality_summary$best_k[1], theta=seasonality_summary$best_theta[1], 0, 30, method = \"pcubature\")$integral\n",
    "cubintegrate(integrate_kernel_sum0.5, k=seasonality_summary$best_k[2], theta=seasonality_summary$best_theta[2], 0, 30, method = \"pcubature\")$integral\n"
   ]
  },
  {
   "cell_type": "markdown",
   "metadata": {},
   "source": [
    "## plot surfaces together "
   ]
  },
  {
   "cell_type": "code",
   "execution_count": 275,
   "metadata": {
    "scrolled": false
   },
   "outputs": [
    {
     "data": {
      "image/png": "[encoded data removed]",
      "text/plain": [
       "plot without title"
      ]
     },
     "metadata": {},
     "output_type": "display_data"
    }
   ],
   "source": [
    "\n",
    "CI_surfaces <- ggplot() + \n",
    "    geom_point(data=profiles_df, mapping=aes(x=k_eval, y=theta_eval, colour=type, fill=type))+\n",
    "    scale_x_continuous(breaks = seq(-12, 12, by = 1)) + \n",
    "    scale_y_continuous(breaks = seq(0.1, 8, by = 1)) +\n",
    "    scale_colour_brewer(type=\"seq\",palette = \"Pastel1\")+\n",
    "    theme_bw() +\n",
    "    theme(legend.title=element_blank(),\n",
    "    axis.text.x = element_text(size=12, color=\"black\", family=\"Helvetica\"),#15 for publication, 20 for presentation #element_text(size=15, color=\"black\", family=\"Helvetica\"),\n",
    "    axis.text.y =  element_text(size=12, color=\"black\", family=\"Helvetica\"),\n",
    "    axis.title.y =  element_text(size=14, color=\"black\", family=\"Helvetica\"), \n",
    "    axis.title.x =  element_text(size=14, color=\"black\", family=\"Helvetica\")) +\n",
    "    xlab(\"k\") + ylab(expression(theta)) \n",
    "\n",
    "\n",
    "\n",
    "\n",
    "CI_surfaces\n",
    "\n",
    "#ggplot2::ggsave(filename=\"Seasonality95CISurfacesCombined.png\",  plot=CI_surfaces, path=\"~/parentage/kernel_fitting/1340_loci/final_results/likelihood_profiles_grid_search/\")\n"
   ]
  },
  {
   "cell_type": "code",
   "execution_count": 269,
   "metadata": {},
   "outputs": [
    {
     "data": {
      "text/html": [
       "<table>\n",
       "<thead><tr><th scope=col>Season</th><th scope=col>RecruitSizeAtSampling</th><th scope=col>best_k</th><th scope=col>best_theta</th><th scope=col>k_CI95_lower</th><th scope=col>k_CI95_upper</th><th scope=col>theta_CI95_lower</th><th scope=col>theta_CI95_upper</th><th scope=col>MeanDispersalDistance</th><th scope=col>MeanDispDist_CI95_lower</th><th scope=col>MeanDispDist_CI95_upper</th><th scope=col>MedianDispersalDistance</th><th scope=col>MedianDispDist_CI95_lower</th><th scope=col>MedianDispDist_CI95_upper</th><th scope=col>Dist90Retained</th></tr></thead>\n",
       "<tbody>\n",
       "\t<tr><td>SWM                                               </td><td>&gt; 4.5 cm                                       </td><td>-2.60                                             </td><td>1.58                                              </td><td>-2.63                                             </td><td>-2.47                                             </td><td>1.34                                              </td><td>1.59                                              </td><td>8.574871                                          </td><td>7.132250                                          </td><td><span style=white-space:pre-wrap>  10.39623</span></td><td>6.87                                              </td><td>4.93                                              </td><td><span style=white-space:pre-wrap>  9.28</span>    </td><td>18.32                                             </td></tr>\n",
       "\t<tr><td>NEM        </td><td>&lt; 3.5 cm</td><td>-0.89      </td><td>0.56       </td><td>-1.46      </td><td>-0.74      </td><td>0.54       </td><td>0.61       </td><td>9.446898   </td><td>6.014163   </td><td>4272.46841 </td><td>4.82       </td><td>3.24       </td><td>323.37     </td><td>23.60      </td></tr>\n",
       "</tbody>\n",
       "</table>\n"
      ],
      "text/latex": [
       "\\begin{tabular}{r|lllllllllllllll}\n",
       " Season & RecruitSizeAtSampling & best\\_k & best\\_theta & k\\_CI95\\_lower & k\\_CI95\\_upper & theta\\_CI95\\_lower & theta\\_CI95\\_upper & MeanDispersalDistance & MeanDispDist\\_CI95\\_lower & MeanDispDist\\_CI95\\_upper & MedianDispersalDistance & MedianDispDist\\_CI95\\_lower & MedianDispDist\\_CI95\\_upper & Dist90Retained\\\\\n",
       "\\hline\n",
       "\t SWM        & > 4.5 cm   & -2.60      & 1.58       & -2.63      & -2.47      & 1.34       & 1.59       & 8.574871   & 7.132250   &   10.39623 & 6.87       & 4.93       &   9.28     & 18.32     \\\\\n",
       "\t NEM        & < 3.5 cm   & -0.89      & 0.56       & -1.46      & -0.74      & 0.54       & 0.61       & 9.446898   & 6.014163   & 4272.46841 & 4.82       & 3.24       & 323.37     & 23.60     \\\\\n",
       "\\end{tabular}\n"
      ],
      "text/markdown": [
       "\n",
       "| Season | RecruitSizeAtSampling | best_k | best_theta | k_CI95_lower | k_CI95_upper | theta_CI95_lower | theta_CI95_upper | MeanDispersalDistance | MeanDispDist_CI95_lower | MeanDispDist_CI95_upper | MedianDispersalDistance | MedianDispDist_CI95_lower | MedianDispDist_CI95_upper | Dist90Retained |\n",
       "|---|---|---|---|---|---|---|---|---|---|---|---|---|---|---|\n",
       "| SWM        | > 4.5 cm   | -2.60      | 1.58       | -2.63      | -2.47      | 1.34       | 1.59       | 8.574871   | 7.132250   |   10.39623 | 6.87       | 4.93       |   9.28     | 18.32      |\n",
       "| NEM        | < 3.5 cm   | -0.89      | 0.56       | -1.46      | -0.74      | 0.54       | 0.61       | 9.446898   | 6.014163   | 4272.46841 | 4.82       | 3.24       | 323.37     | 23.60      |\n",
       "\n"
      ],
      "text/plain": [
       "  Season RecruitSizeAtSampling best_k best_theta k_CI95_lower k_CI95_upper\n",
       "1 SWM    > 4.5 cm              -2.60  1.58       -2.63        -2.47       \n",
       "2 NEM    < 3.5 cm              -0.89  0.56       -1.46        -0.74       \n",
       "  theta_CI95_lower theta_CI95_upper MeanDispersalDistance\n",
       "1 1.34             1.59             8.574871             \n",
       "2 0.54             0.61             9.446898             \n",
       "  MeanDispDist_CI95_lower MeanDispDist_CI95_upper MedianDispersalDistance\n",
       "1 7.132250                  10.39623              6.87                   \n",
       "2 6.014163                4272.46841              4.82                   \n",
       "  MedianDispDist_CI95_lower MedianDispDist_CI95_upper Dist90Retained\n",
       "1 4.93                        9.28                    18.32         \n",
       "2 3.24                      323.37                    23.60         "
      ]
     },
     "metadata": {},
     "output_type": "display_data"
    }
   ],
   "source": [
    "seasonality_summary"
   ]
  },
  {
   "cell_type": "markdown",
   "metadata": {},
   "source": [
    "## plot kernels"
   ]
  },
  {
   "cell_type": "code",
   "execution_count": 254,
   "metadata": {},
   "outputs": [
    {
     "data": {
      "text/html": [
       "<ol class=list-inline>\n",
       "\t<li>60100</li>\n",
       "\t<li>6</li>\n",
       "</ol>\n"
      ],
      "text/latex": [
       "\\begin{enumerate*}\n",
       "\\item 60100\n",
       "\\item 6\n",
       "\\end{enumerate*}\n"
      ],
      "text/markdown": [
       "1. 60100\n",
       "2. 6\n",
       "\n",
       "\n"
      ],
      "text/plain": [
       "[1] 60100     6"
      ]
     },
     "metadata": {},
     "output_type": "display_data"
    }
   ],
   "source": [
    "\n",
    "##find best fit\n",
    "#best_fit_NEM <- profile_NEM_df %>%\n",
    "#    filter(log_like==min(log_like))\n",
    "#\n",
    "##find 95% CI, using instructions from Ben Bolker's Ecological Models in R and https://public.wsu.edu/~jesse.brunner/classes/bio572/Lab6_Likelihood.html\n",
    "#best_ll_NEM <- as.numeric(best_fit_NEM$log_like)\n",
    "#best_k_NEM <- as.numeric(best_fit_NEM$k_eval)\n",
    "#best_theta_NEM <- as.numeric(best_fit_NEM$theta_eval)\n",
    "#cutoff_NEM <- best_ll_NEM + qchisq(0.95, 2)/2 #use the 95% quantile of the chi-sq distribution with two df because it's bivariate\n",
    "##cutoff=_NEM6.534\n",
    "\n",
    "profile_NEM_df95 <- profile_NEM_df95 %>% \n",
    "        filter(log_like < cutoff_NEM) %>%\n",
    "        sample_n(100)\n",
    "\n",
    "\n",
    "#k_NEM <- as.numeric(seasonality_summary %>%\n",
    "#                     filter(RecruitSizeAtSampling==\"< 3 cm\") %>%\n",
    "#                     select(best_k))\n",
    "#theta_NEM <- as.numeric(seasonality_summary %>%\n",
    "#                     filter(RecruitSizeAtSampling==\"< 3 cm\") %>%\n",
    "#                     select(best_theta))\n",
    "#\n",
    "#MDD_NEM <- as.numeric(seasonality_summary %>%\n",
    "#                     filter(RecruitSizeAtSampling==\"< 3 cm\") %>%\n",
    "#                     select(MeanDispersalDistance))\n",
    "\n",
    "#make a df of possible seasonality_summary from 95% CI k\n",
    "#kCI_NEM <- as.matrix(seq(from=upperk_NEM, to=lowerk_NEM, length.out = 50)) #replace to with -10 for 20_NEM\n",
    "#thetaCI_NEM <- as.matrix(seq(from=uppertheta_NEM, to=lowertheta_NEM, length.out = 50)) #replace to with -10 for 20_NEM\n",
    "\n",
    "\n",
    "\n",
    "max_dist <- 60\n",
    "possible_dist <- matrix(seq(0,max_dist,0.1))\n",
    "to_plot_NEM <- matrix(nrow=nrow(profile_NEM_df95), ncol=nrow(possible_dist))\n",
    "\n",
    "for(i in 1:nrow(profile_NEM_df95)) {\n",
    "     \n",
    "    k <- profile_NEM_df95$k_eval[i]\n",
    "    theta <- profile_NEM_df95$theta_eval[i]\n",
    "    \n",
    "    for(j in 1:nrow(possible_dist)) {\n",
    "    \n",
    "    dist <- possible_dist[j]\n",
    "    to_plot_NEM[i,j] <- predicted_disp(k=k, theta=theta, d=dist)\n",
    "    \n",
    "    }\n",
    "}\n",
    "\n",
    "to_plot_NEM_df <- as.data.frame(to_plot_NEM) \n",
    "col <- as.character(possible_dist)\n",
    "colnames(to_plot_NEM_df) <- col\n",
    "to_plot_NEM_df <- bind_cols(profile_NEM_df95, to_plot_NEM_df)\n",
    "##colnames(to_plot_NEM_df) <- gsub(\"-\", \"k\", colnames(to_plot_NEM_df), fixed=TRUE)\n",
    "\n",
    "to_plot_NEM_df2 <- to_plot_NEM_df %>%\n",
    "    gather(4:604, key=dist, value=pdf) %>%\n",
    "    mutate(dist=as.numeric(dist))\n",
    "to_plot_NEM_df2$iter <- paste0(to_plot_NEM_df2$k_eval, '_', to_plot_NEM_df2$theta_eval) # create an identifier for each sample from the LL surface\n",
    "\n",
    "dim(to_plot_NEM_df2)\n",
    "#to_plot_NEM_df2$dist <- seq(0,max_dist,0.1)\n",
    "#\n",
    "##make a df to project the kernel\n",
    "kernel_NEM <- data.frame(dist=seq(0,max_dist,0.1))\n",
    "k= best_k_NEM\n",
    "theta=best_theta_NEM\n",
    "\n",
    "kernel_NEM <- kernel_NEM %>%\n",
    "    mutate(pdf= predicted_disp(k=k, theta=theta, d=dist))\n",
    "\n",
    "\n"
   ]
  },
  {
   "cell_type": "code",
   "execution_count": 255,
   "metadata": {},
   "outputs": [
    {
     "data": {
      "text/html": [
       "<table>\n",
       "<thead><tr><th scope=col>k_eval</th><th scope=col>theta_eval</th><th scope=col>log_like</th></tr></thead>\n",
       "<tbody>\n",
       "\t<tr><td>-1.70   </td><td>0.76    </td><td>224.5447</td></tr>\n",
       "\t<tr><td>-1.69   </td><td>0.76    </td><td>224.5102</td></tr>\n",
       "\t<tr><td>-1.68   </td><td>0.76    </td><td>224.4851</td></tr>\n",
       "\t<tr><td>-1.67   </td><td>0.76    </td><td>224.4698</td></tr>\n",
       "\t<tr><td>-1.66   </td><td>0.76    </td><td>224.4646</td></tr>\n",
       "\t<tr><td>-1.65   </td><td>0.76    </td><td>224.4699</td></tr>\n",
       "</tbody>\n",
       "</table>\n"
      ],
      "text/latex": [
       "\\begin{tabular}{r|lll}\n",
       " k\\_eval & theta\\_eval & log\\_like\\\\\n",
       "\\hline\n",
       "\t -1.70    & 0.76     & 224.5447\\\\\n",
       "\t -1.69    & 0.76     & 224.5102\\\\\n",
       "\t -1.68    & 0.76     & 224.4851\\\\\n",
       "\t -1.67    & 0.76     & 224.4698\\\\\n",
       "\t -1.66    & 0.76     & 224.4646\\\\\n",
       "\t -1.65    & 0.76     & 224.4699\\\\\n",
       "\\end{tabular}\n"
      ],
      "text/markdown": [
       "\n",
       "| k_eval | theta_eval | log_like |\n",
       "|---|---|---|\n",
       "| -1.70    | 0.76     | 224.5447 |\n",
       "| -1.69    | 0.76     | 224.5102 |\n",
       "| -1.68    | 0.76     | 224.4851 |\n",
       "| -1.67    | 0.76     | 224.4698 |\n",
       "| -1.66    | 0.76     | 224.4646 |\n",
       "| -1.65    | 0.76     | 224.4699 |\n",
       "\n"
      ],
      "text/plain": [
       "  k_eval theta_eval log_like\n",
       "1 -1.70  0.76       224.5447\n",
       "2 -1.69  0.76       224.5102\n",
       "3 -1.68  0.76       224.4851\n",
       "4 -1.67  0.76       224.4698\n",
       "5 -1.66  0.76       224.4646\n",
       "6 -1.65  0.76       224.4699"
      ]
     },
     "metadata": {},
     "output_type": "display_data"
    }
   ],
   "source": [
    "head(profile_SWM_df95)\n"
   ]
  },
  {
   "cell_type": "code",
   "execution_count": 256,
   "metadata": {},
   "outputs": [
    {
     "data": {
      "text/html": [
       "<ol class=list-inline>\n",
       "\t<li>60100</li>\n",
       "\t<li>6</li>\n",
       "</ol>\n"
      ],
      "text/latex": [
       "\\begin{enumerate*}\n",
       "\\item 60100\n",
       "\\item 6\n",
       "\\end{enumerate*}\n"
      ],
      "text/markdown": [
       "1. 60100\n",
       "2. 6\n",
       "\n",
       "\n"
      ],
      "text/plain": [
       "[1] 60100     6"
      ]
     },
     "metadata": {},
     "output_type": "display_data"
    }
   ],
   "source": [
    "profile_SWM_df95 <- profile_SWM_df95 %>% \n",
    "        filter(log_like < cutoff_SWM) %>%\n",
    "        sample_n(100)\n",
    "\n",
    "#k_SWM <- as.numeric(seasonality_summary %>%\n",
    "#                     filter(RecruitSizeAtSampling==\"> 3 cm\") %>%\n",
    "#                     select(best_k))\n",
    "#theta_SWM <- as.numeric(seasonality_summary %>%\n",
    "#                     filter(RecruitSizeAtSampling==\"> 3 cm\") %>%\n",
    "#                     select(best_theta))\n",
    "#\n",
    "#MDD_SWM <- as.numeric(seasonality_summary %>%\n",
    "#                     filter(RecruitSizeAtSampling==\"> 3 cm\") %>%\n",
    "#                     select(MeanDispersalDistance))\n",
    "#\n",
    "\n",
    "\n",
    "max_dist <- 60\n",
    "possible_dist <- matrix(seq(0,max_dist,0.1))\n",
    "to_plot_SWM <- matrix(nrow=nrow(profile_SWM_df95), ncol=nrow(possible_dist))\n",
    "\n",
    "for(i in 1:nrow(profile_SWM_df95)) {\n",
    "     \n",
    "    k <- profile_SWM_df95$k_eval[i]\n",
    "    theta <- profile_SWM_df95$theta_eval[i]\n",
    "    \n",
    "    for(j in 1:nrow(possible_dist)) {\n",
    "    \n",
    "    dist <- possible_dist[j]\n",
    "    to_plot_SWM[i,j] <- predicted_disp(k=k, theta=theta, d=dist)\n",
    "    \n",
    "    }\n",
    "}\n",
    "\n",
    "to_plot_SWM_df <- as.data.frame(to_plot_SWM) \n",
    "col <- as.character(possible_dist)\n",
    "colnames(to_plot_SWM_df) <- col\n",
    "to_plot_SWM_df <- bind_cols(profile_SWM_df95, to_plot_SWM_df)\n",
    "##colnames(to_plot_SWM_df) <- gsub(\"-\", \"k\", colnames(to_plot_SWM_df), fixed=TRUE)\n",
    "\n",
    "to_plot_SWM_df2 <- to_plot_SWM_df %>%\n",
    "    gather(4:604, key=dist, value=pdf) %>%\n",
    "    mutate(dist=as.numeric(dist))\n",
    "to_plot_SWM_df2$iter <- paste0(to_plot_SWM_df2$k_eval, '_', to_plot_SWM_df2$theta_eval) # create an identifier for each sample from the LL surface\n",
    "\n",
    "dim(to_plot_SWM_df2)\n",
    "#to_plot_SWM_df2$dist <- seq(0,max_dist,0.1)\n",
    "#\n",
    "##make a df to project the kernel\n",
    "kernel_SWM <- data.frame(dist=seq(0,max_dist,0.1))\n",
    "k= best_k_SWM\n",
    "theta=best_theta_SWM\n",
    "\n",
    "kernel_SWM <- kernel_SWM %>%\n",
    "    mutate(pdf= predicted_disp(k=k, theta=theta, d=dist))\n",
    "\n",
    "\n",
    "\n"
   ]
  },
  {
   "cell_type": "code",
   "execution_count": 257,
   "metadata": {},
   "outputs": [
    {
     "name": "stderr",
     "output_type": "stream",
     "text": [
      "Warning message:\n",
      "“Removed 8000 rows containing missing values (geom_path).”Warning message:\n",
      "“Removed 8107 rows containing missing values (geom_path).”Warning message:\n",
      "“Removed 80 rows containing missing values (geom_path).”Warning message:\n",
      "“Removed 84 rows containing missing values (geom_path).”"
     ]
    },
    {
     "data": {
      "image/png": "[encoded data removed]",
      "text/plain": [
       "plot without title"
      ]
     },
     "metadata": {},
     "output_type": "display_data"
    }
   ],
   "source": [
    "disp_seasonality_pub <- ggplot()+ \n",
    "    geom_line(data=to_plot_SWM_df2, aes(x=dist, pdf, group=iter), color=\"gray60\", alpha=0.2)+\n",
    "    geom_line(data=to_plot_NEM_df2, aes(x=dist, pdf, group=iter), color=\"steelblue1\", alpha=0.2)+    \n",
    "    geom_line(data=kernel_SWM, aes(x=dist, y=pdf), color=\"gray48\", size=0.6)+\n",
    "    geom_line(data=kernel_NEM, aes(x=dist, y=pdf), color=\"steelblue4\", size=0.6)+\n",
    "    theme(panel.grid.major = element_blank(),\n",
    "    plot.margin=unit(c(0.2,0.2,0.2,0.2),\"cm\"),#,\n",
    "    panel.grid.minor = element_blank(), \n",
    "    panel.background = element_blank(), #,\n",
    "    axis.line = element_line(colour = \"black\"), \n",
    "    axis.text.x = element_text(size=8, color=\"black\", family=\"Helvetica\"),#15 for publication, 20 for presentation #element_text(size=15, color=\"black\", family=\"Helvetica\"),\n",
    "    axis.text.y =  element_text(size=8, color=\"black\", family=\"Helvetica\"),\n",
    "    axis.title.y =  element_text(size=10, color=\"black\", family=\"Helvetica\"), \n",
    "    axis.title.x =  element_text(size=10, color=\"black\", family=\"Helvetica\")) +\n",
    "    xlab(\"Distance (km)\") + ylab(\"Probability density\") + \n",
    "    guides(fill=FALSE)+\n",
    "    scale_x_continuous(limits = c(0,52), expand = c(0, 0), breaks=c(seq(0, 50, 10))) +\n",
    "    scale_y_continuous(expand = c(0,0), limits = c(0,.18)) +\n",
    "    xlab(\"Distance (km)\") + ylab(\"Dispersal strength\") \n",
    "\n",
    "\n",
    "\n",
    "\n",
    "\n",
    "\n",
    "\n",
    "disp_seasonality_pub"
   ]
  },
  {
   "cell_type": "code",
   "execution_count": 258,
   "metadata": {},
   "outputs": [
    {
     "name": "stderr",
     "output_type": "stream",
     "text": [
      "Warning message:\n",
      "“Removed 8000 rows containing missing values (geom_path).”Warning message:\n",
      "“Removed 8107 rows containing missing values (geom_path).”Warning message:\n",
      "“Removed 80 rows containing missing values (geom_path).”Warning message:\n",
      "“Removed 84 rows containing missing values (geom_path).”"
     ]
    }
   ],
   "source": [
    "ggplot2::ggsave(filename=\"SeasonalKernels.png\",  plot=disp_seasonality_pub, width=83, height=70, dpi=600, units=\"mm\", path=\"~/parentage/kernel_fitting/1340_loci/final_results/kernel_plots/\")\n"
   ]
  },
  {
   "cell_type": "code",
   "execution_count": null,
   "metadata": {},
   "outputs": [],
   "source": []
  }
 ],
 "metadata": {
  "kernelspec": {
   "display_name": "R",
   "language": "R",
   "name": "ir"
  },
  "language_info": {
   "codemirror_mode": "r",
   "file_extension": ".r",
   "mimetype": "text/x-r-source",
   "name": "R",
   "pygments_lexer": "r",
   "version": "3.6.1"
  }
 },
 "nbformat": 4,
 "nbformat_minor": 2
}
