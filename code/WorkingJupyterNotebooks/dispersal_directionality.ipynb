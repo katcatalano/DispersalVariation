{
 "cells": [
  {
   "cell_type": "code",
   "execution_count": 1,
   "metadata": {},
   "outputs": [],
   "source": [
    "Packages <- c(\"MASS\",\"dplyr\", \"GGally\", \"broom\",\"bbmle\", \"cowplot\",\"ggplot2\",\"stringr\",\"fields\",\"tidyr\",\"lubridate\", \"RColorBrewer\", \"igraph\", \"lubridate\", \"lmtest\", \"car\", \"caret\", \"ROCR\",  \"lme4\", \"glmmTMB\")  \n",
    "\n",
    "invisible(suppressPackageStartupMessages(lapply(Packages, library, character.only = TRUE)))\n",
    "\n",
    "setwd('/local/home/katrinac/parentage/')\n",
    "\n",
    "load(\"~/parentage/r_data/sampled_area_each_year.RData\")\n",
    "load(\"~/parentage/r_data/anems_visited_by_year.RData\")\n",
    "load(\"~/parentage/r_data/total_sampling_across_years.RData\")\n",
    "load(\"~/parentage/r_data/cumulative_prop_hab_sampled_by_site.RData\")\n",
    "fish_meta <- readRDS(\"~/parentage/r_data/fish_meta.rds\")\n",
    "\n",
    "\n",
    "\n",
    "#\n",
    "#leyte <- conleyte()\n",
    "\n",
    "\"%!in%\" <- function(x,table) match(x,table, nomatch = 0) == 0\n",
    "\n",
    "# download the fish_Obsfile\n",
    "#download.file(url = \"https://github.com/pinskylab/genomics/blob/master/data/fish-obs.RData?raw=true\", destfile = \"~/parentage/r_data/fish-obs.RData\")\n",
    "\n",
    "# read in the data\n",
    "#fish_obs <- readRDS(\"~/parentage/r_data/fish-obs.RData\") \n",
    "\n",
    "\n"
   ]
  },
  {
   "cell_type": "markdown",
   "metadata": {},
   "source": [
    "__NB The logit of a fraction is log(p/(1-p)), also know as the log-odds, because p/(1-p) is the odds of success.__"
   ]
  },
  {
   "cell_type": "code",
   "execution_count": null,
   "metadata": {},
   "outputs": [],
   "source": [
    "#three possible ways to look at predictors of dispersal\n",
    "#A: all sampled site combinations, (19x19) 0/1 disp occurred (binomial), doesn't include info about number of \n",
    "#disp events of that trajectory\n",
    "#B: same as above, but with count data rather than 0/1 *** 07/23/2019, I think this is the best option\n",
    "#C: all sampled fish combos (nrow=sampled offs, ncol=sampled \"adults\"). Makes some weird assumptions, like that\n",
    "#all adults are equally likely to have produced the offspring, better might be all offs anem/par anem combos? \n"
   ]
  },
  {
   "cell_type": "code",
   "execution_count": null,
   "metadata": {},
   "outputs": [],
   "source": [
    "head(disp_dist)"
   ]
  },
  {
   "cell_type": "code",
   "execution_count": 27,
   "metadata": {
    "scrolled": true
   },
   "outputs": [],
   "source": [
    "##read in dispersal distance data\n",
    "#disp_dist <- read.csv(file=\"~/parentage/colony2/20200605_1340loci/results//20200624colony_dispersaldirection.csv\", header=T, stringsAsFactors=F) #%>%\n",
    "##fix magbangon spaces\n",
    "#disp_dist$offs_site <- gsub(\". \", \".\", disp_dist$offs_site, fixed=TRUE)\n",
    "#disp_dist$par_site <- gsub(\". \", \".\", disp_dist$par_site, fixed=TRUE)\n",
    "\n",
    "\n",
    "\n",
    "#read in parent and offspring files for all potential disp trajectories\n",
    "parents <- read.table(file=\"~/parentage/colony2/20190523_1340loci/input/all_parents_corrected.txt\", header=T, stringsAsFactors = F)\n",
    "offs <-read.table(file=\"~/parentage/colony2/20190523_1340loci/input/all_offspring_corrected.txt\", header=T, stringsAsFactors = F)\n",
    "\n",
    "\n",
    "#attach sample id to the directionality \n",
    "\n",
    "\n",
    "##for seasonal\n",
    "disp_dist <- read.csv(file=\"~/parentage/kernel_fitting/1340_loci/final_results/tables/RecruitsByMonsoon.csv\", header=T, stringsAsFactors=F) %>%\n",
    "    filter(matched_offs==\"Y\")\n",
    "disp_dist$par_site <- gsub(\". \", \".\", disp_dist$par_site, fixed=TRUE)\n",
    "disp_dist$offs_site <- gsub(\". \", \".\", disp_dist$offs_site, fixed=TRUE)\n",
    "\n",
    "#read in directionality data, don't need the below for annual\n",
    "sites_ns <- read.table(file=\"~/parentage/text_file/sites_NS.txt\", header=T, sep=\",\", stringsAsFactors = F)\n",
    "#fix magbangon spaces\n",
    "sites_ns$site <- gsub(\". \", \".\", sites_ns$site, fixed=TRUE)\n",
    "\n",
    "offs_index <- left_join(disp_dist, sites_ns, by=c(offs_site=\"site\")) %>%\n",
    "    rename(offs_index=\"index\")\n",
    "#don't need below join for interannual\n",
    "par_directionality <- left_join(offs_index, sites_ns, by=c(par_site=\"site\")) %>%\n",
    "    rename(par_index=\"index\") %>%\n",
    "    mutate(direction=ifelse(par_index > offs_index, \"south\", ifelse(par_index < offs_index, \"north\", \"self\"))) #each offspring and parent site has an index number 1-19, North to South. Add in a column for dirrectionality\n",
    "\n"
   ]
  },
  {
   "cell_type": "code",
   "execution_count": null,
   "metadata": {},
   "outputs": [],
   "source": [
    "head(disp_dist)"
   ]
  },
  {
   "cell_type": "code",
   "execution_count": null,
   "metadata": {},
   "outputs": [],
   "source": [
    "disp_dist_sum <- par_directionality %>%\n",
    "    group_by(direction) %>%\n",
    "    summarise(n_obs=n())\n",
    "disp_dist_sum"
   ]
  },
  {
   "cell_type": "code",
   "execution_count": null,
   "metadata": {},
   "outputs": [],
   "source": [
    "disp_dist_sum <- par_directionality %>%\n",
    "    group_by(season) %>%\n",
    "    mutate(n_obs=n()) %>%\n",
    "    mutate(North = sum(direction==\"north\")/n_obs) %>%\n",
    "    mutate(South = sum(direction==\"south\")/n_obs) %>%\n",
    "    mutate(Self = sum(direction==\"self\")/n_obs) %>%\n",
    "    distinct(season, North, South, Self) %>%\n",
    "    gather(direction, proportion, 2:4) %>%\n",
    "    ungroup()\n",
    "\n",
    "disp_dist_sum"
   ]
  },
  {
   "cell_type": "code",
   "execution_count": null,
   "metadata": {},
   "outputs": [],
   "source": [
    "disp_dist_sum <- par_directionality %>%\n",
    "    group_by(season) %>%\n",
    "    mutate(n_obs=n()) %>%\n",
    "    mutate(North = sum(direction==\"north\")/n_obs) %>%\n",
    "    mutate(South = sum(direction==\"south\")/n_obs) %>%\n",
    "    mutate(Self = sum(direction==\"self\")/n_obs) %>%\n",
    "    distinct(season, North, South, Self) %>%\n",
    "    gather(direction, proportion, 2:4) %>%\n",
    "    ungroup()\n",
    "\n",
    "directionality_plot <- ggplot(data=disp_dist_sum, aes(x=season, y=proportion, fill=direction, color=direction)) +\n",
    "    #geom_point(size=8) +\n",
    "    geom_bar(stat = \"identity\") +\n",
    "    annotate(\"text\", x =\"NEM\", y = .95, vjust=1, hjust=.5, label = \"n=11\", size=2, family=\"Helvetica\") +\n",
    "    annotate(\"text\", x =\"SWM\", y = .95, vjust=1, hjust=.5, label = \"n=35\", size=2, family=\"Helvetica\") +\n",
    "    #coord_flip() +\n",
    "    #scale_shape_manual(name=\"Direction\", labels=c(\"North\", \"Self\", \"South\"), values=c(1, 6, 11, 16)) +\n",
    "    scale_color_manual(name=\"Direction\", labels=c(\"North\", \"Self\", \"South\"), values=c(\"darkseagreen\", \"orange\", \"deepskyblue2\"))+\n",
    "    scale_fill_manual(name=\"Direction\", labels=c(\"North\", \"Self\", \"South\"), values=c(\"darkseagreen\", \"orange\", \"deepskyblue2\"))+\n",
    "    ylab(\"Proportion dispersed\") +\n",
    "    xlab(\"Season\") +\n",
    "    theme(axis.title.y=element_text(size=8, color=\"black\", family = \"Helvetica\"),\n",
    "    axis.title.x=element_text(size=8, color=\"black\", family = \"Helvetica\"),\n",
    "    axis.text.x = element_text(size=6, color=\"black\",  hjust=1, vjust=1, family = \"Helvetica\"),\n",
    "    axis.text.y = element_text(size=6, color=\"black\", family = \"Helvetica\")) +\n",
    "    theme(panel.border = element_rect(fill=NA),\n",
    "    panel.grid.major = element_blank(),\n",
    "    panel.grid.minor = element_blank(), panel.background = element_blank(),\n",
    "    axis.line = element_line(colour = \"black\"), \n",
    "    plot.margin=unit(c(0.2,0.2,0.2,2),\"cm\"))+\n",
    "    #theme_linedraw()+\n",
    "    #labs(shape='Direction') +\n",
    "    expand_limits(y = c(0, 1.02)) +\n",
    "    scale_y_continuous(expand=c(0,0)) +\n",
    "    theme(legend.position=\"bottom\", legend.justification = c(.45, 1), legend.direction=\"horizontal\", legend.key = element_blank(), legend.title= element_blank(), legend.text= element_text(size=6, family = \"Helvetica\")) #+\n",
    " #   scale_colour_manual(values = c(\"2012\" = \"darkgoldenrod1\", \"2013\" = \"darkseagreen4\", \"2014\"=\"darkorange2\", \"2015\"=\"deepskyblue4\"))\n",
    "\n",
    "\n",
    "directionality_plot\n",
    "ggsave(filename=\"disp_direction_pub_season.pdf\", plot=directionality_plot,width=30, height=70, units=\"mm\", path=\"~/parentage/colony2/20200605_1340loci/results/\")\n"
   ]
  },
  {
   "cell_type": "code",
   "execution_count": null,
   "metadata": {},
   "outputs": [],
   "source": [
    "##make a figure with pie charts indicating proportion sr/unassigned\n",
    "kernels <- read.csv(file=\"~/parentage/kernel_fitting/1340_loci/final_results/tables/kernel_fitting_summary.csv\", header=T, as.is=T)\n",
    "annualSR_unassigned <- kernels %>%\n",
    "    filter(Year !=\"2012-2018\") %>%\n",
    "    mutate(n_offs_unassigned=NumOffsSampled-NumParentageMatches) %>%\n",
    "    select(Year, NumParentageMatches, n_offs_unassigned, NumOffsSampled) %>%\n",
    "    gather(2:3, key=type, value=number) \n"
   ]
  },
  {
   "cell_type": "code",
   "execution_count": null,
   "metadata": {},
   "outputs": [],
   "source": [
    "kernels"
   ]
  },
  {
   "cell_type": "code",
   "execution_count": null,
   "metadata": {},
   "outputs": [],
   "source": [
    "(disp_dist %>%\n",
    "    group_by(year) %>%\n",
    "    summarise(n_matches=n()))"
   ]
  },
  {
   "cell_type": "markdown",
   "metadata": {},
   "source": [
    "### Plotting"
   ]
  },
  {
   "cell_type": "code",
   "execution_count": null,
   "metadata": {},
   "outputs": [],
   "source": [
    "#simple plots of proportion dispersed in each direction\n",
    "disp_dist_sum <- disp_dist %>%\n",
    "    mutate(year=as.character(year)) %>%\n",
    "    group_by(year) %>%\n",
    "    #group_by(season) %>%\n",
    "    mutate(n_obs=n()) %>%\n",
    "    mutate(North = sum(direction==\"north\")/n_obs) %>%\n",
    "    mutate(South = sum(direction==\"south\")/n_obs) %>%\n",
    "    mutate(Self = sum(direction==\"self\")/n_obs) %>%\n",
    "    distinct(year, North, South, Self) %>%\n",
    "    gather(direction, proportion, 2:4) %>%\n",
    "    ungroup()\n",
    "\n",
    "disp_dist_sum$year <-factor(disp_dist_sum$year, levels=c(\"2012\",\"2013\", \"2014\", \"2015\", \"2016\", \"2017\", \"2018\"))\n",
    "\n",
    "\n",
    "#plot the proportions\n",
    "directionality_plot <- ggplot(data=disp_dist_sum, aes(x=year, y=proportion, fill=direction, color=direction)) +\n",
    "    #geom_point(size=8) +\n",
    "    geom_bar(stat = \"identity\") +\n",
    "    annotate(\"text\", x =\"2012\", y = .95, vjust=1, hjust=.5, label = \"n=3\", size=2, family=\"Helvetica\") +\n",
    "    annotate(\"text\", x =\"2013\", y = .95, vjust=1, hjust=.5, label = \"n=21\", size=2, family=\"Helvetica\") +\n",
    "    annotate(\"text\", x =\"2014\", y = .95, vjust=1, hjust=.5, label = \"n=13\", size=2, family=\"Helvetica\") +\n",
    "    annotate(\"text\", x =\"2015\", y = .95, vjust=1, hjust=.5, label = \"n=11\", size=2, family=\"Helvetica\") +\n",
    "    annotate(\"text\", x =\"2016\", y = .95, vjust=1, hjust=.5, label = \"n=6\", size=2, family=\"Helvetica\") +\n",
    "    annotate(\"text\", x =\"2017\", y = .95, vjust=1, hjust=.5, label = \"n=13\", size=2, family=\"Helvetica\") +\n",
    "    annotate(\"text\", x =\"2018\", y = .95, vjust=1, hjust=.5, label = \"n=4\", size=2, family=\"Helvetica\") +\n",
    "    #coord_flip() +\n",
    "    #scale_shape_manual(name=\"Direction\", labels=c(\"North\", \"Self\", \"South\"), values=c(1, 6, 11, 16)) +\n",
    "    scale_color_manual(name=\"Direction\", labels=c(\"North\", \"Self\", \"South\"), values=c(\"darkseagreen\", \"orange\", \"deepskyblue2\"))+\n",
    "    scale_fill_manual(name=\"Direction\", labels=c(\"North\", \"Self\", \"South\"), values=c(\"darkseagreen\", \"orange\", \"deepskyblue2\"))+\n",
    "    ylab(\"Proportion dispersed\") +\n",
    "    xlab(\"Year\") +\n",
    "    theme(axis.title.y=element_text(size=8, color=\"black\", family = \"Helvetica\"),\n",
    "    axis.title.x=element_text(size=8, color=\"black\", family = \"Helvetica\"),\n",
    "    axis.text.x = element_text(size=6, color=\"black\",  hjust=.5, vjust=1, family = \"Helvetica\"),\n",
    "    axis.text.y = element_text(size=6, color=\"black\", family = \"Helvetica\")) +\n",
    "    theme(panel.border = element_rect(fill=NA),\n",
    "    panel.grid.major = element_blank(),\n",
    "    panel.grid.minor = element_blank(), panel.background = element_blank(),\n",
    "    axis.line = element_line(colour = \"black\"), \n",
    "    plot.margin=unit(c(0.2,0.2,0.2,2),\"cm\"))+\n",
    "    #theme_linedraw()+\n",
    "    #labs(shape='Direction') +\n",
    "    expand_limits(y = c(0, 1.02)) +\n",
    "    scale_y_continuous(expand=c(0,0)) +\n",
    "    theme(legend.position=\"bottom\", legend.justification = c(.45, 1), legend.direction=\"horizontal\", legend.key = element_blank(), legend.title= element_blank(), legend.text= element_text(size=6, family = \"Helvetica\")) #+\n",
    " #   scale_colour_manual(values = c(\"2012\" = \"darkgoldenrod1\", \"2013\" = \"darkseagreen4\", \"2014\"=\"darkorange2\", \"2015\"=\"deepskyblue4\"))\n",
    "\n",
    "\n",
    "directionality_plot\n",
    "ggsave(filename=\"disp_direction_pub.eps\", plot=directionality_plot,width=83, height=70, units=\"mm\", path=\"~/parentage/colony2/20200605_1340loci/results/\")\n",
    "\n",
    "\n"
   ]
  },
  {
   "cell_type": "code",
   "execution_count": null,
   "metadata": {},
   "outputs": [],
   "source": [
    "mycols <- c(\"darkgray\", \"black\")\n",
    "\n",
    "pie18 <- ggplot((annualSR_unassigned %>%\n",
    "    filter(Year==\"2018\")), aes(x = \"\", y = number, fill=type), colors=type) +\n",
    "    geom_bar(width = 1, stat = \"identity\") +\n",
    "    coord_polar(\"y\", start = 0)+\n",
    "    #geom_text(aes(y = number-(number/2), label = number), color=\"white\", size=12, family=\"Helvetica\")+\n",
    "    scale_fill_manual(name=NULL, labels=c(\"Unassigned juveniles\", \"Assigned juveniles\"), values = mycols) +\n",
    "    scale_color_manual(values = mycols) +\n",
    "    theme_void()+\n",
    "    theme(legend.position=\"top\", legend.margin=margin(0,0,0,0), legend.key = element_blank(), legend.spacing.x = unit(1.0, 'cm'), legend.spacing. = unit(.5, 'cm'),\n",
    "    legend.box.margin=margin(c(0,0,0,0)), legend.title= element_text(size=12, family = \"Helvetica\"), legend.text= element_text(size=12, family = \"Helvetica\")) \n",
    "    #theme(legend.position=\"none\")\n",
    "#only a legend the bottom pie\n",
    "\n",
    "pie18"
   ]
  },
  {
   "cell_type": "code",
   "execution_count": null,
   "metadata": {
    "scrolled": false
   },
   "outputs": [],
   "source": [
    "pierow <- plot_grid( pie12 + theme(legend.position=\"none\"),\n",
    "        pie13 + theme(legend.position=\"none\"),\n",
    "        pie14 + theme(legend.position=\"none\"),\n",
    "        pie15 + theme(legend.position=\"none\"),\n",
    "        pie16 + theme(legend.position=\"none\"),\n",
    "        pie17 + theme(legend.position=\"none\"),\n",
    "        pie18 + theme(legend.position=\"none\"),\n",
    "        align = 'h',\n",
    "        hjust = -1,\n",
    "        nrow = 1\n",
    "           )\n",
    "\n",
    "#ggsave(filename=\"pie18.png\", plot=pie18, path=\"~/parentage/colony2/20190523_1340loci/results/\")\n",
    "\n",
    "legend <- get_legend(pie12 + theme(legend.position=\"top\",legend.margin=margin(0,0,0,0)))\n",
    "\n",
    "# add the legend to the row we made earlier. Give it one-third of the width\n",
    "# of one plot (via rel_widths).\n",
    "pie_fin <- suppressWarnings(plot_grid(legend, pierow, directionality_plot, ncol=1,  rel_heights = c(.3, .5, 3), rel_widths = c(.3, .5, 2)))\n",
    "suppressWarnings(pie_fin)\n",
    "ggsave(filename=\"directionality_pie.pdf\", plot=pie_fin, path=\"~/parentage/colony2/20200605_1340loci/results/\")\n",
    "\n"
   ]
  },
  {
   "cell_type": "code",
   "execution_count": null,
   "metadata": {
    "scrolled": false
   },
   "outputs": [],
   "source": [
    "dim(annualSR_unassigned)\n",
    "dim(disp_dist)\n",
    "dim(disp_dist_obs_beta)\n",
    "dim(disp_dist_obs_beta2)"
   ]
  },
  {
   "cell_type": "markdown",
   "metadata": {},
   "source": [
    "## glm"
   ]
  },
  {
   "cell_type": "code",
   "execution_count": 37,
   "metadata": {
    "scrolled": false
   },
   "outputs": [
    {
     "data": {
      "text/html": [
       "361"
      ],
      "text/latex": [
       "361"
      ],
      "text/markdown": [
       "361"
      ],
      "text/plain": [
       "[1] 361"
      ]
     },
     "metadata": {},
     "output_type": "display_data"
    },
    {
     "data": {
      "text/html": [
       "361"
      ],
      "text/latex": [
       "361"
      ],
      "text/markdown": [
       "361"
      ],
      "text/plain": [
       "[1] 361"
      ]
     },
     "metadata": {},
     "output_type": "display_data"
    },
    {
     "data": {
      "text/html": [
       "46"
      ],
      "text/latex": [
       "46"
      ],
      "text/markdown": [
       "46"
      ],
      "text/plain": [
       "[1] 46"
      ]
     },
     "metadata": {},
     "output_type": "display_data"
    },
    {
     "data": {
      "text/html": [
       "722"
      ],
      "text/latex": [
       "722"
      ],
      "text/markdown": [
       "722"
      ],
      "text/plain": [
       "[1] 722"
      ]
     },
     "metadata": {},
     "output_type": "display_data"
    }
   ],
   "source": [
    "#read in directionality data\n",
    "sites_ns <- read.table(file=\"~/parentage/text_file/sites_NS.txt\", header=T, sep=\",\", stringsAsFactors = F)\n",
    "#fix magbangon spaces\n",
    "sites_ns$site <- gsub(\". \", \".\", sites_ns$site, fixed=TRUE)\n",
    "\n",
    "#read in centroids for distance calculation\n",
    "centroids <- read.csv(\"~/parentage/kernel_fitting/1340_loci/input/site_centroids.csv\", header=TRUE, stringsAsFactors = F) %>%\n",
    "    filter(site %in% sites_ns$site)\n",
    "#account for sites sampled in each year\n",
    "\n",
    "#read in demography estimates, correct for NaN/Inf values\n",
    "prop_samp <- cumulative_prop_hab_sampled_by_site %>%\n",
    "    filter(time_frame==\"2012-2018\") %>% #for seasons\n",
    "    mutate(total_possible_sample_anems = ifelse(site==\"Caridad Proper\", 4, total_possible_sample_anems) ) %>%\n",
    "    mutate(total_prop_hab_sampled_anems_tidied= ifelse(site==\"Caridad Proper\" & total_anems_sampled==4, 1, total_prop_hab_sampled_anems_tidied) ) %>%\n",
    "    mutate(total_possible_sample_anems = ifelse(site==\"Sitio Lonas\", total_anems_sampled, total_possible_sample_anems) ) %>%\n",
    "    mutate(total_prop_hab_sampled_anems_tidied= ifelse(site==\"Sitio Lonas\", 1, total_prop_hab_sampled_anems_tidied) ) %>%\n",
    "    select(site, end_year, total_prop_hab_sampled_anems_tidied, total_possible_sample_anems) %>%\n",
    "    rename(prop_habitat_sampled = \"total_prop_hab_sampled_anems_tidied\", year=\"end_year\", total_anems= \"total_possible_sample_anems\") \n",
    "\n",
    "prop_samp$prop_habitat_sampled[is.nan(prop_samp$prop_habitat_sampled)] <- 0\n",
    "prop_samp$site <- gsub(\". \", \".\", prop_samp$site, fixed=TRUE)\n",
    "\n",
    "\n",
    "#join with centroids to get all distance\n",
    "\n",
    "annual_sampled_dists <- left_join(centroids, prop_samp, by=\"site\")\n",
    "\n",
    "\n",
    "#\n",
    "##calculate the distance from all potential parents and all potential offspring\n",
    "all_possible_dists <- as.data.frame(rdist.earth(as.matrix(centroids[,c('lon', 'lat')]), as.matrix(centroids[,c('lon', 'lat')]), miles=FALSE, R=6371))\n",
    "#\n",
    "##attach the sample_ids to each distance, so you can also get site and year\n",
    "colnames(all_possible_dists) <- centroids$site\n",
    "all_possible_dists$site_i <- centroids$site\n",
    "#\n",
    "##gather into tidy \n",
    "all_possible_dists_tidy <- all_possible_dists %>%\n",
    "    select(site_i, everything()) %>%\n",
    "    gather(2:20, key=site_j, value=dist) \n",
    "nrow(all_possible_dists_tidy)\n",
    "19*19 #check that these two are the same\n",
    "\n",
    "#add back in the data on year and proportion sampled\n",
    "dists_meta <- left_join(all_possible_dists_tidy, prop_samp, by=c(site_i=\"site\")) %>%\n",
    "                    rename(prop_samp_i=\"prop_habitat_sampled\", total_anems_i = \"total_anems\") %>%\n",
    "                    select(-year) #only for seasons\n",
    "dists_meta2 <- left_join(dists_meta, prop_samp, by=c(site_j=\"site\")) %>% #join by year too for annual\n",
    "                    rename(prop_samp_j=\"prop_habitat_sampled\", total_anems_j = \"total_anems\") %>% #for seasons get rid of the years\n",
    "                    distinct(site_i, site_j, .keep_all=T)  %>%#comment out for year\n",
    "                    select(-year) #only for seasons\n",
    "\n",
    "#add in directionality\n",
    "\n",
    "#site_i==origin, site_j==destination\n",
    "site_i_index <- left_join(dists_meta2, sites_ns, by=c(site_i =\"site\")) %>%\n",
    "    rename(site_i_index=\"index\")\n",
    "\n",
    "site_directionality <- left_join(site_i_index, sites_ns, by=c(site_j=\"site\")) %>%\n",
    "    rename(site_j_index=\"index\") %>%\n",
    "    mutate(direction=ifelse(site_j_index > site_i_index, \"south\", ifelse(site_j_index < site_i_index, \"north\", \"self\"))) #%>%  #each offspring and parent site has an index number 1-19, North to South. Add in a column for dirrectionality\n",
    "    #filter(prop_samp_j !=0)#remove any site-site rows where we didn't sample site_j (offspring site) we couldn't observe these dispersal trajectories\n",
    "#for seasons, need 2 site_directionality, one for NEM, one for SWM\n",
    "site_directionality1 <- site_directionality %>%\n",
    "    mutate(season=\"NEM\")\n",
    "site_directionality2 <- site_directionality %>%\n",
    "    mutate(season=\"SWM\")\n",
    "site_directionality <- bind_rows(site_directionality1, site_directionality2)\n",
    "#finally, join in the data on observed trajectories\n",
    "disp_dist_obs_beta <- disp_dist %>%\n",
    "    #distinct(fish_indiv, .keep_all=T) %>%\n",
    "    select(offs_site, par_site, season) %>%\n",
    "    #mutate(year=as.character(year)) %>%\n",
    "    group_by(season, offs_site, par_site) %>%\n",
    "    summarise(n_obs=n()) %>%\n",
    "    ungroup()\n",
    "\n",
    "#disp_dist_obs_beta2 <- left_join(disp_dist_obs_beta, annualSR_unassigned, by=c(year=\"Year\")) %>%\n",
    "#    select(-type) %>%\n",
    "#    #group_by(par_site, offs_site, year) %>%\n",
    "#    distinct(season, par_site,offs_site, .keep_all = T)\n",
    "\n",
    "disp_dist_obs <- full_join(site_directionality, disp_dist_obs_beta, by=c(site_j=\"offs_site\", site_i=\"par_site\", \"season\")) %>%     #join by year for annual\n",
    "    mutate(n_obs=ifelse(is.na(n_obs), 0, n_obs)) %>% \n",
    "    distinct(site_i, site_j, season, .keep_all = T) %>%\n",
    "    #group_by(season) %>%\n",
    "    ##mutate(prop_disp = n_obs/NumOffsSampled) %>%\n",
    "    ##mutate(prop_disp=ifelse(is.na(prop_disp), 0, prop_disp)) %>%\n",
    "    mutate(bi_disp = ifelse(n_obs>0, 1, 0)) %>%\n",
    "    mutate(bi_disp=as.factor(bi_disp)) %>%\n",
    "    #ungroup() %>%\n",
    "    #mutate(dist_direction=ifelse(direction==\"north\", 1*dist, ifelse(direction==\"south\", -1*dist, 0))) %>% # code direction as a negative or positive sign on the distance value, self is 0\n",
    "    mutate(bi_direction=ifelse(direction==\"north\", 1, ifelse(direction==\"south\", -1, 0))) #%>%\n",
    "    #filter(!is.na(season))#for seasonal, omit larvae who weren't assigned to a season\n",
    "\n",
    "sum(disp_dist_obs$n_obs) #should be 71 for annual, 46 for seasonal\n",
    "## add \"season\" for seasonal\n",
    "nrow(disp_dist_obs)"
   ]
  },
  {
   "cell_type": "code",
   "execution_count": 38,
   "metadata": {},
   "outputs": [
    {
     "data": {
      "text/html": [
       "2527"
      ],
      "text/latex": [
       "2527"
      ],
      "text/markdown": [
       "2527"
      ],
      "text/plain": [
       "[1] 2527"
      ]
     },
     "metadata": {},
     "output_type": "display_data"
    },
    {
     "data": {
      "text/html": [
       "722"
      ],
      "text/latex": [
       "722"
      ],
      "text/markdown": [
       "722"
      ],
      "text/plain": [
       "[1] 722"
      ]
     },
     "metadata": {},
     "output_type": "display_data"
    }
   ],
   "source": [
    "361*7\n",
    "361*2"
   ]
  },
  {
   "cell_type": "code",
   "execution_count": 47,
   "metadata": {},
   "outputs": [
    {
     "data": {
      "text/html": [
       "<table>\n",
       "<thead><tr><th scope=col>site_i</th><th scope=col>site_j</th><th scope=col>dist</th><th scope=col>prop_samp_i</th><th scope=col>total_anems_i</th><th scope=col>prop_samp_j</th><th scope=col>total_anems_j</th><th scope=col>site_i_index</th><th scope=col>site_j_index</th><th scope=col>direction</th><th scope=col>season</th><th scope=col>n_obs</th><th scope=col>bi_disp</th><th scope=col>bi_direction</th></tr></thead>\n",
       "<tbody>\n",
       "\t<tr><td>Cabatoan         </td><td>Cabatoan         </td><td> 0.000000        </td><td>0.5109890        </td><td>182              </td><td>0.510989         </td><td>182              </td><td> 5               </td><td>5                </td><td>self             </td><td>NEM              </td><td>0                </td><td>0                </td><td>0                </td></tr>\n",
       "\t<tr><td>Caridad Cemetery </td><td>Cabatoan         </td><td> 3.038692        </td><td>0.3928571        </td><td> 28              </td><td>0.510989         </td><td>182              </td><td> 6               </td><td>5                </td><td>north            </td><td>NEM              </td><td>0                </td><td>0                </td><td>1                </td></tr>\n",
       "\t<tr><td>Caridad Proper   </td><td>Cabatoan         </td><td> 3.789504        </td><td>1.0000000        </td><td>  4              </td><td>0.510989         </td><td>182              </td><td> 7               </td><td>5                </td><td>north            </td><td>NEM              </td><td>0                </td><td>0                </td><td>1                </td></tr>\n",
       "\t<tr><td>Elementary School</td><td>Cabatoan         </td><td> 7.740421        </td><td>0.7551020        </td><td> 49              </td><td>0.510989         </td><td>182              </td><td>10               </td><td>5                </td><td>north            </td><td>NEM              </td><td>0                </td><td>0                </td><td>1                </td></tr>\n",
       "\t<tr><td>Gabas            </td><td>Cabatoan         </td><td>15.924821        </td><td>0.2222222        </td><td> 63              </td><td>0.510989         </td><td>182              </td><td>16               </td><td>5                </td><td>north            </td><td>NEM              </td><td>0                </td><td>0                </td><td>1                </td></tr>\n",
       "\t<tr><td>Haina            </td><td>Cabatoan         </td><td>24.577900        </td><td>0.2527473        </td><td>728              </td><td>0.510989         </td><td>182              </td><td>18               </td><td>5                </td><td>north            </td><td>NEM              </td><td>0                </td><td>0                </td><td>1                </td></tr>\n",
       "</tbody>\n",
       "</table>\n"
      ],
      "text/latex": [
       "\\begin{tabular}{r|llllllllllllll}\n",
       " site\\_i & site\\_j & dist & prop\\_samp\\_i & total\\_anems\\_i & prop\\_samp\\_j & total\\_anems\\_j & site\\_i\\_index & site\\_j\\_index & direction & season & n\\_obs & bi\\_disp & bi\\_direction\\\\\n",
       "\\hline\n",
       "\t Cabatoan          & Cabatoan          &  0.000000         & 0.5109890         & 182               & 0.510989          & 182               &  5                & 5                 & self              & NEM               & 0                 & 0                 & 0                \\\\\n",
       "\t Caridad Cemetery  & Cabatoan          &  3.038692         & 0.3928571         &  28               & 0.510989          & 182               &  6                & 5                 & north             & NEM               & 0                 & 0                 & 1                \\\\\n",
       "\t Caridad Proper    & Cabatoan          &  3.789504         & 1.0000000         &   4               & 0.510989          & 182               &  7                & 5                 & north             & NEM               & 0                 & 0                 & 1                \\\\\n",
       "\t Elementary School & Cabatoan          &  7.740421         & 0.7551020         &  49               & 0.510989          & 182               & 10                & 5                 & north             & NEM               & 0                 & 0                 & 1                \\\\\n",
       "\t Gabas             & Cabatoan          & 15.924821         & 0.2222222         &  63               & 0.510989          & 182               & 16                & 5                 & north             & NEM               & 0                 & 0                 & 1                \\\\\n",
       "\t Haina             & Cabatoan          & 24.577900         & 0.2527473         & 728               & 0.510989          & 182               & 18                & 5                 & north             & NEM               & 0                 & 0                 & 1                \\\\\n",
       "\\end{tabular}\n"
      ],
      "text/markdown": [
       "\n",
       "| site_i | site_j | dist | prop_samp_i | total_anems_i | prop_samp_j | total_anems_j | site_i_index | site_j_index | direction | season | n_obs | bi_disp | bi_direction |\n",
       "|---|---|---|---|---|---|---|---|---|---|---|---|---|---|\n",
       "| Cabatoan          | Cabatoan          |  0.000000         | 0.5109890         | 182               | 0.510989          | 182               |  5                | 5                 | self              | NEM               | 0                 | 0                 | 0                 |\n",
       "| Caridad Cemetery  | Cabatoan          |  3.038692         | 0.3928571         |  28               | 0.510989          | 182               |  6                | 5                 | north             | NEM               | 0                 | 0                 | 1                 |\n",
       "| Caridad Proper    | Cabatoan          |  3.789504         | 1.0000000         |   4               | 0.510989          | 182               |  7                | 5                 | north             | NEM               | 0                 | 0                 | 1                 |\n",
       "| Elementary School | Cabatoan          |  7.740421         | 0.7551020         |  49               | 0.510989          | 182               | 10                | 5                 | north             | NEM               | 0                 | 0                 | 1                 |\n",
       "| Gabas             | Cabatoan          | 15.924821         | 0.2222222         |  63               | 0.510989          | 182               | 16                | 5                 | north             | NEM               | 0                 | 0                 | 1                 |\n",
       "| Haina             | Cabatoan          | 24.577900         | 0.2527473         | 728               | 0.510989          | 182               | 18                | 5                 | north             | NEM               | 0                 | 0                 | 1                 |\n",
       "\n"
      ],
      "text/plain": [
       "  site_i            site_j   dist      prop_samp_i total_anems_i prop_samp_j\n",
       "1 Cabatoan          Cabatoan  0.000000 0.5109890   182           0.510989   \n",
       "2 Caridad Cemetery  Cabatoan  3.038692 0.3928571    28           0.510989   \n",
       "3 Caridad Proper    Cabatoan  3.789504 1.0000000     4           0.510989   \n",
       "4 Elementary School Cabatoan  7.740421 0.7551020    49           0.510989   \n",
       "5 Gabas             Cabatoan 15.924821 0.2222222    63           0.510989   \n",
       "6 Haina             Cabatoan 24.577900 0.2527473   728           0.510989   \n",
       "  total_anems_j site_i_index site_j_index direction season n_obs bi_disp\n",
       "1 182            5           5            self      NEM    0     0      \n",
       "2 182            6           5            north     NEM    0     0      \n",
       "3 182            7           5            north     NEM    0     0      \n",
       "4 182           10           5            north     NEM    0     0      \n",
       "5 182           16           5            north     NEM    0     0      \n",
       "6 182           18           5            north     NEM    0     0      \n",
       "  bi_direction\n",
       "1 0           \n",
       "2 1           \n",
       "3 1           \n",
       "4 1           \n",
       "5 1           \n",
       "6 1           "
      ]
     },
     "metadata": {},
     "output_type": "display_data"
    }
   ],
   "source": [
    "head(disp_dist_obs)"
   ]
  },
  {
   "cell_type": "code",
   "execution_count": 20,
   "metadata": {},
   "outputs": [
    {
     "name": "stderr",
     "output_type": "stream",
     "text": [
      "Warning message:\n",
      "“glm.fit: fitted probabilities numerically 0 or 1 occurred”Warning message:\n",
      "“glm.fit: fitted probabilities numerically 0 or 1 occurred”"
     ]
    }
   ],
   "source": [
    "#annual\n",
    "full <- glm(bi_disp ~ prop_samp_j + prop_samp_i+ total_anems_i+ total_anems_j +dist+ bi_direction*year, data=disp_dist_obs, family=\"binomial\")\n",
    "no_int <- glm(bi_disp ~ prop_samp_j + prop_samp_i+ total_anems_i+ total_anems_j + dist+ bi_direction +year, data=disp_dist_obs, family=\"binomial\")\n",
    "no_year <- glm(bi_disp ~ prop_samp_j + prop_samp_i +dist+bi_direction, data=disp_dist_obs, family=\"binomial\")\n",
    "no_dist_direction <- glm(bi_disp ~ prop_samp_j + prop_samp_i+ total_anems_i+ total_anems_j + bi_direction, data=disp_dist_obs, family=\"binomial\")\n",
    "no_prop_sampi <- glm(bi_disp ~ prop_samp_j + + total_anems_i+ total_anems_j + dist+bi_direction +year, data=disp_dist_obs, family=\"binomial\")\n",
    "no_prop_sampj <- glm(bi_disp ~ prop_samp_i + total_anems_i+ total_anems_j + dist+bi_direction +year, data=disp_dist_obs, family=\"binomial\")\n",
    "no_anemsi <- glm(bi_disp ~ prop_samp_j + prop_samp_i+ total_anems_j + dist+bi_direction +year, data=disp_dist_obs, family=\"binomial\")\n",
    "no_anemsj <- glm(bi_disp ~ prop_samp_j + prop_samp_i+ total_anems_i + dist+bi_direction +year, data=disp_dist_obs, family=\"binomial\")\n",
    "no_prop_samp <- glm(bi_disp ~dist+bi_direction + total_anems_i+ total_anems_j +year, data=disp_dist_obs, family=\"binomial\")\n",
    "no_prop_samp_with_int <- glm(bi_disp ~ total_anems_i+ total_anems_j + dist+bi_direction*year, data=disp_dist_obs, family=\"binomial\")\n",
    "\n",
    "null <- glm(bi_disp ~dist, data=disp_dist_obs, family=\"binomial\")\n",
    "\n",
    "\n"
   ]
  },
  {
   "cell_type": "code",
   "execution_count": 21,
   "metadata": {},
   "outputs": [
    {
     "data": {
      "text/plain": [
       "\n",
       "Call:\n",
       "glm(formula = bi_disp ~ dist + bi_direction + total_anems_i + \n",
       "    total_anems_j + year, family = \"binomial\", data = disp_dist_obs)\n",
       "\n",
       "Deviance Residuals: \n",
       "    Min       1Q   Median       3Q      Max  \n",
       "-1.3760  -0.1928  -0.1313  -0.0751   3.3972  \n",
       "\n",
       "Coefficients:\n",
       "                Estimate Std. Error z value Pr(>|z|)    \n",
       "(Intercept)   -4.5976908  0.5976703  -7.693 1.44e-14 ***\n",
       "dist          -0.0518183  0.0179645  -2.884  0.00392 ** \n",
       "bi_direction  -0.1600104  0.1643840  -0.973  0.33036    \n",
       "total_anems_i  0.0020629  0.0003358   6.143 8.11e-10 ***\n",
       "total_anems_j  0.0021326  0.0003382   6.306 2.87e-10 ***\n",
       "year2013       1.0979329  0.6538448   1.679  0.09311 .  \n",
       "year2014       0.2607314  0.6982473   0.373  0.70884    \n",
       "year2015       0.0106549  0.7070376   0.015  0.98798    \n",
       "year2016      -1.3764892  0.8366836  -1.645  0.09993 .  \n",
       "year2017      -1.4658586  0.8394267  -1.746  0.08077 .  \n",
       "year2018      -3.4926996  1.1037457  -3.164  0.00155 ** \n",
       "---\n",
       "Signif. codes:  0 ‘***’ 0.001 ‘**’ 0.01 ‘*’ 0.05 ‘.’ 0.1 ‘ ’ 1\n",
       "\n",
       "(Dispersion parameter for binomial family taken to be 1)\n",
       "\n",
       "    Null deviance: 483.45  on 2526  degrees of freedom\n",
       "Residual deviance: 389.76  on 2516  degrees of freedom\n",
       "AIC: 411.76\n",
       "\n",
       "Number of Fisher Scoring iterations: 8\n"
      ]
     },
     "metadata": {},
     "output_type": "display_data"
    }
   ],
   "source": [
    "summary(no_prop_samp)\n",
    "\n",
    "directionality_results <- tidy(no_prop_samp)\n",
    "#write.csv(directionality_results, file=\"~/parentage/colony2/20200605_1340loci/results/DispLogRegressionModSummaryYear.csv\",row.names=F,  quote=F)\n"
   ]
  },
  {
   "cell_type": "code",
   "execution_count": 23,
   "metadata": {},
   "outputs": [
    {
     "data": {
      "text/html": [
       "<table>\n",
       "<thead><tr><th scope=col>df</th><th scope=col>AIC</th><th scope=col>model</th></tr></thead>\n",
       "<tbody>\n",
       "\t<tr><td>11                   </td><td>411.7621             </td><td>no_prop_samp         </td></tr>\n",
       "\t<tr><td>12                   </td><td>413.5395             </td><td>no_prop_sampj        </td></tr>\n",
       "\t<tr><td>12                   </td><td>413.7436             </td><td>no_prop_sampi        </td></tr>\n",
       "\t<tr><td>13                   </td><td>415.5132             </td><td>no_int               </td></tr>\n",
       "\t<tr><td>17                   </td><td>416.8221             </td><td>no_prop_samp_with_int</td></tr>\n",
       "\t<tr><td>19                   </td><td>420.6347             </td><td>full                 </td></tr>\n",
       "\t<tr><td>12                   </td><td>446.4763             </td><td>no_anemsi            </td></tr>\n",
       "\t<tr><td> 6                   </td><td>448.8923             </td><td>no_dist_direction    </td></tr>\n",
       "\t<tr><td>12                   </td><td>450.2666             </td><td>no_anemsj            </td></tr>\n",
       "\t<tr><td> 5                   </td><td>483.6880             </td><td>no_year              </td></tr>\n",
       "\t<tr><td> 2                   </td><td>485.2611             </td><td>null                 </td></tr>\n",
       "</tbody>\n",
       "</table>\n"
      ],
      "text/latex": [
       "\\begin{tabular}{r|lll}\n",
       " df & AIC & model\\\\\n",
       "\\hline\n",
       "\t 11                        & 411.7621                  & no\\_prop\\_samp         \\\\\n",
       "\t 12                        & 413.5395                  & no\\_prop\\_sampj        \\\\\n",
       "\t 12                        & 413.7436                  & no\\_prop\\_sampi        \\\\\n",
       "\t 13                      & 415.5132                & no\\_int               \\\\\n",
       "\t 17                            & 416.8221                      & no\\_prop\\_samp\\_with\\_int\\\\\n",
       "\t 19                    & 420.6347              & full                 \\\\\n",
       "\t 12                      & 446.4763                & no\\_anemsi            \\\\\n",
       "\t  6                        & 448.8923                  & no\\_dist\\_direction    \\\\\n",
       "\t 12                      & 450.2666                & no\\_anemsj            \\\\\n",
       "\t  5                      & 483.6880                & no\\_year              \\\\\n",
       "\t  2                    & 485.2611              & null                 \\\\\n",
       "\\end{tabular}\n"
      ],
      "text/markdown": [
       "\n",
       "| df | AIC | model |\n",
       "|---|---|---|\n",
       "| 11                    | 411.7621              | no_prop_samp          |\n",
       "| 12                    | 413.5395              | no_prop_sampj         |\n",
       "| 12                    | 413.7436              | no_prop_sampi         |\n",
       "| 13                    | 415.5132              | no_int                |\n",
       "| 17                    | 416.8221              | no_prop_samp_with_int |\n",
       "| 19                    | 420.6347              | full                  |\n",
       "| 12                    | 446.4763              | no_anemsi             |\n",
       "|  6                    | 448.8923              | no_dist_direction     |\n",
       "| 12                    | 450.2666              | no_anemsj             |\n",
       "|  5                    | 483.6880              | no_year               |\n",
       "|  2                    | 485.2611              | null                  |\n",
       "\n"
      ],
      "text/plain": [
       "   df AIC      model                \n",
       "1  11 411.7621 no_prop_samp         \n",
       "2  12 413.5395 no_prop_sampj        \n",
       "3  12 413.7436 no_prop_sampi        \n",
       "4  13 415.5132 no_int               \n",
       "5  17 416.8221 no_prop_samp_with_int\n",
       "6  19 420.6347 full                 \n",
       "7  12 446.4763 no_anemsi            \n",
       "8   6 448.8923 no_dist_direction    \n",
       "9  12 450.2666 no_anemsj            \n",
       "10  5 483.6880 no_year              \n",
       "11  2 485.2611 null                 "
      ]
     },
     "metadata": {},
     "output_type": "display_data"
    },
    {
     "data": {
      "text/plain": [
       "\n",
       "Call:\n",
       "glm(formula = bi_disp ~ dist + bi_direction + total_anems_i + \n",
       "    total_anems_j + year, family = \"binomial\", data = disp_dist_obs)\n",
       "\n",
       "Deviance Residuals: \n",
       "    Min       1Q   Median       3Q      Max  \n",
       "-1.3760  -0.1928  -0.1313  -0.0751   3.3972  \n",
       "\n",
       "Coefficients:\n",
       "                Estimate Std. Error z value Pr(>|z|)    \n",
       "(Intercept)   -4.5976908  0.5976703  -7.693 1.44e-14 ***\n",
       "dist          -0.0518183  0.0179645  -2.884  0.00392 ** \n",
       "bi_direction  -0.1600104  0.1643840  -0.973  0.33036    \n",
       "total_anems_i  0.0020629  0.0003358   6.143 8.11e-10 ***\n",
       "total_anems_j  0.0021326  0.0003382   6.306 2.87e-10 ***\n",
       "year2013       1.0979329  0.6538448   1.679  0.09311 .  \n",
       "year2014       0.2607314  0.6982473   0.373  0.70884    \n",
       "year2015       0.0106549  0.7070376   0.015  0.98798    \n",
       "year2016      -1.3764892  0.8366836  -1.645  0.09993 .  \n",
       "year2017      -1.4658586  0.8394267  -1.746  0.08077 .  \n",
       "year2018      -3.4926996  1.1037457  -3.164  0.00155 ** \n",
       "---\n",
       "Signif. codes:  0 ‘***’ 0.001 ‘**’ 0.01 ‘*’ 0.05 ‘.’ 0.1 ‘ ’ 1\n",
       "\n",
       "(Dispersion parameter for binomial family taken to be 1)\n",
       "\n",
       "    Null deviance: 483.45  on 2526  degrees of freedom\n",
       "Residual deviance: 389.76  on 2516  degrees of freedom\n",
       "AIC: 411.76\n",
       "\n",
       "Number of Fisher Scoring iterations: 8\n"
      ]
     },
     "metadata": {},
     "output_type": "display_data"
    }
   ],
   "source": [
    "aic <- as.data.frame(AIC(null, no_year, no_dist_direction, no_prop_samp, no_prop_sampi, no_prop_sampj, no_anemsi, no_anemsj, no_int, no_prop_samp_with_int, full))\n",
    "aic$model <- row.names(aic)\n",
    "aic <- aic %>% arrange(AIC)\n",
    "\n",
    "#write.csv(aic, file=\"~/parentage/colony2/20200605_1340loci/results/DispLogRegressionModAICAnnual.csv\",row.names=F,  quote=F)\n",
    "\n",
    "\n",
    "aic %>% arrange(AIC)\n",
    "\n",
    "\n",
    "summary(no_prop_samp)\n",
    "\n",
    "directionality_results <- tidy(no_prop_samp)\n",
    "#write.csv(directionality_results, file=\"~/parentage/colony2/20200605_1340loci/results/DispLogRegressionModSummaryAnnual.csv\",row.names=F,  quote=F)\n"
   ]
  },
  {
   "cell_type": "code",
   "execution_count": null,
   "metadata": {},
   "outputs": [],
   "source": []
  },
  {
   "cell_type": "code",
   "execution_count": null,
   "metadata": {},
   "outputs": [],
   "source": []
  },
  {
   "cell_type": "code",
   "execution_count": null,
   "metadata": {},
   "outputs": [],
   "source": [
    "nrow(disp_dist_obs)"
   ]
  },
  {
   "cell_type": "code",
   "execution_count": 39,
   "metadata": {},
   "outputs": [],
   "source": [
    "#seasonal\n",
    "full <- glm(bi_disp ~ prop_samp_j + prop_samp_i+ total_anems_i+ total_anems_j +dist+ bi_direction*season, data=disp_dist_obs, family=\"binomial\")\n",
    "no_int <- glm(bi_disp ~ prop_samp_j + prop_samp_i+ total_anems_i+ total_anems_j + dist+ bi_direction +season, data=disp_dist_obs, family=\"binomial\")\n",
    "no_season <- glm(bi_disp ~ prop_samp_j + prop_samp_i +dist+bi_direction, data=disp_dist_obs, family=\"binomial\")\n",
    "no_dist_direction <- glm(bi_disp ~ prop_samp_j + prop_samp_i+ total_anems_i+ total_anems_j + bi_direction, data=disp_dist_obs, family=\"binomial\")\n",
    "no_prop_sampi <- glm(bi_disp ~ prop_samp_j + + total_anems_i+ total_anems_j + dist+bi_direction +season, data=disp_dist_obs, family=\"binomial\")\n",
    "no_prop_sampj <- glm(bi_disp ~ prop_samp_i + total_anems_i+ total_anems_j + dist+bi_direction +season, data=disp_dist_obs, family=\"binomial\")\n",
    "no_anemsi <- glm(bi_disp ~ prop_samp_j + prop_samp_i+ total_anems_j + dist+bi_direction +season, data=disp_dist_obs, family=\"binomial\")\n",
    "no_anemsj <- glm(bi_disp ~ prop_samp_j + prop_samp_i+ total_anems_i + dist+bi_direction +season, data=disp_dist_obs, family=\"binomial\")\n",
    "no_prop_samp <- glm(bi_disp ~dist+bi_direction + total_anems_i+ total_anems_j +season, data=disp_dist_obs, family=\"binomial\")\n",
    "no_prop_samp_with_int <- glm(bi_disp ~ total_anems_i+ total_anems_j + dist+bi_direction*season, data=disp_dist_obs, family=\"binomial\")\n",
    "### best model is bi_disp ~dist_direction + total_anems_i+ total_anems_j + season\n",
    "\n",
    "null <- glm(bi_disp ~dist, data=disp_dist_obs, family=\"binomial\")\n",
    "\n",
    "\n",
    "\n"
   ]
  },
  {
   "cell_type": "code",
   "execution_count": 43,
   "metadata": {},
   "outputs": [],
   "source": [
    "aic <- as.data.frame(AIC(null, no_season, no_dist_direction, no_prop_samp, no_prop_sampi, no_prop_sampj, no_anemsi, no_anemsj, no_int, no_prop_samp_with_int, full))\n",
    "aic$model <- row.names(aic)\n",
    "aic <- aic %>% arrange(AIC)\n",
    "\n",
    "#write.csv(aic, file=\"~/parentage/colony2/20200605_1340loci/results/DispLogRegressionModAICSeason.csv\",row.names=F,  quote=F)\n"
   ]
  },
  {
   "cell_type": "code",
   "execution_count": null,
   "metadata": {},
   "outputs": [],
   "source": [
    "aic %>% arrange(AIC)\n"
   ]
  },
  {
   "cell_type": "code",
   "execution_count": 44,
   "metadata": {},
   "outputs": [
    {
     "data": {
      "text/plain": [
       "\n",
       "Call:\n",
       "glm(formula = bi_disp ~ dist + bi_direction + total_anems_i + \n",
       "    total_anems_j + season, family = \"binomial\", data = disp_dist_obs)\n",
       "\n",
       "Deviance Residuals: \n",
       "     Min        1Q    Median        3Q       Max  \n",
       "-1.51937  -0.22647  -0.16522  -0.08345   3.02509  \n",
       "\n",
       "Coefficients:\n",
       "                Estimate Std. Error z value Pr(>|z|)    \n",
       "(Intercept)   -5.7480449  0.6320245  -9.095  < 2e-16 ***\n",
       "dist          -0.0548920  0.0237399  -2.312 0.020765 *  \n",
       "bi_direction  -0.0887699  0.2155976  -0.412 0.680531    \n",
       "total_anems_i  0.0017465  0.0002664   6.557 5.50e-11 ***\n",
       "total_anems_j  0.0014218  0.0002722   5.223 1.76e-07 ***\n",
       "seasonSWM      1.7109512  0.4911438   3.484 0.000495 ***\n",
       "---\n",
       "Signif. codes:  0 ‘***’ 0.001 ‘**’ 0.01 ‘*’ 0.05 ‘.’ 0.1 ‘ ’ 1\n",
       "\n",
       "(Dispersion parameter for binomial family taken to be 1)\n",
       "\n",
       "    Null deviance: 268.11  on 721  degrees of freedom\n",
       "Residual deviance: 185.22  on 716  degrees of freedom\n",
       "AIC: 197.22\n",
       "\n",
       "Number of Fisher Scoring iterations: 7\n"
      ]
     },
     "metadata": {},
     "output_type": "display_data"
    }
   ],
   "source": [
    "summary(no_prop_samp)\n",
    "\n",
    "directionality_results <- tidy(no_prop_samp)\n",
    "#write.csv(directionality_results, file=\"~/parentage/colony2/20200605_1340loci/results/DispLogRegressionModSummarySeason.csv\",row.names=F,  quote=F)\n"
   ]
  },
  {
   "cell_type": "code",
   "execution_count": null,
   "metadata": {},
   "outputs": [],
   "source": []
  },
  {
   "cell_type": "code",
   "execution_count": 45,
   "metadata": {},
   "outputs": [],
   "source": [
    "model.names <- c(\"null\", \"no_season\", \"no_dist_direction\", \"no_prop_samp\", \"no_prop_sampi\", \"no_prop_sampj\", \"no_anemsi\", \"no_anemsj\", \"no_int\", \"no_prop_samp_with_int\", \"full\")\n",
    "\n",
    "summ.table <- do.call(rbind, lapply(list(null, no_season, no_dist_direction, no_prop_samp, no_prop_sampi, no_prop_sampj, no_anemsi, no_anemsj, no_int, no_prop_samp_with_int, full), broom::glance))\n",
    "\n",
    "table.cols <- c(\"df.residual\", \"deviance\", \"AIC\")\n",
    "reported.table <- summ.table[table.cols]\n",
    "names(reported.table) <- c(\"Resid. Df\", \"Resid. Dev\", \"AIC\")\n",
    "reported.table[['dAIC']] <-  with(reported.table, AIC - min(AIC))\n",
    "reported.table[['weight']] <- with(reported.table, exp(- 0.5 * dAIC) / sum(exp(- 0.5 * dAIC)))\n",
    "reported.table$AIC <- NULL\n",
    "reported.table$weight <- round(reported.table$weight, 2)\n",
    "reported.table$dAIC <- round(reported.table$dAIC, 1)\n",
    "reported.table$model <- model.names"
   ]
  },
  {
   "cell_type": "code",
   "execution_count": 46,
   "metadata": {},
   "outputs": [
    {
     "data": {
      "text/html": [
       "<table>\n",
       "<thead><tr><th scope=col>model</th><th scope=col>df</th><th scope=col>AIC</th><th scope=col>Resid. Df</th><th scope=col>Resid. Dev</th><th scope=col>dAIC</th><th scope=col>weight</th></tr></thead>\n",
       "<tbody>\n",
       "\t<tr><td>no_prop_samp</td><td>6           </td><td>197.2202    </td><td>716         </td><td>185.2202    </td><td>0           </td><td>0.4         </td></tr>\n",
       "</tbody>\n",
       "</table>\n"
      ],
      "text/latex": [
       "\\begin{tabular}{r|lllllll}\n",
       " model & df & AIC & Resid. Df & Resid. Dev & dAIC & weight\\\\\n",
       "\\hline\n",
       "\t no\\_prop\\_samp & 6                & 197.2202         & 716              & 185.2202         & 0                & 0.4             \\\\\n",
       "\\end{tabular}\n"
      ],
      "text/markdown": [
       "\n",
       "| model | df | AIC | Resid. Df | Resid. Dev | dAIC | weight |\n",
       "|---|---|---|---|---|---|---|\n",
       "| no_prop_samp | 6            | 197.2202     | 716          | 185.2202     | 0            | 0.4          |\n",
       "\n"
      ],
      "text/plain": [
       "  model        df AIC      Resid. Df Resid. Dev dAIC weight\n",
       "1 no_prop_samp 6  197.2202 716       185.2202   0    0.4   "
      ]
     },
     "metadata": {},
     "output_type": "display_data"
    },
    {
     "data": {
      "text/html": [
       "<table>\n",
       "<thead><tr><th scope=col>model</th><th scope=col>df</th><th scope=col>AIC</th><th scope=col>Resid. Df</th><th scope=col>Resid. Dev</th><th scope=col>dAIC</th><th scope=col>weight</th></tr></thead>\n",
       "<tbody>\n",
       "\t<tr><td>no_prop_samp         </td><td>6                    </td><td>197.2202             </td><td>716                  </td><td>185.2202             </td><td> 0.0                 </td><td>0.40                 </td></tr>\n",
       "\t<tr><td>no_prop_samp_with_int</td><td>7                    </td><td>198.7616             </td><td>715                  </td><td>184.7616             </td><td> 1.5                 </td><td>0.18                 </td></tr>\n",
       "\t<tr><td>no_prop_sampj        </td><td>7                    </td><td>198.8780             </td><td>715                  </td><td>184.8780             </td><td> 1.7                 </td><td>0.17                 </td></tr>\n",
       "\t<tr><td>no_prop_sampi        </td><td>7                    </td><td>199.2199             </td><td>715                  </td><td>185.2199             </td><td> 2.0                 </td><td>0.15                 </td></tr>\n",
       "\t<tr><td>no_int               </td><td>8                    </td><td>200.8780             </td><td>714                  </td><td>184.8780             </td><td> 3.7                 </td><td>0.06                 </td></tr>\n",
       "\t<tr><td>full                 </td><td>9                    </td><td>202.4265             </td><td>713                  </td><td>184.4265             </td><td> 5.2                 </td><td>0.03                 </td></tr>\n",
       "\t<tr><td>no_dist_direction    </td><td>6                    </td><td>217.0223             </td><td>716                  </td><td>205.0223             </td><td>19.8                 </td><td>0.00                 </td></tr>\n",
       "\t<tr><td>no_anemsj            </td><td>7                    </td><td>223.3956             </td><td>715                  </td><td>209.3956             </td><td>26.2                 </td><td>0.00                 </td></tr>\n",
       "\t<tr><td>no_anemsi            </td><td>7                    </td><td>242.6551             </td><td>715                  </td><td>228.6551             </td><td>45.4                 </td><td>0.00                 </td></tr>\n",
       "\t<tr><td>null                 </td><td>2                    </td><td>271.9684             </td><td>720                  </td><td>267.9684             </td><td>74.7                 </td><td>0.00                 </td></tr>\n",
       "\t<tr><td>no_season            </td><td>5                    </td><td>273.3144             </td><td>717                  </td><td>263.3144             </td><td>76.1                 </td><td>0.00                 </td></tr>\n",
       "</tbody>\n",
       "</table>\n"
      ],
      "text/latex": [
       "\\begin{tabular}{r|lllllll}\n",
       " model & df & AIC & Resid. Df & Resid. Dev & dAIC & weight\\\\\n",
       "\\hline\n",
       "\t no\\_prop\\_samp          & 6                         & 197.2202                  & 716                       & 185.2202                  &  0.0                      & 0.40                     \\\\\n",
       "\t no\\_prop\\_samp\\_with\\_int & 7                             & 198.7616                      & 715                           & 184.7616                      &  1.5                          & 0.18                         \\\\\n",
       "\t no\\_prop\\_sampj         & 7                         & 198.8780                  & 715                       & 184.8780                  &  1.7                      & 0.17                     \\\\\n",
       "\t no\\_prop\\_sampi         & 7                         & 199.2199                  & 715                       & 185.2199                  &  2.0                      & 0.15                     \\\\\n",
       "\t no\\_int                & 8                       & 200.8780                & 714                     & 184.8780                &  3.7                    & 0.06                   \\\\\n",
       "\t full                  & 9                     & 202.4265              & 713                   & 184.4265              &  5.2                  & 0.03                 \\\\\n",
       "\t no\\_dist\\_direction     & 6                         & 217.0223                  & 716                       & 205.0223                  & 19.8                      & 0.00                     \\\\\n",
       "\t no\\_anemsj             & 7                       & 223.3956                & 715                     & 209.3956                & 26.2                    & 0.00                   \\\\\n",
       "\t no\\_anemsi             & 7                       & 242.6551                & 715                     & 228.6551                & 45.4                    & 0.00                   \\\\\n",
       "\t null                  & 2                     & 271.9684              & 720                   & 267.9684              & 74.7                  & 0.00                 \\\\\n",
       "\t no\\_season             & 5                       & 273.3144                & 717                     & 263.3144                & 76.1                    & 0.00                   \\\\\n",
       "\\end{tabular}\n"
      ],
      "text/markdown": [
       "\n",
       "| model | df | AIC | Resid. Df | Resid. Dev | dAIC | weight |\n",
       "|---|---|---|---|---|---|---|\n",
       "| no_prop_samp          | 6                     | 197.2202              | 716                   | 185.2202              |  0.0                  | 0.40                  |\n",
       "| no_prop_samp_with_int | 7                     | 198.7616              | 715                   | 184.7616              |  1.5                  | 0.18                  |\n",
       "| no_prop_sampj         | 7                     | 198.8780              | 715                   | 184.8780              |  1.7                  | 0.17                  |\n",
       "| no_prop_sampi         | 7                     | 199.2199              | 715                   | 185.2199              |  2.0                  | 0.15                  |\n",
       "| no_int                | 8                     | 200.8780              | 714                   | 184.8780              |  3.7                  | 0.06                  |\n",
       "| full                  | 9                     | 202.4265              | 713                   | 184.4265              |  5.2                  | 0.03                  |\n",
       "| no_dist_direction     | 6                     | 217.0223              | 716                   | 205.0223              | 19.8                  | 0.00                  |\n",
       "| no_anemsj             | 7                     | 223.3956              | 715                   | 209.3956              | 26.2                  | 0.00                  |\n",
       "| no_anemsi             | 7                     | 242.6551              | 715                   | 228.6551              | 45.4                  | 0.00                  |\n",
       "| null                  | 2                     | 271.9684              | 720                   | 267.9684              | 74.7                  | 0.00                  |\n",
       "| no_season             | 5                     | 273.3144              | 717                   | 263.3144              | 76.1                  | 0.00                  |\n",
       "\n"
      ],
      "text/plain": [
       "   model                 df AIC      Resid. Df Resid. Dev dAIC weight\n",
       "1  no_prop_samp          6  197.2202 716       185.2202    0.0 0.40  \n",
       "2  no_prop_samp_with_int 7  198.7616 715       184.7616    1.5 0.18  \n",
       "3  no_prop_sampj         7  198.8780 715       184.8780    1.7 0.17  \n",
       "4  no_prop_sampi         7  199.2199 715       185.2199    2.0 0.15  \n",
       "5  no_int                8  200.8780 714       184.8780    3.7 0.06  \n",
       "6  full                  9  202.4265 713       184.4265    5.2 0.03  \n",
       "7  no_dist_direction     6  217.0223 716       205.0223   19.8 0.00  \n",
       "8  no_anemsj             7  223.3956 715       209.3956   26.2 0.00  \n",
       "9  no_anemsi             7  242.6551 715       228.6551   45.4 0.00  \n",
       "10 null                  2  271.9684 720       267.9684   74.7 0.00  \n",
       "11 no_season             5  273.3144 717       263.3144   76.1 0.00  "
      ]
     },
     "metadata": {},
     "output_type": "display_data"
    }
   ],
   "source": [
    "full_mod_results <- left_join(aic, reported.table, by=\"model\") %>%\n",
    "    select(model, everything())\n",
    "full_mod_results %>% filter(AIC==min(AIC))\n",
    "full_mod_results <- full_mod_results %>% \n",
    "        arrange(AIC)\n",
    "full_mod_results\n",
    "\n",
    "write.csv(full_mod_results, file=\"~/parentage/colony2/20200605_1340loci/results/DispLogRegressionModAIC_fulltableSeason.csv\",row.names=F,  quote=F)\n"
   ]
  },
  {
   "cell_type": "code",
   "execution_count": null,
   "metadata": {},
   "outputs": [],
   "source": [
    "disp_dist_obs <- disp_dist_obs %>%\n",
    "    mutate(total_anems_i= ifelse(total_anems_i==0, 1, total_anems_i)) %>%\n",
    "    mutate(total_anems_j= ifelse(total_anems_j==0, 1, total_anems_j)) %>%\n",
    "    mutate(total_anems_i= log(total_anems_i)) %>%\n",
    "    mutate(total_anems_j= log(total_anems_j))"
   ]
  },
  {
   "cell_type": "code",
   "execution_count": null,
   "metadata": {},
   "outputs": [],
   "source": [
    "summary(disp_dist_obs)"
   ]
  },
  {
   "cell_type": "code",
   "execution_count": null,
   "metadata": {},
   "outputs": [],
   "source": [
    "#mixed model\n",
    "full_mix <- glmer(bi_disp ~ prop_samp_j + prop_samp_i+ total_anems_i+ total_anems_j +dist+ (1+direction|year), data=disp_dist_obs, family=\"binomial\")\n",
    "\n",
    "\n"
   ]
  },
  {
   "cell_type": "code",
   "execution_count": null,
   "metadata": {},
   "outputs": [],
   "source": [
    "summary(full_mix)"
   ]
  },
  {
   "cell_type": "code",
   "execution_count": null,
   "metadata": {},
   "outputs": [],
   "source": [
    "ranef(full_mix)$year"
   ]
  },
  {
   "cell_type": "code",
   "execution_count": null,
   "metadata": {},
   "outputs": [],
   "source": []
  },
  {
   "cell_type": "code",
   "execution_count": null,
   "metadata": {},
   "outputs": [],
   "source": [
    "lrt <- as.data.frame(lrtest(no_year, no_dist_direction, no_prop_samp, no_prop_sampi, no_prop_sampj, no_anemsi, no_anemsj, no_int, no_prop_samp_with_int, full))\n",
    "\n",
    "#write.csv(lrt, file=\"~/parentage/colony2/20190523_1340loci/results/final_tables/DispLogRegressionModLRT.csv\",row.names=F,  quote=F)"
   ]
  },
  {
   "cell_type": "code",
   "execution_count": null,
   "metadata": {},
   "outputs": [],
   "source": [
    "##what if it's binomial\n",
    "#\n",
    "#all_pred_disp_bi <- all_pred_disp %>%\n",
    "#    mutate(prob_disp= ifelse(n_obs>0, 1, 0))\n",
    "#\n",
    "#all_pred_mod_bi <- glm(prob_disp ~ dist + year+ prop_samp_j + prop_samp_i  +direction+ direction * year, data=all_pred_disp_bi, family=binomial(link=\"logit\"))\n",
    "#\n",
    "#mod_sig_bi <- as.data.frame(anova(all_pred_mod_bi, test=\"LRT\")) \n",
    "#mod_sig_bi\n",
    "#mod_sig"
   ]
  },
  {
   "cell_type": "code",
   "execution_count": null,
   "metadata": {},
   "outputs": [],
   "source": [
    "#https://stats.stackexchange.com/questions/86351/interpretation-of-rs-output-for-binomial-regression\n",
    "summary(no_prop_samp)\n"
   ]
  },
  {
   "cell_type": "code",
   "execution_count": null,
   "metadata": {
    "scrolled": false
   },
   "outputs": [],
   "source": [
    "#plot the data\n",
    "ggplot() +\n",
    "    geom_histogram(data=all_pred_disp %>%\n",
    "                   filter(year==\"2012\"), aes(x=n_obs, fill=direction), alpha=0.5, position=\"dodge\") +\n",
    "    ggtitle(\"Dispersal Directionality in 2012\") +\n",
    "    ylab(\"frequency of direction\") +\n",
    "    xlab(\"number of dispersal events observed\")\n",
    "\n",
    "ggplot() +\n",
    "    geom_histogram(data=all_pred_disp %>%\n",
    "                   filter(year==\"2013\" & n_obs >0), aes(x=n_obs, fill=direction),alpha=0.5, position=\"dodge\") +\n",
    "    ggtitle(\"Dispersal Directionality in 2013\") +\n",
    "    ylab(\"frequency of direction\") +\n",
    "    xlab(\"number of dispersal events observed\")\n",
    "\n",
    "ggplot() +\n",
    "    geom_histogram(data=all_pred_disp %>%\n",
    "                   filter(year==\"2014\"), aes(x=n_obs, fill=direction), alpha=0.5, position=\"dodge\") +\n",
    "    ggtitle(\"Dispersal Directionality in 2014\") +\n",
    "    ylab(\"frequency of direction\") +\n",
    "    xlab(\"number of dispersal events observed\")\n",
    "\n",
    "ggplot() +\n",
    "    geom_histogram(data=all_pred_disp %>%\n",
    "                   filter(year==\"2015\" & n_obs >0), aes(x=n_obs, fill=direction), alpha=0.5, position=\"dodge\") +\n",
    "    ggtitle(\"Dispersal Directionality in 2015\") +\n",
    "    ylab(\"frequency of direction\") +\n",
    "    xlab(\"number of dispersal events observed\")\n",
    "\n",
    "ggplot() +\n",
    "    geom_histogram(data=all_pred_disp %>%\n",
    "                   filter(year==\"2016\" & n_obs >0), aes(x=n_obs, fill=direction), alpha=0.5, position=\"dodge\") +\n",
    "    ggtitle(\"Dispersal Directionality in 2016\") +\n",
    "    ylab(\"frequency of direction\") +\n",
    "    xlab(\"number of dispersal events observed\")\n",
    "\n",
    "ggplot() +\n",
    "    geom_histogram(data=all_pred_disp %>%\n",
    "                   filter(year==\"2017\" & n_obs >0), aes(x=n_obs, fill=direction), alpha=0.5, position=\"dodge\") +\n",
    "    ggtitle(\"Dispersal Directionality in 2017\") +\n",
    "    ylab(\"frequency of direction\") +\n",
    "    xlab(\"number of dispersal events observed\")\n",
    "\n",
    "ggplot() +\n",
    "    geom_histogram(data=all_pred_disp %>%\n",
    "                   filter(year==\"2018\" & n_obs >0), aes(x=n_obs, fill=direction), alpha=0.5, position=\"dodge\") +\n",
    "    ggtitle(\"Dispersal Directionality in 2018\") +\n",
    "    ylab(\"frequency of direction\") +\n",
    "    xlab(\"number of dispersal events observed\")"
   ]
  },
  {
   "cell_type": "markdown",
   "metadata": {},
   "source": [
    "## testing below "
   ]
  },
  {
   "cell_type": "code",
   "execution_count": null,
   "metadata": {},
   "outputs": [],
   "source": [
    "###using option C, all combos between potential offspring and parents input into colony\n",
    "\n",
    "\n",
    "disp_dist <- read.csv(file=\"~/parentage/colony2/20190523_1340loci/results/20190620colony_dispersaldirection.csv\", header=T, stringsAsFactors=F) %>%\n",
    "    mutate(disp=1) %>%\n",
    "    select(offs_samp, par_samp, disp)\n",
    "\n",
    "#some offs and parents don't have lat/lon, fill them in manually \n",
    "centroids <- read.csv(\"~/parentage/kernel_fitting/site_centroids.csv\", header=TRUE)\n",
    "centroids %>% filter(site==\"Poroc San Flower\")\n",
    "\n",
    "\n",
    "#add lat/lon \n",
    "offs_loc <- get_latlon(offs$sample_id) %>%\n",
    "    rename(offs_lat=\"lat\", offs_lon=\"lon\", offs_samp =\"sample_id\", offs_site=\"site\") %>%\n",
    "    mutate(offs_lat=ifelse(is.na(offs_lat), 10.7641, offs_lat)) %>%\n",
    "    mutate(offs_lon=ifelse(is.na(offs_lon), 124.7853, offs_lon))\n",
    "\n",
    "offs_loc <- left_join(offs, offs_loc, by=c(sample_id=\"offs_samp\"))\n",
    "\n",
    "p_need_latlon <- offs_loc %>%\n",
    "    filter(is.na(offs_lat) | is.na(offs_lon))\n",
    "\n",
    "par_loc <- get_latlon(parents$sample_id) %>%\n",
    "    rename(par_lat=\"lat\", par_lon=\"lon\", par_samp =\"sample_id\", par_site=\"site\") %>%\n",
    "    mutate(par_lat=ifelse(is.na(par_lat), 10.7641, par_lat)) %>%\n",
    "    mutate(par_lon=ifelse(is.na(par_lon), 124.7853, par_lon))\n",
    "\n",
    "\n",
    "\n",
    "#calculate the distance from all potential parents and all potential offspring\n",
    "all_possible_dists <- as.data.frame(rdist.earth(as.matrix(offs_loc[,c('offs_lon', 'offs_lat')]), as.matrix(par_loc[,c('par_lon', 'par_lat')]), miles=FALSE, R=6371))\n",
    "\n",
    "#attach the sample_ids to each distance, so you can also get site and year\n",
    "colnames(all_possible_dists) <- parents$sample_id\n",
    "all_possible_dists$offs_samp <- offs$sample_id\n",
    "\n",
    "#gather into tidy df and add meta data\n",
    "all_possible_dists_tidy <- all_possible_dists %>%\n",
    "    select(offs_samp, everything()) %>%\n",
    "    gather(2:1720, key=par_samp, value=dist) \n",
    "nrow(all_possible_dists_tidy)\n",
    "#dang that's a lot of possible disp trajectories\n",
    "\n",
    "#join in date to get year, and\n",
    "meta <- get_fish() %>%\n",
    "    mutate(time_date = as.character(str_c(date, \n",
    "    anem_obs_time, sep = \" \"))) %>% mutate(time_date = ymd_hms(time_date)) %>% \n",
    "    mutate(time_date = force_tz(time_date, tzone = \"Asia/Manila\")) %>% \n",
    "    mutate(time_date = with_tz(time_date, tzone = \"UTC\")) %>% \n",
    "    mutate(year = year(time_date)) %>% mutate(month = month(time_date)) %>% \n",
    "    mutate(day = day(time_date)) %>% mutate(hour = hour(time_date)) %>% \n",
    "    mutate(minute = minute(time_date)) %>% select(-time_date, \n",
    "    -date)\n",
    "meta <- left_join(fish_obs, meta, by=\"sample_id\")\n",
    "\n",
    "all_possible_dists_meta <- inner_join(all_possible_dists_tidy, meta, by=c(offs_samp=\"sample_id\")) %>%\n",
    "    rename(offs_year=\"year\", offs_site=\"site\", offs_fish_indiv=\"fish_indiv\") %>%\n",
    "    select(offs_samp, par_samp, offs_year, offs_site, dist, offs_fish_indiv) %>%\n",
    "    mutate(offs_year=as.factor(offs_year))\n",
    "\n",
    "\n",
    "all_possible_dists_meta2 <- inner_join(all_possible_dists_meta, meta, by=c(par_samp=\"sample_id\")) %>%\n",
    "    rename(par_year=\"year\", par_site=\"site\", par_fish_indiv=\"fish_indiv\" ) %>%\n",
    "    select(offs_samp, par_samp, offs_year, par_year, offs_site, par_site, dist, par_fish_indiv, offs_fish_indiv) %>%\n",
    "    distinct(offs_fish_indiv, par_fish_indiv, .keep_all = T) %>%\n",
    "    mutate(par_year=as.factor(par_year))\n",
    "\n",
    "\n",
    "\n",
    "\n",
    "### Assesing directionality\n",
    "#read in sites NS\n",
    "sites_ns <- read.table(file=\"~/parentage/text_file/sites_NS.txt\", header=T, sep=\",\", stringsAsFactors = F)\n",
    "\n",
    "#join to all possible distances\n",
    "offs_index <- left_join(all_possible_dists_meta2, sites_ns, by=c(offs_site =\"site\")) %>%\n",
    "    rename(offs_index=\"index\")\n",
    "par_directionality <- left_join(offs_index, sites_ns, by=c(par_site=\"site\")) %>%\n",
    "    rename(par_index=\"index\") %>%\n",
    "    filter(offs_index!=par_index) %>% \n",
    "    mutate(direction=ifelse(par_index > offs_index, \"south\", \"north\")) #each offspring and parent site has an index number 1-19, North to South. Add in a column for dirrectionality\n",
    "\n",
    "#add in the self-recruitment values\n",
    "sr <- left_join(offs_index, sites_ns, by=c(par_site=\"site\")) %>%\n",
    "    rename(par_index=\"index\") %>%\n",
    "    filter(offs_index==par_index) %>% \n",
    "    mutate(direction=\"self\")\n",
    "all_possible_disp <- bind_rows(par_directionality, sr) %>% #subset rows because there are way too many points here\n",
    "    sample_n(100000)\n",
    "\n",
    "#add fish_obs data to disp dist\n",
    "disp_dist_offs_obs <- left_join(disp_dist, fish_obs, by=c(offs_samp=\"sample_id\")) %>%\n",
    "    select(-fish_table_id, -tag_id, -gen_id) %>%\n",
    "    rename(offs_fish_indiv=\"fish_indiv\")\n",
    "disp_dist_obs <- left_join(disp_dist_offs_obs, fish_obs, by=c(par_samp=\"sample_id\")) %>%\n",
    "    select(-fish_table_id, -tag_id, -gen_id) %>%\n",
    "    rename(par_fish_indiv=\"fish_indiv\")\n",
    "\n",
    "\n",
    "disp_df <- full_join(all_possible_disp, disp_dist_obs) %>% #add a binary disp 1/no disp 0 score column\n",
    "     distinct(offs_fish_indiv, par_fish_indiv, .keep_all=T)%>%\n",
    "     select(-offs_index, -par_index)\n",
    "\n",
    "disp_df$disp[is.na(disp_df$disp)] <- 0\n",
    "\n",
    "#add in prop_habitat sampled to be used as a predictor variable\n",
    "#read in demography estimates\n",
    "prop_samp <- cumulative_prop_hab_sampled_by_site %>%\n",
    "    mutate(total_possible_sample_anems = ifelse(site==\"Caridad Proper\", 4, total_possible_sample_anems) ) %>%\n",
    "    mutate(total_prop_hab_sampled_anems_tidied= ifelse(site==\"Caridad Proper\" & total_anems_sampled==4, 1, total_prop_hab_sampled_anems_tidied) ) %>%\n",
    "    mutate(total_possible_sample_anems = ifelse(site==\"Sitio Lonas\", total_anems_sampled, total_possible_sample_anems) ) %>%\n",
    "    mutate(total_prop_hab_sampled_anems_tidied= ifelse(site==\"Sitio Lonas\", 1, total_prop_hab_sampled_anems_tidied) ) %>%\n",
    "    select(site, end_year, total_prop_hab_sampled_anems_tidied) %>%\n",
    "    rename(prop_habitat_sampled = \"total_prop_hab_sampled_anems_tidied\", year=\"end_year\") %>%\n",
    "    mutate(year=as.factor(year))\n",
    "\n",
    "\n",
    "prop_samp$prop_habitat_sampled[is.nan(prop_samp$prop_habitat_sampled)] <- 0\n",
    "\n",
    "#join to potential offspring\n",
    "disp_df_beta <- left_join(disp_df, prop_samp, by=c(offs_site=\"site\", offs_year=\"year\")) %>%\n",
    "    rename(offs_prop_samp=\"prop_habitat_sampled\")\n",
    "\n",
    "disp_df <- left_join(disp_df_beta, prop_samp, by=c(par_site=\"site\", par_year=\"year\")) %>%\n",
    "    rename(par_prop_samp=\"prop_habitat_sampled\") %>%\n",
    "    filter(!is.na(dist) & !is.na(par_site) & !is.na(offs_site) & !is.na(par_year) & !is.na(offs_year)) %>%\n",
    "    mutate(dist=ifelse(dist==0, 0.001, dist))\n",
    "\n",
    "\n",
    "#run logistic regressions\n",
    "dist_mod <- glm(disp ~ dist, data=disp_df, family=\"binomial\")\n",
    "dist_par_samp_mod <- glm(disp ~ dist + par_prop_samp, data=disp_df, family=binomial(link=\"logit\"))\n",
    "dist_offs_samp_mod <- glm(disp ~ dist + offs_prop_samp, data=disp_df, family=binomial(link=\"logit\"))\n",
    "dist_year_mod <- glm(disp ~ dist + offs_year, data=disp_df, family=binomial(link=\"logit\"))\n",
    "dist_direction_mod <- glm(disp ~ dist + direction, data=disp_df, family=binomial(link=\"logit\"))\n",
    "dist_offspar_samp_mod <- glm(disp ~ dist + offs_prop_samp+par_prop_samp, data=disp_df, family=binomial(link=\"logit\"))\n",
    "dist_yeardirection_mod <- glm(disp ~ dist + direction * offs_year, data=disp_df, family=binomial(link=\"logit\"))\n",
    "\n",
    "\n",
    "\n",
    "#dist_offs_samp_year_mod <- glm(disp ~ dist + offs_prop_samp, data=disp_df, family=binomial(link=\"logit\"))\n",
    "\n",
    "all_pred_mod <- glm(disp ~ dist + offs_year+ offs_prop_samp +par_prop_samp +offs_year +direction+ direction * offs_year, data=disp_df, family=binomial(link=\"logit\"))\n",
    "\n",
    "#https://datascienceplus.com/perform-logistic-regression-in-r/\n",
    "\n",
    "anova(all_pred_mod, test=\"Chisq\")"
   ]
  }
 ],
 "metadata": {
  "kernelspec": {
   "display_name": "R",
   "language": "R",
   "name": "ir"
  },
  "language_info": {
   "codemirror_mode": "r",
   "file_extension": ".r",
   "mimetype": "text/x-r-source",
   "name": "R",
   "pygments_lexer": "r",
   "version": "3.6.1"
  }
 },
 "nbformat": 4,
 "nbformat_minor": 2
}
