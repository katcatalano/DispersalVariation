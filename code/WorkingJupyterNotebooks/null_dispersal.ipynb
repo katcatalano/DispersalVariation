{
 "cells": [
  {
   "cell_type": "code",
   "execution_count": 547,
   "metadata": {},
   "outputs": [],
   "source": [
    "#iteratively downsample the input to the kernelt fitting parameters, generate a null disribution of kernels \n",
    "Packages <- c(\"dplyr\",\"nleqslv\",\"cubature\", \"stringr\",\"pracma\",\"data.table\", \"gridExtra\",\"viridis\", \"ggsignif\", \"broom\", \"ggpubr\", \"caret\",\"cowplot\",\"ggplot2\",\"fields\",\"bbmle\", \"dplyr\", \"tidyr\", \"lubridate\", \"RColorBrewer\")\n",
    "\n",
    "invisible(suppressPackageStartupMessages(lapply(Packages, library, character.only = TRUE)))\n",
    "\n",
    "setwd('/local/home/katrinac/parentage/kernel_fitting/')\n",
    "\n",
    "\n",
    "load(\"~/parentage/r_data/total_sampling_across_years.RData\")\n",
    "load(\"~/parentage/r_data/sampled_area_each_year.RData\")\n",
    "load(\"~/parentage/r_data/cumulative_prop_hab_sampled_by_site.RData\")\n",
    "load(\"~/parentage/r_data/anem_obs_db.RData\")\n",
    "\n",
    "\n",
    "#download.file(url = \"https://github.com/pinskylab/genomics/blob/master/data/fish-obs.RData?raw=true\", destfile = \"~/parentage/r_data/fish-obs.RData\")\n",
    "fish_obs <- readRDS(\"~/parentage/r_data/fish-obs_april2020.RData\") \n",
    "#download.file(url=\"https://github.com/pinskylab/genomics/blob/ca6ce13310385e498a8bee54f48511ce3d1557f9/data/fish-obs.RData\", destfile = \"~/parentage/r_data/old-fish-obs.RData\")\n",
    "old_fish_obs <- readRDS(\"~/parentage/r_data/fish-obs.RData\") \n",
    "load(\"~/parentage/r_data/site_dist_info.RData\")\n",
    "#download.file(url = \"https://github.com/pinskylab/Clownfish_persistence/blob/master/Data/Data_from_database/anem_db.RData?raw=true\", destfile = \"~/parentage/r_data/anem_db.RData\")\n",
    "load(\"~/parentage/r_data/anem_db.RData\")\n",
    "#download.file(url = \"https://github.com/pinskylab/Clownfish_persistence/blob/master/Data/Data_from_database/dives_db.RData?raw=true\", destfile = \"~/parentage/r_data/dives_db.RData\")\n",
    "load(\"~/parentage/r_data/dives_db.RData\")\n",
    "#download.file(url = \"https://github.com/pinskylab/Clownfish_persistence/blob/master/Data/Data_from_database/fish_db.RData?raw=true\", destfile = \"~/parentage/r_data/dives_db.RData\")\n",
    "load(\"~/parentage/r_data/fish_db.RData\")\n",
    "load(\"~/parentage/r_data/gps_db.RData\")\n",
    "#download.file(url = \"https://github.com/pinskylab/Clownfish_persistence/blob/master/Data/anems_tagged.RData\", destfile = \"~/parentage/r_data/anems_tagged.RData\")\n",
    "load(\"~/parentage/r_data/anems_tagged.RData\")\n",
    "load(\"~/parentage/r_data/encounters_list_anem.RData\")\n",
    "\n",
    "\n",
    "\n",
    "source(\"~/parentage/kernel_fitting/1340_loci/functions/ll_kt_both_bbmle.R\")\n",
    "source(\"~/parentage/kernel_fitting/1340_loci/functions/ll_kt_both_optim.R\")\n",
    "source(\"~/parentage/kernel_fitting/1340_loci/functions/GenGausKernInt_sum0.5.R\") #integrate_kernel_sum1\n",
    "source(\"~/parentage/kernel_fitting/1340_loci/functions/GenGausKernInt_sum1.R\") #integrate_kernel_sum0.5\n",
    "source(\"~/parentage/kernel_fitting/1340_loci/functions/cdf_solve.R\") \n",
    "source(\"~/parentage/kernel_fitting/1340_loci/functions/cdf_solve90.R\") \n",
    "\n",
    "\n",
    "\"%!in%\" <- function(x,table) match(x,table, nomatch = 0) == 0"
   ]
  },
  {
   "cell_type": "code",
   "execution_count": 486,
   "metadata": {},
   "outputs": [
    {
     "data": {
      "text/html": [
       "35"
      ],
      "text/latex": [
       "35"
      ],
      "text/markdown": [
       "35"
      ],
      "text/plain": [
       "[1] 35"
      ]
     },
     "metadata": {},
     "output_type": "display_data"
    }
   ],
   "source": [
    "#read in true prop sampled data\n",
    "prop_samp <- cumulative_prop_hab_sampled_by_site %>%\n",
    "    mutate(total_possible_sample_anems = ifelse(site==\"Caridad Proper\", 4, total_possible_sample_anems) ) %>%\n",
    "    mutate(total_prop_hab_sampled_anems_tidied= ifelse(site==\"Caridad Proper\" & total_anems_sampled==4, 1, total_prop_hab_sampled_anems_tidied) ) %>%\n",
    "    mutate(total_possible_sample_anems = ifelse(site==\"Sitio Lonas\", total_anems_sampled, total_possible_sample_anems) ) %>%\n",
    "    mutate(total_prop_hab_sampled_anems_tidied= ifelse(site==\"Sitio Lonas\", 1, total_prop_hab_sampled_anems_tidied) )# %>%\n",
    "    #mutate(total_prop_hab_sampled_anems_tidied= ifelse(is.nan(total_prop_hab_sampled_anems_tidied), 0.1, total_prop_hab_sampled_anems_tidied ))#make NANs really small instead\n",
    "#correct space in North/South Magbangon names\n",
    "prop_samp$site <- gsub(\". \", \".\", prop_samp$site, fixed=TRUE)\n",
    "#read in information necessary for kernel fitting\n",
    "centroids <- read.csv(\"~/parentage/kernel_fitting/1340_loci/input/site_centroids.csv\", header=TRUE)\n",
    "sampled_sites <- prop_samp %>% select(site) %>% distinct(site)\n",
    "sampled_sites$site <- gsub(\". \", \".\", sampled_sites$site, fixed=TRUE)\n",
    "site_widths <- read.table(\"/local/home/katrinac/parentage/text_file/site_widths.txt\", header=T, sep=\",\")\n",
    "\n",
    "#index sites to get pop numbers that replace site names\n",
    "all_sites <- centroids %>%\n",
    "    select(site) %>%\n",
    "    arrange(site)\n",
    "nrow(all_sites) #should be 35x1\n",
    "all_sites$index <- seq(from=1, to=35, by=1)"
   ]
  },
  {
   "cell_type": "code",
   "execution_count": 487,
   "metadata": {},
   "outputs": [],
   "source": [
    "#from Allison, just putting all the meta data together (Constants_database_common_functions.R)\n",
    "##### Match up other relevant info (site, date, fish_indiv, etc.) to fish in the clownfish table\n",
    "# Pull out year and month into a separate column in dives_db\n",
    "dives_db_processed <- dives_db %>%\n",
    "  mutate(year = as.integer(substring(date,1,4))) %>%\n",
    "  mutate(month = as.integer(substring(date,6,7))) %>%\n",
    "  mutate(dive_date = date(date))\n",
    "\n",
    "# Pull all APCL caught or otherwise in the clownfish table\n",
    "allfish_fish <- fish_db %>%\n",
    "  select(fish_table_id, anem_table_id, fish_spp, sample_id, anem_table_id, recap, tag_id, color, sex, size, fish_obs_time) %>%\n",
    "  filter(fish_spp == 'APCL') %>%\n",
    "  mutate(size = as.numeric(size))  # make the size numeric (rather than chr) so can do means and such\n",
    "\n",
    "# and their corresponding anemones\n",
    "allfish_anems <- anem_db %>%\n",
    "  select(anem_table_id, dive_table_id, anem_obs, anem_id, old_anem_id, anem_obs_time) #%>%\n",
    "  #filter(anem_table_id %in% allfish_fish$anem_table_id)\n",
    "\n",
    "# and the corresponding dive info\n",
    "allfish_dives <- dives_db_processed %>%\n",
    "  select(dive_table_id, dive_type, date, year, month, site, gps, dive_type) %>%\n",
    "  filter(dive_table_id %in% allfish_anems$dive_table_id) \n",
    "\n",
    "# join together\n",
    "allfish_caught1 <- left_join(allfish_anems, allfish_fish, by=\"anem_table_id\")\n",
    "allfish_caught <- left_join(allfish_caught1, allfish_dives, by=\"dive_table_id\")\n",
    "\n",
    "# add in the gen_ids and fish_indiv\n",
    "allfish_caught <- left_join(allfish_caught, (fish_obs %>% select(fish_table_id, gen_id, fish_indiv)), by = \"fish_table_id\")\n",
    "\n",
    "fish_meta <- allfish_caught %>%\n",
    "    select(fish_indiv, size, color, sex, gen_id, sample_id, site, date, anem_table_id, anem_obs_time,anem_obs, anem_id, gps, dive_type) %>%\n",
    "    mutate(date=ymd(date)) %>%\n",
    "    mutate(year=year(date)) #%>%\n",
    "    #filter(dive_type != \"R\") %>% #don't count recapture dives\n",
    "    #distinct(anem_obs, fish_indiv, year, .keep_all = T) #to avoid double counting anemones that were visited twice in one year, keep only one observationz\n"
   ]
  },
  {
   "cell_type": "code",
   "execution_count": 494,
   "metadata": {},
   "outputs": [],
   "source": [
    "#read in fish sample data\n",
    "#parentage results\n",
    "par_res <- read.csv(file=\"~/parentage/colony2/20200605_1340loci/results/parentage_results_allyears.csv\", header= T) %>%\n",
    "    distinct(offs_fish_indiv, .keep_all = T) %>% #just need the sites for parent and offspring, will join to fish metadata with fish_indiv\n",
    "    select(offs_fish_indiv, par_fish_indiv, offs_site, par_site, year) %>% \n",
    "    mutate(offs_fish_indiv=as.character(offs_fish_indiv)) %>%\n",
    "    rename(year_match=\"year\") #change this year to be the year of the parentage match\n",
    "\n",
    "#genotyped potential offspring\n",
    "N_gen_offs <- read.table(file=\"~/parentage/colony2/20190523_1340loci/input/all_offspring_corrected.txt\", header=T, stringsAsFactors = F) %>%\n",
    "    mutate(input=\"offspring\") %>%\n",
    "    mutate(fish_indiv=as.character(fish_indiv)) %>%\n",
    "    select(fish_indiv, input, year)\n",
    "\n",
    "SampledRecruitsPar <- left_join(N_gen_offs, par_res, by=c(fish_indiv=\"offs_fish_indiv\")) \n",
    "\n",
    "AllFishObsWithPar <- right_join(fish_meta, SampledRecruitsPar, by=c(\"fish_indiv\", \"year\")) %>%\n",
    "    ungroup() %>%\n",
    "    filter(sample_id != \"APCL13_626\" & sample_id != \"APCL16_774\") %>%\n",
    "    mutate(matched_offs=ifelse(!is.na(year_match), \"Y\", \"N\")) %>%\n",
    "    distinct(fish_indiv, .keep_all = T)\n",
    "    #mutate(year_match = ifelse(sample_id==\"APCL13_626\", NA, year_match)) %>% #one offspring was sampled twice in the same year, but on two different anemones. Keep the observation because both anemones were sampled, but take away the match year to make sure it doesn't end up double counted\n",
    "    #mutate(input = ifelse(sample_id==\"APCL13_626\", \"NA\", input)) #fish_indiv == 2400 \n",
    "\n",
    "#correct site names\n",
    "AllFishObsWithPar$site <- gsub(\". \", \".\", AllFishObsWithPar$site, fixed=TRUE)\n",
    "AllFishObsWithPar$offs_site <- gsub(\". \", \".\", AllFishObsWithPar$offs_site, fixed=TRUE)\n",
    "AllFishObsWithPar$par_site <- gsub(\". \", \".\", AllFishObsWithPar$par_site, fixed=TRUE)"
   ]
  },
  {
   "cell_type": "code",
   "execution_count": 495,
   "metadata": {},
   "outputs": [
    {
     "data": {
      "text/html": [
       "71"
      ],
      "text/latex": [
       "71"
      ],
      "text/markdown": [
       "71"
      ],
      "text/plain": [
       "[1] 71"
      ]
     },
     "metadata": {},
     "output_type": "display_data"
    },
    {
     "data": {
      "text/html": [
       "791"
      ],
      "text/latex": [
       "791"
      ],
      "text/markdown": [
       "791"
      ],
      "text/plain": [
       "[1] 791"
      ]
     },
     "metadata": {},
     "output_type": "display_data"
    },
    {
     "data": {
      "text/html": [
       "71"
      ],
      "text/latex": [
       "71"
      ],
      "text/markdown": [
       "71"
      ],
      "text/plain": [
       "[1] 71"
      ]
     },
     "metadata": {},
     "output_type": "display_data"
    }
   ],
   "source": [
    "nrow(AllFishObsWithPar %>% filter(!is.na(year_match))) #should be 71\n",
    "nrow(AllFishObsWithPar %>% filter(input==\"offspring\")) #should be 791\n",
    "nrow(AllFishObsWithPar %>% filter(matched_offs == \"Y\")) #should be 71\n",
    "\n",
    "#for future use\n",
    "#write.csv(AllFishObsWithPar, file=\"~/parentage/kernel_fitting/1340_loci/final_results/tables/AllFishObsWithPar.csv\", row.names=FALSE)"
   ]
  },
  {
   "cell_type": "code",
   "execution_count": null,
   "metadata": {},
   "outputs": [],
   "source": [
    "#make an empty data frame to hold annual simulated values\n",
    "col <- c(\"year\", \"k\", \"theta\", \"MDD\", \"MedianDispDist\",\"Dist90Retained\", \"iteration\")\n",
    "SimulatedKernels <- as.data.frame(matrix(nrow=0, ncol=7), stringsAsFactors = FALSE)\n",
    "colnames(SimulatedKernels) <- col\n",
    "\n",
    "\n",
    "#don't print warnings for this loop, they are only for setting row names in a tibble which is depracated. But it works. \n",
    "options(warn=-1)\n",
    "\n",
    "#set a progress bar to monitor\n",
    "pb <- txtProgressBar(min = 0, max = 10000, style = 3)#7 years in each interation\n",
    "\n",
    "StartTime <- Sys.time()\n",
    "\n",
    "for(n in 1:10000){\n",
    "#get a one column data frame of the years associated\n",
    "Years <- AllFishObsWithPar %>%\n",
    "    select(year)\n",
    "\n",
    "#shuffle the years of this data frame\n",
    "ShuffleYears <- data.frame(Years[sample(1:nrow(Years), replace=FALSE),])\n",
    "colnames(ShuffleYears) <- \"year\"\n",
    "\n",
    "#remove true years\n",
    "AllFishObsWithParBeta <- AllFishObsWithPar %>%\n",
    "    select(-year)\n",
    "\n",
    "#join back in shuffled years\n",
    "AllFishObsWithParSim <- bind_cols(AllFishObsWithParBeta, ShuffleYears) \n",
    "\n",
    "#EVERYTHING THAT FOLLOWS formats data for kernel fitting, fits the kernels, and stores the results into a data frame called SimulatedKernels\n",
    "#now break up into parentage per year\n",
    "\n",
    "par12 <- AllFishObsWithParSim %>%\n",
    "    filter(year==\"2012\" & matched_offs==\"Y\") %>%\n",
    "    distinct(offs_fish_indiv, .keep_all = T) %>%\n",
    "    select(year, offs_site, par_site)\n",
    "\n",
    "par13 <- AllFishObsWithParSim %>%\n",
    "    filter(year==\"2013\" & matched_offs==\"Y\")  %>%\n",
    "    distinct(offs_fish_indiv, .keep_all = T) %>%\n",
    "    select(year, offs_site, par_site) \n",
    "\n",
    "par14 <- AllFishObsWithParSim %>%\n",
    "    filter(year==\"2014\" & matched_offs==\"Y\")  %>%\n",
    "    distinct(offs_fish_indiv, .keep_all = T) %>%\n",
    "    select(year, offs_site, par_site) \n",
    "\n",
    "par15 <- AllFishObsWithParSim %>%\n",
    "    filter(year==\"2015\" & matched_offs==\"Y\")  %>%\n",
    "    distinct(offs_fish_indiv, .keep_all = T) %>%\n",
    "    select(year, offs_site, par_site) \n",
    "\n",
    "par16 <- AllFishObsWithParSim %>%\n",
    "    filter(year==\"2016\"& matched_offs==\"Y\")  %>%\n",
    "    distinct(offs_fish_indiv, .keep_all = T) %>%\n",
    "    select(year, offs_site, par_site) \n",
    "\n",
    "par17 <- AllFishObsWithParSim %>%\n",
    "    filter(year==\"2017\" & matched_offs==\"Y\")  %>%\n",
    "    distinct(offs_fish_indiv, .keep_all = T) %>%\n",
    "    select(year, offs_site, par_site)\n",
    "\n",
    "par18 <- AllFishObsWithParSim %>%\n",
    "    filter(year==\"2018\"& matched_offs==\"Y\")  %>%\n",
    "    distinct(offs_fish_indiv, .keep_all = T) %>%\n",
    "    select(year, offs_site, par_site) \n",
    "\n",
    "total_par12 <- par12 %>%\n",
    "    group_by(year, offs_site, par_site) %>%\n",
    "    summarise(n_matches=n()) %>%\n",
    "    ungroup() %>%\n",
    "    select(-year)\n",
    "\n",
    "total_par13 <- par13 %>%\n",
    "    group_by(year, offs_site, par_site) %>%\n",
    "    summarise(n_matches=n()) %>%\n",
    "    ungroup() %>%\n",
    "    select(-year)\n",
    "\n",
    "total_par14 <- par14 %>%\n",
    "    group_by(year, offs_site, par_site) %>%\n",
    "    summarise(n_matches=n()) %>%\n",
    "    ungroup() %>%\n",
    "    select(-year)\n",
    "\n",
    "total_par15 <- par15 %>%\n",
    "    group_by(year, offs_site, par_site) %>%\n",
    "    summarise(n_matches=n()) %>%\n",
    "    ungroup() %>%\n",
    "    select(-year)\n",
    "\n",
    "total_par16 <- par16 %>%\n",
    "    group_by(year, offs_site, par_site) %>%\n",
    "    summarise(n_matches=n()) %>%\n",
    "    ungroup() %>%\n",
    "    select(-year)\n",
    "\n",
    "total_par17 <- par17 %>%\n",
    "    group_by(year, offs_site, par_site) %>%\n",
    "    summarise(n_matches=n()) %>%\n",
    "    ungroup() %>%\n",
    "    select(-year)\n",
    "\n",
    "total_par18 <- par18 %>%\n",
    "    group_by(year, offs_site, par_site) %>%\n",
    "    summarise(n_matches=n()) %>%\n",
    "    ungroup() %>%\n",
    "    select(-year)\n",
    "\n",
    "#prop_vec <- seq(0.1, 1, 0.05), sample(prop_vec, 1) instead of static average\n",
    "\n",
    "#add in sites that were sampled but there was no match\n",
    "for(i in 1:nrow(prop_samp)){\n",
    "    \n",
    "    \n",
    "    if(is.nan(prop_samp$total_prop_hab_sampled_anems_tidied[i])){prop_samp$total_prop_hab_sampled_anems_tidied[i] <- 0.1} \n",
    "    if(is.infinite(prop_samp$total_prop_hab_sampled_anems_tidied[i])){prop_samp$total_prop_hab_sampled_anems_tidied[i] <- 1}\n",
    "    ifelse(prop_samp$total_prop_hab_sampled_anems_tidied[i] == 0, 0.48 , prop_samp$total_prop_hab_sampled_anems_tidied[i])\n",
    "    \n",
    "}\n",
    "\n",
    "\n",
    "prop_samp12 <- prop_samp %>%\n",
    "    filter(end_year==\"2012\") %>%\n",
    "    select(site, total_prop_hab_sampled_anems_tidied)\n",
    "\n",
    "#use nrow(sites) to get the dimensions that I need to trim the matrix to\n",
    "\n",
    "sites12 <- prop_samp12 %>%\n",
    "    select(site)\n",
    "sites12_2 <- suppressWarnings(semi_join(all_sites, sites12, by=\"site\")) %>%\n",
    "    select(index)\n",
    "sites12t <- t(sites12_2)\n",
    "\n",
    "\n",
    "\n",
    "sites12_beta <- sites12 %>%\n",
    "    #select(-pop) %>%\n",
    "    rename(par_site=\"site\")\n",
    "\n",
    "sites12_beta$offs_site <- sites12_beta$par_site\n",
    "\n",
    "allsites_parentage12 <- full_join(sites12_beta, total_par12, by=c(\"par_site\", \"offs_site\")) %>%\n",
    "    group_by(offs_site, par_site) %>%\n",
    "    filter(row_number()==1) %>%\n",
    "    arrange(offs_site, par_site)\n",
    "\n",
    "\n",
    "prop_samp13 <- prop_samp %>%\n",
    "    filter(end_year==\"2013\" ) %>%\n",
    "    select(site, total_prop_hab_sampled_anems_tidied)\n",
    "\n",
    "\n",
    "##generate list of site indices\n",
    "sites13 <- prop_samp13 %>%\n",
    "    select(site)\n",
    "sites13_2 <- suppressWarnings(semi_join(all_sites, sites13, by=\"site\")) %>%\n",
    "    select(index)\n",
    "sites13t <- t(sites13_2)\n",
    "\n",
    "sites13_beta <- sites13 %>%\n",
    "    #select(-pop) %>%\n",
    "    rename(par_site=\"site\")\n",
    "\n",
    "sites13_beta$offs_site <- sites13_beta$par_site\n",
    "\n",
    "allsites_parentage13 <- full_join(sites13_beta, total_par13, by=c(\"par_site\", \"offs_site\")) %>%\n",
    "    group_by(offs_site, par_site) %>%\n",
    "    filter(row_number()==1) %>%\n",
    "    arrange(offs_site, par_site)\n",
    "\n",
    "\n",
    "prop_samp14 <- prop_samp %>%\n",
    "    filter(end_year==\"2014\" ) %>%\n",
    "    select(site, total_prop_hab_sampled_anems_tidied)\n",
    "\n",
    "\n",
    "##generate list of site indices\n",
    "sites14 <- prop_samp14 %>%\n",
    "    select(site)\n",
    "sites14_2 <- suppressWarnings(semi_join(all_sites, sites14, by=\"site\")) %>%\n",
    "    select(index)\n",
    "sites14t <- t(sites14_2)\n",
    "\n",
    "sites14_beta <- sites14 %>%\n",
    "    #select(-pop) %>%\n",
    "    rename(par_site=\"site\")\n",
    "\n",
    "sites14_beta$offs_site <- sites14_beta$par_site\n",
    "\n",
    "allsites_parentage14 <- full_join(sites14_beta, total_par14, by=c(\"par_site\", \"offs_site\")) %>%\n",
    "    group_by(offs_site, par_site) %>%\n",
    "    filter(row_number()==1) %>%\n",
    "    arrange(offs_site, par_site)\n",
    "\n",
    "prop_samp15 <- prop_samp %>%\n",
    "    filter(end_year==\"2015\" ) %>%\n",
    "    select(site, total_prop_hab_sampled_anems_tidied)\n",
    "\n",
    "\n",
    "##generate list of site indices\n",
    "sites15 <- prop_samp15 %>%\n",
    "    select(site)\n",
    "sites15_2 <- suppressWarnings(semi_join(all_sites, sites15, by=\"site\")) %>%\n",
    "    select(index)\n",
    "sites15t <- t(sites15_2)\n",
    "\n",
    "sites15_beta <- sites15 %>%\n",
    "    #select(-pop) %>%\n",
    "    rename(par_site=\"site\")\n",
    "\n",
    "sites15_beta$offs_site <- sites15_beta$par_site\n",
    "\n",
    "allsites_parentage15 <- full_join(sites15_beta, total_par15, by=c(\"par_site\", \"offs_site\")) %>%\n",
    "    group_by(offs_site, par_site) %>%\n",
    "    filter(row_number()==1) %>%\n",
    "    arrange(offs_site, par_site)\n",
    "\n",
    "prop_samp16 <- prop_samp %>%\n",
    "    filter(end_year==\"2016\" ) %>%\n",
    "    select(site, total_prop_hab_sampled_anems_tidied)\n",
    "\n",
    "\n",
    "##generate list of site indices\n",
    "sites16 <- prop_samp16 %>%\n",
    "    select(site)\n",
    "sites16_2 <- suppressWarnings(semi_join(all_sites, sites16, by=\"site\")) %>%\n",
    "    select(index)\n",
    "sites16t <- t(sites16_2)\n",
    "\n",
    "sites16_beta <- sites16 %>%\n",
    "    #select(-pop) %>%\n",
    "    rename(par_site=\"site\")\n",
    "\n",
    "sites16_beta$offs_site <- sites16_beta$par_site\n",
    "\n",
    "allsites_parentage16 <- full_join(sites16_beta, total_par16, by=c(\"par_site\", \"offs_site\")) %>%\n",
    "    group_by(offs_site, par_site) %>%\n",
    "    filter(row_number()==1) %>%\n",
    "    arrange(offs_site, par_site)\n",
    "\n",
    "prop_samp17 <- prop_samp %>%\n",
    "    filter(end_year==\"2017\") %>%\n",
    "    select(site, total_prop_hab_sampled_anems_tidied)\n",
    "\n",
    "\n",
    "##generate list of site indices\n",
    "sites17 <- prop_samp17 %>%\n",
    "    select(site)\n",
    "sites17_2 <- suppressWarnings(semi_join(all_sites, sites17, by=\"site\")) %>%\n",
    "    select(index)\n",
    "sites17t <- t(sites17_2)\n",
    "\n",
    "sites17_beta <- sites17 %>%\n",
    "    #select(-pop) %>%\n",
    "    rename(par_site=\"site\")\n",
    "\n",
    "sites17_beta$offs_site <- sites17_beta$par_site\n",
    "\n",
    "allsites_parentage17 <- full_join(sites17_beta, total_par17, by=c(\"par_site\", \"offs_site\")) %>%\n",
    "    group_by(offs_site, par_site) %>%\n",
    "    filter(row_number()==1) %>%\n",
    "    arrange(offs_site, par_site)\n",
    "\n",
    "prop_samp18 <- prop_samp %>%\n",
    "    filter(end_year==\"2018\" ) %>%\n",
    "    select(site, total_prop_hab_sampled_anems_tidied)\n",
    "\n",
    "\n",
    "##generate list of site indices\n",
    "sites18 <- prop_samp18 %>%\n",
    "    select(site)\n",
    "sites18_2 <- suppressWarnings(semi_join(all_sites, sites18, by=\"site\")) %>%\n",
    "    select(index)\n",
    "sites18t <- t(sites18_2)\n",
    "\n",
    "sites18_beta <- sites18 %>%\n",
    "    #select(-pop) %>%\n",
    "    rename(par_site=\"site\")\n",
    "\n",
    "sites18_beta$offs_site <- sites18_beta$par_site\n",
    "\n",
    "allsites_parentage18 <- full_join(sites18_beta, total_par18, by=c(\"par_site\", \"offs_site\")) %>%\n",
    "    group_by(offs_site, par_site) %>%\n",
    "    filter(row_number()==1) %>%\n",
    "    arrange(offs_site, par_site)\n",
    "\n",
    "\n",
    "#turn into a matrix of the correct format\n",
    "parmat12 <- allsites_parentage12 %>% \n",
    "    filter(!is.na(offs_site) & !is.na(par_site)) %>%\n",
    "    group_by(offs_site, par_site) %>%\n",
    "    filter(row_number()==1) %>%\n",
    "    spread(offs_site, n_matches)\n",
    "\n",
    "##change NAs to 0\n",
    "parmat12[is.na(parmat12)] <- 0\n",
    "rownames(parmat12) <- suppressWarnings(parmat12$par_site)\n",
    "parmat12$par_site <- NULL\n",
    "\n",
    "parmat12 <- (parmat12[1:nrow(sites12_beta), 1:nrow(sites12_beta)])\n",
    "\n",
    "\n",
    "parmat13 <- allsites_parentage13 %>% \n",
    "    filter(!is.na(offs_site) & !is.na(par_site)) %>%\n",
    "    group_by(offs_site, par_site) %>%\n",
    "    filter(row_number()==1) %>%\n",
    "    spread(offs_site, n_matches)\n",
    "\n",
    "##change NAs to 0\n",
    "parmat13[is.na(parmat13)] <- 0\n",
    "rownames(parmat13) <- suppressWarnings(parmat13$par_site)\n",
    "parmat13$par_site <- NULL\n",
    "\n",
    "parmat13 <- (parmat13[1:nrow(sites13_beta), 1:nrow(sites13_beta)])\n",
    "\n",
    "parmat14 <- allsites_parentage14 %>% \n",
    "    filter(!is.na(offs_site) & !is.na(par_site)) %>%\n",
    "    group_by(offs_site, par_site) %>%\n",
    "    filter(row_number()==1) %>%\n",
    "    spread(offs_site, n_matches)\n",
    "\n",
    "##change NAs to 0\n",
    "parmat14[is.na(parmat14)] <- 0\n",
    "rownames(parmat14) <- suppressWarnings(parmat14$par_site)\n",
    "parmat14$par_site <- NULL\n",
    "\n",
    "parmat14 <- (parmat14[1:nrow(sites14_beta), 1:nrow(sites14_beta)])\n",
    "\n",
    "parmat15 <- allsites_parentage15 %>% \n",
    "    filter(!is.na(offs_site) & !is.na(par_site)) %>%\n",
    "    group_by(offs_site, par_site) %>%\n",
    "    filter(row_number()==1) %>%\n",
    "    spread(offs_site, n_matches)\n",
    "\n",
    "##change NAs to 0\n",
    "parmat15[is.na(parmat15)] <- 0\n",
    "rownames(parmat15) <- suppressWarnings(parmat15$par_site)\n",
    "parmat15$par_site <- NULL\n",
    "\n",
    "parmat15 <- (parmat15[1:nrow(sites15_beta), 1:nrow(sites15_beta)])\n",
    "\n",
    "parmat16 <- allsites_parentage16 %>% \n",
    "    filter(!is.na(offs_site) & !is.na(par_site)) %>%\n",
    "    group_by(offs_site, par_site) %>%\n",
    "    filter(row_number()==1) %>%\n",
    "    spread(offs_site, n_matches)\n",
    "\n",
    "##change NAs to 0\n",
    "parmat16[is.na(parmat16)] <- 0\n",
    "rownames(parmat16) <- suppressWarnings(parmat16$par_site)\n",
    "parmat16$par_site <- NULL\n",
    "\n",
    "parmat16 <- (parmat16[1:nrow(sites16_beta), 1:nrow(sites16_beta)])\n",
    "\n",
    "parmat17 <- allsites_parentage17 %>% \n",
    "    filter(!is.na(offs_site) & !is.na(par_site)) %>%\n",
    "    group_by(offs_site, par_site) %>%\n",
    "    filter(row_number()==1) %>%\n",
    "    spread(offs_site, n_matches)\n",
    "\n",
    "##change NAs to 0\n",
    "parmat17[is.na(parmat17)] <- 0\n",
    "rownames(parmat17) <- suppressWarnings(parmat17$par_site)\n",
    "parmat17$par_site <- NULL\n",
    "\n",
    "parmat17 <- (parmat17[1:nrow(sites17_beta), 1:nrow(sites17_beta)])\n",
    "\n",
    "\n",
    "#create the matrix with rows (parent pop) and columns (offs pop)\n",
    "parmat18 <- allsites_parentage18 %>% \n",
    "    filter(!is.na(offs_site) & !is.na(par_site)) %>%\n",
    "    group_by(offs_site, par_site) %>%\n",
    "    filter(row_number()==1) %>%\n",
    "    spread(offs_site, n_matches)\n",
    "\n",
    "##change NAs to 0\n",
    "parmat18[is.na(parmat18)] <- 0\n",
    "rownames(parmat18) <- suppressWarnings(parmat18$par_site)\n",
    "parmat18$par_site <- NULL\n",
    "\n",
    "parmat18 <- (parmat18[1:nrow(sites18_beta), 1:nrow(sites18_beta)])\n",
    "\n",
    "\n",
    "#add in the unassigned juveniles\n",
    "N_gen_offs_all <- AllFishObsWithParSim %>% \n",
    "    filter(input==\"offspring\") %>%\n",
    "    group_by(year, site) %>%\n",
    "    summarise(n_offs_gen=n())\n",
    "\n",
    "\n",
    "N_gen_offs2 <- N_gen_offs_all %>%\n",
    "    filter(year==2012 ) %>%\n",
    "    group_by(site, year) %>% #add group by year if doing annual\n",
    "    summarise(sampled_fish=sum(n_offs_gen)) \n",
    "\n",
    "\n",
    "#make dataframe with column for unassigned juveniles in each column (offspring site)\n",
    "offs_matched_site <- allsites_parentage12 %>%\n",
    "    group_by(offs_site) %>%\n",
    "    summarise(n_offs=sum(n_matches, na.rm=T))\n",
    "\n",
    "unassigned_beta <- semi_join(offs_matched_site, sites12, by=c(offs_site=\"site\")) %>%\n",
    "    ungroup() %>%\n",
    "    select(offs_site, n_offs)\n",
    "\n",
    "#unassigned_beta[is.na(unassigned_beta)] <- 0\n",
    "\n",
    "\n",
    "net_unassigned <- left_join(unassigned_beta, N_gen_offs2, by=c(offs_site=\"site\")) %>%\n",
    "    mutate(n_unassigned=sampled_fish-n_offs)\n",
    "#transpose to create a row, bind to the matrix\n",
    "\n",
    "row2add <- net_unassigned %>%\n",
    "    arrange(offs_site) %>%\n",
    "    select(n_unassigned, offs_site) %>%\n",
    "    group_by(offs_site) %>%\n",
    "    filter(row_number()==1) %>%\n",
    "    ungroup() %>%\n",
    "    select(n_unassigned)\n",
    "row2addT <- as.data.frame(t(row2add))\n",
    "colnames(row2addT) <- colnames(parmat12)\n",
    "\n",
    "parmat12 <- ungroup(parmat12)\n",
    "parmat_12_full <- bind_rows(parmat12, row2addT)\n",
    "parmat_12_full[is.na(parmat_12_full)] <- 0\n",
    "\n",
    "\n",
    "N_gen_offs2 <- N_gen_offs_all %>%\n",
    "    filter(year==2013 ) %>%\n",
    "    group_by(site, year) %>% #add group by year if doing annual\n",
    "    summarise(sampled_fish=sum(n_offs_gen)) \n",
    "\n",
    "\n",
    "#make dataframe with column for unassigned juveniles in each column (offspring site)\n",
    "offs_matched_site <- allsites_parentage13 %>%\n",
    "    group_by(offs_site) %>%\n",
    "    summarise(n_offs=sum(n_matches, na.rm=T))\n",
    "\n",
    "unassigned_beta <- semi_join(offs_matched_site, sites13, by=c(offs_site=\"site\")) %>%\n",
    "    ungroup() %>%\n",
    "    select(offs_site, n_offs)\n",
    "\n",
    "#unassigned_beta[is.na(unassigned_beta)] <- 0\n",
    "\n",
    "\n",
    "net_unassigned <- left_join(unassigned_beta, N_gen_offs2, by=c(offs_site=\"site\")) %>%\n",
    "    mutate(n_unassigned=sampled_fish-n_offs)\n",
    "#transpose to create a row, bind to the matrix\n",
    "\n",
    "row2add <- net_unassigned %>%\n",
    "    arrange(offs_site) %>%\n",
    "    select(n_unassigned, offs_site) %>%\n",
    "    group_by(offs_site) %>%\n",
    "    filter(row_number()==1) %>%\n",
    "    ungroup() %>%\n",
    "    select(n_unassigned)\n",
    "row2addT <- as.data.frame(t(row2add))\n",
    "colnames(row2addT) <- colnames(parmat13)\n",
    "\n",
    "parmat13 <- ungroup(parmat13)\n",
    "parmat_13_full <- bind_rows(parmat13, row2addT)\n",
    "parmat_13_full[is.na(parmat_13_full)] <- 0\n",
    "\n",
    "N_gen_offs2 <- N_gen_offs_all %>%\n",
    "    filter(year==2014 ) %>%\n",
    "    group_by(site, year) %>% #add group by year if doing annual\n",
    "    summarise(sampled_fish=sum(n_offs_gen)) \n",
    "\n",
    "\n",
    "#make dataframe with column for unassigned juveniles in each column (offspring site)\n",
    "offs_matched_site <- allsites_parentage14 %>%\n",
    "    group_by(offs_site) %>%\n",
    "    summarise(n_offs=sum(n_matches, na.rm=T))\n",
    "\n",
    "unassigned_beta <- semi_join(offs_matched_site, sites14, by=c(offs_site=\"site\")) %>%\n",
    "    ungroup() %>%\n",
    "    select(offs_site, n_offs)\n",
    "\n",
    "#unassigned_beta[is.na(unassigned_beta)] <- 0\n",
    "\n",
    "\n",
    "net_unassigned <- left_join(unassigned_beta, N_gen_offs2, by=c(offs_site=\"site\")) %>%\n",
    "    mutate(n_unassigned=sampled_fish-n_offs)\n",
    "#transpose to create a row, bind to the matrix\n",
    "\n",
    "row2add <- net_unassigned %>%\n",
    "    arrange(offs_site) %>%\n",
    "    select(n_unassigned, offs_site) %>%\n",
    "    group_by(offs_site) %>%\n",
    "    filter(row_number()==1) %>%\n",
    "    ungroup() %>%\n",
    "    select(n_unassigned)\n",
    "row2addT <- as.data.frame(t(row2add))\n",
    "colnames(row2addT) <- colnames(parmat14)\n",
    "\n",
    "parmat14 <- ungroup(parmat14)\n",
    "parmat_14_full <- bind_rows(parmat14, row2addT)\n",
    "parmat_14_full[is.na(parmat_14_full)] <- 0\n",
    "\n",
    "\n",
    "N_gen_offs2 <- N_gen_offs_all %>%\n",
    "    filter(year==2015 ) %>%\n",
    "    group_by(site, year) %>% #add group by year if doing annual\n",
    "    summarise(sampled_fish=sum(n_offs_gen)) \n",
    "\n",
    "\n",
    "#make dataframe with column for unassigned juveniles in each column (offspring site)\n",
    "offs_matched_site <- allsites_parentage15 %>%\n",
    "    group_by(offs_site) %>%\n",
    "    summarise(n_offs=sum(n_matches, na.rm=T))\n",
    "\n",
    "unassigned_beta <- semi_join(offs_matched_site, sites15, by=c(offs_site=\"site\")) %>%\n",
    "    ungroup() %>%\n",
    "    select(offs_site, n_offs)\n",
    "\n",
    "#unassigned_beta[is.na(unassigned_beta)] <- 0\n",
    "\n",
    "\n",
    "net_unassigned <- left_join(unassigned_beta, N_gen_offs2, by=c(offs_site=\"site\")) %>%\n",
    "    mutate(n_unassigned=sampled_fish-n_offs)\n",
    "#transpose to create a row, bind to the matrix\n",
    "\n",
    "row2add <- net_unassigned %>%\n",
    "    arrange(offs_site) %>%\n",
    "    select(n_unassigned, offs_site) %>%\n",
    "    group_by(offs_site) %>%\n",
    "    filter(row_number()==1) %>%\n",
    "    ungroup() %>%\n",
    "    select(n_unassigned)\n",
    "row2addT <- as.data.frame(t(row2add))\n",
    "colnames(row2addT) <- colnames(parmat15)\n",
    "\n",
    "parmat15 <- ungroup(parmat15)\n",
    "parmat_15_full <- bind_rows(parmat15, row2addT)\n",
    "parmat_15_full[is.na(parmat_15_full)] <- 0\n",
    "\n",
    "N_gen_offs2 <- N_gen_offs_all %>%\n",
    "    filter(year==2016 ) %>%\n",
    "    group_by(site, year) %>% #add group by year if doing annual\n",
    "    summarise(sampled_fish=sum(n_offs_gen)) \n",
    "\n",
    "\n",
    "#make dataframe with column for unassigned juveniles in each column (offspring site)\n",
    "offs_matched_site <- allsites_parentage16 %>%\n",
    "    group_by(offs_site) %>%\n",
    "    summarise(n_offs=sum(n_matches, na.rm=T))\n",
    "\n",
    "unassigned_beta <- semi_join(offs_matched_site, sites16, by=c(offs_site=\"site\")) %>%\n",
    "    ungroup() %>%\n",
    "    select(offs_site, n_offs)\n",
    "\n",
    "#unassigned_beta[is.na(unassigned_beta)] <- 0\n",
    "\n",
    "\n",
    "net_unassigned <- left_join(unassigned_beta, N_gen_offs2, by=c(offs_site=\"site\")) %>%\n",
    "    mutate(n_unassigned=sampled_fish-n_offs)\n",
    "#transpose to create a row, bind to the matrix\n",
    "\n",
    "row2add <- net_unassigned %>%\n",
    "    arrange(offs_site) %>%\n",
    "    select(n_unassigned, offs_site) %>%\n",
    "    group_by(offs_site) %>%\n",
    "    filter(row_number()==1) %>%\n",
    "    ungroup() %>%\n",
    "    select(n_unassigned)\n",
    "row2addT <- as.data.frame(t(row2add))\n",
    "colnames(row2addT) <- colnames(parmat16)\n",
    "\n",
    "parmat16 <- ungroup(parmat16)\n",
    "parmat_16_full <- bind_rows(parmat16, row2addT)\n",
    "parmat_16_full[is.na(parmat_16_full)] <- 0\n",
    "\n",
    "\n",
    "N_gen_offs2 <- N_gen_offs_all %>%\n",
    "    filter(year==2017 ) %>%\n",
    "    group_by(site, year) %>% #add group by year if doing annual\n",
    "    summarise(sampled_fish=sum(n_offs_gen)) \n",
    "\n",
    "\n",
    "#make dataframe with column for unassigned juveniles in each column (offspring site)\n",
    "offs_matched_site <- allsites_parentage17 %>%\n",
    "    group_by(offs_site) %>%\n",
    "    summarise(n_offs=sum(n_matches, na.rm=T))\n",
    "\n",
    "unassigned_beta <- semi_join(offs_matched_site, sites17, by=c(offs_site=\"site\")) %>%\n",
    "    ungroup() %>%\n",
    "    select(offs_site, n_offs)\n",
    "\n",
    "#unassigned_beta[is.na(unassigned_beta)] <- 0\n",
    "\n",
    "\n",
    "net_unassigned <- left_join(unassigned_beta, N_gen_offs2, by=c(offs_site=\"site\")) %>%\n",
    "    mutate(n_unassigned=sampled_fish-n_offs)\n",
    "#transpose to create a row, bind to the matrix\n",
    "\n",
    "row2add <- net_unassigned %>%\n",
    "    arrange(offs_site) %>%\n",
    "    select(n_unassigned, offs_site) %>%\n",
    "    group_by(offs_site) %>%\n",
    "    filter(row_number()==1) %>%\n",
    "    ungroup() %>%\n",
    "    select(n_unassigned)\n",
    "row2addT <- as.data.frame(t(row2add))\n",
    "colnames(row2addT) <- colnames(parmat17)\n",
    "\n",
    "parmat17 <- ungroup(parmat17)\n",
    "parmat_17_full <- bind_rows(parmat17, row2addT)\n",
    "parmat_17_full[is.na(parmat_17_full)] <- 0\n",
    "\n",
    "\n",
    "N_gen_offs2 <- N_gen_offs_all %>%\n",
    "    filter(year==2018 ) %>%\n",
    "    group_by(site, year) %>% #add group by year if doing annual\n",
    "    summarise(sampled_fish=sum(n_offs_gen)) \n",
    "\n",
    "\n",
    "#make dataframe with column for unassigned juveniles in each column (offspring site)\n",
    "offs_matched_site <- allsites_parentage18 %>%\n",
    "    group_by(offs_site) %>%\n",
    "    summarise(n_offs=sum(n_matches, na.rm=T))\n",
    "\n",
    "unassigned_beta <- semi_join(offs_matched_site, sites18, by=c(offs_site=\"site\")) %>%\n",
    "    ungroup() %>%\n",
    "    select(offs_site, n_offs)\n",
    "\n",
    "#unassigned_beta[is.na(unassigned_beta)] <- 0\n",
    "\n",
    "\n",
    "net_unassigned <- left_join(unassigned_beta, N_gen_offs2, by=c(offs_site=\"site\")) %>%\n",
    "    mutate(n_unassigned=sampled_fish-n_offs)\n",
    "#transpose to create a row, bind to the matrix\n",
    "\n",
    "row2add <- net_unassigned %>%\n",
    "    arrange(offs_site) %>%\n",
    "    select(n_unassigned, offs_site) %>%\n",
    "    group_by(offs_site) %>%\n",
    "    filter(row_number()==1) %>%\n",
    "    ungroup() %>%\n",
    "    select(n_unassigned)\n",
    "row2addT <- as.data.frame(t(row2add))\n",
    "colnames(row2addT) <- colnames(parmat18)\n",
    "\n",
    "parmat18 <- ungroup(parmat18)\n",
    "parmat_18_full <- bind_rows(parmat18, row2addT)\n",
    "parmat_18_full[is.na(parmat_18_full)] <- 0\n",
    "\n",
    "#end file prep\n",
    "\n",
    "#fit kernels \n",
    "Assignments <- parmat_12_full\n",
    "Adult_sample_proportions <- as.matrix(read.csv(\"~/parentage/kernel_fitting/1340_loci/input/prop_samp12.csv\", header=FALSE))\n",
    "Sampled_reefs <- as.matrix(read.csv(\"~/parentage/kernel_fitting/1340_loci/input/site_index12.csv\", header=FALSE))\n",
    "Distances <- as.matrix(read.csv(\"~/parentage/kernel_fitting/894_loci/distance_matrix_unsurveyed.csv\", header=FALSE))\n",
    "Reef_sizes <- as.matrix(read.csv(\"~/parentage/kernel_fitting/894_loci/area_unsurveyed.csv\", header=FALSE))\n",
    "Centroids <- as.matrix(read.csv(\"~/parentage/kernel_fitting/894_loci/centroids_unsurveyed.csv\", header=T))\n",
    "\n",
    "a=-10\n",
    "b=10\n",
    "\n",
    "x <- list(Distances=Distances, Assignments=Assignments, Sampled_reefs=Sampled_reefs, Reef_sizes=Reef_sizes, Adult_sample_proportions=Adult_sample_proportions) #put inputs into a list because that's the bbmle format\n",
    "\n",
    "fit_both12 <- suppressWarnings(mle2(LL_kt_bbmle, start=list(k=1, theta=1), lower=c(-10, 0.15), upper=c(10, 5), method=\"L-BFGS-B\", data=x, control=list(maxit=500)))\n",
    "k12_b <- coef(fit_both12)[1]\n",
    "theta12_b <- coef(fit_both12)[2]\n",
    "MDD12_b <- cubintegrate(integrate_kernel_sum1, lower = 0, upper = Inf, k=k12_b, theta=theta12_b, method = \"pcubature\")$integral\n",
    "theta_eval <- theta12_b\n",
    "k_eval <- k12_b\n",
    "MedianDispDist12 <- round(nleqslv(x = 7, fn = cdf_solve)$x, 2)\n",
    "Dist90Retained12 <- round(nleqslv(x = 7, fn = cdf_solve90)$x, 2) \n",
    "\n",
    "col <- c(\"year\", \"k\", \"theta\", \"MDD\", \"MedianDispDist\",\"Dist90Retained\", \"iteration\")\n",
    "BootstrapKernels12 <- as.data.frame(matrix(nrow=1, ncol=7), stringsAsFactors = FALSE)\n",
    "colnames(BootstrapKernels12) <- col\n",
    "\n",
    "BootstrapKernels12$year <- \"2012\"\n",
    "BootstrapKernels12$k <- k12_b\n",
    "BootstrapKernels12$theta <- theta12_b\n",
    "BootstrapKernels12$MDD <- MDD12_b\n",
    "BootstrapKernels12$MedianDispDist <- MedianDispDist12\n",
    "BootstrapKernels12$Dist90Retained <- Dist90Retained12\n",
    "BootstrapKernels12$iteration <- as.character(n)\n",
    "\n",
    "\n",
    "\n",
    "Assignments <- parmat_13_full\n",
    "Adult_sample_proportions <- as.matrix(read.csv(\"~/parentage/kernel_fitting/1340_loci/input/prop_samp13.csv\", header=FALSE))\n",
    "Sampled_reefs <- as.matrix(read.csv(\"~/parentage/kernel_fitting/1340_loci/input/site_index13.csv\", header=FALSE))\n",
    "Distances <- as.matrix(read.csv(\"~/parentage/kernel_fitting/894_loci/distance_matrix_unsurveyed.csv\", header=FALSE))\n",
    "Reef_sizes <- as.matrix(read.csv(\"~/parentage/kernel_fitting/894_loci/area_unsurveyed.csv\", header=FALSE))\n",
    "Centroids <- as.matrix(read.csv(\"~/parentage/kernel_fitting/894_loci/centroids_unsurveyed.csv\", header=T))\n",
    "\n",
    "a=-10\n",
    "b=10\n",
    "\n",
    "x <- list(Distances=Distances, Assignments=Assignments, Sampled_reefs=Sampled_reefs, Reef_sizes=Reef_sizes, Adult_sample_proportions=Adult_sample_proportions) #put inputs into a list because that's the bbmle format\n",
    "\n",
    "fit_both13 <- suppressWarnings(mle2(LL_kt_bbmle, start=list(k=1, theta=1), lower=c(-10, 0.15), upper=c(10, 5), method=\"L-BFGS-B\", data=x, control=list(maxit=500)))\n",
    "k13_b <- coef(fit_both13)[1]\n",
    "theta13_b <- coef(fit_both13)[2]\n",
    "MDD13_b <- cubintegrate(integrate_kernel_sum1, lower = 0, upper = Inf, k=k13_b, theta=theta13_b, method = \"pcubature\")$integral\n",
    "theta_eval <- theta13_b\n",
    "k_eval <- k13_b\n",
    "MedianDispDist13 <- round(nleqslv(x = 7, fn = cdf_solve)$x, 2)\n",
    "Dist90Retained13 <- round(nleqslv(x = 7, fn = cdf_solve90)$x, 2) \n",
    "\n",
    "col <- c(\"year\", \"k\", \"theta\", \"MDD\", \"MedianDispDist\",\"Dist90Retained\", \"iteration\")\n",
    "BootstrapKernels13 <- as.data.frame(matrix(nrow=1, ncol=7), stringsAsFactors = FALSE)\n",
    "colnames(BootstrapKernels13) <- col\n",
    "\n",
    "BootstrapKernels13$year <- \"2013\"\n",
    "BootstrapKernels13$k <- k13_b\n",
    "BootstrapKernels13$theta <- theta13_b\n",
    "BootstrapKernels13$MDD <- MDD13_b\n",
    "BootstrapKernels13$MedianDispDist <- MedianDispDist13\n",
    "BootstrapKernels13$Dist90Retained <- Dist90Retained13\n",
    "BootstrapKernels13$iteration <- as.character(n)\n",
    "\n",
    "\n",
    "\n",
    "\n",
    "Assignments <- parmat_14_full\n",
    "Adult_sample_proportions <- as.matrix(read.csv(\"~/parentage/kernel_fitting/1340_loci/input/prop_samp14.csv\", header=FALSE))\n",
    "Sampled_reefs <- as.matrix(read.csv(\"~/parentage/kernel_fitting/1340_loci/input/site_index14.csv\", header=FALSE))\n",
    "Distances <- as.matrix(read.csv(\"~/parentage/kernel_fitting/894_loci/distance_matrix_unsurveyed.csv\", header=FALSE))\n",
    "Reef_sizes <- as.matrix(read.csv(\"~/parentage/kernel_fitting/894_loci/area_unsurveyed.csv\", header=FALSE))\n",
    "Centroids <- as.matrix(read.csv(\"~/parentage/kernel_fitting/894_loci/centroids_unsurveyed.csv\", header=T))\n",
    "\n",
    "a=-10\n",
    "b=10\n",
    "\n",
    "x <- list(Distances=Distances, Assignments=Assignments, Sampled_reefs=Sampled_reefs, Reef_sizes=Reef_sizes, Adult_sample_proportions=Adult_sample_proportions) #put inputs into a list because that's the bbmle format\n",
    "\n",
    "fit_both14 <- suppressWarnings(mle2(LL_kt_bbmle, start=list(k=1, theta=1), lower=c(-10, 0.15), upper=c(10, 5), method=\"L-BFGS-B\", data=x, control=list(maxit=500)))\n",
    "k14_b <- coef(fit_both14)[1]\n",
    "theta14_b <- coef(fit_both14)[2]\n",
    "MDD14_b <- cubintegrate(integrate_kernel_sum1, lower = 0, upper = Inf, k=k14_b, theta=theta14_b, method = \"pcubature\")$integral\n",
    "theta_eval <- theta14_b\n",
    "k_eval <- k14_b\n",
    "MedianDispDist14 <- round(nleqslv(x = 7, fn = cdf_solve)$x, 2)\n",
    "Dist90Retained14 <- round(nleqslv(x = 7, fn = cdf_solve90)$x, 2) \n",
    "\n",
    "col <- c(\"year\", \"k\", \"theta\", \"MDD\", \"MedianDispDist\",\"Dist90Retained\", \"iteration\")\n",
    "BootstrapKernels14 <- as.data.frame(matrix(nrow=1, ncol=7), stringsAsFactors = FALSE)\n",
    "colnames(BootstrapKernels14) <- col\n",
    "\n",
    "BootstrapKernels14$year <- \"2014\"\n",
    "BootstrapKernels14$k <- k14_b\n",
    "BootstrapKernels14$theta <- theta14_b\n",
    "BootstrapKernels14$MDD <- MDD14_b\n",
    "BootstrapKernels14$MedianDispDist <- MedianDispDist14\n",
    "BootstrapKernels14$Dist90Retained <- Dist90Retained14\n",
    "BootstrapKernels14$iteration <- as.character(n)\n",
    "    \n",
    "\n",
    "Assignments <- parmat_15_full\n",
    "Adult_sample_proportions <- as.matrix(read.csv(\"~/parentage/kernel_fitting/1340_loci/input/prop_samp15.csv\", header=FALSE))\n",
    "Sampled_reefs <- as.matrix(read.csv(\"~/parentage/kernel_fitting/1340_loci/input/site_index15.csv\", header=FALSE))\n",
    "Distances <- as.matrix(read.csv(\"~/parentage/kernel_fitting/894_loci/distance_matrix_unsurveyed.csv\", header=FALSE))\n",
    "Reef_sizes <- as.matrix(read.csv(\"~/parentage/kernel_fitting/894_loci/area_unsurveyed.csv\", header=FALSE))\n",
    "Centroids <- as.matrix(read.csv(\"~/parentage/kernel_fitting/894_loci/centroids_unsurveyed.csv\", header=T))\n",
    "\n",
    "a=-10\n",
    "b=10\n",
    "\n",
    "x <- list(Distances=Distances, Assignments=Assignments, Sampled_reefs=Sampled_reefs, Reef_sizes=Reef_sizes, Adult_sample_proportions=Adult_sample_proportions) #put inputs into a list because that's the bbmle format\n",
    "\n",
    "fit_both15 <- suppressWarnings(mle2(LL_kt_bbmle, start=list(k=1, theta=1), lower=c(-10, 0.15), upper=c(10, 5), method=\"L-BFGS-B\", data=x, control=list(maxit=500)))\n",
    "k15_b <- coef(fit_both15)[1]\n",
    "theta15_b <- coef(fit_both15)[2]\n",
    "MDD15_b <- cubintegrate(integrate_kernel_sum1, lower = 0, upper = Inf, k=k15_b, theta=theta15_b, method = \"pcubature\")$integral\n",
    "theta_eval <- theta15_b\n",
    "k_eval <- k15_b\n",
    "MedianDispDist15 <- round(nleqslv(x = 7, fn = cdf_solve)$x, 2)\n",
    "Dist90Retained15 <- round(nleqslv(x = 7, fn = cdf_solve90)$x, 2) \n",
    "\n",
    "col <- c(\"year\", \"k\", \"theta\", \"MDD\", \"MedianDispDist\",\"Dist90Retained\", \"iteration\")\n",
    "BootstrapKernels15 <- as.data.frame(matrix(nrow=1, ncol=7), stringsAsFactors = FALSE)\n",
    "colnames(BootstrapKernels15) <- col\n",
    "\n",
    "BootstrapKernels15$year <- \"2015\"\n",
    "BootstrapKernels15$k <- k15_b\n",
    "BootstrapKernels15$theta <- theta15_b\n",
    "BootstrapKernels15$MDD <- MDD15_b\n",
    "BootstrapKernels15$MedianDispDist <- MedianDispDist15\n",
    "BootstrapKernels15$Dist90Retained <- Dist90Retained15\n",
    "BootstrapKernels15$iteration <- as.character(n)\n",
    "\n",
    "\n",
    "Assignments <- parmat_16_full\n",
    "Adult_sample_proportions <- as.matrix(read.csv(\"~/parentage/kernel_fitting/1340_loci/input/prop_samp16.csv\", header=FALSE))\n",
    "Sampled_reefs <- as.matrix(read.csv(\"~/parentage/kernel_fitting/1340_loci/input/site_index16.csv\", header=FALSE))\n",
    "Distances <- as.matrix(read.csv(\"~/parentage/kernel_fitting/894_loci/distance_matrix_unsurveyed.csv\", header=FALSE))\n",
    "Reef_sizes <- as.matrix(read.csv(\"~/parentage/kernel_fitting/894_loci/area_unsurveyed.csv\", header=FALSE))\n",
    "Centroids <- as.matrix(read.csv(\"~/parentage/kernel_fitting/894_loci/centroids_unsurveyed.csv\", header=T))\n",
    "\n",
    "a=-10\n",
    "b=10\n",
    "\n",
    "x <- list(Distances=Distances, Assignments=Assignments, Sampled_reefs=Sampled_reefs, Reef_sizes=Reef_sizes, Adult_sample_proportions=Adult_sample_proportions) #put inputs into a list because that's the bbmle format\n",
    "\n",
    "fit_both16 <- suppressWarnings(mle2(LL_kt_bbmle, start=list(k=1, theta=1), lower=c(-10, 0.15), upper=c(10, 5), method=\"L-BFGS-B\", data=x, control=list(maxit=500)))\n",
    "k16_b <- coef(fit_both16)[1]\n",
    "theta16_b <- coef(fit_both16)[2]\n",
    "theta_eval <- theta16_b\n",
    "k_eval <- k16_b\n",
    "MedianDispDist16 <- round(nleqslv(x = 7, fn = cdf_solve)$x, 2)\n",
    "Dist90Retained16 <- round(nleqslv(x = 7, fn = cdf_solve90)$x, 2) \n",
    "\n",
    "col <- c(\"year\", \"k\", \"theta\", \"MDD\", \"MedianDispDist\",\"Dist90Retained\", \"iteration\")\n",
    "BootstrapKernels16 <- as.data.frame(matrix(nrow=1, ncol=7), stringsAsFactors = FALSE)\n",
    "colnames(BootstrapKernels16) <- col\n",
    "\n",
    "BootstrapKernels16$year <- \"2016\"\n",
    "BootstrapKernels16$k <- k16_b\n",
    "BootstrapKernels16$theta <- theta16_b\n",
    "BootstrapKernels16$MDD <- MDD16_b\n",
    "BootstrapKernels16$MedianDispDist <- MedianDispDist16\n",
    "BootstrapKernels16$Dist90Retained <- Dist90Retained16\n",
    "BootstrapKernels16$iteration <- as.character(n)\n",
    "\n",
    "\n",
    "Assignments <- parmat_17_full\n",
    "Adult_sample_proportions <- as.matrix(read.csv(\"~/parentage/kernel_fitting/1340_loci/input/prop_samp17.csv\", header=FALSE))\n",
    "Sampled_reefs <- as.matrix(read.csv(\"~/parentage/kernel_fitting/1340_loci/input/site_index17.csv\", header=FALSE))\n",
    "Distances <- as.matrix(read.csv(\"~/parentage/kernel_fitting/894_loci/distance_matrix_unsurveyed.csv\", header=FALSE))\n",
    "Reef_sizes <- as.matrix(read.csv(\"~/parentage/kernel_fitting/894_loci/area_unsurveyed.csv\", header=FALSE))\n",
    "Centroids <- as.matrix(read.csv(\"~/parentage/kernel_fitting/894_loci/centroids_unsurveyed.csv\", header=T))\n",
    "\n",
    "a=-10\n",
    "b=10\n",
    "\n",
    "x <- list(Distances=Distances, Assignments=Assignments, Sampled_reefs=Sampled_reefs, Reef_sizes=Reef_sizes, Adult_sample_proportions=Adult_sample_proportions) #put inputs into a list because that's the bbmle format\n",
    "\n",
    "fit_both17 <- suppressWarnings(mle2(LL_kt_bbmle, start=list(k=1, theta=1), lower=c(-10, 0.15), upper=c(10, 5), method=\"L-BFGS-B\", data=x, control=list(maxit=500)))\n",
    "k17_b <- coef(fit_both17)[1]\n",
    "theta17_b <- coef(fit_both17)[2]\n",
    "MDD17_b <- cubintegrate(integrate_kernel_sum1, lower = 0, upper = Inf, k=k17_b, theta=theta17_b, method = \"pcubature\")$integral\n",
    "theta_eval <- theta17_b\n",
    "k_eval <- k17_b\n",
    "MedianDispDist17 <- round(nleqslv(x = 7, fn = cdf_solve)$x, 2)\n",
    "Dist90Retained17 <- round(nleqslv(x = 7, fn = cdf_solve90)$x, 2) \n",
    "\n",
    "col <- c(\"year\", \"k\", \"theta\", \"MDD\", \"MedianDispDist\",\"Dist90Retained\", \"iteration\")\n",
    "BootstrapKernels17 <- as.data.frame(matrix(nrow=1, ncol=7), stringsAsFactors = FALSE)\n",
    "colnames(BootstrapKernels17) <- col\n",
    "\n",
    "BootstrapKernels17$year <- \"2017\"\n",
    "BootstrapKernels17$k <- k17_b\n",
    "BootstrapKernels17$theta <- theta17_b\n",
    "BootstrapKernels17$MDD <- MDD17_b\n",
    "BootstrapKernels17$MedianDispDist <- MedianDispDist17\n",
    "BootstrapKernels17$Dist90Retained <- Dist90Retained17\n",
    "BootstrapKernels17$iteration <- as.character(n)\n",
    "    \n",
    "\n",
    "Assignments <- parmat_18_full\n",
    "Adult_sample_proportions <- as.matrix(read.csv(\"~/parentage/kernel_fitting/1340_loci/input/prop_samp18.csv\", header=FALSE))\n",
    "Sampled_reefs <- as.matrix(read.csv(\"~/parentage/kernel_fitting/1340_loci/input/site_index18.csv\", header=FALSE))\n",
    "Distances <- as.matrix(read.csv(\"~/parentage/kernel_fitting/894_loci/distance_matrix_unsurveyed.csv\", header=FALSE))\n",
    "Reef_sizes <- as.matrix(read.csv(\"~/parentage/kernel_fitting/894_loci/area_unsurveyed.csv\", header=FALSE))\n",
    "Centroids <- as.matrix(read.csv(\"~/parentage/kernel_fitting/894_loci/centroids_unsurveyed.csv\", header=T))\n",
    "\n",
    "a=-10\n",
    "b=10\n",
    "\n",
    "x <- list(Distances=Distances, Assignments=Assignments, Sampled_reefs=Sampled_reefs, Reef_sizes=Reef_sizes, Adult_sample_proportions=Adult_sample_proportions) #put inputs into a list because that's the bbmle format\n",
    "\n",
    "fit_both18 <- suppressWarnings(mle2(LL_kt_bbmle, start=list(k=1, theta=1), lower=c(-10, 0.15), upper=c(10, 5), method=\"L-BFGS-B\", data=x, control=list(maxit=500)))\n",
    "k18_b <- coef(fit_both18)[1]\n",
    "theta18_b <- coef(fit_both18)[2]\n",
    "MDD18_b <- cubintegrate(integrate_kernel_sum1, lower = 0, upper = Inf, k=k18_b, theta=theta18_b, method = \"pcubature\")$integral\n",
    "theta_eval <- theta18_b\n",
    "k_eval <- k18_b\n",
    "MedianDispDist18 <- round(nleqslv(x = 7, fn = cdf_solve)$x, 2)\n",
    "Dist90Retained18 <- round(nleqslv(x = 7, fn = cdf_solve90)$x, 2) \n",
    "    \n",
    "    \n",
    "col <- c(\"year\", \"k\", \"theta\", \"MDD\", \"MedianDispDist\",\"Dist90Retained\", \"iteration\")\n",
    "BootstrapKernels18 <- as.data.frame(matrix(nrow=1, ncol=7), stringsAsFactors = FALSE)\n",
    "colnames(BootstrapKernels18) <- col\n",
    "\n",
    "BootstrapKernels18$year <- \"2018\"\n",
    "BootstrapKernels18$k <- k18_b\n",
    "BootstrapKernels18$theta <- theta18_b\n",
    "BootstrapKernels18$MDD <- MDD18_b\n",
    "BootstrapKernels18$MedianDispDist <- MedianDispDist18\n",
    "BootstrapKernels18$Dist90Retained <- Dist90Retained18\n",
    "BootstrapKernels18$iteration <- as.character(n)\n",
    "\n",
    "\n",
    "#bind together all simulated kernel fits\n",
    "#they aren't bootstraps technically but whatever it's a name\n",
    "SimulatedKernelsBeta <- bind_rows(BootstrapKernels12, BootstrapKernels13, BootstrapKernels14, BootstrapKernels15, BootstrapKernels16, BootstrapKernels17, BootstrapKernels18)\n",
    "\n",
    "SimulatedKernels <- bind_rows(SimulatedKernels, SimulatedKernelsBeta)\n",
    "\n",
    "setTxtProgressBar(pb, n)\n",
    "\n",
    "\n",
    "}\n",
    "close(pb)\n",
    "EndTime <- Sys.time()\n",
    "EndTime-StartTime\n",
    "options(warn=0) #turn warnings back on\n",
    "write.csv(SimulatedKernels, file=\"~/parentage/kernel_fitting/1340_loci/final_results/simulations/SimulatedAnnual.csv\", row.names=FALSE, quote=FALSE)\n"
   ]
  },
  {
   "cell_type": "code",
   "execution_count": 548,
   "metadata": {},
   "outputs": [
    {
     "data": {
      "text/html": [
       "0.000242857142857143"
      ],
      "text/latex": [
       "0.000242857142857143"
      ],
      "text/markdown": [
       "0.000242857142857143"
      ],
      "text/plain": [
       "[1] 0.0002428571"
      ]
     },
     "metadata": {},
     "output_type": "display_data"
    }
   ],
   "source": [
    "nrow(SimulatedKernels %>% filter(theta==5 | theta==0.15))/nrow(SimulatedKernels) "
   ]
  },
  {
   "cell_type": "code",
   "execution_count": 606,
   "metadata": {},
   "outputs": [],
   "source": [
    "SimulatedKernels <- read.csv(file=\"~/parentage/kernel_fitting/1340_loci/final_results/simulations/SimulatedAnnual.csv\", header=T) %>% #load simulations\n",
    "    mutate(iteration=as.character(iteration))\n",
    "\n",
    "kernels <- read.csv(file=\"~/parentage/kernel_fitting/1340_loci/final_results/tables/kernel_fitting_summary.csv\", header=T, stringsAsFactors = F) %>%\n",
    "        filter(Year!=\"2012-18\" )  #load empirical results, test removing 2016 to see if that's exaggerating CV\n"
   ]
  },
  {
   "cell_type": "code",
   "execution_count": 607,
   "metadata": {},
   "outputs": [],
   "source": [
    "#compare simulations and empirical\n",
    "SimulatedKernelsVar <- SimulatedKernels %>% #Med\n",
    "    group_by(iteration) %>%\n",
    "    mutate(cvtheta=sd(theta)/mean(theta, na.rm=T)) %>%\n",
    "    mutate(sdk=sd(k)) %>%\n",
    "    mutate(MDD=ifelse(MDD <0, 0,MDD)) %>% #if MDD is less than zero because of negative k and low theta (near 0.10), replace with 0\n",
    "    mutate(cvMDD=sd(MDD)/mean(MDD, na.rm=T)) %>%\n",
    "    mutate(cvMed=sd(MedianDispDist)/mean(MedianDispDist, na.rm=T)) %>%\n",
    "    mutate(cv90=sd(Dist90Retained)/mean(Dist90Retained, na.rm=T)) %>%\n",
    "    group_by(iteration) %>%\n",
    "    distinct(iteration, .keep_all = T) %>%\n",
    "    select(-year) %>%\n",
    "    ungroup() %>%\n",
    "    sample_n(1000, replace=F) #get back to 1000 simulations\n",
    "\n",
    "RealKernelVar <- kernels %>%\n",
    "    mutate(cvMDD=sd(MeanDispDist)/mean(MeanDispDist, na.rm=T))%>%\n",
    "    mutate(cvMed=sd(MedianDispDist)/mean(MedianDispDist, na.rm=T))%>%\n",
    "    mutate(cvtheta=sd(best_theta)/mean(best_theta, na.rm=T)) %>%\n",
    "    mutate(sdk=sd(best_k)) %>%\n",
    "    mutate(cv90=sd(Dist90Retained)/mean(Dist90Retained, na.rm=T)) %>%\n",
    "    distinct(cvMDD, cvtheta, sdk, cvMed, cv90)\n",
    "\n"
   ]
  },
  {
   "cell_type": "code",
   "execution_count": 608,
   "metadata": {},
   "outputs": [
    {
     "data": {
      "text/html": [
       "1000"
      ],
      "text/latex": [
       "1000"
      ],
      "text/markdown": [
       "1000"
      ],
      "text/plain": [
       "[1] 1000"
      ]
     },
     "metadata": {},
     "output_type": "display_data"
    }
   ],
   "source": [
    "nrow(SimulatedKernelsVar)"
   ]
  },
  {
   "cell_type": "code",
   "execution_count": 609,
   "metadata": {},
   "outputs": [
    {
     "data": {
      "text/html": [
       "<table>\n",
       "<thead><tr><th scope=col>cvMDD</th><th scope=col>cvtheta</th><th scope=col>sdk</th><th scope=col>cvMed</th><th scope=col>cv90</th></tr></thead>\n",
       "<tbody>\n",
       "\t<tr><td>1.03479  </td><td>1.329316 </td><td>2.806592 </td><td>0.3350357</td><td>1.023574 </td></tr>\n",
       "</tbody>\n",
       "</table>\n"
      ],
      "text/latex": [
       "\\begin{tabular}{r|lllll}\n",
       " cvMDD & cvtheta & sdk & cvMed & cv90\\\\\n",
       "\\hline\n",
       "\t 1.03479   & 1.329316  & 2.806592  & 0.3350357 & 1.023574 \\\\\n",
       "\\end{tabular}\n"
      ],
      "text/markdown": [
       "\n",
       "| cvMDD | cvtheta | sdk | cvMed | cv90 |\n",
       "|---|---|---|---|---|\n",
       "| 1.03479   | 1.329316  | 2.806592  | 0.3350357 | 1.023574  |\n",
       "\n"
      ],
      "text/plain": [
       "  cvMDD   cvtheta  sdk      cvMed     cv90    \n",
       "1 1.03479 1.329316 2.806592 0.3350357 1.023574"
      ]
     },
     "metadata": {},
     "output_type": "display_data"
    }
   ],
   "source": [
    "RealKernelVar"
   ]
  },
  {
   "cell_type": "code",
   "execution_count": 574,
   "metadata": {},
   "outputs": [
    {
     "data": {
      "text/html": [
       "10001"
      ],
      "text/latex": [
       "10001"
      ],
      "text/markdown": [
       "10001"
      ],
      "text/plain": [
       "[1] 10001"
      ]
     },
     "metadata": {},
     "output_type": "display_data"
    }
   ],
   "source": [
    "(nrow(SimulatedKernelsVar)-nrow(SimulatedKernelsVar %>% filter(sdk > RealKernelVar$sdk)))+1"
   ]
  },
  {
   "cell_type": "code",
   "execution_count": 610,
   "metadata": {},
   "outputs": [
    {
     "data": {
      "text/html": [
       "0.999000999000999"
      ],
      "text/latex": [
       "0.999000999000999"
      ],
      "text/markdown": [
       "0.999000999000999"
      ],
      "text/plain": [
       "[1] 0.999001"
      ]
     },
     "metadata": {},
     "output_type": "display_data"
    },
    {
     "data": {
      "text/html": [
       "0.999000999000999"
      ],
      "text/latex": [
       "0.999000999000999"
      ],
      "text/markdown": [
       "0.999000999000999"
      ],
      "text/plain": [
       "[1] 0.999001"
      ]
     },
     "metadata": {},
     "output_type": "display_data"
    },
    {
     "data": {
      "text/html": [
       "0.999000999000999"
      ],
      "text/latex": [
       "0.999000999000999"
      ],
      "text/markdown": [
       "0.999000999000999"
      ],
      "text/plain": [
       "[1] 0.999001"
      ]
     },
     "metadata": {},
     "output_type": "display_data"
    },
    {
     "data": {
      "text/html": [
       "0.959040959040959"
      ],
      "text/latex": [
       "0.959040959040959"
      ],
      "text/markdown": [
       "0.959040959040959"
      ],
      "text/plain": [
       "[1] 0.959041"
      ]
     },
     "metadata": {},
     "output_type": "display_data"
    },
    {
     "data": {
      "text/html": [
       "0.999000999000999"
      ],
      "text/latex": [
       "0.999000999000999"
      ],
      "text/markdown": [
       "0.999000999000999"
      ],
      "text/plain": [
       "[1] 0.999001"
      ]
     },
     "metadata": {},
     "output_type": "display_data"
    }
   ],
   "source": [
    "#what percentile are our observations in?\n",
    "\n",
    "((nrow(SimulatedKernelsVar)-nrow(SimulatedKernelsVar %>% filter(sdk > RealKernelVar$sdk))))/1001\n",
    "((nrow(SimulatedKernelsVar)-nrow(SimulatedKernelsVar %>% filter(cvtheta > RealKernelVar$cvtheta))))/1001\n",
    "((nrow(SimulatedKernelsVar)-nrow(SimulatedKernelsVar %>% filter(cvMDD > RealKernelVar$cvMDD))))/1001\n",
    "((nrow(SimulatedKernelsVar)-nrow(SimulatedKernelsVar %>% filter(cvMed > RealKernelVar$cvMed))))/1001\n",
    "((nrow(SimulatedKernelsVar)-nrow(SimulatedKernelsVar %>% filter(cv90 > RealKernelVar$cv90))))/1001\n"
   ]
  },
  {
   "cell_type": "code",
   "execution_count": 612,
   "metadata": {
    "scrolled": false
   },
   "outputs": [
    {
     "data": {
      "text/html": [
       "<strong>png:</strong> 2"
      ],
      "text/latex": [
       "\\textbf{png:} 2"
      ],
      "text/markdown": [
       "**png:** 2"
      ],
      "text/plain": [
       "png \n",
       "  2 "
      ]
     },
     "metadata": {},
     "output_type": "display_data"
    },
    {
     "data": {
      "text/html": [
       "<strong>png:</strong> 2"
      ],
      "text/latex": [
       "\\textbf{png:} 2"
      ],
      "text/markdown": [
       "**png:** 2"
      ],
      "text/plain": [
       "png \n",
       "  2 "
      ]
     },
     "metadata": {},
     "output_type": "display_data"
    },
    {
     "data": {
      "text/html": [
       "<strong>png:</strong> 2"
      ],
      "text/latex": [
       "\\textbf{png:} 2"
      ],
      "text/markdown": [
       "**png:** 2"
      ],
      "text/plain": [
       "png \n",
       "  2 "
      ]
     },
     "metadata": {},
     "output_type": "display_data"
    },
    {
     "data": {
      "text/html": [
       "<strong>png:</strong> 2"
      ],
      "text/latex": [
       "\\textbf{png:} 2"
      ],
      "text/markdown": [
       "**png:** 2"
      ],
      "text/plain": [
       "png \n",
       "  2 "
      ]
     },
     "metadata": {},
     "output_type": "display_data"
    },
    {
     "data": {
      "text/html": [
       "<strong>png:</strong> 2"
      ],
      "text/latex": [
       "\\textbf{png:} 2"
      ],
      "text/markdown": [
       "**png:** 2"
      ],
      "text/plain": [
       "png \n",
       "  2 "
      ]
     },
     "metadata": {},
     "output_type": "display_data"
    }
   ],
   "source": [
    "pdf(\"~/parentage/kernel_fitting/1340_loci/final_results/simulations/AnnualMDDCV.pdf\")\n",
    "hist(SimulatedKernelsVar$cvMDD, col=\"grey\", breaks=seq(0, 1.5, 0.01), main=NA, xlab= \"Mean dispersal distance CV\")\n",
    "abline(v = RealKernelVar$cvMDD, col=\"red\", lwd=3, lty=2)\n",
    "dev.off()\n",
    "\n",
    "pdf(\"~/parentage/kernel_fitting/1340_loci/final_results/simulations/AnnualMedCV.pdf\")\n",
    "hist(SimulatedKernelsVar$cvMed,col=\"grey\", breaks=seq(0, 1.5, 0.01), main=NA, xlab= \"Median dispersal distance CV\")\n",
    "abline(v = RealKernelVar$cvMed, col=\"red\", lwd=3, lty=2)\n",
    "dev.off()\n",
    "\n",
    "pdf(\"~/parentage/kernel_fitting/1340_loci/final_results/simulations/Annual90CV.pdf\")\n",
    "hist(SimulatedKernelsVar$cv90,col=\"grey\", breaks=seq(0, 1.5, 0.01), main=NA, xlab= \"0.90 dispersal distance CV\")\n",
    "abline(v = RealKernelVar$cv90, col=\"red\", lwd=3, lty=2)\n",
    "dev.off()\n",
    "\n",
    "pdf(\"~/parentage/kernel_fitting/1340_loci/final_results/simulations/AnnualThetaCV.pdf\")\n",
    "hist(SimulatedKernelsVar$cvtheta, col=\"grey\", breaks=seq(0, 1.5, 0.01), main=NA, xlab=\"theta CV\")\n",
    "abline(v = RealKernelVar$cvtheta, col=\"red\", lwd=3, lty=2)\n",
    "dev.off()\n",
    "\n",
    "pdf(\"~/parentage/kernel_fitting/1340_loci/final_results/simulations/AnnualKSD.pdf\")\n",
    "hist(SimulatedKernelsVar$sdk, col=\"grey\",main=NA, breaks=seq(0, 3, 0.01), xlab= \"k SD\")\n",
    "abline(v = RealKernelVar$sdk, col=\"red\", lwd=3, lty=2)\n",
    "dev.off()\n",
    "\n"
   ]
  },
  {
   "cell_type": "code",
   "execution_count": 578,
   "metadata": {},
   "outputs": [
    {
     "data": {
      "text/html": [
       "428"
      ],
      "text/latex": [
       "428"
      ],
      "text/markdown": [
       "428"
      ],
      "text/plain": [
       "[1] 428"
      ]
     },
     "metadata": {},
     "output_type": "display_data"
    },
    {
     "data": {
      "text/html": [
       "132"
      ],
      "text/latex": [
       "132"
      ],
      "text/markdown": [
       "132"
      ],
      "text/plain": [
       "[1] 132"
      ]
     },
     "metadata": {},
     "output_type": "display_data"
    },
    {
     "data": {
      "text/html": [
       "35"
      ],
      "text/latex": [
       "35"
      ],
      "text/markdown": [
       "35"
      ],
      "text/plain": [
       "[1] 35"
      ]
     },
     "metadata": {},
     "output_type": "display_data"
    },
    {
     "data": {
      "text/html": [
       "11"
      ],
      "text/latex": [
       "11"
      ],
      "text/markdown": [
       "11"
      ],
      "text/plain": [
       "[1] 11"
      ]
     },
     "metadata": {},
     "output_type": "display_data"
    },
    {
     "data": {
      "text/html": [
       "560"
      ],
      "text/latex": [
       "560"
      ],
      "text/markdown": [
       "560"
      ],
      "text/plain": [
       "[1] 560"
      ]
     },
     "metadata": {},
     "output_type": "display_data"
    }
   ],
   "source": [
    "SWM_recruits <- AllFishObsWithPar %>%\n",
    "    filter(size >=4.5 & size < 6) %>%\n",
    "    mutate(season=\"SWM\")\n",
    "NEM_recruits <- AllFishObsWithPar %>%\n",
    "    filter(size <= 3.5) %>%\n",
    "    mutate(season=\"NEM\")\n",
    "\n",
    "nrow(SWM_recruits) #should be 428\n",
    "nrow(NEM_recruits) #should be 132\n",
    "\n",
    "nrow(SWM_recruits %>% filter(matched_offs==\"Y\")) #should be 35\n",
    "nrow(NEM_recruits %>% filter(matched_offs==\"Y\")) #should be 11\n",
    "AllFishObsWithParSeason <- bind_rows(SWM_recruits, NEM_recruits)\n",
    "nrow(AllFishObsWithParSeason) #should be 560"
   ]
  },
  {
   "cell_type": "code",
   "execution_count": null,
   "metadata": {},
   "outputs": [
    {
     "name": "stdout",
     "output_type": "stream",
     "text": [
      "\r",
      "  |                                                                            \r",
      "  |                                                                      |   0%"
     ]
    }
   ],
   "source": [
    "#simulate seasonal kernels\n",
    "\n",
    "#don't print warnings for this loop, they are just about row names for tibbles being deprecated\n",
    "options(warn=-1)\n",
    "\n",
    "pb <- txtProgressBar(min = 0, max = 10000, style = 3)\n",
    "\n",
    "StartTime <- Sys.time()\n",
    "\n",
    "#make an empty data frame to hold simulated values\n",
    "col <- c(\"season\", \"k\", \"theta\", \"MDD\", \"MedianDispDist\",\"Dist90Retained\", \"iteration\")\n",
    "SimulatedKernelsSeas <- as.data.frame(matrix(nrow=0, ncol=7), stringsAsFactors = FALSE)\n",
    "colnames(SimulatedKernelsSeas) <- col\n",
    "\n",
    "for(n in 1:10000){\n",
    "\n",
    "    \n",
    "#shuffle seasons only\n",
    "shuff_seasons <- AllFishObsWithParSeason %>%\n",
    "    select(season) %>%\n",
    "    sample_n(nrow(AllFishObsWithParSeason))\n",
    "\n",
    "#drop and re-add year column\n",
    "AllFishObsWithParSeasonSimBeta <- AllFishObsWithParSeason %>%\n",
    "    select(-season)\n",
    "\n",
    "AllFishObsWithParSeasonSim  <- bind_cols(AllFishObsWithParSeasonSimBeta , shuff_seasons)\n",
    "\n",
    "    \n",
    "SWM_recruits <- AllFishObsWithParSeasonSim %>%\n",
    "    filter(season==\"SWM\")%>%\n",
    "    select(season, offs_site, par_site, matched_offs)\n",
    "NEM_recruits <- AllFishObsWithParSeasonSim %>%\n",
    "    filter(season==\"NEM\")%>%\n",
    "    select(season, offs_site, par_site, matched_offs)\n",
    "    \n",
    "\n",
    "total_parSWM <- SWM_recruits %>%\n",
    "    filter(matched_offs==\"Y\") %>%\n",
    "    group_by(offs_site, par_site) %>%\n",
    "    summarise(n_matches=n()) %>%\n",
    "    ungroup() \n",
    "\n",
    "total_parNEM <- NEM_recruits %>%\n",
    "    filter(matched_offs==\"Y\") %>%\n",
    "    group_by(offs_site, par_site) %>%\n",
    "    summarise(n_matches=n()) %>%\n",
    "    ungroup() \n",
    "\n",
    "for(i in 1:nrow(prop_samp)){\n",
    "    \n",
    "    \n",
    "    if(is.nan(prop_samp$total_prop_hab_sampled_anems_tidied[i])){prop_samp$total_prop_hab_sampled_anems_tidied[i] <- 0.01} \n",
    "    if(is.infinite(prop_samp$total_prop_hab_sampled_anems_tidied[i])){prop_samp$total_prop_hab_sampled_anems_tidied[i] <- 1}\n",
    "    ifelse(prop_samp$total_prop_hab_sampled_anems_tidied[i] == 0, 0.48, prop_samp$total_prop_hab_sampled_anems_tidied[i])\n",
    "\n",
    "    \n",
    "}\n",
    "\n",
    "prop_sampSeas <- prop_samp %>%\n",
    "    filter(time_frame==\"2012-2018\" ) %>%\n",
    "    select(site, total_prop_hab_sampled_anems_tidied)\n",
    "\n",
    "sitesSWM <- prop_sampSeas %>%\n",
    "    select(site)\n",
    "sitesSWM_2 <- suppressWarnings(semi_join(all_sites, sitesSWM, by=\"site\")) %>%\n",
    "    select(index)\n",
    "sitesSWMt <- t(sitesSWM_2)\n",
    "\n",
    "\n",
    "sitesSWM_beta <- sitesSWM %>%\n",
    "    #select(-pop) %>%\n",
    "    rename(par_site=\"site\")\n",
    "\n",
    "sitesSWM_beta$offs_site <- sitesSWM_beta$par_site\n",
    "\n",
    "allsites_parentageSWM <- full_join(sitesSWM_beta, total_parSWM, by=c(\"par_site\", \"offs_site\")) %>%\n",
    "    group_by(offs_site, par_site) %>%\n",
    "    filter(row_number()==1) %>%\n",
    "    arrange(offs_site, par_site)\n",
    "\n",
    "##generate list of site indices\n",
    "sitesNEM <- prop_sampSeas %>%\n",
    "    select(site)\n",
    "sitesNEM_2 <- suppressWarnings(semi_join(all_sites, sitesNEM, by=\"site\")) %>%\n",
    "    select(index)\n",
    "sitesNEMt <- t(sitesNEM_2)\n",
    "\n",
    "sitesNEM_beta <- sitesNEM %>%\n",
    "    #select(-pop) %>%\n",
    "    rename(par_site=\"site\")\n",
    "\n",
    "sitesNEM_beta$offs_site <- sitesNEM_beta$par_site\n",
    "\n",
    "allsites_parentageNEM <- full_join(sitesNEM_beta, total_parNEM, by=c(\"par_site\", \"offs_site\")) %>%\n",
    "    group_by(offs_site, par_site) %>%\n",
    "    filter(row_number()==1) %>%\n",
    "    arrange(offs_site, par_site)\n",
    "\n",
    "#turn into a matrix of the correct format\n",
    "parmatSWM <- allsites_parentageSWM %>% \n",
    "    filter(!is.na(offs_site) & !is.na(par_site)) %>%\n",
    "    group_by(offs_site, par_site) %>%\n",
    "    filter(row_number()==1) %>%\n",
    "    spread(offs_site, n_matches)\n",
    "\n",
    "###change NAs to 0\n",
    "parmatSWM[is.na(parmatSWM)] <- 0\n",
    "rownames(parmatSWM) <- suppressWarnings(parmatSWM$par_site)\n",
    "parmatSWM$par_site <- NULL\n",
    "\n",
    "#parmatSWM <- (parmatSWM[1:nrow(sitesSWM_beta), 1:nrow(sitesSWM_beta)])\n",
    "#\n",
    "#\n",
    "parmatNEM <- allsites_parentageNEM %>% \n",
    "    filter(!is.na(offs_site) & !is.na(par_site)) %>%\n",
    "    group_by(offs_site, par_site) %>%\n",
    "    filter(row_number()==1) %>%\n",
    "    spread(offs_site, n_matches)\n",
    "\n",
    "##change NAs to 0\n",
    "parmatNEM[is.na(parmatNEM)] <- 0\n",
    "rownames(parmatNEM) <- suppressWarnings(parmatNEM$par_site)\n",
    "parmatNEM$par_site <- NULL\n",
    "\n",
    "N_gen_offs_all <- AllFishObsWithParSeasonSim %>% \n",
    "    filter(input==\"offspring\") %>%\n",
    "    group_by(season, site) %>%\n",
    "    summarise(n_offs_gen=n())\n",
    "sum(N_gen_offs_all$n_offs_gen) #missing 5 fish, because they are marked J based on tail color but we don't have their size\n",
    "#nrow(N_gen_offs %>% filter(fish_indiv %!in% all_seasons$fish_indiv))\n",
    "\n",
    "N_gen_offs2 <- N_gen_offs_all %>%\n",
    "    group_by(site, season) %>% #add group by year if doing annual\n",
    "    summarise(sampled_fish=sum(n_offs_gen)) \n",
    "\n",
    "\n",
    "#make dataframe with column for unassigned juveniles in each column (offspring site)\n",
    "offs_matched_site <- allsites_parentageSWM %>%\n",
    "    group_by(offs_site) %>%\n",
    "    summarise(n_offs=sum(n_matches, na.rm=T))\n",
    "\n",
    "unassigned_beta <- semi_join(offs_matched_site, sitesSWM, by=c(offs_site=\"site\")) %>%\n",
    "    ungroup() %>%\n",
    "    select(offs_site, n_offs)\n",
    "\n",
    "#unassigned_beta[is.na(unassigned_beta)] <- 0\n",
    "\n",
    "\n",
    "net_unassigned <- left_join(unassigned_beta, (N_gen_offs2 %>% filter(season==\"SWM\")), by=c(offs_site=\"site\")) %>%\n",
    "    mutate(n_unassigned=sampled_fish-n_offs)\n",
    "\n",
    "net_unassigned$sampled_fish[is.na(net_unassigned$sampled_fish)] <- 0\n",
    "net_unassigned$n_unassigned[is.na(net_unassigned$n_unassigned)] <- 0\n",
    "\n",
    "#transpose to create a row, bind to the matrix\n",
    "\n",
    "row2add <- net_unassigned %>%\n",
    "    arrange(offs_site) %>%\n",
    "    select(n_unassigned, offs_site) %>%\n",
    "    group_by(offs_site) %>%\n",
    "    filter(row_number()==1) %>%\n",
    "    ungroup() %>%\n",
    "    select(n_unassigned)\n",
    "row2addT <- as.data.frame(t(row2add))\n",
    "colnames(row2addT) <- colnames(parmatSWM)\n",
    "\n",
    "parmatSWM <- ungroup(parmatSWM)\n",
    "parmat_SWM_full <- bind_rows(parmatSWM, row2addT)\n",
    "parmat_SWM_full[is.na(parmat_SWM_full)] <- 0\n",
    "parmat_SWM_full[parmat_SWM_full <0 ] <- 0\n",
    "\n",
    "#make dataframe with column for unassigned juveniles in each column (offspring site)\n",
    "offs_matched_site <- allsites_parentageNEM %>%\n",
    "    group_by(offs_site) %>%\n",
    "    summarise(n_offs=sum(n_matches, na.rm=T))\n",
    "\n",
    "unassigned_beta <- semi_join(offs_matched_site, sitesNEM, by=c(offs_site=\"site\")) %>%\n",
    "    ungroup() %>%\n",
    "    select(offs_site, n_offs)\n",
    "\n",
    "#unassigned_beta[is.na(unassigned_beta)] <- 0\n",
    "net_unassigned <- left_join(unassigned_beta, (N_gen_offs2 %>% filter(season==\"NEM\")), by=c(offs_site=\"site\")) %>%\n",
    "    mutate(n_unassigned=sampled_fish-n_offs)\n",
    "\n",
    "net_unassigned$sampled_fish[is.na(net_unassigned$sampled_fish)] <- 0\n",
    "net_unassigned$n_unassigned[is.na(net_unassigned$n_unassigned)] <- 0\n",
    "\n",
    "#transpose to create a row, bind to the matrix\n",
    "\n",
    "row2add <- net_unassigned %>%\n",
    "    arrange(offs_site) %>%\n",
    "    select(n_unassigned, offs_site) %>%\n",
    "    group_by(offs_site) %>%\n",
    "    filter(row_number()==1) %>%\n",
    "    ungroup() %>%\n",
    "    select(n_unassigned)\n",
    "row2addT <- as.data.frame(t(row2add))\n",
    "colnames(row2addT) <- colnames(parmatNEM)\n",
    "\n",
    "parmatNEM <- ungroup(parmatNEM)\n",
    "parmat_NEM_full <- bind_rows(parmatNEM, row2addT)\n",
    "parmat_NEM_full[is.na(parmat_NEM_full)] <- 0\n",
    "parmat_NEM_full[parmat_NEM_full < 0] <- 0\n",
    "    \n",
    "    \n",
    "#fit kernels \n",
    "Assignments <- parmat_SWM_full\n",
    "Adult_sample_proportions <- as.matrix(read.csv(\"~/parentage/kernel_fitting/1340_loci/input/prop_samp18.csv\", header=FALSE))\n",
    "Sampled_reefs <- as.matrix(read.csv(\"~/parentage/kernel_fitting/1340_loci/input/site_index18.csv\", header=FALSE))\n",
    "Distances <- as.matrix(read.csv(\"~/parentage/kernel_fitting/894_loci/distance_matrix_unsurveyed.csv\", header=FALSE))\n",
    "Reef_sizes <- as.matrix(read.csv(\"~/parentage/kernel_fitting/894_loci/area_unsurveyed.csv\", header=FALSE))\n",
    "Centroids <- as.matrix(read.csv(\"~/parentage/kernel_fitting/894_loci/centroids_unsurveyed.csv\", header=T))\n",
    "\n",
    "a=-10\n",
    "b=10\n",
    "\n",
    "x <- list(Distances=Distances, Assignments=Assignments, Sampled_reefs=Sampled_reefs, Reef_sizes=Reef_sizes, Adult_sample_proportions=Adult_sample_proportions) #put inputs into a list because that's the bbmle format\n",
    "\n",
    "fit_bothSWM <- suppressWarnings(mle2(LL_kt_bbmle, start=list(k=1, theta=1), lower=c(-10, 0.15), upper=c(10, 5), method=\"L-BFGS-B\", data=x, control=list(maxit=500)))\n",
    "kSWM_b <- coef(fit_bothSWM)[1]\n",
    "thetaSWM_b <- coef(fit_bothSWM)[2]\n",
    "MDDSWM_b <- cubintegrate(integrate_kernel_sum1, lower = 0, upper = Inf, k=kSWM_b, theta=thetaSWM_b, method = \"pcubature\")$integral\n",
    "theta_eval <- thetaSWM_b\n",
    "k_eval <- kSWM_b\n",
    "MedianDispDistSWM <- round(nleqslv(x = 7, fn = cdf_solve)$x, 2)\n",
    "Dist90RetainedSWM <- round(nleqslv(x = 7, fn = cdf_solve90)$x, 2) \n",
    "\n",
    "\n",
    "col <- c(\"season\",\"k\", \"theta\", \"MDD\", \"MedianDispDist\",\"Dist90Retained\", \"iteration\")\n",
    "BootstrapKernelsSWM <- as.data.frame(matrix(nrow=1, ncol=7), stringsAsFactors = FALSE)\n",
    "colnames(BootstrapKernelsSWM) <- col\n",
    "\n",
    "BootstrapKernelsSWM$season <- \"SWM\"\n",
    "BootstrapKernelsSWM$k <- kSWM_b\n",
    "BootstrapKernelsSWM$theta <- thetaSWM_b\n",
    "BootstrapKernelsSWM$MDD <- MDDSWM_b\n",
    "BootstrapKernelsSWM$MedianDispDist <- MedianDispDistSWM\n",
    "BootstrapKernelsSWM$Dist90Retained <- Dist90RetainedSWM\n",
    "BootstrapKernelsSWM$iteration <- as.character(n)\n",
    "\n",
    "\n",
    "\n",
    "Assignments <- parmat_NEM_full\n",
    "Adult_sample_proportions <- as.matrix(read.csv(\"~/parentage/kernel_fitting/1340_loci/input/prop_samp18.csv\", header=FALSE))\n",
    "Sampled_reefs <- as.matrix(read.csv(\"~/parentage/kernel_fitting/1340_loci/input/site_index18.csv\", header=FALSE))\n",
    "Distances <- as.matrix(read.csv(\"~/parentage/kernel_fitting/894_loci/distance_matrix_unsurveyed.csv\", header=FALSE))\n",
    "Reef_sizes <- as.matrix(read.csv(\"~/parentage/kernel_fitting/894_loci/area_unsurveyed.csv\", header=FALSE))\n",
    "Centroids <- as.matrix(read.csv(\"~/parentage/kernel_fitting/894_loci/centroids_unsurveyed.csv\", header=T))\n",
    "\n",
    "a=-10\n",
    "b=10\n",
    "\n",
    "x <- list(Distances=Distances, Assignments=Assignments, Sampled_reefs=Sampled_reefs, Reef_sizes=Reef_sizes, Adult_sample_proportions=Adult_sample_proportions) #put inputs into a list because that's the bbmle format\n",
    "\n",
    "fit_bothNEM <- suppressWarnings(mle2(LL_kt_bbmle, start=list(k=1, theta=1), lower=c(-10, 0.15), upper=c(10, 5), method=\"L-BFGS-B\", data=x, control=list(maxit=500)))\n",
    "kNEM_b <- coef(fit_bothNEM)[1]\n",
    "thetaNEM_b <- coef(fit_bothNEM)[2]\n",
    "MDDNEM_b <- cubintegrate(integrate_kernel_sum1, lower = 0, upper = Inf, k=kNEM_b, theta=thetaNEM_b, method = \"pcubature\")$integral\n",
    "theta_eval <- thetaNEM_b\n",
    "k_eval <- kNEM_b\n",
    "MedianDispDistNEM <- round(nleqslv(x = 7, fn = cdf_solve)$x, 2)\n",
    "Dist90RetainedNEM <- round(nleqslv(x = 7, fn = cdf_solve90)$x, 2) \n",
    "\n",
    "col <- c(\"season\",\"k\", \"theta\", \"MDD\", \"MedianDispDist\",\"Dist90Retained\", \"iteration\")\n",
    "BootstrapKernelsNEM <- as.data.frame(matrix(nrow=1, ncol=7), stringsAsFactors = FALSE)\n",
    "colnames(BootstrapKernelsNEM) <- col\n",
    "\n",
    "BootstrapKernelsNEM$season <- \"NEM\"\n",
    "BootstrapKernelsNEM$k <- kNEM_b\n",
    "BootstrapKernelsNEM$theta <- thetaNEM_b\n",
    "BootstrapKernelsNEM$MDD <- MDDNEM_b\n",
    "BootstrapKernelsNEM$MedianDispDist <- MedianDispDistNEM\n",
    "BootstrapKernelsNEM$Dist90Retained <- Dist90RetainedNEM\n",
    "BootstrapKernelsNEM$iteration <- as.character(n)\n",
    "\n",
    "\n",
    "\n",
    "\n",
    "#bind together all simulated kernel fits\n",
    "\n",
    "SimulatedKernelsBetaSeas <- bind_rows(BootstrapKernelsNEM, BootstrapKernelsSWM)\n",
    "\n",
    "SimulatedKernelsSeas <- bind_rows(SimulatedKernelsSeas, SimulatedKernelsBetaSeas)\n",
    "\n",
    "setTxtProgressBar(pb, n)\n",
    "\n",
    "\n",
    "}\n",
    "close(pb)\n",
    "EndTime <- Sys.time()\n",
    "EndTime-StartTime\n",
    "options(warn=0)\n",
    "write.csv(SimulatedKernelsSeas, file=\"~/parentage/kernel_fitting/1340_loci/final_results/simulations/SimulatedKernelsSeasonal.csv\", row.names=T, quote=FALSE)\n"
   ]
  },
  {
   "cell_type": "code",
   "execution_count": 531,
   "metadata": {},
   "outputs": [
    {
     "data": {
      "text/html": [
       "<table>\n",
       "<thead><tr><th scope=col>season</th><th scope=col>k</th><th scope=col>theta</th><th scope=col>MDD</th><th scope=col>MedianDispDist</th><th scope=col>Dist90Retained</th><th scope=col>iteration</th></tr></thead>\n",
       "<tbody>\n",
       "\t<tr><td>NEM       </td><td>-0.5824244</td><td>0.6213484 </td><td>4.943368  </td><td>2.70      </td><td>12.21     </td><td>1         </td></tr>\n",
       "\t<tr><td>SWM       </td><td>-0.4067605</td><td>0.5627996 </td><td>5.725290  </td><td>2.93      </td><td>14.30     </td><td>1         </td></tr>\n",
       "\t<tr><td>NEM       </td><td>-0.4388427</td><td>0.5746022 </td><td>5.503092  </td><td>2.86      </td><td>13.71     </td><td>2         </td></tr>\n",
       "\t<tr><td>SWM       </td><td>-0.4630133</td><td>0.5784630 </td><td>5.511455  </td><td>2.87      </td><td>13.72     </td><td>2         </td></tr>\n",
       "\t<tr><td>NEM       </td><td>-0.7170389</td><td>0.6235636 </td><td>5.595361  </td><td>3.06      </td><td>13.82     </td><td>3         </td></tr>\n",
       "\t<tr><td>SWM       </td><td>-0.3728158</td><td>0.5640594 </td><td>5.491056  </td><td>2.82      </td><td>13.71     </td><td>3         </td></tr>\n",
       "</tbody>\n",
       "</table>\n"
      ],
      "text/latex": [
       "\\begin{tabular}{r|lllllll}\n",
       " season & k & theta & MDD & MedianDispDist & Dist90Retained & iteration\\\\\n",
       "\\hline\n",
       "\t NEM        & -0.5824244 & 0.6213484  & 4.943368   & 2.70       & 12.21      & 1         \\\\\n",
       "\t SWM        & -0.4067605 & 0.5627996  & 5.725290   & 2.93       & 14.30      & 1         \\\\\n",
       "\t NEM        & -0.4388427 & 0.5746022  & 5.503092   & 2.86       & 13.71      & 2         \\\\\n",
       "\t SWM        & -0.4630133 & 0.5784630  & 5.511455   & 2.87       & 13.72      & 2         \\\\\n",
       "\t NEM        & -0.7170389 & 0.6235636  & 5.595361   & 3.06       & 13.82      & 3         \\\\\n",
       "\t SWM        & -0.3728158 & 0.5640594  & 5.491056   & 2.82       & 13.71      & 3         \\\\\n",
       "\\end{tabular}\n"
      ],
      "text/markdown": [
       "\n",
       "| season | k | theta | MDD | MedianDispDist | Dist90Retained | iteration |\n",
       "|---|---|---|---|---|---|---|\n",
       "| NEM        | -0.5824244 | 0.6213484  | 4.943368   | 2.70       | 12.21      | 1          |\n",
       "| SWM        | -0.4067605 | 0.5627996  | 5.725290   | 2.93       | 14.30      | 1          |\n",
       "| NEM        | -0.4388427 | 0.5746022  | 5.503092   | 2.86       | 13.71      | 2          |\n",
       "| SWM        | -0.4630133 | 0.5784630  | 5.511455   | 2.87       | 13.72      | 2          |\n",
       "| NEM        | -0.7170389 | 0.6235636  | 5.595361   | 3.06       | 13.82      | 3          |\n",
       "| SWM        | -0.3728158 | 0.5640594  | 5.491056   | 2.82       | 13.71      | 3          |\n",
       "\n"
      ],
      "text/plain": [
       "  season k          theta     MDD      MedianDispDist Dist90Retained iteration\n",
       "1 NEM    -0.5824244 0.6213484 4.943368 2.70           12.21          1        \n",
       "2 SWM    -0.4067605 0.5627996 5.725290 2.93           14.30          1        \n",
       "3 NEM    -0.4388427 0.5746022 5.503092 2.86           13.71          2        \n",
       "4 SWM    -0.4630133 0.5784630 5.511455 2.87           13.72          2        \n",
       "5 NEM    -0.7170389 0.6235636 5.595361 3.06           13.82          3        \n",
       "6 SWM    -0.3728158 0.5640594 5.491056 2.82           13.71          3        "
      ]
     },
     "metadata": {},
     "output_type": "display_data"
    }
   ],
   "source": [
    "head(SimulatedKernelsSeas)"
   ]
  },
  {
   "cell_type": "code",
   "execution_count": 590,
   "metadata": {},
   "outputs": [
    {
     "data": {
      "text/html": [
       "<table>\n",
       "<thead><tr><th scope=col>Season</th><th scope=col>RecruitSizeAtSampling</th><th scope=col>best_k</th><th scope=col>best_theta</th><th scope=col>k_CI95_lower</th><th scope=col>k_CI95_upper</th><th scope=col>theta_CI95_lower</th><th scope=col>theta_CI95_upper</th><th scope=col>MeanDispersalDistance</th><th scope=col>MeanDispDist_CI95_lower</th><th scope=col>MeanDispDist_CI95_upper</th><th scope=col>MedianDispersalDistance</th><th scope=col>MedianDispDist_CI95_lower</th><th scope=col>MedianDispDist_CI95_upper</th><th scope=col>Dist90Retained</th></tr></thead>\n",
       "<tbody>\n",
       "\t<tr><td>SWM                                               </td><td>&gt; 4.5 cm                                       </td><td>-2.60                                             </td><td>1.58                                              </td><td>-2.63                                             </td><td>-2.47                                             </td><td>1.34                                              </td><td>1.59                                              </td><td>8.574871                                          </td><td>7.132250                                          </td><td><span style=white-space:pre-wrap>  10.39623</span></td><td>6.87                                              </td><td>4.93                                              </td><td><span style=white-space:pre-wrap>  9.28</span>    </td><td>18.32                                             </td></tr>\n",
       "\t<tr><td>NEM        </td><td>&lt; 3.5 cm</td><td>-0.89      </td><td>0.56       </td><td>-1.46      </td><td>-0.74      </td><td>0.54       </td><td>0.61       </td><td>9.446898   </td><td>6.014163   </td><td>4272.46841 </td><td>4.82       </td><td>3.24       </td><td>323.37     </td><td>23.60      </td></tr>\n",
       "</tbody>\n",
       "</table>\n"
      ],
      "text/latex": [
       "\\begin{tabular}{r|lllllllllllllll}\n",
       " Season & RecruitSizeAtSampling & best\\_k & best\\_theta & k\\_CI95\\_lower & k\\_CI95\\_upper & theta\\_CI95\\_lower & theta\\_CI95\\_upper & MeanDispersalDistance & MeanDispDist\\_CI95\\_lower & MeanDispDist\\_CI95\\_upper & MedianDispersalDistance & MedianDispDist\\_CI95\\_lower & MedianDispDist\\_CI95\\_upper & Dist90Retained\\\\\n",
       "\\hline\n",
       "\t SWM        & > 4.5 cm   & -2.60      & 1.58       & -2.63      & -2.47      & 1.34       & 1.59       & 8.574871   & 7.132250   &   10.39623 & 6.87       & 4.93       &   9.28     & 18.32     \\\\\n",
       "\t NEM        & < 3.5 cm   & -0.89      & 0.56       & -1.46      & -0.74      & 0.54       & 0.61       & 9.446898   & 6.014163   & 4272.46841 & 4.82       & 3.24       & 323.37     & 23.60     \\\\\n",
       "\\end{tabular}\n"
      ],
      "text/markdown": [
       "\n",
       "| Season | RecruitSizeAtSampling | best_k | best_theta | k_CI95_lower | k_CI95_upper | theta_CI95_lower | theta_CI95_upper | MeanDispersalDistance | MeanDispDist_CI95_lower | MeanDispDist_CI95_upper | MedianDispersalDistance | MedianDispDist_CI95_lower | MedianDispDist_CI95_upper | Dist90Retained |\n",
       "|---|---|---|---|---|---|---|---|---|---|---|---|---|---|---|\n",
       "| SWM        | > 4.5 cm   | -2.60      | 1.58       | -2.63      | -2.47      | 1.34       | 1.59       | 8.574871   | 7.132250   |   10.39623 | 6.87       | 4.93       |   9.28     | 18.32      |\n",
       "| NEM        | < 3.5 cm   | -0.89      | 0.56       | -1.46      | -0.74      | 0.54       | 0.61       | 9.446898   | 6.014163   | 4272.46841 | 4.82       | 3.24       | 323.37     | 23.60      |\n",
       "\n"
      ],
      "text/plain": [
       "  Season RecruitSizeAtSampling best_k best_theta k_CI95_lower k_CI95_upper\n",
       "1 SWM    > 4.5 cm              -2.60  1.58       -2.63        -2.47       \n",
       "2 NEM    < 3.5 cm              -0.89  0.56       -1.46        -0.74       \n",
       "  theta_CI95_lower theta_CI95_upper MeanDispersalDistance\n",
       "1 1.34             1.59             8.574871             \n",
       "2 0.54             0.61             9.446898             \n",
       "  MeanDispDist_CI95_lower MeanDispDist_CI95_upper MedianDispersalDistance\n",
       "1 7.132250                  10.39623              6.87                   \n",
       "2 6.014163                4272.46841              4.82                   \n",
       "  MedianDispDist_CI95_lower MedianDispDist_CI95_upper Dist90Retained\n",
       "1 4.93                        9.28                    18.32         \n",
       "2 3.24                      323.37                    23.60         "
      ]
     },
     "metadata": {},
     "output_type": "display_data"
    }
   ],
   "source": [
    "SeasonSimMed <- read.csv(file=\"~/parentage/kernel_fitting/1340_loci/final_results/simulations/SimulatedKernelsSeasonal.csv\", header=T, , stringsAsFactors = F) #%>%#load simulations \n",
    "#    select(-X)\n",
    "seasonal_kernels <- read.csv(file=\"~/parentage/kernel_fitting/1340_loci/final_results/tables/RecruitSizeAsSeasonlity_summary.csv\", header=T) #load empirical\n",
    "head(seasonal_kernels)\n",
    "#summary(SeasonSimMed %>% filter(season==\"NEM\"))\n",
    "#summary(SeasonSimMed %>% filter(season==\"SWM\"))\n"
   ]
  },
  {
   "cell_type": "code",
   "execution_count": 616,
   "metadata": {},
   "outputs": [],
   "source": [
    "#compare simulation results to empirical\n",
    "SimulatedKernelsVar <- SimulatedKernelsSeas %>%\n",
    "    group_by(iteration) %>%\n",
    "    mutate(MDD=ifelse(MDD <0, 0,MDD)) %>% #if MDD is less than zero because of negative k and low theta (near 0.10), replace with 0\n",
    "    mutate(cv_k=sd(k)/mean(k, na.rm=T)) %>%\n",
    "    mutate(cvtheta=sd(theta)/mean(theta, na.rm=T)) %>%\n",
    "    mutate(sdk=sd(k)) %>%\n",
    "    mutate(cvMDD=sd(MDD)/mean(MDD, na.rm=T)) %>%\n",
    "    #mutate(meanMDD=mean(MDD)) %>%\n",
    "    mutate(cvMed=sd(MedianDispDist)/mean(MedianDispDist, na.rm=T))%>%\n",
    "    #mutate(sdMDD=sd(MDD)) %>%\n",
    "    mutate(sdMed=sd(MedianDispDist)) %>%\n",
    "    mutate(cv90=sd(Dist90Retained)/mean(Dist90Retained, na.rm=T)) %>%\n",
    "    group_by(iteration) %>%\n",
    "    distinct(iteration, .keep_all = T) %>%\n",
    "    ungroup() %>%\n",
    "    sample_n(1000, replace=F) #get back to 1000 simulations\n",
    "\n",
    "seasonal_kernels <- read.csv(file=\"~/parentage/kernel_fitting/1340_loci/final_results/tables/RecruitSizeAsSeasonlity_summary.csv\", header=T) \n",
    "RealKernelVar <- seasonal_kernels %>%\n",
    "    mutate(meanMDD=mean(MeanDispersalDistance)) %>%\n",
    "    mutate(sdMDD=sd(MeanDispersalDistance)) %>%\n",
    "    mutate(cvMDD=sd(MeanDispersalDistance)/mean(MeanDispersalDistance, na.rm=T))%>%\n",
    "    mutate(cvMed=sd(MedianDispersalDistance)/mean(MedianDispersalDistance, na.rm=T))%>%\n",
    "    mutate(cvtheta=sd(best_theta)/mean(best_theta, na.rm=T)) %>%\n",
    "    mutate(sdk=sd(best_k)) %>%\n",
    "    mutate(sdMed=sd(MedianDispersalDistance)) %>%\n",
    "    mutate(cv90=sd(Dist90Retained)/mean(Dist90Retained, na.rm=T))%>%\n",
    "    distinct(cvMDD, cvtheta, sdk, cvMed, cv90)\n",
    "\n",
    "    "
   ]
  },
  {
   "cell_type": "code",
   "execution_count": 617,
   "metadata": {},
   "outputs": [
    {
     "data": {
      "text/html": [
       "<table>\n",
       "<thead><tr><th scope=col>cvMDD</th><th scope=col>cvtheta</th><th scope=col>sdk</th><th scope=col>cvMed</th><th scope=col>cv90</th></tr></thead>\n",
       "<tbody>\n",
       "\t<tr><td>0.06843017</td><td>0.6740644 </td><td>1.209153  </td><td>0.2480015 </td><td>0.1781261 </td></tr>\n",
       "</tbody>\n",
       "</table>\n"
      ],
      "text/latex": [
       "\\begin{tabular}{r|lllll}\n",
       " cvMDD & cvtheta & sdk & cvMed & cv90\\\\\n",
       "\\hline\n",
       "\t 0.06843017 & 0.6740644  & 1.209153   & 0.2480015  & 0.1781261 \\\\\n",
       "\\end{tabular}\n"
      ],
      "text/markdown": [
       "\n",
       "| cvMDD | cvtheta | sdk | cvMed | cv90 |\n",
       "|---|---|---|---|---|\n",
       "| 0.06843017 | 0.6740644  | 1.209153   | 0.2480015  | 0.1781261  |\n",
       "\n"
      ],
      "text/plain": [
       "  cvMDD      cvtheta   sdk      cvMed     cv90     \n",
       "1 0.06843017 0.6740644 1.209153 0.2480015 0.1781261"
      ]
     },
     "metadata": {},
     "output_type": "display_data"
    }
   ],
   "source": [
    "RealKernelVar #empirical values"
   ]
  },
  {
   "cell_type": "code",
   "execution_count": 618,
   "metadata": {},
   "outputs": [
    {
     "data": {
      "text/html": [
       "1"
      ],
      "text/latex": [
       "1"
      ],
      "text/markdown": [
       "1"
      ],
      "text/plain": [
       "[1] 1"
      ]
     },
     "metadata": {},
     "output_type": "display_data"
    },
    {
     "data": {
      "text/html": [
       "1"
      ],
      "text/latex": [
       "1"
      ],
      "text/markdown": [
       "1"
      ],
      "text/plain": [
       "[1] 1"
      ]
     },
     "metadata": {},
     "output_type": "display_data"
    },
    {
     "data": {
      "text/html": [
       "0.694305694305694"
      ],
      "text/latex": [
       "0.694305694305694"
      ],
      "text/markdown": [
       "0.694305694305694"
      ],
      "text/plain": [
       "[1] 0.6943057"
      ]
     },
     "metadata": {},
     "output_type": "display_data"
    },
    {
     "data": {
      "text/html": [
       "0.997002997002997"
      ],
      "text/latex": [
       "0.997002997002997"
      ],
      "text/markdown": [
       "0.997002997002997"
      ],
      "text/plain": [
       "[1] 0.997003"
      ]
     },
     "metadata": {},
     "output_type": "display_data"
    },
    {
     "data": {
      "text/html": [
       "0.984015984015984"
      ],
      "text/latex": [
       "0.984015984015984"
      ],
      "text/markdown": [
       "0.984015984015984"
      ],
      "text/plain": [
       "[1] 0.984016"
      ]
     },
     "metadata": {},
     "output_type": "display_data"
    }
   ],
   "source": [
    "#what percentile are our observations in?\n",
    "\n",
    "((nrow(SimulatedKernelsVar)-nrow(SimulatedKernelsVar %>% filter(sdk > RealKernelVar$sdk)))+1)/1001\n",
    "((nrow(SimulatedKernelsVar)-nrow(SimulatedKernelsVar %>% filter(cvtheta > RealKernelVar$cvtheta)))+1)/1001\n",
    "((nrow(SimulatedKernelsVar)-nrow(SimulatedKernelsVar %>% filter(cvMDD > RealKernelVar$cvMDD)))+1)/1001\n",
    "((nrow(SimulatedKernelsVar)-nrow(SimulatedKernelsVar %>% filter(cvMed > RealKernelVar$cvMed)))+1)/1001\n",
    "((nrow(SimulatedKernelsVar)-nrow(SimulatedKernelsVar %>% filter(cv90 > RealKernelVar$cv90)))+1)/1001\n"
   ]
  },
  {
   "cell_type": "code",
   "execution_count": 619,
   "metadata": {
    "scrolled": false
   },
   "outputs": [
    {
     "data": {
      "text/html": [
       "<strong>png:</strong> 2"
      ],
      "text/latex": [
       "\\textbf{png:} 2"
      ],
      "text/markdown": [
       "**png:** 2"
      ],
      "text/plain": [
       "png \n",
       "  2 "
      ]
     },
     "metadata": {},
     "output_type": "display_data"
    },
    {
     "data": {
      "text/html": [
       "<strong>png:</strong> 2"
      ],
      "text/latex": [
       "\\textbf{png:} 2"
      ],
      "text/markdown": [
       "**png:** 2"
      ],
      "text/plain": [
       "png \n",
       "  2 "
      ]
     },
     "metadata": {},
     "output_type": "display_data"
    },
    {
     "data": {
      "text/html": [
       "<strong>png:</strong> 2"
      ],
      "text/latex": [
       "\\textbf{png:} 2"
      ],
      "text/markdown": [
       "**png:** 2"
      ],
      "text/plain": [
       "png \n",
       "  2 "
      ]
     },
     "metadata": {},
     "output_type": "display_data"
    },
    {
     "data": {
      "text/html": [
       "<strong>png:</strong> 2"
      ],
      "text/latex": [
       "\\textbf{png:} 2"
      ],
      "text/markdown": [
       "**png:** 2"
      ],
      "text/plain": [
       "png \n",
       "  2 "
      ]
     },
     "metadata": {},
     "output_type": "display_data"
    },
    {
     "data": {
      "text/html": [
       "<strong>png:</strong> 2"
      ],
      "text/latex": [
       "\\textbf{png:} 2"
      ],
      "text/markdown": [
       "**png:** 2"
      ],
      "text/plain": [
       "png \n",
       "  2 "
      ]
     },
     "metadata": {},
     "output_type": "display_data"
    }
   ],
   "source": [
    "pdf(\"~/parentage/kernel_fitting/1340_loci/final_results/simulations/SeasonalMedCV.pdf\")\n",
    "hist(SimulatedKernelsVar$cvMed, main=NA, col=\"grey\", breaks=seq(0, 1, 0.01), xlab= \"Median dispersal distance CV\")\n",
    "abline(v = RealKernelVar$cvMed, col=\"red\", lwd=3, lty=2)\n",
    "dev.off()\n",
    "\n",
    "pdf(\"~/parentage/kernel_fitting/1340_loci/final_results/simulations/SeasonalMDDCV.pdf\")\n",
    "hist(SimulatedKernelsVar$cvMDD, col=\"grey\", breaks=seq(0, .5, 0.01), main=NA, xlab= \"Mean dispersal distance CV\")\n",
    "abline(v = RealKernelVar$cvMDD, col=\"red\", lwd=3, lty=2) #from cv calculated in testing_seasonal.ipynb 02/20/2020\n",
    "dev.off()\n",
    "\n",
    "pdf(\"~/parentage/kernel_fitting/1340_loci/final_results/simulations/SeasonalThetaCV.pdf\")\n",
    "hist(SimulatedKernelsVar$cvtheta, col=\"grey\", breaks=seq(0, 1, 0.01), main=NA, xlab=\"theta CV\")\n",
    "abline(v = RealKernelVar$cvtheta, col=\"red\", lwd=3, lty=2)\n",
    "dev.off()\n",
    "\n",
    "pdf(\"~/parentage/kernel_fitting/1340_loci/final_results/simulations/SeasonalKSD.pdf\")\n",
    "hist(SimulatedKernelsVar$sdk, col=\"grey\", main=NA, breaks=seq(0, 1.5, 0.01), xlab= \"k SD\")\n",
    "abline(v = RealKernelVar$sdk, col=\"red\", lwd=3, lty=2)\n",
    "dev.off()\n",
    "\n",
    "pdf(\"~/parentage/kernel_fitting/1340_loci/final_results/simulations/Seasonal90CV.pdf\")\n",
    "hist(SimulatedKernelsVar$cv90,col=\"grey\", breaks=seq(0, 1.5, 0.01), main=NA, xlab= \"0.90 dispersal distance CV\")\n",
    "abline(v = RealKernelVar$cv90, col=\"red\", lwd=3, lty=2)\n",
    "dev.off()"
   ]
  },
  {
   "cell_type": "code",
   "execution_count": null,
   "metadata": {},
   "outputs": [],
   "source": [
    "hist(SimulatedKernelsVar$cvMDD, breaks=seq(0, 3, 0.01), main=NA, col=\"black\", xlab= \"Mean dispersal distance CV\")\n",
    "abline(v = 1.233, col=\"red\", lwd=3, lty=2) #from cv calculated in testing_seasonal.ipynb 02/20/2020"
   ]
  },
  {
   "cell_type": "code",
   "execution_count": null,
   "metadata": {},
   "outputs": [],
   "source": []
  },
  {
   "cell_type": "code",
   "execution_count": null,
   "metadata": {},
   "outputs": [],
   "source": []
  },
  {
   "cell_type": "code",
   "execution_count": null,
   "metadata": {},
   "outputs": [],
   "source": []
  },
  {
   "cell_type": "code",
   "execution_count": null,
   "metadata": {},
   "outputs": [],
   "source": []
  },
  {
   "cell_type": "code",
   "execution_count": null,
   "metadata": {},
   "outputs": [],
   "source": []
  },
  {
   "cell_type": "code",
   "execution_count": null,
   "metadata": {},
   "outputs": [],
   "source": []
  },
  {
   "cell_type": "code",
   "execution_count": null,
   "metadata": {},
   "outputs": [],
   "source": [
    "#it looks like the bimodal distribution of CV is driven by the large right skew in the MDD data\n",
    "adj_max <- 100 #max(SimulatedKernels$MDD)\n",
    "exp <- matrix(nrow=adj_max, ncol=1)\n",
    "x <- matrix(seq(1,adj_max, 1))\n",
    "\n",
    "\n",
    "for(i in 1:nrow(exp)) {\n",
    "    \n",
    "exp[i,] = exp(x[i,])\n",
    "\n",
    "}\n",
    "\n",
    "cv <- matrix(nrow=max(SimulatedKernels$MDD), ncol=1)\n",
    "\n",
    "pb <- txtProgressBar(min = 0, max = nrow(exp), style = 3)\n",
    "\n",
    "for(i in 1:nrow(exp)){\n",
    "    \n",
    "    exp_eval <- exp[sample(nrow(exp),size=7,replace=TRUE),]\n",
    "    exp_eval[is.infinite(exp_eval)] <- NA\n",
    "    cv[i,] = sd(exp_eval, na.rm=T)/mean(exp_eval, na.rm=T)\n",
    "\n",
    "setTxtProgressBar(pb, i)    \n",
    "    \n",
    "}\n",
    "close(pb)\n",
    "hist(cv)"
   ]
  },
  {
   "cell_type": "code",
   "execution_count": null,
   "metadata": {},
   "outputs": [],
   "source": [
    "hist(SimulatedKernels$MDD)"
   ]
  }
 ],
 "metadata": {
  "kernelspec": {
   "display_name": "R",
   "language": "R",
   "name": "ir"
  },
  "language_info": {
   "codemirror_mode": "r",
   "file_extension": ".r",
   "mimetype": "text/x-r-source",
   "name": "R",
   "pygments_lexer": "r",
   "version": "3.6.1"
  }
 },
 "nbformat": 4,
 "nbformat_minor": 2
}
