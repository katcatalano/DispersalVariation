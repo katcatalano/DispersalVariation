{
 "cells": [
  {
   "cell_type": "code",
   "execution_count": 1,
   "metadata": {},
   "outputs": [],
   "source": [
    "Packages <- c(\"dplyr\",  \"RMySQL\",  \"tidyr\", \"lubridate\")\n",
    "invisible(suppressPackageStartupMessages(lapply(Packages, library, character.only = TRUE)))\n",
    "setwd('/local/home/katrinac/parentage')\n",
    "\n",
    "load(\"~/parentage/r_data/sampled_area_each_year.RData\")\n",
    "load(\"~/parentage/r_data/anems_visited_by_year.RData\")\n",
    "load(\"~/parentage/r_data/total_sampling_across_years.RData\")\n",
    "\n",
    "#download.file(url = \"https://raw.githubusercontent.com/pinskylab/genomics/master/data/known_issues.csv\", destfile = \"~/parentage/r_data/known_issues.csv\")\n",
    "issues <- read.csv(\"~/parentage/r_data/known_issues.csv\", header=T, stringsAsFactors = F)\n",
    "#download.file(url = \"https://github.com/pinskylab/Clownfish_persistence/blob/master/Data/Data_from_database/fish_db.RData?raw=true\", destfile = \"~/parentage/r_data/dives_db.RData\")\n",
    "load(\"~/parentage/r_data/fish_db.RData\")\n",
    "#download.file(url = \"https://github.com/pinskylab/Clownfish_persistence/blob/master/Data/Data_from_database/anem_db.RData?raw=true\", destfile = \"~/parentage/r_data/anem_db.RData\")\n",
    "load(\"~/parentage/r_data/anem_db.RData\")\n",
    "#download.file(url = \"https://github.com/pinskylab/Clownfish_persistence/blob/master/Data/Data_from_database/dives_db.RData?raw=true\", destfile = \"~/parentage/r_data/dives_db.RData\")\n",
    "load(\"~/parentage/r_data/dives_db.RData\")\n",
    "#download.file(url = \"https://github.com/pinskylab/Clownfish_persistence/blob/master/Data/Data_from_database/fish_db.RData?raw=true\", destfile = \"~/parentage/r_data/dives_db.RData\")\n",
    "load(\"~/parentage/r_data/fish_db.RData\")\n",
    "load(\"~/parentage/r_data/gps_db.RData\")\n",
    "#download.file(url = \"https://github.com/pinskylab/Clownfish_persistence/blob/master/Data/anems_tagged.RData\", destfile = \"~/parentage/r_data/anems_tagged.RData\")\n",
    "load(\"~/parentage/r_data/anems_tagged.RData\")\n",
    "#download.file(url = \"https://github.com/pinskylab/genomics/blob/master/data/fish-obs.RData?raw=true\", destfile = \"~/parentage/r_data/fish-obs.RData\")\n",
    "fish_obs <- readRDS(\"~/parentage/r_data/fish-obs.RData\") \n",
    "#download.file(url = \"https://raw.githubusercontent.com/pinskylab/db_backups/master/ligation_1-7-20.csv\", destfile = \"~/parentage/r_data/ligation_db.csv\")\n",
    "lig_db <- read.csv(\"~/parentage/r_data/ligation_db.csv\", header=T, stringsAsFactors = F)\n",
    "#download.file(url = \"https://raw.githubusercontent.com/pinskylab/db_backups/master/digest_1-7-20.csv\", destfile = \"~/parentage/r_data/digest_db.csv\")\n",
    "dig_db <- read.csv(\"~/parentage/r_data/digest_db.csv\", header=T, stringsAsFactors = F)\n",
    "#download.file(url = \"https://raw.githubusercontent.com/pinskylab/db_backups/master/extraction_1-7-20.csv\", destfile = \"~/parentage/r_data/extraction_db.csv\")\n",
    "ext_db <- read.csv(\"~/parentage/r_data/extraction_db.csv\", header=T, stringsAsFactors = F)\n",
    "\"%!in%\" <- function(x,table) match(x,table, nomatch = 0) == 0\n"
   ]
  },
  {
   "cell_type": "code",
   "execution_count": 2,
   "metadata": {},
   "outputs": [
    {
     "data": {
      "text/html": [
       "3819"
      ],
      "text/latex": [
       "3819"
      ],
      "text/markdown": [
       "3819"
      ],
      "text/plain": [
       "[1] 3819"
      ]
     },
     "metadata": {},
     "output_type": "display_data"
    }
   ],
   "source": [
    "nrow(fish_obs)"
   ]
  },
  {
   "cell_type": "code",
   "execution_count": 3,
   "metadata": {},
   "outputs": [],
   "source": [
    "dat_gen <- read.table(\"/local/home/katrinac/parentage/colony2/20190422_894loci/input/seq33-03_norecap.gen\", colClasses= \"character\",  quote=\"\", header=TRUE, row.names=NULL, sep=\" \")\n",
    "loci_to_remove <- read.table(\"/local/home/katrinac/parentage/colony2/20190422_894loci/input/20190523_894_plink.prune.out\", quote=\"\", header=T, stringsAsFactors = F)"
   ]
  },
  {
   "cell_type": "code",
   "execution_count": 92,
   "metadata": {},
   "outputs": [
    {
     "data": {
      "text/html": [
       "<ol class=list-inline>\n",
       "\t<li>2406</li>\n",
       "\t<li>2680</li>\n",
       "</ol>\n"
      ],
      "text/latex": [
       "\\begin{enumerate*}\n",
       "\\item 2406\n",
       "\\item 2680\n",
       "\\end{enumerate*}\n"
      ],
      "text/markdown": [
       "1. 2406\n",
       "2. 2680\n",
       "\n",
       "\n"
      ],
      "text/plain": [
       "[1] 2406 2680"
      ]
     },
     "metadata": {},
     "output_type": "display_data"
    },
    {
     "data": {
      "text/html": [
       "<ol class=list-inline>\n",
       "\t<li>2680</li>\n",
       "\t<li>2407</li>\n",
       "</ol>\n"
      ],
      "text/latex": [
       "\\begin{enumerate*}\n",
       "\\item 2680\n",
       "\\item 2407\n",
       "\\end{enumerate*}\n"
      ],
      "text/markdown": [
       "1. 2680\n",
       "2. 2407\n",
       "\n",
       "\n"
      ],
      "text/plain": [
       "[1] 2680 2407"
      ]
     },
     "metadata": {},
     "output_type": "display_data"
    },
    {
     "data": {
      "text/html": [
       "0"
      ],
      "text/latex": [
       "0"
      ],
      "text/markdown": [
       "0"
      ],
      "text/plain": [
       "[1] 0"
      ]
     },
     "metadata": {},
     "output_type": "display_data"
    },
    {
     "data": {
      "text/html": [
       "<ol class=list-inline>\n",
       "\t<li>2406</li>\n",
       "\t<li>2680</li>\n",
       "</ol>\n"
      ],
      "text/latex": [
       "\\begin{enumerate*}\n",
       "\\item 2406\n",
       "\\item 2680\n",
       "\\end{enumerate*}\n"
      ],
      "text/markdown": [
       "1. 2406\n",
       "2. 2680\n",
       "\n",
       "\n"
      ],
      "text/plain": [
       "[1] 2406 2680"
      ]
     },
     "metadata": {},
     "output_type": "display_data"
    }
   ],
   "source": [
    "dim(dat_gen) #697 loci total\n",
    "#dim(loci_to_keep)\n",
    "\n",
    "\n",
    "#do this after filtering for only loci not in LD and maf 0.05\n",
    "#names(dat_gen) <- gsub(\"dDocent_Contig_\" , \"\",  names(dat_gen))  \n",
    "#names(dat_gen) <- gsub(\"\\\\d_\" , \"\",  names(dat_gen))\n",
    "\n",
    "\n",
    "\n",
    "#find and drop the loci that have three alleles\n",
    "\n",
    "#flip the data frame so you can use filter\n",
    "\n",
    "#dat_gen$ligation_id\n",
    "\n",
    "row.names(dat_gen) <-dat_gen$ligation_id\n",
    "\n",
    "#dat_gen$ligation_id <- NULL\n",
    "\n",
    "\n",
    "##could use this code to split columns rather than doing it as in terminal20180517 --> cSplit(mydf, grep(\"Allele\", names(mydf)), \"\", stripWhite = FALSE)\n",
    "\n",
    "\n",
    "dat_gen_t <- as.data.frame(t(dat_gen), stringsAsFactors = F)#look for loci appended with 2 for the 3 allele loci\n",
    "#dat_gen_t$ligation_id <- rownames(dat_gen_t)\n",
    "\n",
    "dat_gen_t$locus <- rownames(dat_gen_t)\n",
    "#head(dat_gen_t)\n",
    "\n",
    "ligation_ids <- dat_gen %>%\n",
    "    select(ligation_id)\n",
    "\n",
    "no_ld <- dat_gen_t %>%\n",
    "  filter(locus==\"ligation_id\" | locus %!in% loci_to_remove$locus)\n",
    "#\n",
    "dim(no_ld)\n",
    "#\n",
    "#\n",
    "##drop the columns with a 03 value\n",
    "#\n",
    "dat_gen_t_beta <- no_ld %>% mutate(third_allele = rowSums(no_ld==\"03\"))\n",
    "#\n",
    "sum(dat_gen_t_beta$third_allele != 0) #one locus of the 697 is in LD\n",
    "#\n",
    "#head(dat_gen_t_beta)\n",
    "#\n",
    "dat_gen_beta2 <- dat_gen_t_beta %>% filter(third_allele == 0)\n",
    "#\n",
    "##head(dat_gen_beta2)\n",
    "#\n",
    "col <- dat_gen_beta2$locus\n",
    "dat_gen_beta2$locus <- NULL\n",
    "dat_gen_beta2$third_allele <- NULL\n",
    "#\n",
    "dat_gen <- t(dat_gen_beta2)\n",
    "#\n",
    "#\n",
    "dat_gen <- as.data.frame(dat_gen, stringsAsFactors = F, row.names = NULL, col.names = col)\n",
    "#\n",
    "names(dat_gen) <- col\n",
    "#\n",
    "##dat_gen$ligation_id <- row.names(dat_gen)\n",
    "row.names(dat_gen) <- NULL\n",
    "#\n",
    "dim(dat_gen)\n",
    "#\n",
    "#dat_gen2 <- dat_gen %>%\n",
    "#    filter(ligation_id %in% dat_gen_FORIDS$ligation_id)"
   ]
  },
  {
   "cell_type": "code",
   "execution_count": null,
   "metadata": {},
   "outputs": [],
   "source": [
    "#correct fish obs"
   ]
  },
  {
   "cell_type": "code",
   "execution_count": 5,
   "metadata": {},
   "outputs": [],
   "source": [
    "#2895-2680\n",
    "#2680/2\n",
    "#215/2"
   ]
  },
  {
   "cell_type": "code",
   "execution_count": 4,
   "metadata": {},
   "outputs": [],
   "source": [
    "#dim(dat_gen)"
   ]
  },
  {
   "cell_type": "code",
   "execution_count": 53,
   "metadata": {},
   "outputs": [],
   "source": [
    "#write.table(dat_gen, file=\"/local/home/katrinac/parentage/colony2/20190523_1340loci/input/20190523_1340_loci_seq33-03_noLD.txt\", col.names=T, quote=FALSE, row.names=FALSE)\n",
    "\n"
   ]
  },
  {
   "cell_type": "code",
   "execution_count": 4,
   "metadata": {},
   "outputs": [],
   "source": [
    "#load the sequencing data already modified\n",
    "dat_gen <- read.table(\"/local/home/katrinac/parentage/colony2/20190523_1340loci/input/20190523_1340_loci_seq33-03_noLD.txt\", colClasses= \"character\",  quote=\"\", header=TRUE, row.names=NULL)\n",
    "#dat_gen[is.na(dat_gen)] <- 00"
   ]
  },
  {
   "cell_type": "code",
   "execution_count": 5,
   "metadata": {},
   "outputs": [],
   "source": [
    "#from Allison, just putting all the meta data together (Constants_database_common_functions.R)\n",
    "##### Match up other relevant info (site, date, fish_indiv, etc.) to fish in the clownfish table\n",
    "# Pull out year and month into a separate column in dives_db\n",
    "dives_db_processed <- dives_db %>%\n",
    "  mutate(year = as.integer(substring(date,1,4))) %>%\n",
    "  mutate(month = as.integer(substring(date,6,7))) %>%\n",
    "  mutate(dive_date = date(date))\n",
    "\n",
    "# Pull all APCL caught or otherwise in the clownfish table\n",
    "allfish_fish <- fish_db %>%\n",
    "  select(fish_table_id, anem_table_id, fish_spp, sample_id, anem_table_id, recap, tag_id, color, sex, size, fish_obs_time, fish_notes) %>%\n",
    "  filter(fish_spp == 'APCL') %>%\n",
    "  mutate(size = as.numeric(size))  # make the size numeric (rather than chr) so can do means and such\n",
    "\n",
    "# and their corresponding anemones\n",
    "allfish_anems <- anem_db %>%\n",
    "  select(anem_table_id, dive_table_id, anem_obs, anem_id, old_anem_id, anem_notes) %>%\n",
    "  filter(anem_table_id %in% allfish_fish$anem_table_id)\n",
    "\n",
    "# and the corresponding dive info\n",
    "allfish_dives <- dives_db_processed %>%\n",
    "  select(dive_table_id, dive_type, date, year, month, site, gps, dive_notes) %>%\n",
    "  filter(dive_table_id %in% allfish_anems$dive_table_id) \n",
    "\n",
    "# join together\n",
    "allfish_caught <- left_join(allfish_fish, allfish_anems, by=\"anem_table_id\")\n",
    "allfish_caught <- left_join(allfish_caught, allfish_dives, by=\"dive_table_id\")\n",
    "\n",
    "# add in the gen_ids and fish_indiv (now in a separate gen_id table) - gen_id only comes in the time the fish was sequenced, not at all captures\n",
    "allfish_caught <- left_join(allfish_caught, (fish_obs %>% select(fish_table_id, gen_id, fish_indiv)), by = \"fish_table_id\")\n",
    "\n",
    "#get sample ids for ligation ids\n",
    "ext_db <- ext_db %>%\n",
    "    select(extraction_id, sample_id)\n",
    "dig_db <- dig_db %>%\n",
    "    select(extraction_id, digest_id)\n",
    "lig_db <- lig_db %>%\n",
    "    select(ligation_id, digest_id)\n",
    "ext_dig <- left_join(ext_db, dig_db, by=\"extraction_id\")\n",
    "dig_lig <- left_join(ext_dig, lig_db, by=\"digest_id\") %>% \n",
    "    filter(!is.na(ligation_id))\n",
    "lig_samp <- dig_lig %>%\n",
    "    select(ligation_id, sample_id) "
   ]
  },
  {
   "cell_type": "code",
   "execution_count": 6,
   "metadata": {},
   "outputs": [
    {
     "data": {
      "text/html": [
       "0"
      ],
      "text/latex": [
       "0"
      ],
      "text/markdown": [
       "0"
      ],
      "text/plain": [
       "[1] 0"
      ]
     },
     "metadata": {},
     "output_type": "display_data"
    },
    {
     "data": {
      "text/html": [
       "0"
      ],
      "text/latex": [
       "0"
      ],
      "text/markdown": [
       "0"
      ],
      "text/plain": [
       "[1] 0"
      ]
     },
     "metadata": {},
     "output_type": "display_data"
    }
   ],
   "source": [
    "fish_in_gen_lig <- dat_gen %>% #pull of the ligation_ids of fish in dat_gen, and remove those in the issues table\n",
    "    select(ligation_id) %>%\n",
    "    filter(ligation_id %!in% issues$ligation_id) #5 fish in issues table, these are dropped\n",
    "nrow(dat_gen) -nrow(fish_in_gen_lig) \n",
    "\n",
    "fish_in_gen_samp <- lig_samp %>% \n",
    "    filter(ligation_id %in%dat_gen$ligation_id) %>%\n",
    "    distinct(ligation_id, sample_id, .keep_all = T) #all of the ligation_ids in fish_in_gen_samp are in fish_in_gen_lig. Are the extra 7 sample_ids just multiples for regenotyped fish? YES see the following when this line is commented out: test %>% group_by(ligation_id, sample_id) %>% summarise(n=n()) %>% filter(n >1)\n",
    "\n",
    "nrow(fish_in_gen_lig)- nrow(fish_in_gen_samp) #should be 0\n",
    "\n",
    "sampled_fish <- left_join(allfish_caught, lig_samp,  by=\"sample_id\") %>%\n",
    "    select(fish_indiv, year, size, color, sex, gen_id, ligation_id, sample_id) #%>%\n",
    "    #filter(!is.na(sample_id))\n",
    "\n",
    "fish_meta <- sampled_fish %>%#join with the rest of the data\n",
    "    select(fish_indiv, year, size, color, sex, gen_id, ligation_id, sample_id)\n",
    "###join with genetic data\n",
    "dat_gen_meta <-  left_join(dat_gen, fish_meta, by=\"ligation_id\")"
   ]
  },
  {
   "cell_type": "code",
   "execution_count": 20,
   "metadata": {},
   "outputs": [],
   "source": [
    "#checking for fish that may be sorted incorrectly because their observations aren't connected by a gen_id\n",
    "#(allfish_caught %>% filter(!is.na(tag_id) & size < 6)%>% select(sample_id, tag_id, gen_id, color, sex, size, date, site, fish_indiv) %>% mutate(fish_indiv=as.numeric(fish_indiv)) %>% filter(fish_indiv < 5000))\n",
    "##what are the known observations of this fish?\n",
    "#id_eval <- 2633\n",
    "#allfish_caught %>% filter(fish_indiv==id_eval) %>% select(sample_id, tag_id, gen_id, color, sex, size, date, site, fish_indiv)\n",
    "##is it correctly sorted now?\n",
    "#offs_annual %>% filter(fish_indiv==id_eval) #made June 4, 2020 after changing the parent/offspring assignment loop to allow a previous observation of a fish to be considered as sampled even though that earlier ligation id was not in the genepop file because it wasn't the best ligation/genotype data for that fish\n",
    "#parents %>% filter(fish_indiv==id_eval)  #made June 4, 2020 after changing the parent/offspring assignment loop to allow a previous observation of a fish to be considered as sampled even though that earlier ligation id was not in the genepop file because it wasn't the best ligation/genotype data for that fish\n"
   ]
  },
  {
   "cell_type": "code",
   "execution_count": 8,
   "metadata": {
    "scrolled": false
   },
   "outputs": [
    {
     "data": {
      "text/html": [
       "8478"
      ],
      "text/latex": [
       "8478"
      ],
      "text/markdown": [
       "8478"
      ],
      "text/plain": [
       "[1] 8478"
      ]
     },
     "metadata": {},
     "output_type": "display_data"
    }
   ],
   "source": [
    "nrow(fish_meta) #should be 8478"
   ]
  },
  {
   "cell_type": "code",
   "execution_count": 15,
   "metadata": {},
   "outputs": [
    {
     "data": {
      "text/html": [
       "<ol class=list-inline>\n",
       "\t<li>2406</li>\n",
       "\t<li>2687</li>\n",
       "</ol>\n"
      ],
      "text/latex": [
       "\\begin{enumerate*}\n",
       "\\item 2406\n",
       "\\item 2687\n",
       "\\end{enumerate*}\n"
      ],
      "text/markdown": [
       "1. 2406\n",
       "2. 2687\n",
       "\n",
       "\n"
      ],
      "text/plain": [
       "[1] 2406 2687"
      ]
     },
     "metadata": {},
     "output_type": "display_data"
    }
   ],
   "source": [
    "dim(dat_gen_meta)# should be 2406 x 2687"
   ]
  },
  {
   "cell_type": "code",
   "execution_count": null,
   "metadata": {},
   "outputs": [],
   "source": []
  },
  {
   "cell_type": "markdown",
   "metadata": {},
   "source": [
    "### Make a gen file for all adults from every year."
   ]
  },
  {
   "cell_type": "code",
   "execution_count": 7,
   "metadata": {},
   "outputs": [],
   "source": [
    "years <- as.matrix(c(2012, 2013, 2014, 2015, 2016, 2017, 2018)) #years to evaluate\n",
    "indiv_ids <- as.matrix(dat_gen_meta %>% #gen_ids to sort into parent/offspring files\n",
    "                     select(fish_indiv) %>% \n",
    "                     distinct(fish_indiv))\n",
    "\n",
    "parents <- as.data.frame(matrix(nrow=0, ncol=8))  #copy previous year parent file to current parent file by starting this file out of the loop and building on it in the loop. mutate a column with the year it will be a part of, and sort through that as \"for 2013, grab everything in the parent file >=2013\" after the loop\n",
    "colnames(parents) <- names(fish_meta)\n",
    "\n",
    "offs_annual <- as.data.frame(matrix(nrow=0, ncol=8))\n",
    "colnames(offs_annual) <- names(fish_meta)\n",
    "    \n",
    "for(i in 1:nrow(years)){\n",
    "    \n",
    "    year_eval <- years[i]\n",
    "    \n",
    "    for(k in 1:nrow(indiv_ids)){ \n",
    "        \n",
    "        indiv_id_eval <- indiv_ids[k]\n",
    "        \n",
    "        meta_eval <- fish_meta %>% #this will be the parents\n",
    "            filter(fish_indiv == indiv_id_eval & year == year_eval) %>% #year == year_eval, taking this out in testing with AD, add it back in later if you want and sort for year later in the loop\n",
    "            filter(size >= 6 | sex==\"M\" | sex==\"F\")  %>%\n",
    "            #filter(sex != \"J\" ) %>%\n",
    "            #filter(fish_indiv == indiv_id_eval) %>% #& ligation_id %in% best_genos$ligation_id) #commented out 06/01/2020\n",
    "            distinct(fish_indiv, .keep_all = T) #06/01/2020, shouldn't need this unless I fish was sampled multiple times in a year, which could happen if they were caught on a recap dive, but then there wouldn't be a sample id for them. and even if there was it wouldn't matter because the observation would be the same size/year probably so distinct is works to get rid of that if it's happening\n",
    "        \n",
    "        if(indiv_id_eval %in% meta_eval$fish_indiv){#then it's a parent\n",
    "       \n",
    "            if(indiv_id_eval %!in% parents$fish_indiv){ #if it's not already in the parent file, add it #maybe change this to elseif\n",
    "                \n",
    "                parents <-  bind_rows(meta_eval, parents)  \n",
    "\n",
    "                \n",
    "            }\n",
    "            \n",
    "#then it's an offspring\n",
    "        }else{\n",
    "            \n",
    "          \n",
    "             if(indiv_id_eval %!in% offs_annual$fish_indiv){ #if it's not already in the offspring file, add it\n",
    "                    \n",
    "                    add_to_offspring <- fish_meta %>%\n",
    "                            filter(fish_indiv == indiv_id_eval & year==year_eval)%>% #& ligation_id %in% best_genos$ligation_id)\n",
    "                            distinct(fish_indiv, .keep_all = T)\n",
    "                 offs_annual <- bind_rows(offs_annual, add_to_offspring) \n",
    "                 \n",
    "        \n",
    "            }\n",
    "        }\n",
    "\n",
    "    }\n",
    "}\n",
    "parents <- parents #%>%\n",
    "    #filter(!is.na(gen_id))\n",
    "offs_annual <- offs_annual #%>%\n",
    "    #filter(!is.na(gen_id))\n"
   ]
  },
  {
   "cell_type": "code",
   "execution_count": 8,
   "metadata": {},
   "outputs": [
    {
     "data": {
      "text/html": [
       "1729"
      ],
      "text/latex": [
       "1729"
      ],
      "text/markdown": [
       "1729"
      ],
      "text/plain": [
       "[1] 1729"
      ]
     },
     "metadata": {},
     "output_type": "display_data"
    },
    {
     "data": {
      "text/html": [
       "791"
      ],
      "text/latex": [
       "791"
      ],
      "text/markdown": [
       "791"
      ],
      "text/plain": [
       "[1] 791"
      ]
     },
     "metadata": {},
     "output_type": "display_data"
    },
    {
     "data": {
      "text/html": [
       "2520"
      ],
      "text/latex": [
       "2520"
      ],
      "text/markdown": [
       "2520"
      ],
      "text/plain": [
       "[1] 2520"
      ]
     },
     "metadata": {},
     "output_type": "display_data"
    }
   ],
   "source": [
    "nrow(parents)\n",
    "nrow(offs_annual) #any fish with a weird tail color here (YP or O) has been corrected by Michelle, as indicated in the \"fish_correction\" column.\n",
    "nrow(parents)+nrow(offs_annual)#should be 2625"
   ]
  },
  {
   "cell_type": "code",
   "execution_count": 18,
   "metadata": {},
   "outputs": [],
   "source": [
    "#print and upload the histogram of parent/offspring sizes, the total fish captured in each year, total offspring in the offspring file for each year, total in the parents of each year, and the number of each tail color in the parent and offspring file so everyone can look on github, total number of parents in parentage."
   ]
  },
  {
   "cell_type": "code",
   "execution_count": 27,
   "metadata": {
    "scrolled": false
   },
   "outputs": [],
   "source": [
    "##double check total number\n",
    "#test_n <- bind_rows(offs_annual, parents) %>% \n",
    "#    distinct(fish_indiv, .keep_all = T)\n",
    "#nrow(test_n) #2405\n",
    "#fish_meta %>% distinct(fish_indiv, .keep_all = T) %>% filter(fish_indiv < 5000 & fish_indiv %!in% test_n$fish_indiv) #SHOULD BE EMPTY\n",
    "#\n",
    "##png(file=\"~/parentage/colony2/20190523_1340loci/input/size_distribution_parents.png\")\n",
    "#hist(parents$size, main=\"size distribution of fish in parent files (all <6cm are YP/F or O/M)\")#looks good, but make sure the fish smaller than 6 in the parents. YES, see test below\n",
    "##dev.off()\n",
    "##png(file=\"~/parentage/colony2/20190523_1340loci/input/size_distribution_offspring.png\")\n",
    "#hist(offs_annual$size, main=\"size distribution of fish in offspring files\") #looks good\n",
    "##dev.off()\n",
    "#test <- parents %>% filter(size <6)\n",
    "#(test$sex)\n",
    "#\n",
    "##table of summaries\n",
    "#\n",
    "##how many fish from each year?\n",
    "#n_samples <- fish_meta %>% filter(!is.na(sample_id)) %>% group_by(year) %>% summarise(n_observed=n()) \n",
    "#sum(n_samples$n_observed)\n",
    "#n_samples\n",
    "##write.table(n_samples, file=\"~/parentage/colony2/20190523_1340loci/input/annual_number_fish_geno.txt\", col.names = T, quote=F, row.names = F)\n",
    "#\n",
    "##what are the number of fish of each sex in parents and offspring file?\n",
    "#par_sex <- parents %>% group_by(sex) %>% summarise(n=n()) \n",
    "##write.table(par_sex, file=\"~/parentage/colony2/20190523_1340loci/input/parent_nsex.txt\", col.names = T, quote=F, row.names = F)\n",
    "#offs_sex <- offs_annual %>% group_by(sex) %>% summarise(n=n()) \n",
    "##write.table(offs_sex, file=\"~/parentage/colony2/20190523_1340loci/input/offspring_nsex.txt\", col.names = T, quote=F, row.names = F)\n",
    "#\n",
    "#"
   ]
  },
  {
   "cell_type": "code",
   "execution_count": null,
   "metadata": {},
   "outputs": [],
   "source": [
    "#change NA genotypes to 0 for Colony\n",
    "#parents_gen[is.na(parents_gen)] <- 00\n",
    "#offs_gen[is.na(offs_gen)] <- 00"
   ]
  },
  {
   "cell_type": "code",
   "execution_count": 20,
   "metadata": {},
   "outputs": [
    {
     "name": "stderr",
     "output_type": "stream",
     "text": [
      "Warning message in cbind(parts$left, ellip_h, parts$right, deparse.level = 0L):\n",
      "“number of rows of result is not a multiple of vector length (arg 2)”Warning message in cbind(parts$left, ellip_h, parts$right, deparse.level = 0L):\n",
      "“number of rows of result is not a multiple of vector length (arg 2)”Warning message in cbind(parts$left, ellip_h, parts$right, deparse.level = 0L):\n",
      "“number of rows of result is not a multiple of vector length (arg 2)”Warning message in cbind(parts$left, ellip_h, parts$right, deparse.level = 0L):\n",
      "“number of rows of result is not a multiple of vector length (arg 2)”"
     ]
    },
    {
     "data": {
      "text/html": [
       "<table>\n",
       "<thead><tr><th scope=col>ligation_id</th><th scope=col>dDocent_Contig_11_59.01</th><th scope=col>dDocent_Contig_11_59.02</th><th scope=col>dDocent_Contig_11_87.01</th><th scope=col>dDocent_Contig_11_87.02</th><th scope=col>dDocent_Contig_11_93.01</th><th scope=col>dDocent_Contig_11_93.02</th><th scope=col>dDocent_Contig_11_117.01</th><th scope=col>dDocent_Contig_11_117.02</th><th scope=col>dDocent_Contig_11_126.01</th><th scope=col>...</th><th scope=col>dDocent_Contig_233984_13.02</th><th scope=col>dDocent_Contig_233984_104.01</th><th scope=col>dDocent_Contig_233984_104.02</th><th scope=col>fish_indiv</th><th scope=col>year</th><th scope=col>size</th><th scope=col>color</th><th scope=col>sex</th><th scope=col>gen_id</th><th scope=col>sample_id</th></tr></thead>\n",
       "<tbody>\n",
       "</tbody>\n",
       "</table>\n"
      ],
      "text/latex": [
       "\\begin{tabular}{r|lllllllllllllllllllllllllllllllllllllllllllllllllllllllllllllllllllllllllllllllllllllllllllllllllllllllllllllllllllllllllllllllllllllllllllllllllllllllllllllllllllllllllllllllllllllllllllllllllllllllllllllllllllllllllllllllllllllllllllllllllllllllllllllllllllllllllllllllllllllllllllllllllllllllllllllllllllllllllllllllllllllllllllllllllllllllllllllllllllllllllllllllllllllllllllllllllllllllllllllllllllllllllllllllllllllllllllllllllllllllllllllllllllllllllllllllllllllllllllllllllllllllllllllllllllllllllllllllllllllllllllllllllllllllllllllllllllllllllllllllllllllllllllllllllllllllllllllllllllllllllllllllllllllllllllllllllllllllllllllllllllllllllllllllllllllllllllllllllllllllllllllllllllllllllllllllllllllllllllllllllllllllllllllllllllllllllllllllllllllllllllllllllllllllllllllllllllllllllllllllllllllllllllllllllllllllllllllllllllllllllllllllllllllllllllllllllllllllllllllllllllllllllllllllllllllllllllllllllllllllllllllllllllllllllllllllllllllllllllllllllllllllllllllllllllllllllllllllllllllllllllllllllllllllllllllllllllllllllllllllllllllllllllllllllllllllllllllllllllllllllllllllllllllllllllllllllllllllllllllllllllllllllllllllllllllllllllllllllllllllllllllllllllllllllllllllllllllllllllllllllllllllllllllllllllllllllllllllllllllllllllllllllllllllllllllllllllllllllllllllllllllllllllllllllllllllllllllllllllllllllllllllllllllllllllllllllllllllllllllllllllllllllllllllllllllllllllllllllllllllllllllllllllllllllllllllllllllllllllllllllllllllllllllllllllllllllllllllllllllllllllllllllllllllllllllllllllllllllllllllllllllllllllllllllllllllllllllllllllllllllllllllllllllllllllllllllllllllllllllllllllllllllllllllllllllllllllllllllllllllllllllllllllllllllllllllllllllllllllllllllllllllllllllllllllllllllllllllllllllllllllllllllllllllllllllllllllllllllllllllllllllllllllllllllllllllllllllllllllllllllllllllllllllllllllllllllllllllllllllllllllllllllllllllllllllllllllllllllllllllllllllllllllllllllllllllllllllllllllllllllllllllllllllllllllllllllllllllllllllllllllllllllllllllllllllllllllllllllllllllllllllllllllllllllllllllllllllllllllllllllllllllllllllllllllllllllllllllllllllllllllllllllllllllllllllllllllllllllllllllllllllllllllllllllllllllllllllllllllllllllllllllllllllllllllllllllllllllllllllllllllllllllllllllllllllllllllllllllllllllllllllllllllllllllllllllllllllllllllllllllllllllllllllllllllllllllllllllllllllllllllllllllllllllllllllllllllllllllllllllllllllllllllllllllllllllllllllllllllllllllllllllllllllllllllllllllllllllllllllllllllllllllllllllllllllllllllllllllllllllllllllllllllllllllllllllllllllllllllllllllllllllllllllllllllllllllllllllllllllllllllllllllllllllllllllllllllllllllllllllllllllllllllllllllllllllllllllllllllllllllllllllllllllllllllllllllllllllllllllllllllllll}\n",
       " ligation\\_id & dDocent\\_Contig\\_11\\_59.01 & dDocent\\_Contig\\_11\\_59.02 & dDocent\\_Contig\\_11\\_87.01 & dDocent\\_Contig\\_11\\_87.02 & dDocent\\_Contig\\_11\\_93.01 & dDocent\\_Contig\\_11\\_93.02 & dDocent\\_Contig\\_11\\_117.01 & dDocent\\_Contig\\_11\\_117.02 & dDocent\\_Contig\\_11\\_126.01 & ... & dDocent\\_Contig\\_233984\\_13.02 & dDocent\\_Contig\\_233984\\_104.01 & dDocent\\_Contig\\_233984\\_104.02 & fish\\_indiv & year & size & color & sex & gen\\_id & sample\\_id\\\\\n",
       "\\hline\n",
       "\\end{tabular}\n"
      ],
      "text/markdown": [
       "\n",
       "| ligation_id | dDocent_Contig_11_59.01 | dDocent_Contig_11_59.02 | dDocent_Contig_11_87.01 | dDocent_Contig_11_87.02 | dDocent_Contig_11_93.01 | dDocent_Contig_11_93.02 | dDocent_Contig_11_117.01 | dDocent_Contig_11_117.02 | dDocent_Contig_11_126.01 | ... | dDocent_Contig_233984_13.02 | dDocent_Contig_233984_104.01 | dDocent_Contig_233984_104.02 | fish_indiv | year | size | color | sex | gen_id | sample_id |\n",
       "|---|---|---|---|---|---|---|---|---|---|---|---|---|---|---|---|---|---|---|---|---|\n",
       "\n"
      ],
      "text/plain": [
       "     ligation_id dDocent_Contig_11_59.01 dDocent_Contig_11_59.02\n",
       "     dDocent_Contig_11_87.01 dDocent_Contig_11_87.02 dDocent_Contig_11_93.01\n",
       "     dDocent_Contig_11_93.02 dDocent_Contig_11_117.01 dDocent_Contig_11_117.02\n",
       "     dDocent_Contig_11_126.01 ... dDocent_Contig_233984_13.02\n",
       "     dDocent_Contig_233984_104.01 dDocent_Contig_233984_104.02 fish_indiv year\n",
       "     size color sex gen_id sample_id"
      ]
     },
     "metadata": {},
     "output_type": "display_data"
    },
    {
     "data": {
      "text/html": [
       "<table>\n",
       "<thead><tr><th scope=col>fish_indiv</th><th scope=col>year</th><th scope=col>size</th><th scope=col>color</th><th scope=col>sex</th><th scope=col>gen_id</th><th scope=col>ligation_id</th><th scope=col>sample_id</th></tr></thead>\n",
       "<tbody>\n",
       "</tbody>\n",
       "</table>\n"
      ],
      "text/latex": [
       "\\begin{tabular}{r|llllllll}\n",
       " fish\\_indiv & year & size & color & sex & gen\\_id & ligation\\_id & sample\\_id\\\\\n",
       "\\hline\n",
       "\\end{tabular}\n"
      ],
      "text/markdown": [
       "\n",
       "| fish_indiv | year | size | color | sex | gen_id | ligation_id | sample_id |\n",
       "|---|---|---|---|---|---|---|---|\n",
       "\n"
      ],
      "text/plain": [
       "     fish_indiv year size color sex gen_id ligation_id sample_id"
      ]
     },
     "metadata": {},
     "output_type": "display_data"
    },
    {
     "data": {
      "text/html": [
       "<table>\n",
       "<thead><tr><th></th><th scope=col>ligation_id</th><th scope=col>dDocent_Contig_11_59.01</th><th scope=col>dDocent_Contig_11_59.02</th><th scope=col>dDocent_Contig_11_87.01</th><th scope=col>dDocent_Contig_11_87.02</th><th scope=col>dDocent_Contig_11_93.01</th><th scope=col>dDocent_Contig_11_93.02</th><th scope=col>dDocent_Contig_11_117.01</th><th scope=col>dDocent_Contig_11_117.02</th><th scope=col>dDocent_Contig_11_126.01</th><th scope=col>...</th><th scope=col>dDocent_Contig_207387_131.01</th><th scope=col>dDocent_Contig_207387_131.02</th><th scope=col>dDocent_Contig_207875_52.01</th><th scope=col>dDocent_Contig_207875_52.02</th><th scope=col>dDocent_Contig_226526_58.01</th><th scope=col>dDocent_Contig_226526_58.02</th><th scope=col>dDocent_Contig_233984_13.01</th><th scope=col>dDocent_Contig_233984_13.02</th><th scope=col>dDocent_Contig_233984_104.01</th><th scope=col>dDocent_Contig_233984_104.02</th></tr></thead>\n",
       "<tbody>\n",
       "\t<tr><th scope=row>301</th><td>L2356</td><td>01   </td><td>02   </td><td>01   </td><td>01   </td><td>01   </td><td>01   </td><td>01   </td><td>01   </td><td>01   </td><td>...  </td><td>01   </td><td>02   </td><td>01   </td><td>01   </td><td>02   </td><td>02   </td><td>01   </td><td>02   </td><td>01   </td><td>02   </td></tr>\n",
       "</tbody>\n",
       "</table>\n"
      ],
      "text/latex": [
       "\\begin{tabular}{r|llllllllllllllllllllllllllllllllllllllllllllllllllllllllllllllllllllllllllllllllllllllllllllllllllllllllllllllllllllllllllllllllllllllllllllllllllllllllllllllllllllllllllllllllllllllllllllllllllllllllllllllllllllllllllllllllllllllllllllllllllllllllllllllllllllllllllllllllllllllllllllllllllllllllllllllllllllllllllllllllllllllllllllllllllllllllllllllllllllllllllllllllllllllllllllllllllllllllllllllllllllllllllllllllllllllllllllllllllllllllllllllllllllllllllllllllllllllllllllllllllllllllllllllllllllllllllllllllllllllllllllllllllllllllllllllllllllllllllllllllllllllllllllllllllllllllllllllllllllllllllllllllllllllllllllllllllllllllllllllllllllllllllllllllllllllllllllllllllllllllllllllllllllllllllllllllllllllllllllllllllllllllllllllllllllllllllllllllllllllllllllllllllllllllllllllllllllllllllllllllllllllllllllllllllllllllllllllllllllllllllllllllllllllllllllllllllllllllllllllllllllllllllllllllllllllllllllllllllllllllllllllllllllllllllllllllllllllllllllllllllllllllllllllllllllllllllllllllllllllllllllllllllllllllllllllllllllllllllllllllllllllllllllllllllllllllllllllllllllllllllllllllllllllllllllllllllllllllllllllllllllllllllllllllllllllllllllllllllllllllllllllllllllllllllllllllllllllllllllllllllllllllllllllllllllllllllllllllllllllllllllllllllllllllllllllllllllllllllllllllllllllllllllllllllllllllllllllllllllllllllllllllllllllllllllllllllllllllllllllllllllllllllllllllllllllllllllllllllllllllllllllllllllllllllllllllllllllllllllllllllllllllllllllllllllllllllllllllllllllllllllllllllllllllllllllllllllllllllllllllllllllllllllllllllllllllllllllllllllllllllllllllllllllllllllllllllllllllllllllllllllllllllllllllllllllllllllllllllllllllllllllllllllllllllllllllllllllllllllllllllllllllllllllllllllllllllllllllllllllllllllllllllllllllllllllllllllllllllllllllllllllllllllllllllllllllllllllllllllllllllllllllllllllllllllllllllllllllllllllllllllllllllllllllllllllllllllllllllllllllllllllllllllllllllllllllllllllllllllllllllllllllllllllllllllllllllllllllllllllllllllllllllllllllllllllllllllllllllllllllllllllllllllllllllllllllllllllllllllllllllllllllllllllllllllllllllllllllllllllllllllllllllllllllllllllllllllllllllllllllllllllllllllllllllllllllllllllllllllllllllllllllllllllllllllllllllllllllllllllllllllllllllllllllllllllllllllllllllllllllllllllllllllllllllllllllllllllllllllllllllllllllllllllllllllllllllllllllllllllllllllllllllllllllllllllllllllllllllllllllllllllllllllllllllllllllllllllllllllllllllllllllllllllllllllllllllllllllllllllllllllllllllllllllllllllllllllllllllllllllllllllllllllllllllllllllllllllllllllllllllllllllllllllllllllllllllllllllllllllllllllllllllllllllllllllllllllllllllllllllllllllllllllllllllllllllllllllllllllllllllllllllllllllllllllllllllllllllllllllll}\n",
       "  & ligation\\_id & dDocent\\_Contig\\_11\\_59.01 & dDocent\\_Contig\\_11\\_59.02 & dDocent\\_Contig\\_11\\_87.01 & dDocent\\_Contig\\_11\\_87.02 & dDocent\\_Contig\\_11\\_93.01 & dDocent\\_Contig\\_11\\_93.02 & dDocent\\_Contig\\_11\\_117.01 & dDocent\\_Contig\\_11\\_117.02 & dDocent\\_Contig\\_11\\_126.01 & ... & dDocent\\_Contig\\_207387\\_131.01 & dDocent\\_Contig\\_207387\\_131.02 & dDocent\\_Contig\\_207875\\_52.01 & dDocent\\_Contig\\_207875\\_52.02 & dDocent\\_Contig\\_226526\\_58.01 & dDocent\\_Contig\\_226526\\_58.02 & dDocent\\_Contig\\_233984\\_13.01 & dDocent\\_Contig\\_233984\\_13.02 & dDocent\\_Contig\\_233984\\_104.01 & dDocent\\_Contig\\_233984\\_104.02\\\\\n",
       "\\hline\n",
       "\t301 & L2356 & 01    & 02    & 01    & 01    & 01    & 01    & 01    & 01    & 01    & ...   & 01    & 02    & 01    & 01    & 02    & 02    & 01    & 02    & 01    & 02   \\\\\n",
       "\\end{tabular}\n"
      ],
      "text/markdown": [
       "\n",
       "| <!--/--> | ligation_id | dDocent_Contig_11_59.01 | dDocent_Contig_11_59.02 | dDocent_Contig_11_87.01 | dDocent_Contig_11_87.02 | dDocent_Contig_11_93.01 | dDocent_Contig_11_93.02 | dDocent_Contig_11_117.01 | dDocent_Contig_11_117.02 | dDocent_Contig_11_126.01 | ... | dDocent_Contig_207387_131.01 | dDocent_Contig_207387_131.02 | dDocent_Contig_207875_52.01 | dDocent_Contig_207875_52.02 | dDocent_Contig_226526_58.01 | dDocent_Contig_226526_58.02 | dDocent_Contig_233984_13.01 | dDocent_Contig_233984_13.02 | dDocent_Contig_233984_104.01 | dDocent_Contig_233984_104.02 |\n",
       "|---|---|---|---|---|---|---|---|---|---|---|---|---|---|---|---|---|---|---|---|---|---|\n",
       "| 301 | L2356 | 01    | 02    | 01    | 01    | 01    | 01    | 01    | 01    | 01    | ...   | 01    | 02    | 01    | 01    | 02    | 02    | 01    | 02    | 01    | 02    |\n",
       "\n"
      ],
      "text/plain": [
       "    ligation_id dDocent_Contig_11_59.01 dDocent_Contig_11_59.02\n",
       "301 L2356       01                      02                     \n",
       "    dDocent_Contig_11_87.01 dDocent_Contig_11_87.02 dDocent_Contig_11_93.01\n",
       "301 01                      01                      01                     \n",
       "    dDocent_Contig_11_93.02 dDocent_Contig_11_117.01 dDocent_Contig_11_117.02\n",
       "301 01                      01                       01                      \n",
       "    dDocent_Contig_11_126.01 ... dDocent_Contig_207387_131.01\n",
       "301 01                       ... 01                          \n",
       "    dDocent_Contig_207387_131.02 dDocent_Contig_207875_52.01\n",
       "301 02                           01                         \n",
       "    dDocent_Contig_207875_52.02 dDocent_Contig_226526_58.01\n",
       "301 01                          02                         \n",
       "    dDocent_Contig_226526_58.02 dDocent_Contig_233984_13.01\n",
       "301 02                          01                         \n",
       "    dDocent_Contig_233984_13.02 dDocent_Contig_233984_104.01\n",
       "301 02                          01                          \n",
       "    dDocent_Contig_233984_104.02\n",
       "301 02                          "
      ]
     },
     "metadata": {},
     "output_type": "display_data"
    }
   ],
   "source": [
    "dat_gen_meta %>% filter(is.na(ligation_id))\n",
    "\n",
    "all_par13 %>% filter(is.na(ligation_id))\n",
    "\n",
    "all_par13_gen[301,]"
   ]
  },
  {
   "cell_type": "code",
   "execution_count": 14,
   "metadata": {},
   "outputs": [
    {
     "data": {
      "text/html": [
       "<table>\n",
       "<thead><tr><th></th><th scope=col>ligation_id</th><th scope=col>dDocent_Contig_11_59.01</th><th scope=col>dDocent_Contig_11_59.02</th><th scope=col>dDocent_Contig_11_87.01</th><th scope=col>dDocent_Contig_11_87.02</th><th scope=col>dDocent_Contig_11_93.01</th><th scope=col>dDocent_Contig_11_93.02</th><th scope=col>dDocent_Contig_11_117.01</th><th scope=col>dDocent_Contig_11_117.02</th><th scope=col>dDocent_Contig_11_126.01</th><th scope=col>...</th><th scope=col>dDocent_Contig_233984_13.02</th><th scope=col>dDocent_Contig_233984_104.01</th><th scope=col>dDocent_Contig_233984_104.02</th><th scope=col>fish_indiv</th><th scope=col>year</th><th scope=col>size</th><th scope=col>color</th><th scope=col>sex</th><th scope=col>gen_id</th><th scope=col>sample_id</th></tr></thead>\n",
       "<tbody>\n",
       "\t<tr><th scope=row>2401</th><td>L5622     </td><td>01        </td><td>02        </td><td>01        </td><td>01        </td><td>01        </td><td>01        </td><td>01        </td><td>01        </td><td>01        </td><td>...       </td><td>02        </td><td>01        </td><td>02        </td><td>1649      </td><td>2018      </td><td>9.3       </td><td>O         </td><td>M         </td><td>1649      </td><td>APCL18_728</td></tr>\n",
       "\t<tr><th scope=row>2402</th><td>L5637     </td><td>01        </td><td>02        </td><td>01        </td><td>01        </td><td>01        </td><td>01        </td><td>01        </td><td>01        </td><td>01        </td><td>...       </td><td>02        </td><td>01        </td><td>02        </td><td>2267      </td><td>2018      </td><td>7.9       </td><td>YP        </td><td>F         </td><td>2267      </td><td>APCL18_719</td></tr>\n",
       "\t<tr><th scope=row>2403</th><td>L5638     </td><td>01        </td><td>01        </td><td>01        </td><td>01        </td><td>01        </td><td>02        </td><td>01        </td><td>02        </td><td>01        </td><td>...       </td><td>02        </td><td>01        </td><td>02        </td><td>2200      </td><td>2018      </td><td>6.6       </td><td>O         </td><td>M         </td><td>2200      </td><td>APCL18_729</td></tr>\n",
       "\t<tr><th scope=row>2404</th><td>L5639     </td><td>01        </td><td>02        </td><td>01        </td><td>01        </td><td>01        </td><td>01        </td><td>01        </td><td>01        </td><td>01        </td><td>...       </td><td>02        </td><td>01        </td><td>02        </td><td>1648      </td><td>2018      </td><td>8.4       </td><td>YP        </td><td>F         </td><td>1648      </td><td>APCL18_730</td></tr>\n",
       "\t<tr><th scope=row>2405</th><td>L5640     </td><td>01        </td><td>01        </td><td>01        </td><td>01        </td><td>01        </td><td>01        </td><td>01        </td><td>01        </td><td>01        </td><td>...       </td><td>02        </td><td>01        </td><td>02        </td><td>1647      </td><td>2018      </td><td>9.9       </td><td>YP        </td><td>F         </td><td>1647      </td><td>APCL18_731</td></tr>\n",
       "\t<tr><th scope=row>2406</th><td>L5655     </td><td>01        </td><td>01        </td><td>01        </td><td>01        </td><td>01        </td><td>01        </td><td>01        </td><td>01        </td><td>01        </td><td>...       </td><td>02        </td><td>01        </td><td>02        </td><td>889       </td><td>2012      </td><td>8.1       </td><td>O         </td><td>M         </td><td> 889      </td><td>APCL12_255</td></tr>\n",
       "</tbody>\n",
       "</table>\n"
      ],
      "text/latex": [
       "\\begin{tabular}{r|lllllllllllllllllllllllllllllllllllllllllllllllllllllllllllllllllllllllllllllllllllllllllllllllllllllllllllllllllllllllllllllllllllllllllllllllllllllllllllllllllllllllllllllllllllllllllllllllllllllllllllllllllllllllllllllllllllllllllllllllllllllllllllllllllllllllllllllllllllllllllllllllllllllllllllllllllllllllllllllllllllllllllllllllllllllllllllllllllllllllllllllllllllllllllllllllllllllllllllllllllllllllllllllllllllllllllllllllllllllllllllllllllllllllllllllllllllllllllllllllllllllllllllllllllllllllllllllllllllllllllllllllllllllllllllllllllllllllllllllllllllllllllllllllllllllllllllllllllllllllllllllllllllllllllllllllllllllllllllllllllllllllllllllllllllllllllllllllllllllllllllllllllllllllllllllllllllllllllllllllllllllllllllllllllllllllllllllllllllllllllllllllllllllllllllllllllllllllllllllllllllllllllllllllllllllllllllllllllllllllllllllllllllllllllllllllllllllllllllllllllllllllllllllllllllllllllllllllllllllllllllllllllllllllllllllllllllllllllllllllllllllllllllllllllllllllllllllllllllllllllllllllllllllllllllllllllllllllllllllllllllllllllllllllllllllllllllllllllllllllllllllllllllllllllllllllllllllllllllllllllllllllllllllllllllllllllllllllllllllllllllllllllllllllllllllllllllllllllllllllllllllllllllllllllllllllllllllllllllllllllllllllllllllllllllllllllllllllllllllllllllllllllllllllllllllllllllllllllllllllllllllllllllllllllllllllllllllllllllllllllllllllllllllllllllllllllllllllllllllllllllllllllllllllllllllllllllllllllllllllllllllllllllllllllllllllllllllllllllllllllllllllllllllllllllllllllllllllllllllllllllllllllllllllllllllllllllllllllllllllllllllllllllllllllllllllllllllllllllllllllllllllllllllllllllllllllllllllllllllllllllllllllllllllllllllllllllllllllllllllllllllllllllllllllllllllllllllllllllllllllllllllllllllllllllllllllllllllllllllllllllllllllllllllllllllllllllllllllllllllllllllllllllllllllllllllllllllllllllllllllllllllllllllllllllllllllllllllllllllllllllllllllllllllllllllllllllllllllllllllllllllllllllllllllllllllllllllllllllllllllllllllllllllllllllllllllllllllllllllllllllllllllllllllllllllllllllllllllllllllllllllllllllllllllllllllllllllllllllllllllllllllllllllllllllllllllllllllllllllllllllllllllllllllllllllllllllllllllllllllllllllllllllllllllllllllllllllllllllllllllllllllllllllllllllllllllllllllllllllllllllllllllllllllllllllllllllllllllllllllllllllllllllllllllllllllllllllllllllllllllllllllllllllllllllllllllllllllllllllllllllllllllllllllllllllllllllllllllllllllllllllllllllllllllllllllllllllllllllllllllllllllllllllllllllllllllllllllllllllllllllllllllllllllllllllllllllllllllllllllllllllllllllllllllllllllllllllllllllllllllllllllllllllllllllllllllllllllllllllllllllllllllllllllllllllllllllllllllllllllllllllllllllllllllllllllllllllllllllllllllllllll}\n",
       "  & ligation\\_id & dDocent\\_Contig\\_11\\_59.01 & dDocent\\_Contig\\_11\\_59.02 & dDocent\\_Contig\\_11\\_87.01 & dDocent\\_Contig\\_11\\_87.02 & dDocent\\_Contig\\_11\\_93.01 & dDocent\\_Contig\\_11\\_93.02 & dDocent\\_Contig\\_11\\_117.01 & dDocent\\_Contig\\_11\\_117.02 & dDocent\\_Contig\\_11\\_126.01 & ... & dDocent\\_Contig\\_233984\\_13.02 & dDocent\\_Contig\\_233984\\_104.01 & dDocent\\_Contig\\_233984\\_104.02 & fish\\_indiv & year & size & color & sex & gen\\_id & sample\\_id\\\\\n",
       "\\hline\n",
       "\t2401 & L5622        & 01           & 02           & 01           & 01           & 01           & 01           & 01           & 01           & 01           & ...          & 02           & 01           & 02           & 1649         & 2018         & 9.3          & O            & M            & 1649         & APCL18\\_728\\\\\n",
       "\t2402 & L5637        & 01           & 02           & 01           & 01           & 01           & 01           & 01           & 01           & 01           & ...          & 02           & 01           & 02           & 2267         & 2018         & 7.9          & YP           & F            & 2267         & APCL18\\_719\\\\\n",
       "\t2403 & L5638        & 01           & 01           & 01           & 01           & 01           & 02           & 01           & 02           & 01           & ...          & 02           & 01           & 02           & 2200         & 2018         & 6.6          & O            & M            & 2200         & APCL18\\_729\\\\\n",
       "\t2404 & L5639        & 01           & 02           & 01           & 01           & 01           & 01           & 01           & 01           & 01           & ...          & 02           & 01           & 02           & 1648         & 2018         & 8.4          & YP           & F            & 1648         & APCL18\\_730\\\\\n",
       "\t2405 & L5640        & 01           & 01           & 01           & 01           & 01           & 01           & 01           & 01           & 01           & ...          & 02           & 01           & 02           & 1647         & 2018         & 9.9          & YP           & F            & 1647         & APCL18\\_731\\\\\n",
       "\t2406 & L5655        & 01           & 01           & 01           & 01           & 01           & 01           & 01           & 01           & 01           & ...          & 02           & 01           & 02           & 889          & 2012         & 8.1          & O            & M            &  889         & APCL12\\_255\\\\\n",
       "\\end{tabular}\n"
      ],
      "text/markdown": [
       "\n",
       "| <!--/--> | ligation_id | dDocent_Contig_11_59.01 | dDocent_Contig_11_59.02 | dDocent_Contig_11_87.01 | dDocent_Contig_11_87.02 | dDocent_Contig_11_93.01 | dDocent_Contig_11_93.02 | dDocent_Contig_11_117.01 | dDocent_Contig_11_117.02 | dDocent_Contig_11_126.01 | ... | dDocent_Contig_233984_13.02 | dDocent_Contig_233984_104.01 | dDocent_Contig_233984_104.02 | fish_indiv | year | size | color | sex | gen_id | sample_id |\n",
       "|---|---|---|---|---|---|---|---|---|---|---|---|---|---|---|---|---|---|---|---|---|---|\n",
       "| 2401 | L5622      | 01         | 02         | 01         | 01         | 01         | 01         | 01         | 01         | 01         | ...        | 02         | 01         | 02         | 1649       | 2018       | 9.3        | O          | M          | 1649       | APCL18_728 |\n",
       "| 2402 | L5637      | 01         | 02         | 01         | 01         | 01         | 01         | 01         | 01         | 01         | ...        | 02         | 01         | 02         | 2267       | 2018       | 7.9        | YP         | F          | 2267       | APCL18_719 |\n",
       "| 2403 | L5638      | 01         | 01         | 01         | 01         | 01         | 02         | 01         | 02         | 01         | ...        | 02         | 01         | 02         | 2200       | 2018       | 6.6        | O          | M          | 2200       | APCL18_729 |\n",
       "| 2404 | L5639      | 01         | 02         | 01         | 01         | 01         | 01         | 01         | 01         | 01         | ...        | 02         | 01         | 02         | 1648       | 2018       | 8.4        | YP         | F          | 1648       | APCL18_730 |\n",
       "| 2405 | L5640      | 01         | 01         | 01         | 01         | 01         | 01         | 01         | 01         | 01         | ...        | 02         | 01         | 02         | 1647       | 2018       | 9.9        | YP         | F          | 1647       | APCL18_731 |\n",
       "| 2406 | L5655      | 01         | 01         | 01         | 01         | 01         | 01         | 01         | 01         | 01         | ...        | 02         | 01         | 02         | 889        | 2012       | 8.1        | O          | M          |  889       | APCL12_255 |\n",
       "\n"
      ],
      "text/plain": [
       "     ligation_id dDocent_Contig_11_59.01 dDocent_Contig_11_59.02\n",
       "2401 L5622       01                      02                     \n",
       "2402 L5637       01                      02                     \n",
       "2403 L5638       01                      01                     \n",
       "2404 L5639       01                      02                     \n",
       "2405 L5640       01                      01                     \n",
       "2406 L5655       01                      01                     \n",
       "     dDocent_Contig_11_87.01 dDocent_Contig_11_87.02 dDocent_Contig_11_93.01\n",
       "2401 01                      01                      01                     \n",
       "2402 01                      01                      01                     \n",
       "2403 01                      01                      01                     \n",
       "2404 01                      01                      01                     \n",
       "2405 01                      01                      01                     \n",
       "2406 01                      01                      01                     \n",
       "     dDocent_Contig_11_93.02 dDocent_Contig_11_117.01 dDocent_Contig_11_117.02\n",
       "2401 01                      01                       01                      \n",
       "2402 01                      01                       01                      \n",
       "2403 02                      01                       02                      \n",
       "2404 01                      01                       01                      \n",
       "2405 01                      01                       01                      \n",
       "2406 01                      01                       01                      \n",
       "     dDocent_Contig_11_126.01 ... dDocent_Contig_233984_13.02\n",
       "2401 01                       ... 02                         \n",
       "2402 01                       ... 02                         \n",
       "2403 01                       ... 02                         \n",
       "2404 01                       ... 02                         \n",
       "2405 01                       ... 02                         \n",
       "2406 01                       ... 02                         \n",
       "     dDocent_Contig_233984_104.01 dDocent_Contig_233984_104.02 fish_indiv year\n",
       "2401 01                           02                           1649       2018\n",
       "2402 01                           02                           2267       2018\n",
       "2403 01                           02                           2200       2018\n",
       "2404 01                           02                           1648       2018\n",
       "2405 01                           02                           1647       2018\n",
       "2406 01                           02                           889        2012\n",
       "     size color sex gen_id sample_id \n",
       "2401 9.3  O     M   1649   APCL18_728\n",
       "2402 7.9  YP    F   2267   APCL18_719\n",
       "2403 6.6  O     M   2200   APCL18_729\n",
       "2404 8.4  YP    F   1648   APCL18_730\n",
       "2405 9.9  YP    F   1647   APCL18_731\n",
       "2406 8.1  O     M    889   APCL12_255"
      ]
     },
     "metadata": {},
     "output_type": "display_data"
    }
   ],
   "source": [
    "nrow(all)"
   ]
  },
  {
   "cell_type": "code",
   "execution_count": 20,
   "metadata": {},
   "outputs": [],
   "source": [
    "#sort into Male/Female/Offspring and annual files\n",
    "#2012\n",
    "\n",
    "all_offs12 <- offs_annual %>%\n",
    "    filter(year == 2012)  \n",
    "all_offs12_gen <- dat_gen_meta %>%\n",
    "    filter(fish_indiv %in% all_offs12$fish_indiv) %>%\n",
    "    distinct(fish_indiv, .keep_all = T) %>% \n",
    "    select(-fish_indiv, -year, -size, -color, -sex, -gen_id, -sample_id)\n",
    "\n",
    "all_par12 <- parents %>%\n",
    "    filter(year==2012 & fish_indiv %!in% all_offs12$fish_indiv)\n",
    "all_par12_gen <- dat_gen_meta %>%\n",
    "    filter(fish_indiv %in% all_par12$fish_indiv) %>%\n",
    "    distinct(fish_indiv, .keep_all = T)%>% \n",
    "    select(-fish_indiv, -year, -size, -color, -sex, -gen_id, -sample_id)\n",
    "\n",
    "\n",
    "\n",
    "#2013\n",
    "\n",
    "all_offs13 <- offs_annual %>%\n",
    "    filter(year==2013)\n",
    "all_offs13_gen <- dat_gen_meta %>%\n",
    "    filter(fish_indiv %in% all_offs13$fish_indiv) %>%\n",
    "    distinct(fish_indiv, .keep_all = T)%>% \n",
    "    select(-fish_indiv, -year, -size, -color, -sex, -gen_id, -sample_id)\n",
    "\n",
    "all_par13 <- parents %>%\n",
    "    filter(year %in% c(2012, 2013) & fish_indiv %!in% all_offs13$fish_indiv)\n",
    "all_par13_gen <- dat_gen_meta %>%\n",
    "    filter(fish_indiv %in% all_par13$fish_indiv) %>%\n",
    "    distinct(fish_indiv, .keep_all = T)%>% \n",
    "    select(-fish_indiv, -year, -size, -color, -sex, -gen_id, -sample_id)\n",
    "\n",
    "\n",
    "\n",
    "#2014\n",
    "all_offs14 <- offs_annual %>%\n",
    "    filter(year==2014)\n",
    "all_offs14_gen <- dat_gen_meta %>%\n",
    "    filter(fish_indiv %in% all_offs14$fish_indiv) %>%\n",
    "    distinct(fish_indiv, .keep_all = T)%>% \n",
    "    select(-fish_indiv, -year, -size, -color, -sex, -gen_id, -sample_id)\n",
    "\n",
    "\n",
    "all_par14 <- parents %>%\n",
    "    filter(year %in% c(2012, 2013, 2014) & fish_indiv %!in% all_offs14$fish_indiv) \n",
    "all_par14_gen <- dat_gen_meta %>%\n",
    "    filter(fish_indiv %in% all_par14$fish_indiv) %>%\n",
    "    distinct(fish_indiv, .keep_all = T)%>% \n",
    "    select(-fish_indiv, -year, -size, -color, -sex, -gen_id, -sample_id)\n",
    "\n",
    "\n",
    "\n",
    "##2015\n",
    "all_offs15 <- offs_annual %>%\n",
    "    filter(year==2015)\n",
    "all_offs15_gen <- dat_gen_meta %>%\n",
    "    filter(fish_indiv %in% all_offs15$fish_indiv) %>%\n",
    "    distinct(fish_indiv, .keep_all = T)%>% \n",
    "    select(-fish_indiv, -year, -size, -color, -sex, -gen_id, -sample_id)\n",
    "\n",
    "all_par15 <- parents %>%\n",
    "    filter(year %in% c(2012, 2013, 2014, 2015) & fish_indiv %!in% all_offs15$fish_indiv) \n",
    "all_par15_gen <- dat_gen_meta %>%\n",
    "    filter(fish_indiv %in% all_par15$fish_indiv) %>%\n",
    "    distinct(fish_indiv, .keep_all = T)%>% \n",
    "    select(-fish_indiv, -year, -size, -color, -sex, -gen_id, -sample_id)\n",
    "\n",
    "\n",
    "\n",
    "##2016\n",
    "all_offs16 <- offs_annual %>%\n",
    "    filter(year==2016)\n",
    "all_offs16_gen <- dat_gen_meta %>%\n",
    "    filter(fish_indiv %in% all_offs16$fish_indiv) %>%\n",
    "    distinct(fish_indiv, .keep_all = T)%>% \n",
    "    select(-fish_indiv, -year, -size, -color, -sex, -gen_id, -sample_id)\n",
    "\n",
    "\n",
    "all_par16 <- parents %>%\n",
    "    filter(year %in% c(2012, 2013, 2014, 2015, 2016) & fish_indiv %!in% all_offs16$fish_indiv) \n",
    "all_par16_gen <- dat_gen_meta %>%\n",
    "    filter(fish_indiv %in% all_par16$fish_indiv) %>%\n",
    "    distinct(fish_indiv, .keep_all = T)%>% \n",
    "    select(-fish_indiv, -year, -size, -color, -sex, -gen_id, -sample_id)\n",
    "\n",
    "\n",
    "\n",
    "#2017\n",
    "all_offs17 <- offs_annual %>%\n",
    "    filter(year==2017) \n",
    "all_offs17_gen <- dat_gen_meta %>%\n",
    "    filter(fish_indiv %in% all_offs17$fish_indiv) %>%\n",
    "    distinct(fish_indiv, .keep_all = T)%>% \n",
    "    select(-fish_indiv, -year, -size, -color, -sex, -gen_id, -sample_id)\n",
    "\n",
    "\n",
    "all_par17 <- parents %>%\n",
    "    filter(year %in% c(2012, 2013, 2014, 2015, 2016, 2017) & fish_indiv %!in% all_offs17$fish_indiv)  \n",
    "all_par17_gen <- dat_gen_meta %>%\n",
    "    filter(fish_indiv %in% all_par17$fish_indiv) %>%\n",
    "    distinct(fish_indiv, .keep_all = T)%>% \n",
    "    select(-fish_indiv, -year, -size, -color, -sex, -gen_id, -sample_id)\n",
    "\n",
    "\n",
    "\n",
    "#2018\n",
    "all_offs18 <- offs_annual %>%\n",
    "    filter(year==2018)\n",
    "all_offs18_gen <- dat_gen_meta %>%\n",
    "    filter(fish_indiv %in% all_offs18$fish_indiv)%>% \n",
    "    select(-fish_indiv, -year, -size, -color, -sex, -gen_id, -sample_id)\n",
    "\n",
    "\n",
    "all_par18 <- parents %>%\n",
    "    filter(year %in% c(2012, 2013, 2014, 2015, 2016, 2017, 2018) & fish_indiv %!in% all_offs18$fish_indiv) %>%\n",
    "    distinct(fish_indiv, .keep_all = T)\n",
    "all_par18_gen <- dat_gen_meta %>%\n",
    "    filter(fish_indiv %in% all_par18$fish_indiv) %>%\n",
    "    distinct(fish_indiv, .keep_all = T)%>% \n",
    "    select(-fish_indiv, -year, -size, -color, -sex, -gen_id, -sample_id)\n",
    "\n",
    "\n",
    "\n",
    "#pooled analysis\n",
    "pooled <- bind_rows(parents, offs_annual) %>%\n",
    "    distinct(fish_indiv, .keep_all = T)\n",
    "pooled_gen <- dat_gen_meta %>%\n",
    "    filter(fish_indiv %in% pooled$fish_indiv)%>% \n",
    "    distinct(fish_indiv, .keep_all = T) %>%\n",
    "    select(-fish_indiv, -year, -size, -color, -sex, -gen_id, -sample_id) \n",
    "#nrow(test_n %>% filter(fish_indiv %!in% pooled$fish_indiv)) #check, should be 0\n",
    "\n"
   ]
  },
  {
   "cell_type": "code",
   "execution_count": 12,
   "metadata": {},
   "outputs": [],
   "source": [
    "offs_gen <- dat_gen_meta %>%\n",
    "    filter(fish_indiv %in% offs_annual$fish_indiv)%>% \n",
    "    distinct(fish_indiv, .keep_all = T) %>%\n",
    "    select(-fish_indiv, -year, -size, -color, -sex, -gen_id, -sample_id) \n",
    "write.table(offs_gen, file=\"~/parentage/colony2/20190523_1340loci/input/20200605_offs_geneticsAll.txt\", col.names=FALSE, quote=FALSE, row.names=FALSE )\n"
   ]
  },
  {
   "cell_type": "code",
   "execution_count": 28,
   "metadata": {},
   "outputs": [
    {
     "data": {
      "text/html": [
       "<table>\n",
       "<thead><tr><th></th><th scope=col>ligation_id</th><th scope=col>dDocent_Contig_11_59.01</th><th scope=col>dDocent_Contig_11_59.02</th><th scope=col>dDocent_Contig_11_87.01</th><th scope=col>dDocent_Contig_11_87.02</th><th scope=col>dDocent_Contig_11_89.01</th><th scope=col>dDocent_Contig_11_89.02</th><th scope=col>dDocent_Contig_11_93.01</th><th scope=col>dDocent_Contig_11_93.02</th><th scope=col>dDocent_Contig_11_117.01</th><th scope=col>...</th><th scope=col>dDocent_Contig_207875_52.01</th><th scope=col>dDocent_Contig_207875_52.02</th><th scope=col>dDocent_Contig_226526_58.01</th><th scope=col>dDocent_Contig_226526_58.02</th><th scope=col>dDocent_Contig_233984_13.01</th><th scope=col>dDocent_Contig_233984_13.02</th><th scope=col>dDocent_Contig_233984_81.01</th><th scope=col>dDocent_Contig_233984_81.02</th><th scope=col>dDocent_Contig_233984_104.01</th><th scope=col>dDocent_Contig_233984_104.02</th></tr></thead>\n",
       "<tbody>\n",
       "\t<tr><th scope=row>1724</th><td>L5622</td><td>01   </td><td>02   </td><td>01   </td><td>01   </td><td>03   </td><td>03   </td><td>01   </td><td>01   </td><td>01   </td><td>...  </td><td>01   </td><td>02   </td><td>02   </td><td>02   </td><td>01   </td><td>02   </td><td>02   </td><td>03   </td><td>01   </td><td>02   </td></tr>\n",
       "\t<tr><th scope=row>1725</th><td>L5637</td><td>01   </td><td>02   </td><td>01   </td><td>01   </td><td>03   </td><td>03   </td><td>01   </td><td>01   </td><td>01   </td><td>...  </td><td>02   </td><td>02   </td><td>02   </td><td>02   </td><td>01   </td><td>02   </td><td>02   </td><td>03   </td><td>01   </td><td>02   </td></tr>\n",
       "\t<tr><th scope=row>1726</th><td>L5638</td><td>01   </td><td>01   </td><td>01   </td><td>01   </td><td>01   </td><td>03   </td><td>01   </td><td>02   </td><td>01   </td><td>...  </td><td>01   </td><td>02   </td><td>02   </td><td>02   </td><td>01   </td><td>02   </td><td>02   </td><td>03   </td><td>01   </td><td>02   </td></tr>\n",
       "\t<tr><th scope=row>1727</th><td>L5639</td><td>01   </td><td>02   </td><td>01   </td><td>01   </td><td>03   </td><td>02   </td><td>01   </td><td>01   </td><td>01   </td><td>...  </td><td>01   </td><td>02   </td><td>01   </td><td>02   </td><td>01   </td><td>02   </td><td>02   </td><td>03   </td><td>01   </td><td>02   </td></tr>\n",
       "\t<tr><th scope=row>1728</th><td>L5640</td><td>01   </td><td>01   </td><td>01   </td><td>01   </td><td>03   </td><td>03   </td><td>01   </td><td>01   </td><td>01   </td><td>...  </td><td>01   </td><td>02   </td><td>01   </td><td>02   </td><td>01   </td><td>02   </td><td>02   </td><td>03   </td><td>01   </td><td>02   </td></tr>\n",
       "\t<tr><th scope=row>1729</th><td>L5655</td><td>01   </td><td>01   </td><td>01   </td><td>01   </td><td>01   </td><td>03   </td><td>01   </td><td>01   </td><td>01   </td><td>...  </td><td>01   </td><td>01   </td><td>02   </td><td>02   </td><td>01   </td><td>02   </td><td>02   </td><td>03   </td><td>01   </td><td>02   </td></tr>\n",
       "</tbody>\n",
       "</table>\n"
      ],
      "text/latex": [
       "\\begin{tabular}{r|lllllllllllllllllllllllllllllllllllllllllllllllllllllllllllllllllllllllllllllllllllllllllllllllllllllllllllllllllllllllllllllllllllllllllllllllllllllllllllllllllllllllllllllllllllllllllllllllllllllllllllllllllllllllllllllllllllllllllllllllllllllllllllllllllllllllllllllllllllllllllllllllllllllllllllllllllllllllllllllllllllllllllllllllllllllllllllllllllllllllllllllllllllllllllllllllllllllllllllllllllllllllllllllllllllllllllllllllllllllllllllllllllllllllllllllllllllllllllllllllllllllllllllllllllllllllllllllllllllllllllllllllllllllllllllllllllllllllllllllllllllllllllllllllllllllllllllllllllllllllllllllllllllllllllllllllllllllllllllllllllllllllllllllllllllllllllllllllllllllllllllllllllllllllllllllllllllllllllllllllllllllllllllllllllllllllllllllllllllllllllllllllllllllllllllllllllllllllllllllllllllllllllllllllllllllllllllllllllllllllllllllllllllllllllllllllllllllllllllllllllllllllllllllllllllllllllllllllllllllllllllllllllllllllllllllllllllllllllllllllllllllllllllllllllllllllllllllllllllllllllllllllllllllllllllllllllllllllllllllllllllllllllllllllllllllllllllllllllllllllllllllllllllllllllllllllllllllllllllllllllllllllllllllllllllllllllllllllllllllllllllllllllllllllllllllllllllllllllllllllllllllllllllllllllllllllllllllllllllllllllllllllllllllllllllllllllllllllllllllllllllllllllllllllllllllllllllllllllllllllllllllllllllllllllllllllllllllllllllllllllllllllllllllllllllllllllllllllllllllllllllllllllllllllllllllllllllllllllllllllllllllllllllllllllllllllllllllllllllllllllllllllllllllllllllllllllllllllllllllllllllllllllllllllllllllllllllllllllllllllllllllllllllllllllllllllllllllllllllllllllllllllllllllllllllllllllllllllllllllllllllllllllllllllllllllllllllllllllllllllllllllllllllllllllllllllllllllllllllllllllllllllllllllllllllllllllllllllllllllllllllllllllllllllllllllllllllllllllllllllllllllllllllllllllllllllllllllllllllllllllllllllllllllllllllllllllllllllllllllllllllllllllllllllllllllllllllllllllllllllllllllllllllllllllllllllllllllllllllllllllllllllllllllllllllllllllllllllllllllllllllllllllllllllllllllllllllllllllllllllllllllllllllllllllllllllllllllllllllllllllllllllllllllllllllllllllllllllllllllllllllllllllllllllllllllllllllllllllllllllllllllllllllllllllllllllllllllllllllllllllllllllllllllllllllllllllllllllllllllllllllllllllllllllllllllllllllllllllllllllllllllllllllllllllllllllllllllllllllllllllllllllllllllllllllllllllllllllllllllllllllllllllllllllllllllllllllllllllllllllllllllllllllllllllllllllllllllllllllllllllllllllllllllllllllllllllllllllllllllllllllllllllllllllllllllllllllllllllllllllllllllllllllllllllllllllllllllllllllllllllllllllllllllllllllllllllllllllllllllllllllllllllllllllllllllllllllllllllllllllllllllllllllllllllllllllllllllllllllllllllllllllllllllllllllllllllllllllllllllllllllllllllllllllllllllllllllllllllllllllllllllllllllllllllllllllllllllllllllllllllllllllllllllllllllllllllllllllllllllllllllllllllllllllllllllllllllllllllllllllllllllllllllllll}\n",
       "  & ligation\\_id & dDocent\\_Contig\\_11\\_59.01 & dDocent\\_Contig\\_11\\_59.02 & dDocent\\_Contig\\_11\\_87.01 & dDocent\\_Contig\\_11\\_87.02 & dDocent\\_Contig\\_11\\_89.01 & dDocent\\_Contig\\_11\\_89.02 & dDocent\\_Contig\\_11\\_93.01 & dDocent\\_Contig\\_11\\_93.02 & dDocent\\_Contig\\_11\\_117.01 & ... & dDocent\\_Contig\\_207875\\_52.01 & dDocent\\_Contig\\_207875\\_52.02 & dDocent\\_Contig\\_226526\\_58.01 & dDocent\\_Contig\\_226526\\_58.02 & dDocent\\_Contig\\_233984\\_13.01 & dDocent\\_Contig\\_233984\\_13.02 & dDocent\\_Contig\\_233984\\_81.01 & dDocent\\_Contig\\_233984\\_81.02 & dDocent\\_Contig\\_233984\\_104.01 & dDocent\\_Contig\\_233984\\_104.02\\\\\n",
       "\\hline\n",
       "\t1724 & L5622 & 01    & 02    & 01    & 01    & 03    & 03    & 01    & 01    & 01    & ...   & 01    & 02    & 02    & 02    & 01    & 02    & 02    & 03    & 01    & 02   \\\\\n",
       "\t1725 & L5637 & 01    & 02    & 01    & 01    & 03    & 03    & 01    & 01    & 01    & ...   & 02    & 02    & 02    & 02    & 01    & 02    & 02    & 03    & 01    & 02   \\\\\n",
       "\t1726 & L5638 & 01    & 01    & 01    & 01    & 01    & 03    & 01    & 02    & 01    & ...   & 01    & 02    & 02    & 02    & 01    & 02    & 02    & 03    & 01    & 02   \\\\\n",
       "\t1727 & L5639 & 01    & 02    & 01    & 01    & 03    & 02    & 01    & 01    & 01    & ...   & 01    & 02    & 01    & 02    & 01    & 02    & 02    & 03    & 01    & 02   \\\\\n",
       "\t1728 & L5640 & 01    & 01    & 01    & 01    & 03    & 03    & 01    & 01    & 01    & ...   & 01    & 02    & 01    & 02    & 01    & 02    & 02    & 03    & 01    & 02   \\\\\n",
       "\t1729 & L5655 & 01    & 01    & 01    & 01    & 01    & 03    & 01    & 01    & 01    & ...   & 01    & 01    & 02    & 02    & 01    & 02    & 02    & 03    & 01    & 02   \\\\\n",
       "\\end{tabular}\n"
      ],
      "text/markdown": [
       "\n",
       "| <!--/--> | ligation_id | dDocent_Contig_11_59.01 | dDocent_Contig_11_59.02 | dDocent_Contig_11_87.01 | dDocent_Contig_11_87.02 | dDocent_Contig_11_89.01 | dDocent_Contig_11_89.02 | dDocent_Contig_11_93.01 | dDocent_Contig_11_93.02 | dDocent_Contig_11_117.01 | ... | dDocent_Contig_207875_52.01 | dDocent_Contig_207875_52.02 | dDocent_Contig_226526_58.01 | dDocent_Contig_226526_58.02 | dDocent_Contig_233984_13.01 | dDocent_Contig_233984_13.02 | dDocent_Contig_233984_81.01 | dDocent_Contig_233984_81.02 | dDocent_Contig_233984_104.01 | dDocent_Contig_233984_104.02 |\n",
       "|---|---|---|---|---|---|---|---|---|---|---|---|---|---|---|---|---|---|---|---|---|---|\n",
       "| 1724 | L5622 | 01    | 02    | 01    | 01    | 03    | 03    | 01    | 01    | 01    | ...   | 01    | 02    | 02    | 02    | 01    | 02    | 02    | 03    | 01    | 02    |\n",
       "| 1725 | L5637 | 01    | 02    | 01    | 01    | 03    | 03    | 01    | 01    | 01    | ...   | 02    | 02    | 02    | 02    | 01    | 02    | 02    | 03    | 01    | 02    |\n",
       "| 1726 | L5638 | 01    | 01    | 01    | 01    | 01    | 03    | 01    | 02    | 01    | ...   | 01    | 02    | 02    | 02    | 01    | 02    | 02    | 03    | 01    | 02    |\n",
       "| 1727 | L5639 | 01    | 02    | 01    | 01    | 03    | 02    | 01    | 01    | 01    | ...   | 01    | 02    | 01    | 02    | 01    | 02    | 02    | 03    | 01    | 02    |\n",
       "| 1728 | L5640 | 01    | 01    | 01    | 01    | 03    | 03    | 01    | 01    | 01    | ...   | 01    | 02    | 01    | 02    | 01    | 02    | 02    | 03    | 01    | 02    |\n",
       "| 1729 | L5655 | 01    | 01    | 01    | 01    | 01    | 03    | 01    | 01    | 01    | ...   | 01    | 01    | 02    | 02    | 01    | 02    | 02    | 03    | 01    | 02    |\n",
       "\n"
      ],
      "text/plain": [
       "     ligation_id dDocent_Contig_11_59.01 dDocent_Contig_11_59.02\n",
       "1724 L5622       01                      02                     \n",
       "1725 L5637       01                      02                     \n",
       "1726 L5638       01                      01                     \n",
       "1727 L5639       01                      02                     \n",
       "1728 L5640       01                      01                     \n",
       "1729 L5655       01                      01                     \n",
       "     dDocent_Contig_11_87.01 dDocent_Contig_11_87.02 dDocent_Contig_11_89.01\n",
       "1724 01                      01                      03                     \n",
       "1725 01                      01                      03                     \n",
       "1726 01                      01                      01                     \n",
       "1727 01                      01                      03                     \n",
       "1728 01                      01                      03                     \n",
       "1729 01                      01                      01                     \n",
       "     dDocent_Contig_11_89.02 dDocent_Contig_11_93.01 dDocent_Contig_11_93.02\n",
       "1724 03                      01                      01                     \n",
       "1725 03                      01                      01                     \n",
       "1726 03                      01                      02                     \n",
       "1727 02                      01                      01                     \n",
       "1728 03                      01                      01                     \n",
       "1729 03                      01                      01                     \n",
       "     dDocent_Contig_11_117.01 ... dDocent_Contig_207875_52.01\n",
       "1724 01                       ... 01                         \n",
       "1725 01                       ... 02                         \n",
       "1726 01                       ... 01                         \n",
       "1727 01                       ... 01                         \n",
       "1728 01                       ... 01                         \n",
       "1729 01                       ... 01                         \n",
       "     dDocent_Contig_207875_52.02 dDocent_Contig_226526_58.01\n",
       "1724 02                          02                         \n",
       "1725 02                          02                         \n",
       "1726 02                          02                         \n",
       "1727 02                          01                         \n",
       "1728 02                          01                         \n",
       "1729 01                          02                         \n",
       "     dDocent_Contig_226526_58.02 dDocent_Contig_233984_13.01\n",
       "1724 02                          01                         \n",
       "1725 02                          01                         \n",
       "1726 02                          01                         \n",
       "1727 02                          01                         \n",
       "1728 02                          01                         \n",
       "1729 02                          01                         \n",
       "     dDocent_Contig_233984_13.02 dDocent_Contig_233984_81.01\n",
       "1724 02                          02                         \n",
       "1725 02                          02                         \n",
       "1726 02                          02                         \n",
       "1727 02                          02                         \n",
       "1728 02                          02                         \n",
       "1729 02                          02                         \n",
       "     dDocent_Contig_233984_81.02 dDocent_Contig_233984_104.01\n",
       "1724 03                          01                          \n",
       "1725 03                          01                          \n",
       "1726 03                          01                          \n",
       "1727 03                          01                          \n",
       "1728 03                          01                          \n",
       "1729 03                          01                          \n",
       "     dDocent_Contig_233984_104.02\n",
       "1724 02                          \n",
       "1725 02                          \n",
       "1726 02                          \n",
       "1727 02                          \n",
       "1728 02                          \n",
       "1729 02                          "
      ]
     },
     "metadata": {},
     "output_type": "display_data"
    }
   ],
   "source": [
    "tail(all_par18_gen)"
   ]
  },
  {
   "cell_type": "code",
   "execution_count": 30,
   "metadata": {},
   "outputs": [
    {
     "data": {
      "text/html": [
       "<ol class=list-inline>\n",
       "\t<li>372</li>\n",
       "\t<li>2680</li>\n",
       "</ol>\n"
      ],
      "text/latex": [
       "\\begin{enumerate*}\n",
       "\\item 372\n",
       "\\item 2680\n",
       "\\end{enumerate*}\n"
      ],
      "text/markdown": [
       "1. 372\n",
       "2. 2680\n",
       "\n",
       "\n"
      ],
      "text/plain": [
       "[1]  372 2680"
      ]
     },
     "metadata": {},
     "output_type": "display_data"
    }
   ],
   "source": [
    "dim(all_par13_gen)"
   ]
  },
  {
   "cell_type": "code",
   "execution_count": 46,
   "metadata": {},
   "outputs": [],
   "source": [
    "#fish_obs %>% \n",
    "#    filter(!is.na(gen_id)) %>% \n",
    "#    filter(!is.na(tag_id))%>% \n",
    "#    group_by(fish_indiv) %>% \n",
    "#    filter(n()>1) %>% \n",
    "#    ungroup() %>% \n",
    "#    #distinct(gen_id, .keep_all = T) %>% \n",
    "#    group_by(gen_id) %>% \n",
    "#    filter(n()>1)\n",
    "#\n",
    "#"
   ]
  },
  {
   "cell_type": "code",
   "execution_count": 31,
   "metadata": {},
   "outputs": [],
   "source": [
    "input_summary <- as.data.frame(matrix(nrow=8, ncol=3))\n",
    "col <- c(\"year\", \"n_offspring\", \"n_parents\")\n",
    "colnames(input_summary) <- col\n",
    "#\n",
    "input_summary$year <- c(\"2012\", \"2013\", \"2014\", \"2015\", \"2016\", \"2017\", \"2018\", \"all_years\")\n",
    "input_summary$n_offspring <- c(nrow(all_offs12_gen), nrow(all_offs13_gen), nrow(all_offs14_gen), nrow(all_offs15_gen), nrow(all_offs16_gen), nrow(all_offs17_gen), nrow(all_offs18_gen), nrow(offs_annual))\n",
    "input_summary$n_parents <- c(nrow(all_par12_gen), nrow(all_par13_gen), nrow(all_par14_gen), nrow(all_par15_gen), nrow(all_par16_gen), nrow(all_par17_gen), nrow(all_par18_gen), nrow(parents))\n",
    "#write.table(input_summary, file=\"~/parentage/colony2/20190523_1340loci/input/input_summary.txt\", col.names=T, quote=FALSE, row.names=FALSE )\n"
   ]
  },
  {
   "cell_type": "code",
   "execution_count": 22,
   "metadata": {},
   "outputs": [],
   "source": [
    "write.table(all_offs12_gen, file=\"~/parentage/colony2/20190523_1340loci/input/20200605_offs_genetics12.txt\", col.names=FALSE, quote=FALSE, row.names=FALSE )\n",
    "write.table(all_par12_gen, file=\"~/parentage/colony2/20190523_1340loci/input/20200605_par_genetics12.txt\", col.names=FALSE, quote=FALSE, row.names=FALSE )\n",
    "\n"
   ]
  },
  {
   "cell_type": "code",
   "execution_count": 43,
   "metadata": {},
   "outputs": [
    {
     "data": {
      "text/html": [
       "<table>\n",
       "<thead><tr><th scope=col>ligation_id</th><th scope=col>dDocent_Contig_11_59.01</th><th scope=col>dDocent_Contig_11_59.02</th><th scope=col>dDocent_Contig_11_87.01</th><th scope=col>dDocent_Contig_11_87.02</th><th scope=col>dDocent_Contig_11_93.01</th><th scope=col>dDocent_Contig_11_93.02</th><th scope=col>dDocent_Contig_11_117.01</th><th scope=col>dDocent_Contig_11_117.02</th><th scope=col>dDocent_Contig_11_126.01</th><th scope=col>...</th><th scope=col>dDocent_Contig_233984_13.02</th><th scope=col>dDocent_Contig_233984_104.01</th><th scope=col>dDocent_Contig_233984_104.02</th><th scope=col>fish_indiv</th><th scope=col>year</th><th scope=col>size</th><th scope=col>color</th><th scope=col>sex</th><th scope=col>gen_id</th><th scope=col>sample_id</th></tr></thead>\n",
       "<tbody>\n",
       "\t<tr><td>L0255     </td><td>01        </td><td>02        </td><td>01        </td><td>01        </td><td>01        </td><td>01        </td><td>01        </td><td>01        </td><td>01        </td><td>...       </td><td>02        </td><td>01        </td><td>02        </td><td>558       </td><td>2013      </td><td>8.2       </td><td>O         </td><td>M         </td><td> 558      </td><td>APCL13_220</td></tr>\n",
       "\t<tr><td>L0256     </td><td>01        </td><td>02        </td><td>01        </td><td>01        </td><td>01        </td><td>01        </td><td>01        </td><td>01        </td><td>01        </td><td>...       </td><td>02        </td><td>01        </td><td>02        </td><td>339       </td><td>2013      </td><td>3.0       </td><td>YR        </td><td>J         </td><td> 339      </td><td>APCL13_221</td></tr>\n",
       "\t<tr><td>L0257     </td><td>01        </td><td>02        </td><td>01        </td><td>01        </td><td>01        </td><td>01        </td><td>01        </td><td>01        </td><td>01        </td><td>...       </td><td>02        </td><td>02        </td><td>02        </td><td>1809      </td><td>2013      </td><td>6.9       </td><td>YP        </td><td>F         </td><td>1809      </td><td>APCL13_222</td></tr>\n",
       "\t<tr><td>L0258     </td><td>01        </td><td>01        </td><td>01        </td><td>01        </td><td>02        </td><td>01        </td><td>01        </td><td>01        </td><td>01        </td><td>...       </td><td>02        </td><td>01        </td><td>02        </td><td>185       </td><td>2013      </td><td>2.5       </td><td>Y         </td><td>J         </td><td> 185      </td><td>APCL13_223</td></tr>\n",
       "\t<tr><td>L0259     </td><td>01        </td><td>01        </td><td>01        </td><td>01        </td><td>01        </td><td>02        </td><td>01        </td><td>01        </td><td>01        </td><td>...       </td><td>02        </td><td>01        </td><td>02        </td><td>320       </td><td>2013      </td><td>4.6       </td><td>W         </td><td>J         </td><td> 320      </td><td>APCL13_224</td></tr>\n",
       "\t<tr><td>L0260     </td><td>01        </td><td>01        </td><td>01        </td><td>01        </td><td>01        </td><td>01        </td><td>01        </td><td>01        </td><td>01        </td><td>...       </td><td>02        </td><td>01        </td><td>02        </td><td>457       </td><td>2013      </td><td>7.9       </td><td>O         </td><td>M         </td><td> 457      </td><td>APCL13_225</td></tr>\n",
       "</tbody>\n",
       "</table>\n"
      ],
      "text/latex": [
       "\\begin{tabular}{r|lllllllllllllllllllllllllllllllllllllllllllllllllllllllllllllllllllllllllllllllllllllllllllllllllllllllllllllllllllllllllllllllllllllllllllllllllllllllllllllllllllllllllllllllllllllllllllllllllllllllllllllllllllllllllllllllllllllllllllllllllllllllllllllllllllllllllllllllllllllllllllllllllllllllllllllllllllllllllllllllllllllllllllllllllllllllllllllllllllllllllllllllllllllllllllllllllllllllllllllllllllllllllllllllllllllllllllllllllllllllllllllllllllllllllllllllllllllllllllllllllllllllllllllllllllllllllllllllllllllllllllllllllllllllllllllllllllllllllllllllllllllllllllllllllllllllllllllllllllllllllllllllllllllllllllllllllllllllllllllllllllllllllllllllllllllllllllllllllllllllllllllllllllllllllllllllllllllllllllllllllllllllllllllllllllllllllllllllllllllllllllllllllllllllllllllllllllllllllllllllllllllllllllllllllllllllllllllllllllllllllllllllllllllllllllllllllllllllllllllllllllllllllllllllllllllllllllllllllllllllllllllllllllllllllllllllllllllllllllllllllllllllllllllllllllllllllllllllllllllllllllllllllllllllllllllllllllllllllllllllllllllllllllllllllllllllllllllllllllllllllllllllllllllllllllllllllllllllllllllllllllllllllllllllllllllllllllllllllllllllllllllllllllllllllllllllllllllllllllllllllllllllllllllllllllllllllllllllllllllllllllllllllllllllllllllllllllllllllllllllllllllllllllllllllllllllllllllllllllllllllllllllllllllllllllllllllllllllllllllllllllllllllllllllllllllllllllllllllllllllllllllllllllllllllllllllllllllllllllllllllllllllllllllllllllllllllllllllllllllllllllllllllllllllllllllllllllllllllllllllllllllllllllllllllllllllllllllllllllllllllllllllllllllllllllllllllllllllllllllllllllllllllllllllllllllllllllllllllllllllllllllllllllllllllllllllllllllllllllllllllllllllllllllllllllllllllllllllllllllllllllllllllllllllllllllllllllllllllllllllllllllllllllllllllllllllllllllllllllllllllllllllllllllllllllllllllllllllllllllllllllllllllllllllllllllllllllllllllllllllllllllllllllllllllllllllllllllllllllllllllllllllllllllllllllllllllllllllllllllllllllllllllllllllllllllllllllllllllllllllllllllllllllllllllllllllllllllllllllllllllllllllllllllllllllllllllllllllllllllllllllllllllllllllllllllllllllllllllllllllllllllllllllllllllllllllllllllllllllllllllllllllllllllllllllllllllllllllllllllllllllllllllllllllllllllllllllllllllllllllllllllllllllllllllllllllllllllllllllllllllllllllllllllllllllllllllllllllllllllllllllllllllllllllllllllllllllllllllllllllllllllllllllllllllllllllllllllllllllllllllllllllllllllllllllllllllllllllllllllllllllllllllllllllllllllllllllllllllllllllllllllllllllllllllllllllllllllllllllllllllllllllllllllllllllllllllllllllllllllllllllllllllllllllllllllllllllllllllllllllllllllllllllllllllllllllllllllllllllllllllllllllllllllllllllllllllllllllllllllllllllllll}\n",
       " ligation\\_id & dDocent\\_Contig\\_11\\_59.01 & dDocent\\_Contig\\_11\\_59.02 & dDocent\\_Contig\\_11\\_87.01 & dDocent\\_Contig\\_11\\_87.02 & dDocent\\_Contig\\_11\\_93.01 & dDocent\\_Contig\\_11\\_93.02 & dDocent\\_Contig\\_11\\_117.01 & dDocent\\_Contig\\_11\\_117.02 & dDocent\\_Contig\\_11\\_126.01 & ... & dDocent\\_Contig\\_233984\\_13.02 & dDocent\\_Contig\\_233984\\_104.01 & dDocent\\_Contig\\_233984\\_104.02 & fish\\_indiv & year & size & color & sex & gen\\_id & sample\\_id\\\\\n",
       "\\hline\n",
       "\t L0255        & 01           & 02           & 01           & 01           & 01           & 01           & 01           & 01           & 01           & ...          & 02           & 01           & 02           & 558          & 2013         & 8.2          & O            & M            &  558         & APCL13\\_220\\\\\n",
       "\t L0256        & 01           & 02           & 01           & 01           & 01           & 01           & 01           & 01           & 01           & ...          & 02           & 01           & 02           & 339          & 2013         & 3.0          & YR           & J            &  339         & APCL13\\_221\\\\\n",
       "\t L0257        & 01           & 02           & 01           & 01           & 01           & 01           & 01           & 01           & 01           & ...          & 02           & 02           & 02           & 1809         & 2013         & 6.9          & YP           & F            & 1809         & APCL13\\_222\\\\\n",
       "\t L0258        & 01           & 01           & 01           & 01           & 02           & 01           & 01           & 01           & 01           & ...          & 02           & 01           & 02           & 185          & 2013         & 2.5          & Y            & J            &  185         & APCL13\\_223\\\\\n",
       "\t L0259        & 01           & 01           & 01           & 01           & 01           & 02           & 01           & 01           & 01           & ...          & 02           & 01           & 02           & 320          & 2013         & 4.6          & W            & J            &  320         & APCL13\\_224\\\\\n",
       "\t L0260        & 01           & 01           & 01           & 01           & 01           & 01           & 01           & 01           & 01           & ...          & 02           & 01           & 02           & 457          & 2013         & 7.9          & O            & M            &  457         & APCL13\\_225\\\\\n",
       "\\end{tabular}\n"
      ],
      "text/markdown": [
       "\n",
       "| ligation_id | dDocent_Contig_11_59.01 | dDocent_Contig_11_59.02 | dDocent_Contig_11_87.01 | dDocent_Contig_11_87.02 | dDocent_Contig_11_93.01 | dDocent_Contig_11_93.02 | dDocent_Contig_11_117.01 | dDocent_Contig_11_117.02 | dDocent_Contig_11_126.01 | ... | dDocent_Contig_233984_13.02 | dDocent_Contig_233984_104.01 | dDocent_Contig_233984_104.02 | fish_indiv | year | size | color | sex | gen_id | sample_id |\n",
       "|---|---|---|---|---|---|---|---|---|---|---|---|---|---|---|---|---|---|---|---|---|\n",
       "| L0255      | 01         | 02         | 01         | 01         | 01         | 01         | 01         | 01         | 01         | ...        | 02         | 01         | 02         | 558        | 2013       | 8.2        | O          | M          |  558       | APCL13_220 |\n",
       "| L0256      | 01         | 02         | 01         | 01         | 01         | 01         | 01         | 01         | 01         | ...        | 02         | 01         | 02         | 339        | 2013       | 3.0        | YR         | J          |  339       | APCL13_221 |\n",
       "| L0257      | 01         | 02         | 01         | 01         | 01         | 01         | 01         | 01         | 01         | ...        | 02         | 02         | 02         | 1809       | 2013       | 6.9        | YP         | F          | 1809       | APCL13_222 |\n",
       "| L0258      | 01         | 01         | 01         | 01         | 02         | 01         | 01         | 01         | 01         | ...        | 02         | 01         | 02         | 185        | 2013       | 2.5        | Y          | J          |  185       | APCL13_223 |\n",
       "| L0259      | 01         | 01         | 01         | 01         | 01         | 02         | 01         | 01         | 01         | ...        | 02         | 01         | 02         | 320        | 2013       | 4.6        | W          | J          |  320       | APCL13_224 |\n",
       "| L0260      | 01         | 01         | 01         | 01         | 01         | 01         | 01         | 01         | 01         | ...        | 02         | 01         | 02         | 457        | 2013       | 7.9        | O          | M          |  457       | APCL13_225 |\n",
       "\n"
      ],
      "text/plain": [
       "  ligation_id dDocent_Contig_11_59.01 dDocent_Contig_11_59.02\n",
       "1 L0255       01                      02                     \n",
       "2 L0256       01                      02                     \n",
       "3 L0257       01                      02                     \n",
       "4 L0258       01                      01                     \n",
       "5 L0259       01                      01                     \n",
       "6 L0260       01                      01                     \n",
       "  dDocent_Contig_11_87.01 dDocent_Contig_11_87.02 dDocent_Contig_11_93.01\n",
       "1 01                      01                      01                     \n",
       "2 01                      01                      01                     \n",
       "3 01                      01                      01                     \n",
       "4 01                      01                      02                     \n",
       "5 01                      01                      01                     \n",
       "6 01                      01                      01                     \n",
       "  dDocent_Contig_11_93.02 dDocent_Contig_11_117.01 dDocent_Contig_11_117.02\n",
       "1 01                      01                       01                      \n",
       "2 01                      01                       01                      \n",
       "3 01                      01                       01                      \n",
       "4 01                      01                       01                      \n",
       "5 02                      01                       01                      \n",
       "6 01                      01                       01                      \n",
       "  dDocent_Contig_11_126.01 ... dDocent_Contig_233984_13.02\n",
       "1 01                       ... 02                         \n",
       "2 01                       ... 02                         \n",
       "3 01                       ... 02                         \n",
       "4 01                       ... 02                         \n",
       "5 01                       ... 02                         \n",
       "6 01                       ... 02                         \n",
       "  dDocent_Contig_233984_104.01 dDocent_Contig_233984_104.02 fish_indiv year\n",
       "1 01                           02                           558        2013\n",
       "2 01                           02                           339        2013\n",
       "3 02                           02                           1809       2013\n",
       "4 01                           02                           185        2013\n",
       "5 01                           02                           320        2013\n",
       "6 01                           02                           457        2013\n",
       "  size color sex gen_id sample_id \n",
       "1 8.2  O     M    558   APCL13_220\n",
       "2 3.0  YR    J    339   APCL13_221\n",
       "3 6.9  YP    F   1809   APCL13_222\n",
       "4 2.5  Y     J    185   APCL13_223\n",
       "5 4.6  W     J    320   APCL13_224\n",
       "6 7.9  O     M    457   APCL13_225"
      ]
     },
     "metadata": {},
     "output_type": "display_data"
    }
   ],
   "source": [
    "head(dat_gen_meta)"
   ]
  },
  {
   "cell_type": "code",
   "execution_count": 32,
   "metadata": {},
   "outputs": [
    {
     "data": {
      "text/html": [
       "<table>\n",
       "<thead><tr><th scope=col>year</th><th scope=col>n_offspring</th><th scope=col>n_parents</th></tr></thead>\n",
       "<tbody>\n",
       "\t<tr><td>2012     </td><td> 63      </td><td> 157     </td></tr>\n",
       "\t<tr><td>2013     </td><td>150      </td><td> 372     </td></tr>\n",
       "\t<tr><td>2014     </td><td>181      </td><td> 536     </td></tr>\n",
       "\t<tr><td>2015     </td><td>111      </td><td> 850     </td></tr>\n",
       "\t<tr><td>2016     </td><td>111      </td><td>1232     </td></tr>\n",
       "\t<tr><td>2017     </td><td>130      </td><td>1453     </td></tr>\n",
       "\t<tr><td>2018     </td><td> 45      </td><td>1729     </td></tr>\n",
       "\t<tr><td>all_years</td><td>791      </td><td>1729     </td></tr>\n",
       "</tbody>\n",
       "</table>\n"
      ],
      "text/latex": [
       "\\begin{tabular}{r|lll}\n",
       " year & n\\_offspring & n\\_parents\\\\\n",
       "\\hline\n",
       "\t 2012      &  63       &  157     \\\\\n",
       "\t 2013      & 150       &  372     \\\\\n",
       "\t 2014      & 181       &  536     \\\\\n",
       "\t 2015      & 111       &  850     \\\\\n",
       "\t 2016      & 111       & 1232     \\\\\n",
       "\t 2017      & 130       & 1453     \\\\\n",
       "\t 2018      &  45       & 1729     \\\\\n",
       "\t all\\_years & 791         & 1729       \\\\\n",
       "\\end{tabular}\n"
      ],
      "text/markdown": [
       "\n",
       "| year | n_offspring | n_parents |\n",
       "|---|---|---|\n",
       "| 2012      |  63       |  157      |\n",
       "| 2013      | 150       |  372      |\n",
       "| 2014      | 181       |  536      |\n",
       "| 2015      | 111       |  850      |\n",
       "| 2016      | 111       | 1232      |\n",
       "| 2017      | 130       | 1453      |\n",
       "| 2018      |  45       | 1729      |\n",
       "| all_years | 791       | 1729      |\n",
       "\n"
      ],
      "text/plain": [
       "  year      n_offspring n_parents\n",
       "1 2012       63          157     \n",
       "2 2013      150          372     \n",
       "3 2014      181          536     \n",
       "4 2015      111          850     \n",
       "5 2016      111         1232     \n",
       "6 2017      130         1453     \n",
       "7 2018       45         1729     \n",
       "8 all_years 791         1729     "
      ]
     },
     "metadata": {},
     "output_type": "display_data"
    },
    {
     "data": {
      "text/html": [
       "2405"
      ],
      "text/latex": [
       "2405"
      ],
      "text/markdown": [
       "2405"
      ],
      "text/plain": [
       "[1] 2405"
      ]
     },
     "metadata": {},
     "output_type": "display_data"
    },
    {
     "data": {
      "text/html": [
       "791"
      ],
      "text/latex": [
       "791"
      ],
      "text/markdown": [
       "791"
      ],
      "text/plain": [
       "[1] 791"
      ]
     },
     "metadata": {},
     "output_type": "display_data"
    },
    {
     "data": {
      "text/html": [
       "1729"
      ],
      "text/latex": [
       "1729"
      ],
      "text/markdown": [
       "1729"
      ],
      "text/plain": [
       "[1] 1729"
      ]
     },
     "metadata": {},
     "output_type": "display_data"
    },
    {
     "data": {
      "text/html": [
       "0"
      ],
      "text/latex": [
       "0"
      ],
      "text/markdown": [
       "0"
      ],
      "text/plain": [
       "[1] 0"
      ]
     },
     "metadata": {},
     "output_type": "display_data"
    }
   ],
   "source": [
    "input_summary\n",
    "nrow(pooled_gen)#should be 2405\n",
    "sum(input_summary$n_offspring)-nrow(offs_annual)\n",
    "nrow(parents)\n",
    "nrow(all_offs15 %>% filter(fish_indiv %in% all_offs16$fish_indiv))#not sure why there's the same number of offspring in 2015 & 2016, but it's coincidence. This is 0"
   ]
  },
  {
   "cell_type": "code",
   "execution_count": 160,
   "metadata": {},
   "outputs": [],
   "source": [
    "#write the offspring and parent files for the N_captured values in kernel_fit_file_prep.ipynb\n",
    "write.table(parents, file=\"~/parentage/colony2/20190523_1340loci/input/all_parents_corrected.txt\", col.names=T, quote=FALSE, row.names=FALSE )\n",
    "write.table(offs_annual, file=\"~/parentage/colony2/20190523_1340loci/input/all_offspring_corrected.txt\", col.names=T, quote=FALSE, row.names=FALSE )\n"
   ]
  },
  {
   "cell_type": "code",
   "execution_count": 45,
   "metadata": {},
   "outputs": [
    {
     "data": {
      "text/html": [
       "<table>\n",
       "<thead><tr><th scope=col>ligation_id</th><th scope=col>dDocent_Contig_11_59.01</th><th scope=col>dDocent_Contig_11_59.02</th><th scope=col>dDocent_Contig_11_87.01</th><th scope=col>dDocent_Contig_11_87.02</th><th scope=col>dDocent_Contig_11_93.01</th><th scope=col>dDocent_Contig_11_93.02</th><th scope=col>dDocent_Contig_11_117.01</th><th scope=col>dDocent_Contig_11_117.02</th><th scope=col>dDocent_Contig_11_126.01</th><th scope=col>...</th><th scope=col>dDocent_Contig_207387_131.01</th><th scope=col>dDocent_Contig_207387_131.02</th><th scope=col>dDocent_Contig_207875_52.01</th><th scope=col>dDocent_Contig_207875_52.02</th><th scope=col>dDocent_Contig_226526_58.01</th><th scope=col>dDocent_Contig_226526_58.02</th><th scope=col>dDocent_Contig_233984_13.01</th><th scope=col>dDocent_Contig_233984_13.02</th><th scope=col>dDocent_Contig_233984_104.01</th><th scope=col>dDocent_Contig_233984_104.02</th></tr></thead>\n",
       "<tbody>\n",
       "\t<tr><td>L2987</td><td>00   </td><td>00   </td><td>00   </td><td>00   </td><td>00   </td><td>00   </td><td>00   </td><td>00   </td><td>00   </td><td>...  </td><td>01   </td><td>02   </td><td>01   </td><td>02   </td><td>01   </td><td>02   </td><td>02   </td><td>02   </td><td>02   </td><td>02   </td></tr>\n",
       "</tbody>\n",
       "</table>\n"
      ],
      "text/latex": [
       "\\begin{tabular}{r|llllllllllllllllllllllllllllllllllllllllllllllllllllllllllllllllllllllllllllllllllllllllllllllllllllllllllllllllllllllllllllllllllllllllllllllllllllllllllllllllllllllllllllllllllllllllllllllllllllllllllllllllllllllllllllllllllllllllllllllllllllllllllllllllllllllllllllllllllllllllllllllllllllllllllllllllllllllllllllllllllllllllllllllllllllllllllllllllllllllllllllllllllllllllllllllllllllllllllllllllllllllllllllllllllllllllllllllllllllllllllllllllllllllllllllllllllllllllllllllllllllllllllllllllllllllllllllllllllllllllllllllllllllllllllllllllllllllllllllllllllllllllllllllllllllllllllllllllllllllllllllllllllllllllllllllllllllllllllllllllllllllllllllllllllllllllllllllllllllllllllllllllllllllllllllllllllllllllllllllllllllllllllllllllllllllllllllllllllllllllllllllllllllllllllllllllllllllllllllllllllllllllllllllllllllllllllllllllllllllllllllllllllllllllllllllllllllllllllllllllllllllllllllllllllllllllllllllllllllllllllllllllllllllllllllllllllllllllllllllllllllllllllllllllllllllllllllllllllllllllllllllllllllllllllllllllllllllllllllllllllllllllllllllllllllllllllllllllllllllllllllllllllllllllllllllllllllllllllllllllllllllllllllllllllllllllllllllllllllllllllllllllllllllllllllllllllllllllllllllllllllllllllllllllllllllllllllllllllllllllllllllllllllllllllllllllllllllllllllllllllllllllllllllllllllllllllllllllllllllllllllllllllllllllllllllllllllllllllllllllllllllllllllllllllllllllllllllllllllllllllllllllllllllllllllllllllllllllllllllllllllllllllllllllllllllllllllllllllllllllllllllllllllllllllllllllllllllllllllllllllllllllllllllllllllllllllllllllllllllllllllllllllllllllllllllllllllllllllllllllllllllllllllllllllllllllllllllllllllllllllllllllllllllllllllllllllllllllllllllllllllllllllllllllllllllllllllllllllllllllllllllllllllllllllllllllllllllllllllllllllllllllllllllllllllllllllllllllllllllllllllllllllllllllllllllllllllllllllllllllllllllllllllllllllllllllllllllllllllllllllllllllllllllllllllllllllllllllllllllllllllllllllllllllllllllllllllllllllllllllllllllllllllllllllllllllllllllllllllllllllllllllllllllllllllllllllllllllllllllllllllllllllllllllllllllllllllllllllllllllllllllllllllllllllllllllllllllllllllllllllllllllllllllllllllllllllllllllllllllllllllllllllllllllllllllllllllllllllllllllllllllllllllllllllllllllllllllllllllllllllllllllllllllllllllllllllllllllllllllllllllllllllllllllllllllllllllllllllllllllllllllllllllllllllllllllllllllllllllllllllllllllllllllllllllllllllllllllllllllllllllllllllllllllllllllllllllllllllllllllllllllllllllllllllllllllllllllllllllllllllllllllllllllllllllllllllllllllllllllllllllllllllllllllllllllllllllllllllllllllllllllllllllllllllllllllllllllllllllllllllllllllllllllllllllllllllllllllllllllllllllllllllllllllllllllllllllllllllllllll}\n",
       " ligation\\_id & dDocent\\_Contig\\_11\\_59.01 & dDocent\\_Contig\\_11\\_59.02 & dDocent\\_Contig\\_11\\_87.01 & dDocent\\_Contig\\_11\\_87.02 & dDocent\\_Contig\\_11\\_93.01 & dDocent\\_Contig\\_11\\_93.02 & dDocent\\_Contig\\_11\\_117.01 & dDocent\\_Contig\\_11\\_117.02 & dDocent\\_Contig\\_11\\_126.01 & ... & dDocent\\_Contig\\_207387\\_131.01 & dDocent\\_Contig\\_207387\\_131.02 & dDocent\\_Contig\\_207875\\_52.01 & dDocent\\_Contig\\_207875\\_52.02 & dDocent\\_Contig\\_226526\\_58.01 & dDocent\\_Contig\\_226526\\_58.02 & dDocent\\_Contig\\_233984\\_13.01 & dDocent\\_Contig\\_233984\\_13.02 & dDocent\\_Contig\\_233984\\_104.01 & dDocent\\_Contig\\_233984\\_104.02\\\\\n",
       "\\hline\n",
       "\t L2987 & 00    & 00    & 00    & 00    & 00    & 00    & 00    & 00    & 00    & ...   & 01    & 02    & 01    & 02    & 01    & 02    & 02    & 02    & 02    & 02   \\\\\n",
       "\\end{tabular}\n"
      ],
      "text/markdown": [
       "\n",
       "| ligation_id | dDocent_Contig_11_59.01 | dDocent_Contig_11_59.02 | dDocent_Contig_11_87.01 | dDocent_Contig_11_87.02 | dDocent_Contig_11_93.01 | dDocent_Contig_11_93.02 | dDocent_Contig_11_117.01 | dDocent_Contig_11_117.02 | dDocent_Contig_11_126.01 | ... | dDocent_Contig_207387_131.01 | dDocent_Contig_207387_131.02 | dDocent_Contig_207875_52.01 | dDocent_Contig_207875_52.02 | dDocent_Contig_226526_58.01 | dDocent_Contig_226526_58.02 | dDocent_Contig_233984_13.01 | dDocent_Contig_233984_13.02 | dDocent_Contig_233984_104.01 | dDocent_Contig_233984_104.02 |\n",
       "|---|---|---|---|---|---|---|---|---|---|---|---|---|---|---|---|---|---|---|---|---|\n",
       "| L2987 | 00    | 00    | 00    | 00    | 00    | 00    | 00    | 00    | 00    | ...   | 01    | 02    | 01    | 02    | 01    | 02    | 02    | 02    | 02    | 02    |\n",
       "\n"
      ],
      "text/plain": [
       "  ligation_id dDocent_Contig_11_59.01 dDocent_Contig_11_59.02\n",
       "1 L2987       00                      00                     \n",
       "  dDocent_Contig_11_87.01 dDocent_Contig_11_87.02 dDocent_Contig_11_93.01\n",
       "1 00                      00                      00                     \n",
       "  dDocent_Contig_11_93.02 dDocent_Contig_11_117.01 dDocent_Contig_11_117.02\n",
       "1 00                      00                       00                      \n",
       "  dDocent_Contig_11_126.01 ... dDocent_Contig_207387_131.01\n",
       "1 00                       ... 01                          \n",
       "  dDocent_Contig_207387_131.02 dDocent_Contig_207875_52.01\n",
       "1 02                           01                         \n",
       "  dDocent_Contig_207875_52.02 dDocent_Contig_226526_58.01\n",
       "1 02                          01                         \n",
       "  dDocent_Contig_226526_58.02 dDocent_Contig_233984_13.01\n",
       "1 02                          02                         \n",
       "  dDocent_Contig_233984_13.02 dDocent_Contig_233984_104.01\n",
       "1 02                          02                          \n",
       "  dDocent_Contig_233984_104.02\n",
       "1 02                          "
      ]
     },
     "metadata": {},
     "output_type": "display_data"
    }
   ],
   "source": [
    "all_par13_gen %>%\n",
    "    filter(ligation_id ==\"L2987\")"
   ]
  },
  {
   "cell_type": "code",
   "execution_count": null,
   "metadata": {},
   "outputs": [],
   "source": []
  },
  {
   "cell_type": "code",
   "execution_count": 44,
   "metadata": {},
   "outputs": [],
   "source": [
    "#put together into 1 text file\n",
    "space <- matrix(nrow=1, ncol=ncol(dat_gen))\n",
    "par13_mat <- as.matrix(all_par13_gen)\n",
    "\n",
    "\n",
    "offs13_mat <- as.matrix(all_offs13_gen)\n",
    "\n",
    "full13 <- rbind(offs13_mat, space, par13_mat, space, par13_mat)\n",
    "\n",
    "write.table(full13, file=\"~/parentage/colony2/20190523_1340loci/input/full_genetics13.txt\", col.names=FALSE, quote=FALSE, row.names=FALSE )\n",
    "#write.table(pooled_gen, file=\"~/parentage/colony2/20190523_1340loci/input/full_genetics_pooled.txt\", col.names=FALSE, quote=FALSE, row.names=FALSE )\n",
    "\n"
   ]
  },
  {
   "cell_type": "markdown",
   "metadata": {},
   "source": [
    "### make full file with marker input"
   ]
  },
  {
   "cell_type": "code",
   "execution_count": 240,
   "metadata": {},
   "outputs": [
    {
     "data": {
      "text/html": [
       "894"
      ],
      "text/latex": [
       "894"
      ],
      "text/markdown": [
       "894"
      ],
      "text/plain": [
       "[1] 894"
      ]
     },
     "metadata": {},
     "output_type": "display_data"
    },
    {
     "data": {
      "text/html": [
       "<table>\n",
       "<tbody>\n",
       "\t<tr><td>159     </td><td>1030    </td><td>1048    </td><td>3177    </td><td>31166   </td><td>3346    </td><td>33107   </td><td>437     </td><td>43159   </td><td>5115    </td><td>⋯       </td><td>1995764 </td><td>1995772 </td><td>2888    </td><td>20215127</td><td>20738131</td><td>2078752 </td><td>2265258 </td><td>2339813 </td><td>23398104</td><td>23398147</td></tr>\n",
       "\t<tr><td>0       </td><td>0       </td><td>0       </td><td>0       </td><td>0       </td><td>0       </td><td>0       </td><td>0       </td><td>0       </td><td>0       </td><td>⋯       </td><td>0       </td><td>0       </td><td>0       </td><td>0       </td><td>0       </td><td>0       </td><td>0       </td><td>0       </td><td>0       </td><td>0       </td></tr>\n",
       "\t<tr><td>0       </td><td>0       </td><td>0       </td><td>0       </td><td>0       </td><td>0       </td><td>0       </td><td>0       </td><td>0       </td><td>0       </td><td>⋯       </td><td>0       </td><td>0       </td><td>0       </td><td>0       </td><td>0       </td><td>0       </td><td>0       </td><td>0       </td><td>0       </td><td>0       </td></tr>\n",
       "\t<tr><td>0.026   </td><td>0.026   </td><td>0.026   </td><td>0.026   </td><td>0.026   </td><td>0.026   </td><td>0.026   </td><td>0.026   </td><td>0.026   </td><td>0.026   </td><td>⋯       </td><td>0.026   </td><td>0.026   </td><td>0.026   </td><td>0.026   </td><td>0.026   </td><td>0.026   </td><td>0.026   </td><td>0.026   </td><td>0.026   </td><td>0.026   </td></tr>\n",
       "</tbody>\n",
       "</table>\n"
      ],
      "text/latex": [
       "\\begin{tabular}{llllllllllllllllllllllllllllllllllllllllllllllllllllllllllllllllllllllllllllllllllllllllllllllllllllllllllllllllllllllllllllllllllllllllllllllllllllllllllllllllllllllllllllllllllllllllllllllllllllllllllllllllllllllllllllllllllllllllllllllllllllllllllllllllllllllllllllllllllllllllllllllllllllllllllllllllllllllllllllllllllllllllllllllllllllllllllllllllllllllllllllllllllllllllllllllllllllllllllllllllllllllllllllllllllllllllllllllllllllllllllllllllllllllllllllllllllllllllllllllllllllllllllllllllllllllllllllllllllllllllllllllllllllllllllllllllllllllllllllllllllllllllllllllllllllllllllllllllllllllllllllllllllllllllllllllllllllllllllllllllllllllllllllllllllllllllllllllllllllllllllllllllllllllllllllllllllllllllllllllllllllllllllllllllllllllllllllllllllllllllllllllllllllllllllllllllllllllllllllllllllllllllllllllllllllllllllllllllllllllllllllllllllllllllllllllllllllllllllllllllllllllllllllll}\n",
       "\t 159      & 1030     & 1048     & 3177     & 31166    & 3346     & 33107    & 437      & 43159    & 5115     & ⋯        & 1995764  & 1995772  & 2888     & 20215127 & 20738131 & 2078752  & 2265258  & 2339813  & 23398104 & 23398147\\\\\n",
       "\t 0        & 0        & 0        & 0        & 0        & 0        & 0        & 0        & 0        & 0        & ⋯        & 0        & 0        & 0        & 0        & 0        & 0        & 0        & 0        & 0        & 0       \\\\\n",
       "\t 0        & 0        & 0        & 0        & 0        & 0        & 0        & 0        & 0        & 0        & ⋯        & 0        & 0        & 0        & 0        & 0        & 0        & 0        & 0        & 0        & 0       \\\\\n",
       "\t 0.026    & 0.026    & 0.026    & 0.026    & 0.026    & 0.026    & 0.026    & 0.026    & 0.026    & 0.026    & ⋯        & 0.026    & 0.026    & 0.026    & 0.026    & 0.026    & 0.026    & 0.026    & 0.026    & 0.026    & 0.026   \\\\\n",
       "\\end{tabular}\n"
      ],
      "text/markdown": [
       "\n",
       "| 159      | 1030     | 1048     | 3177     | 31166    | 3346     | 33107    | 437      | 43159    | 5115     | ⋯        | 1995764  | 1995772  | 2888     | 20215127 | 20738131 | 2078752  | 2265258  | 2339813  | 23398104 | 23398147 | \n",
       "| 0        | 0        | 0        | 0        | 0        | 0        | 0        | 0        | 0        | 0        | ⋯        | 0        | 0        | 0        | 0        | 0        | 0        | 0        | 0        | 0        | 0        | \n",
       "| 0        | 0        | 0        | 0        | 0        | 0        | 0        | 0        | 0        | 0        | ⋯        | 0        | 0        | 0        | 0        | 0        | 0        | 0        | 0        | 0        | 0        | \n",
       "| 0.026    | 0.026    | 0.026    | 0.026    | 0.026    | 0.026    | 0.026    | 0.026    | 0.026    | 0.026    | ⋯        | 0.026    | 0.026    | 0.026    | 0.026    | 0.026    | 0.026    | 0.026    | 0.026    | 0.026    | 0.026    | \n",
       "\n",
       "\n"
      ],
      "text/plain": [
       "     [,1]  [,2]  [,3]  [,4]  [,5]  [,6]  [,7]  [,8]  [,9]  [,10] [,11] [,12]  \n",
       "[1,] 159   1030  1048  3177  31166 3346  33107 437   43159 5115  ⋯     1995764\n",
       "[2,] 0     0     0     0     0     0     0     0     0     0     ⋯     0      \n",
       "[3,] 0     0     0     0     0     0     0     0     0     0     ⋯     0      \n",
       "[4,] 0.026 0.026 0.026 0.026 0.026 0.026 0.026 0.026 0.026 0.026 ⋯     0.026  \n",
       "     [,13]   [,14] [,15]    [,16]    [,17]   [,18]   [,19]   [,20]    [,21]   \n",
       "[1,] 1995772 2888  20215127 20738131 2078752 2265258 2339813 23398104 23398147\n",
       "[2,] 0       0     0        0        0       0       0       0        0       \n",
       "[3,] 0       0     0        0        0       0       0       0        0       \n",
       "[4,] 0.026   0.026 0.026    0.026    0.026   0.026   0.026   0.026    0.026   "
      ]
     },
     "metadata": {},
     "output_type": "display_data"
    }
   ],
   "source": [
    "## make a markers file\n",
    "\n",
    "dup <- parents_gen %>% select(-ligation_id,-year, -contains(\".02\"))\n",
    "\n",
    "#make loci only number for colony\n",
    "names(dup) <- gsub(\"dDocent_Contig_\" , \"\",  names(dup))  \n",
    "names(dup) <- gsub(\"\\\\d_\" , \"\",  names(dup))\n",
    "names(dup) <- gsub(\".01\" , \"\",  names(dup))  \n",
    "\n",
    "\n",
    "locus_names <- as.matrix(colnames(dup))\n",
    "length(locus_names) #should be 696\n",
    "error_matrix <- matrix(nrow=4, ncol=894)\n",
    "error_matrix[1,] <- locus_names[1:894]\n",
    "error_matrix[2,] <- 0\n",
    "error_matrix[3,] <- 0\n",
    "error_matrix[4,] <- 0.026\n",
    "head(error_matrix)\n",
    "#write.table(error_matrix, file=\"/local/home/katrinac/parentage/colony2/20190422_894loci/input/894_loci_error_mat.txt\", col.names=FALSE, row.names=FALSE, quote=FALSE)\n",
    "\n"
   ]
  },
  {
   "cell_type": "code",
   "execution_count": 241,
   "metadata": {},
   "outputs": [],
   "source": [
    "#proportion sampled in each time frame for colony \"prob of parent in parent file\" input\n",
    "total_sampling_across_years$total_area_method <- as.character(total_sampling_across_years$total_area_method)\n",
    "total_sampling_across_years$total_anems_method <- as.character(total_sampling_across_years$total_anems_method)"
   ]
  },
  {
   "cell_type": "code",
   "execution_count": 85,
   "metadata": {},
   "outputs": [
    {
     "data": {
      "text/html": [
       "<table>\n",
       "<thead><tr><th scope=col>total_anems_method</th><th scope=col>time_frame</th><th scope=col>total_prop_hab_sampled</th><th scope=col>total_area_method</th></tr></thead>\n",
       "<tbody>\n",
       "\t<tr><td>metal tags  </td><td>2012        </td><td>0.1592760   </td><td>anems tidied</td></tr>\n",
       "\t<tr><td>metal tags  </td><td>2012-2013   </td><td>0.2357466   </td><td>anems tidied</td></tr>\n",
       "\t<tr><td>metal tags  </td><td>2012-2014   </td><td>0.2775264   </td><td>anems tidied</td></tr>\n",
       "\t<tr><td>metal tags  </td><td>2012-2015   </td><td>0.3061086   </td><td>anems tidied</td></tr>\n",
       "\t<tr><td>metal tags  </td><td>2012-2016   </td><td>0.3286878   </td><td>anems tidied</td></tr>\n",
       "\t<tr><td>metal tags  </td><td>2012-2017   </td><td>0.3538462   </td><td>anems tidied</td></tr>\n",
       "\t<tr><td>metal tags  </td><td>2012-2018   </td><td>0.4005171   </td><td>anems tidied</td></tr>\n",
       "</tbody>\n",
       "</table>\n"
      ],
      "text/latex": [
       "\\begin{tabular}{r|llll}\n",
       " total\\_anems\\_method & time\\_frame & total\\_prop\\_hab\\_sampled & total\\_area\\_method\\\\\n",
       "\\hline\n",
       "\t metal tags   & 2012         & 0.1592760    & anems tidied\\\\\n",
       "\t metal tags   & 2012-2013    & 0.2357466    & anems tidied\\\\\n",
       "\t metal tags   & 2012-2014    & 0.2775264    & anems tidied\\\\\n",
       "\t metal tags   & 2012-2015    & 0.3061086    & anems tidied\\\\\n",
       "\t metal tags   & 2012-2016    & 0.3286878    & anems tidied\\\\\n",
       "\t metal tags   & 2012-2017    & 0.3538462    & anems tidied\\\\\n",
       "\t metal tags   & 2012-2018    & 0.4005171    & anems tidied\\\\\n",
       "\\end{tabular}\n"
      ],
      "text/markdown": [
       "\n",
       "total_anems_method | time_frame | total_prop_hab_sampled | total_area_method | \n",
       "|---|---|---|---|---|---|---|\n",
       "| metal tags   | 2012         | 0.1592760    | anems tidied | \n",
       "| metal tags   | 2012-2013    | 0.2357466    | anems tidied | \n",
       "| metal tags   | 2012-2014    | 0.2775264    | anems tidied | \n",
       "| metal tags   | 2012-2015    | 0.3061086    | anems tidied | \n",
       "| metal tags   | 2012-2016    | 0.3286878    | anems tidied | \n",
       "| metal tags   | 2012-2017    | 0.3538462    | anems tidied | \n",
       "| metal tags   | 2012-2018    | 0.4005171    | anems tidied | \n",
       "\n",
       "\n"
      ],
      "text/plain": [
       "  total_anems_method time_frame total_prop_hab_sampled total_area_method\n",
       "1 metal tags         2012       0.1592760              anems tidied     \n",
       "2 metal tags         2012-2013  0.2357466              anems tidied     \n",
       "3 metal tags         2012-2014  0.2775264              anems tidied     \n",
       "4 metal tags         2012-2015  0.3061086              anems tidied     \n",
       "5 metal tags         2012-2016  0.3286878              anems tidied     \n",
       "6 metal tags         2012-2017  0.3538462              anems tidied     \n",
       "7 metal tags         2012-2018  0.4005171              anems tidied     "
      ]
     },
     "metadata": {},
     "output_type": "display_data"
    }
   ],
   "source": [
    "total_sampling_across_years %>% filter(total_area_method==\"anems tidied\" &total_anems_method==\"metal tags\")"
   ]
  },
  {
   "cell_type": "code",
   "execution_count": 383,
   "metadata": {},
   "outputs": [
    {
     "data": {
      "text/html": [
       "<table>\n",
       "<thead><tr><th scope=col>year</th><th scope=col>n_offspring</th><th scope=col>n_parents</th></tr></thead>\n",
       "<tbody>\n",
       "\t<tr><td>2012     </td><td> 63      </td><td> 157     </td></tr>\n",
       "\t<tr><td>2013     </td><td>150      </td><td> 372     </td></tr>\n",
       "\t<tr><td>2014     </td><td>181      </td><td> 536     </td></tr>\n",
       "\t<tr><td>2015     </td><td>229      </td><td> 849     </td></tr>\n",
       "\t<tr><td>2016     </td><td>105      </td><td>1230     </td></tr>\n",
       "\t<tr><td>2017     </td><td>130      </td><td>1447     </td></tr>\n",
       "\t<tr><td>2018     </td><td> 45      </td><td>1722     </td></tr>\n",
       "\t<tr><td>all_years</td><td>903      </td><td>1722     </td></tr>\n",
       "</tbody>\n",
       "</table>\n"
      ],
      "text/latex": [
       "\\begin{tabular}{r|lll}\n",
       " year & n\\_offspring & n\\_parents\\\\\n",
       "\\hline\n",
       "\t 2012      &  63       &  157     \\\\\n",
       "\t 2013      & 150       &  372     \\\\\n",
       "\t 2014      & 181       &  536     \\\\\n",
       "\t 2015      & 229       &  849     \\\\\n",
       "\t 2016      & 105       & 1230     \\\\\n",
       "\t 2017      & 130       & 1447     \\\\\n",
       "\t 2018      &  45       & 1722     \\\\\n",
       "\t all\\_years & 903         & 1722       \\\\\n",
       "\\end{tabular}\n"
      ],
      "text/markdown": [
       "\n",
       "year | n_offspring | n_parents | \n",
       "|---|---|---|---|---|---|---|---|\n",
       "| 2012      |  63       |  157      | \n",
       "| 2013      | 150       |  372      | \n",
       "| 2014      | 181       |  536      | \n",
       "| 2015      | 229       |  849      | \n",
       "| 2016      | 105       | 1230      | \n",
       "| 2017      | 130       | 1447      | \n",
       "| 2018      |  45       | 1722      | \n",
       "| all_years | 903       | 1722      | \n",
       "\n",
       "\n"
      ],
      "text/plain": [
       "  year      n_offspring n_parents\n",
       "1 2012       63          157     \n",
       "2 2013      150          372     \n",
       "3 2014      181          536     \n",
       "4 2015      229          849     \n",
       "5 2016      105         1230     \n",
       "6 2017      130         1447     \n",
       "7 2018       45         1722     \n",
       "8 all_years 903         1722     "
      ]
     },
     "metadata": {},
     "output_type": "display_data"
    },
    {
     "data": {
      "text/html": [
       "1806"
      ],
      "text/latex": [
       "1806"
      ],
      "text/markdown": [
       "1806"
      ],
      "text/plain": [
       "[1] 1806"
      ]
     },
     "metadata": {},
     "output_type": "display_data"
    }
   ],
   "source": [
    "input_summary #2018 n_parents should be the full number of parents, 1403\n",
    "sum(input_summary$n_offspring) #should be 1080 with 694 loci data, 798 with 894 loci\n"
   ]
  },
  {
   "cell_type": "markdown",
   "metadata": {},
   "source": [
    "# DONE, everything below is testing."
   ]
  }
 ],
 "metadata": {
  "kernelspec": {
   "display_name": "R",
   "language": "R",
   "name": "ir"
  },
  "language_info": {
   "codemirror_mode": "r",
   "file_extension": ".r",
   "mimetype": "text/x-r-source",
   "name": "R",
   "pygments_lexer": "r",
   "version": "3.6.1"
  }
 },
 "nbformat": 4,
 "nbformat_minor": 2
}
