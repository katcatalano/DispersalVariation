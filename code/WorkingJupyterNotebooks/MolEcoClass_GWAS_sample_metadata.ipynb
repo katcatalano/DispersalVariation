{
 "cells": [
  {
   "cell_type": "code",
   "execution_count": 25,
   "metadata": {},
   "outputs": [],
   "source": [
    "Packages <- c(\"dplyr\",  \"RMySQL\",  \"tidyr\", \"lubridate\", \"stringr\")\n",
    "invisible(suppressPackageStartupMessages(lapply(Packages, library, character.only = TRUE)))\n",
    "setwd('/local/home/katrinac/parentage')\n",
    "\n",
    "load(\"~/parentage/r_data/sampled_area_each_year.RData\")\n",
    "load(\"~/parentage/r_data/anems_visited_by_year.RData\")\n",
    "load(\"~/parentage/r_data/total_sampling_across_years.RData\")\n",
    "\n",
    "#download.file(url = \"https://raw.githubusercontent.com/pinskylab/genomics/master/data/known_issues.csv\", destfile = \"~/parentage/r_data/known_issues.csv\")\n",
    "issues <- read.csv(\"~/parentage/r_data/known_issues.csv\", header=T, stringsAsFactors = F)\n",
    "#download.file(url = \"https://github.com/pinskylab/Clownfish_persistence/blob/master/Data/Data_from_database/fish_db.RData?raw=true\", destfile = \"~/parentage/r_data/dives_db.RData\")\n",
    "load(\"~/parentage/r_data/fish_db.RData\")\n",
    "#download.file(url = \"https://github.com/pinskylab/Clownfish_persistence/blob/master/Data/Data_from_database/anem_db.RData?raw=true\", destfile = \"~/parentage/r_data/anem_db.RData\")\n",
    "load(\"~/parentage/r_data/anem_db.RData\")\n",
    "#download.file(url = \"https://github.com/pinskylab/Clownfish_persistence/blob/master/Data/Data_from_database/dives_db.RData?raw=true\", destfile = \"~/parentage/r_data/dives_db.RData\")\n",
    "load(\"~/parentage/r_data/dives_db.RData\")\n",
    "#download.file(url = \"https://github.com/pinskylab/Clownfish_persistence/blob/master/Data/Data_from_database/fish_db.RData?raw=true\", destfile = \"~/parentage/r_data/dives_db.RData\")\n",
    "load(\"~/parentage/r_data/fish_db.RData\")\n",
    "load(\"~/parentage/r_data/gps_db.RData\")\n",
    "#download.file(url = \"https://github.com/pinskylab/Clownfish_persistence/blob/master/Data/anems_tagged.RData\", destfile = \"~/parentage/r_data/anems_tagged.RData\")\n",
    "load(\"~/parentage/r_data/anems_tagged.RData\")\n",
    "#download.file(url = \"https://github.com/pinskylab/genomics/blob/master/data/fish-obs.RData?raw=true\", destfile = \"~/parentage/r_data/fish-obs.RData\")\n",
    "fish_obs <- readRDS(\"~/parentage/r_data/fish-obs.RData\") \n",
    "#download.file(url = \"https://raw.githubusercontent.com/pinskylab/db_backups/master/ligation_1-7-20.csv\", destfile = \"~/parentage/r_data/ligation_db.csv\")\n",
    "lig_db <- read.csv(\"~/parentage/r_data/ligation_db.csv\", header=T, stringsAsFactors = F)\n",
    "#download.file(url = \"https://raw.githubusercontent.com/pinskylab/db_backups/master/digest_1-7-20.csv\", destfile = \"~/parentage/r_data/digest_db.csv\")\n",
    "dig_db <- read.csv(\"~/parentage/r_data/digest_db.csv\", header=T, stringsAsFactors = F)\n",
    "#download.file(url = \"https://raw.githubusercontent.com/pinskylab/db_backups/master/extraction_1-7-20.csv\", destfile = \"~/parentage/r_data/extraction_db.csv\")\n",
    "ext_db <- read.csv(\"~/parentage/r_data/extraction_db.csv\", header=T, stringsAsFactors = F)\n",
    "\"%!in%\" <- function(x,table) match(x,table, nomatch = 0) == 0\n"
   ]
  },
  {
   "cell_type": "code",
   "execution_count": 2,
   "metadata": {},
   "outputs": [],
   "source": [
    "dat_gen <- read.table(\"/local/home/katrinac/parentage/colony2/20190523_1340loci/input/20190523_1340_loci_seq33-03_noLD.txt\", colClasses= \"character\",  quote=\"\", header=TRUE, row.names=NULL)\n",
    "results_dist <- read.csv(file=\"~/parentage/colony2/20200605_1340loci/results/parentage_results_allyears.csv\", header=T)\n"
   ]
  },
  {
   "cell_type": "code",
   "execution_count": 26,
   "metadata": {},
   "outputs": [
    {
     "data": {
      "text/html": [
       "0"
      ],
      "text/latex": [
       "0"
      ],
      "text/markdown": [
       "0"
      ],
      "text/plain": [
       "[1] 0"
      ]
     },
     "metadata": {},
     "output_type": "display_data"
    },
    {
     "data": {
      "text/html": [
       "0"
      ],
      "text/latex": [
       "0"
      ],
      "text/markdown": [
       "0"
      ],
      "text/plain": [
       "[1] 0"
      ]
     },
     "metadata": {},
     "output_type": "display_data"
    },
    {
     "name": "stderr",
     "output_type": "stream",
     "text": [
      "Warning message:\n",
      "“Problem with `mutate()` input `time_date`.\n",
      "ℹ  2 failed to parse.\n",
      "ℹ Input `time_date` is `ymd_hms(time_date)`.”Warning message:\n",
      "“ 2 failed to parse.”"
     ]
    }
   ],
   "source": [
    "#from Allison, just putting all the meta data together (Constants_database_common_functions.R)\n",
    "##### Match up other relevant info (site, date, fish_indiv, etc.) to fish in the clownfish table\n",
    "# Pull out year and month into a separate column in dives_db\n",
    "dives_db_processed <- dives_db %>%\n",
    "  mutate(year = as.integer(substring(date,1,4))) %>%\n",
    "  mutate(month = as.integer(substring(date,6,7))) %>%\n",
    "  mutate(dive_date = date(date))\n",
    "\n",
    "# Pull all APCL caught or otherwise in the clownfish table\n",
    "allfish_fish <- fish_db %>%\n",
    "  select(fish_table_id, anem_table_id, fish_spp, sample_id, anem_table_id, recap, tag_id, color, sex, size, fish_obs_time, fish_notes) %>%\n",
    "  filter(fish_spp == 'APCL') %>%\n",
    "  mutate(size = as.numeric(size))  # make the size numeric (rather than chr) so can do means and such\n",
    "\n",
    "# and their corresponding anemones\n",
    "allfish_anems <- anem_db %>%\n",
    "  select(anem_table_id, dive_table_id, anem_obs, anem_obs_time, anem_id, old_anem_id, anem_spp, anem_dia) %>%\n",
    "  filter(anem_table_id %in% allfish_fish$anem_table_id)\n",
    "\n",
    "# and the corresponding dive info\n",
    "allfish_dives <- dives_db_processed %>%\n",
    "  select(dive_table_id, dive_type, date, year, month, site, gps, dive_notes) %>%\n",
    "  filter(dive_table_id %in% allfish_anems$dive_table_id) \n",
    "\n",
    "# join together\n",
    "allfish_caught <- left_join(allfish_fish, allfish_anems, by=\"anem_table_id\")\n",
    "allfish_caught <- left_join(allfish_caught, allfish_dives, by=\"dive_table_id\")\n",
    "\n",
    "# add in the gen_ids and fish_indiv (now in a separate gen_id table) - gen_id only comes in the time the fish was sequenced, not at all captures\n",
    "allfish_caught <- left_join(allfish_caught, (fish_obs %>% select(fish_table_id, gen_id, fish_indiv)), by = \"fish_table_id\")\n",
    "\n",
    "#get sample ids for ligation ids\n",
    "ext_db <- ext_db %>%\n",
    "    select(extraction_id, sample_id)\n",
    "dig_db <- dig_db %>%\n",
    "    select(extraction_id, digest_id)\n",
    "lig_db <- lig_db %>%\n",
    "    select(ligation_id, digest_id)\n",
    "ext_dig <- left_join(ext_db, dig_db, by=\"extraction_id\")\n",
    "dig_lig <- left_join(ext_dig, lig_db, by=\"digest_id\") %>% \n",
    "    filter(!is.na(ligation_id))\n",
    "lig_samp <- dig_lig %>%\n",
    "    select(ligation_id, sample_id) \n",
    "\n",
    "\n",
    "fish_in_gen_lig <- dat_gen %>% #pull of the ligation_ids of fish in dat_gen, and remove those in the issues table\n",
    "    select(ligation_id) %>%\n",
    "    filter(ligation_id %!in% issues$ligation_id) #5 fish in issues table, these are dropped\n",
    "nrow(dat_gen) -nrow(fish_in_gen_lig) \n",
    "\n",
    "fish_in_gen_samp <- lig_samp %>% \n",
    "    filter(ligation_id %in%dat_gen$ligation_id) %>%\n",
    "    distinct(ligation_id, sample_id, .keep_all = T) #all of the ligation_ids in fish_in_gen_samp are in fish_in_gen_lig. Are the extra 7 sample_ids just multiples for regenotyped fish? YES see the following when this line is commented out: test %>% group_by(ligation_id, sample_id) %>% summarise(n=n()) %>% filter(n >1)\n",
    "\n",
    "nrow(fish_in_gen_lig)- nrow(fish_in_gen_samp) #should be 0\n",
    "\n",
    "sampled_fish <- left_join(allfish_caught, lig_samp,  by=\"sample_id\") %>%\n",
    "    mutate(time_date =as.character(str_c(date, anem_obs_time, sep = \" \"))) %>%\n",
    "    mutate(time_date = ymd_hms(time_date))%>%\n",
    "    mutate(time_date = force_tz(time_date, tzone = \"Asia/Manila\")) %>%\n",
    "    mutate(time_date = with_tz(time_date, tzone = \"UTC\")) %>%\n",
    "    mutate(year = year(time_date)) %>%\n",
    "    mutate(month = month(time_date)) %>%\n",
    "    mutate(day = day(time_date)) %>%\n",
    "    mutate(hour = hour(time_date)) %>%\n",
    "    mutate(minute = minute(time_date)) \n",
    "    \n",
    "\n",
    "gps <- gps_db %>%\n",
    "    mutate(lat=as.numeric(lat)) %>%\n",
    "    mutate(lon=as.numeric(lon)) %>%\n",
    "    mutate(time_date = ymd_hms(time)) %>%\n",
    "    mutate(year = year(time_date)) %>%\n",
    "    mutate(month = month(time_date)) %>%\n",
    "    mutate(day = day(time_date)) %>%\n",
    "    mutate(hour = hour(time_date)) %>%\n",
    "    mutate(minute = minute(time_date)) %>%\n",
    "    select(-time_date, -elev, -time) %>%\n",
    "    group_by(unit, year, month, day, hour, minute) %>%\n",
    "    mutate(lat =mean(lat)) %>% #create within minute averages\n",
    "    mutate(lon=mean(lon)) %>%\n",
    "    distinct(.keep_all = T)\n",
    "#*added\n",
    "#the long haul of adding lat lons\n",
    "#results_meta <- par_res %>%\n",
    "#    mutate(time_date =as.character(str_c(date, anem_obs_time, sep = \" \"))) %>%\n",
    "#    mutate(time_date = ymd_hms(time_date))%>%\n",
    "#    mutate(time_date = force_tz(time_date, tzone = \"Asia/Manila\")) %>%\n",
    "#    mutate(time_date = with_tz(time_date, tzone = \"UTC\")) %>%\n",
    "#    mutate(year = year(time_date)) %>%\n",
    "#    mutate(month = month(time_date)) %>%\n",
    "#    mutate(day = day(time_date)) %>%\n",
    "#    mutate(hour = hour(time_date)) %>%\n",
    "#    mutate(minute = minute(time_date)) %>%\n",
    "#    mutate(par_time_date =as.character(str_c(par_date, par_anem_obs_time, sep = \" \"))) %>%\n",
    "#    mutate(par_time_date = ymd_hms(par_time_date))%>%\n",
    "#    mutate(par_time_date = force_tz(par_time_date, tzone = \"Asia/Manila\")) %>%\n",
    "#    mutate(par_time_date = with_tz(par_time_date, tzone = \"UTC\")) %>%\n",
    "#    mutate(par_year = year(par_time_date)) %>%\n",
    "#    mutate(par_month = month(par_time_date)) %>%\n",
    "#    mutate(par_day = day(par_time_date)) %>%\n",
    "#    mutate(par_hour = hour(par_time_date)) %>%\n",
    "#    mutate(par_minute = minute(par_time_date))\n",
    "#\n",
    "#gps <- gps_db %>%\n",
    "#    mutate(lat=as.numeric(lat)) %>%\n",
    "#    mutate(lon=as.numeric(lon)) %>%\n",
    "#    mutate(time_date = ymd_hms(time)) %>%\n",
    "#    mutate(year = year(time_date)) %>%\n",
    "#    mutate(month = month(time_date)) %>%\n",
    "#    mutate(day = day(time_date)) %>%\n",
    "#    mutate(hour = hour(time_date)) %>%\n",
    "#    mutate(minute = minute(time_date)) %>%\n",
    "#    select(-time_date, -elev, -time) %>%\n",
    "#    group_by(unit, year, month, day, hour, minute) %>%\n",
    "#    mutate(lat =mean(lat)) %>% #create within minute averages\n",
    "#    mutate(lon=mean(lon)) %>%\n",
    "#    distinct(.keep_all = T)\n",
    "##*added\n",
    "\n",
    "fish_meta <- sampled_fish %>%#join with the rest of the data\n",
    "     select(fish_indiv,ligation_id, sample_id, size, color, sex, anem_id, anem_spp, anem_dia, date, month, site)\n",
    "###join with genetic data\n",
    "dat_gen_meta <-  left_join(dat_gen, fish_meta, by=\"ligation_id\") %>% \n",
    "    filter(!is.na(fish_indiv)) %>%\n",
    "    select(fish_indiv,ligation_id, sample_id, size, color, sex, anem_id, anem_spp, anem_dia, date, month, site, everything())"
   ]
  },
  {
   "cell_type": "code",
   "execution_count": 18,
   "metadata": {
    "scrolled": false
   },
   "outputs": [
    {
     "name": "stdout",
     "output_type": "stream",
     "text": [
      "tibble [7,715 × 27] (S3: tbl_df/tbl/data.frame)\n",
      " $ fish_table_id: num [1:7715] 7683 487 31 2510 6057 ...\n",
      " $ anem_table_id: num [1:7715] 7385 399 15 2130 6473 ...\n",
      " $ fish_spp     : chr [1:7715] \"APCL\" \"APCL\" \"APCL\" \"APCL\" ...\n",
      " $ sample_id    : chr [1:7715] \"APCL16_337\" \"APCL12_236\" \"APCL12_019\" \"APCL14_245\" ...\n",
      " $ recap        : chr [1:7715] NA NA NA NA ...\n",
      " $ tag_id       : chr [1:7715] NA NA NA NA ...\n",
      " $ color        : chr [1:7715] \"YR\" \"W\" NA \"Y\" ...\n",
      " $ sex          : chr [1:7715] \"J\" \"J\" NA \"J\" ...\n",
      " $ size         : num [1:7715] 3.5 3.5 3.1 5.5 3.5 3.4 4.8 8.8 4 4.1 ...\n",
      " $ fish_obs_time: chr [1:7715] NA NA NA NA ...\n",
      " $ fish_notes   : chr [1:7715] NA NA NA NA ...\n",
      " $ dive_table_id: num [1:7715] 318 19 3 82 259 59 89 91 36 95 ...\n",
      " $ anem_obs     : num [1:7715] 1786 NA NA 534 152 ...\n",
      " $ anem_obs_time: chr [1:7715] \"12:02:00\" \"11:51:00\" \"11:44:00\" \"15:39:00\" ...\n",
      " $ anem_id      : num [1:7715] 2407 NA NA 524 1040 ...\n",
      " $ old_anem_id  : chr [1:7715] NA NA NA NA ...\n",
      " $ anem_spp     : chr [1:7715] \"HECR\" \"HECR\" \"MADO\" \"HECR\" ...\n",
      " $ anem_dia     : num [1:7715] 15 15 NA 15 30 20 30 30 15 25 ...\n",
      " $ dive_type    : chr [1:7715] \"C\" \"E\" \"E\" \"C\" ...\n",
      " $ date         : chr [1:7715] \"2016-05-29\" \"2012-05-12\" \"2012-05-06\" \"2014-06-18\" ...\n",
      " $ year         : int [1:7715] 2016 2012 2012 2014 2015 2013 2014 2014 2013 2014 ...\n",
      " $ month        : int [1:7715] 5 5 5 6 6 6 6 6 5 6 ...\n",
      " $ site         : chr [1:7715] \"N. Magbangon\" \"San Agustin\" \"Visca\" \"N. Magbangon\" ...\n",
      " $ gps          : num [1:7715] 3 1 1 1 3 1 1 1 1 1 ...\n",
      " $ dive_notes   : chr [1:7715] \"many anemones grouped together with many clarkii, can't tell which came from which, Cecil catching fish\" \"Collecting DNA. Started near end of last dive, went until end of reef, then turned around and went to southern end of reef.\" \"First collecting at Visca, got 11 APCL. Not filling tubes sequentially. Swam to N end of reef near River, then \"| __truncated__ \"visibility had improved, collecting went well, anemones w/ clownfish everywhere, however, Beverlito banged on b\"| __truncated__ ...\n",
      " $ gen_id       : num [1:7715] NA NA NA NA NA NA NA NA NA NA ...\n",
      " $ fish_indiv   : chr [1:7715] NA NA NA NA ...\n"
     ]
    }
   ],
   "source": [
    "str(allfish_caught)"
   ]
  },
  {
   "cell_type": "code",
   "execution_count": 29,
   "metadata": {},
   "outputs": [],
   "source": [
    "full_meta <- left_join(sampled_fish, gps, by=c(gps=\"unit\", \"year\", \"month\", \"day\", \"hour\", \"minute\")) %>% select(-dive_notes, -year, -month, -day, -hour, -minute)\n"
   ]
  },
  {
   "cell_type": "code",
   "execution_count": 30,
   "metadata": {},
   "outputs": [
    {
     "data": {
      "text/html": [
       "8471"
      ],
      "text/latex": [
       "8471"
      ],
      "text/markdown": [
       "8471"
      ],
      "text/plain": [
       "[1] 8471"
      ]
     },
     "metadata": {},
     "output_type": "display_data"
    }
   ],
   "source": [
    "sum(!is.na(full_meta$lat)==T)"
   ]
  },
  {
   "cell_type": "code",
   "execution_count": 31,
   "metadata": {},
   "outputs": [],
   "source": [
    "#write.csv(full_meta, file=\"~/parentage/r_data/FullFishMetaDataForMolEco.csv\", quote=F, row.names=F )\n",
    "#write.csv(full_meta, file=\"~/DispersalVariation/data/FullFishMetaDataForMolEco.csv\", quote=F, row.names=F )"
   ]
  },
  {
   "cell_type": "code",
   "execution_count": 6,
   "metadata": {},
   "outputs": [
    {
     "data": {
      "text/html": [
       "<table>\n",
       "<thead><tr><th scope=col>ligation_id</th><th scope=col>dDocent_Contig_11_59.01</th><th scope=col>dDocent_Contig_11_59.02</th><th scope=col>dDocent_Contig_11_87.01</th><th scope=col>dDocent_Contig_11_87.02</th><th scope=col>dDocent_Contig_11_93.01</th><th scope=col>dDocent_Contig_11_93.02</th><th scope=col>dDocent_Contig_11_117.01</th><th scope=col>dDocent_Contig_11_117.02</th><th scope=col>dDocent_Contig_11_126.01</th><th scope=col>...</th><th scope=col>dDocent_Contig_207387_131.01</th><th scope=col>dDocent_Contig_207387_131.02</th><th scope=col>dDocent_Contig_207875_52.01</th><th scope=col>dDocent_Contig_207875_52.02</th><th scope=col>dDocent_Contig_226526_58.01</th><th scope=col>dDocent_Contig_226526_58.02</th><th scope=col>dDocent_Contig_233984_13.01</th><th scope=col>dDocent_Contig_233984_13.02</th><th scope=col>dDocent_Contig_233984_104.01</th><th scope=col>dDocent_Contig_233984_104.02</th></tr></thead>\n",
       "<tbody>\n",
       "\t<tr><td>L0255</td><td>01   </td><td>02   </td><td>01   </td><td>01   </td><td>01   </td><td>01   </td><td>01   </td><td>01   </td><td>01   </td><td>...  </td><td>01   </td><td>02   </td><td>01   </td><td>02   </td><td>02   </td><td>02   </td><td>01   </td><td>02   </td><td>01   </td><td>02   </td></tr>\n",
       "\t<tr><td>L0256</td><td>01   </td><td>02   </td><td>01   </td><td>01   </td><td>01   </td><td>01   </td><td>01   </td><td>01   </td><td>01   </td><td>...  </td><td>02   </td><td>02   </td><td>01   </td><td>02   </td><td>02   </td><td>02   </td><td>01   </td><td>02   </td><td>01   </td><td>02   </td></tr>\n",
       "\t<tr><td>L0257</td><td>01   </td><td>02   </td><td>01   </td><td>01   </td><td>01   </td><td>01   </td><td>01   </td><td>01   </td><td>01   </td><td>...  </td><td>01   </td><td>01   </td><td>02   </td><td>02   </td><td>02   </td><td>02   </td><td>02   </td><td>02   </td><td>02   </td><td>02   </td></tr>\n",
       "\t<tr><td>L0258</td><td>01   </td><td>01   </td><td>01   </td><td>01   </td><td>02   </td><td>01   </td><td>01   </td><td>01   </td><td>01   </td><td>...  </td><td>01   </td><td>02   </td><td>01   </td><td>02   </td><td>02   </td><td>02   </td><td>01   </td><td>02   </td><td>01   </td><td>02   </td></tr>\n",
       "\t<tr><td>L0259</td><td>01   </td><td>01   </td><td>01   </td><td>01   </td><td>01   </td><td>02   </td><td>01   </td><td>01   </td><td>01   </td><td>...  </td><td>02   </td><td>02   </td><td>02   </td><td>02   </td><td>02   </td><td>02   </td><td>01   </td><td>02   </td><td>01   </td><td>02   </td></tr>\n",
       "\t<tr><td>L0260</td><td>01   </td><td>01   </td><td>01   </td><td>01   </td><td>01   </td><td>01   </td><td>01   </td><td>01   </td><td>01   </td><td>...  </td><td>01   </td><td>02   </td><td>01   </td><td>02   </td><td>01   </td><td>02   </td><td>01   </td><td>02   </td><td>01   </td><td>02   </td></tr>\n",
       "</tbody>\n",
       "</table>\n"
      ],
      "text/latex": [
       "\\begin{tabular}{r|llllllllllllllllllllllllllllllllllllllllllllllllllllllllllllllllllllllllllllllllllllllllllllllllllllllllllllllllllllllllllllllllllllllllllllllllllllllllllllllllllllllllllllllllllllllllllllllllllllllllllllllllllllllllllllllllllllllllllllllllllllllllllllllllllllllllllllllllllllllllllllllllllllllllllllllllllllllllllllllllllllllllllllllllllllllllllllllllllllllllllllllllllllllllllllllllllllllllllllllllllllllllllllllllllllllllllllllllllllllllllllllllllllllllllllllllllllllllllllllllllllllllllllllllllllllllllllllllllllllllllllllllllllllllllllllllllllllllllllllllllllllllllllllllllllllllllllllllllllllllllllllllllllllllllllllllllllllllllllllllllllllllllllllllllllllllllllllllllllllllllllllllllllllllllllllllllllllllllllllllllllllllllllllllllllllllllllllllllllllllllllllllllllllllllllllllllllllllllllllllllllllllllllllllllllllllllllllllllllllllllllllllllllllllllllllllllllllllllllllllllllllllllllllllllllllllllllllllllllllllllllllllllllllllllllllllllllllllllllllllllllllllllllllllllllllllllllllllllllllllllllllllllllllllllllllllllllllllllllllllllllllllllllllllllllllllllllllllllllllllllllllllllllllllllllllllllllllllllllllllllllllllllllllllllllllllllllllllllllllllllllllllllllllllllllllllllllllllllllllllllllllllllllllllllllllllllllllllllllllllllllllllllllllllllllllllllllllllllllllllllllllllllllllllllllllllllllllllllllllllllllllllllllllllllllllllllllllllllllllllllllllllllllllllllllllllllllllllllllllllllllllllllllllllllllllllllllllllllllllllllllllllllllllllllllllllllllllllllllllllllllllllllllllllllllllllllllllllllllllllllllllllllllllllllllllllllllllllllllllllllllllllllllllllllllllllllllllllllllllllllllllllllllllllllllllllllllllllllllllllllllllllllllllllllllllllllllllllllllllllllllllllllllllllllllllllllllllllllllllllllllllllllllllllllllllllllllllllllllllllllllllllllllllllllllllllllllllllllllllllllllllllllllllllllllllllllllllllllllllllllllllllllllllllllllllllllllllllllllllllllllllllllllllllllllllllllllllllllllllllllllllllllllllllllllllllllllllllllllllllllllllllllllllllllllllllllllllllllllllllllllllllllllllllllllllllllllllllllllllllllllllllllllllllllllllllllllllllllllllllllllllllllllllllllllllllllllllllllllllllllllllllllllllllllllllllllllllllllllllllllllllllllllllllllllllllllllllllllllllllllllllllllllllllllllllllllllllllllllllllllllllllllllllllllllllllllllllllllllllllllllllllllllllllllllllllllllllllllllllllllllllllllllllllllllllllllllllllllllllllllllllllllllllllllllllllllllllllllllllllllllllllllllllllllllllllllllllllllllllllllllllllllllllllllllllllllllllllllllllllllllllllllllllllllllllllllllllllllllllllllllllllllllllllllllllllllllllllllllllllllllllllllllllllllllllllllllllllllllllllllllllllllllllllllllllllllllllllllllllllllllllllllllllllllllllllllllllllllllllll}\n",
       " ligation\\_id & dDocent\\_Contig\\_11\\_59.01 & dDocent\\_Contig\\_11\\_59.02 & dDocent\\_Contig\\_11\\_87.01 & dDocent\\_Contig\\_11\\_87.02 & dDocent\\_Contig\\_11\\_93.01 & dDocent\\_Contig\\_11\\_93.02 & dDocent\\_Contig\\_11\\_117.01 & dDocent\\_Contig\\_11\\_117.02 & dDocent\\_Contig\\_11\\_126.01 & ... & dDocent\\_Contig\\_207387\\_131.01 & dDocent\\_Contig\\_207387\\_131.02 & dDocent\\_Contig\\_207875\\_52.01 & dDocent\\_Contig\\_207875\\_52.02 & dDocent\\_Contig\\_226526\\_58.01 & dDocent\\_Contig\\_226526\\_58.02 & dDocent\\_Contig\\_233984\\_13.01 & dDocent\\_Contig\\_233984\\_13.02 & dDocent\\_Contig\\_233984\\_104.01 & dDocent\\_Contig\\_233984\\_104.02\\\\\n",
       "\\hline\n",
       "\t L0255 & 01    & 02    & 01    & 01    & 01    & 01    & 01    & 01    & 01    & ...   & 01    & 02    & 01    & 02    & 02    & 02    & 01    & 02    & 01    & 02   \\\\\n",
       "\t L0256 & 01    & 02    & 01    & 01    & 01    & 01    & 01    & 01    & 01    & ...   & 02    & 02    & 01    & 02    & 02    & 02    & 01    & 02    & 01    & 02   \\\\\n",
       "\t L0257 & 01    & 02    & 01    & 01    & 01    & 01    & 01    & 01    & 01    & ...   & 01    & 01    & 02    & 02    & 02    & 02    & 02    & 02    & 02    & 02   \\\\\n",
       "\t L0258 & 01    & 01    & 01    & 01    & 02    & 01    & 01    & 01    & 01    & ...   & 01    & 02    & 01    & 02    & 02    & 02    & 01    & 02    & 01    & 02   \\\\\n",
       "\t L0259 & 01    & 01    & 01    & 01    & 01    & 02    & 01    & 01    & 01    & ...   & 02    & 02    & 02    & 02    & 02    & 02    & 01    & 02    & 01    & 02   \\\\\n",
       "\t L0260 & 01    & 01    & 01    & 01    & 01    & 01    & 01    & 01    & 01    & ...   & 01    & 02    & 01    & 02    & 01    & 02    & 01    & 02    & 01    & 02   \\\\\n",
       "\\end{tabular}\n"
      ],
      "text/markdown": [
       "\n",
       "| ligation_id | dDocent_Contig_11_59.01 | dDocent_Contig_11_59.02 | dDocent_Contig_11_87.01 | dDocent_Contig_11_87.02 | dDocent_Contig_11_93.01 | dDocent_Contig_11_93.02 | dDocent_Contig_11_117.01 | dDocent_Contig_11_117.02 | dDocent_Contig_11_126.01 | ... | dDocent_Contig_207387_131.01 | dDocent_Contig_207387_131.02 | dDocent_Contig_207875_52.01 | dDocent_Contig_207875_52.02 | dDocent_Contig_226526_58.01 | dDocent_Contig_226526_58.02 | dDocent_Contig_233984_13.01 | dDocent_Contig_233984_13.02 | dDocent_Contig_233984_104.01 | dDocent_Contig_233984_104.02 |\n",
       "|---|---|---|---|---|---|---|---|---|---|---|---|---|---|---|---|---|---|---|---|---|\n",
       "| L0255 | 01    | 02    | 01    | 01    | 01    | 01    | 01    | 01    | 01    | ...   | 01    | 02    | 01    | 02    | 02    | 02    | 01    | 02    | 01    | 02    |\n",
       "| L0256 | 01    | 02    | 01    | 01    | 01    | 01    | 01    | 01    | 01    | ...   | 02    | 02    | 01    | 02    | 02    | 02    | 01    | 02    | 01    | 02    |\n",
       "| L0257 | 01    | 02    | 01    | 01    | 01    | 01    | 01    | 01    | 01    | ...   | 01    | 01    | 02    | 02    | 02    | 02    | 02    | 02    | 02    | 02    |\n",
       "| L0258 | 01    | 01    | 01    | 01    | 02    | 01    | 01    | 01    | 01    | ...   | 01    | 02    | 01    | 02    | 02    | 02    | 01    | 02    | 01    | 02    |\n",
       "| L0259 | 01    | 01    | 01    | 01    | 01    | 02    | 01    | 01    | 01    | ...   | 02    | 02    | 02    | 02    | 02    | 02    | 01    | 02    | 01    | 02    |\n",
       "| L0260 | 01    | 01    | 01    | 01    | 01    | 01    | 01    | 01    | 01    | ...   | 01    | 02    | 01    | 02    | 01    | 02    | 01    | 02    | 01    | 02    |\n",
       "\n"
      ],
      "text/plain": [
       "  ligation_id dDocent_Contig_11_59.01 dDocent_Contig_11_59.02\n",
       "1 L0255       01                      02                     \n",
       "2 L0256       01                      02                     \n",
       "3 L0257       01                      02                     \n",
       "4 L0258       01                      01                     \n",
       "5 L0259       01                      01                     \n",
       "6 L0260       01                      01                     \n",
       "  dDocent_Contig_11_87.01 dDocent_Contig_11_87.02 dDocent_Contig_11_93.01\n",
       "1 01                      01                      01                     \n",
       "2 01                      01                      01                     \n",
       "3 01                      01                      01                     \n",
       "4 01                      01                      02                     \n",
       "5 01                      01                      01                     \n",
       "6 01                      01                      01                     \n",
       "  dDocent_Contig_11_93.02 dDocent_Contig_11_117.01 dDocent_Contig_11_117.02\n",
       "1 01                      01                       01                      \n",
       "2 01                      01                       01                      \n",
       "3 01                      01                       01                      \n",
       "4 01                      01                       01                      \n",
       "5 02                      01                       01                      \n",
       "6 01                      01                       01                      \n",
       "  dDocent_Contig_11_126.01 ... dDocent_Contig_207387_131.01\n",
       "1 01                       ... 01                          \n",
       "2 01                       ... 02                          \n",
       "3 01                       ... 01                          \n",
       "4 01                       ... 01                          \n",
       "5 01                       ... 02                          \n",
       "6 01                       ... 01                          \n",
       "  dDocent_Contig_207387_131.02 dDocent_Contig_207875_52.01\n",
       "1 02                           01                         \n",
       "2 02                           01                         \n",
       "3 01                           02                         \n",
       "4 02                           01                         \n",
       "5 02                           02                         \n",
       "6 02                           01                         \n",
       "  dDocent_Contig_207875_52.02 dDocent_Contig_226526_58.01\n",
       "1 02                          02                         \n",
       "2 02                          02                         \n",
       "3 02                          02                         \n",
       "4 02                          02                         \n",
       "5 02                          02                         \n",
       "6 02                          01                         \n",
       "  dDocent_Contig_226526_58.02 dDocent_Contig_233984_13.01\n",
       "1 02                          01                         \n",
       "2 02                          01                         \n",
       "3 02                          02                         \n",
       "4 02                          01                         \n",
       "5 02                          01                         \n",
       "6 02                          01                         \n",
       "  dDocent_Contig_233984_13.02 dDocent_Contig_233984_104.01\n",
       "1 02                          01                          \n",
       "2 02                          01                          \n",
       "3 02                          02                          \n",
       "4 02                          01                          \n",
       "5 02                          01                          \n",
       "6 02                          01                          \n",
       "  dDocent_Contig_233984_104.02\n",
       "1 02                          \n",
       "2 02                          \n",
       "3 02                          \n",
       "4 02                          \n",
       "5 02                          \n",
       "6 02                          "
      ]
     },
     "metadata": {},
     "output_type": "display_data"
    }
   ],
   "source": [
    "dat_gen <- read.table(\"/local/home/katrinac/parentage/colony2/20190523_1340loci/input/20190523_1340_loci_seq33-03_noLD.txt\", colClasses= \"character\",  quote=\"\", header=TRUE, row.names=NULL)\n",
    "head(dat_gen)"
   ]
  },
  {
   "cell_type": "code",
   "execution_count": 7,
   "metadata": {},
   "outputs": [
    {
     "data": {
      "text/html": [
       "<table>\n",
       "<thead><tr><th scope=col>par_fish_indiv</th><th scope=col>par_size</th><th scope=col>par_color</th><th scope=col>par_sex</th><th scope=col>par_gen_id</th><th scope=col>par_ligation_id</th><th scope=col>par_sample_id</th><th scope=col>par_site</th><th scope=col>par_date</th><th scope=col>par_anem_obs_time</th><th scope=col>...</th><th scope=col>par_year</th><th scope=col>par_month</th><th scope=col>par_day</th><th scope=col>par_hour</th><th scope=col>par_minute</th><th scope=col>offs_lat</th><th scope=col>offs_lon</th><th scope=col>par_lat</th><th scope=col>par_lon</th><th scope=col>dist_par_km</th></tr></thead>\n",
       "<tbody>\n",
       "\t<tr><td> 25       </td><td>10.4      </td><td>YP        </td><td>F         </td><td> 25       </td><td>L2238     </td><td>APCL13_510</td><td>Visca     </td><td>2013-06-01</td><td>17:18:00  </td><td>...       </td><td>2013      </td><td>6         </td><td>1         </td><td>9         </td><td>18        </td><td>10.74343  </td><td>124.7869  </td><td>10.74427  </td><td>124.7865  </td><td> 0.1049982</td></tr>\n",
       "\t<tr><td>124       </td><td> 7.5      </td><td>NA        </td><td>NA        </td><td>124       </td><td>L1770     </td><td>APCL12_110</td><td>Wangag    </td><td>2012-05-09</td><td>15:05:00  </td><td>...       </td><td>2012      </td><td>5         </td><td>9         </td><td>7         </td><td> 5        </td><td>10.87312  </td><td>124.7121  </td><td>10.87166  </td><td>124.7140  </td><td> 0.2673390</td></tr>\n",
       "\t<tr><td>132       </td><td> 8.0      </td><td>NA        </td><td>NA        </td><td>132       </td><td>L1769     </td><td>APCL12_109</td><td>Wangag    </td><td>2012-05-09</td><td>15:09:00  </td><td>...       </td><td>2012      </td><td>5         </td><td>9         </td><td>7         </td><td> 9        </td><td>10.87312  </td><td>124.7121  </td><td>10.87165  </td><td>124.7141  </td><td> 0.2708801</td></tr>\n",
       "\t<tr><td>133       </td><td> 9.0      </td><td>O         </td><td>M         </td><td>133       </td><td>L2217     </td><td>APCL12_117</td><td>Wangag    </td><td>2012-05-09</td><td>15:00:00  </td><td>...       </td><td>2012      </td><td>5         </td><td>9         </td><td>7         </td><td> 0        </td><td>10.87312  </td><td>124.7121  </td><td>10.87168  </td><td>124.7140  </td><td> 0.2618357</td></tr>\n",
       "\t<tr><td>133       </td><td> 9.0      </td><td>O         </td><td>M         </td><td>133       </td><td>L2217     </td><td>APCL12_117</td><td>Wangag    </td><td>2012-05-09</td><td>15:00:00  </td><td>...       </td><td>2012      </td><td>5         </td><td>9         </td><td>7         </td><td> 0        </td><td>10.86902  </td><td>124.7165  </td><td>10.87168  </td><td>124.7140  </td><td> 0.4013014</td></tr>\n",
       "\t<tr><td>146       </td><td>10.4      </td><td>NA        </td><td>NA        </td><td>146       </td><td>L2345     </td><td>APCL12_030</td><td>Visca     </td><td>2012-05-06</td><td>15:31:00  </td><td>...       </td><td>2012      </td><td>5         </td><td>6         </td><td>7         </td><td>31        </td><td>10.87427  </td><td>124.7107  </td><td>10.74399  </td><td>124.7863  </td><td>16.6768523</td></tr>\n",
       "</tbody>\n",
       "</table>\n"
      ],
      "text/latex": [
       "\\begin{tabular}{r|llllllllllllllllllllllllllllllllllllllllll}\n",
       " par\\_fish\\_indiv & par\\_size & par\\_color & par\\_sex & par\\_gen\\_id & par\\_ligation\\_id & par\\_sample\\_id & par\\_site & par\\_date & par\\_anem\\_obs\\_time & ... & par\\_year & par\\_month & par\\_day & par\\_hour & par\\_minute & offs\\_lat & offs\\_lon & par\\_lat & par\\_lon & dist\\_par\\_km\\\\\n",
       "\\hline\n",
       "\t  25          & 10.4         & YP           & F            &  25          & L2238        & APCL13\\_510 & Visca        & 2013-06-01   & 17:18:00     & ...          & 2013         & 6            & 1            & 9            & 18           & 10.74343     & 124.7869     & 10.74427     & 124.7865     &  0.1049982  \\\\\n",
       "\t 124          &  7.5         & NA           & NA           & 124          & L1770        & APCL12\\_110 & Wangag       & 2012-05-09   & 15:05:00     & ...          & 2012         & 5            & 9            & 7            &  5           & 10.87312     & 124.7121     & 10.87166     & 124.7140     &  0.2673390  \\\\\n",
       "\t 132          &  8.0         & NA           & NA           & 132          & L1769        & APCL12\\_109 & Wangag       & 2012-05-09   & 15:09:00     & ...          & 2012         & 5            & 9            & 7            &  9           & 10.87312     & 124.7121     & 10.87165     & 124.7141     &  0.2708801  \\\\\n",
       "\t 133          &  9.0         & O            & M            & 133          & L2217        & APCL12\\_117 & Wangag       & 2012-05-09   & 15:00:00     & ...          & 2012         & 5            & 9            & 7            &  0           & 10.87312     & 124.7121     & 10.87168     & 124.7140     &  0.2618357  \\\\\n",
       "\t 133          &  9.0         & O            & M            & 133          & L2217        & APCL12\\_117 & Wangag       & 2012-05-09   & 15:00:00     & ...          & 2012         & 5            & 9            & 7            &  0           & 10.86902     & 124.7165     & 10.87168     & 124.7140     &  0.4013014  \\\\\n",
       "\t 146          & 10.4         & NA           & NA           & 146          & L2345        & APCL12\\_030 & Visca        & 2012-05-06   & 15:31:00     & ...          & 2012         & 5            & 6            & 7            & 31           & 10.87427     & 124.7107     & 10.74399     & 124.7863     & 16.6768523  \\\\\n",
       "\\end{tabular}\n"
      ],
      "text/markdown": [
       "\n",
       "| par_fish_indiv | par_size | par_color | par_sex | par_gen_id | par_ligation_id | par_sample_id | par_site | par_date | par_anem_obs_time | ... | par_year | par_month | par_day | par_hour | par_minute | offs_lat | offs_lon | par_lat | par_lon | dist_par_km |\n",
       "|---|---|---|---|---|---|---|---|---|---|---|---|---|---|---|---|---|---|---|---|---|\n",
       "|  25        | 10.4       | YP         | F          |  25        | L2238      | APCL13_510 | Visca      | 2013-06-01 | 17:18:00   | ...        | 2013       | 6          | 1          | 9          | 18         | 10.74343   | 124.7869   | 10.74427   | 124.7865   |  0.1049982 |\n",
       "| 124        |  7.5       | NA         | NA         | 124        | L1770      | APCL12_110 | Wangag     | 2012-05-09 | 15:05:00   | ...        | 2012       | 5          | 9          | 7          |  5         | 10.87312   | 124.7121   | 10.87166   | 124.7140   |  0.2673390 |\n",
       "| 132        |  8.0       | NA         | NA         | 132        | L1769      | APCL12_109 | Wangag     | 2012-05-09 | 15:09:00   | ...        | 2012       | 5          | 9          | 7          |  9         | 10.87312   | 124.7121   | 10.87165   | 124.7141   |  0.2708801 |\n",
       "| 133        |  9.0       | O          | M          | 133        | L2217      | APCL12_117 | Wangag     | 2012-05-09 | 15:00:00   | ...        | 2012       | 5          | 9          | 7          |  0         | 10.87312   | 124.7121   | 10.87168   | 124.7140   |  0.2618357 |\n",
       "| 133        |  9.0       | O          | M          | 133        | L2217      | APCL12_117 | Wangag     | 2012-05-09 | 15:00:00   | ...        | 2012       | 5          | 9          | 7          |  0         | 10.86902   | 124.7165   | 10.87168   | 124.7140   |  0.4013014 |\n",
       "| 146        | 10.4       | NA         | NA         | 146        | L2345      | APCL12_030 | Visca      | 2012-05-06 | 15:31:00   | ...        | 2012       | 5          | 6          | 7          | 31         | 10.87427   | 124.7107   | 10.74399   | 124.7863   | 16.6768523 |\n",
       "\n"
      ],
      "text/plain": [
       "  par_fish_indiv par_size par_color par_sex par_gen_id par_ligation_id\n",
       "1  25            10.4     YP        F        25        L2238          \n",
       "2 124             7.5     NA        NA      124        L1770          \n",
       "3 132             8.0     NA        NA      132        L1769          \n",
       "4 133             9.0     O         M       133        L2217          \n",
       "5 133             9.0     O         M       133        L2217          \n",
       "6 146            10.4     NA        NA      146        L2345          \n",
       "  par_sample_id par_site par_date   par_anem_obs_time ... par_year par_month\n",
       "1 APCL13_510    Visca    2013-06-01 17:18:00          ... 2013     6        \n",
       "2 APCL12_110    Wangag   2012-05-09 15:05:00          ... 2012     5        \n",
       "3 APCL12_109    Wangag   2012-05-09 15:09:00          ... 2012     5        \n",
       "4 APCL12_117    Wangag   2012-05-09 15:00:00          ... 2012     5        \n",
       "5 APCL12_117    Wangag   2012-05-09 15:00:00          ... 2012     5        \n",
       "6 APCL12_030    Visca    2012-05-06 15:31:00          ... 2012     5        \n",
       "  par_day par_hour par_minute offs_lat offs_lon par_lat  par_lon  dist_par_km\n",
       "1 1       9        18         10.74343 124.7869 10.74427 124.7865  0.1049982 \n",
       "2 9       7         5         10.87312 124.7121 10.87166 124.7140  0.2673390 \n",
       "3 9       7         9         10.87312 124.7121 10.87165 124.7141  0.2708801 \n",
       "4 9       7         0         10.87312 124.7121 10.87168 124.7140  0.2618357 \n",
       "5 9       7         0         10.86902 124.7165 10.87168 124.7140  0.4013014 \n",
       "6 6       7        31         10.87427 124.7107 10.74399 124.7863 16.6768523 "
      ]
     },
     "metadata": {},
     "output_type": "display_data"
    }
   ],
   "source": [
    "results_dist <- read.csv(file=\"~/parentage/colony2/20200605_1340loci/results/parentage_results_allyears.csv\", header=T)\n",
    "head(results_dist)"
   ]
  },
  {
   "cell_type": "code",
   "execution_count": 8,
   "metadata": {},
   "outputs": [],
   "source": [
    "options(dplyr.summarise.inform = FALSE)"
   ]
  },
  {
   "cell_type": "code",
   "execution_count": 9,
   "metadata": {},
   "outputs": [
    {
     "data": {
      "text/html": [
       "2405"
      ],
      "text/latex": [
       "2405"
      ],
      "text/markdown": [
       "2405"
      ],
      "text/plain": [
       "[1] 2405"
      ]
     },
     "metadata": {},
     "output_type": "display_data"
    }
   ],
   "source": [
    "nrow(dat_gen_meta %>% distinct(fish_indiv))"
   ]
  },
  {
   "cell_type": "code",
   "execution_count": 10,
   "metadata": {},
   "outputs": [
    {
     "data": {
      "text/html": [
       "<table>\n",
       "<thead><tr><th scope=col>anem_spp</th><th scope=col>NObs</th></tr></thead>\n",
       "<tbody>\n",
       "\t<tr><td>????</td><td>  35</td></tr>\n",
       "\t<tr><td>EMPT</td><td>   2</td></tr>\n",
       "\t<tr><td>ENQD</td><td> 154</td></tr>\n",
       "\t<tr><td>HEAR</td><td>  47</td></tr>\n",
       "\t<tr><td>HECR</td><td>1789</td></tr>\n",
       "\t<tr><td>HEMA</td><td>   7</td></tr>\n",
       "\t<tr><td>MADO</td><td> 278</td></tr>\n",
       "\t<tr><td>STHD</td><td>  14</td></tr>\n",
       "\t<tr><td>STME</td><td>  80</td></tr>\n",
       "</tbody>\n",
       "</table>\n"
      ],
      "text/latex": [
       "\\begin{tabular}{r|ll}\n",
       " anem\\_spp & NObs\\\\\n",
       "\\hline\n",
       "\t ???? &   35\\\\\n",
       "\t EMPT &    2\\\\\n",
       "\t ENQD &  154\\\\\n",
       "\t HEAR &   47\\\\\n",
       "\t HECR & 1789\\\\\n",
       "\t HEMA &    7\\\\\n",
       "\t MADO &  278\\\\\n",
       "\t STHD &   14\\\\\n",
       "\t STME &   80\\\\\n",
       "\\end{tabular}\n"
      ],
      "text/markdown": [
       "\n",
       "| anem_spp | NObs |\n",
       "|---|---|\n",
       "| ???? |   35 |\n",
       "| EMPT |    2 |\n",
       "| ENQD |  154 |\n",
       "| HEAR |   47 |\n",
       "| HECR | 1789 |\n",
       "| HEMA |    7 |\n",
       "| MADO |  278 |\n",
       "| STHD |   14 |\n",
       "| STME |   80 |\n",
       "\n"
      ],
      "text/plain": [
       "  anem_spp NObs\n",
       "1 ????       35\n",
       "2 EMPT        2\n",
       "3 ENQD      154\n",
       "4 HEAR       47\n",
       "5 HECR     1789\n",
       "6 HEMA        7\n",
       "7 MADO      278\n",
       "8 STHD       14\n",
       "9 STME       80"
      ]
     },
     "metadata": {},
     "output_type": "display_data"
    }
   ],
   "source": [
    "dat_gen_meta %>%\n",
    "    group_by(anem_spp) %>%\n",
    "    summarise(NObs=n())"
   ]
  },
  {
   "cell_type": "code",
   "execution_count": 11,
   "metadata": {},
   "outputs": [
    {
     "data": {
      "text/html": [
       "<table>\n",
       "<thead><tr><th scope=col>anem_spp_binary</th><th scope=col>NObs</th></tr></thead>\n",
       "<tbody>\n",
       "\t<tr><td>1   </td><td>1815</td></tr>\n",
       "\t<tr><td>2   </td><td>  81</td></tr>\n",
       "</tbody>\n",
       "</table>\n"
      ],
      "text/latex": [
       "\\begin{tabular}{r|ll}\n",
       " anem\\_spp\\_binary & NObs\\\\\n",
       "\\hline\n",
       "\t 1    & 1815\\\\\n",
       "\t 2    &   81\\\\\n",
       "\\end{tabular}\n"
      ],
      "text/markdown": [
       "\n",
       "| anem_spp_binary | NObs |\n",
       "|---|---|\n",
       "| 1    | 1815 |\n",
       "| 2    |   81 |\n",
       "\n"
      ],
      "text/plain": [
       "  anem_spp_binary NObs\n",
       "1 1               1815\n",
       "2 2                 81"
      ]
     },
     "metadata": {},
     "output_type": "display_data"
    }
   ],
   "source": [
    "AnemSppLigIDs <- fish_meta %>% #this will pull out all ligation ids associated with a fish\n",
    "    filter(!is.na(fish_indiv)) %>% \n",
    "    filter(fish_indiv %in% dat_gen_meta$fish_indiv)%>%\n",
    "    filter(ligation_id %!in% issues$ligation_id) %>% \n",
    "    filter(!is.na(ligation_id)) %>% \n",
    "    select(fish_indiv, ligation_id, anem_spp) %>% \n",
    "    filter(anem_spp==\"HECR\" | anem_spp==\"STME\") %>% \n",
    "    mutate(anem_spp_binary=ifelse(anem_spp==\"HECR\", 1, 2)) %>% \n",
    "    mutate(sampligation_id=paste(\"APCL\", ligation_id, sep=\"_\"))\n",
    "\n",
    "AnemSppLigIDs %>% distinct(fish_indiv, .keep_all = T) %>% group_by(anem_spp_binary) %>% summarise(NObs=n())"
   ]
  },
  {
   "cell_type": "code",
   "execution_count": 65,
   "metadata": {},
   "outputs": [],
   "source": [
    "#write.table(AnemSppLigIDs, file=\"~/ClownfishGWAS/script_output/ForMolEcoGroupAnemSppLigIDs.txt\", sep=\"\\t\")"
   ]
  },
  {
   "cell_type": "code",
   "execution_count": 13,
   "metadata": {},
   "outputs": [
    {
     "name": "stderr",
     "output_type": "stream",
     "text": [
      "Warning message in write.csv(AnemSppLigIDs, file = \"~/ClownfishGWAS/script_output/ForMolEcoGroupAnemSppLigIDs.csv\", :\n",
      "“attempt to set 'col.names' ignored”"
     ]
    }
   ],
   "source": [
    "write.csv(AnemSppLigIDs, file=\"~/ClownfishGWAS/script_output/ForMolEcoGroupAnemSppLigIDs.csv\", row.names = F, col.names = T, quote=F)"
   ]
  },
  {
   "cell_type": "code",
   "execution_count": 79,
   "metadata": {},
   "outputs": [
    {
     "data": {
      "text/html": [
       "3054"
      ],
      "text/latex": [
       "3054"
      ],
      "text/markdown": [
       "3054"
      ],
      "text/plain": [
       "[1] 3054"
      ]
     },
     "metadata": {},
     "output_type": "display_data"
    }
   ],
   "source": [
    "nrow(fish_meta %>% \n",
    "    filter(!is.na(fish_indiv)) %>% \n",
    "    filter(fish_indiv %in% dat_gen_meta$fish_indiv)%>%\n",
    "    filter(ligation_id %!in% issues$ligation_id) %>% \n",
    "    filter(!is.na(ligation_id)))"
   ]
  },
  {
   "cell_type": "code",
   "execution_count": 31,
   "metadata": {},
   "outputs": [
    {
     "data": {
      "text/html": [
       "<table>\n",
       "<thead><tr><th scope=col>V1</th><th scope=col>V2</th><th scope=col>V3</th><th scope=col>V4</th><th scope=col>V5</th><th scope=col>V6</th><th scope=col>V7</th><th scope=col>V8</th><th scope=col>V9</th><th scope=col>V10</th><th scope=col>...</th><th scope=col>V2003</th><th scope=col>V2004</th><th scope=col>V2005</th><th scope=col>V2006</th><th scope=col>V2007</th><th scope=col>V2008</th><th scope=col>V2009</th><th scope=col>V2010</th><th scope=col>V2011</th><th scope=col>V2012</th></tr></thead>\n",
       "<tbody>\n",
       "\t<tr><td>APCL_L0255</td><td>APCL_L0255</td><td>0         </td><td>0         </td><td>0         </td><td>1         </td><td>C         </td><td>T         </td><td>A         </td><td>G         </td><td>...       </td><td>C         </td><td>A         </td><td>T         </td><td>A         </td><td>C         </td><td>G         </td><td>A         </td><td>G         </td><td>G         </td><td>A         </td></tr>\n",
       "\t<tr><td>APCL_L0256</td><td>APCL_L0256</td><td>0         </td><td>0         </td><td>0         </td><td>1         </td><td>C         </td><td>T         </td><td>A         </td><td>G         </td><td>...       </td><td>C         </td><td>A         </td><td>T         </td><td>A         </td><td>C         </td><td>G         </td><td>A         </td><td>G         </td><td>G         </td><td>A         </td></tr>\n",
       "\t<tr><td>APCL_L0257</td><td>APCL_L0257</td><td>0         </td><td>0         </td><td>0         </td><td>1         </td><td>C         </td><td>T         </td><td>A         </td><td>G         </td><td>...       </td><td>A         </td><td>A         </td><td>A         </td><td>A         </td><td>G         </td><td>G         </td><td>G         </td><td>G         </td><td>A         </td><td>A         </td></tr>\n",
       "\t<tr><td>APCL_L0258</td><td>APCL_L0258</td><td>0         </td><td>0         </td><td>0         </td><td>1         </td><td>C         </td><td>C         </td><td>A         </td><td>A         </td><td>...       </td><td>C         </td><td>A         </td><td>T         </td><td>A         </td><td>C         </td><td>G         </td><td>A         </td><td>G         </td><td>G         </td><td>A         </td></tr>\n",
       "\t<tr><td>APCL_L0259</td><td>APCL_L0259</td><td>0         </td><td>0         </td><td>0         </td><td>1         </td><td>C         </td><td>C         </td><td>A         </td><td>G         </td><td>...       </td><td>C         </td><td>A         </td><td>T         </td><td>A         </td><td>C         </td><td>G         </td><td>A         </td><td>G         </td><td>G         </td><td>A         </td></tr>\n",
       "\t<tr><td>APCL_L0260</td><td>APCL_L0260</td><td>0         </td><td>0         </td><td>0         </td><td>1         </td><td>C         </td><td>C         </td><td>G         </td><td>G         </td><td>...       </td><td>C         </td><td>A         </td><td>T         </td><td>A         </td><td>C         </td><td>G         </td><td>A         </td><td>G         </td><td>G         </td><td>A         </td></tr>\n",
       "</tbody>\n",
       "</table>\n"
      ],
      "text/latex": [
       "\\begin{tabular}{r|llllllllllllllllllllllllllllllllllllllllllllllllllllllllllllllllllllllllllllllllllllllllllllllllllllllllllllllllllllllllllllllllllllllllllllllllllllllllllllllllllllllllllllllllllllllllllllllllllllllllllllllllllllllllllllllllllllllllllllllllllllllllllllllllllllllllllllllllllllllllllllllllllllllllllllllllllllllllllllllllllllllllllllllllllllllllllllllllllllllllllllllllllllllllllllllllllllllllllllllllllllllllllllllllllllllllllllllllllllllllllllllllllllllllllllllllllllllllllllllllllllllllllllllllllllllllllllllllllllllllllllllllllllllllllllllllllllllllllllllllllllllllllllllllllllllllllllllllllllllllllllllllllllllllllllllllllllllllllllllllllllllllllllllllllllllllllllllllllllllllllllllllllllllllllllllllllllllllllllllllllllllllllllllllllllllllllllllllllllllllllllllllllllllllllllllllllllllllllllllllllllllllllllllllllllllllllllllllllllllllllllllllllllllllllllllllllllllllllllllllllllllllllllllllllllllllllllllllllllllllllllllllllllllllllllllllllllllllllllllllllllllllllllllllllllllllllllllllllllllllllllllllllllllllllllllllllllllllllllllllllllllllllllllllllllllllllllllllllllllllllllllllllllllllllllllllllllllllllllllllllllllllllllllllllllllllllllllllllllllllllllllllllllllllllllllllllllllllllllllllllllllllllllllllllllllllllllllllllllllllllllllllllllllllllllllllllllllllllllllllllllllllllllllllllllllllllllllllllllllllllllllllllllllllllllllllllllllllllllllllllllllllllllllllllllllllllllllllllllllllllllllllllllllllllllllllllllllllllllllllllllllllllllllllllllllllllllllllllllllllllllllllllllllllllllllllllllllllllllllllllllllllllllllllllllllllllllllllllllllllllllllllllllllllllllllllllllllllllllllllllllllllllllllllllllllllllllllllllllllllllllllllllllllllllllllllllllllllllllllllllllllllllllllllllllllllllllllllllllllllllllllllllllllllllllllllllllllllllllllllllllllllllllllllllllllllllllllllllllllllllllllllllllllllllllllllllllllllllllllllllllllllllllllllllllllllllllllllllllllllllllllllllllllllllllllllllllllllllllllllllllllllllllllllllllllllllllllllllllllllllllllllllllllllllllllllllllllllllllllllllllllllllll}\n",
       " V1 & V2 & V3 & V4 & V5 & V6 & V7 & V8 & V9 & V10 & ... & V2003 & V2004 & V2005 & V2006 & V2007 & V2008 & V2009 & V2010 & V2011 & V2012\\\\\n",
       "\\hline\n",
       "\t APCL\\_L0255 & APCL\\_L0255 & 0            & 0            & 0            & 1            & C            & T            & A            & G            & ...          & C            & A            & T            & A            & C            & G            & A            & G            & G            & A           \\\\\n",
       "\t APCL\\_L0256 & APCL\\_L0256 & 0            & 0            & 0            & 1            & C            & T            & A            & G            & ...          & C            & A            & T            & A            & C            & G            & A            & G            & G            & A           \\\\\n",
       "\t APCL\\_L0257 & APCL\\_L0257 & 0            & 0            & 0            & 1            & C            & T            & A            & G            & ...          & A            & A            & A            & A            & G            & G            & G            & G            & A            & A           \\\\\n",
       "\t APCL\\_L0258 & APCL\\_L0258 & 0            & 0            & 0            & 1            & C            & C            & A            & A            & ...          & C            & A            & T            & A            & C            & G            & A            & G            & G            & A           \\\\\n",
       "\t APCL\\_L0259 & APCL\\_L0259 & 0            & 0            & 0            & 1            & C            & C            & A            & G            & ...          & C            & A            & T            & A            & C            & G            & A            & G            & G            & A           \\\\\n",
       "\t APCL\\_L0260 & APCL\\_L0260 & 0            & 0            & 0            & 1            & C            & C            & G            & G            & ...          & C            & A            & T            & A            & C            & G            & A            & G            & G            & A           \\\\\n",
       "\\end{tabular}\n"
      ],
      "text/markdown": [
       "\n",
       "| V1 | V2 | V3 | V4 | V5 | V6 | V7 | V8 | V9 | V10 | ... | V2003 | V2004 | V2005 | V2006 | V2007 | V2008 | V2009 | V2010 | V2011 | V2012 |\n",
       "|---|---|---|---|---|---|---|---|---|---|---|---|---|---|---|---|---|---|---|---|---|\n",
       "| APCL_L0255 | APCL_L0255 | 0          | 0          | 0          | 1          | C          | T          | A          | G          | ...        | C          | A          | T          | A          | C          | G          | A          | G          | G          | A          |\n",
       "| APCL_L0256 | APCL_L0256 | 0          | 0          | 0          | 1          | C          | T          | A          | G          | ...        | C          | A          | T          | A          | C          | G          | A          | G          | G          | A          |\n",
       "| APCL_L0257 | APCL_L0257 | 0          | 0          | 0          | 1          | C          | T          | A          | G          | ...        | A          | A          | A          | A          | G          | G          | G          | G          | A          | A          |\n",
       "| APCL_L0258 | APCL_L0258 | 0          | 0          | 0          | 1          | C          | C          | A          | A          | ...        | C          | A          | T          | A          | C          | G          | A          | G          | G          | A          |\n",
       "| APCL_L0259 | APCL_L0259 | 0          | 0          | 0          | 1          | C          | C          | A          | G          | ...        | C          | A          | T          | A          | C          | G          | A          | G          | G          | A          |\n",
       "| APCL_L0260 | APCL_L0260 | 0          | 0          | 0          | 1          | C          | C          | G          | G          | ...        | C          | A          | T          | A          | C          | G          | A          | G          | G          | A          |\n",
       "\n"
      ],
      "text/plain": [
       "  V1         V2         V3 V4 V5 V6 V7 V8 V9 V10 ... V2003 V2004 V2005 V2006\n",
       "1 APCL_L0255 APCL_L0255 0  0  0  1  C  T  A  G   ... C     A     T     A    \n",
       "2 APCL_L0256 APCL_L0256 0  0  0  1  C  T  A  G   ... C     A     T     A    \n",
       "3 APCL_L0257 APCL_L0257 0  0  0  1  C  T  A  G   ... A     A     A     A    \n",
       "4 APCL_L0258 APCL_L0258 0  0  0  1  C  C  A  A   ... C     A     T     A    \n",
       "5 APCL_L0259 APCL_L0259 0  0  0  1  C  C  A  G   ... C     A     T     A    \n",
       "6 APCL_L0260 APCL_L0260 0  0  0  1  C  C  G  G   ... C     A     T     A    \n",
       "  V2007 V2008 V2009 V2010 V2011 V2012\n",
       "1 C     G     A     G     G     A    \n",
       "2 C     G     A     G     G     A    \n",
       "3 G     G     G     G     A     A    \n",
       "4 C     G     A     G     G     A    \n",
       "5 C     G     A     G     G     A    \n",
       "6 C     G     A     G     G     A    "
      ]
     },
     "metadata": {},
     "output_type": "display_data"
    }
   ],
   "source": [
    "#now read in the plink ped file and attach phenotypes\n",
    "ped <-read.table(\"~/ClownfishGWAS/script_output/ForMolEcoGroup.recode.ped\", sep=\"\\t\", header=F)\n",
    "head(ped)"
   ]
  },
  {
   "cell_type": "code",
   "execution_count": 32,
   "metadata": {},
   "outputs": [
    {
     "name": "stderr",
     "output_type": "stream",
     "text": [
      "Joining, by = \"sampligation_id\"\n"
     ]
    },
    {
     "data": {
      "text/html": [
       "<table>\n",
       "<thead><tr><th scope=col>V1</th><th scope=col>V2</th><th scope=col>V3</th><th scope=col>V4</th><th scope=col>V5</th><th scope=col>V6</th><th scope=col>V7</th><th scope=col>V8</th><th scope=col>V9</th><th scope=col>V10</th><th scope=col>...</th><th scope=col>V2003</th><th scope=col>V2004</th><th scope=col>V2005</th><th scope=col>V2006</th><th scope=col>V2007</th><th scope=col>V2008</th><th scope=col>V2009</th><th scope=col>V2010</th><th scope=col>V2011</th><th scope=col>V2012</th></tr></thead>\n",
       "<tbody>\n",
       "\t<tr><td>APCL_L0255</td><td>APCL_L0255</td><td>0         </td><td>0         </td><td>0         </td><td>1         </td><td>C         </td><td>T         </td><td>A         </td><td>G         </td><td>...       </td><td>C         </td><td>A         </td><td>T         </td><td>A         </td><td>C         </td><td>G         </td><td>A         </td><td>G         </td><td>G         </td><td>A         </td></tr>\n",
       "\t<tr><td>APCL_L0256</td><td>APCL_L0256</td><td>0         </td><td>0         </td><td>0         </td><td>1         </td><td>C         </td><td>T         </td><td>A         </td><td>G         </td><td>...       </td><td>C         </td><td>A         </td><td>T         </td><td>A         </td><td>C         </td><td>G         </td><td>A         </td><td>G         </td><td>G         </td><td>A         </td></tr>\n",
       "\t<tr><td>APCL_L0257</td><td>APCL_L0257</td><td>0         </td><td>0         </td><td>0         </td><td>1         </td><td>C         </td><td>T         </td><td>A         </td><td>G         </td><td>...       </td><td>A         </td><td>A         </td><td>A         </td><td>A         </td><td>G         </td><td>G         </td><td>G         </td><td>G         </td><td>A         </td><td>A         </td></tr>\n",
       "\t<tr><td>APCL_L0258</td><td>APCL_L0258</td><td>0         </td><td>0         </td><td>0         </td><td>1         </td><td>C         </td><td>C         </td><td>A         </td><td>A         </td><td>...       </td><td>C         </td><td>A         </td><td>T         </td><td>A         </td><td>C         </td><td>G         </td><td>A         </td><td>G         </td><td>G         </td><td>A         </td></tr>\n",
       "\t<tr><td>APCL_L0259</td><td>APCL_L0259</td><td>0         </td><td>0         </td><td>0         </td><td>1         </td><td>C         </td><td>C         </td><td>A         </td><td>G         </td><td>...       </td><td>C         </td><td>A         </td><td>T         </td><td>A         </td><td>C         </td><td>G         </td><td>A         </td><td>G         </td><td>G         </td><td>A         </td></tr>\n",
       "\t<tr><td>APCL_L0260</td><td>APCL_L0260</td><td>0         </td><td>0         </td><td>0         </td><td>1         </td><td>C         </td><td>C         </td><td>G         </td><td>G         </td><td>...       </td><td>C         </td><td>A         </td><td>T         </td><td>A         </td><td>C         </td><td>G         </td><td>A         </td><td>G         </td><td>G         </td><td>A         </td></tr>\n",
       "</tbody>\n",
       "</table>\n"
      ],
      "text/latex": [
       "\\begin{tabular}{r|llllllllllllllllllllllllllllllllllllllllllllllllllllllllllllllllllllllllllllllllllllllllllllllllllllllllllllllllllllllllllllllllllllllllllllllllllllllllllllllllllllllllllllllllllllllllllllllllllllllllllllllllllllllllllllllllllllllllllllllllllllllllllllllllllllllllllllllllllllllllllllllllllllllllllllllllllllllllllllllllllllllllllllllllllllllllllllllllllllllllllllllllllllllllllllllllllllllllllllllllllllllllllllllllllllllllllllllllllllllllllllllllllllllllllllllllllllllllllllllllllllllllllllllllllllllllllllllllllllllllllllllllllllllllllllllllllllllllllllllllllllllllllllllllllllllllllllllllllllllllllllllllllllllllllllllllllllllllllllllllllllllllllllllllllllllllllllllllllllllllllllllllllllllllllllllllllllllllllllllllllllllllllllllllllllllllllllllllllllllllllllllllllllllllllllllllllllllllllllllllllllllllllllllllllllllllllllllllllllllllllllllllllllllllllllllllllllllllllllllllllllllllllllllllllllllllllllllllllllllllllllllllllllllllllllllllllllllllllllllllllllllllllllllllllllllllllllllllllllllllllllllllllllllllllllllllllllllllllllllllllllllllllllllllllllllllllllllllllllllllllllllllllllllllllllllllllllllllllllllllllllllllllllllllllllllllllllllllllllllllllllllllllllllllllllllllllllllllllllllllllllllllllllllllllllllllllllllllllllllllllllllllllllllllllllllllllllllllllllllllllllllllllllllllllllllllllllllllllllllllllllllllllllllllllllllllllllllllllllllllllllllllllllllllllllllllllllllllllllllllllllllllllllllllllllllllllllllllllllllllllllllllllllllllllllllllllllllllllllllllllllllllllllllllllllllllllllllllllllllllllllllllllllllllllllllllllllllllllllllllllllllllllllllllllllllllllllllllllllllllllllllllllllllllllllllllllllllllllllllllllllllllllllllllllllllllllllllllllllllllllllllllllllllllllllllllllllllllllllllllllllllllllllllllllllllllllllllllllllllllllllllllllllllllllllllllllllllllllllllllllllllllllllllllllllllllllllllllllllllllllllllllllllllllllllllllllllllllllllllllllllllllllllllllllllllllllllllllllllllllllllllllllllllllllllllllllllllllllllllllllllllllllllllllllllllllllllllllllllllllllllllllllll}\n",
       " V1 & V2 & V3 & V4 & V5 & V6 & V7 & V8 & V9 & V10 & ... & V2003 & V2004 & V2005 & V2006 & V2007 & V2008 & V2009 & V2010 & V2011 & V2012\\\\\n",
       "\\hline\n",
       "\t APCL\\_L0255 & APCL\\_L0255 & 0            & 0            & 0            & 1            & C            & T            & A            & G            & ...          & C            & A            & T            & A            & C            & G            & A            & G            & G            & A           \\\\\n",
       "\t APCL\\_L0256 & APCL\\_L0256 & 0            & 0            & 0            & 1            & C            & T            & A            & G            & ...          & C            & A            & T            & A            & C            & G            & A            & G            & G            & A           \\\\\n",
       "\t APCL\\_L0257 & APCL\\_L0257 & 0            & 0            & 0            & 1            & C            & T            & A            & G            & ...          & A            & A            & A            & A            & G            & G            & G            & G            & A            & A           \\\\\n",
       "\t APCL\\_L0258 & APCL\\_L0258 & 0            & 0            & 0            & 1            & C            & C            & A            & A            & ...          & C            & A            & T            & A            & C            & G            & A            & G            & G            & A           \\\\\n",
       "\t APCL\\_L0259 & APCL\\_L0259 & 0            & 0            & 0            & 1            & C            & C            & A            & G            & ...          & C            & A            & T            & A            & C            & G            & A            & G            & G            & A           \\\\\n",
       "\t APCL\\_L0260 & APCL\\_L0260 & 0            & 0            & 0            & 1            & C            & C            & G            & G            & ...          & C            & A            & T            & A            & C            & G            & A            & G            & G            & A           \\\\\n",
       "\\end{tabular}\n"
      ],
      "text/markdown": [
       "\n",
       "| V1 | V2 | V3 | V4 | V5 | V6 | V7 | V8 | V9 | V10 | ... | V2003 | V2004 | V2005 | V2006 | V2007 | V2008 | V2009 | V2010 | V2011 | V2012 |\n",
       "|---|---|---|---|---|---|---|---|---|---|---|---|---|---|---|---|---|---|---|---|---|\n",
       "| APCL_L0255 | APCL_L0255 | 0          | 0          | 0          | 1          | C          | T          | A          | G          | ...        | C          | A          | T          | A          | C          | G          | A          | G          | G          | A          |\n",
       "| APCL_L0256 | APCL_L0256 | 0          | 0          | 0          | 1          | C          | T          | A          | G          | ...        | C          | A          | T          | A          | C          | G          | A          | G          | G          | A          |\n",
       "| APCL_L0257 | APCL_L0257 | 0          | 0          | 0          | 1          | C          | T          | A          | G          | ...        | A          | A          | A          | A          | G          | G          | G          | G          | A          | A          |\n",
       "| APCL_L0258 | APCL_L0258 | 0          | 0          | 0          | 1          | C          | C          | A          | A          | ...        | C          | A          | T          | A          | C          | G          | A          | G          | G          | A          |\n",
       "| APCL_L0259 | APCL_L0259 | 0          | 0          | 0          | 1          | C          | C          | A          | G          | ...        | C          | A          | T          | A          | C          | G          | A          | G          | G          | A          |\n",
       "| APCL_L0260 | APCL_L0260 | 0          | 0          | 0          | 1          | C          | C          | G          | G          | ...        | C          | A          | T          | A          | C          | G          | A          | G          | G          | A          |\n",
       "\n"
      ],
      "text/plain": [
       "  V1         V2         V3 V4 V5 V6 V7 V8 V9 V10 ... V2003 V2004 V2005 V2006\n",
       "1 APCL_L0255 APCL_L0255 0  0  0  1  C  T  A  G   ... C     A     T     A    \n",
       "2 APCL_L0256 APCL_L0256 0  0  0  1  C  T  A  G   ... C     A     T     A    \n",
       "3 APCL_L0257 APCL_L0257 0  0  0  1  C  T  A  G   ... A     A     A     A    \n",
       "4 APCL_L0258 APCL_L0258 0  0  0  1  C  C  A  A   ... C     A     T     A    \n",
       "5 APCL_L0259 APCL_L0259 0  0  0  1  C  C  A  G   ... C     A     T     A    \n",
       "6 APCL_L0260 APCL_L0260 0  0  0  1  C  C  G  G   ... C     A     T     A    \n",
       "  V2007 V2008 V2009 V2010 V2011 V2012\n",
       "1 C     G     A     G     G     A    \n",
       "2 C     G     A     G     G     A    \n",
       "3 G     G     G     G     A     A    \n",
       "4 C     G     A     G     G     A    \n",
       "5 C     G     A     G     G     A    \n",
       "6 C     G     A     G     G     A    "
      ]
     },
     "metadata": {},
     "output_type": "display_data"
    }
   ],
   "source": [
    "#pull out just the sampligation_id and anem phenotype and then order like what's in the ped file\n",
    "test <- (AnemSppLigIDs %>% select(sampligation_id, anem_spp_binary) %>% arrange(sampligation_id))\n",
    "ordered_phenotypes <- left_join(ped %>% select(1) %>% rename(sampligation_id=\"V1\"), test)\n",
    "#then substitute the anem phenotype column in for the 6th column of the ped file, which is where the phenotype goes\n",
    "ped[,6] <- ordered_phenotypes$anem_spp_binary\n",
    "head(ped)"
   ]
  },
  {
   "cell_type": "code",
   "execution_count": 33,
   "metadata": {},
   "outputs": [],
   "source": [
    "#now write out for plink analysis\n",
    "write.table(ped, file=\"~/ClownfishGWAS/script_output/ForMolEcoGroup.recode.ped\", row.names = F, col.names = F, sep=\"\\t\", quote=F)"
   ]
  },
  {
   "cell_type": "code",
   "execution_count": null,
   "metadata": {},
   "outputs": [],
   "source": [
    "#hmmm. I'm now realizing that we don't want any related individuals messing up the association study so they need to be removed, duh."
   ]
  },
  {
   "cell_type": "code",
   "execution_count": null,
   "metadata": {},
   "outputs": [],
   "source": []
  }
 ],
 "metadata": {
  "kernelspec": {
   "display_name": "R",
   "language": "R",
   "name": "ir"
  },
  "language_info": {
   "codemirror_mode": "r",
   "file_extension": ".r",
   "mimetype": "text/x-r-source",
   "name": "R",
   "pygments_lexer": "r",
   "version": "3.6.1"
  }
 },
 "nbformat": 4,
 "nbformat_minor": 4
}
