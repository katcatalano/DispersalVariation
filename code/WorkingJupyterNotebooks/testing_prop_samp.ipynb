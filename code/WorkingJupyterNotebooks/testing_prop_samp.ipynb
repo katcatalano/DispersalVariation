{
 "cells": [
  {
   "cell_type": "code",
   "execution_count": 1,
   "metadata": {},
   "outputs": [],
   "source": [
    "#iteratively downsample the input to the kernelt fitting parameters, generate a null disribution of kernels \n",
    "Packages <- c(\"dplyr\",\"cubature\", \"stringr\",\"pracma\",\"data.table\", \"gridExtra\",\"viridis\", \"ggsignif\", \"broom\", \"ggpubr\", \"caret\",\"cowplot\",\"ggplot2\",\"fields\",\"bbmle\", \"dplyr\", \"tidyr\", \"lubridate\", \"RColorBrewer\")\n",
    "\n",
    "invisible(suppressPackageStartupMessages(lapply(Packages, library, character.only = TRUE)))\n",
    "\n",
    "setwd('/local/home/katrinac/parentage/kernel_fitting/')\n",
    "\n",
    "\n",
    "load(\"~/parentage/r_data/total_sampling_across_years.RData\")\n",
    "load(\"~/parentage/r_data/sampled_area_each_year.RData\")\n",
    "load(\"~/parentage/r_data/cumulative_prop_hab_sampled_by_site.RData\")\n",
    "\n",
    "\n",
    "#download.file(url = \"https://github.com/pinskylab/genomics/blob/master/data/fish-obs.RData?raw=true\", destfile = \"~/parentage/r_data/fish-obs.RData\")\n",
    "fish_obs <- readRDS(\"~/parentage/r_data/fish-obs.RData\") \n",
    "load(\"~/parentage/r_data/site_dist_info.RData\")\n",
    "#download.file(url = \"https://github.com/pinskylab/Clownfish_persistence/blob/master/Data/Data_from_database/anem_db.RData?raw=true\", destfile = \"~/parentage/r_data/anem_db.RData\")\n",
    "load(\"~/parentage/r_data/anem_db.RData\")\n",
    "#download.file(url = \"https://github.com/pinskylab/Clownfish_persistence/blob/master/Data/Data_from_database/dives_db.RData?raw=true\", destfile = \"~/parentage/r_data/dives_db.RData\")\n",
    "load(\"~/parentage/r_data/dives_db.RData\")\n",
    "#download.file(url = \"https://github.com/pinskylab/Clownfish_persistence/blob/master/Data/Data_from_database/fish_db.RData?raw=true\", destfile = \"~/parentage/r_data/dives_db.RData\")\n",
    "load(\"~/parentage/r_data/fish_db.RData\")\n",
    "load(\"~/parentage/r_data/gps_db.RData\")\n",
    "\n",
    "\n",
    "source(\"~/scripts/get_latlon.R\")\n",
    "source(\"~/scripts/get_date.R\")\n",
    "source(\"~/scripts/get_samp.R\")\n",
    "source(\"~/scripts/anem_meta.R\")\n",
    "source(\"~/scripts/get_fish.R\")\n",
    "source(\"~/scripts/get_lig.R\")\n",
    "source(\"~/parentage/kernel_fitting/1340_loci/functions/ll_kt_both_bbmle.R\")\n",
    "source(\"~/parentage/kernel_fitting/1340_loci/functions/ll_kt_both_grid_search.R\")\n",
    "source(\"~/parentage/kernel_fitting/1340_loci/functions/ll_kt_both_optim.R\")\n",
    "source(\"~/parentage/kernel_fitting/1340_loci/functions/GenGausKernInt_sum0.5.R\") #integrate_kernel_sum1\n",
    "source(\"~/parentage/kernel_fitting/1340_loci/functions/GenGausKernInt_sum1.R\") #integrate_kernel_sum0.5\n",
    "\n",
    "\n",
    "\"%!in%\" <- function(x,table) match(x,table, nomatch = 0) == 0\n",
    "\n"
   ]
  },
  {
   "cell_type": "code",
   "execution_count": 9,
   "metadata": {},
   "outputs": [
    {
     "data": {
      "text/html": [
       "<table>\n",
       "<thead><tr><th scope=col>dive_table_id</th><th scope=col>dive_num</th><th scope=col>dive_type</th><th scope=col>date</th><th scope=col>site</th><th scope=col>municipality</th><th scope=col>gps</th><th scope=col>divers</th><th scope=col>start_time</th><th scope=col>end_time</th><th scope=col>...</th><th scope=col>tide</th><th scope=col>topo_m</th><th scope=col>depth_top_m</th><th scope=col>depth_bottom_m</th><th scope=col>cover</th><th scope=col>dive_notes</th><th scope=col>dive_correction</th><th scope=col>dive_corr_date</th><th scope=col>dive_corr_editor</th><th scope=col>dive_corr_message</th></tr></thead>\n",
       "<tbody>\n",
       "\t<tr><td>188              </td><td>24               </td><td>A                </td><td>2015-01-20       </td><td>Sitio Baybayon   </td><td>BayBay           </td><td>4                </td><td>PHF              </td><td>12:36:00         </td><td>14:44:00         </td><td>...              </td><td>NA               </td><td>NA               </td><td>NA               </td><td>NA               </td><td>NA               </td><td>NA               </td><td>NA               </td><td>NA               </td><td>NA               </td><td>NA               </td></tr>\n",
       "\t<tr><td>187              </td><td>24               </td><td>A                </td><td>2015-01-20       </td><td>Sitio Baybayon   </td><td>BayBay           </td><td>3                </td><td>G_S              </td><td>12:36:00         </td><td>14:52:00         </td><td>...              </td><td>NA               </td><td>NA               </td><td>NA               </td><td>NA               </td><td>NA               </td><td>NA               </td><td>NA               </td><td>NA               </td><td>NA               </td><td>NA               </td></tr>\n",
       "\t<tr><td>186              </td><td>24               </td><td>A                </td><td>2015-01-20       </td><td>Sitio Baybayon   </td><td>BayBay           </td><td>2                </td><td>JAH              </td><td>12:38:00         </td><td>14:58:00         </td><td>...              </td><td>NA               </td><td>NA               </td><td>NA               </td><td>NA               </td><td>NA               </td><td>NA               </td><td>NA               </td><td>NA               </td><td>NA               </td><td>NA               </td></tr>\n",
       "\t<tr><td>185              </td><td>23               </td><td>A                </td><td>2015-01-20       </td><td>Haina            </td><td>BayBay           </td><td>5                </td><td>MRS              </td><td>09:08:00         </td><td>10:40:00         </td><td>...              </td><td>rising           </td><td>6                </td><td> 1               </td><td> 7               </td><td>branching corals </td><td>anemone survey   </td><td>NA               </td><td>NA               </td><td>NA               </td><td>NA               </td></tr>\n",
       "\t<tr><td>183              </td><td>23               </td><td>A                </td><td>2015-01-20       </td><td>Haina            </td><td>BayBay           </td><td>3                </td><td>G_S              </td><td>08:52:00         </td><td>10:47:00         </td><td>...              </td><td>NA               </td><td>NA               </td><td>NA               </td><td>NA               </td><td>NA               </td><td>NA               </td><td>NA               </td><td>NA               </td><td>NA               </td><td>NA               </td></tr>\n",
       "\t<tr><td>182              </td><td>23               </td><td>A                </td><td>2015-01-20       </td><td>Haina            </td><td>BayBay           </td><td>2                </td><td>JAH              </td><td>09:09:00         </td><td>10:43:00         </td><td>...              </td><td>rising           </td><td>6                </td><td> 1               </td><td> 7               </td><td>branching corals </td><td>anemone survey   </td><td>NA               </td><td>NA               </td><td>NA               </td><td>NA               </td></tr>\n",
       "</tbody>\n",
       "</table>\n"
      ],
      "text/latex": [
       "\\begin{tabular}{r|lllllllllllllllllllllllllllll}\n",
       " dive\\_table\\_id & dive\\_num & dive\\_type & date & site & municipality & gps & divers & start\\_time & end\\_time & ... & tide & topo\\_m & depth\\_top\\_m & depth\\_bottom\\_m & cover & dive\\_notes & dive\\_correction & dive\\_corr\\_date & dive\\_corr\\_editor & dive\\_corr\\_message\\\\\n",
       "\\hline\n",
       "\t 188               & 24                & A                 & 2015-01-20        & Sitio Baybayon    & BayBay            & 4                 & PHF               & 12:36:00          & 14:44:00          & ...               & NA                & NA                & NA                & NA                & NA                & NA                & NA                & NA                & NA                & NA               \\\\\n",
       "\t 187               & 24                & A                 & 2015-01-20        & Sitio Baybayon    & BayBay            & 3                 & G\\_S             & 12:36:00          & 14:52:00          & ...               & NA                & NA                & NA                & NA                & NA                & NA                & NA                & NA                & NA                & NA               \\\\\n",
       "\t 186               & 24                & A                 & 2015-01-20        & Sitio Baybayon    & BayBay            & 2                 & JAH               & 12:38:00          & 14:58:00          & ...               & NA                & NA                & NA                & NA                & NA                & NA                & NA                & NA                & NA                & NA               \\\\\n",
       "\t 185               & 23                & A                 & 2015-01-20        & Haina             & BayBay            & 5                 & MRS               & 09:08:00          & 10:40:00          & ...               & rising            & 6                 &  1                &  7                & branching corals  & anemone survey    & NA                & NA                & NA                & NA               \\\\\n",
       "\t 183               & 23                & A                 & 2015-01-20        & Haina             & BayBay            & 3                 & G\\_S             & 08:52:00          & 10:47:00          & ...               & NA                & NA                & NA                & NA                & NA                & NA                & NA                & NA                & NA                & NA               \\\\\n",
       "\t 182               & 23                & A                 & 2015-01-20        & Haina             & BayBay            & 2                 & JAH               & 09:09:00          & 10:43:00          & ...               & rising            & 6                 &  1                &  7                & branching corals  & anemone survey    & NA                & NA                & NA                & NA               \\\\\n",
       "\\end{tabular}\n"
      ],
      "text/markdown": [
       "\n",
       "| dive_table_id | dive_num | dive_type | date | site | municipality | gps | divers | start_time | end_time | ... | tide | topo_m | depth_top_m | depth_bottom_m | cover | dive_notes | dive_correction | dive_corr_date | dive_corr_editor | dive_corr_message |\n",
       "|---|---|---|---|---|---|---|---|---|---|---|---|---|---|---|---|---|---|---|---|---|\n",
       "| 188               | 24                | A                 | 2015-01-20        | Sitio Baybayon    | BayBay            | 4                 | PHF               | 12:36:00          | 14:44:00          | ...               | NA                | NA                | NA                | NA                | NA                | NA                | NA                | NA                | NA                | NA                |\n",
       "| 187               | 24                | A                 | 2015-01-20        | Sitio Baybayon    | BayBay            | 3                 | G_S               | 12:36:00          | 14:52:00          | ...               | NA                | NA                | NA                | NA                | NA                | NA                | NA                | NA                | NA                | NA                |\n",
       "| 186               | 24                | A                 | 2015-01-20        | Sitio Baybayon    | BayBay            | 2                 | JAH               | 12:38:00          | 14:58:00          | ...               | NA                | NA                | NA                | NA                | NA                | NA                | NA                | NA                | NA                | NA                |\n",
       "| 185               | 23                | A                 | 2015-01-20        | Haina             | BayBay            | 5                 | MRS               | 09:08:00          | 10:40:00          | ...               | rising            | 6                 |  1                |  7                | branching corals  | anemone survey    | NA                | NA                | NA                | NA                |\n",
       "| 183               | 23                | A                 | 2015-01-20        | Haina             | BayBay            | 3                 | G_S               | 08:52:00          | 10:47:00          | ...               | NA                | NA                | NA                | NA                | NA                | NA                | NA                | NA                | NA                | NA                |\n",
       "| 182               | 23                | A                 | 2015-01-20        | Haina             | BayBay            | 2                 | JAH               | 09:09:00          | 10:43:00          | ...               | rising            | 6                 |  1                |  7                | branching corals  | anemone survey    | NA                | NA                | NA                | NA                |\n",
       "\n"
      ],
      "text/plain": [
       "  dive_table_id dive_num dive_type date       site           municipality gps\n",
       "1 188           24       A         2015-01-20 Sitio Baybayon BayBay       4  \n",
       "2 187           24       A         2015-01-20 Sitio Baybayon BayBay       3  \n",
       "3 186           24       A         2015-01-20 Sitio Baybayon BayBay       2  \n",
       "4 185           23       A         2015-01-20 Haina          BayBay       5  \n",
       "5 183           23       A         2015-01-20 Haina          BayBay       3  \n",
       "6 182           23       A         2015-01-20 Haina          BayBay       2  \n",
       "  divers start_time end_time ... tide   topo_m depth_top_m depth_bottom_m\n",
       "1 PHF    12:36:00   14:44:00 ... NA     NA     NA          NA            \n",
       "2 G_S    12:36:00   14:52:00 ... NA     NA     NA          NA            \n",
       "3 JAH    12:38:00   14:58:00 ... NA     NA     NA          NA            \n",
       "4 MRS    09:08:00   10:40:00 ... rising 6       1           7            \n",
       "5 G_S    08:52:00   10:47:00 ... NA     NA     NA          NA            \n",
       "6 JAH    09:09:00   10:43:00 ... rising 6       1           7            \n",
       "  cover             dive_notes     dive_correction dive_corr_date\n",
       "1 NA                NA             NA              NA            \n",
       "2 NA                NA             NA              NA            \n",
       "3 NA                NA             NA              NA            \n",
       "4 branching corals  anemone survey NA              NA            \n",
       "5 NA                NA             NA              NA            \n",
       "6 branching corals  anemone survey NA              NA            \n",
       "  dive_corr_editor dive_corr_message\n",
       "1 NA               NA               \n",
       "2 NA               NA               \n",
       "3 NA               NA               \n",
       "4 NA               NA               \n",
       "5 NA               NA               \n",
       "6 NA               NA               "
      ]
     },
     "metadata": {},
     "output_type": "display_data"
    }
   ],
   "source": [
    "head(dives_db)"
   ]
  },
  {
   "cell_type": "code",
   "execution_count": 2,
   "metadata": {},
   "outputs": [
    {
     "data": {
      "text/html": [
       "<table>\n",
       "<thead><tr><th scope=col>month</th><th scope=col>year</th><th scope=col>n</th></tr></thead>\n",
       "<tbody>\n",
       "\t<tr><td>3   </td><td>2018</td><td>93  </td></tr>\n",
       "\t<tr><td>4   </td><td>2018</td><td>11  </td></tr>\n",
       "\t<tr><td>7   </td><td>2014</td><td> 4  </td></tr>\n",
       "</tbody>\n",
       "</table>\n"
      ],
      "text/latex": [
       "\\begin{tabular}{r|lll}\n",
       " month & year & n\\\\\n",
       "\\hline\n",
       "\t 3    & 2018 & 93  \\\\\n",
       "\t 4    & 2018 & 11  \\\\\n",
       "\t 7    & 2014 &  4  \\\\\n",
       "\\end{tabular}\n"
      ],
      "text/markdown": [
       "\n",
       "| month | year | n |\n",
       "|---|---|---|\n",
       "| 3    | 2018 | 93   |\n",
       "| 4    | 2018 | 11   |\n",
       "| 7    | 2014 |  4   |\n",
       "\n"
      ],
      "text/plain": [
       "  month year n \n",
       "1 3     2018 93\n",
       "2 4     2018 11\n",
       "3 7     2014  4"
      ]
     },
     "metadata": {},
     "output_type": "display_data"
    }
   ],
   "source": [
    "(dives_db %>%\n",
    "        mutate(date=ymd(date)) %>%\n",
    "        mutate(month=month(date)) %>%\n",
    "        mutate(year=year(date)) %>%\n",
    "         filter(dive_type==\"C\") %>%\n",
    "        group_by(month, year) %>%\n",
    "        summarise(n=n()) %>%\n",
    "        filter(month %!in% c(5, 6)))"
   ]
  },
  {
   "cell_type": "code",
   "execution_count": 3,
   "metadata": {},
   "outputs": [
    {
     "data": {
      "text/html": [
       "35"
      ],
      "text/latex": [
       "35"
      ],
      "text/markdown": [
       "35"
      ],
      "text/plain": [
       "[1] 35"
      ]
     },
     "metadata": {},
     "output_type": "display_data"
    },
    {
     "name": "stderr",
     "output_type": "stream",
     "text": [
      "Warning message:\n",
      "“ 2 failed to parse.”"
     ]
    },
    {
     "data": {
      "text/html": [
       "0.04"
      ],
      "text/latex": [
       "0.04"
      ],
      "text/markdown": [
       "0.04"
      ],
      "text/plain": [
       "[1] 0.04"
      ]
     },
     "metadata": {},
     "output_type": "display_data"
    }
   ],
   "source": [
    "#read in demography estimates\n",
    "prop_samp <- cumulative_prop_hab_sampled_by_site %>%\n",
    "    mutate(total_possible_sample_anems = ifelse(site==\"Caridad Proper\", 4, total_possible_sample_anems) ) %>%\n",
    "    mutate(total_prop_hab_sampled_anems_tidied= ifelse(site==\"Caridad Proper\" & total_anems_sampled==4, 1, total_prop_hab_sampled_anems_tidied) ) %>%\n",
    "    mutate(total_possible_sample_anems = ifelse(site==\"Sitio Lonas\", total_anems_sampled, total_possible_sample_anems) ) %>%\n",
    "    mutate(total_prop_hab_sampled_anems_tidied= ifelse(site==\"Sitio Lonas\", 1, total_prop_hab_sampled_anems_tidied) )\n",
    "\n",
    "\n",
    "\n",
    "prop_samp$site <- gsub(\". \", \".\", prop_samp$site, fixed=TRUE)\n",
    "\n",
    "#add in sites that were sampled but there was no match\n",
    "for(i in 1:nrow(prop_samp)){\n",
    "    \n",
    "    \n",
    "    if(is.nan(prop_samp$total_prop_hab_sampled_anems_tidied[i])){prop_samp$total_prop_hab_sampled_anems_tidied[i] <- 0} \n",
    "    if(is.infinite(prop_samp$total_prop_hab_sampled_anems_tidied[i])){prop_samp$total_prop_hab_sampled_anems_tidied[i] <- 1}\n",
    "    \n",
    "    \n",
    "}\n",
    "\n",
    "\n",
    "prop_samp <- prop_samp %>%\n",
    "    filter(time_frame==\"2012-2018\" & total_prop_hab_sampled_anems_tidied >0) %>%\n",
    "    select(site, total_prop_hab_sampled_anems_tidied)\n",
    "\n",
    "\n",
    "centroids <- read.csv(\"~/parentage/kernel_fitting/1340_loci/input/site_centroids.csv\", header=TRUE)\n",
    "sampled_sites <- prop_samp %>% select(site) %>% distinct(site)\n",
    "sampled_sites$site <- gsub(\". \", \".\", sampled_sites$site, fixed=TRUE)\n",
    "site_widths <- read.table(\"/local/home/katrinac/parentage/text_file/site_widths.txt\", header=T, sep=\",\")\n",
    "\n",
    "#index sites to get pop numbers\n",
    "all_sites <- centroids %>%\n",
    "    select(site) %>%\n",
    "    arrange(site)\n",
    "nrow(all_sites) #should be 35x1\n",
    "all_sites$index <- seq(from=1, to=35, by=1)\n",
    "\n",
    "\n",
    "\n",
    "#parentage results\n",
    "par_res <- read.csv(file=\"~/parentage/colony2/20190523_1340loci/results/parentage_results_allyears.csv\", header= T)\n",
    "\n",
    "\n",
    "N_gen_par <- read.table(file=\"~/parentage/colony2/20190523_1340loci/input/all_parents_corrected.txt\", header = TRUE, stringsAsFactors = F) %>%\n",
    "    mutate(input=\"offspring\")\n",
    "\n",
    "N_gen_offs <- read.table(file=\"~/parentage/colony2/20190523_1340loci/input/all_offspring_corrected.txt\", header=T, stringsAsFactors = F) %>%\n",
    "    mutate(input=\"parent\")\n",
    "\n",
    "fish_sampled <- bind_rows(N_gen_par, N_gen_offs) %>%\n",
    "    mutate(fish_indiv=as.character(fish_indiv)) %>%\n",
    "    select(-ligation_id, -gen_id) \n",
    "\n",
    "fish_loc <- get_latlon(fish_sampled$sample_id) %>%\n",
    "    filter(!is.na(sample_id))\n",
    "\n",
    "\n",
    "SampledFish <- left_join(fish_sampled, fish_loc, by=\"sample_id\") %>%\n",
    "    select(fish_indiv, color, sex, size, input, site)\n",
    "\n",
    "SampledFish$site <- gsub(\". \", \".\", SampledFish$site, fixed=TRUE)\n",
    "\n",
    "\n",
    "4/100"
   ]
  },
  {
   "cell_type": "code",
   "execution_count": 4,
   "metadata": {},
   "outputs": [
    {
     "name": "stdout",
     "output_type": "stream",
     "text": [
      "  |======================================================================| 100%\n"
     ]
    },
    {
     "data": {
      "text/plain": [
       "Time difference of 4.567916 mins"
      ]
     },
     "metadata": {},
     "output_type": "display_data"
    }
   ],
   "source": [
    "\n",
    "\n",
    "NSampOffs <- nrow(N_gen_offs)*(.0789) #increase prob of finding match by 25% because trimming the matrices looses matches at about a rate of 25%\n",
    "\n",
    "#make an empty data frame to hold simulated values\n",
    "col <- c(\"best_k\", \"best_theta\",\"iteration\")\n",
    "SimulatedKernels <- as.data.frame(matrix(nrow=0, ncol=3), stringsAsFactors = FALSE)\n",
    "colnames(SimulatedKernels) <- col\n",
    "sites <- sampled_sites\n",
    "\n",
    "#don't print warnings for this loop\n",
    "options(warn=-1)\n",
    "\n",
    "pb <- txtProgressBar(min = 0, max = 100, style = 3)\n",
    "\n",
    "StartTime <- Sys.time()\n",
    "\n",
    "for(n in 1:100){\n",
    "\n",
    "prop <- n/100 \n",
    "#make fake kernel data\n",
    "    \n",
    "#now sample 7.89% of parents and offspring (2 separate tables), join them together to make a null \"parentage table\"\n",
    "NSampOffs <- nrow(N_gen_offs)*(.0789)\n",
    "NullOffs_beta <- SampledFish %>%\n",
    "    sample_frac(n/100) \n",
    "\n",
    "NSampOffs <- nrow(NullOffs_beta)*(.0789)\n",
    "\n",
    "NullOffs <- NullOffs_beta %>%\n",
    "    filter(input==\"offspring\" )  %>%\n",
    "    sample_n(NSampOffs, replace=FALSE)\n",
    "colnames(NullOffs) <- paste(\"offs\", colnames(NullOffs),sep=\"_\")\n",
    "\n",
    "NullPar <- SampledFish %>%\n",
    "    sample_frac(n/100) %>%\n",
    "    filter(input==\"parent\") %>%\n",
    "    sample_n(nrow(NullOffs), replace=FALSE)\n",
    "\n",
    "colnames(NullPar) <- paste(\"par\", colnames(NullPar),sep=\"_\")\n",
    "\n",
    "NullParentage <- bind_cols(NullPar, NullOffs) \n",
    "\n",
    "NullParentage$offs_site <- gsub(\". \", \".\",NullParentage$offs_site, fixed=TRUE)\n",
    "NullParentage$par_site <- gsub(\". \", \".\", NullParentage$par_site, fixed=TRUE)\n",
    "\n",
    "\n",
    "#now break up into parentage per year\n",
    "\n",
    "par <- NullParentage #percentage of the simulated data to sample?\n",
    "\n",
    "    \n",
    "total_par <- par %>%\n",
    "    group_by(offs_site, par_site) %>%\n",
    "    summarise(n_matches=n()) %>%\n",
    "    ungroup() \n",
    "\n",
    "\n",
    "sites_all_beta <- sampled_sites %>%\n",
    "    rename(par_site = \"site\") \n",
    "#undo here if there's a mistake 06/04/2019\n",
    "sites_all_beta$offs_site <- sites_all_beta$par_site\n",
    "\n",
    "allsites_parentage <- full_join(sites_all_beta, total_par, by=c(\"par_site\", \"offs_site\")) %>%\n",
    "    group_by(offs_site, par_site) %>%\n",
    "    filter(row_number()==1) %>%\n",
    "    arrange(offs_site, par_site)\n",
    "\n",
    "\n",
    "#turn into a matrix of the correct format\n",
    "parmat <- allsites_parentage %>% \n",
    "    filter(!is.na(offs_site) & !is.na(par_site)) %>%\n",
    "    group_by(offs_site, par_site) %>%\n",
    "    filter(row_number()==1) %>%\n",
    "    spread(offs_site, n_matches)\n",
    "\n",
    "##change NAs to 0\n",
    "parmat[is.na(parmat)] <- 0\n",
    "rownames(parmat) <- suppressWarnings(parmat$site)\n",
    "parmat$par_site <- NULL\n",
    "\n",
    "parmat <- (parmat[1:18, 1:18])\n",
    "\n",
    "#add in the unassigned juveniles\n",
    "N_gen_offs_all <- SampledFish %>% \n",
    "    sample_frac(n/100) %>%\n",
    "    filter(input==\"offspring\") %>%\n",
    "    group_by(site) %>%\n",
    "    summarise(n_offs_gen=n())\n",
    "\n",
    "\n",
    "N_gen_offs2 <- N_gen_offs_all %>%\n",
    "    group_by(site) %>% #add group by year if doing annual\n",
    "    summarise(sampled_fish=sum(n_offs_gen)) \n",
    "\n",
    "\n",
    "#make dataframe with column for unassigned juveniles in each column (offspring site)\n",
    "offs_matched_site <- allsites_parentage %>%\n",
    "    group_by(offs_site) %>%\n",
    "    summarise(n_offs=sum(n_matches, na.rm=T))\n",
    "\n",
    "unassigned_beta <- semi_join(offs_matched_site, sites, by=c(offs_site=\"site\")) %>%\n",
    "    ungroup() %>%\n",
    "    select(offs_site, n_offs)\n",
    "\n",
    "unassigned_beta[is.na(unassigned_beta)] <- 0\n",
    "\n",
    "\n",
    "net_unassigned <- left_join(unassigned_beta, N_gen_offs2, by=c(offs_site=\"site\")) %>%\n",
    "    mutate(n_unassigned=sampled_fish-n_offs)\n",
    "#transpose to create a row, bind to the matrix\n",
    "\n",
    "row2add <- net_unassigned %>%\n",
    "    arrange(offs_site) %>%\n",
    "    select(n_unassigned, offs_site) %>%\n",
    "    group_by(offs_site) %>%\n",
    "    filter(row_number()==1) %>%\n",
    "    ungroup() %>%\n",
    "    select(n_unassigned)\n",
    "row2addT <- as.data.frame(t(row2add))\n",
    "colnames(row2addT) <- colnames(parmat)\n",
    "\n",
    "parmat <- ungroup(parmat)\n",
    "parmat_full <- bind_rows(parmat, row2addT)\n",
    "parmat_full[is.na(parmat_full)] <- 0\n",
    "\n",
    "\n",
    "Assignments <- parmat_full\n",
    "Adult_sample_proportions <- as.matrix(read.csv(\"~/parentage/kernel_fitting/1340_loci/input/prop_samp_all.csv\", header=FALSE))\n",
    "Adult_sample_proportions <- as.matrix(Adult_sample_proportions[1:18,])*prop\n",
    "Sampled_reefs <- as.matrix(read.csv(\"~/parentage/kernel_fitting/1340_loci/input/site_index_all.csv\", header=FALSE))\n",
    "Sampled_reefs <- as.matrix(Sampled_reefs[,1:18])\n",
    "Distances <- as.matrix(read.csv(\"~/parentage/kernel_fitting/894_loci/distance_matrix_unsurveyed.csv\", header=FALSE))\n",
    "Reef_sizes <- as.matrix(read.csv(\"~/parentage/kernel_fitting/894_loci/area_unsurveyed.csv\", header=FALSE))\n",
    "Centroids <- as.matrix(read.csv(\"~/parentage/kernel_fitting/894_loci/centroids_unsurveyed.csv\", header=T))\n",
    "\n",
    "x <- list(Distances=Distances, Assignments=Assignments, Sampled_reefs=Sampled_reefs, Reef_sizes=Reef_sizes, Adult_sample_proportions=Adult_sample_proportions) #put inputs into a list because that's the bbmle format\n",
    "\n",
    "\n",
    "#fit kernels \n",
    "fit_both <- suppressWarnings(mle2(LL_kt_bbmle, start=list(k=1, theta=1), lower=c(-10, 0.15), upper=c(10, 5), method=\"L-BFGS-B\", data=x, control=list(maxit=500)))\n",
    "k_b <- coef(fit_both)[1]\n",
    "theta_b <- coef(fit_both)[2]\n",
    "\n",
    "\n",
    "col <- c(\"best_k\",  \"best_theta\",  \"iteration\")\n",
    "BootstrapKernels <- as.data.frame(matrix(nrow=1, ncol=3), stringsAsFactors = FALSE)\n",
    "colnames(BootstrapKernels) <- col\n",
    "\n",
    "BootstrapKernels$best_k <- round(k_b,2)\n",
    "BootstrapKernels$best_theta <- round(theta_b, 0)\n",
    "BootstrapKernels$iteration <- as.character(n/100)\n",
    "\n",
    "#bind together all simulated kernel fits\n",
    "\n",
    "SimulatedKernels <- bind_rows(SimulatedKernels, BootstrapKernels)\n",
    "\n",
    "setTxtProgressBar(pb, n)\n",
    "#\n",
    "##finally, in this inner loop, run an anova on the results\n",
    "#\n",
    "}\n",
    "close(pb)\n",
    "EndTime <- Sys.time()\n",
    "EndTime-StartTime\n",
    "options(warn=0)\n"
   ]
  },
  {
   "cell_type": "code",
   "execution_count": 45,
   "metadata": {},
   "outputs": [
    {
     "data": {
      "text/html": [
       "<table>\n",
       "<thead><tr><th></th><th scope=col>best_k</th><th scope=col>best_theta</th><th scope=col>iteration</th></tr></thead>\n",
       "<tbody>\n",
       "\t<tr><th scope=row>95</th><td>-2.83</td><td>3    </td><td>0.95 </td></tr>\n",
       "\t<tr><th scope=row>96</th><td>-2.46</td><td>1    </td><td>0.96 </td></tr>\n",
       "\t<tr><th scope=row>97</th><td>-2.72</td><td>2    </td><td>0.97 </td></tr>\n",
       "\t<tr><th scope=row>98</th><td>-2.62</td><td>2    </td><td>0.98 </td></tr>\n",
       "\t<tr><th scope=row>99</th><td>-2.70</td><td>2    </td><td>0.99 </td></tr>\n",
       "\t<tr><th scope=row>100</th><td>-2.74</td><td>2    </td><td>1    </td></tr>\n",
       "</tbody>\n",
       "</table>\n"
      ],
      "text/latex": [
       "\\begin{tabular}{r|lll}\n",
       "  & best\\_k & best\\_theta & iteration\\\\\n",
       "\\hline\n",
       "\t95 & -2.83 & 3     & 0.95 \\\\\n",
       "\t96 & -2.46 & 1     & 0.96 \\\\\n",
       "\t97 & -2.72 & 2     & 0.97 \\\\\n",
       "\t98 & -2.62 & 2     & 0.98 \\\\\n",
       "\t99 & -2.70 & 2     & 0.99 \\\\\n",
       "\t100 & -2.74 & 2     & 1    \\\\\n",
       "\\end{tabular}\n"
      ],
      "text/markdown": [
       "\n",
       "| <!--/--> | best_k | best_theta | iteration |\n",
       "|---|---|---|---|\n",
       "| 95 | -2.83 | 3     | 0.95  |\n",
       "| 96 | -2.46 | 1     | 0.96  |\n",
       "| 97 | -2.72 | 2     | 0.97  |\n",
       "| 98 | -2.62 | 2     | 0.98  |\n",
       "| 99 | -2.70 | 2     | 0.99  |\n",
       "| 100 | -2.74 | 2     | 1     |\n",
       "\n"
      ],
      "text/plain": [
       "    best_k best_theta iteration\n",
       "95  -2.83  3          0.95     \n",
       "96  -2.46  1          0.96     \n",
       "97  -2.72  2          0.97     \n",
       "98  -2.62  2          0.98     \n",
       "99  -2.70  2          0.99     \n",
       "100 -2.74  2          1        "
      ]
     },
     "metadata": {},
     "output_type": "display_data"
    }
   ],
   "source": [
    "tail(SimulatedKernels)"
   ]
  },
  {
   "cell_type": "code",
   "execution_count": 46,
   "metadata": {},
   "outputs": [
    {
     "data": {
      "image/png": "[encoded data removed]",
      "text/plain": [
       "plot without title"
      ]
     },
     "metadata": {},
     "output_type": "display_data"
    }
   ],
   "source": [
    "plot(SimulatedKernels$iteration, SimulatedKernels$best_theta)"
   ]
  },
  {
   "cell_type": "code",
   "execution_count": 5,
   "metadata": {},
   "outputs": [],
   "source": [
    "write.csv(SimulatedKernels, file=\"~/parentage/kernel_fitting/1340_loci/final_results/SimulatedPropSamp2.csv\", row.names=F, quote=FALSE)\n",
    "SimulatedKernels <- read.csv(file=\"~/parentage/kernel_fitting/1340_loci/final_results/SimulatedPropSamp2.csv\", header=T) %>%\n",
    "    rename(prop_samp=\"iteration\")"
   ]
  },
  {
   "cell_type": "code",
   "execution_count": 48,
   "metadata": {},
   "outputs": [
    {
     "data": {
      "image/png": "[encoded data removed]",
      "text/plain": [
       "Plot with title “Histogram of SimulatedKernels$best_theta”"
      ]
     },
     "metadata": {},
     "output_type": "display_data"
    }
   ],
   "source": [
    "hist(SimulatedKernels$best_theta)"
   ]
  },
  {
   "cell_type": "code",
   "execution_count": 10,
   "metadata": {},
   "outputs": [
    {
     "name": "stderr",
     "output_type": "stream",
     "text": [
      "Saving 6.67 x 6.67 in image\n",
      "`geom_smooth()` using method = 'loess' and formula 'y ~ x'\n",
      "Saving 6.67 x 6.67 in image\n",
      "`geom_smooth()` using method = 'loess' and formula 'y ~ x'\n"
     ]
    }
   ],
   "source": [
    "prop_samp_k <- ggplot(SimulatedKernels, aes(prop_samp, best_k)) + \n",
    "    geom_point() + \n",
    "    geom_smooth() +\n",
    "    xlab(\"Sampling effort\") + \n",
    "    ylab(\"MLE k\")+ \n",
    "    theme(panel.grid.minor = element_blank(), panel.background = element_blank())+\n",
    "    theme_classic()\n",
    "#ggplot2::ggsave(filename=\"KPropSamp.pdf\", plot=prop_samp_k, path=\"~/parentage/kernel_fitting/1340_loci/final_results/simulations/\")\n",
    "\n",
    "\n",
    "prop_samp_theta <- ggplot(SimulatedKernels, aes(prop_samp, best_theta)) + \n",
    "    geom_point() + \n",
    "    geom_smooth()+\n",
    "    xlab(\"Sampling effort\") + \n",
    "    ylab(\"MLE theta\") + \n",
    "    theme_classic()\n",
    "#ggplot2::ggsave(filename=\"ThetaPropSamp.pdf\", plot=prop_samp_theta, path=\"~/parentage/kernel_fitting/1340_loci/final_results/simulations/\")\n"
   ]
  },
  {
   "cell_type": "code",
   "execution_count": 9,
   "metadata": {
    "scrolled": false
   },
   "outputs": [
    {
     "name": "stderr",
     "output_type": "stream",
     "text": [
      "`geom_smooth()` using method = 'loess' and formula 'y ~ x'\n",
      "`geom_smooth()` using method = 'loess' and formula 'y ~ x'\n"
     ]
    },
    {
     "data": {
      "image/png": "[encoded data removed]",
      "text/plain": [
       "plot without title"
      ]
     },
     "metadata": {},
     "output_type": "display_data"
    },
    {
     "data": {
      "image/png": "[encoded data removed]",
      "text/plain": [
       "plot without title"
      ]
     },
     "metadata": {},
     "output_type": "display_data"
    }
   ],
   "source": [
    "prop_samp_k\n",
    "prop_samp_theta"
   ]
  },
  {
   "cell_type": "code",
   "execution_count": 10,
   "metadata": {},
   "outputs": [
    {
     "data": {
      "text/plain": [
       "\n",
       "\tPearson's product-moment correlation\n",
       "\n",
       "data:  SimulatedKernels$best_k and SimulatedKernels$prop_samp\n",
       "t = -4.7932, df = 98, p-value = 5.848e-06\n",
       "alternative hypothesis: true correlation is not equal to 0\n",
       "95 percent confidence interval:\n",
       " -0.5823619 -0.2617823\n",
       "sample estimates:\n",
       "       cor \n",
       "-0.4357925 \n"
      ]
     },
     "metadata": {},
     "output_type": "display_data"
    },
    {
     "data": {
      "text/plain": [
       "\n",
       "Call:\n",
       "lm(formula = best_k ~ prop_samp, data = SimulatedKernels)\n",
       "\n",
       "Residuals:\n",
       "     Min       1Q   Median       3Q      Max \n",
       "-0.41563 -0.15369 -0.03401  0.05500  2.90117 \n",
       "\n",
       "Coefficients:\n",
       "            Estimate Std. Error t value Pr(>|t|)    \n",
       "(Intercept) -2.19076    0.08253 -26.545  < 2e-16 ***\n",
       "prop_samp   -0.68007    0.14188  -4.793 5.85e-06 ***\n",
       "---\n",
       "Signif. codes:  0 ‘***’ 0.001 ‘**’ 0.01 ‘*’ 0.05 ‘.’ 0.1 ‘ ’ 1\n",
       "\n",
       "Residual standard error: 0.4096 on 98 degrees of freedom\n",
       "Multiple R-squared:  0.1899,\tAdjusted R-squared:  0.1816 \n",
       "F-statistic: 22.97 on 1 and 98 DF,  p-value: 5.848e-06\n"
      ]
     },
     "metadata": {},
     "output_type": "display_data"
    },
    {
     "data": {
      "text/plain": [
       "\n",
       "\tPearson's product-moment correlation\n",
       "\n",
       "data:  SimulatedKernels$best_theta and SimulatedKernels$prop_samp\n",
       "t = -3.9194, df = 98, p-value = 0.0001645\n",
       "alternative hypothesis: true correlation is not equal to 0\n",
       "95 percent confidence interval:\n",
       " -0.5264723 -0.1850858\n",
       "sample estimates:\n",
       "       cor \n",
       "-0.3681211 \n"
      ]
     },
     "metadata": {},
     "output_type": "display_data"
    },
    {
     "data": {
      "text/plain": [
       "\n",
       "Call:\n",
       "lm(formula = best_theta ~ prop_samp, data = SimulatedKernels)\n",
       "\n",
       "Residuals:\n",
       "    Min      1Q  Median      3Q     Max \n",
       "-1.4277 -0.4013 -0.1539  0.1127  2.4089 \n",
       "\n",
       "Coefficients:\n",
       "            Estimate Std. Error t value Pr(>|t|)    \n",
       "(Intercept)   2.7352     0.1426  19.184  < 2e-16 ***\n",
       "prop_samp    -0.9607     0.2451  -3.919 0.000164 ***\n",
       "---\n",
       "Signif. codes:  0 ‘***’ 0.001 ‘**’ 0.01 ‘*’ 0.05 ‘.’ 0.1 ‘ ’ 1\n",
       "\n",
       "Residual standard error: 0.7075 on 98 degrees of freedom\n",
       "Multiple R-squared:  0.1355,\tAdjusted R-squared:  0.1267 \n",
       "F-statistic: 15.36 on 1 and 98 DF,  p-value: 0.0001645\n"
      ]
     },
     "metadata": {},
     "output_type": "display_data"
    }
   ],
   "source": [
    "k_mod <- lm(best_k ~ prop_samp, data=SimulatedKernels)\n",
    "cor.test(SimulatedKernels$best_k, SimulatedKernels$prop_samp)\n",
    "summary(k_mod)\n",
    "theta_mod <- lm(best_theta ~ prop_samp, data=SimulatedKernels)\n",
    "cor.test(SimulatedKernels$best_theta, SimulatedKernels$prop_samp)\n",
    "summary(theta_mod)"
   ]
  },
  {
   "cell_type": "code",
   "execution_count": null,
   "metadata": {},
   "outputs": [],
   "source": [
    "#previous iteration looking at CI width below"
   ]
  },
  {
   "cell_type": "code",
   "execution_count": null,
   "metadata": {},
   "outputs": [],
   "source": []
  },
  {
   "cell_type": "code",
   "execution_count": null,
   "metadata": {},
   "outputs": [],
   "source": []
  },
  {
   "cell_type": "code",
   "execution_count": null,
   "metadata": {},
   "outputs": [],
   "source": []
  },
  {
   "cell_type": "code",
   "execution_count": 2,
   "metadata": {},
   "outputs": [],
   "source": [
    "#write.csv(SimulatedKernels, file=\"~/parentage/kernel_fitting/1340_loci/final_results/SimulatedPropSamp.csv\", row.names=T, quote=FALSE)\n",
    "SimulatedCI <- read.csv(file=\"~/parentage/kernel_fitting/1340_loci/final_results/SimulatedPropSamp.csv\", header=T)\n"
   ]
  },
  {
   "cell_type": "code",
   "execution_count": 11,
   "metadata": {},
   "outputs": [
    {
     "data": {
      "text/html": [
       "<table>\n",
       "<thead><tr><th scope=col>X</th><th scope=col>best_k</th><th scope=col>upper_k</th><th scope=col>lower_k</th><th scope=col>best_theta</th><th scope=col>upper_theta</th><th scope=col>lower_theta</th><th scope=col>iteration</th><th scope=col>kCI</th><th scope=col>thetaCI</th><th scope=col>prop_samp</th></tr></thead>\n",
       "<tbody>\n",
       "\t<tr><td> 1   </td><td> 9.8 </td><td> 9.8 </td><td> -9.9</td><td>0.6  </td><td>0.8  </td><td>0.3  </td><td>0.01 </td><td>19.7 </td><td>0.5  </td><td>0.01 </td></tr>\n",
       "\t<tr><td> 2   </td><td>-2.1 </td><td>-3.4 </td><td>-10.0</td><td>0.6  </td><td>0.7  </td><td>0.1  </td><td>0.02 </td><td> 6.6 </td><td>0.6  </td><td>0.02 </td></tr>\n",
       "\t<tr><td> 3   </td><td> 6.2 </td><td> 8.1 </td><td> -1.1</td><td>0.6  </td><td>0.7  </td><td>0.5  </td><td>0.03 </td><td> 9.2 </td><td>0.2  </td><td>0.03 </td></tr>\n",
       "\t<tr><td> 4   </td><td> 2.2 </td><td> 8.5 </td><td> -9.7</td><td>0.6  </td><td>0.7  </td><td>0.2  </td><td>0.04 </td><td>18.2 </td><td>0.5  </td><td>0.04 </td></tr>\n",
       "\t<tr><td> 5   </td><td> 6.9 </td><td> 7.5 </td><td> -2.0</td><td>0.6  </td><td>0.7  </td><td>0.6  </td><td>0.05 </td><td> 9.5 </td><td>0.1  </td><td>0.05 </td></tr>\n",
       "\t<tr><td> 6   </td><td> 4.3 </td><td> 8.2 </td><td> -5.1</td><td>0.6  </td><td>0.7  </td><td>0.5  </td><td>0.06 </td><td>13.3 </td><td>0.2  </td><td>0.06 </td></tr>\n",
       "\t<tr><td> 7   </td><td> 8.2 </td><td> 8.5 </td><td>  5.0</td><td>0.6  </td><td>0.6  </td><td>0.5  </td><td>0.07 </td><td> 3.5 </td><td>0.1  </td><td>0.07 </td></tr>\n",
       "\t<tr><td> 8   </td><td> 7.1 </td><td> 9.4 </td><td> -6.1</td><td>0.6  </td><td>0.6  </td><td>0.5  </td><td>0.08 </td><td>15.5 </td><td>0.1  </td><td>0.08 </td></tr>\n",
       "\t<tr><td> 9   </td><td> 2.2 </td><td> 9.2 </td><td>  0.8</td><td>0.6  </td><td>0.7  </td><td>0.6  </td><td>0.09 </td><td> 8.4 </td><td>0.1  </td><td>0.09 </td></tr>\n",
       "\t<tr><td>10   </td><td> 3.3 </td><td> 4.1 </td><td>  2.3</td><td>0.6  </td><td>0.6  </td><td>0.6  </td><td>0.10 </td><td> 1.8 </td><td>0.0  </td><td>0.10 </td></tr>\n",
       "\t<tr><td>11   </td><td> 1.2 </td><td> 4.4 </td><td> -8.3</td><td>0.6  </td><td>0.6  </td><td>0.6  </td><td>0.11 </td><td>12.7 </td><td>0.0  </td><td>0.11 </td></tr>\n",
       "\t<tr><td>12   </td><td>-6.7 </td><td> 2.4 </td><td> -5.1</td><td>0.6  </td><td>0.6  </td><td>0.6  </td><td>0.12 </td><td> 7.5 </td><td>0.0  </td><td>0.12 </td></tr>\n",
       "\t<tr><td>13   </td><td>-6.4 </td><td> 5.5 </td><td> -0.2</td><td>0.6  </td><td>0.6  </td><td>0.6  </td><td>0.13 </td><td> 5.7 </td><td>0.0  </td><td>0.13 </td></tr>\n",
       "\t<tr><td>14   </td><td>-8.1 </td><td>-9.0 </td><td> -6.7</td><td>0.6  </td><td>0.7  </td><td>0.6  </td><td>0.14 </td><td> 2.3 </td><td>0.1  </td><td>0.14 </td></tr>\n",
       "\t<tr><td>15   </td><td>-8.6 </td><td> 3.4 </td><td> -3.9</td><td>0.6  </td><td>0.6  </td><td>0.6  </td><td>0.15 </td><td> 7.3 </td><td>0.0  </td><td>0.15 </td></tr>\n",
       "\t<tr><td>16   </td><td> 0.0 </td><td> 1.8 </td><td> -8.2</td><td>0.6  </td><td>0.7  </td><td>0.6  </td><td>0.16 </td><td>10.0 </td><td>0.1  </td><td>0.16 </td></tr>\n",
       "\t<tr><td>17   </td><td> 8.0 </td><td> 8.8 </td><td>  3.6</td><td>0.6  </td><td>0.6  </td><td>0.6  </td><td>0.17 </td><td> 5.2 </td><td>0.0  </td><td>0.17 </td></tr>\n",
       "\t<tr><td>18   </td><td>-2.4 </td><td>-4.7 </td><td> -1.2</td><td>0.6  </td><td>0.6  </td><td>0.6  </td><td>0.18 </td><td> 3.5 </td><td>0.0  </td><td>0.18 </td></tr>\n",
       "\t<tr><td>19   </td><td> 9.3 </td><td> 9.5 </td><td> -7.3</td><td>0.6  </td><td>0.6  </td><td>0.6  </td><td>0.19 </td><td>16.8 </td><td>0.0  </td><td>0.19 </td></tr>\n",
       "\t<tr><td>20   </td><td>-8.3 </td><td> 2.5 </td><td> -7.1</td><td>0.6  </td><td>0.6  </td><td>0.6  </td><td>0.20 </td><td> 9.6 </td><td>0.0  </td><td>0.20 </td></tr>\n",
       "\t<tr><td>21   </td><td> 0.1 </td><td> 2.4 </td><td> -6.2</td><td>0.6  </td><td>0.6  </td><td>0.6  </td><td>0.21 </td><td> 8.6 </td><td>0.0  </td><td>0.21 </td></tr>\n",
       "\t<tr><td>22   </td><td> 4.9 </td><td> 8.6 </td><td> -5.0</td><td>0.6  </td><td>0.6  </td><td>0.6  </td><td>0.22 </td><td>13.6 </td><td>0.0  </td><td>0.22 </td></tr>\n",
       "\t<tr><td>23   </td><td>-8.3 </td><td> 9.6 </td><td> -6.0</td><td>0.6  </td><td>0.6  </td><td>0.6  </td><td>0.23 </td><td>15.6 </td><td>0.0  </td><td>0.23 </td></tr>\n",
       "\t<tr><td>24   </td><td>-1.0 </td><td> 8.9 </td><td> -0.7</td><td>0.6  </td><td>0.6  </td><td>0.6  </td><td>0.24 </td><td> 9.6 </td><td>0.0  </td><td>0.24 </td></tr>\n",
       "\t<tr><td>25   </td><td> 8.9 </td><td> 9.2 </td><td>  2.3</td><td>0.6  </td><td>0.6  </td><td>0.6  </td><td>0.25 </td><td> 6.9 </td><td>0.0  </td><td>0.25 </td></tr>\n",
       "\t<tr><td>26   </td><td> 6.2 </td><td> 6.5 </td><td> -2.5</td><td>0.6  </td><td>0.6  </td><td>0.6  </td><td>0.26 </td><td> 9.0 </td><td>0.0  </td><td>0.26 </td></tr>\n",
       "\t<tr><td>27   </td><td>-0.9 </td><td>-6.7 </td><td> -0.9</td><td>0.6  </td><td>0.6  </td><td>0.6  </td><td>0.27 </td><td> 5.8 </td><td>0.0  </td><td>0.27 </td></tr>\n",
       "\t<tr><td>28   </td><td>-6.5 </td><td> 1.6 </td><td> -4.1</td><td>0.6  </td><td>0.6  </td><td>0.6  </td><td>0.28 </td><td> 5.7 </td><td>0.0  </td><td>0.28 </td></tr>\n",
       "\t<tr><td>29   </td><td>-9.0 </td><td> 1.0 </td><td> -1.6</td><td>0.6  </td><td>0.6  </td><td>0.6  </td><td>0.29 </td><td> 2.6 </td><td>0.0  </td><td>0.29 </td></tr>\n",
       "\t<tr><td>30   </td><td>-3.4 </td><td>-8.0 </td><td> -1.4</td><td>0.6  </td><td>0.6  </td><td>0.6  </td><td>0.30 </td><td> 6.6 </td><td>0.0  </td><td>0.30 </td></tr>\n",
       "\t<tr><td>...</td><td>...</td><td>...</td><td>...</td><td>...</td><td>...</td><td>...</td><td>...</td><td>...</td><td>...</td><td>...</td></tr>\n",
       "\t<tr><td> 71 </td><td> 5.4</td><td> 8.4</td><td>-4.6</td><td>0.6 </td><td>0.6 </td><td>0.6 </td><td>0.71</td><td>13.0</td><td>0   </td><td>0.71</td></tr>\n",
       "\t<tr><td> 72 </td><td> 0.4</td><td> 6.7</td><td>-6.0</td><td>0.6 </td><td>0.6 </td><td>0.6 </td><td>0.72</td><td>12.7</td><td>0   </td><td>0.72</td></tr>\n",
       "\t<tr><td> 73 </td><td>-4.8</td><td>-7.4</td><td>-1.2</td><td>0.6 </td><td>0.6 </td><td>0.6 </td><td>0.73</td><td> 6.2</td><td>0   </td><td>0.73</td></tr>\n",
       "\t<tr><td> 74 </td><td>-5.9</td><td> 9.0</td><td>-2.7</td><td>0.6 </td><td>0.6 </td><td>0.6 </td><td>0.74</td><td>11.7</td><td>0   </td><td>0.74</td></tr>\n",
       "\t<tr><td> 75 </td><td>-0.8</td><td> 7.9</td><td>-0.8</td><td>0.6 </td><td>0.6 </td><td>0.6 </td><td>0.75</td><td> 8.7</td><td>0   </td><td>0.75</td></tr>\n",
       "\t<tr><td> 76 </td><td>-3.2</td><td> 2.7</td><td>-1.5</td><td>0.6 </td><td>0.6 </td><td>0.6 </td><td>0.76</td><td> 4.2</td><td>0   </td><td>0.76</td></tr>\n",
       "\t<tr><td> 77 </td><td>-7.5</td><td> 0.3</td><td>-7.5</td><td>0.6 </td><td>0.6 </td><td>0.6 </td><td>0.77</td><td> 7.8</td><td>0   </td><td>0.77</td></tr>\n",
       "\t<tr><td> 78 </td><td>-4.1</td><td>-4.8</td><td>-1.6</td><td>0.6 </td><td>0.6 </td><td>0.6 </td><td>0.78</td><td> 3.2</td><td>0   </td><td>0.78</td></tr>\n",
       "\t<tr><td> 79 </td><td> 0.5</td><td> 9.4</td><td>-6.1</td><td>0.6 </td><td>0.6 </td><td>0.6 </td><td>0.79</td><td>15.5</td><td>0   </td><td>0.79</td></tr>\n",
       "\t<tr><td> 80 </td><td>-6.9</td><td> 6.9</td><td>-2.6</td><td>0.6 </td><td>0.6 </td><td>0.6 </td><td>0.80</td><td> 9.5</td><td>0   </td><td>0.80</td></tr>\n",
       "\t<tr><td> 81 </td><td> 1.8</td><td> 2.0</td><td>-9.0</td><td>0.6 </td><td>0.6 </td><td>0.6 </td><td>0.81</td><td>11.0</td><td>0   </td><td>0.81</td></tr>\n",
       "\t<tr><td> 82 </td><td>-2.6</td><td>-8.2</td><td>-1.3</td><td>0.6 </td><td>0.6 </td><td>0.6 </td><td>0.82</td><td> 6.9</td><td>0   </td><td>0.82</td></tr>\n",
       "\t<tr><td> 83 </td><td> 0.4</td><td> 8.9</td><td>-4.0</td><td>0.6 </td><td>0.6 </td><td>0.6 </td><td>0.83</td><td>12.9</td><td>0   </td><td>0.83</td></tr>\n",
       "\t<tr><td> 84 </td><td> 2.2</td><td> 4.3</td><td>-3.3</td><td>0.6 </td><td>0.6 </td><td>0.6 </td><td>0.84</td><td> 7.6</td><td>0   </td><td>0.84</td></tr>\n",
       "\t<tr><td> 85 </td><td> 6.6</td><td> 8.9</td><td> 0.0</td><td>0.6 </td><td>0.6 </td><td>0.6 </td><td>0.85</td><td> 8.9</td><td>0   </td><td>0.85</td></tr>\n",
       "\t<tr><td> 86 </td><td>-8.8</td><td> 8.9</td><td>-7.0</td><td>0.6 </td><td>0.6 </td><td>0.6 </td><td>0.86</td><td>15.9</td><td>0   </td><td>0.86</td></tr>\n",
       "\t<tr><td> 87 </td><td>-0.7</td><td>-8.4</td><td>-0.3</td><td>0.6 </td><td>0.6 </td><td>0.6 </td><td>0.87</td><td> 8.1</td><td>0   </td><td>0.87</td></tr>\n",
       "\t<tr><td> 88 </td><td>10.0</td><td> 5.7</td><td>-4.2</td><td>0.6 </td><td>0.6 </td><td>0.6 </td><td>0.88</td><td> 9.9</td><td>0   </td><td>0.88</td></tr>\n",
       "\t<tr><td> 89 </td><td>-4.5</td><td>-5.9</td><td>-3.3</td><td>0.6 </td><td>0.6 </td><td>0.6 </td><td>0.89</td><td> 2.6</td><td>0   </td><td>0.89</td></tr>\n",
       "\t<tr><td> 90 </td><td>-5.7</td><td> 7.4</td><td>-2.9</td><td>0.6 </td><td>0.6 </td><td>0.6 </td><td>0.90</td><td>10.3</td><td>0   </td><td>0.90</td></tr>\n",
       "\t<tr><td> 91 </td><td> 0.4</td><td> 8.6</td><td>-2.6</td><td>0.6 </td><td>0.6 </td><td>0.6 </td><td>0.91</td><td>11.2</td><td>0   </td><td>0.91</td></tr>\n",
       "\t<tr><td> 92 </td><td>-0.5</td><td> 2.0</td><td>-0.3</td><td>0.6 </td><td>0.6 </td><td>0.6 </td><td>0.92</td><td> 2.3</td><td>0   </td><td>0.92</td></tr>\n",
       "\t<tr><td> 93 </td><td> 8.0</td><td> 9.7</td><td>-3.4</td><td>0.6 </td><td>0.6 </td><td>0.6 </td><td>0.93</td><td>13.1</td><td>0   </td><td>0.93</td></tr>\n",
       "\t<tr><td> 94 </td><td> 3.8</td><td> 6.9</td><td>-1.8</td><td>0.6 </td><td>0.6 </td><td>0.6 </td><td>0.94</td><td> 8.7</td><td>0   </td><td>0.94</td></tr>\n",
       "\t<tr><td> 95 </td><td> 6.6</td><td> 8.5</td><td> 6.5</td><td>0.6 </td><td>0.6 </td><td>0.6 </td><td>0.95</td><td> 2.0</td><td>0   </td><td>0.95</td></tr>\n",
       "\t<tr><td> 96 </td><td>-1.2</td><td>-1.5</td><td>-0.8</td><td>0.6 </td><td>0.6 </td><td>0.6 </td><td>0.96</td><td> 0.7</td><td>0   </td><td>0.96</td></tr>\n",
       "\t<tr><td> 97 </td><td> 1.6</td><td> 2.1</td><td>-8.1</td><td>0.6 </td><td>0.6 </td><td>0.6 </td><td>0.97</td><td>10.2</td><td>0   </td><td>0.97</td></tr>\n",
       "\t<tr><td> 98 </td><td> 0.0</td><td> 3.7</td><td>-2.9</td><td>0.6 </td><td>0.6 </td><td>0.6 </td><td>0.98</td><td> 6.6</td><td>0   </td><td>0.98</td></tr>\n",
       "\t<tr><td> 99 </td><td>-6.6</td><td> 1.5</td><td>-3.7</td><td>0.6 </td><td>0.6 </td><td>0.6 </td><td>0.99</td><td> 5.2</td><td>0   </td><td>0.99</td></tr>\n",
       "\t<tr><td>100 </td><td> 6.8</td><td> 8.7</td><td> 5.4</td><td>0.6 </td><td>0.6 </td><td>0.6 </td><td>1.00</td><td> 3.3</td><td>0   </td><td>1.00</td></tr>\n",
       "</tbody>\n",
       "</table>\n"
      ],
      "text/latex": [
       "\\begin{tabular}{r|lllllllllll}\n",
       " X & best\\_k & upper\\_k & lower\\_k & best\\_theta & upper\\_theta & lower\\_theta & iteration & kCI & thetaCI & prop\\_samp\\\\\n",
       "\\hline\n",
       "\t  1    &  9.8  &  9.8  &  -9.9 & 0.6   & 0.8   & 0.3   & 0.01  & 19.7  & 0.5   & 0.01 \\\\\n",
       "\t  2    & -2.1  & -3.4  & -10.0 & 0.6   & 0.7   & 0.1   & 0.02  &  6.6  & 0.6   & 0.02 \\\\\n",
       "\t  3    &  6.2  &  8.1  &  -1.1 & 0.6   & 0.7   & 0.5   & 0.03  &  9.2  & 0.2   & 0.03 \\\\\n",
       "\t  4    &  2.2  &  8.5  &  -9.7 & 0.6   & 0.7   & 0.2   & 0.04  & 18.2  & 0.5   & 0.04 \\\\\n",
       "\t  5    &  6.9  &  7.5  &  -2.0 & 0.6   & 0.7   & 0.6   & 0.05  &  9.5  & 0.1   & 0.05 \\\\\n",
       "\t  6    &  4.3  &  8.2  &  -5.1 & 0.6   & 0.7   & 0.5   & 0.06  & 13.3  & 0.2   & 0.06 \\\\\n",
       "\t  7    &  8.2  &  8.5  &   5.0 & 0.6   & 0.6   & 0.5   & 0.07  &  3.5  & 0.1   & 0.07 \\\\\n",
       "\t  8    &  7.1  &  9.4  &  -6.1 & 0.6   & 0.6   & 0.5   & 0.08  & 15.5  & 0.1   & 0.08 \\\\\n",
       "\t  9    &  2.2  &  9.2  &   0.8 & 0.6   & 0.7   & 0.6   & 0.09  &  8.4  & 0.1   & 0.09 \\\\\n",
       "\t 10    &  3.3  &  4.1  &   2.3 & 0.6   & 0.6   & 0.6   & 0.10  &  1.8  & 0.0   & 0.10 \\\\\n",
       "\t 11    &  1.2  &  4.4  &  -8.3 & 0.6   & 0.6   & 0.6   & 0.11  & 12.7  & 0.0   & 0.11 \\\\\n",
       "\t 12    & -6.7  &  2.4  &  -5.1 & 0.6   & 0.6   & 0.6   & 0.12  &  7.5  & 0.0   & 0.12 \\\\\n",
       "\t 13    & -6.4  &  5.5  &  -0.2 & 0.6   & 0.6   & 0.6   & 0.13  &  5.7  & 0.0   & 0.13 \\\\\n",
       "\t 14    & -8.1  & -9.0  &  -6.7 & 0.6   & 0.7   & 0.6   & 0.14  &  2.3  & 0.1   & 0.14 \\\\\n",
       "\t 15    & -8.6  &  3.4  &  -3.9 & 0.6   & 0.6   & 0.6   & 0.15  &  7.3  & 0.0   & 0.15 \\\\\n",
       "\t 16    &  0.0  &  1.8  &  -8.2 & 0.6   & 0.7   & 0.6   & 0.16  & 10.0  & 0.1   & 0.16 \\\\\n",
       "\t 17    &  8.0  &  8.8  &   3.6 & 0.6   & 0.6   & 0.6   & 0.17  &  5.2  & 0.0   & 0.17 \\\\\n",
       "\t 18    & -2.4  & -4.7  &  -1.2 & 0.6   & 0.6   & 0.6   & 0.18  &  3.5  & 0.0   & 0.18 \\\\\n",
       "\t 19    &  9.3  &  9.5  &  -7.3 & 0.6   & 0.6   & 0.6   & 0.19  & 16.8  & 0.0   & 0.19 \\\\\n",
       "\t 20    & -8.3  &  2.5  &  -7.1 & 0.6   & 0.6   & 0.6   & 0.20  &  9.6  & 0.0   & 0.20 \\\\\n",
       "\t 21    &  0.1  &  2.4  &  -6.2 & 0.6   & 0.6   & 0.6   & 0.21  &  8.6  & 0.0   & 0.21 \\\\\n",
       "\t 22    &  4.9  &  8.6  &  -5.0 & 0.6   & 0.6   & 0.6   & 0.22  & 13.6  & 0.0   & 0.22 \\\\\n",
       "\t 23    & -8.3  &  9.6  &  -6.0 & 0.6   & 0.6   & 0.6   & 0.23  & 15.6  & 0.0   & 0.23 \\\\\n",
       "\t 24    & -1.0  &  8.9  &  -0.7 & 0.6   & 0.6   & 0.6   & 0.24  &  9.6  & 0.0   & 0.24 \\\\\n",
       "\t 25    &  8.9  &  9.2  &   2.3 & 0.6   & 0.6   & 0.6   & 0.25  &  6.9  & 0.0   & 0.25 \\\\\n",
       "\t 26    &  6.2  &  6.5  &  -2.5 & 0.6   & 0.6   & 0.6   & 0.26  &  9.0  & 0.0   & 0.26 \\\\\n",
       "\t 27    & -0.9  & -6.7  &  -0.9 & 0.6   & 0.6   & 0.6   & 0.27  &  5.8  & 0.0   & 0.27 \\\\\n",
       "\t 28    & -6.5  &  1.6  &  -4.1 & 0.6   & 0.6   & 0.6   & 0.28  &  5.7  & 0.0   & 0.28 \\\\\n",
       "\t 29    & -9.0  &  1.0  &  -1.6 & 0.6   & 0.6   & 0.6   & 0.29  &  2.6  & 0.0   & 0.29 \\\\\n",
       "\t 30    & -3.4  & -8.0  &  -1.4 & 0.6   & 0.6   & 0.6   & 0.30  &  6.6  & 0.0   & 0.30 \\\\\n",
       "\t ... & ... & ... & ... & ... & ... & ... & ... & ... & ... & ...\\\\\n",
       "\t  71  &  5.4 &  8.4 & -4.6 & 0.6  & 0.6  & 0.6  & 0.71 & 13.0 & 0    & 0.71\\\\\n",
       "\t  72  &  0.4 &  6.7 & -6.0 & 0.6  & 0.6  & 0.6  & 0.72 & 12.7 & 0    & 0.72\\\\\n",
       "\t  73  & -4.8 & -7.4 & -1.2 & 0.6  & 0.6  & 0.6  & 0.73 &  6.2 & 0    & 0.73\\\\\n",
       "\t  74  & -5.9 &  9.0 & -2.7 & 0.6  & 0.6  & 0.6  & 0.74 & 11.7 & 0    & 0.74\\\\\n",
       "\t  75  & -0.8 &  7.9 & -0.8 & 0.6  & 0.6  & 0.6  & 0.75 &  8.7 & 0    & 0.75\\\\\n",
       "\t  76  & -3.2 &  2.7 & -1.5 & 0.6  & 0.6  & 0.6  & 0.76 &  4.2 & 0    & 0.76\\\\\n",
       "\t  77  & -7.5 &  0.3 & -7.5 & 0.6  & 0.6  & 0.6  & 0.77 &  7.8 & 0    & 0.77\\\\\n",
       "\t  78  & -4.1 & -4.8 & -1.6 & 0.6  & 0.6  & 0.6  & 0.78 &  3.2 & 0    & 0.78\\\\\n",
       "\t  79  &  0.5 &  9.4 & -6.1 & 0.6  & 0.6  & 0.6  & 0.79 & 15.5 & 0    & 0.79\\\\\n",
       "\t  80  & -6.9 &  6.9 & -2.6 & 0.6  & 0.6  & 0.6  & 0.80 &  9.5 & 0    & 0.80\\\\\n",
       "\t  81  &  1.8 &  2.0 & -9.0 & 0.6  & 0.6  & 0.6  & 0.81 & 11.0 & 0    & 0.81\\\\\n",
       "\t  82  & -2.6 & -8.2 & -1.3 & 0.6  & 0.6  & 0.6  & 0.82 &  6.9 & 0    & 0.82\\\\\n",
       "\t  83  &  0.4 &  8.9 & -4.0 & 0.6  & 0.6  & 0.6  & 0.83 & 12.9 & 0    & 0.83\\\\\n",
       "\t  84  &  2.2 &  4.3 & -3.3 & 0.6  & 0.6  & 0.6  & 0.84 &  7.6 & 0    & 0.84\\\\\n",
       "\t  85  &  6.6 &  8.9 &  0.0 & 0.6  & 0.6  & 0.6  & 0.85 &  8.9 & 0    & 0.85\\\\\n",
       "\t  86  & -8.8 &  8.9 & -7.0 & 0.6  & 0.6  & 0.6  & 0.86 & 15.9 & 0    & 0.86\\\\\n",
       "\t  87  & -0.7 & -8.4 & -0.3 & 0.6  & 0.6  & 0.6  & 0.87 &  8.1 & 0    & 0.87\\\\\n",
       "\t  88  & 10.0 &  5.7 & -4.2 & 0.6  & 0.6  & 0.6  & 0.88 &  9.9 & 0    & 0.88\\\\\n",
       "\t  89  & -4.5 & -5.9 & -3.3 & 0.6  & 0.6  & 0.6  & 0.89 &  2.6 & 0    & 0.89\\\\\n",
       "\t  90  & -5.7 &  7.4 & -2.9 & 0.6  & 0.6  & 0.6  & 0.90 & 10.3 & 0    & 0.90\\\\\n",
       "\t  91  &  0.4 &  8.6 & -2.6 & 0.6  & 0.6  & 0.6  & 0.91 & 11.2 & 0    & 0.91\\\\\n",
       "\t  92  & -0.5 &  2.0 & -0.3 & 0.6  & 0.6  & 0.6  & 0.92 &  2.3 & 0    & 0.92\\\\\n",
       "\t  93  &  8.0 &  9.7 & -3.4 & 0.6  & 0.6  & 0.6  & 0.93 & 13.1 & 0    & 0.93\\\\\n",
       "\t  94  &  3.8 &  6.9 & -1.8 & 0.6  & 0.6  & 0.6  & 0.94 &  8.7 & 0    & 0.94\\\\\n",
       "\t  95  &  6.6 &  8.5 &  6.5 & 0.6  & 0.6  & 0.6  & 0.95 &  2.0 & 0    & 0.95\\\\\n",
       "\t  96  & -1.2 & -1.5 & -0.8 & 0.6  & 0.6  & 0.6  & 0.96 &  0.7 & 0    & 0.96\\\\\n",
       "\t  97  &  1.6 &  2.1 & -8.1 & 0.6  & 0.6  & 0.6  & 0.97 & 10.2 & 0    & 0.97\\\\\n",
       "\t  98  &  0.0 &  3.7 & -2.9 & 0.6  & 0.6  & 0.6  & 0.98 &  6.6 & 0    & 0.98\\\\\n",
       "\t  99  & -6.6 &  1.5 & -3.7 & 0.6  & 0.6  & 0.6  & 0.99 &  5.2 & 0    & 0.99\\\\\n",
       "\t 100  &  6.8 &  8.7 &  5.4 & 0.6  & 0.6  & 0.6  & 1.00 &  3.3 & 0    & 1.00\\\\\n",
       "\\end{tabular}\n"
      ],
      "text/markdown": [
       "\n",
       "| X | best_k | upper_k | lower_k | best_theta | upper_theta | lower_theta | iteration | kCI | thetaCI | prop_samp |\n",
       "|---|---|---|---|---|---|---|---|---|---|---|\n",
       "|  1    |  9.8  |  9.8  |  -9.9 | 0.6   | 0.8   | 0.3   | 0.01  | 19.7  | 0.5   | 0.01  |\n",
       "|  2    | -2.1  | -3.4  | -10.0 | 0.6   | 0.7   | 0.1   | 0.02  |  6.6  | 0.6   | 0.02  |\n",
       "|  3    |  6.2  |  8.1  |  -1.1 | 0.6   | 0.7   | 0.5   | 0.03  |  9.2  | 0.2   | 0.03  |\n",
       "|  4    |  2.2  |  8.5  |  -9.7 | 0.6   | 0.7   | 0.2   | 0.04  | 18.2  | 0.5   | 0.04  |\n",
       "|  5    |  6.9  |  7.5  |  -2.0 | 0.6   | 0.7   | 0.6   | 0.05  |  9.5  | 0.1   | 0.05  |\n",
       "|  6    |  4.3  |  8.2  |  -5.1 | 0.6   | 0.7   | 0.5   | 0.06  | 13.3  | 0.2   | 0.06  |\n",
       "|  7    |  8.2  |  8.5  |   5.0 | 0.6   | 0.6   | 0.5   | 0.07  |  3.5  | 0.1   | 0.07  |\n",
       "|  8    |  7.1  |  9.4  |  -6.1 | 0.6   | 0.6   | 0.5   | 0.08  | 15.5  | 0.1   | 0.08  |\n",
       "|  9    |  2.2  |  9.2  |   0.8 | 0.6   | 0.7   | 0.6   | 0.09  |  8.4  | 0.1   | 0.09  |\n",
       "| 10    |  3.3  |  4.1  |   2.3 | 0.6   | 0.6   | 0.6   | 0.10  |  1.8  | 0.0   | 0.10  |\n",
       "| 11    |  1.2  |  4.4  |  -8.3 | 0.6   | 0.6   | 0.6   | 0.11  | 12.7  | 0.0   | 0.11  |\n",
       "| 12    | -6.7  |  2.4  |  -5.1 | 0.6   | 0.6   | 0.6   | 0.12  |  7.5  | 0.0   | 0.12  |\n",
       "| 13    | -6.4  |  5.5  |  -0.2 | 0.6   | 0.6   | 0.6   | 0.13  |  5.7  | 0.0   | 0.13  |\n",
       "| 14    | -8.1  | -9.0  |  -6.7 | 0.6   | 0.7   | 0.6   | 0.14  |  2.3  | 0.1   | 0.14  |\n",
       "| 15    | -8.6  |  3.4  |  -3.9 | 0.6   | 0.6   | 0.6   | 0.15  |  7.3  | 0.0   | 0.15  |\n",
       "| 16    |  0.0  |  1.8  |  -8.2 | 0.6   | 0.7   | 0.6   | 0.16  | 10.0  | 0.1   | 0.16  |\n",
       "| 17    |  8.0  |  8.8  |   3.6 | 0.6   | 0.6   | 0.6   | 0.17  |  5.2  | 0.0   | 0.17  |\n",
       "| 18    | -2.4  | -4.7  |  -1.2 | 0.6   | 0.6   | 0.6   | 0.18  |  3.5  | 0.0   | 0.18  |\n",
       "| 19    |  9.3  |  9.5  |  -7.3 | 0.6   | 0.6   | 0.6   | 0.19  | 16.8  | 0.0   | 0.19  |\n",
       "| 20    | -8.3  |  2.5  |  -7.1 | 0.6   | 0.6   | 0.6   | 0.20  |  9.6  | 0.0   | 0.20  |\n",
       "| 21    |  0.1  |  2.4  |  -6.2 | 0.6   | 0.6   | 0.6   | 0.21  |  8.6  | 0.0   | 0.21  |\n",
       "| 22    |  4.9  |  8.6  |  -5.0 | 0.6   | 0.6   | 0.6   | 0.22  | 13.6  | 0.0   | 0.22  |\n",
       "| 23    | -8.3  |  9.6  |  -6.0 | 0.6   | 0.6   | 0.6   | 0.23  | 15.6  | 0.0   | 0.23  |\n",
       "| 24    | -1.0  |  8.9  |  -0.7 | 0.6   | 0.6   | 0.6   | 0.24  |  9.6  | 0.0   | 0.24  |\n",
       "| 25    |  8.9  |  9.2  |   2.3 | 0.6   | 0.6   | 0.6   | 0.25  |  6.9  | 0.0   | 0.25  |\n",
       "| 26    |  6.2  |  6.5  |  -2.5 | 0.6   | 0.6   | 0.6   | 0.26  |  9.0  | 0.0   | 0.26  |\n",
       "| 27    | -0.9  | -6.7  |  -0.9 | 0.6   | 0.6   | 0.6   | 0.27  |  5.8  | 0.0   | 0.27  |\n",
       "| 28    | -6.5  |  1.6  |  -4.1 | 0.6   | 0.6   | 0.6   | 0.28  |  5.7  | 0.0   | 0.28  |\n",
       "| 29    | -9.0  |  1.0  |  -1.6 | 0.6   | 0.6   | 0.6   | 0.29  |  2.6  | 0.0   | 0.29  |\n",
       "| 30    | -3.4  | -8.0  |  -1.4 | 0.6   | 0.6   | 0.6   | 0.30  |  6.6  | 0.0   | 0.30  |\n",
       "| ... | ... | ... | ... | ... | ... | ... | ... | ... | ... | ... |\n",
       "|  71  |  5.4 |  8.4 | -4.6 | 0.6  | 0.6  | 0.6  | 0.71 | 13.0 | 0    | 0.71 |\n",
       "|  72  |  0.4 |  6.7 | -6.0 | 0.6  | 0.6  | 0.6  | 0.72 | 12.7 | 0    | 0.72 |\n",
       "|  73  | -4.8 | -7.4 | -1.2 | 0.6  | 0.6  | 0.6  | 0.73 |  6.2 | 0    | 0.73 |\n",
       "|  74  | -5.9 |  9.0 | -2.7 | 0.6  | 0.6  | 0.6  | 0.74 | 11.7 | 0    | 0.74 |\n",
       "|  75  | -0.8 |  7.9 | -0.8 | 0.6  | 0.6  | 0.6  | 0.75 |  8.7 | 0    | 0.75 |\n",
       "|  76  | -3.2 |  2.7 | -1.5 | 0.6  | 0.6  | 0.6  | 0.76 |  4.2 | 0    | 0.76 |\n",
       "|  77  | -7.5 |  0.3 | -7.5 | 0.6  | 0.6  | 0.6  | 0.77 |  7.8 | 0    | 0.77 |\n",
       "|  78  | -4.1 | -4.8 | -1.6 | 0.6  | 0.6  | 0.6  | 0.78 |  3.2 | 0    | 0.78 |\n",
       "|  79  |  0.5 |  9.4 | -6.1 | 0.6  | 0.6  | 0.6  | 0.79 | 15.5 | 0    | 0.79 |\n",
       "|  80  | -6.9 |  6.9 | -2.6 | 0.6  | 0.6  | 0.6  | 0.80 |  9.5 | 0    | 0.80 |\n",
       "|  81  |  1.8 |  2.0 | -9.0 | 0.6  | 0.6  | 0.6  | 0.81 | 11.0 | 0    | 0.81 |\n",
       "|  82  | -2.6 | -8.2 | -1.3 | 0.6  | 0.6  | 0.6  | 0.82 |  6.9 | 0    | 0.82 |\n",
       "|  83  |  0.4 |  8.9 | -4.0 | 0.6  | 0.6  | 0.6  | 0.83 | 12.9 | 0    | 0.83 |\n",
       "|  84  |  2.2 |  4.3 | -3.3 | 0.6  | 0.6  | 0.6  | 0.84 |  7.6 | 0    | 0.84 |\n",
       "|  85  |  6.6 |  8.9 |  0.0 | 0.6  | 0.6  | 0.6  | 0.85 |  8.9 | 0    | 0.85 |\n",
       "|  86  | -8.8 |  8.9 | -7.0 | 0.6  | 0.6  | 0.6  | 0.86 | 15.9 | 0    | 0.86 |\n",
       "|  87  | -0.7 | -8.4 | -0.3 | 0.6  | 0.6  | 0.6  | 0.87 |  8.1 | 0    | 0.87 |\n",
       "|  88  | 10.0 |  5.7 | -4.2 | 0.6  | 0.6  | 0.6  | 0.88 |  9.9 | 0    | 0.88 |\n",
       "|  89  | -4.5 | -5.9 | -3.3 | 0.6  | 0.6  | 0.6  | 0.89 |  2.6 | 0    | 0.89 |\n",
       "|  90  | -5.7 |  7.4 | -2.9 | 0.6  | 0.6  | 0.6  | 0.90 | 10.3 | 0    | 0.90 |\n",
       "|  91  |  0.4 |  8.6 | -2.6 | 0.6  | 0.6  | 0.6  | 0.91 | 11.2 | 0    | 0.91 |\n",
       "|  92  | -0.5 |  2.0 | -0.3 | 0.6  | 0.6  | 0.6  | 0.92 |  2.3 | 0    | 0.92 |\n",
       "|  93  |  8.0 |  9.7 | -3.4 | 0.6  | 0.6  | 0.6  | 0.93 | 13.1 | 0    | 0.93 |\n",
       "|  94  |  3.8 |  6.9 | -1.8 | 0.6  | 0.6  | 0.6  | 0.94 |  8.7 | 0    | 0.94 |\n",
       "|  95  |  6.6 |  8.5 |  6.5 | 0.6  | 0.6  | 0.6  | 0.95 |  2.0 | 0    | 0.95 |\n",
       "|  96  | -1.2 | -1.5 | -0.8 | 0.6  | 0.6  | 0.6  | 0.96 |  0.7 | 0    | 0.96 |\n",
       "|  97  |  1.6 |  2.1 | -8.1 | 0.6  | 0.6  | 0.6  | 0.97 | 10.2 | 0    | 0.97 |\n",
       "|  98  |  0.0 |  3.7 | -2.9 | 0.6  | 0.6  | 0.6  | 0.98 |  6.6 | 0    | 0.98 |\n",
       "|  99  | -6.6 |  1.5 | -3.7 | 0.6  | 0.6  | 0.6  | 0.99 |  5.2 | 0    | 0.99 |\n",
       "| 100  |  6.8 |  8.7 |  5.4 | 0.6  | 0.6  | 0.6  | 1.00 |  3.3 | 0    | 1.00 |\n",
       "\n"
      ],
      "text/plain": [
       "    X   best_k upper_k lower_k best_theta upper_theta lower_theta iteration\n",
       "1    1   9.8    9.8     -9.9   0.6        0.8         0.3         0.01     \n",
       "2    2  -2.1   -3.4    -10.0   0.6        0.7         0.1         0.02     \n",
       "3    3   6.2    8.1     -1.1   0.6        0.7         0.5         0.03     \n",
       "4    4   2.2    8.5     -9.7   0.6        0.7         0.2         0.04     \n",
       "5    5   6.9    7.5     -2.0   0.6        0.7         0.6         0.05     \n",
       "6    6   4.3    8.2     -5.1   0.6        0.7         0.5         0.06     \n",
       "7    7   8.2    8.5      5.0   0.6        0.6         0.5         0.07     \n",
       "8    8   7.1    9.4     -6.1   0.6        0.6         0.5         0.08     \n",
       "9    9   2.2    9.2      0.8   0.6        0.7         0.6         0.09     \n",
       "10  10   3.3    4.1      2.3   0.6        0.6         0.6         0.10     \n",
       "11  11   1.2    4.4     -8.3   0.6        0.6         0.6         0.11     \n",
       "12  12  -6.7    2.4     -5.1   0.6        0.6         0.6         0.12     \n",
       "13  13  -6.4    5.5     -0.2   0.6        0.6         0.6         0.13     \n",
       "14  14  -8.1   -9.0     -6.7   0.6        0.7         0.6         0.14     \n",
       "15  15  -8.6    3.4     -3.9   0.6        0.6         0.6         0.15     \n",
       "16  16   0.0    1.8     -8.2   0.6        0.7         0.6         0.16     \n",
       "17  17   8.0    8.8      3.6   0.6        0.6         0.6         0.17     \n",
       "18  18  -2.4   -4.7     -1.2   0.6        0.6         0.6         0.18     \n",
       "19  19   9.3    9.5     -7.3   0.6        0.6         0.6         0.19     \n",
       "20  20  -8.3    2.5     -7.1   0.6        0.6         0.6         0.20     \n",
       "21  21   0.1    2.4     -6.2   0.6        0.6         0.6         0.21     \n",
       "22  22   4.9    8.6     -5.0   0.6        0.6         0.6         0.22     \n",
       "23  23  -8.3    9.6     -6.0   0.6        0.6         0.6         0.23     \n",
       "24  24  -1.0    8.9     -0.7   0.6        0.6         0.6         0.24     \n",
       "25  25   8.9    9.2      2.3   0.6        0.6         0.6         0.25     \n",
       "26  26   6.2    6.5     -2.5   0.6        0.6         0.6         0.26     \n",
       "27  27  -0.9   -6.7     -0.9   0.6        0.6         0.6         0.27     \n",
       "28  28  -6.5    1.6     -4.1   0.6        0.6         0.6         0.28     \n",
       "29  29  -9.0    1.0     -1.6   0.6        0.6         0.6         0.29     \n",
       "30  30  -3.4   -8.0     -1.4   0.6        0.6         0.6         0.30     \n",
       "... ... ...    ...     ...     ...        ...         ...         ...      \n",
       "71   71  5.4    8.4    -4.6    0.6        0.6         0.6         0.71     \n",
       "72   72  0.4    6.7    -6.0    0.6        0.6         0.6         0.72     \n",
       "73   73 -4.8   -7.4    -1.2    0.6        0.6         0.6         0.73     \n",
       "74   74 -5.9    9.0    -2.7    0.6        0.6         0.6         0.74     \n",
       "75   75 -0.8    7.9    -0.8    0.6        0.6         0.6         0.75     \n",
       "76   76 -3.2    2.7    -1.5    0.6        0.6         0.6         0.76     \n",
       "77   77 -7.5    0.3    -7.5    0.6        0.6         0.6         0.77     \n",
       "78   78 -4.1   -4.8    -1.6    0.6        0.6         0.6         0.78     \n",
       "79   79  0.5    9.4    -6.1    0.6        0.6         0.6         0.79     \n",
       "80   80 -6.9    6.9    -2.6    0.6        0.6         0.6         0.80     \n",
       "81   81  1.8    2.0    -9.0    0.6        0.6         0.6         0.81     \n",
       "82   82 -2.6   -8.2    -1.3    0.6        0.6         0.6         0.82     \n",
       "83   83  0.4    8.9    -4.0    0.6        0.6         0.6         0.83     \n",
       "84   84  2.2    4.3    -3.3    0.6        0.6         0.6         0.84     \n",
       "85   85  6.6    8.9     0.0    0.6        0.6         0.6         0.85     \n",
       "86   86 -8.8    8.9    -7.0    0.6        0.6         0.6         0.86     \n",
       "87   87 -0.7   -8.4    -0.3    0.6        0.6         0.6         0.87     \n",
       "88   88 10.0    5.7    -4.2    0.6        0.6         0.6         0.88     \n",
       "89   89 -4.5   -5.9    -3.3    0.6        0.6         0.6         0.89     \n",
       "90   90 -5.7    7.4    -2.9    0.6        0.6         0.6         0.90     \n",
       "91   91  0.4    8.6    -2.6    0.6        0.6         0.6         0.91     \n",
       "92   92 -0.5    2.0    -0.3    0.6        0.6         0.6         0.92     \n",
       "93   93  8.0    9.7    -3.4    0.6        0.6         0.6         0.93     \n",
       "94   94  3.8    6.9    -1.8    0.6        0.6         0.6         0.94     \n",
       "95   95  6.6    8.5     6.5    0.6        0.6         0.6         0.95     \n",
       "96   96 -1.2   -1.5    -0.8    0.6        0.6         0.6         0.96     \n",
       "97   97  1.6    2.1    -8.1    0.6        0.6         0.6         0.97     \n",
       "98   98  0.0    3.7    -2.9    0.6        0.6         0.6         0.98     \n",
       "99   99 -6.6    1.5    -3.7    0.6        0.6         0.6         0.99     \n",
       "100 100  6.8    8.7     5.4    0.6        0.6         0.6         1.00     \n",
       "    kCI  thetaCI prop_samp\n",
       "1   19.7 0.5     0.01     \n",
       "2    6.6 0.6     0.02     \n",
       "3    9.2 0.2     0.03     \n",
       "4   18.2 0.5     0.04     \n",
       "5    9.5 0.1     0.05     \n",
       "6   13.3 0.2     0.06     \n",
       "7    3.5 0.1     0.07     \n",
       "8   15.5 0.1     0.08     \n",
       "9    8.4 0.1     0.09     \n",
       "10   1.8 0.0     0.10     \n",
       "11  12.7 0.0     0.11     \n",
       "12   7.5 0.0     0.12     \n",
       "13   5.7 0.0     0.13     \n",
       "14   2.3 0.1     0.14     \n",
       "15   7.3 0.0     0.15     \n",
       "16  10.0 0.1     0.16     \n",
       "17   5.2 0.0     0.17     \n",
       "18   3.5 0.0     0.18     \n",
       "19  16.8 0.0     0.19     \n",
       "20   9.6 0.0     0.20     \n",
       "21   8.6 0.0     0.21     \n",
       "22  13.6 0.0     0.22     \n",
       "23  15.6 0.0     0.23     \n",
       "24   9.6 0.0     0.24     \n",
       "25   6.9 0.0     0.25     \n",
       "26   9.0 0.0     0.26     \n",
       "27   5.8 0.0     0.27     \n",
       "28   5.7 0.0     0.28     \n",
       "29   2.6 0.0     0.29     \n",
       "30   6.6 0.0     0.30     \n",
       "... ...  ...     ...      \n",
       "71  13.0 0       0.71     \n",
       "72  12.7 0       0.72     \n",
       "73   6.2 0       0.73     \n",
       "74  11.7 0       0.74     \n",
       "75   8.7 0       0.75     \n",
       "76   4.2 0       0.76     \n",
       "77   7.8 0       0.77     \n",
       "78   3.2 0       0.78     \n",
       "79  15.5 0       0.79     \n",
       "80   9.5 0       0.80     \n",
       "81  11.0 0       0.81     \n",
       "82   6.9 0       0.82     \n",
       "83  12.9 0       0.83     \n",
       "84   7.6 0       0.84     \n",
       "85   8.9 0       0.85     \n",
       "86  15.9 0       0.86     \n",
       "87   8.1 0       0.87     \n",
       "88   9.9 0       0.88     \n",
       "89   2.6 0       0.89     \n",
       "90  10.3 0       0.90     \n",
       "91  11.2 0       0.91     \n",
       "92   2.3 0       0.92     \n",
       "93  13.1 0       0.93     \n",
       "94   8.7 0       0.94     \n",
       "95   2.0 0       0.95     \n",
       "96   0.7 0       0.96     \n",
       "97  10.2 0       0.97     \n",
       "98   6.6 0       0.98     \n",
       "99   5.2 0       0.99     \n",
       "100  3.3 0       1.00     "
      ]
     },
     "metadata": {},
     "output_type": "display_data"
    }
   ],
   "source": [
    "SimulatedCI"
   ]
  },
  {
   "cell_type": "code",
   "execution_count": 8,
   "metadata": {},
   "outputs": [],
   "source": [
    "SimulatedCI <- SimulatedCI %>% \n",
    "    mutate(kCI=abs(upper_k-lower_k)) %>%\n",
    "    mutate(thetaCI=abs(upper_theta-lower_theta)) %>%\n",
    "    mutate(prop_samp=as.numeric(iteration))\n"
   ]
  },
  {
   "cell_type": "code",
   "execution_count": 16,
   "metadata": {},
   "outputs": [
    {
     "data": {
      "text/plain": [
       "\n",
       "\tPearson's product-moment correlation\n",
       "\n",
       "data:  SimulatedCI$kCI and SimulatedCI$prop_samp\n",
       "t = -0.64283, df = 98, p-value = 0.5218\n",
       "alternative hypothesis: true correlation is not equal to 0\n",
       "95 percent confidence interval:\n",
       " -0.2579345  0.1333156\n",
       "sample estimates:\n",
       "        cor \n",
       "-0.06479932 \n"
      ]
     },
     "metadata": {},
     "output_type": "display_data"
    },
    {
     "data": {
      "text/plain": [
       "\n",
       "\tPearson's product-moment correlation\n",
       "\n",
       "data:  SimulatedCI$thetaCI and SimulatedCI$prop_samp\n",
       "t = -4.7968, df = 98, p-value = 5.764e-06\n",
       "alternative hypothesis: true correlation is not equal to 0\n",
       "95 percent confidence interval:\n",
       " -0.5825790 -0.2620883\n",
       "sample estimates:\n",
       "       cor \n",
       "-0.4360586 \n"
      ]
     },
     "metadata": {},
     "output_type": "display_data"
    }
   ],
   "source": [
    "k_mod <- lm(kCI ~ prop_samp, data=SimulatedCI)\n",
    "cor.test(SimulatedCI$kCI, SimulatedCI$prop_samp)\n",
    "#summary(k_mod)\n",
    "theta_mod <- lm(thetaCI ~ prop_samp, data=SimulatedCI)\n",
    "cor.test(SimulatedCI$thetaCI, SimulatedCI$prop_samp)\n",
    "#summary(theta_mod)"
   ]
  },
  {
   "cell_type": "code",
   "execution_count": 9,
   "metadata": {},
   "outputs": [],
   "source": [
    "kCI <- ggplot(SimulatedCI, aes(prop_samp, best_k)) + \n",
    "    geom_point() + \n",
    "    geom_smooth(method = \"lm\") +\n",
    "    xlab(\"Sampling effort\") + \n",
    "    ylab(\"CI width (k)\")+ \n",
    "    theme(panel.grid.minor = element_blank(), panel.background = element_blank())+\n",
    "    theme_classic()\n",
    "#ggplot2::ggsave(filename=\"KCIPropSamp.pdf\", plot=kCI, path=\"~/parentage/kernel_fitting/1340_loci/final_results/simulations/\")\n",
    "\n",
    "\n",
    "thetaCI <- ggplot(SimulatedCI, aes(prop_samp, best_theta)) + \n",
    "    geom_point() + \n",
    "    geom_smooth(method = \"lm\")+\n",
    "    xlab(\"Sampling effort\") + \n",
    "    ylab(\"CI width (theta)\") + \n",
    "    theme_classic()\n",
    "#ggplot2::ggsave(filename=\"ThetaCIPropSamp.pdf\", plot=thetaCI, path=\"~/parentage/kernel_fitting/1340_loci/final_results/simulations/\")\n"
   ]
  },
  {
   "cell_type": "code",
   "execution_count": 10,
   "metadata": {},
   "outputs": [
    {
     "data": {
      "image/png": "[encoded data removed]",
      "text/plain": [
       "plot without title"
      ]
     },
     "metadata": {},
     "output_type": "display_data"
    }
   ],
   "source": [
    "thetaCI"
   ]
  },
  {
   "cell_type": "code",
   "execution_count": 39,
   "metadata": {},
   "outputs": [
    {
     "data": {
      "image/png": "[encoded data removed]",
      "text/plain": [
       "Plot with title “NA”"
      ]
     },
     "metadata": {},
     "output_type": "display_data"
    },
    {
     "data": {
      "image/png": "[encoded data removed]",
      "text/plain": [
       "Plot with title “NA”"
      ]
     },
     "metadata": {},
     "output_type": "display_data"
    }
   ],
   "source": [
    "#pdf(\"~/parentage/kernel_fitting/1340_loci/final_results/simulations/MDDCV.pdf\")\n",
    "plot(SimulatedCI$kCI~ SimulatedCI$prop_samp, main=NA, xlab= \"K CI width\")\n",
    "#dev.off()\n",
    "\n",
    "#pdf(\"~/parentage/kernel_fitting/1340_loci/final_results/simulations/ThetaCV.pdf\")\n",
    "plot(SimulatedCI$thetaCI~ SimulatedCI$prop_samp, main=NA, xlab= \"theta CI width\")\n",
    "#dev.off()\n"
   ]
  },
  {
   "cell_type": "code",
   "execution_count": 110,
   "metadata": {
    "scrolled": false
   },
   "outputs": [],
   "source": [
    "nll_df_beta$k_eval <- row.names(nll_df_beta)\n",
    "nll_df <- nll_df_beta %>%\n",
    "    gather(1:50, key=\"theta_eval\", value=\"log_like\")\n"
   ]
  },
  {
   "cell_type": "code",
   "execution_count": 61,
   "metadata": {},
   "outputs": [],
   "source": [
    "#add in the unassigned juveniles\n",
    "N_gen_offs_all <- SampledFish %>% \n",
    "    filter(input==\"offspring\") %>%\n",
    "    group_by(site) %>%\n",
    "    summarise(n_offs_gen=n())\n",
    "\n",
    "\n",
    "N_gen_offs2 <- N_gen_offs_all %>%\n",
    "    group_by(site) %>% #add group by year if doing annual\n",
    "    summarise(sampled_fish=sum(n_offs_gen)) \n",
    "\n",
    "\n",
    "offs_matched_site <- allsites_parentage %>%\n",
    "    group_by(offs_site) %>%\n",
    "    summarise(n_offs=sum(n_matches, na.rm=T))\n",
    "\n",
    "\n",
    "unassigned_beta <- left_join(sites, offs_matched_site, by=c(site=\"offs_site\")) %>%\n",
    "    select(site, n_offs) %>%\n",
    "    group_by(site) %>%\n",
    "    summarise(n_offs=sum(n_offs))\n",
    "\n",
    "unassigned_beta[is.na(unassigned_beta)] <- 0\n",
    "\n",
    "net_unassigned <- left_join(unassigned_beta, N_gen_offs2, by=\"site\") %>%\n",
    "    mutate(n_unassigned=sampled_fish-n_offs)\n",
    "\n",
    "\n",
    "#                             \n",
    "#\n",
    "#net_unassigned <- left_join(unassigned_beta, N_gen_offs_all, by=\"site\") %>%\n",
    "#    mutate(n_unassigned=sampled_fish-n_matches)\n",
    "#\n",
    "##transpose to create a row, bind to the matrix\n",
    "#\n",
    "#row2add <- net_unassigned %>%\n",
    "#    arrange(site) %>%\n",
    "#    select(n_unassigned, site) %>%\n",
    "#    group_by(site) %>%\n",
    "#    filter(row_number()==1) %>%\n",
    "#    ungroup() %>%\n",
    "#    select(n_unassigned)\n",
    "#row2addT <- as.data.frame(t(row2add))\n",
    "#colnames(row2addT) <- colnames(parmat)\n",
    "#\n",
    "#parmat <- ungroup(parmat)\n",
    "#parmat_full <- bind_rows(parmat, row2addT)\n",
    "#parmat_full[is.na(parmat_full)] <- 0\n",
    "#"
   ]
  },
  {
   "cell_type": "code",
   "execution_count": 63,
   "metadata": {},
   "outputs": [
    {
     "data": {
      "text/html": [
       "<ol class=list-inline>\n",
       "\t<li>18</li>\n",
       "\t<li>4</li>\n",
       "</ol>\n"
      ],
      "text/latex": [
       "\\begin{enumerate*}\n",
       "\\item 18\n",
       "\\item 4\n",
       "\\end{enumerate*}\n"
      ],
      "text/markdown": [
       "1. 18\n",
       "2. 4\n",
       "\n",
       "\n"
      ],
      "text/plain": [
       "[1] 18  4"
      ]
     },
     "metadata": {},
     "output_type": "display_data"
    }
   ],
   "source": [
    "dim(net_unassigned)"
   ]
  },
  {
   "cell_type": "code",
   "execution_count": 45,
   "metadata": {},
   "outputs": [
    {
     "data": {
      "text/html": [
       "<table>\n",
       "<thead><tr><th scope=col>site</th><th scope=col>total_prop_hab_sampled_anems_tidied</th></tr></thead>\n",
       "<tbody>\n",
       "\t<tr><td>Cabatoan         </td><td>0.5109890        </td></tr>\n",
       "\t<tr><td>Caridad Cemetery </td><td>0.3928571        </td></tr>\n",
       "\t<tr><td>Caridad Proper   </td><td>1.0000000        </td></tr>\n",
       "\t<tr><td>Elementary School</td><td>0.7142857        </td></tr>\n",
       "\t<tr><td>Gabas            </td><td>0.2222222        </td></tr>\n",
       "\t<tr><td>Haina            </td><td>0.2527473        </td></tr>\n",
       "\t<tr><td>Hicgop South     </td><td>0.4761905        </td></tr>\n",
       "\t<tr><td>N.Magbangon      </td><td>0.2693878        </td></tr>\n",
       "\t<tr><td>S.Magbangon      </td><td>0.3781513        </td></tr>\n",
       "\t<tr><td>Palanas          </td><td>0.6485923        </td></tr>\n",
       "\t<tr><td>Poroc Rose       </td><td>0.6593407        </td></tr>\n",
       "\t<tr><td>Poroc San Flower </td><td>0.7532468        </td></tr>\n",
       "\t<tr><td>San Agustin      </td><td>0.7899160        </td></tr>\n",
       "\t<tr><td>Sitio Baybayon   </td><td>0.3263736        </td></tr>\n",
       "\t<tr><td>Sitio Lonas      </td><td>1.0000000        </td></tr>\n",
       "\t<tr><td>Sitio Tugas      </td><td>0.0000000        </td></tr>\n",
       "\t<tr><td>Tamakin Dacot    </td><td>0.3485714        </td></tr>\n",
       "\t<tr><td>Visca            </td><td>0.6703297        </td></tr>\n",
       "\t<tr><td>Wangag           </td><td>0.3846525        </td></tr>\n",
       "</tbody>\n",
       "</table>\n"
      ],
      "text/latex": [
       "\\begin{tabular}{r|ll}\n",
       " site & total\\_prop\\_hab\\_sampled\\_anems\\_tidied\\\\\n",
       "\\hline\n",
       "\t Cabatoan          & 0.5109890        \\\\\n",
       "\t Caridad Cemetery  & 0.3928571        \\\\\n",
       "\t Caridad Proper    & 1.0000000        \\\\\n",
       "\t Elementary School & 0.7142857        \\\\\n",
       "\t Gabas             & 0.2222222        \\\\\n",
       "\t Haina             & 0.2527473        \\\\\n",
       "\t Hicgop South      & 0.4761905        \\\\\n",
       "\t N.Magbangon       & 0.2693878        \\\\\n",
       "\t S.Magbangon       & 0.3781513        \\\\\n",
       "\t Palanas           & 0.6485923        \\\\\n",
       "\t Poroc Rose        & 0.6593407        \\\\\n",
       "\t Poroc San Flower  & 0.7532468        \\\\\n",
       "\t San Agustin       & 0.7899160        \\\\\n",
       "\t Sitio Baybayon    & 0.3263736        \\\\\n",
       "\t Sitio Lonas       & 1.0000000        \\\\\n",
       "\t Sitio Tugas       & 0.0000000        \\\\\n",
       "\t Tamakin Dacot     & 0.3485714        \\\\\n",
       "\t Visca             & 0.6703297        \\\\\n",
       "\t Wangag            & 0.3846525        \\\\\n",
       "\\end{tabular}\n"
      ],
      "text/markdown": [
       "\n",
       "| site | total_prop_hab_sampled_anems_tidied |\n",
       "|---|---|\n",
       "| Cabatoan          | 0.5109890         |\n",
       "| Caridad Cemetery  | 0.3928571         |\n",
       "| Caridad Proper    | 1.0000000         |\n",
       "| Elementary School | 0.7142857         |\n",
       "| Gabas             | 0.2222222         |\n",
       "| Haina             | 0.2527473         |\n",
       "| Hicgop South      | 0.4761905         |\n",
       "| N.Magbangon       | 0.2693878         |\n",
       "| S.Magbangon       | 0.3781513         |\n",
       "| Palanas           | 0.6485923         |\n",
       "| Poroc Rose        | 0.6593407         |\n",
       "| Poroc San Flower  | 0.7532468         |\n",
       "| San Agustin       | 0.7899160         |\n",
       "| Sitio Baybayon    | 0.3263736         |\n",
       "| Sitio Lonas       | 1.0000000         |\n",
       "| Sitio Tugas       | 0.0000000         |\n",
       "| Tamakin Dacot     | 0.3485714         |\n",
       "| Visca             | 0.6703297         |\n",
       "| Wangag            | 0.3846525         |\n",
       "\n"
      ],
      "text/plain": [
       "   site              total_prop_hab_sampled_anems_tidied\n",
       "1  Cabatoan          0.5109890                          \n",
       "2  Caridad Cemetery  0.3928571                          \n",
       "3  Caridad Proper    1.0000000                          \n",
       "4  Elementary School 0.7142857                          \n",
       "5  Gabas             0.2222222                          \n",
       "6  Haina             0.2527473                          \n",
       "7  Hicgop South      0.4761905                          \n",
       "8  N.Magbangon       0.2693878                          \n",
       "9  S.Magbangon       0.3781513                          \n",
       "10 Palanas           0.6485923                          \n",
       "11 Poroc Rose        0.6593407                          \n",
       "12 Poroc San Flower  0.7532468                          \n",
       "13 San Agustin       0.7899160                          \n",
       "14 Sitio Baybayon    0.3263736                          \n",
       "15 Sitio Lonas       1.0000000                          \n",
       "16 Sitio Tugas       0.0000000                          \n",
       "17 Tamakin Dacot     0.3485714                          \n",
       "18 Visca             0.6703297                          \n",
       "19 Wangag            0.3846525                          "
      ]
     },
     "metadata": {},
     "output_type": "display_data"
    }
   ],
   "source": [
    "#add in the unassigned juveniles\n",
    "N_gen_offs_all <- SampledFish %>% \n",
    "    filter(input==\"offspring\") %>%\n",
    "    group_by(site) %>%\n",
    "    summarise(n_offs_gen=n())\n",
    "\n",
    "\n",
    "N_gen_offs2 <- N_gen_offs_all %>%\n",
    "    group_by(site) %>% #add group by year if doing annual\n",
    "    summarise(sampled_fish=sum(n_offs_gen)) \n",
    "\n",
    "\n",
    "#make dataframe with column for unassigned juveniles in each column (offspring site)\n",
    "offs_matched_site <- allsites_parentage %>%\n",
    "    group_by(offs_site) %>%\n",
    "    summarise(n_offs=sum(n_matches, na.rm=T))\n",
    "\n",
    "unassigned_beta <- semi_join(offs_matched_site, sites, by=c(offs_site=\"site\")) %>%\n",
    "    ungroup() %>%\n",
    "    select(offs_site, n_offs)\n",
    "\n",
    "#unassigned_beta[is.na(unassigned_beta)] <- 0\n",
    "\n",
    "\n",
    "net_unassigned <- left_join(unassigned_beta, N_gen_offs2, by=c(offs_site=\"site\")) %>%\n",
    "    mutate(n_unassigned=sampled_fish-n_offs)\n",
    "#transpose to create a row, bind to the matrix\n",
    "\n",
    "row2add <- net_unassigned %>%\n",
    "    arrange(offs_site) %>%\n",
    "    select(n_unassigned, offs_site) %>%\n",
    "    group_by(offs_site) %>%\n",
    "    filter(row_number()==1) %>%\n",
    "    ungroup() %>%\n",
    "    select(n_unassigned)\n",
    "row2addT <- as.data.frame(t(row2add))\n",
    "colnames(row2addT) <- colnames(parmat)\n",
    "\n",
    "parmat <- ungroup(parmat)\n",
    "parmat_full <- bind_rows(parmat, row2addT)\n",
    "parmat_full[is.na(parmat_full)] <- 0\n"
   ]
  },
  {
   "cell_type": "code",
   "execution_count": 33,
   "metadata": {},
   "outputs": [
    {
     "data": {
      "text/html": [
       "<ol class=list-inline>\n",
       "\t<li>18</li>\n",
       "\t<li>2</li>\n",
       "</ol>\n"
      ],
      "text/latex": [
       "\\begin{enumerate*}\n",
       "\\item 18\n",
       "\\item 2\n",
       "\\end{enumerate*}\n"
      ],
      "text/markdown": [
       "1. 18\n",
       "2. 2\n",
       "\n",
       "\n"
      ],
      "text/plain": [
       "[1] 18  2"
      ]
     },
     "metadata": {},
     "output_type": "display_data"
    },
    {
     "data": {
      "text/html": [
       "<table>\n",
       "<thead><tr><th scope=col>offs_site</th><th scope=col>par_site</th><th scope=col>n_matches</th></tr></thead>\n",
       "<tbody>\n",
       "\t<tr><td>S.Magbangon</td><td>Palanas    </td><td>1          </td></tr>\n",
       "</tbody>\n",
       "</table>\n"
      ],
      "text/latex": [
       "\\begin{tabular}{r|lll}\n",
       " offs\\_site & par\\_site & n\\_matches\\\\\n",
       "\\hline\n",
       "\t S.Magbangon & Palanas     & 1          \\\\\n",
       "\\end{tabular}\n"
      ],
      "text/markdown": [
       "\n",
       "| offs_site | par_site | n_matches |\n",
       "|---|---|---|\n",
       "| S.Magbangon | Palanas     | 1           |\n",
       "\n"
      ],
      "text/plain": [
       "  offs_site   par_site n_matches\n",
       "1 S.Magbangon Palanas  1        "
      ]
     },
     "metadata": {},
     "output_type": "display_data"
    }
   ],
   "source": [
    "sites_all_beta <- sampled_sites %>%\n",
    "    rename(par_site = \"site\") \n",
    "#undo here if there's a mistake 06/04/2019\n",
    "sites_all_beta$offs_site <- sites_all_beta$par_site\n",
    "\n",
    "\n",
    "allsites_parentage_NEM <- full_join(sites_all, total_all_years_NEM, by=c(\"par_site\", \"offs_site\")) %>%\n",
    "    group_by(offs_site, par_site) %>%\n",
    "    filter(row_number()==1) %>%\n",
    "    arrange(offs_site, par_site) %>%#be very careful to keep everything in alphabetical order, consitent with the \"pop\" indexing used in MigEst.\n",
    "    ungroup()"
   ]
  },
  {
   "cell_type": "code",
   "execution_count": null,
   "metadata": {},
   "outputs": [],
   "source": [
    "##add in the unassigned juveniles\n",
    "#N_gen_offs_all <- SampledFish %>% \n",
    "#    filter(input==\"offspring\") %>%\n",
    "#    group_by(site) %>%\n",
    "#    summarise(n_offs_gen=n())\n",
    "#\n",
    "#\n",
    "#N_gen_offs2 <- N_gen_offs_all %>%\n",
    "#    group_by(site) %>% #add group by year if doing annual\n",
    "#    summarise(sampled_fish=sum(n_offs_gen)) \n",
    "#\n",
    "#\n",
    "##make dataframe with column for unassigned juveniles in each column (offspring site)\n",
    "#offs_matched_site <- allsites_parentage %>%\n",
    "#    group_by(offs_site) %>%\n",
    "#    summarise(n_offs=sum(n_matches, na.rm=T))\n",
    "#\n",
    "#unassigned_beta <- semi_join(offs_matched_site, sites, by=c(offs_site=\"site\")) %>%\n",
    "#    ungroup() %>%\n",
    "#    select(offs_site, n_offs)\n",
    "#\n",
    "##unassigned_beta[is.na(unassigned_beta)] <- 0\n",
    "#\n",
    "#\n",
    "#net_unassigned <- left_join(unassigned_beta, N_gen_offs2, by=c(offs_site=\"site\")) %>%\n",
    "#    mutate(n_unassigned=sampled_fish-n_offs)\n",
    "##transpose to create a row, bind to the matrix\n",
    "#\n",
    "#row2add <- net_unassigned %>%\n",
    "#    arrange(offs_site) %>%\n",
    "#    select(n_unassigned, offs_site) %>%\n",
    "#    group_by(offs_site) %>%\n",
    "#    filter(row_number()==1) %>%\n",
    "#    ungroup() %>%\n",
    "#    select(n_unassigned)\n",
    "#row2addT <- as.data.frame(t(row2add))\n",
    "#colnames(row2addT) <- colnames(parmat)\n",
    "#\n",
    "#parmat <- ungroup(parmat)\n",
    "#parmat_full <- bind_rows(parmat, row2addT)\n",
    "#parmat_full[is.na(parmat_full)] <- 0\n",
    "#"
   ]
  },
  {
   "cell_type": "code",
   "execution_count": 32,
   "metadata": {},
   "outputs": [],
   "source": [
    "Assignments <- as.matrix(read.csv(\"~/parentage/kernel_fitting/1340_loci/input/parentage_matrix_allyears.csv\", header=FALSE))\n"
   ]
  },
  {
   "cell_type": "code",
   "execution_count": 42,
   "metadata": {},
   "outputs": [
    {
     "data": {
      "text/html": [
       "<ol class=list-inline>\n",
       "\t<li>19</li>\n",
       "\t<li>18</li>\n",
       "</ol>\n"
      ],
      "text/latex": [
       "\\begin{enumerate*}\n",
       "\\item 19\n",
       "\\item 18\n",
       "\\end{enumerate*}\n"
      ],
      "text/markdown": [
       "1. 19\n",
       "2. 18\n",
       "\n",
       "\n"
      ],
      "text/plain": [
       "[1] 19 18"
      ]
     },
     "metadata": {},
     "output_type": "display_data"
    }
   ],
   "source": [
    "dim(Assignments)"
   ]
  },
  {
   "cell_type": "code",
   "execution_count": 5,
   "metadata": {},
   "outputs": [
    {
     "data": {
      "text/html": [
       "<table>\n",
       "<thead><tr><th scope=col>par_site</th><th scope=col>offs_site</th></tr></thead>\n",
       "<tbody>\n",
       "\t<tr><td>Cabatoan         </td><td>Cabatoan         </td></tr>\n",
       "\t<tr><td>Caridad Cemetery </td><td>Caridad Cemetery </td></tr>\n",
       "\t<tr><td>Caridad Proper   </td><td>Caridad Proper   </td></tr>\n",
       "\t<tr><td>Elementary School</td><td>Elementary School</td></tr>\n",
       "\t<tr><td>Gabas            </td><td>Gabas            </td></tr>\n",
       "\t<tr><td>Haina            </td><td>Haina            </td></tr>\n",
       "\t<tr><td>Hicgop South     </td><td>Hicgop South     </td></tr>\n",
       "\t<tr><td>N.Magbangon      </td><td>N.Magbangon      </td></tr>\n",
       "\t<tr><td>S.Magbangon      </td><td>S.Magbangon      </td></tr>\n",
       "\t<tr><td>Palanas          </td><td>Palanas          </td></tr>\n",
       "\t<tr><td>Poroc Rose       </td><td>Poroc Rose       </td></tr>\n",
       "\t<tr><td>Poroc San Flower </td><td>Poroc San Flower </td></tr>\n",
       "\t<tr><td>San Agustin      </td><td>San Agustin      </td></tr>\n",
       "\t<tr><td>Sitio Baybayon   </td><td>Sitio Baybayon   </td></tr>\n",
       "\t<tr><td>Sitio Lonas      </td><td>Sitio Lonas      </td></tr>\n",
       "\t<tr><td>Tamakin Dacot    </td><td>Tamakin Dacot    </td></tr>\n",
       "\t<tr><td>Visca            </td><td>Visca            </td></tr>\n",
       "\t<tr><td>Wangag           </td><td>Wangag           </td></tr>\n",
       "</tbody>\n",
       "</table>\n"
      ],
      "text/latex": [
       "\\begin{tabular}{r|ll}\n",
       " par\\_site & offs\\_site\\\\\n",
       "\\hline\n",
       "\t Cabatoan          & Cabatoan         \\\\\n",
       "\t Caridad Cemetery  & Caridad Cemetery \\\\\n",
       "\t Caridad Proper    & Caridad Proper   \\\\\n",
       "\t Elementary School & Elementary School\\\\\n",
       "\t Gabas             & Gabas            \\\\\n",
       "\t Haina             & Haina            \\\\\n",
       "\t Hicgop South      & Hicgop South     \\\\\n",
       "\t N.Magbangon       & N.Magbangon      \\\\\n",
       "\t S.Magbangon       & S.Magbangon      \\\\\n",
       "\t Palanas           & Palanas          \\\\\n",
       "\t Poroc Rose        & Poroc Rose       \\\\\n",
       "\t Poroc San Flower  & Poroc San Flower \\\\\n",
       "\t San Agustin       & San Agustin      \\\\\n",
       "\t Sitio Baybayon    & Sitio Baybayon   \\\\\n",
       "\t Sitio Lonas       & Sitio Lonas      \\\\\n",
       "\t Tamakin Dacot     & Tamakin Dacot    \\\\\n",
       "\t Visca             & Visca            \\\\\n",
       "\t Wangag            & Wangag           \\\\\n",
       "\\end{tabular}\n"
      ],
      "text/markdown": [
       "\n",
       "| par_site | offs_site |\n",
       "|---|---|\n",
       "| Cabatoan          | Cabatoan          |\n",
       "| Caridad Cemetery  | Caridad Cemetery  |\n",
       "| Caridad Proper    | Caridad Proper    |\n",
       "| Elementary School | Elementary School |\n",
       "| Gabas             | Gabas             |\n",
       "| Haina             | Haina             |\n",
       "| Hicgop South      | Hicgop South      |\n",
       "| N.Magbangon       | N.Magbangon       |\n",
       "| S.Magbangon       | S.Magbangon       |\n",
       "| Palanas           | Palanas           |\n",
       "| Poroc Rose        | Poroc Rose        |\n",
       "| Poroc San Flower  | Poroc San Flower  |\n",
       "| San Agustin       | San Agustin       |\n",
       "| Sitio Baybayon    | Sitio Baybayon    |\n",
       "| Sitio Lonas       | Sitio Lonas       |\n",
       "| Tamakin Dacot     | Tamakin Dacot     |\n",
       "| Visca             | Visca             |\n",
       "| Wangag            | Wangag            |\n",
       "\n"
      ],
      "text/plain": [
       "   par_site          offs_site        \n",
       "1  Cabatoan          Cabatoan         \n",
       "2  Caridad Cemetery  Caridad Cemetery \n",
       "3  Caridad Proper    Caridad Proper   \n",
       "4  Elementary School Elementary School\n",
       "5  Gabas             Gabas            \n",
       "6  Haina             Haina            \n",
       "7  Hicgop South      Hicgop South     \n",
       "8  N.Magbangon       N.Magbangon      \n",
       "9  S.Magbangon       S.Magbangon      \n",
       "10 Palanas           Palanas          \n",
       "11 Poroc Rose        Poroc Rose       \n",
       "12 Poroc San Flower  Poroc San Flower \n",
       "13 San Agustin       San Agustin      \n",
       "14 Sitio Baybayon    Sitio Baybayon   \n",
       "15 Sitio Lonas       Sitio Lonas      \n",
       "16 Tamakin Dacot     Tamakin Dacot    \n",
       "17 Visca             Visca            \n",
       "18 Wangag            Wangag           "
      ]
     },
     "metadata": {},
     "output_type": "display_data"
    }
   ],
   "source": [
    "sites_all_beta"
   ]
  },
  {
   "cell_type": "code",
   "execution_count": 45,
   "metadata": {},
   "outputs": [
    {
     "data": {
      "text/html": [
       "<table>\n",
       "<thead><tr><th scope=col>par_site</th><th scope=col>offs_site</th><th scope=col>n_matches</th></tr></thead>\n",
       "<tbody>\n",
       "\t<tr><td>Cabatoan         </td><td>Cabatoan         </td><td>NA               </td></tr>\n",
       "\t<tr><td>Caridad Cemetery </td><td>Caridad Cemetery </td><td>NA               </td></tr>\n",
       "\t<tr><td>Caridad Proper   </td><td>Caridad Proper   </td><td>NA               </td></tr>\n",
       "\t<tr><td>Elementary School</td><td>Elementary School</td><td>NA               </td></tr>\n",
       "\t<tr><td>Gabas            </td><td>Gabas            </td><td>NA               </td></tr>\n",
       "\t<tr><td>Haina            </td><td>Haina            </td><td>NA               </td></tr>\n",
       "\t<tr><td>Hicgop South     </td><td>Hicgop South     </td><td>NA               </td></tr>\n",
       "\t<tr><td>N.Magbangon      </td><td>N.Magbangon      </td><td>NA               </td></tr>\n",
       "\t<tr><td>Palanas          </td><td>Palanas          </td><td>NA               </td></tr>\n",
       "\t<tr><td>Poroc Rose       </td><td>Poroc Rose       </td><td>NA               </td></tr>\n",
       "\t<tr><td>Poroc San Flower </td><td>Poroc San Flower </td><td>NA               </td></tr>\n",
       "\t<tr><td>S.Magbangon      </td><td>S.Magbangon      </td><td>NA               </td></tr>\n",
       "\t<tr><td>San Agustin      </td><td>San Agustin      </td><td>NA               </td></tr>\n",
       "\t<tr><td>Sitio Baybayon   </td><td>Sitio Baybayon   </td><td>NA               </td></tr>\n",
       "\t<tr><td>Wangag           </td><td>Sitio Baybayon   </td><td> 1               </td></tr>\n",
       "\t<tr><td>Sitio Lonas      </td><td>Sitio Lonas      </td><td>NA               </td></tr>\n",
       "\t<tr><td>Tamakin Dacot    </td><td>Tamakin Dacot    </td><td>NA               </td></tr>\n",
       "\t<tr><td>Visca            </td><td>Visca            </td><td>NA               </td></tr>\n",
       "\t<tr><td>Wangag           </td><td>Wangag           </td><td>NA               </td></tr>\n",
       "</tbody>\n",
       "</table>\n"
      ],
      "text/latex": [
       "\\begin{tabular}{r|lll}\n",
       " par\\_site & offs\\_site & n\\_matches\\\\\n",
       "\\hline\n",
       "\t Cabatoan          & Cabatoan          & NA               \\\\\n",
       "\t Caridad Cemetery  & Caridad Cemetery  & NA               \\\\\n",
       "\t Caridad Proper    & Caridad Proper    & NA               \\\\\n",
       "\t Elementary School & Elementary School & NA               \\\\\n",
       "\t Gabas             & Gabas             & NA               \\\\\n",
       "\t Haina             & Haina             & NA               \\\\\n",
       "\t Hicgop South      & Hicgop South      & NA               \\\\\n",
       "\t N.Magbangon       & N.Magbangon       & NA               \\\\\n",
       "\t Palanas           & Palanas           & NA               \\\\\n",
       "\t Poroc Rose        & Poroc Rose        & NA               \\\\\n",
       "\t Poroc San Flower  & Poroc San Flower  & NA               \\\\\n",
       "\t S.Magbangon       & S.Magbangon       & NA               \\\\\n",
       "\t San Agustin       & San Agustin       & NA               \\\\\n",
       "\t Sitio Baybayon    & Sitio Baybayon    & NA               \\\\\n",
       "\t Wangag            & Sitio Baybayon    &  1               \\\\\n",
       "\t Sitio Lonas       & Sitio Lonas       & NA               \\\\\n",
       "\t Tamakin Dacot     & Tamakin Dacot     & NA               \\\\\n",
       "\t Visca             & Visca             & NA               \\\\\n",
       "\t Wangag            & Wangag            & NA               \\\\\n",
       "\\end{tabular}\n"
      ],
      "text/markdown": [
       "\n",
       "| par_site | offs_site | n_matches |\n",
       "|---|---|---|\n",
       "| Cabatoan          | Cabatoan          | NA                |\n",
       "| Caridad Cemetery  | Caridad Cemetery  | NA                |\n",
       "| Caridad Proper    | Caridad Proper    | NA                |\n",
       "| Elementary School | Elementary School | NA                |\n",
       "| Gabas             | Gabas             | NA                |\n",
       "| Haina             | Haina             | NA                |\n",
       "| Hicgop South      | Hicgop South      | NA                |\n",
       "| N.Magbangon       | N.Magbangon       | NA                |\n",
       "| Palanas           | Palanas           | NA                |\n",
       "| Poroc Rose        | Poroc Rose        | NA                |\n",
       "| Poroc San Flower  | Poroc San Flower  | NA                |\n",
       "| S.Magbangon       | S.Magbangon       | NA                |\n",
       "| San Agustin       | San Agustin       | NA                |\n",
       "| Sitio Baybayon    | Sitio Baybayon    | NA                |\n",
       "| Wangag            | Sitio Baybayon    |  1                |\n",
       "| Sitio Lonas       | Sitio Lonas       | NA                |\n",
       "| Tamakin Dacot     | Tamakin Dacot     | NA                |\n",
       "| Visca             | Visca             | NA                |\n",
       "| Wangag            | Wangag            | NA                |\n",
       "\n"
      ],
      "text/plain": [
       "   par_site          offs_site         n_matches\n",
       "1  Cabatoan          Cabatoan          NA       \n",
       "2  Caridad Cemetery  Caridad Cemetery  NA       \n",
       "3  Caridad Proper    Caridad Proper    NA       \n",
       "4  Elementary School Elementary School NA       \n",
       "5  Gabas             Gabas             NA       \n",
       "6  Haina             Haina             NA       \n",
       "7  Hicgop South      Hicgop South      NA       \n",
       "8  N.Magbangon       N.Magbangon       NA       \n",
       "9  Palanas           Palanas           NA       \n",
       "10 Poroc Rose        Poroc Rose        NA       \n",
       "11 Poroc San Flower  Poroc San Flower  NA       \n",
       "12 S.Magbangon       S.Magbangon       NA       \n",
       "13 San Agustin       San Agustin       NA       \n",
       "14 Sitio Baybayon    Sitio Baybayon    NA       \n",
       "15 Wangag            Sitio Baybayon     1       \n",
       "16 Sitio Lonas       Sitio Lonas       NA       \n",
       "17 Tamakin Dacot     Tamakin Dacot     NA       \n",
       "18 Visca             Visca             NA       \n",
       "19 Wangag            Wangag            NA       "
      ]
     },
     "metadata": {},
     "output_type": "display_data"
    }
   ],
   "source": [
    "allsites_parentage"
   ]
  },
  {
   "cell_type": "code",
   "execution_count": null,
   "metadata": {},
   "outputs": [],
   "source": []
  }
 ],
 "metadata": {
  "kernelspec": {
   "display_name": "R",
   "language": "R",
   "name": "ir"
  },
  "language_info": {
   "codemirror_mode": "r",
   "file_extension": ".r",
   "mimetype": "text/x-r-source",
   "name": "R",
   "pygments_lexer": "r",
   "version": "3.6.1"
  }
 },
 "nbformat": 4,
 "nbformat_minor": 2
}
